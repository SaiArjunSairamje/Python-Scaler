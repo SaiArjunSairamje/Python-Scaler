{
  "nbformat": 4,
  "nbformat_minor": 0,
  "metadata": {
    "colab": {
      "provenance": [],
      "include_colab_link": true
    },
    "kernelspec": {
      "name": "python3",
      "display_name": "Python 3"
    },
    "language_info": {
      "name": "python"
    }
  },
  "cells": [
    {
      "cell_type": "markdown",
      "metadata": {
        "id": "view-in-github",
        "colab_type": "text"
      },
      "source": [
        "<a href=\"https://colab.research.google.com/github/SaiArjunSairamje/Python_Libraries/blob/main/02.1%20Numpy_2%20(Dataset-2D%3A%20Fitbit_User_Analysis_Cont...)%20.ipynb\" target=\"_parent\"><img src=\"https://colab.research.google.com/assets/colab-badge.svg\" alt=\"Open In Colab\"/></a>"
      ]
    },
    {
      "cell_type": "markdown",
      "source": [
        "# **Importing the Libraries and Dataset \"Fitbit (Cont...)\"**\n",
        "***"
      ],
      "metadata": {
        "id": "FxEdHkhPyFDQ"
      }
    },
    {
      "cell_type": "code",
      "source": [
        "import numpy as np"
      ],
      "metadata": {
        "id": "-yBWVSBwhEXt"
      },
      "execution_count": 1,
      "outputs": []
    },
    {
      "cell_type": "code",
      "source": [
        "#How to load a text file???\n",
        "#NOTE: we need to upload the file as well for the code to run...\n",
        "data = np.loadtxt('fit.txt' , dtype = 'str')"
      ],
      "metadata": {
        "id": "KykwzCDKdkx9"
      },
      "execution_count": 2,
      "outputs": []
    },
    {
      "cell_type": "code",
      "source": [
        "print(data)   #rows also called as records & columns also called as fields or attributes"
      ],
      "metadata": {
        "colab": {
          "base_uri": "https://localhost:8080/"
        },
        "id": "WmWZk1EphCwc",
        "outputId": "95ac7b11-4991-46a4-d85a-671c9f48159c"
      },
      "execution_count": 3,
      "outputs": [
        {
          "output_type": "stream",
          "name": "stdout",
          "text": [
            "[['06-10-2017' '5464' 'Neutral' '181' '5' 'Inactive']\n",
            " ['07-10-2017' '6041' 'Sad' '197' '8' 'Inactive']\n",
            " ['08-10-2017' '25' 'Sad' '0' '5' 'Inactive']\n",
            " ['09-10-2017' '5461' 'Sad' '174' '4' 'Inactive']\n",
            " ['10-10-2017' '6915' 'Neutral' '223' '5' 'Active']\n",
            " ['11-10-2017' '4545' 'Sad' '149' '6' 'Inactive']\n",
            " ['12-10-2017' '4340' 'Sad' '140' '6' 'Inactive']\n",
            " ['13-10-2017' '1230' 'Sad' '38' '7' 'Inactive']\n",
            " ['14-10-2017' '61' 'Sad' '1' '5' 'Inactive']\n",
            " ['15-10-2017' '1258' 'Sad' '40' '6' 'Inactive']\n",
            " ['16-10-2017' '3148' 'Sad' '101' '8' 'Inactive']\n",
            " ['17-10-2017' '4687' 'Sad' '152' '5' 'Inactive']\n",
            " ['18-10-2017' '4732' 'Happy' '150' '6' 'Active']\n",
            " ['19-10-2017' '3519' 'Sad' '113' '7' 'Inactive']\n",
            " ['20-10-2017' '1580' 'Sad' '49' '5' 'Inactive']\n",
            " ['21-10-2017' '2822' 'Sad' '86' '6' 'Inactive']\n",
            " ['22-10-2017' '181' 'Sad' '6' '8' 'Inactive']\n",
            " ['23-10-2017' '3158' 'Neutral' '99' '5' 'Inactive']\n",
            " ['24-10-2017' '4383' 'Neutral' '143' '4' 'Inactive']\n",
            " ['25-10-2017' '3881' 'Neutral' '125' '5' 'Inactive']\n",
            " ['26-10-2017' '4037' 'Neutral' '129' '6' 'Inactive']\n",
            " ['27-10-2017' '202' 'Neutral' '6' '8' 'Inactive']\n",
            " ['28-10-2017' '292' 'Neutral' '9' '5' 'Inactive']\n",
            " ['29-10-2017' '330' 'Happy' '10' '6' 'Inactive']\n",
            " ['30-10-2017' '2209' 'Neutral' '72' '5' 'Inactive']\n",
            " ['31-10-2017' '4550' 'Happy' '150' '8' 'Active']\n",
            " ['01-11-2017' '4435' 'Happy' '141' '5' 'Inactive']\n",
            " ['02-11-2017' '4779' 'Happy' '156' '4' 'Inactive']\n",
            " ['03-11-2017' '1831' 'Happy' '57' '5' 'Inactive']\n",
            " ['04-11-2017' '2255' 'Happy' '72' '4' 'Inactive']\n",
            " ['05-11-2017' '539' 'Happy' '17' '5' 'Active']\n",
            " ['06-11-2017' '5464' 'Happy' '181' '4' 'Inactive']\n",
            " ['07-11-2017' '6041' 'Neutral' '197' '3' 'Inactive']\n",
            " ['08-11-2017' '4068' 'Happy' '131' '2' 'Inactive']\n",
            " ['09-11-2017' '4683' 'Happy' '154' '9' 'Inactive']\n",
            " ['10-11-2017' '4033' 'Happy' '137' '5' 'Inactive']\n",
            " ['11-11-2017' '6314' 'Happy' '193' '6' 'Active']\n",
            " ['12-11-2017' '614' 'Happy' '19' '4' 'Active']\n",
            " ['13-11-2017' '3149' 'Happy' '101' '5' 'Active']\n",
            " ['14-11-2017' '4005' 'Happy' '139' '8' 'Active']\n",
            " ['15-11-2017' '4880' 'Happy' '164' '4' 'Active']\n",
            " ['16-11-2017' '4136' 'Happy' '137' '5' 'Active']\n",
            " ['17-11-2017' '705' 'Happy' '22' '6' 'Active']\n",
            " ['18-11-2017' '570' 'Neutral' '17' '5' 'Active']\n",
            " ['19-11-2017' '269' 'Happy' '9' '6' 'Active']\n",
            " ['20-11-2017' '4275' 'Happy' '145' '5' 'Inactive']\n",
            " ['21-11-2017' '5999' 'Happy' '192' '6' 'Inactive']\n",
            " ['22-11-2017' '4421' 'Happy' '146' '5' 'Inactive']\n",
            " ['23-11-2017' '6930' 'Happy' '234' '6' 'Inactive']\n",
            " ['24-11-2017' '5195' 'Happy' '167' '5' 'Inactive']\n",
            " ['25-11-2017' '546' 'Happy' '16' '6' 'Inactive']\n",
            " ['26-11-2017' '493' 'Happy' '17' '7' 'Active']\n",
            " ['27-11-2017' '995' 'Happy' '32' '6' 'Active']\n",
            " ['28-11-2017' '1163' 'Neutral' '35' '7' 'Active']\n",
            " ['29-11-2017' '6676' 'Sad' '220' '6' 'Active']\n",
            " ['30-11-2017' '3608' 'Happy' '116' '5' 'Active']\n",
            " ['01-12-2017' '774' 'Happy' '23' '6' 'Active']\n",
            " ['02-12-2017' '1421' 'Happy' '44' '7' 'Active']\n",
            " ['03-12-2017' '4064' 'Happy' '131' '8' 'Active']\n",
            " ['04-12-2017' '2725' 'Happy' '86' '8' 'Active']\n",
            " ['05-12-2017' '5934' 'Happy' '194' '7' 'Active']\n",
            " ['06-12-2017' '1867' 'Happy' '60' '8' 'Active']\n",
            " ['07-12-2017' '3721' 'Sad' '121' '5' 'Active']\n",
            " ['08-12-2017' '2374' 'Neutral' '76' '4' 'Inactive']\n",
            " ['09-12-2017' '2909' 'Neutral' '93' '3' 'Active']\n",
            " ['10-12-2017' '1648' 'Sad' '53' '3' 'Active']\n",
            " ['11-12-2017' '799' 'Sad' '25' '4' 'Inactive']\n",
            " ['12-12-2017' '7102' 'Neutral' '227' '5' 'Active']\n",
            " ['13-12-2017' '3941' 'Neutral' '125' '5' 'Active']\n",
            " ['14-12-2017' '7422' 'Happy' '243' '5' 'Active']\n",
            " ['15-12-2017' '437' 'Neutral' '14' '3' 'Active']\n",
            " ['16-12-2017' '1231' 'Neutral' '39' '4' 'Active']\n",
            " ['17-12-2017' '1696' 'Sad' '55' '4' 'Inactive']\n",
            " ['18-12-2017' '4921' 'Neutral' '158' '5' 'Active']\n",
            " ['19-12-2017' '221' 'Sad' '7' '5' 'Active']\n",
            " ['20-12-2017' '6500' 'Neutral' '213' '5' 'Active']\n",
            " ['21-12-2017' '3575' 'Neutral' '116' '5' 'Active']\n",
            " ['22-12-2017' '4061' 'Sad' '129' '5' 'Inactive']\n",
            " ['23-12-2017' '651' 'Sad' '21' '5' 'Inactive']\n",
            " ['24-12-2017' '753' 'Sad' '28' '4' 'Inactive']\n",
            " ['25-12-2017' '518' 'Sad' '16' '3' 'Inactive']\n",
            " ['26-12-2017' '5537' 'Happy' '180' '4' 'Active']\n",
            " ['27-12-2017' '4108' 'Neutral' '138' '5' 'Active']\n",
            " ['28-12-2017' '5376' 'Happy' '176' '5' 'Active']\n",
            " ['29-12-2017' '3066' 'Neutral' '99' '4' 'Active']\n",
            " ['30-12-2017' '177' 'Sad' '5' '5' 'Inactive']\n",
            " ['31-12-2017' '36' 'Sad' '1' '3' 'Inactive']\n",
            " ['01-01-2018' '299' 'Sad' '10' '3' 'Inactive']\n",
            " ['02-01-2018' '1447' 'Neutral' '47' '3' 'Inactive']\n",
            " ['03-01-2018' '2599' 'Neutral' '84' '2' 'Inactive']\n",
            " ['04-01-2018' '702' 'Sad' '23' '3' 'Inactive']\n",
            " ['05-01-2018' '133' 'Sad' '4' '2' 'Inactive']\n",
            " ['06-01-2018' '153' 'Happy' '0' '8' 'Inactive']\n",
            " ['07-01-2018' '500' 'Neutral' '0' '5' 'Active']\n",
            " ['08-01-2018' '2127' 'Neutral' '0' '5' 'Inactive']\n",
            " ['09-01-2018' '2203' 'Happy' '0' '5' 'Active']]\n"
          ]
        }
      ]
    },
    {
      "cell_type": "code",
      "source": [
        "data.ndim  #no. of dimensions"
      ],
      "metadata": {
        "colab": {
          "base_uri": "https://localhost:8080/"
        },
        "id": "XRDFolwchK4R",
        "outputId": "74db94ee-53b5-4af1-fdfa-8b60ee9f3366"
      },
      "execution_count": 4,
      "outputs": [
        {
          "output_type": "execute_result",
          "data": {
            "text/plain": [
              "2"
            ]
          },
          "metadata": {},
          "execution_count": 4
        }
      ]
    },
    {
      "cell_type": "code",
      "source": [
        "data.shape  #no. of rows & columns in a 2D-array"
      ],
      "metadata": {
        "colab": {
          "base_uri": "https://localhost:8080/"
        },
        "id": "1sYEECKJiEON",
        "outputId": "902f19df-7cf3-45e7-c4d9-61189512ad46"
      },
      "execution_count": 5,
      "outputs": [
        {
          "output_type": "execute_result",
          "data": {
            "text/plain": [
              "(96, 6)"
            ]
          },
          "metadata": {},
          "execution_count": 5
        }
      ]
    },
    {
      "cell_type": "code",
      "source": [
        "#How to access the 1st record???\n",
        "data[0]"
      ],
      "metadata": {
        "colab": {
          "base_uri": "https://localhost:8080/"
        },
        "id": "XfFf3cWqiKYf",
        "outputId": "89519cd3-d139-4bdb-c160-ba3b2e95f9d9"
      },
      "execution_count": 6,
      "outputs": [
        {
          "output_type": "execute_result",
          "data": {
            "text/plain": [
              "array(['06-10-2017', '5464', 'Neutral', '181', '5', 'Inactive'],\n",
              "      dtype='<U10')"
            ]
          },
          "metadata": {},
          "execution_count": 6
        }
      ]
    },
    {
      "cell_type": "code",
      "source": [
        "print(data[1])"
      ],
      "metadata": {
        "colab": {
          "base_uri": "https://localhost:8080/"
        },
        "id": "Z2TsYwvxiZTU",
        "outputId": "aa019078-7e2a-4df6-e0e5-81ddc95e63a8"
      },
      "execution_count": 7,
      "outputs": [
        {
          "output_type": "stream",
          "name": "stdout",
          "text": [
            "['07-10-2017' '6041' 'Sad' '197' '8' 'Inactive']\n"
          ]
        }
      ]
    },
    {
      "cell_type": "code",
      "source": [
        "print(data[:5])    #top 5 rows/records"
      ],
      "metadata": {
        "colab": {
          "base_uri": "https://localhost:8080/"
        },
        "id": "YUKBrPUdie0K",
        "outputId": "cbbb461c-a886-4bca-fa5a-3dd8b01b2d90"
      },
      "execution_count": 8,
      "outputs": [
        {
          "output_type": "stream",
          "name": "stdout",
          "text": [
            "[['06-10-2017' '5464' 'Neutral' '181' '5' 'Inactive']\n",
            " ['07-10-2017' '6041' 'Sad' '197' '8' 'Inactive']\n",
            " ['08-10-2017' '25' 'Sad' '0' '5' 'Inactive']\n",
            " ['09-10-2017' '5461' 'Sad' '174' '4' 'Inactive']\n",
            " ['10-10-2017' '6915' 'Neutral' '223' '5' 'Active']]\n"
          ]
        }
      ]
    },
    {
      "cell_type": "code",
      "source": [
        "data_t = data.T     #Tranpose of the dataset\n",
        "print(data_t)"
      ],
      "metadata": {
        "colab": {
          "base_uri": "https://localhost:8080/"
        },
        "id": "hmi-hhitikyN",
        "outputId": "094fe6e1-351d-4d82-c62d-12b8ddacca8b"
      },
      "execution_count": 9,
      "outputs": [
        {
          "output_type": "stream",
          "name": "stdout",
          "text": [
            "[['06-10-2017' '07-10-2017' '08-10-2017' '09-10-2017' '10-10-2017'\n",
            "  '11-10-2017' '12-10-2017' '13-10-2017' '14-10-2017' '15-10-2017'\n",
            "  '16-10-2017' '17-10-2017' '18-10-2017' '19-10-2017' '20-10-2017'\n",
            "  '21-10-2017' '22-10-2017' '23-10-2017' '24-10-2017' '25-10-2017'\n",
            "  '26-10-2017' '27-10-2017' '28-10-2017' '29-10-2017' '30-10-2017'\n",
            "  '31-10-2017' '01-11-2017' '02-11-2017' '03-11-2017' '04-11-2017'\n",
            "  '05-11-2017' '06-11-2017' '07-11-2017' '08-11-2017' '09-11-2017'\n",
            "  '10-11-2017' '11-11-2017' '12-11-2017' '13-11-2017' '14-11-2017'\n",
            "  '15-11-2017' '16-11-2017' '17-11-2017' '18-11-2017' '19-11-2017'\n",
            "  '20-11-2017' '21-11-2017' '22-11-2017' '23-11-2017' '24-11-2017'\n",
            "  '25-11-2017' '26-11-2017' '27-11-2017' '28-11-2017' '29-11-2017'\n",
            "  '30-11-2017' '01-12-2017' '02-12-2017' '03-12-2017' '04-12-2017'\n",
            "  '05-12-2017' '06-12-2017' '07-12-2017' '08-12-2017' '09-12-2017'\n",
            "  '10-12-2017' '11-12-2017' '12-12-2017' '13-12-2017' '14-12-2017'\n",
            "  '15-12-2017' '16-12-2017' '17-12-2017' '18-12-2017' '19-12-2017'\n",
            "  '20-12-2017' '21-12-2017' '22-12-2017' '23-12-2017' '24-12-2017'\n",
            "  '25-12-2017' '26-12-2017' '27-12-2017' '28-12-2017' '29-12-2017'\n",
            "  '30-12-2017' '31-12-2017' '01-01-2018' '02-01-2018' '03-01-2018'\n",
            "  '04-01-2018' '05-01-2018' '06-01-2018' '07-01-2018' '08-01-2018'\n",
            "  '09-01-2018']\n",
            " ['5464' '6041' '25' '5461' '6915' '4545' '4340' '1230' '61' '1258'\n",
            "  '3148' '4687' '4732' '3519' '1580' '2822' '181' '3158' '4383' '3881'\n",
            "  '4037' '202' '292' '330' '2209' '4550' '4435' '4779' '1831' '2255'\n",
            "  '539' '5464' '6041' '4068' '4683' '4033' '6314' '614' '3149' '4005'\n",
            "  '4880' '4136' '705' '570' '269' '4275' '5999' '4421' '6930' '5195'\n",
            "  '546' '493' '995' '1163' '6676' '3608' '774' '1421' '4064' '2725'\n",
            "  '5934' '1867' '3721' '2374' '2909' '1648' '799' '7102' '3941' '7422'\n",
            "  '437' '1231' '1696' '4921' '221' '6500' '3575' '4061' '651' '753' '518'\n",
            "  '5537' '4108' '5376' '3066' '177' '36' '299' '1447' '2599' '702' '133'\n",
            "  '153' '500' '2127' '2203']\n",
            " ['Neutral' 'Sad' 'Sad' 'Sad' 'Neutral' 'Sad' 'Sad' 'Sad' 'Sad' 'Sad'\n",
            "  'Sad' 'Sad' 'Happy' 'Sad' 'Sad' 'Sad' 'Sad' 'Neutral' 'Neutral'\n",
            "  'Neutral' 'Neutral' 'Neutral' 'Neutral' 'Happy' 'Neutral' 'Happy'\n",
            "  'Happy' 'Happy' 'Happy' 'Happy' 'Happy' 'Happy' 'Neutral' 'Happy'\n",
            "  'Happy' 'Happy' 'Happy' 'Happy' 'Happy' 'Happy' 'Happy' 'Happy' 'Happy'\n",
            "  'Neutral' 'Happy' 'Happy' 'Happy' 'Happy' 'Happy' 'Happy' 'Happy'\n",
            "  'Happy' 'Happy' 'Neutral' 'Sad' 'Happy' 'Happy' 'Happy' 'Happy' 'Happy'\n",
            "  'Happy' 'Happy' 'Sad' 'Neutral' 'Neutral' 'Sad' 'Sad' 'Neutral'\n",
            "  'Neutral' 'Happy' 'Neutral' 'Neutral' 'Sad' 'Neutral' 'Sad' 'Neutral'\n",
            "  'Neutral' 'Sad' 'Sad' 'Sad' 'Sad' 'Happy' 'Neutral' 'Happy' 'Neutral'\n",
            "  'Sad' 'Sad' 'Sad' 'Neutral' 'Neutral' 'Sad' 'Sad' 'Happy' 'Neutral'\n",
            "  'Neutral' 'Happy']\n",
            " ['181' '197' '0' '174' '223' '149' '140' '38' '1' '40' '101' '152' '150'\n",
            "  '113' '49' '86' '6' '99' '143' '125' '129' '6' '9' '10' '72' '150'\n",
            "  '141' '156' '57' '72' '17' '181' '197' '131' '154' '137' '193' '19'\n",
            "  '101' '139' '164' '137' '22' '17' '9' '145' '192' '146' '234' '167'\n",
            "  '16' '17' '32' '35' '220' '116' '23' '44' '131' '86' '194' '60' '121'\n",
            "  '76' '93' '53' '25' '227' '125' '243' '14' '39' '55' '158' '7' '213'\n",
            "  '116' '129' '21' '28' '16' '180' '138' '176' '99' '5' '1' '10' '47'\n",
            "  '84' '23' '4' '0' '0' '0' '0']\n",
            " ['5' '8' '5' '4' '5' '6' '6' '7' '5' '6' '8' '5' '6' '7' '5' '6' '8' '5'\n",
            "  '4' '5' '6' '8' '5' '6' '5' '8' '5' '4' '5' '4' '5' '4' '3' '2' '9' '5'\n",
            "  '6' '4' '5' '8' '4' '5' '6' '5' '6' '5' '6' '5' '6' '5' '6' '7' '6' '7'\n",
            "  '6' '5' '6' '7' '8' '8' '7' '8' '5' '4' '3' '3' '4' '5' '5' '5' '3' '4'\n",
            "  '4' '5' '5' '5' '5' '5' '5' '4' '3' '4' '5' '5' '4' '5' '3' '3' '3' '2'\n",
            "  '3' '2' '8' '5' '5' '5']\n",
            " ['Inactive' 'Inactive' 'Inactive' 'Inactive' 'Active' 'Inactive'\n",
            "  'Inactive' 'Inactive' 'Inactive' 'Inactive' 'Inactive' 'Inactive'\n",
            "  'Active' 'Inactive' 'Inactive' 'Inactive' 'Inactive' 'Inactive'\n",
            "  'Inactive' 'Inactive' 'Inactive' 'Inactive' 'Inactive' 'Inactive'\n",
            "  'Inactive' 'Active' 'Inactive' 'Inactive' 'Inactive' 'Inactive'\n",
            "  'Active' 'Inactive' 'Inactive' 'Inactive' 'Inactive' 'Inactive'\n",
            "  'Active' 'Active' 'Active' 'Active' 'Active' 'Active' 'Active' 'Active'\n",
            "  'Active' 'Inactive' 'Inactive' 'Inactive' 'Inactive' 'Inactive'\n",
            "  'Inactive' 'Active' 'Active' 'Active' 'Active' 'Active' 'Active'\n",
            "  'Active' 'Active' 'Active' 'Active' 'Active' 'Active' 'Inactive'\n",
            "  'Active' 'Active' 'Inactive' 'Active' 'Active' 'Active' 'Active'\n",
            "  'Active' 'Inactive' 'Active' 'Active' 'Active' 'Active' 'Inactive'\n",
            "  'Inactive' 'Inactive' 'Inactive' 'Active' 'Active' 'Active' 'Active'\n",
            "  'Inactive' 'Inactive' 'Inactive' 'Inactive' 'Inactive' 'Inactive'\n",
            "  'Inactive' 'Inactive' 'Active' 'Inactive' 'Active']]\n"
          ]
        }
      ]
    },
    {
      "cell_type": "code",
      "source": [
        "data.shape"
      ],
      "metadata": {
        "colab": {
          "base_uri": "https://localhost:8080/"
        },
        "id": "Mw76hRmfilKa",
        "outputId": "61757cd7-54cf-47bd-965b-b38e5a62d7ea"
      },
      "execution_count": 10,
      "outputs": [
        {
          "output_type": "execute_result",
          "data": {
            "text/plain": [
              "(96, 6)"
            ]
          },
          "metadata": {},
          "execution_count": 10
        }
      ]
    },
    {
      "cell_type": "code",
      "source": [
        "data_t.shape"
      ],
      "metadata": {
        "colab": {
          "base_uri": "https://localhost:8080/"
        },
        "id": "w1s2zb2xilee",
        "outputId": "bab0b86d-1bf2-43b5-ebb6-1d29f1523e0a"
      },
      "execution_count": 11,
      "outputs": [
        {
          "output_type": "execute_result",
          "data": {
            "text/plain": [
              "(6, 96)"
            ]
          },
          "metadata": {},
          "execution_count": 11
        }
      ]
    },
    {
      "cell_type": "code",
      "source": [
        "len(data_t)"
      ],
      "metadata": {
        "colab": {
          "base_uri": "https://localhost:8080/"
        },
        "id": "UtCO8ein0cRq",
        "outputId": "8d64f104-3ed4-40c0-d866-5daa4c3c7597"
      },
      "execution_count": 12,
      "outputs": [
        {
          "output_type": "execute_result",
          "data": {
            "text/plain": [
              "6"
            ]
          },
          "metadata": {},
          "execution_count": 12
        }
      ]
    },
    {
      "cell_type": "markdown",
      "source": [
        "**What to do if I need to have all the dates from the data???**"
      ],
      "metadata": {
        "id": "NU-HQ7c5N8Pl"
      }
    },
    {
      "cell_type": "code",
      "source": [
        "#this is why we had transposed the data...\n",
        "dates = data_t[0]"
      ],
      "metadata": {
        "id": "dClCvveM0cPV"
      },
      "execution_count": 13,
      "outputs": []
    },
    {
      "cell_type": "code",
      "source": [
        "print(dates)"
      ],
      "metadata": {
        "colab": {
          "base_uri": "https://localhost:8080/"
        },
        "id": "shKgbpwE0cMv",
        "outputId": "03cfaca2-8316-45a4-87e8-ff8916296fd0"
      },
      "execution_count": 14,
      "outputs": [
        {
          "output_type": "stream",
          "name": "stdout",
          "text": [
            "['06-10-2017' '07-10-2017' '08-10-2017' '09-10-2017' '10-10-2017'\n",
            " '11-10-2017' '12-10-2017' '13-10-2017' '14-10-2017' '15-10-2017'\n",
            " '16-10-2017' '17-10-2017' '18-10-2017' '19-10-2017' '20-10-2017'\n",
            " '21-10-2017' '22-10-2017' '23-10-2017' '24-10-2017' '25-10-2017'\n",
            " '26-10-2017' '27-10-2017' '28-10-2017' '29-10-2017' '30-10-2017'\n",
            " '31-10-2017' '01-11-2017' '02-11-2017' '03-11-2017' '04-11-2017'\n",
            " '05-11-2017' '06-11-2017' '07-11-2017' '08-11-2017' '09-11-2017'\n",
            " '10-11-2017' '11-11-2017' '12-11-2017' '13-11-2017' '14-11-2017'\n",
            " '15-11-2017' '16-11-2017' '17-11-2017' '18-11-2017' '19-11-2017'\n",
            " '20-11-2017' '21-11-2017' '22-11-2017' '23-11-2017' '24-11-2017'\n",
            " '25-11-2017' '26-11-2017' '27-11-2017' '28-11-2017' '29-11-2017'\n",
            " '30-11-2017' '01-12-2017' '02-12-2017' '03-12-2017' '04-12-2017'\n",
            " '05-12-2017' '06-12-2017' '07-12-2017' '08-12-2017' '09-12-2017'\n",
            " '10-12-2017' '11-12-2017' '12-12-2017' '13-12-2017' '14-12-2017'\n",
            " '15-12-2017' '16-12-2017' '17-12-2017' '18-12-2017' '19-12-2017'\n",
            " '20-12-2017' '21-12-2017' '22-12-2017' '23-12-2017' '24-12-2017'\n",
            " '25-12-2017' '26-12-2017' '27-12-2017' '28-12-2017' '29-12-2017'\n",
            " '30-12-2017' '31-12-2017' '01-01-2018' '02-01-2018' '03-01-2018'\n",
            " '04-01-2018' '05-01-2018' '06-01-2018' '07-01-2018' '08-01-2018'\n",
            " '09-01-2018']\n"
          ]
        }
      ]
    },
    {
      "cell_type": "code",
      "source": [
        "dates.ndim"
      ],
      "metadata": {
        "colab": {
          "base_uri": "https://localhost:8080/"
        },
        "id": "J_edBdTL0cKe",
        "outputId": "42b2f363-6f60-4e1e-daf9-e597c33e7a1a"
      },
      "execution_count": 15,
      "outputs": [
        {
          "output_type": "execute_result",
          "data": {
            "text/plain": [
              "1"
            ]
          },
          "metadata": {},
          "execution_count": 15
        }
      ]
    },
    {
      "cell_type": "code",
      "source": [
        "dates.shape"
      ],
      "metadata": {
        "colab": {
          "base_uri": "https://localhost:8080/"
        },
        "id": "EUE1pUZd0cIC",
        "outputId": "56d2f42a-f171-4546-c4e4-e51bd734610b"
      },
      "execution_count": 16,
      "outputs": [
        {
          "output_type": "execute_result",
          "data": {
            "text/plain": [
              "(96,)"
            ]
          },
          "metadata": {},
          "execution_count": 16
        }
      ]
    },
    {
      "cell_type": "code",
      "source": [
        "#What to do if I have to find all the step-count???\n",
        "step_count = data_t[1]"
      ],
      "metadata": {
        "id": "VLAbAM8v0cFc"
      },
      "execution_count": 17,
      "outputs": []
    },
    {
      "cell_type": "markdown",
      "source": [
        "**Can we find the mean value of this data???**"
      ],
      "metadata": {
        "id": "r0_SVCAWNop3"
      }
    },
    {
      "cell_type": "code",
      "source": [
        "print(step_count)  #Can we find the mean value of this data???"
      ],
      "metadata": {
        "colab": {
          "base_uri": "https://localhost:8080/"
        },
        "id": "YunlGYLW0cC3",
        "outputId": "baa5c330-89ff-43f2-a4f1-b56f858a24fb"
      },
      "execution_count": 18,
      "outputs": [
        {
          "output_type": "stream",
          "name": "stdout",
          "text": [
            "['5464' '6041' '25' '5461' '6915' '4545' '4340' '1230' '61' '1258' '3148'\n",
            " '4687' '4732' '3519' '1580' '2822' '181' '3158' '4383' '3881' '4037'\n",
            " '202' '292' '330' '2209' '4550' '4435' '4779' '1831' '2255' '539' '5464'\n",
            " '6041' '4068' '4683' '4033' '6314' '614' '3149' '4005' '4880' '4136'\n",
            " '705' '570' '269' '4275' '5999' '4421' '6930' '5195' '546' '493' '995'\n",
            " '1163' '6676' '3608' '774' '1421' '4064' '2725' '5934' '1867' '3721'\n",
            " '2374' '2909' '1648' '799' '7102' '3941' '7422' '437' '1231' '1696'\n",
            " '4921' '221' '6500' '3575' '4061' '651' '753' '518' '5537' '4108' '5376'\n",
            " '3066' '177' '36' '299' '1447' '2599' '702' '133' '153' '500' '2127'\n",
            " '2203']\n"
          ]
        }
      ]
    },
    {
      "cell_type": "code",
      "source": [
        "#Steps to find the mean values of the above data...\n",
        "step_count = np.array(step_count, dtype = 'int')"
      ],
      "metadata": {
        "id": "YBHwqSD-0cAN"
      },
      "execution_count": 19,
      "outputs": []
    },
    {
      "cell_type": "code",
      "source": [
        "print(step_count)"
      ],
      "metadata": {
        "colab": {
          "base_uri": "https://localhost:8080/"
        },
        "id": "Fs5TZLJj0b9G",
        "outputId": "fe44cfad-112e-4b52-9fbc-5c729a0a94ed"
      },
      "execution_count": 20,
      "outputs": [
        {
          "output_type": "stream",
          "name": "stdout",
          "text": [
            "[5464 6041   25 5461 6915 4545 4340 1230   61 1258 3148 4687 4732 3519\n",
            " 1580 2822  181 3158 4383 3881 4037  202  292  330 2209 4550 4435 4779\n",
            " 1831 2255  539 5464 6041 4068 4683 4033 6314  614 3149 4005 4880 4136\n",
            "  705  570  269 4275 5999 4421 6930 5195  546  493  995 1163 6676 3608\n",
            "  774 1421 4064 2725 5934 1867 3721 2374 2909 1648  799 7102 3941 7422\n",
            "  437 1231 1696 4921  221 6500 3575 4061  651  753  518 5537 4108 5376\n",
            " 3066  177   36  299 1447 2599  702  133  153  500 2127 2203]\n"
          ]
        }
      ]
    },
    {
      "cell_type": "code",
      "source": [
        "np.mean(step_count)"
      ],
      "metadata": {
        "colab": {
          "base_uri": "https://localhost:8080/"
        },
        "id": "1TPE_yfZ0b1B",
        "outputId": "36c68cfa-1145-450e-b61b-08b683208c74"
      },
      "execution_count": 21,
      "outputs": [
        {
          "output_type": "execute_result",
          "data": {
            "text/plain": [
              "2935.9375"
            ]
          },
          "metadata": {},
          "execution_count": 21
        }
      ]
    },
    {
      "cell_type": "markdown",
      "source": [
        "**Without transpose, give me the step-count of the numpy array...**"
      ],
      "metadata": {
        "id": "ATfO69yINjox"
      }
    },
    {
      "cell_type": "code",
      "source": [
        "print(data)"
      ],
      "metadata": {
        "colab": {
          "base_uri": "https://localhost:8080/"
        },
        "id": "BnB7egvh0bpX",
        "outputId": "408abd7d-dc73-4281-95cf-d052c7f00f2d"
      },
      "execution_count": 22,
      "outputs": [
        {
          "output_type": "stream",
          "name": "stdout",
          "text": [
            "[['06-10-2017' '5464' 'Neutral' '181' '5' 'Inactive']\n",
            " ['07-10-2017' '6041' 'Sad' '197' '8' 'Inactive']\n",
            " ['08-10-2017' '25' 'Sad' '0' '5' 'Inactive']\n",
            " ['09-10-2017' '5461' 'Sad' '174' '4' 'Inactive']\n",
            " ['10-10-2017' '6915' 'Neutral' '223' '5' 'Active']\n",
            " ['11-10-2017' '4545' 'Sad' '149' '6' 'Inactive']\n",
            " ['12-10-2017' '4340' 'Sad' '140' '6' 'Inactive']\n",
            " ['13-10-2017' '1230' 'Sad' '38' '7' 'Inactive']\n",
            " ['14-10-2017' '61' 'Sad' '1' '5' 'Inactive']\n",
            " ['15-10-2017' '1258' 'Sad' '40' '6' 'Inactive']\n",
            " ['16-10-2017' '3148' 'Sad' '101' '8' 'Inactive']\n",
            " ['17-10-2017' '4687' 'Sad' '152' '5' 'Inactive']\n",
            " ['18-10-2017' '4732' 'Happy' '150' '6' 'Active']\n",
            " ['19-10-2017' '3519' 'Sad' '113' '7' 'Inactive']\n",
            " ['20-10-2017' '1580' 'Sad' '49' '5' 'Inactive']\n",
            " ['21-10-2017' '2822' 'Sad' '86' '6' 'Inactive']\n",
            " ['22-10-2017' '181' 'Sad' '6' '8' 'Inactive']\n",
            " ['23-10-2017' '3158' 'Neutral' '99' '5' 'Inactive']\n",
            " ['24-10-2017' '4383' 'Neutral' '143' '4' 'Inactive']\n",
            " ['25-10-2017' '3881' 'Neutral' '125' '5' 'Inactive']\n",
            " ['26-10-2017' '4037' 'Neutral' '129' '6' 'Inactive']\n",
            " ['27-10-2017' '202' 'Neutral' '6' '8' 'Inactive']\n",
            " ['28-10-2017' '292' 'Neutral' '9' '5' 'Inactive']\n",
            " ['29-10-2017' '330' 'Happy' '10' '6' 'Inactive']\n",
            " ['30-10-2017' '2209' 'Neutral' '72' '5' 'Inactive']\n",
            " ['31-10-2017' '4550' 'Happy' '150' '8' 'Active']\n",
            " ['01-11-2017' '4435' 'Happy' '141' '5' 'Inactive']\n",
            " ['02-11-2017' '4779' 'Happy' '156' '4' 'Inactive']\n",
            " ['03-11-2017' '1831' 'Happy' '57' '5' 'Inactive']\n",
            " ['04-11-2017' '2255' 'Happy' '72' '4' 'Inactive']\n",
            " ['05-11-2017' '539' 'Happy' '17' '5' 'Active']\n",
            " ['06-11-2017' '5464' 'Happy' '181' '4' 'Inactive']\n",
            " ['07-11-2017' '6041' 'Neutral' '197' '3' 'Inactive']\n",
            " ['08-11-2017' '4068' 'Happy' '131' '2' 'Inactive']\n",
            " ['09-11-2017' '4683' 'Happy' '154' '9' 'Inactive']\n",
            " ['10-11-2017' '4033' 'Happy' '137' '5' 'Inactive']\n",
            " ['11-11-2017' '6314' 'Happy' '193' '6' 'Active']\n",
            " ['12-11-2017' '614' 'Happy' '19' '4' 'Active']\n",
            " ['13-11-2017' '3149' 'Happy' '101' '5' 'Active']\n",
            " ['14-11-2017' '4005' 'Happy' '139' '8' 'Active']\n",
            " ['15-11-2017' '4880' 'Happy' '164' '4' 'Active']\n",
            " ['16-11-2017' '4136' 'Happy' '137' '5' 'Active']\n",
            " ['17-11-2017' '705' 'Happy' '22' '6' 'Active']\n",
            " ['18-11-2017' '570' 'Neutral' '17' '5' 'Active']\n",
            " ['19-11-2017' '269' 'Happy' '9' '6' 'Active']\n",
            " ['20-11-2017' '4275' 'Happy' '145' '5' 'Inactive']\n",
            " ['21-11-2017' '5999' 'Happy' '192' '6' 'Inactive']\n",
            " ['22-11-2017' '4421' 'Happy' '146' '5' 'Inactive']\n",
            " ['23-11-2017' '6930' 'Happy' '234' '6' 'Inactive']\n",
            " ['24-11-2017' '5195' 'Happy' '167' '5' 'Inactive']\n",
            " ['25-11-2017' '546' 'Happy' '16' '6' 'Inactive']\n",
            " ['26-11-2017' '493' 'Happy' '17' '7' 'Active']\n",
            " ['27-11-2017' '995' 'Happy' '32' '6' 'Active']\n",
            " ['28-11-2017' '1163' 'Neutral' '35' '7' 'Active']\n",
            " ['29-11-2017' '6676' 'Sad' '220' '6' 'Active']\n",
            " ['30-11-2017' '3608' 'Happy' '116' '5' 'Active']\n",
            " ['01-12-2017' '774' 'Happy' '23' '6' 'Active']\n",
            " ['02-12-2017' '1421' 'Happy' '44' '7' 'Active']\n",
            " ['03-12-2017' '4064' 'Happy' '131' '8' 'Active']\n",
            " ['04-12-2017' '2725' 'Happy' '86' '8' 'Active']\n",
            " ['05-12-2017' '5934' 'Happy' '194' '7' 'Active']\n",
            " ['06-12-2017' '1867' 'Happy' '60' '8' 'Active']\n",
            " ['07-12-2017' '3721' 'Sad' '121' '5' 'Active']\n",
            " ['08-12-2017' '2374' 'Neutral' '76' '4' 'Inactive']\n",
            " ['09-12-2017' '2909' 'Neutral' '93' '3' 'Active']\n",
            " ['10-12-2017' '1648' 'Sad' '53' '3' 'Active']\n",
            " ['11-12-2017' '799' 'Sad' '25' '4' 'Inactive']\n",
            " ['12-12-2017' '7102' 'Neutral' '227' '5' 'Active']\n",
            " ['13-12-2017' '3941' 'Neutral' '125' '5' 'Active']\n",
            " ['14-12-2017' '7422' 'Happy' '243' '5' 'Active']\n",
            " ['15-12-2017' '437' 'Neutral' '14' '3' 'Active']\n",
            " ['16-12-2017' '1231' 'Neutral' '39' '4' 'Active']\n",
            " ['17-12-2017' '1696' 'Sad' '55' '4' 'Inactive']\n",
            " ['18-12-2017' '4921' 'Neutral' '158' '5' 'Active']\n",
            " ['19-12-2017' '221' 'Sad' '7' '5' 'Active']\n",
            " ['20-12-2017' '6500' 'Neutral' '213' '5' 'Active']\n",
            " ['21-12-2017' '3575' 'Neutral' '116' '5' 'Active']\n",
            " ['22-12-2017' '4061' 'Sad' '129' '5' 'Inactive']\n",
            " ['23-12-2017' '651' 'Sad' '21' '5' 'Inactive']\n",
            " ['24-12-2017' '753' 'Sad' '28' '4' 'Inactive']\n",
            " ['25-12-2017' '518' 'Sad' '16' '3' 'Inactive']\n",
            " ['26-12-2017' '5537' 'Happy' '180' '4' 'Active']\n",
            " ['27-12-2017' '4108' 'Neutral' '138' '5' 'Active']\n",
            " ['28-12-2017' '5376' 'Happy' '176' '5' 'Active']\n",
            " ['29-12-2017' '3066' 'Neutral' '99' '4' 'Active']\n",
            " ['30-12-2017' '177' 'Sad' '5' '5' 'Inactive']\n",
            " ['31-12-2017' '36' 'Sad' '1' '3' 'Inactive']\n",
            " ['01-01-2018' '299' 'Sad' '10' '3' 'Inactive']\n",
            " ['02-01-2018' '1447' 'Neutral' '47' '3' 'Inactive']\n",
            " ['03-01-2018' '2599' 'Neutral' '84' '2' 'Inactive']\n",
            " ['04-01-2018' '702' 'Sad' '23' '3' 'Inactive']\n",
            " ['05-01-2018' '133' 'Sad' '4' '2' 'Inactive']\n",
            " ['06-01-2018' '153' 'Happy' '0' '8' 'Inactive']\n",
            " ['07-01-2018' '500' 'Neutral' '0' '5' 'Active']\n",
            " ['08-01-2018' '2127' 'Neutral' '0' '5' 'Inactive']\n",
            " ['09-01-2018' '2203' 'Happy' '0' '5' 'Active']]\n"
          ]
        }
      ]
    },
    {
      "cell_type": "code",
      "source": [
        "#verison2\n",
        "\n",
        "step_count = data[:, 1]"
      ],
      "metadata": {
        "id": "6n1eQgl32OGQ"
      },
      "execution_count": 23,
      "outputs": []
    },
    {
      "cell_type": "code",
      "source": [
        "print(step_count)"
      ],
      "metadata": {
        "colab": {
          "base_uri": "https://localhost:8080/"
        },
        "id": "2lPJifia2OB3",
        "outputId": "4a8e0498-285e-4b8b-9700-a66cd0d5280c"
      },
      "execution_count": 24,
      "outputs": [
        {
          "output_type": "stream",
          "name": "stdout",
          "text": [
            "['5464' '6041' '25' '5461' '6915' '4545' '4340' '1230' '61' '1258' '3148'\n",
            " '4687' '4732' '3519' '1580' '2822' '181' '3158' '4383' '3881' '4037'\n",
            " '202' '292' '330' '2209' '4550' '4435' '4779' '1831' '2255' '539' '5464'\n",
            " '6041' '4068' '4683' '4033' '6314' '614' '3149' '4005' '4880' '4136'\n",
            " '705' '570' '269' '4275' '5999' '4421' '6930' '5195' '546' '493' '995'\n",
            " '1163' '6676' '3608' '774' '1421' '4064' '2725' '5934' '1867' '3721'\n",
            " '2374' '2909' '1648' '799' '7102' '3941' '7422' '437' '1231' '1696'\n",
            " '4921' '221' '6500' '3575' '4061' '651' '753' '518' '5537' '4108' '5376'\n",
            " '3066' '177' '36' '299' '1447' '2599' '702' '133' '153' '500' '2127'\n",
            " '2203']\n"
          ]
        }
      ]
    },
    {
      "cell_type": "code",
      "source": [
        "step_count = np.array(step_count, dtype = 'int')\n",
        "print(step_count)"
      ],
      "metadata": {
        "colab": {
          "base_uri": "https://localhost:8080/"
        },
        "id": "Xp9x4jiD2N_O",
        "outputId": "b791174a-5845-4dcc-c322-53cdcc0e2422"
      },
      "execution_count": 25,
      "outputs": [
        {
          "output_type": "stream",
          "name": "stdout",
          "text": [
            "[5464 6041   25 5461 6915 4545 4340 1230   61 1258 3148 4687 4732 3519\n",
            " 1580 2822  181 3158 4383 3881 4037  202  292  330 2209 4550 4435 4779\n",
            " 1831 2255  539 5464 6041 4068 4683 4033 6314  614 3149 4005 4880 4136\n",
            "  705  570  269 4275 5999 4421 6930 5195  546  493  995 1163 6676 3608\n",
            "  774 1421 4064 2725 5934 1867 3721 2374 2909 1648  799 7102 3941 7422\n",
            "  437 1231 1696 4921  221 6500 3575 4061  651  753  518 5537 4108 5376\n",
            " 3066  177   36  299 1447 2599  702  133  153  500 2127 2203]\n"
          ]
        }
      ]
    },
    {
      "cell_type": "markdown",
      "source": [
        "**How to acces the Mood values from the numpy array ???**"
      ],
      "metadata": {
        "id": "zKaJGjgEOEUU"
      }
    },
    {
      "cell_type": "code",
      "source": [
        "mood = data[:, 2]\n",
        "print(mood)"
      ],
      "metadata": {
        "colab": {
          "base_uri": "https://localhost:8080/"
        },
        "id": "kp5_SANo2N84",
        "outputId": "cd9c5c58-1365-44c8-f931-c71ab5225e75"
      },
      "execution_count": 26,
      "outputs": [
        {
          "output_type": "stream",
          "name": "stdout",
          "text": [
            "['Neutral' 'Sad' 'Sad' 'Sad' 'Neutral' 'Sad' 'Sad' 'Sad' 'Sad' 'Sad' 'Sad'\n",
            " 'Sad' 'Happy' 'Sad' 'Sad' 'Sad' 'Sad' 'Neutral' 'Neutral' 'Neutral'\n",
            " 'Neutral' 'Neutral' 'Neutral' 'Happy' 'Neutral' 'Happy' 'Happy' 'Happy'\n",
            " 'Happy' 'Happy' 'Happy' 'Happy' 'Neutral' 'Happy' 'Happy' 'Happy' 'Happy'\n",
            " 'Happy' 'Happy' 'Happy' 'Happy' 'Happy' 'Happy' 'Neutral' 'Happy' 'Happy'\n",
            " 'Happy' 'Happy' 'Happy' 'Happy' 'Happy' 'Happy' 'Happy' 'Neutral' 'Sad'\n",
            " 'Happy' 'Happy' 'Happy' 'Happy' 'Happy' 'Happy' 'Happy' 'Sad' 'Neutral'\n",
            " 'Neutral' 'Sad' 'Sad' 'Neutral' 'Neutral' 'Happy' 'Neutral' 'Neutral'\n",
            " 'Sad' 'Neutral' 'Sad' 'Neutral' 'Neutral' 'Sad' 'Sad' 'Sad' 'Sad' 'Happy'\n",
            " 'Neutral' 'Happy' 'Neutral' 'Sad' 'Sad' 'Sad' 'Neutral' 'Neutral' 'Sad'\n",
            " 'Sad' 'Happy' 'Neutral' 'Neutral' 'Happy']\n"
          ]
        }
      ]
    },
    {
      "cell_type": "markdown",
      "source": [
        "**How to find the step-counts only when the person was \"Happy\" ???**"
      ],
      "metadata": {
        "id": "tirt9TyOOQUE"
      }
    },
    {
      "cell_type": "code",
      "source": [
        "mood == \"Happy\"     #masking"
      ],
      "metadata": {
        "colab": {
          "base_uri": "https://localhost:8080/"
        },
        "id": "sfYftJVR3ViW",
        "outputId": "eb147800-4643-47b4-e5e2-5108edfacff0"
      },
      "execution_count": 27,
      "outputs": [
        {
          "output_type": "execute_result",
          "data": {
            "text/plain": [
              "array([False, False, False, False, False, False, False, False, False,\n",
              "       False, False, False,  True, False, False, False, False, False,\n",
              "       False, False, False, False, False,  True, False,  True,  True,\n",
              "        True,  True,  True,  True,  True, False,  True,  True,  True,\n",
              "        True,  True,  True,  True,  True,  True,  True, False,  True,\n",
              "        True,  True,  True,  True,  True,  True,  True,  True, False,\n",
              "       False,  True,  True,  True,  True,  True,  True,  True, False,\n",
              "       False, False, False, False, False, False,  True, False, False,\n",
              "       False, False, False, False, False, False, False, False, False,\n",
              "        True, False,  True, False, False, False, False, False, False,\n",
              "       False, False,  True, False, False,  True])"
            ]
          },
          "metadata": {},
          "execution_count": 27
        }
      ]
    },
    {
      "cell_type": "code",
      "source": [
        "step_count_happy = step_count[ mood == \"Happy\" ]    #step-counts only when the person was \"Happy\""
      ],
      "metadata": {
        "id": "Z1eo-MgY2N60"
      },
      "execution_count": 28,
      "outputs": []
    },
    {
      "cell_type": "code",
      "source": [
        "print(step_count_happy)"
      ],
      "metadata": {
        "colab": {
          "base_uri": "https://localhost:8080/"
        },
        "id": "Jdm-Ysok2N4N",
        "outputId": "ebac36de-512c-4dc6-9f40-7b6218f67047"
      },
      "execution_count": 29,
      "outputs": [
        {
          "output_type": "stream",
          "name": "stdout",
          "text": [
            "[4732  330 4550 4435 4779 1831 2255  539 5464 4068 4683 4033 6314  614\n",
            " 3149 4005 4880 4136  705  269 4275 5999 4421 6930 5195  546  493  995\n",
            " 3608  774 1421 4064 2725 5934 1867 7422 5537 5376  153 2203]\n"
          ]
        }
      ]
    },
    {
      "cell_type": "code",
      "source": [
        "len(step_count_happy)"
      ],
      "metadata": {
        "colab": {
          "base_uri": "https://localhost:8080/"
        },
        "id": "FtTfFP3t2N13",
        "outputId": "7e3c1fab-1425-478f-c8ab-09dff4fea9b8"
      },
      "execution_count": 30,
      "outputs": [
        {
          "output_type": "execute_result",
          "data": {
            "text/plain": [
              "40"
            ]
          },
          "metadata": {},
          "execution_count": 30
        }
      ]
    },
    {
      "cell_type": "markdown",
      "source": [
        "**How to find the step-counts only when the person was \"Sad\" ???**"
      ],
      "metadata": {
        "id": "1CcMYIOxO9m7"
      }
    },
    {
      "cell_type": "code",
      "source": [
        "step_count_sad = step_count[ mood == \"Sad\" ]   #masking & filtering"
      ],
      "metadata": {
        "id": "_JqQUvoR2NzP"
      },
      "execution_count": 31,
      "outputs": []
    },
    {
      "cell_type": "code",
      "source": [
        "print(step_count_sad)"
      ],
      "metadata": {
        "colab": {
          "base_uri": "https://localhost:8080/"
        },
        "id": "ifCqaqqw2Nwo",
        "outputId": "d1028268-10a2-43e7-c0a7-8a0c24830871"
      },
      "execution_count": 32,
      "outputs": [
        {
          "output_type": "stream",
          "name": "stdout",
          "text": [
            "[6041   25 5461 4545 4340 1230   61 1258 3148 4687 3519 1580 2822  181\n",
            " 6676 3721 1648  799 1696  221 4061  651  753  518  177   36  299  702\n",
            "  133]\n"
          ]
        }
      ]
    },
    {
      "cell_type": "code",
      "source": [
        "len(step_count_sad)"
      ],
      "metadata": {
        "colab": {
          "base_uri": "https://localhost:8080/"
        },
        "id": "oktEOFPV4xbr",
        "outputId": "5abb4bda-ae3f-45d1-e750-dbb78ae1c29f"
      },
      "execution_count": 33,
      "outputs": [
        {
          "output_type": "execute_result",
          "data": {
            "text/plain": [
              "29"
            ]
          },
          "metadata": {},
          "execution_count": 33
        }
      ]
    },
    {
      "cell_type": "markdown",
      "source": [
        "**How to find the step-counts only when the person was \"Sad\" ???**"
      ],
      "metadata": {
        "id": "ABThuoOJPGA_"
      }
    },
    {
      "cell_type": "code",
      "source": [
        "step_count_neutral = step_count[ mood == \"Neutral\" ]    #masking & filtering\n",
        "print(step_count_neutral)"
      ],
      "metadata": {
        "colab": {
          "base_uri": "https://localhost:8080/"
        },
        "id": "dFbBLeyJ2NuF",
        "outputId": "4799eae5-7c70-4650-87ec-5fc23e99e2fb"
      },
      "execution_count": 34,
      "outputs": [
        {
          "output_type": "stream",
          "name": "stdout",
          "text": [
            "[5464 6915 3158 4383 3881 4037  202  292 2209 6041  570 1163 2374 2909\n",
            " 7102 3941  437 1231 4921 6500 3575 4108 3066 1447 2599  500 2127]\n"
          ]
        }
      ]
    },
    {
      "cell_type": "markdown",
      "source": [
        "**Give me only step-counts where when the person was either \"Happy or \"Neutral\" ???**"
      ],
      "metadata": {
        "id": "waicqbiuPe8A"
      }
    },
    {
      "cell_type": "code",
      "source": [
        "step_count_happy_or_neutral = step_count[(mood == \"Happy\") | (mood == \"Neutral\") ]   #multiple conditions in Masking we need to code like -> [() | ()]\n",
        "print(step_count_happy_or_neutral)"
      ],
      "metadata": {
        "colab": {
          "base_uri": "https://localhost:8080/"
        },
        "id": "ZbrlWQez4IBE",
        "outputId": "c44c94f4-7ab2-4acb-aba8-c72005035520"
      },
      "execution_count": 35,
      "outputs": [
        {
          "output_type": "stream",
          "name": "stdout",
          "text": [
            "[5464 6915 4732 3158 4383 3881 4037  202  292  330 2209 4550 4435 4779\n",
            " 1831 2255  539 5464 6041 4068 4683 4033 6314  614 3149 4005 4880 4136\n",
            "  705  570  269 4275 5999 4421 6930 5195  546  493  995 1163 3608  774\n",
            " 1421 4064 2725 5934 1867 2374 2909 7102 3941 7422  437 1231 4921 6500\n",
            " 3575 5537 4108 5376 3066 1447 2599  153  500 2127 2203]\n"
          ]
        }
      ]
    },
    {
      "cell_type": "code",
      "source": [
        "#NOTE: we always need to valid the o/p values\n",
        "len(step_count_happy_or_neutral)     #(total_step_count - step_count_sad)"
      ],
      "metadata": {
        "colab": {
          "base_uri": "https://localhost:8080/"
        },
        "id": "mBQBh7G74H-x",
        "outputId": "ffee03cf-21e8-4bfe-cd75-1ae83199d2ce"
      },
      "execution_count": 36,
      "outputs": [
        {
          "output_type": "execute_result",
          "data": {
            "text/plain": [
              "67"
            ]
          },
          "metadata": {},
          "execution_count": 36
        }
      ]
    },
    {
      "cell_type": "markdown",
      "source": [
        "**Some simple analysis...**"
      ],
      "metadata": {
        "id": "WjZgw8QzQ1uL"
      }
    },
    {
      "cell_type": "code",
      "source": [
        "np.mean(step_count_sad)  #when person is sad, the average step_count"
      ],
      "metadata": {
        "colab": {
          "base_uri": "https://localhost:8080/"
        },
        "id": "vF3mck1l4H8H",
        "outputId": "a08a6ad4-d473-4e4c-df78-2d67a30319f5"
      },
      "execution_count": 37,
      "outputs": [
        {
          "output_type": "execute_result",
          "data": {
            "text/plain": [
              "2103.0689655172414"
            ]
          },
          "metadata": {},
          "execution_count": 37
        }
      ]
    },
    {
      "cell_type": "code",
      "source": [
        "np.mean(step_count_happy)     #when person is happy, the average step_count"
      ],
      "metadata": {
        "colab": {
          "base_uri": "https://localhost:8080/"
        },
        "id": "n-xkKbDt4H5z",
        "outputId": "5b6de6d6-f9d1-48b0-bcb7-602ab03b1fe6"
      },
      "execution_count": 38,
      "outputs": [
        {
          "output_type": "execute_result",
          "data": {
            "text/plain": [
              "3392.725"
            ]
          },
          "metadata": {},
          "execution_count": 38
        }
      ]
    },
    {
      "cell_type": "code",
      "source": [
        "np.mean(step_count_neutral)     #when person is neutral, the average step_count"
      ],
      "metadata": {
        "colab": {
          "base_uri": "https://localhost:8080/"
        },
        "id": "2jXP2saC4H3L",
        "outputId": "a7996e82-aba6-4a3d-83c0-2234876d8a8b"
      },
      "execution_count": 39,
      "outputs": [
        {
          "output_type": "execute_result",
          "data": {
            "text/plain": [
              "3153.777777777778"
            ]
          },
          "metadata": {},
          "execution_count": 39
        }
      ]
    },
    {
      "cell_type": "code",
      "source": [],
      "metadata": {
        "id": "e2sYV7l04H0k"
      },
      "execution_count": 39,
      "outputs": []
    },
    {
      "cell_type": "code",
      "source": [],
      "metadata": {
        "id": "RUTyk0B24HyB"
      },
      "execution_count": 39,
      "outputs": []
    },
    {
      "cell_type": "markdown",
      "source": [
        "# **General concepts**"
      ],
      "metadata": {
        "id": "NfA6m-NT0Mf7"
      }
    },
    {
      "cell_type": "code",
      "source": [
        "b = np.array(range(16))"
      ],
      "metadata": {
        "id": "bvRWfTTWimsp"
      },
      "execution_count": 40,
      "outputs": []
    },
    {
      "cell_type": "code",
      "source": [
        "print(b)"
      ],
      "metadata": {
        "colab": {
          "base_uri": "https://localhost:8080/"
        },
        "id": "e0xhep28i2zm",
        "outputId": "814cfb32-1171-435a-bc70-4b407bf49526"
      },
      "execution_count": 41,
      "outputs": [
        {
          "output_type": "stream",
          "name": "stdout",
          "text": [
            "[ 0  1  2  3  4  5  6  7  8  9 10 11 12 13 14 15]\n"
          ]
        }
      ]
    },
    {
      "cell_type": "code",
      "source": [
        "b.ndim"
      ],
      "metadata": {
        "colab": {
          "base_uri": "https://localhost:8080/"
        },
        "id": "k73RS8t0i3e7",
        "outputId": "628e40c3-1626-433c-d14b-21c0d4f60083"
      },
      "execution_count": 42,
      "outputs": [
        {
          "output_type": "execute_result",
          "data": {
            "text/plain": [
              "1"
            ]
          },
          "metadata": {},
          "execution_count": 42
        }
      ]
    },
    {
      "cell_type": "code",
      "source": [
        "b.shape"
      ],
      "metadata": {
        "colab": {
          "base_uri": "https://localhost:8080/"
        },
        "id": "aF_53mR_i7Yx",
        "outputId": "7d6d2c99-5848-4b02-ccdd-8fa1c4861bf4"
      },
      "execution_count": 43,
      "outputs": [
        {
          "output_type": "execute_result",
          "data": {
            "text/plain": [
              "(16,)"
            ]
          },
          "metadata": {},
          "execution_count": 43
        }
      ]
    },
    {
      "cell_type": "code",
      "source": [
        "b.reshape(8,2)"
      ],
      "metadata": {
        "colab": {
          "base_uri": "https://localhost:8080/"
        },
        "id": "WSfL-5Fpi8zN",
        "outputId": "b18d13df-f530-4d8e-ad83-50ce30ccf359"
      },
      "execution_count": 44,
      "outputs": [
        {
          "output_type": "execute_result",
          "data": {
            "text/plain": [
              "array([[ 0,  1],\n",
              "       [ 2,  3],\n",
              "       [ 4,  5],\n",
              "       [ 6,  7],\n",
              "       [ 8,  9],\n",
              "       [10, 11],\n",
              "       [12, 13],\n",
              "       [14, 15]])"
            ]
          },
          "metadata": {},
          "execution_count": 44
        }
      ]
    },
    {
      "cell_type": "code",
      "source": [
        "b.reshape(8,3)   #this will throw error message"
      ],
      "metadata": {
        "colab": {
          "base_uri": "https://localhost:8080/",
          "height": 165
        },
        "id": "1yI9OgTVjVyk",
        "outputId": "1e8e7ecd-bf01-475b-fde2-f5a2a875eb2d"
      },
      "execution_count": 45,
      "outputs": [
        {
          "output_type": "error",
          "ename": "ValueError",
          "evalue": "ignored",
          "traceback": [
            "\u001b[0;31m---------------------------------------------------------------------------\u001b[0m",
            "\u001b[0;31mValueError\u001b[0m                                Traceback (most recent call last)",
            "\u001b[0;32m<ipython-input-45-bf7c35c56eff>\u001b[0m in \u001b[0;36m<cell line: 1>\u001b[0;34m()\u001b[0m\n\u001b[0;32m----> 1\u001b[0;31m \u001b[0mb\u001b[0m\u001b[0;34m.\u001b[0m\u001b[0mreshape\u001b[0m\u001b[0;34m(\u001b[0m\u001b[0;36m8\u001b[0m\u001b[0;34m,\u001b[0m\u001b[0;36m3\u001b[0m\u001b[0;34m)\u001b[0m   \u001b[0;31m#this will throw error message\u001b[0m\u001b[0;34m\u001b[0m\u001b[0;34m\u001b[0m\u001b[0m\n\u001b[0m",
            "\u001b[0;31mValueError\u001b[0m: cannot reshape array of size 16 into shape (8,3)"
          ]
        }
      ]
    },
    {
      "cell_type": "code",
      "source": [
        "b.reshape(8, -1)"
      ],
      "metadata": {
        "colab": {
          "base_uri": "https://localhost:8080/"
        },
        "id": "PHlNdfF8jjSe",
        "outputId": "7f9eb286-6325-42a6-a727-94b79933ae9e"
      },
      "execution_count": 46,
      "outputs": [
        {
          "output_type": "execute_result",
          "data": {
            "text/plain": [
              "array([[ 0,  1],\n",
              "       [ 2,  3],\n",
              "       [ 4,  5],\n",
              "       [ 6,  7],\n",
              "       [ 8,  9],\n",
              "       [10, 11],\n",
              "       [12, 13],\n",
              "       [14, 15]])"
            ]
          },
          "metadata": {},
          "execution_count": 46
        }
      ]
    },
    {
      "cell_type": "code",
      "source": [
        "print(b)   #the code above changes hasn't been stored in the data"
      ],
      "metadata": {
        "colab": {
          "base_uri": "https://localhost:8080/"
        },
        "id": "lxLF4-SZj3py",
        "outputId": "6dc1e51b-f870-4f6c-eb43-61be5ba125f8"
      },
      "execution_count": 47,
      "outputs": [
        {
          "output_type": "stream",
          "name": "stdout",
          "text": [
            "[ 0  1  2  3  4  5  6  7  8  9 10 11 12 13 14 15]\n"
          ]
        }
      ]
    },
    {
      "cell_type": "code",
      "source": [
        "c = b.reshape(8,2)"
      ],
      "metadata": {
        "id": "atjjunFSkIgF"
      },
      "execution_count": 48,
      "outputs": []
    },
    {
      "cell_type": "code",
      "source": [
        "b.ndim"
      ],
      "metadata": {
        "colab": {
          "base_uri": "https://localhost:8080/"
        },
        "id": "D3odnthXkOGj",
        "outputId": "fc349531-36dd-4257-ec5c-22efaa5a6ad1"
      },
      "execution_count": 49,
      "outputs": [
        {
          "output_type": "execute_result",
          "data": {
            "text/plain": [
              "1"
            ]
          },
          "metadata": {},
          "execution_count": 49
        }
      ]
    },
    {
      "cell_type": "code",
      "source": [
        "c.ndim"
      ],
      "metadata": {
        "colab": {
          "base_uri": "https://localhost:8080/"
        },
        "id": "64d0OXgckR0R",
        "outputId": "93f3348d-306d-49db-8325-878f9214e873"
      },
      "execution_count": 50,
      "outputs": [
        {
          "output_type": "execute_result",
          "data": {
            "text/plain": [
              "2"
            ]
          },
          "metadata": {},
          "execution_count": 50
        }
      ]
    },
    {
      "cell_type": "code",
      "source": [
        "c.shape"
      ],
      "metadata": {
        "colab": {
          "base_uri": "https://localhost:8080/"
        },
        "id": "UJWGab55kT9k",
        "outputId": "7dcf856e-6db9-42d3-89be-38345712f627"
      },
      "execution_count": 51,
      "outputs": [
        {
          "output_type": "execute_result",
          "data": {
            "text/plain": [
              "(8, 2)"
            ]
          },
          "metadata": {},
          "execution_count": 51
        }
      ]
    },
    {
      "cell_type": "code",
      "source": [
        "print(c)"
      ],
      "metadata": {
        "colab": {
          "base_uri": "https://localhost:8080/"
        },
        "id": "uNqhI61nkU48",
        "outputId": "40552863-7300-4489-a38a-e9413b46304a"
      },
      "execution_count": 52,
      "outputs": [
        {
          "output_type": "stream",
          "name": "stdout",
          "text": [
            "[[ 0  1]\n",
            " [ 2  3]\n",
            " [ 4  5]\n",
            " [ 6  7]\n",
            " [ 8  9]\n",
            " [10 11]\n",
            " [12 13]\n",
            " [14 15]]\n"
          ]
        }
      ]
    },
    {
      "cell_type": "code",
      "source": [
        "len(c)    #length of rows"
      ],
      "metadata": {
        "colab": {
          "base_uri": "https://localhost:8080/"
        },
        "id": "WDrmICCTkV13",
        "outputId": "1a04278c-d0d2-455f-abc3-f2a495804880"
      },
      "execution_count": 53,
      "outputs": [
        {
          "output_type": "execute_result",
          "data": {
            "text/plain": [
              "8"
            ]
          },
          "metadata": {},
          "execution_count": 53
        }
      ]
    },
    {
      "cell_type": "code",
      "source": [
        "print(c[0])    #indexing"
      ],
      "metadata": {
        "colab": {
          "base_uri": "https://localhost:8080/"
        },
        "id": "FwfUv-dTkmKy",
        "outputId": "27fbef2e-2084-45ef-c5a0-2a6127629b32"
      },
      "execution_count": 54,
      "outputs": [
        {
          "output_type": "stream",
          "name": "stdout",
          "text": [
            "[0 1]\n"
          ]
        }
      ]
    },
    {
      "cell_type": "code",
      "source": [
        "print(c[5])"
      ],
      "metadata": {
        "colab": {
          "base_uri": "https://localhost:8080/"
        },
        "id": "BvoSs-mZkwP3",
        "outputId": "08009fb3-3b2b-498f-ffc7-c5564517a452"
      },
      "execution_count": 55,
      "outputs": [
        {
          "output_type": "stream",
          "name": "stdout",
          "text": [
            "[10 11]\n"
          ]
        }
      ]
    },
    {
      "cell_type": "code",
      "source": [
        "print(c[8])    #this will throw an out of bounds error message"
      ],
      "metadata": {
        "colab": {
          "base_uri": "https://localhost:8080/",
          "height": 165
        },
        "id": "ShOFIAcLk3c2",
        "outputId": "e5d58717-e45b-44c5-8d7b-7842ebf9b8a9"
      },
      "execution_count": 56,
      "outputs": [
        {
          "output_type": "error",
          "ename": "IndexError",
          "evalue": "ignored",
          "traceback": [
            "\u001b[0;31m---------------------------------------------------------------------------\u001b[0m",
            "\u001b[0;31mIndexError\u001b[0m                                Traceback (most recent call last)",
            "\u001b[0;32m<ipython-input-56-fb03c73ab840>\u001b[0m in \u001b[0;36m<cell line: 1>\u001b[0;34m()\u001b[0m\n\u001b[0;32m----> 1\u001b[0;31m \u001b[0mprint\u001b[0m\u001b[0;34m(\u001b[0m\u001b[0mc\u001b[0m\u001b[0;34m[\u001b[0m\u001b[0;36m8\u001b[0m\u001b[0;34m]\u001b[0m\u001b[0;34m)\u001b[0m    \u001b[0;31m#this will throw an out of bounds error message\u001b[0m\u001b[0;34m\u001b[0m\u001b[0;34m\u001b[0m\u001b[0m\n\u001b[0m",
            "\u001b[0;31mIndexError\u001b[0m: index 8 is out of bounds for axis 0 with size 8"
          ]
        }
      ]
    },
    {
      "cell_type": "code",
      "source": [
        "print(b)"
      ],
      "metadata": {
        "colab": {
          "base_uri": "https://localhost:8080/"
        },
        "id": "-W2zGyXXlAN0",
        "outputId": "04bd3d07-113b-4d1d-ab1a-f1954874afd5"
      },
      "execution_count": 57,
      "outputs": [
        {
          "output_type": "stream",
          "name": "stdout",
          "text": [
            "[ 0  1  2  3  4  5  6  7  8  9 10 11 12 13 14 15]\n"
          ]
        }
      ]
    },
    {
      "cell_type": "code",
      "source": [
        "d = b.reshape(-1, 8)"
      ],
      "metadata": {
        "id": "ZKnuVHcClPbq"
      },
      "execution_count": 58,
      "outputs": []
    },
    {
      "cell_type": "code",
      "source": [
        "print(d)"
      ],
      "metadata": {
        "colab": {
          "base_uri": "https://localhost:8080/"
        },
        "id": "gSLAThSqlbLz",
        "outputId": "939bec89-097e-4c70-e731-bd7b1eca23a6"
      },
      "execution_count": 59,
      "outputs": [
        {
          "output_type": "stream",
          "name": "stdout",
          "text": [
            "[[ 0  1  2  3  4  5  6  7]\n",
            " [ 8  9 10 11 12 13 14 15]]\n"
          ]
        }
      ]
    },
    {
      "cell_type": "code",
      "source": [
        "d.ndim"
      ],
      "metadata": {
        "colab": {
          "base_uri": "https://localhost:8080/"
        },
        "id": "n1kc7VU1lb8c",
        "outputId": "adbbde99-39df-4dae-c17c-3e26dc481bf6"
      },
      "execution_count": 60,
      "outputs": [
        {
          "output_type": "execute_result",
          "data": {
            "text/plain": [
              "2"
            ]
          },
          "metadata": {},
          "execution_count": 60
        }
      ]
    },
    {
      "cell_type": "code",
      "source": [
        "d.shape"
      ],
      "metadata": {
        "colab": {
          "base_uri": "https://localhost:8080/"
        },
        "id": "ndh-uCCkle1X",
        "outputId": "5a9484c1-4358-460c-df50-49207c4fd0aa"
      },
      "execution_count": 61,
      "outputs": [
        {
          "output_type": "execute_result",
          "data": {
            "text/plain": [
              "(2, 8)"
            ]
          },
          "metadata": {},
          "execution_count": 61
        }
      ]
    },
    {
      "cell_type": "code",
      "source": [
        "a = b.reshape(4,4)    #convert 1D to 2D array with 4*4 matrix"
      ],
      "metadata": {
        "id": "aD5U_tjOlg2B"
      },
      "execution_count": 62,
      "outputs": []
    },
    {
      "cell_type": "code",
      "source": [
        "a.shape"
      ],
      "metadata": {
        "colab": {
          "base_uri": "https://localhost:8080/"
        },
        "id": "s2wbT6pWlvyy",
        "outputId": "92c2eedb-58bc-4592-f22a-de0b13dbc295"
      },
      "execution_count": 63,
      "outputs": [
        {
          "output_type": "execute_result",
          "data": {
            "text/plain": [
              "(4, 4)"
            ]
          },
          "metadata": {},
          "execution_count": 63
        }
      ]
    },
    {
      "cell_type": "code",
      "source": [
        "a.ndim"
      ],
      "metadata": {
        "colab": {
          "base_uri": "https://localhost:8080/"
        },
        "id": "fxxdYHh2lxjs",
        "outputId": "27503981-82eb-47a1-c2d4-302e9520f994"
      },
      "execution_count": 64,
      "outputs": [
        {
          "output_type": "execute_result",
          "data": {
            "text/plain": [
              "2"
            ]
          },
          "metadata": {},
          "execution_count": 64
        }
      ]
    },
    {
      "cell_type": "code",
      "source": [
        "print(a)"
      ],
      "metadata": {
        "colab": {
          "base_uri": "https://localhost:8080/"
        },
        "id": "2gw5B-rhlyce",
        "outputId": "3ce73145-9e8f-4d38-91ab-11bb78ddc1e8"
      },
      "execution_count": 65,
      "outputs": [
        {
          "output_type": "stream",
          "name": "stdout",
          "text": [
            "[[ 0  1  2  3]\n",
            " [ 4  5  6  7]\n",
            " [ 8  9 10 11]\n",
            " [12 13 14 15]]\n"
          ]
        }
      ]
    },
    {
      "cell_type": "code",
      "source": [
        "print(a[1])       #idexing"
      ],
      "metadata": {
        "colab": {
          "base_uri": "https://localhost:8080/"
        },
        "id": "NjZjSc4nmBVD",
        "outputId": "077b9f8b-78d0-4df2-bac0-ac565225a245"
      },
      "execution_count": 66,
      "outputs": [
        {
          "output_type": "stream",
          "name": "stdout",
          "text": [
            "[4 5 6 7]\n"
          ]
        }
      ]
    },
    {
      "cell_type": "code",
      "source": [
        "print(a[1][2])      #python approach for obtaining specific element from an 2D-array matrix"
      ],
      "metadata": {
        "colab": {
          "base_uri": "https://localhost:8080/"
        },
        "id": "V87_M9QQmPu_",
        "outputId": "640c911f-074d-4fda-d439-4d11fac3ba37"
      },
      "execution_count": 67,
      "outputs": [
        {
          "output_type": "stream",
          "name": "stdout",
          "text": [
            "6\n"
          ]
        }
      ]
    },
    {
      "cell_type": "code",
      "source": [
        "print(a[2][3])    #numpy approach for obtaining specific element from an 2D-array matrix"
      ],
      "metadata": {
        "colab": {
          "base_uri": "https://localhost:8080/"
        },
        "id": "j7GEvsejmYKX",
        "outputId": "f0b27143-fb69-441e-c9f7-874f4f0e4b71"
      },
      "execution_count": 68,
      "outputs": [
        {
          "output_type": "stream",
          "name": "stdout",
          "text": [
            "11\n"
          ]
        }
      ]
    },
    {
      "cell_type": "code",
      "source": [
        "print(a[2, 3])      #easier numpy approach for obtaining specific element from an 2D-array matrix"
      ],
      "metadata": {
        "colab": {
          "base_uri": "https://localhost:8080/"
        },
        "id": "WSfl7lzTmjDB",
        "outputId": "65ba3b89-c79e-46ba-a497-cb0363ea5dd8"
      },
      "execution_count": 69,
      "outputs": [
        {
          "output_type": "stream",
          "name": "stdout",
          "text": [
            "11\n"
          ]
        }
      ]
    },
    {
      "cell_type": "code",
      "source": [
        "print(a[1, 3])"
      ],
      "metadata": {
        "colab": {
          "base_uri": "https://localhost:8080/"
        },
        "id": "OLpGIUyQmutA",
        "outputId": "b9334896-0a9e-479a-9928-2670a6f7b3a5"
      },
      "execution_count": 70,
      "outputs": [
        {
          "output_type": "stream",
          "name": "stdout",
          "text": [
            "7\n"
          ]
        }
      ]
    },
    {
      "cell_type": "code",
      "source": [
        "a = np.arange(12).reshape(3,4)    #generate a range of numpy array and reshape this 1D-array to a 2D-array"
      ],
      "metadata": {
        "id": "_2uhXB5hm9cP"
      },
      "execution_count": 71,
      "outputs": []
    },
    {
      "cell_type": "code",
      "source": [
        "print(a)"
      ],
      "metadata": {
        "colab": {
          "base_uri": "https://localhost:8080/"
        },
        "id": "olMfTkyznNiL",
        "outputId": "8715dbbf-8f94-4666-c109-e88164ce1b53"
      },
      "execution_count": 72,
      "outputs": [
        {
          "output_type": "stream",
          "name": "stdout",
          "text": [
            "[[ 0  1  2  3]\n",
            " [ 4  5  6  7]\n",
            " [ 8  9 10 11]]\n"
          ]
        }
      ]
    },
    {
      "cell_type": "code",
      "source": [
        "a.shape"
      ],
      "metadata": {
        "colab": {
          "base_uri": "https://localhost:8080/"
        },
        "id": "qAQyjX06nOow",
        "outputId": "2ec2cfcd-9663-4e5e-fd5f-a8b7212472b1"
      },
      "execution_count": 73,
      "outputs": [
        {
          "output_type": "execute_result",
          "data": {
            "text/plain": [
              "(3, 4)"
            ]
          },
          "metadata": {},
          "execution_count": 73
        }
      ]
    },
    {
      "cell_type": "code",
      "source": [
        "a.ndim"
      ],
      "metadata": {
        "colab": {
          "base_uri": "https://localhost:8080/"
        },
        "id": "FTFN4F3lnaLv",
        "outputId": "47009c1f-c265-40dc-e599-84edda3780d5"
      },
      "execution_count": 74,
      "outputs": [
        {
          "output_type": "execute_result",
          "data": {
            "text/plain": [
              "2"
            ]
          },
          "metadata": {},
          "execution_count": 74
        }
      ]
    },
    {
      "cell_type": "markdown",
      "source": [
        "### **Transpose**\n",
        "\n",
        "**Example of o/p**\n",
        "\n",
        "![Capture.PNG](data:image/png;base64,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)"
      ],
      "metadata": {
        "id": "CLcR1c8245sR"
      }
    },
    {
      "cell_type": "code",
      "source": [
        "b = a.T    #transpose"
      ],
      "metadata": {
        "id": "9ejdTzPXnbh6"
      },
      "execution_count": 75,
      "outputs": []
    },
    {
      "cell_type": "code",
      "source": [
        "print(b)"
      ],
      "metadata": {
        "colab": {
          "base_uri": "https://localhost:8080/"
        },
        "id": "HB9hHjgloLdp",
        "outputId": "821604e1-d6c6-4504-85ca-441ff09fc2ec"
      },
      "execution_count": 76,
      "outputs": [
        {
          "output_type": "stream",
          "name": "stdout",
          "text": [
            "[[ 0  4  8]\n",
            " [ 1  5  9]\n",
            " [ 2  6 10]\n",
            " [ 3  7 11]]\n"
          ]
        }
      ]
    },
    {
      "cell_type": "code",
      "source": [
        "b.shape"
      ],
      "metadata": {
        "colab": {
          "base_uri": "https://localhost:8080/"
        },
        "id": "_AgU-d8uoNVa",
        "outputId": "1ef5617c-744b-4692-bbd6-0b1f8e021308"
      },
      "execution_count": 77,
      "outputs": [
        {
          "output_type": "execute_result",
          "data": {
            "text/plain": [
              "(4, 3)"
            ]
          },
          "metadata": {},
          "execution_count": 77
        }
      ]
    },
    {
      "cell_type": "code",
      "source": [
        "a.shape"
      ],
      "metadata": {
        "colab": {
          "base_uri": "https://localhost:8080/"
        },
        "id": "--zF0sN0oY_S",
        "outputId": "3c502011-0a73-44e1-8010-5e7b0c290c9c"
      },
      "execution_count": 78,
      "outputs": [
        {
          "output_type": "execute_result",
          "data": {
            "text/plain": [
              "(3, 4)"
            ]
          },
          "metadata": {},
          "execution_count": 78
        }
      ]
    },
    {
      "cell_type": "code",
      "source": [
        "# a = np.arange(1,10,2)  --> range(start, stop, step-size)\n",
        "# print(a)"
      ],
      "metadata": {
        "id": "9-S0206Pow1-"
      },
      "execution_count": 79,
      "outputs": []
    },
    {
      "cell_type": "code",
      "source": [
        "m1 = np.arange(1,10).reshape(3,3)"
      ],
      "metadata": {
        "id": "OOASnOMcobkC"
      },
      "execution_count": 80,
      "outputs": []
    },
    {
      "cell_type": "code",
      "source": [
        "print(m1)"
      ],
      "metadata": {
        "colab": {
          "base_uri": "https://localhost:8080/"
        },
        "id": "2vIeVW_9pIfp",
        "outputId": "bae73b7c-e477-4b12-953c-83df3b55cc11"
      },
      "execution_count": 81,
      "outputs": [
        {
          "output_type": "stream",
          "name": "stdout",
          "text": [
            "[[1 2 3]\n",
            " [4 5 6]\n",
            " [7 8 9]]\n"
          ]
        }
      ]
    },
    {
      "cell_type": "code",
      "source": [
        "print(m1[2])"
      ],
      "metadata": {
        "colab": {
          "base_uri": "https://localhost:8080/"
        },
        "id": "9bb0VhdspJRd",
        "outputId": "4da93267-7564-4c80-a974-0fe6009e2a33"
      },
      "execution_count": 82,
      "outputs": [
        {
          "output_type": "stream",
          "name": "stdout",
          "text": [
            "[7 8 9]\n"
          ]
        }
      ]
    },
    {
      "cell_type": "markdown",
      "source": [
        "### **Multi-Indexing in 1D-array**"
      ],
      "metadata": {
        "id": "3UcvLVNj6HiS"
      }
    },
    {
      "cell_type": "code",
      "source": [
        "a = np.arange(2,10)"
      ],
      "metadata": {
        "id": "DdMhVvEtpRj5"
      },
      "execution_count": 83,
      "outputs": []
    },
    {
      "cell_type": "code",
      "source": [
        "print(a)"
      ],
      "metadata": {
        "colab": {
          "base_uri": "https://localhost:8080/"
        },
        "id": "Ryv0JIYPpdbF",
        "outputId": "18bb351f-2bb4-410b-c14b-6300ffa55afa"
      },
      "execution_count": 84,
      "outputs": [
        {
          "output_type": "stream",
          "name": "stdout",
          "text": [
            "[2 3 4 5 6 7 8 9]\n"
          ]
        }
      ]
    },
    {
      "cell_type": "code",
      "source": [
        "print(a[ [3, 5, 7] ])  #multi-indexing"
      ],
      "metadata": {
        "colab": {
          "base_uri": "https://localhost:8080/"
        },
        "id": "Amqxktoipd8F",
        "outputId": "781b68c6-7a59-4136-8607-bd83453a1d21"
      },
      "execution_count": 85,
      "outputs": [
        {
          "output_type": "stream",
          "name": "stdout",
          "text": [
            "[5 7 9]\n"
          ]
        }
      ]
    },
    {
      "cell_type": "markdown",
      "source": [
        "### **Multi-Indexing in 2D-array**"
      ],
      "metadata": {
        "id": "wF1nt3_z6SRz"
      }
    },
    {
      "cell_type": "code",
      "source": [
        "m1 = np.arange(9).reshape(3,3)"
      ],
      "metadata": {
        "id": "HT39COy3pxxX"
      },
      "execution_count": 86,
      "outputs": []
    },
    {
      "cell_type": "code",
      "source": [
        "print(m1)"
      ],
      "metadata": {
        "colab": {
          "base_uri": "https://localhost:8080/"
        },
        "id": "ub_i3czap6Of",
        "outputId": "8537e701-dcd1-464a-9cbf-dc750168a1dc"
      },
      "execution_count": 87,
      "outputs": [
        {
          "output_type": "stream",
          "name": "stdout",
          "text": [
            "[[0 1 2]\n",
            " [3 4 5]\n",
            " [6 7 8]]\n"
          ]
        }
      ]
    },
    {
      "cell_type": "markdown",
      "source": [
        "**Example o/p of Multiple-Indexing for accessing the diagonal elements**\n",
        "\n",
        "![Capture.PNG](data:image/png;base64,iVBORw0KGgoAAAANSUhEUgAAAbgAAAHbCAYAAAC5qo9HAAAAAXNSR0IArs4c6QAAAARnQU1BAACxjwv8YQUAAAAJcEhZcwAADsMAAA7DAcdvqGQAAFucSURBVHhe7b3b03VXdd7p/8BXufJNquwLd6XiC4q0u3C5U6HS7iZlCpPmpNgQICpTIDAgIAaVkYINCLBAijlJBgRIBgsEQuiA9IEBCUEicZKxBOYrZEFQBSPSgGXLkgA7O/3b3/tsxjvfudZea+25zs+vatQ+r72O45ljzDHn+pmNMcYYs0AscMYYYxaJBc4YY8wiscAZY4xZJBY4Y4wxi8QCZ4wxZpFY4IwxxiwSC5wxxphFYoEzxhizSCxwxhhjFokFzhThvu/9982d37jr6JVZEhzbD992w+Zl7/6D7eOpL3x689AjDx99asx0scCZInz2rjs2T3jD2UevzFJA3P7FBU/c/MxLfuWYnf3Wl1rkzOSxwJki4OxwfAid6c7p++6ZXCSMwL33Ex/YrZsEj0jOmCljgTPFeM0HLtna1MARK/IgypxqKpVoSevJ86kgUVPEpv05xWNtTMQCZ4ohxzclcMq5FNsURU5RMDa1SJgITqLLvmMd6ZMzZspY4EwxFIGQypoKCIVEg+gN4zl9SFNE64qgTBWEjXV883XvOnrnDBx39rf75sxUsMCZouD4qLSbCooqVQQTBW+KaN2mGh3F/YfAsZ5qNMicujRTwQJnioLDm5KDY11wwHoe04BTROs2NYEjOmf/af1SIw3M547gzJSwwJmiEL3h7KYCQhHFQmnUqacosakQo7Zo7EOO95QKYoyJWOBMUeQMv//AD47eGRdFHYK+LV6n/UdTATGWgEwF7TMaLuw3R2lmLljgTFEUIU2lSpEIg/XBScdIZEqFMBEEjshoSuuHmLE+FjUzNyxwpjgIyJQKTYg6JGzYlCsU2W9THadnTkKDjkaJI9tpYoEzxSECITU4JRANxAMnZEwpSMXHKlLSuFPNDqwRC5wpDuI21SIOY/qABlScUMBMAwucKY76vYxZAkRpRGUYGQDOb4yGHOnJKGwyV5ZOAwucKY6KOXyR90d0uvuMwe5yyl0MJ74mS8WqjSF27G8zDSxwpjg4VS52HtdGlfCoDzA1zQaSs9R52qZl9L1xnIjkOJYuDpoeFjhTHCrJcABc9HNAZfB1YqR0VLRcaqoPoz8z/e+cUR2arvdU7PV/csXm/z73tZtfevYFO/ut//TGzUvffGn2+1MxorF4bkxlfKdphgXO9AKOeYxyfNKickaxv4R1iWJwqDjx+7g8mVrzOWN9orOMtnTecukdm6c98/rNhRd9dmf/+gkf3toPfvjQ0beMKYsFzvSCHH5XolBhsR8pFaucAFVZKkypIKUtdsyt9sP5q3u/vxW4KGbPfdGprcDd/dXvHr1jTFkscKYYURRIq9FHEcUDy/U5pbPRN7GYtktFihRjXBczDYjaPnbq9NGrM68RuPieMSWxwJkTRHEoleZTh3xqCF4UJ1kqUk2iqAf/8ZHN7X//jc0n/+7unZ1+5DubH/3Pnxx9w0yJq6+5eytwpC+N6QML3EIhxZcTDiwVqn0RVF20lOtXAlJ9/HaooQJffuibm6t++F8qDeFDAM10uOUz924FjlSlMX1ggVsoREAxwsqlC2VptFRiPj2Ww/9K8Prkroe/nRU12cVf+9DWLvrzqzY3/+Vni22jOQz65RA47OGHf3z0rjHlsMAtnFjyPiSkFBG4vv+X9OOH/+aOrLC97s73bR594VN2Ip8akSkRqBkPCZwLTUwfWOBMbyAi9LGl0FqnsCCWjGP0xbRtyd/8t1/JihsRWypoVYbQuVJyHF5xwae2AudCE9MHFjjTG+q7S4l9LxK291x55/a97/z1A0ff2k+u3+2d953avOr2yzfP+uD5W/H6+Vc+bvv83FMX74zXvB9FjnSupxYbHh13zgNjSmOBM72BuCEcKRr/FKE/hqq6ptz/kweOCdsV99+yedoVL9uKFWlJCRjvxe9FQwh/IQgd6+q+uTw0PD7/xfu2jZOS/WVq7DBGzpjSWOBMb1CtiXCk4NBITXWFfrfrHvjSTqjeds/1W0HDEC3eQ9iwx192ztaI7PT9aPqtRI4qUXMSjpmMY1dK5FxoYvrEAmd6gwITRCOtpMSZHZKSYnybBIrITeKGWEXx4jMeSUtScBI/i8bvJHDYmKlK+qIOEf++4Jhp3XiOMJUAUZPAlVqmMcICZ3pDQwWo5IwcInD3/uh7x8SJ6Iz/SMWtrSGCErhcYcxQaPDz1KCfFHEjTcn6lSwKkcCxbGNKYoEzvUEkhGCkQwVwZl0H99724Nd3okQ6kuUjTlGsuhgpTAncPz//8Uf/NjwIB/unTbHNEFDGz3rpsaTA0dgpvUxjwAJneiUXEeHMsC7E9KSiN6Ui6+zyb922efVNn9jald/9XPY7KlLBvvitce7tJYGbYrqOdVLVI8UhpbDAmb6wwJleoTIxHSoggetSVCCBQ9QQoroqSdnL33fz7j9l51xy4+ay07ce+15MU77qM+8YZQ7LKQscx4tqR9av5C1uJHCH9Msak8MCZ3olN1RADq2LE5fAKT153q1vPyZSqaXi9uTnX7t7fvZrjvfbxcHhiB2DyIcWuSkLXNXkyIdWP2q5FjhTGguc6RXSkwhGBAeJQ+uS5tLgbkVbiFIUqWikJfkf7Nx33LS5+I5Pbc6/5uPH3o9RXCpwvEef35BMVeCI2LTPWDdes65EdKngtUXbbIEzpbHAmV7JDRWQQ6M/py3cEYC5J9X/JnHK2Vu+csvOKSNu8TMEj/f5jt7LCRx234+HExvEg/UqQclCFTVKJGh6zrE8FAuc6QsLnOkVJjNOBU5OvKtDY6hAE4GLkVoUMoxILn2/SuAQ1KFutVNK4JQGLlV6r743jOc0TkoNzLbAmb6wwJle0Vi4OFSAyELOsiu/c/mZuSYlQlWmSC2N4Oh/4/19KUrZUP1xSgUegkr5EaJSooFQsiweSwmbsMCZvrDAmVqYm1HRF8/bztVYddscHNohjpzilSYC94ZbPrn7L57H99IiExWuYLm+vaFEDmE6hDjbyBxEw0Umpi8scKYW3e2bSkg5f+ZrTGcnqUO/iUh0cMJdkMDd8T/+8oQQRVOa8umvuG4bxTEOTv+dDhN43nUX7raxau7KG++9aztIvc/7l3XdJ6AI8NDCjyFB2FhnC5wpjQXO1CKHn7OmczbmxsIdOqehJnJGaG//+29kxUiGsD3+GR/ZCRvPFc1Fe+wlz9ouk7sRpJ/JlNosOdC5JJqdfyrTXim1ieCSisyZ+vcscKY0FjhTi8QMgTr1hU9vU46KntK0YxV8v+RYOFB1Jo+kDatufCpj9hIKSrDcTCZxqi4iufRzjN+yzgwSP/3Id47WZFpov5buJ+uK0o9NDLEzpiQWOFOLxC32vSF0bQWO70cOFTgVryj1ichR7ZgTpiamG6RiVelJClaI/kh7DllZ2Qb26RQjIY4z0SWCp2MvI+VrcTN9YIEztRB5pXNJKnpiCEATlE6MInmowLEslhkjwx/+w4OdRC5Gbwhd7jsY4sbwAr1mVpUpQdTGPrVYGHMGC5yphejr7Le+9OjVGRSRNa2olCDGsXCHChxoPaLQMig7ilIT05g6rCp6ox+Pab7S9+n/mwrsy0P3qTFLwgJnalE6kr430MDtNvdM60vgtC5UekaxTe8ZV2cxNZmOfYtGvx2pydxnUxE5jS80xpzBAmdq0Tg2ojjEjpQg1jR6A/WXxUirhMBRQSlxSgV3X2UlFsWtyV0J6ow5K4eemDlHyVn+jZk7FjizF4QEUZOQKJprigQuFqVI4LqW2yt603pp3aLwVokct9qJ4sbwgCb3lNtnY9x9wBhTjQXONAJRaxO1RXICpxtndimIUMoTcWMsnsQOI13Ja9Y1N3yA2UoY56bvlxI32ZT65IxZOxY4MwiISZzNRAOSieSagmgRpbEsiZtARDXrioy06u9f9abNyz7+n7eFJFHYsKrxbofaXQ9/+2itjDFjYoEzg4CgUPUo4oTLTQYlE0EiWBKu3CwqCCDRXSp0qSF2b7vn+DyUpe3+n5S7VY0xphsWODMICEsUOGCALwLHNE4Um5CuzIld7ANkGU1SpQggRTEIHvb2T79/O4Fy1TCA0nbdA19yf5wxI2OBM4NA1EVkFYlRHIbgpVWAGiSO8fwQmlRWljT3xxkzLhY4MwgalJ3CrPxEbundp2NKkuitzd0L6tg3Z2VpG/Ju4MaY41jgzCBUCVwOjbfj+4hc22EJdRw6Z2Vbm+qclcasAQucGYQmAkffGpWWfA87NCVZRZfpvA6xqc1ZacxasMCZQZBwVRWIxEISHuO0Xn3AzCM5MerLmD7MGDMsFjgzCBqcnQpXGrXxvEmV5KGMkao0xgyLBc4MQk7gYl9byUKSpgydqnQUZ8ywWODMIESBo2hEfXJDRm05hkxVui/OmGGxwJlBkMDFdCTj4oaO2lKGTlWefuQ7R/9sjOkbC5wZhDhgG+P1WFFbilOVxiwTC5zpFdKRMWqrmkdybIac5YSI8Yf/8ODRPxtj+sICZ3qB6Iy0pIpIZGOnJKsgVcn8kTlB6sM8ANyY/rHAmeIgYnFGfyI49cHxOFW4A0BOjPoypg0DGgMU33AfO/aPLN4B3RjTHgucKUZaHYnIaVgAj1MXOPjyQ9/MilFf9vsfe9tuf+WMlO5U+ipLw/yj3Bewye2SjOmCBc4cjNKRcsqkJVMhm4vADZmqPPfUxbt9VmeI3Bz5/Bfv206kXWVPe+b127tI8D1j+sACZw6CNFqajsxNjjwXgYOhUpU//8rHbfcJdxq/+Su3bveR9h2FOHG/zmG/Rbi/X7wVUp3xXWP6wAJnOoEDrkpH5mgicKSscHbprXPG4K6Hv50VpVLGzVe177i7OEUn6fAB9rG+g+UaDlOGyIx7/L3igk8dvXMcCRxpSmP6wAJnWtEkHZkjJ3D0veDccICxRY9NQeT6mOXkivtv2Tztipft9p+iuNfd+b7t56nIxX395uvedfTuvKg6lrqj+3uuvPPoHWPKYoEzjclVRzaNKlKB487d6oPB3nLpHdt+GZwdgjeFwgP640reIBVxe+wlz9qK2rM+eP52fxDJ0RfHe++879T2e3GMHA2KONRiblFcHRxzjj1CZ0wfWODMXnCqbdKROVKBI3LDuV140WePiRmvpxC9CcaqlZjKK4obKUmlKHmfz5933YWbx192zvZ5OkZuCVFcDp0D2JSOuVkOFjhTS3SumASqLanAIWQ4trTAYIr9MURUh4qc0pJKRSJyiF38DgJ43q1v3z7XGDmIURyPSxk2gKhJ4NwPZ/rAAmeyIEgxHUkEd0h6jFvjNBG4qULfWBSjNoZose2kInOfy4jmXnX75bvXjMkTsaGxpAHgSlOTrjSmNBY4cwxErI8Z/+WgJXD0teHY5jQGqktlJf1qbLfSj21NRSccFx0Tjk+fkDKmP3SIflD1w2HGlMYCZ3YgPrGgoeSM/6nA4UBxanOroGs7KTPCxnaTkkw/O/+aj2+u/O7nTryfGv8JDPhmWRyjPtEYNo4Nz+OA7dKwbAnc3V/97tG7xpTBAmey6cjSM/5L4EhVgpzoHCvomlZWqpCEisn0s8u/ddt2+99wyydPfJYzRE5pXqxtkU9TqG5V+ljHRxWufRSCxH64q6/xDWFNWSxwKyZNRxIZ9NW/I4GTYyb9JceGU50TTafzUvSm8v8Tnz/jI5tzLrnxxPsX3/GpzVu+cqa6Mtqt3/zS7lipoVAaoigdF2yIqEr9cAirMSWxwK0UBKevdGSOVOBAA7xLOFEiAVJqOEms72hgX2UlKUm2Nxe9yc5+zRnHnqYpJS7xPYz/i8erT5Q6HEJ0YsRoTEkscCtjiHRkjpzAqdCkhBiRRiOdhrOUcPZdoVlXWcm4NrY31/cmI0pjPWMUd9npW3fOPn5X9uQ/ftHuuPWNZhrpez+qP3aI/zLrwgK3EoZMR+bICVwc7H0oOEYcsir/WO4QBSxVt9dhAmUs91k0Ck1YVxWcnPuOm7avie5y39cMKEMI3FBRXEyLzqmq1kwfC9wKGDodmSMncCo0oQ+mBERxiKYc81BFC5/8u7uPiZCGBtSlJ6MpVZla7rvxFjtDoCiuz744nQdYH5WaZr1Y4BbMWOnIHHUCh5WA6I2+OBUtDFW8QtFJ7I9jsDbbGgdt7zNSk0Rxr77pE7t9kvteFDhu69M3iq6q7ghQAguc6QsL3AIZOx2ZA3FlXaLAgRxbiUHFiFscOIzQ9VHanoOiE4lQk/63OqO6kvXPfSaBY1ovRDVOzNwX2p99YYEzfWGBWxiUj4+djsyxT+BwcoeiYgWiDVXmkWIbChWdaHhAKk5Nraq6EpN48h9Pf8V1m99+7Q29ilwcztEXFjjTFxa4hYBwaKYLbMx0ZI4hBA5iWlIiNyRM58Ukyl2n5sKUpsyNhSNyYz+e/ad/uNt3l37lM8VELhZ5IG6KiPucDNkCZ/rCAjdziM64hYqEjeitxNyREVKeCNQhkaAELl2GHFspgYtouEAbSGkijIc4WrbzEIHTLCcIXXxfxSvYOe+9Yvsdqi6J9EhXxlvsdIVtp98N0/7ruxpVRUGYBc6UxAI3Y+hXGyIdSdTF8g/px5PApcixlRY4Oc02zhmnrgKVrk5dkyK/9Po3HhOntkaaMp3lRHclYPiB0pjMeqLPmUKMgpdDYL9pH5De7fs2NrEoCOuzWtOsDwvcDFFEhbPDeN5nOlICR0VmVyTEKXJsJQVOTpMIpGnxCr/RurT5XYr21fs/85HamU72GVWVFJvE9xA2lk2hyZOff+12XdN+OoYszAGON9FaFDeelyg2MkZY4GaGyu0xRKOvOQkjiKf+s2v6U79PkXMrKXAsj1RbU2fJ92LUcoiTlcBxnGJl5aGmiZuxd33709t1zc1jienuA1OB/al0Z505ejOlscDNBBxnHNPGMIChqiPltDGed0G/T5FzKylwbQVKU4YhcocOK4gCB4fcKDWaiksYPK4pvtI+uminH/nO9v+nAIU/MVJLjcbIofvdmBwWuImTFpEgcl1FpiulBI5UaoqcXOk+uKbE1GSJ/ibtK02GzPG7+s5T27QiA7+5a3dOkOpMfW9UZ/J7Te9FMUru+zLdLHUqcIxTM6ZPLHATJi0iUVQwNFHg6P9rC06e305R4EiL8f9EEaVgW2mIxIaJrM3sJpjuShB/i7A1uY/cUAPBjZkqFrgJkisi6SIspVBlINYFCeQUBQ5KpsfY1tgoYWwiDRX24f92/q+3iuBed+f7tlEby2k6r2Vq3Lfu0MpKY+aKBW5CEOmkRSRjT7EltE5dqBI4RG0KAlcCtjE2SjDETfA5ER0FIDkhSk0zlmBdxU3G8AFj1ogFbiLgAGMRCc5wqCKSJsh5d0ECxzZFKD5oInBTFr9U2Hge38sdxzqRo1pSBSUY/W+577W1qVVWGjMEFriRIXUVJ0am1Y+DnBoSqS7j7fTbXB+iBC5OESV4j7L9KY6PqhI2gahp6jQicYpO+FxiF2+xQz8bQhaFjeddJ2uuMoucWRsWuBGJEyPzOFYRSVOIRrr0BSrtmts+jY/ikYIPRI2yfZWVU/wx1G1vmrBP2CKIGftM321iDOZuW4jSxqZWWWlMn1jgRgCHGCdGJoIbs4ikb+oETlWMqUnwpkIbYUtB6OhLRez4XUxF//KFT93OW0mfW+mIrcoscmYtWOAGJE1HjjGmbQzqBA6I0Ji1nmiNu3BPadDvIcLWBCocKQLJCVGfdt+P513UY0wTLHADgXOfUzqyJBK4qVSENqFvYYuMIXIeI2fWgAWuZ3CKMSW19HRkDvVD9SUQJRlS2CIWOWPKY4HribWmI3NIMKa8/WMJWwSRu+3Br2fFqC+zyJklY4ErDAUFSslha0tH5piywE1B2FKaDgYvZRY5s1QscAWJ/WxY17L6pTFFgZuisEUscsYczmoFjvFWVO4xkDiWpjMGK5anM7CZ4gjSjVWDnPk89rNNzVmOzZQEburCFhlD5B78x0eO/t2Y+bM6gWPapyhqVcZ3vvTn3945QgyRi6TCxvOuNwRdMhrzp1k8xoDjMhdhiwwtcp630iyJVQlcblAxM2Yw/qrqhoyPfsZFO6dI+lGDdlNhm1MJ/NBoP43BEqJrbl6aE6O+7K6Hv330z8bMm1UJnESMR1KU6fyGvNb8h3Uip+cWtmZofw1JKmz0h3aZR3MqlLozeFNzqtIsgdUInG7Ngrg1mSnjT67+/DGR+6VnX7Bzlha2dmi/DUFO2JZS6DOkyDlVaZbAagTuY6dOb4WKwpJ9t1+hpU+k9ovPefExkfsnL/yNrdNkkmTTnCEEbsnCFhlS5Hz3ATN3ViNwpB6jWFWJHI5SThL75d/8o91vHnPWpdv31BdnmqF92QdrEbYIIkfFY06USpsnZjZzZjUCR/+a7i1GNMeQgBQcoxyl7Gdf/Gubxz7xqp3I/dwLztq+7yiuGXGflmSNwha5/ycPZAWpD+O/jJkjqxI4BIpxbjxH6NIiE4hFJDL63yRwFJzgWB3BNYOKRfYh1YuHwj6nYbFmYYsMka4899TFm9/44xdsfufy82dXfWrMpAWOliMly9z9GKNPgIuaOfvaohSlBnFX9cXhRLmQo/3FPac3/+/Tr93+HmE0zWH/HSpwHBPPEpOnL5G74v5bdncY5151z7v61dvnHM+m0IDMNSKNGYpJCty+SWfpf2h7PyvuM4ZA6YIjTYnoNYXIT1HclO5XNnUOEbhU2HjktYXtOH2IHDdh/flXPu7YTVj/+IvXtOp/phGpawZjvCnXXWxY8pxr00Jo+mCSAke0Fi+2KmvTAc7FFfvdEDcutqbEIpUp3Wl66nQRuCpha+pY10jJweBEbOz3V91++e49hO68W9++efKbn7+d0adJJKdGJY9cf7p+ZOoT53mba9GYpkxO4NpOTdS0A5yLiChM0HJsc1HxfV2Yvhib00bgiMxIPVrYulFiWq+Lv/ah7b5H5HiNsBHN8V5qHJ99qWKuORqWSlfSOJTgxQkV2mRTjGnKpASuS2XYdQ986ejX1ZBSPFSYuDgtcO1pInAStug4LWzdOFTkHn3hU7ZGHxziRppSxwWhU+pS78k4XlVEkUvhfa4pRM+Y0kxK4JqmJlPbl6rUHJS5opI2WODaQ9UjDjAncKmwUR1J+b+F7TC6ihwpSY6DUpMqMnnaFS/bvPO+U8e+++57T23e9fH376JtjGNZxS2fuXfzgx8+dPTqp6ifLjdsx5hDmYzAMfddvIDa2L4oDkHiIkqLQ5ixRDPdY1ysdc7VAtceWvbs2yhwVcKGA1TfKA7RdKeLyCl64znRG8eGiC39noxCMI5lvIbqIrkcHGddVzkBNOYQJiNwh1aC1d2sUZ3dKbooo733Ex84+vQkFrj2SODYr3XCllbcYYdG3GunzTWVRm/qi/vt97ztxHej8R80CqPINSlAERx7HW9fV6Y0kxG4Lz/0zewFlDP6B9L3qCKrQhVcES5KXZA43zh4OBfFxQvRVZTNkcDF/SthA0RMlXQcJ/at9rWHYxwODT8yHOn1khppSPrW9Prt95zaHqvHnPX23XkvO/s112/OueTGzVu+csvuTuA0XpSu5Pi2Qf1wFJ0YU5LJCFzT/jcuRC4iUik8p3QZwSNdUoUqtiIqfsAoe5YjxnLEKkpHFs0gBUxqUvs1CptA3LB0n3pAfTn2jSvl+uH4POuD5+/ee/orrttOS8csPjxH1HT+R3vDLZ/c3nmA/+DY6linx7kOdSFgbtSYkkxG4OIFV2e6gKLRGc5FWjVkAIHDIlHguBiJ4vQ6hwpVMA9KrYd9G4UNyxUgKFKLwzdE7r05wzlDfxPOnHORlCzPlT4fos+xKkui9OTr7nzf7r1z33HTNnr75d/6z5uXv+/mY98ncnv1TZ/YrjeRHO+xbFCqsk0UpypnzGlKU5JJCBytv3gBVZlamqRSiNz0nEfmzCMKzLFP4HiuC5M0Sw61Mp1GqSYVNpycXueKDxQVp8dmibCNpOJ0LsqUnh1qHFiuX47IjWMUU/+Xf+u2zfnXfHwnPJedvvXYbxA23kcI9R4NzK5RnMbEuZrSlGQSAtd0/Fs6CJUKL6UsVe2Vm6fyJefftHn2OTcevToDfQa6EFXKjpGuzIEz4gKk5W2OkxM2OTelftcucDjwnIjJsQ+ZmqPPLN5uhwwIptfRWDeMNOWV3/3c9j0J35Off+3uPUwNTI4/x5xGY1OI2PVfzpCYUkxC4JhXUhdJnal0mWiN17Q4SavwngQunaPyzm/ctb2PGxcOfUKRNI2G4axzDN3SngN1wibqBA7k1JYOKchc42is7achSN8Z1wzHJ/a/RSMVqf43orW6qA4jQoxRXHrNVRG7AFzEZUoxCYHjjgHphVJlXDSxtSmBI5LjNcsSVEOScnzUM1+7vXD+j999zrELDget1ibfq0qpxAIT+o3WThNhE00Fbg37Nd1GnVdjFdQgctd867bt8VGjMWdEaURwOlYYxSW571Kx+TcP/92uorJu2E1E/bGY++FMKWYncFRPcuGov0D9B7pAo8CpJfkrLzxve+G88T0f3aYmU3gv975Q/9va+wfaCJvYJ3BK/XZttc85nTWFFC3HlOMTC0xSQ+BiFaUKS6qMyFDjHdukKbX8NaSszTDMTuAQMi4cUpIUmqjIRFMJRYFTdPaHV717e+F07T/TOJ21zq7RpNy/in0CpyrCLq12jgfRD/1YcywvV8NpCgJ36q/+64lrDYvR2+Of8ZHd81hckrPLv/TR3fnSFJY79v4wy2ISAtd2WiFETsLGY0yvaMC3LlwMBy2RapsKi6mTNaTRIkS1uZlH2kDRDr+tEjhEqotTU2k5x1Wz088NCdyYEw3rOuExrbCM4qYik/hencipIAxriq5RC5wpxSQErssky0RsubSKxsLJMRN5AMUhXDxtx1cpwlhT9WQJYROK/KoErms/lKruSG2SpuT3c4viJHBdotdSSOB0fON95ZSWlLjxHsMHLr7jjBBhej+1LgKnQi4LnCnFbAWuyiBOwxUds0qym/b3ELHposMRL50mwoZDJCpDuBhesY99Ahcj5DbouAiOz9z64yRwY1YNSuDi8VFGRcelyhC+9PqTtRU4jp2Wu7RB/mY8ZtcHV2eargunLAcdUbSA7etP44JTymTp0VsqbFTA4fByc3Jq36pKbp/I7RM40DFp2oiQKM69pS+B69J44relBJ3jE8d/aggBlZJEcdEYJoAxm0nuGpSpuvlR5z/haKn1KMOCrbWvuyucB+w/9tscG3p9MgmBK3W7/TQ9mXOqnAhq/RPRffiGL2+uvPn/v3jf+tKds+Y7ivYQuaWeMAgY+0hiVSdsAjGk4YBw6Xe8V0UTgWsbWauhMmbfVQkkcG3PL/VbdhHGHBzPtDHI7aviYPC2xmQMHPdz3vXKoyVWw/brmsTmWDA0FjqHUnMUfIZJCBwzK+QukjamufAAx4tVOeqv3vPNze/8pw+dOCnkaGVECEsUty7CFtHvVUBCmquKJgLHfmZ/c7E2ASFs8/2poqilDTFtXurcVIMwHZSdznjS1BjCoyKwD9xxfAahHDr+mPvfmsGxV4YJQ9Bo8HBNyI85Ep6IwEGTW3pUGX0GAufLhcVFG2FGE96jpcrnOPVLr/3g5oZTd20vKp0UPNfJsjQOFbYUfstymghcXSqzrcCp1Rq/j+ixHERjLigSbYOcWskWutLOHM+UOpGj0IsJFphhKL6voTyI3H978P6jJeVhO9geDOFeW6VyV2L3SbrPiIDZl9gSG+htmIzANZ2PMrUobqBOcx65cIky5NAxXqeFE0snFTYMse8qbEJ3YGgicHXfUaVqU6edCpyGDOiCLwGOgRZwn2lQRWNN0XaXdlxqFKZpSlElcggcIoapoll3JsAYp5qDdachEiMQbE6NkzFpcr3kGoFrZDICB21uekonuPrcBCkWpVuiqX+trq9oiVQJW6n9oDsw1NFE4HQxNk1PKfLRBa4IECuRllELWMvsk6ZCFVOTfQiBrpuqxl+VyBG9KR3JrEJ6TmSXNj5FKmzY2h1xU3Tu77tWOF/4HpmpNTMpgQMGm9bl/RlSwMUm0tSjjNdEGGm/wlrAUcV9UkLYEEyJmvrfYvVdjj4EThcvjlIXPFYisonpHZ5PxfFKxJvuo7ZwnXCcaAxVRfZ1IsdvZcwV+6ffu21bqJJDRTI6hmMOk5gb7C/OzTQtmUPnTJPvLpXJCRxQpkxlJWX/2zFy3/r05vc/9rbN71x+/rFoJDVFak1FDYeP45UtgT6ETbCP4v7G+K+6lG8fAgekIvmNHrESYqToAnGbClHE+3RWSjlzzKpA5GJ/OWlKps2L5wSR3Nf+9qdT5pkyqCipaZZC19WaGxCTFLiIIoacIXbqU2vSn4TwIYBpv5wMMZgrCIjEBON5adFWKz9nipjTYpK+BI5ILaa6SvSVyYFMbfiBWuJDRJO63vZdCwjYq//sjze/cJSSJDXJ0ID/cOXvbV+znLVmT/qC871NylENoyHOm6kyeYGTGOEoMS48nGgT543oVaUwZXLMfG+OfXSscxQ2HEtpYYtoP3JM2Gf08fH//C+WOsYmAqdO8y7pNyKtUtEW/18izVkSto19M9R6xTQ0j2njEdHieokNxFf+6R9uvv6D/3b0jZ9W12I8b9L4NPXoPGjT/yqBm1qDbUgmL3BtweEjgNHpR4tR3xwFTeA0EBNt175UYSn4X/Zv030nQawTOEUoY88Yo/WYEhL/IVvhHOOq6yca36k6rryvYz/UublkKKiikdMGGkScO10ajkthtgLHRchFQwtRrUpdUKnxvqK0ucN2x8pIHnk9VXQM6gROYxBzTnzIDnKNyZoSY0aVHDMaUQgZ5xkRHc8535o2cOK5aqHrDudAl0jMAjczdNHJcVYZF6PEbyngHOQsMEQbwZsyWtc6geMixEipCFIyXJhNx8aVABEZO4pMYb/MPcWEGI6RbVgKmrmnS2PPAjcTcJD70iZLSD3mYNtjdMp2zmUbtc5VAqc0ii5ghE2R1Jo7xwXRbak+xrHJCR3p7qk30saG64ECky5Y4GZCdPDxAuGCWULqMQfRZxT1uj6PqaJ1r1pvdZ5jpGF0QS7FqR/KGKnJvkmFjqwE2YilNUxLwXXRdQIDC9xMwNnjJGVLbvXlWrpzTeloG+pSxbRQiVRID3q6pvXAeR776DCyE0ttsHZBDcCufdEWODMZEG1asrrYufBxAHNG22JMFZz3NOBilsbpyzMQuR0y3ZYFzowOF3Hakp1DAck+WH9tjzFNIDsTsxcYr6tS3EuHrEaTIiMKUeizTlPaCBwCudbMiAVuZNKWKxfzUvoicEraLmPaoPRlGtXx3pr66hCnJlNtaVYf+uv0/VjAha0RC9xIpMI2xwKSfVjgTAnok6NvTucStpa+OoSpSf8boqYiLYx+7TiHKbZGLHADg9PXVEgYz5eafpHAkXo15lDWFtWpwKQpfD+KXJyrtc1yloQFbiBw9rHknwtzrpWRTZHAsd3GlGQNUR0RWNvxb/HuGtG6jqObOxa4nqFlmY75oTpsDbCdbLMFzvRFVVS3hApMBK5NBaRmPMnZWidctsD1BBdXruR/7hddG9heC5wZCqK3mCXhmpvzAHKKRNoIHFWURGqaCShaiTvdzxELXGEQMBx7LPlfUmVkGyxwZgzSrAlG+nIKfd3c5fy+H39/8+WHvrm5+W+/sr1pLDeQvf3vv7F9P6VNapE+OKI4ilJSgVvrzEAWuILQpxaFDce+RmETEjgejRmaXGNzrPTlvT/63lbQrvzu5zZv+cotx0x3R8c+/Dd3bMUOIQSKRroQo7hDBorPHQtcAUiNxD4AhG2plZFtUBGABc6MDY3PWL2M6BHl9X23kR/9z59sbnvw61vxQtye/orrjkVW2JOff+3mstO3nhA6RJGikS7RF+lNoj8s3qVjbVjgDmCNlZFt0L6xwJmpwDWbpi85T/u4bhE3pSGx86/5+FbQzrnkxq2oRZF7/DM+srn8W7cdEznso7d/dbUFIiWwwHWAtGMsUaY1aCd+EgucmSpcw2n6Utdx026FfdEf/WxRrIjeEDYiOV5L8GRnv+b6Y9/H+O6zXnjjIu8qMQQWuBbkOq+5INZUGdkGCZzTtWbKEL3FTAzGdV533nLd8z1+l+P+nzxwTKjecMsntyKGwMX3L77jU9voTSKXpioxhPDGW/7yaMmmDRa4BiBgseRfF8CaC0iaoH1lgTNzgIgsl77Mnb9REPlN2silUCSKFMJGahIxS0WM1xI5ojxFeNE++XfN0pT4JNbXje4zWOBq4CRJ0xic2H13TC8F7TMLnJkTSl/q/NV1H8/jKHAYBSwSFfreojgRpSFeVEwSjWHxc+yl116xi+L+w+s+cuJzjKiwDord5Kt4tJ9aucDRj5brXM4J25LnjOwL7Tu3Js0cyXVJIGxp1bRMosJ4tihM577jphOpyWhX3H/L5udf+bjNY172yp3InffBm058j2rMOlgvrQeP+Ky1s0qBQ6jiicmJAWq5RWFzZWQ3uNC1D42ZMzmhixY/w3d88W+OpydJPyJy8b1o59369s2jL3zKVuieesFPI7lcfxzRYR2sQyyAWzurEzgcb2x98RyLJwXGiYrYOfroRmxEGLMEELo0NZmz956+eSdIiBRiRZFJFKpo5566ePO86y7cPn/zV2/e/OpT37X9Df1x6Xdzs51E8GUa78fztbM6gUuFLDVOCkdshyOB80VmlgQiR8EZ53XqOzAE8GPf/9JOkFQ9mRvjJiOCe9YHz9+9/rkXnLWL4lJhvOvhbx+tSZ6YPiWyXDurE7i0GlKm3Lopg+8kYJaMzu9YXCKoeJQgvfx9N29TlFGkUnvnfac2T7viZdvnb7vn+u1y/91r37MVuLTvjurMOmicy6fZn61I4EhN1kVvLiApi6rQLHBmqeBTcl0YUeAYvJ0bwF1lpCu5bl512/t3UVzsi6sbLhD7vV1gcobVCFyT3DkniCmDImUejVkTcQwcEVhdgUlqj73kWduKSgpOGDeHwDGsgCiPz6sEDt+l4jgeSaWaBQscE4zKoK4KSmaBK4caFERyxqwJJkmWYEmg9Do1IrbHX3bO5lW3X77ti+Oa4T0+e/VNn9j+/rf/8KPb9+mnywlcKm72Yz9lcQLH/ZC4PYTCe9mjn3HR5p+88De2J0GVOU1ZDgkcfRXGrAlK+bkbACKF76kSuIu/9qETPkjRG58zMJzfP+mlV20/QwDTPrgobhjXHY15Hi10CxM4ojUJGvdR4lYRei171DNfu/nZF//a7oTAqDrihHBYXw5ddG40mDVCtSMihc+pEjgVlDAGTr4IgeN9Pqfycuu3nnQm3U+aMq2i1JCAnLlxuQCBi7NsK3LjZn+Cu9v+mxe9cfPYJ161EznGmSByiJorjfpBF5kFzqwVbpWDv6lLUSJoXCc8MhZOz9XnJp+lKst0HJwyJTIalhTT+bo7w+wFjhsCImy3fObe7YnA8/TWElQ6/cU9pzdPecF7dyfMS877uG9B0RPsb11wHihv1gr9ZfiaOoF73Z3v2/a5KWrjkYiOYhMmXeb3NMjpo+PzdCYTri+GBiBoTkmeZNYCp5Qk/W6kJHn+sVOnjz7NIyHESGFa5MrDxSaBM2atcD84/EydwOWMPjj629QH96u/ddn2vX1j4MxJZi1wiBkRGyBynAw87uPzX7xvJ3JEgKYsEjjSJcasldOPfGfrY9oME4imWVAY9M3rB//xkaMlm6aMLnA//IcHt7NkxwPLa4wQn1YLZbe5SUbpa7vwos9unyua2xfBCb4nkWsiiqY5HuRtzGYrSMwn2WagdzSEEf+E0BENmvaMKnBxvMg+o+w2rSBC3CRwcPU1d2+LSprCbzmBFAWaMljgjDnD71/+6a2Pyd3EdJ/pJqjX/487995FoAqyKRgVlVyXDCHg9VoYTeBo3WisSBujMkkHG4FqGrHlQAw5gTBHceXQoHouKGPWzGe+cKbPv+5uAjlTevLcPzq1V9wQLKrBJWA0LOPYuGi8v6bJ5EcTOI0T6WISuVTgdDuLNqX/iuKI/kwZVLpsgTNrhyK2Jz/zus1TXvDRVlEcU3zhl77+V/dvl4NvQ8i4ppj+rk7EMMbHMVyA7+MP1xS1RUYTOPrXcge2qfF7xCmOedMM3wzcblqerqpKKipNGSRwHmNozE99zCvf9WdZX5baf3z/NdvvP/vFH9pdS1WWCpmGCiBoRGoSxLUyaYHTmBCNEUntd1//Z1uRExxcHfim0cN3/vqB7cmEmTLoGKy11WhMijJFF73tc5vbf3DP1v+9+Wsf2Y5vYxzcU9/x4s3/+brf3Pzic168/R4TU3BfOF1LGGKHWGncm+A5jXuELnefOiK9tc7SNJrAxRm3q4yxHxwgJiPNff7br73hmMCBwvY2t4uwwJVFF5YFzpgzkKpkSBJ+5v958tWbX3r2BZt/es6zt9cJsyr9wnOft3nMWZfuPr/gsiu2jXSuoVSceI/P9kV3CB7Ct+YpCEcTOMaI5EQrNUb0c7ByURzlt694/fHUYrxrQNOR/Ra4smj/exYTY45DuvKJ//7qnc9J7XdfdWpz1ak/2woYAoU1FTSiN/wfqUpfe2cYTeCookwFK2e6ASDztKWfcbfc3/j31x4t8QycDDrgTdOUOrnM4cT9b4zJQ9U2BXLYtTfcvTnvjVefSEnuM7JVjtLqGU3gIBWsnOmWEkRy6We6X1I69q1tmtICVw4LnDHtiNdMnUVB87yTzZi8wGFKU+o+STJu5Y4wfeimPz9a4hlimrJJqM4ymMvSHI4uVi5GY0wzVCRCGjIavsyC1p1ZCJzSlMy8Hd/n9b980pWb33rudUdLPENsEe0L3TXFV1qsYrpBhRf7nYvTGGPGZBYCpzRl2g/HLdz/2dkv3woUEyh3QWNUDpkRxfwU+j0tcMaYKTALgcO4CWA6XID3fv2tL9rOFNB1Pknd9ZvxcOZwLHDGmKkwqsAx5VYUrDrjjrY4Tr1WVEf68qO3fLVTFKa5KD3ZcjkscMaYqTCqwDUZ7C1jxD+OU+Ph1C+H0N3/kwc6RWJM88VvSFOaMkjg1jw9kDFmGowqcPf9+PsnhKzKNKsJd7rldYzoEDiEjUpIrInIqbiE6M139S4HwsZxQeiMMWZMRhU4aHPLHKI2zU1Jf5z65HQ7Cd3VG5FDwKqQGPJd3yanLKQmLXDGmCkwusC1vW0OIvfO+05txY2qSiYtjSBYEi9SkGk0R7WlPnflZHkscMaYqTC6wEGbYhMZqUrSlKQ5Uyge0ezd2K896YObf/ucK3evMfe79YMFzhgzFSYhcD/8hwc73d37tge/frSEkzDY+3lvetPmUc987Vbc/uD1t25FjxubplN7mXJY4IwxU2ESAgdtRU539U5hJg05WWbX9k03h8UCZ4yZCpMROEDkrnvgS1lBkyGC9NtFmKeN6j1NssyjHew4WOCMMVNhUgIn7v3R9zZffuib2xQkYsYwAOyv//7/292GnUlIcabcMQCHqoiNz8146HiQIjbGmDGZpMBVUXU7dsTODnUa6Lj4eBhjxmZWAkd/GtEbVnULCW6Pw+eIoZ3s8FjgjDFTYVYCVwe3xSGSUz8c6Uvf5XZ4LHDGmKkwa4Gjv41ITYUNmCO3cbHAGWOmwiwFjtRkLC7BiNxIW5pxscAZY6bC7ASOfrhU2Ohzo+/NjI8FzhgzFWYpcKQkMVKUFrZpYYEzxkyFxRSZmGlggTPGTAULnCmKBc4YMxUscKYoFjhjzFSwwJmiSOA8ZZoxZmwscKYoGpNIZasxxoyJBc4U5TUfuGQrcMwqY4wxY2KBM0UhckPgGIgf8bRpxpihscCZolBcon44FZoQzTGFmjHGDIkFzhRHtzXiUSlL98kZY4bGAmeKw1yhuqsD5v44Y8wYWOBMb5CidN+bMWYsLHDGGGMWiQXOGGPMIrHAGWOMWSQWOGOMMYvEAmeMMWaRWOCMMcYsEgucMcaYRWKBM8YYs0gscMYYYxaJBc4YY8wiscAZY4xZJBY4Y4wxi8QCZ4wxZpFY4IwxxiwSC5wxxphFYoEzxhizSCxwxhhjFokFzhhjzCKxwBljjFkkFjhjjDGLxAJnjDFmkVjgjDHGLBILnDHGmEVigTPGGLNILHDGGGMWiQXOGGPMIrHAGWOMWSQWOGOMMYvEAmeMMWaRWOCMMcYsEgucMcaYRWKBM2alfOevH9j81b3f33zs1OmtveXSOzYXXvTZnf3rJ3x4r73igk/tvs8ybvnMvdtlGjMFLHDGrADEDPF5z5V3bkUpJ1aljf+5+pq7N3d/9bubhx/+8dGaGDMcFjhjFgZi9vkv3reNqIisnvbM67MCNLRFwTNmCCxwxswcRWdTErMmRkqU9f7BDx862hJjymKBM2ZmIAhEaAjEPkFD9EhLxv6xJqZ+OYzfq58Ny/1PlbF+rCeRW11qlM8sdqY0FjhjZgBpvX0igSFAiBIiNQT0rUVRRAyf+6JT2fVCvJqIM8sxpgQWOGMmCqKGYNRFaYjJFPu1EDKEKq47z9P1lHCnooiQG3MoFjhjJkQTUcP5Ix70vU0dhC5NaxLB5eD9KHSO5MyhWOCMGZlctJMajn/OfVSse9weRDwHKc8ocnPdXjMNLHDGjATOG0cfHX80BI/03RwitSYQoUURJxLNbRv9efoO0Z8xXbHAGTMwRCl1ERtOvSqNN3cQtHS7Efk0UotpzaEKZszysMAZMyBpFBMNp74GZ47AU0WZbj+irxlPEEK97yjOdMUCZ8wA4LBjVBJtLcKWwjan1ZOIv6LXmL6dWpWomQcWOGN6hsgkOnHZWoUtJa2exHiPtKVe87kxbbHAGdMTuQhFztrCdpK00jItwllqv6TpDwucMT1QFbXxvqkGEdO+0rAIvXYUZ9pigTOmMLnS/6qSeHMSRb2azcRRnOmKBc6YQlABiFOWM5bhoFUdaPbD2D/tO/ZbjOJcUWnaYIEzphC50ndHHO2hYjLdf3HfpmPmjKnCAmdMAdK0JOXuTkl2g6hN+xFhgyh69M0Z0wQLnDEHkoobaUqnJA8jF7HptUTPmH1Y4Iw5gFj1h9F/ZA4nRmw0IEAD5VV8Ysw+LHDGdCSKGylJz7ZRltwYwmjscw+7MHVY4IzpQBQ3DwHoh3Tgd5UtAbaV6J8olUeEW8a5xsQAnhygPRY4Y1oS+9xcTFIe+i9x6rmq1NSWkBJGxHLbts8QQ8z9vdVY4IxpQVpQ4rRkeZoImwwhnDsIHA0lCZWiNYzIjs857xCzXNrWkV01FjhjGhLTkhiOx5SnjcAtwbkjbG36E2PEpwIck8cCZ0wDYlUfRmva9AMOPzcjTM6WEr2Q5kbkmmwP32PbY9Rn8ljgjNmDnI+cqh3LMMQpu6psSXCe7etTjA2tJfQ/9o0Fzpg9pNGE+zyGg7RwbFzIVG24NqLo+zzcjwXOmBrSKMLTRA1PGkFja3XusbFl9mOBM6YCnGh0qu7QH49YPcjztU64rH3g2VyaYYEzkwQHplb7GKko+tiiU7W4jQvnA/1PRHNz6v/8/gM/2Jz6wqc3Dz3y8NE73WG7dT66yKkZFjgzKYiaKIOOqRiEZmhiapJ1cVGJyXH6vnu29uHbbtjZm6971+Zl7/6Dzb+44Imbn3nJr2ztNR+45OgX3YkZBU843QwLnBkNRINWOWJCi1QXbzSiuKH7W4gS9P8Wt2lBRFQiGmoLIvbZu+7YClgqXk2M3x1KFDiPwWyGBc4MBmLGhUnrMzcjg4zPSAkifGMUdUhsEVfEzozDez/xga2oIC48P/utL90Jxn3f++9H3+ofUoxRrNraE95w9tGSDsMC1x4LnBmEOPtCaggaokdJ+NjFA3E9h44czWYrXAgKopATC4zoiUhuKBDZ3HrkLBfZlUhPglOU7bHAmUHQhYlpDNMUBC0SU5NLaCEjAuojmhJaJ6X8MERgX9qPCK5UwUZbEF7WWZEj68z6pJC+ZF31KCtBLDJxFWUzLHCmEaQM5fi79Enpwpxy9ZdSk2MUtTTlzm/ctRMFDEcaLabxog2Z0qsDkcitX5UhfAjhkBFbUxDbFAlbehxKEVP77hvejwXO7EWpEVqN9EshdvSntSFWRQ4JrX2cKs6IfhwJAZVuvC+IJLV+bbdtKNr2BUUnO0bUkwOhjesoIyXJceEYIeIIGuKWE5Epw3mV275SqKGJLeFOCn1jgTN7UasREYh9VG0KMOIM8UP0beEY1ZquMyHHMYUIEycf11HOnxQez+v6p6Jp+3OptLEg6tT6IWB1kZmi1DkRty9aKeIdLdwPtx8LnKmFaIaLCQGA2NHdRqji3Zn7HridRjo4ehyPIgOBg1UUp0HlU4jeWK+4/ocay5sKsdGxT7w4VmOnVmnEISo07Hjc16jjHIv7XlaK2A+HOU1ZjwXO1KJ+KRWDRKFqI3CxgKPvDnI5UdJFdak5HCwCp3VD5KZATKuyjpgGD0eBaGr7hGRI2gjc2MTB/tE4f6vOfY5b3PeyksQ0pedGrccCZypRv1RMhcQUZdvWY+wg77N6Uk60qQOVI5tTykciKCFEAKtSl1MSkph+HWq9ECPOPRprTdPqiIj6m3Xecn7EvuSqPrC472UlUVYFY91MNRY4U4kcf7yQo8C1JbY8q5xDCdoKnJwW2zZ3clWUiOBUIO2o9UKUhyCes02PsUSE81RZDKXWeU/Ly6W0cw2N0sTG4hTS6lPFAmcq4SJK03aHCFx0DH32w7URuFg9yfbOPeWTS2FOSeBA60XRTBeIyJpGYhDT6m0aMfwH54TEJBYg6Vzms5TcMShNvJamUBg1VSxwJov6pVRcIg4RuCgmfV6UcjBNiivUaU8Uxza36VecInMSuDbrhkOP6UEsPTer4JjqN20EDvitIrj0nNX6pKn6tAoWKz1Mg/9UYRTWZ8p/zljgTBYJGY4lcojAQbwo+0JOnscmsI20xHFgc69KyznXqRHXrck4tzTK1nOsSSZAjTWsrcCBzvkqgUvFJa3ixfpoZKgLAXOxSR4LnMmiVmvq8KPAtUkTCS0X66vVSWoSp9J2/BdC13adcCyHFKfwfyyD/VpCXHPzJk6NuG5N0shKMSJu7CP2VYzmmhwzfbeUwPGfvJervEXM4jZifQhcjExT8TVnsMCZLFw0uf6FeFF16dyOrc6+0oESOKxvJNhttwVHHYtuMDnwQ8jNFDI14ro1ETjtp1TIFM01ES0dpy4CJzGN0SKNmqrl5QSuSaTaBdYBywmtscCZDErp5CKTKHBdCkXUGsa6OJsmRIHre4qqOkdXh5wmjknLwEqkmtJJi6dErKLEmlRSIk65xpbOpSbRixpWbaNtRY+YGjESXI5drkGSbiPWRMi7IOHGzEkscOYEErGc0z50DE4UyL4ELragm6SGDikukQNsWvAA+k3cfu2TLo2GlLTQZEqk0U2TflKceE7EVEnYRODaiGFEjQ9FSDHqTs+ZeB7FbcSGELguXQZLxwJnTlAncHIUsrQIZR+KDrG2zqYp0YnSJ1VHdFg4sa7b0yZFxD5Mt73kPkkLTaZEKnCs6z7YJ7n9ooZCk32m87ZNoyw25viveK7oPCFtyrKVLsX4XdxGbAiBa9IXuTYscOYEErhcNKEWbUyxtY1+dEGWcOZVNHEs0elpnbC226PfN21B4xzZfxH9d4kIjm2OznUqt8qBdK7GJo6/SuB0/JrsM30XayIEpB45t/k+xyoVNyymlqNB3Easr0Htug71v+Y4FjhzAi5uLpjUCet9HDrPY+uR7/K6iTjoN1hfqB+qbiwc64sTw+HFvpacM61Dzg8n2gT+j+/L0caotuky6kgFrq8Chy6k69ZU4HIRss6/JlF3FDiO9T6ieMUGEM8lfNE4/1mujmncRqzpkJU26HrEWC9zEgucySLnQetYF23Okasly/f5nItuH1o21hfqh6obKsD/sy4CJyXn1WQ7BPuA37AfmsJ/qQo1imuXytSUVESmerscrInA6byLQqZGAtbkWEWBY3l1KIOxzxCVeH1E4jZifQhcPG/2bdNascCZLEQVUYhkit4OIS63aVqvLaSE5FxyxKhJ4KzUcm+TppSzjWK5D36j/YjYaV0O3beQiggWbxM0JvG4YPv6SEH7l8YHx4V9pH2WS0/yHY5F3JcIHMeWBsS+fZw776Px+b6oMW4j1ofAxciyzfm6JixwphYuHJyDrIQDxin1fWFGJ5/rg+J/tQ4xalJLP10vtZZxbjlRxtm0ETgR16NNBFhHTuCmkqZUZC1rUuUKipKjIXK581ECFT/jedNzN/0fGcd4n7CJuI1YaYGL+4P1MnkscGZwJCJYXwIXq/UobEiJwoKD0HrkIjh9F4eKEUmkIodT7SJwcsaYnCeOmOeknfi8qVMVOYHrI4LoQipwbQpgaIhoP1c1tmLqsmt2QL+XcU60PQZxG7HSN52NUX/bdVsTFjgzOFHgeN4HcUYPHH4O/j+meRAUvY7OM/YB8T4RaLreON22/SCpyOLAJbDRmhRFCLY7FRGsL4EjMsw1IKpI16s0Orckgl3gtyxDESKTBdx4y+c3L/i9j2wuvPI9231ZZ+ktiyh4arOP9hFFPFd8Y36KBc4MTnTsfQkcyMFUlWgjVIiKBEyWClWTwhOcYk6IWH6VQMmR5gznKkEFhAuhrjIihHQGk2g43kPhP7Q8HDb/y3P+t+mMMfq9rCksn/9k3BzbUpVypaHA8YrHiufsyxiVV8Hx0jF4yfk37cTqXz7pyu17jznr0hPbsM9KihvEFH+uD9L8FAucGZyhBE43nmzi3HGCrFfqBFWMguDUgWOlZR1hmdrONF0W90E0RC+uA0UYCHSdeO0zftu0r6uK3ABtlovosX5NikXSKaz2HRdEjeVGYZXlKkMlTvGc4j01ULB9aUtF8Pzun57z7M3PvvjXNo9+xkW73yN06brss5Kw/nF70nPOHMcCZwYnOve2ab024EBxMAhdV2j5s577hDgXpem3GMIVYXn6TJ+n4pq79U1bQ3xKzMeZVj/KEC2iKaK5fcS0MVYlcIhpTtRk/C7Xd8c+VPSG5dK96T6OqJBIURH/86/OeveJZfC+hJ3nuTt4YyUaFoCIsd4xcsPSc8qcxAJnBkdRUd8XKc5HzqYrEqJ9Lf8cSn3ymDpWHDDbjlWJZxOBYxsRFwynG7e5iejsAwdd5cBx8IDINXXkcVkIAOsrS/uuovFd9kdO2ECNJvYlzxWJpUajIwfHA3GM6c1UUGT6PIf2xb5hGYhW1To2Mdazyzm5NixwZhR0ofYpcFEgusL64UwiOEmcU064IjHdVQVONF2+IPLCWeasytGXpipyw7qsAylHxCq3vNQQQ45hkz4sRWs5UWL/6nlVqlkNGUXisS8utbpj3hQJam75+4zzyuLWDAucGQVdrH0KHBGMnGVTaHnjUOVUcUJpGhXnElvfOE0cLE4S4/tymFXiJdh+vjdVqsQI4ekKwli1XN7nuLVJq8aqwpxxfOLrtN+K1xwnjilwfFNRjMKZng9dUeqRBhPnC//B+ZAznV8WtnZY4MwoyFlw8fZFE4EjGuJ7pMjkdHnEgdPKZh2r0lo4G1r8ODy+hyOUQ5JTxWnVwXf53lQdV06IeO/Qfj1+H1OSRGv05XVZLvsfcUqFrMrSY6Ljp8gsXQ6v0/dKRHGmfyxwZhRiCxnnROu0NLFQQRA94EjTIgacLe/HtBtOjPVLW/wpitbiNihl1uW3U0Jp3th3dkj0Fokp2K6wf9l/NEJoJLDfY3SdsxhV6xjHhta+32Msw9HU9LHAmVHAIaVOo7TDiAUX8blMolZVEEB0Rst9HxIpfVeRX5PoVH09So9NFfrOtN8OEaTSEI1V7TuOnxoaqSkqVwQdGyI855gqfajvpNbk3DDjYoEzo4Gg4USwPlrD0SnLlArbV+UGOEcVHdTBusvp4Rz5Dc/Zrn3EYoOqVOgUiBFvk303FIhP3X7TscBi1oC0pBpZTaJnNWKixUgwhUYA/bikv2W8d2hq17TDAmcWjZwMYte26o/ooK4kPCLnqf6gJtGbUB8Qv2v6f0OCoEnccgOsx2Tf/orRFw0RjimRF8/5rOk+jwKHaGKK+mLaO6Zyc0b/Zdvz0HTHAmdMAWKkIGfaFPUjYU2iiaGhgSAHjSMfC4RBfXZNokiES/s1F20RYcfUJLBc/YeMbX7VH310t6xLP3Tdbuxerghnn/Ebhl80Gf5gDsMCZ0wBcKaK4khttiVGCKnTHRNSanLiJaonu4DoKDIigoz9qYhvDoTpmpu+sNunTJTMdymQkThh+yIu2aOe+drdsv7Z2S/f/NKzL6g05qvcZ0z/hf3J1Z/vJT1vzmCBM6YQpL/kBNumGqNAtklv9k0c6D1W9KYIkkdFVaSceY1ViRVCouPxi8958bHPsJ97wVnb+SZ/4bnP24nTL//mH+1E6LFPvGr3+76NY972nDH7scAZU4hDU40qesDqZj8ZClJoEoOh+t4QL/73qk/esHnT+z64ed6b3rT59VeetxWiGCVhRFUSo5xpX87FppienjsWOGMKorJ0orEuLXINKB674IT+rti/hPD0zVsvv23QqOlQe/5//Njmd191amtEYJiOX1vjvJlSanopWOCMKQiFC3JauRa5CiWqCgzi79MZN4aCfraY7is1sHsfF7/1v2wef9aZbf+/nvb+bRSm+7ANYRIpjGMnU5UrNuWhHOYkFjhjCiHxeuF5N+wc4gvefNG2f0hiEa0qKso51DjrR1PrAv9DOlLryPMhC0uIWrXtJUyCxT6VYJH+pSHRZJwiKCrrGpWb8bDAGdMAlY9rXF2sxouihVG8IAf7q0991/ammel3ckZKkOX977931i5yIWVH/1Pu+/tMt7Npgwo6sKHFTSDqCFEaSaXG9yRUWDpUg9eHEvtVEUkzLyxwZjUQYanyTkY1HsJFhaDeQxiqxCsagkQqT496j0eKIOQY24icDJGM/VGUpue+V2ddCkO0zWOJW1cQIlWhYqXEKFbGTqHwx7TDAmdWA+KVikCVKZriEWefipmErM5iJV8JkWN5Wgb/L0Gusi4CRaSK2M9J3EgbxuIOnpdIJbIMiWbVfJdm2ljgzOqIkZzugo0hXHreRMD2GWKEsMnxVolc/N/UXvT212+e8Oz375bxuKdcvXnz+6/bboM5KW4l+8lIg2q5JdKdZngscGZxqMhCIiaxKCFaOWO5+g/65vS/9Nf9xT2nt+XkcpRdo4vobDH3B50hFuQgbqVmBYnRW0nRNMNigTOzhFSaCj7oMyONmBOfEqYIi//h/9Rv1yaKio64q8jhvEmVHbqcJcB2x8gNKznlVex7o3Fh5okFzswCREVRElY6GssJGCJakihyVAh2Accel7PGSA4hS9OSJcenUZGpZbvvbd5Y4MwsKBWhsRzETEI2dF8WwibneUhkEEVuTf1DbKtSh1jJtKSI4tl0rJyZJhY4MwuIphClnFH1p363KpsKRGAxzdjVgcYU3Rr6iBCx2DjA2P7S01vFvs4ud4Uw08ICZ8zA4KzlRA8Rp7icpTpjBCxGqzL6yEqLeqnjYqaDBc6YEYizbhCJdHWmsRhiSem0KmFjX/W1nTFC9KDuZWCBM2YkogPvKnL8Rn1SY9+BoARVwsa29TnRcWxwODW5HCxwxoyI+tEwhKpL5MBvtIxDosExGUvYwKnJ5WKBM2ZkUsfepX8ppioROZz2HECcdQ+9aEMIG7CfFAFjTk0uCwucMRMgLX/Hwbd1tlEou0aDQ4CoIMhso9ZXNpSwAfsn7vOh/tcMhwXOmImA448pS6ztnZ5jXxKG6E0h5YaYVIkaxnYPJTDsjxjxYha3ZWKBM2ZipPNOEmUgXE2hyjAKCc+HTlkiyqxzLv0oY70QmiHXDaGN+4Z9a3FbLhY4YyYIApEObMYxNy2RJ0qJ4jKEI98XpWFjiBqw39L9yes20bGZHxY4YyYMohT7ieSYeb9J6jH9fUmRQ6SI0lLhSA2h5XtjiAn/mRbxOGpbDxY4YyZOrs9IhriQ0iR6IkrJiR5CdKjIIRQsn/9CsFLRjUZ/GuvbNNrsA/ZDmurFWK8mDQOzDCxwxswERSN14pIzRDBNG/JeE4u/qTKWzXo1jSr7Jo1aMdbP6cj1YYEzZmYgIjhxIqm6/q6+jAhNgjYl0WB9ckI+ZiRpxsUCZ8zMQfBw4qQpSctFi5EMz3H4OVGMURvilS6H5U9RKJSKTLeJ1wieWTcWOGMWCoUdOHoES46f54AopILA9+fSP4WYx+2K22FhM8ICZ8xCUUQHCJcEQSJH8QkRWyoSfM5vpwbrWzUMge2wsJkUC5wxC4WUIo4/kooc8L3cgGxSmmOMWYsoUsuJGuvHZy4eMVVY4IxZKDmBg5zIAUKR68/CKCwhhTmE2EnU0kpIGWLsaM00wQJnZo+KLGTmDOyXnMCBIrZU5ITSgTmRQQD5HWJYZfF4YFVRlo4d4lk1vk6RGqI2lz5CMw0scGbW4IjTiAMHa85QJyya2BlxqWNfRNWHSdSm2Bdo5oMFzswaOWmlrHCIOEeznyhyTVN+RFs0IIi2iA5zlktxNjF+q+jPmBJY4MxswSnjGFPnjIM1zSDCo0GA9VWsoTRklfX1v8ZY4MxsQcho9afMNYJTP1TTaKoUiIwiKGOWhAXOzBJa/bnojffn2AfHOrM9MoQOwRsquqG/i/8dc0iAMaWxwJlZQl8bDnkJ6S2JdZUNIdiK4vYVnBgzJyxwZpYo4lkClOOzLaRcea7Cj2hEWH3D/xA5GrMULHBmliBwCMESoM8QcVE0SpoQQSOq0mdY3yXz/Jf74cySsMCZWYLAlXbGCEgsVZf1mQZFzBCvKrHmc4lcn4KulO8Q6VBjhsICZ2ZJHwIXo6XU+qpspM+L5delIJXCxPqC9Cjbv4Q+TWOEBc5MFqIXIihEAIHhuehD4CQi9EPxSFQjAdLr0rAdLLsuctJ3sD7Q8l1gYpaGBc5MBqIHnCzCJYeemsrYJTwlYXkSTZXpA+LKZ11ShEp7Vs2hOLbA0WhguS4uMUvEAmdGByebihpiQtqOR70XhUKOuUo4usDyNAsKwhSdvsaJtYXl8buq6E/iVScw+m+tWynYd6Ql2ccl96MxU8ECZ0ZF0ZEcOFET4oXjV58Y7+f6wPisZNpQ65FbpoSoDRJhrKqPLW5/TmRUhILVRXlt4b8QNvaxxc0sFQucGY3UeePsYySHKCASVRD1VAlHF/hPHD6Cmjp91qttBKXIS485+B8JOf8Rt1cipPUqJURaLqaUrzFLxAJnRkNRkRw8htMlimvizBFEflsKBFMVizFlKBGqSyOm8BttG9QJifaDDKHD4n4pFamyHgg1+7mUYBozVSxwZlBwsAiYIhMMh4uwtI0mJDy59GUXKHJhmYq4JLaKKuuiyRR+x2+aRpipyMlKbh8iyfJYJ4ubWQMWONMriAYOGqeKkMlxIx6KlhCQriAkOO3SDlvL1bryug0S8DaiyDawrxA7foeV2C6Wwb5me0r2WRozdSxwphg4UpwyDpp0ngQCQ9wQORx4dNp8j8+bRjo5EJM26cOmsJ5dBj7zO23z2HA8WA/2T9zvxqwBC5zpBI6faEBiFqMzTBEaglYnEjjdKHJdnDC/UeptCrDNbE/bqK8k7BP2P8fFUZtZKxY4UwvipKgMAVF/VDTew5ni0PluF9QH1VWkWE9EFesSdZWEbWBbxoqYEDSEjX061joYMwUscGYLwhQjspyQKRXId/hu6RJzRT48dgFnHoVyrMgFcRkzmtwXNRuzFixwKwExQsSIshABRWOxn0zG+30KWR38JwJxCAgd28l2DB3B8H/sw7HENQdix/7o2nAwZq5Y4BYCjjUKmKKwnIDxXhQxHB+/HVoMcrAOrN9cnTH7kfWfCtqfOg+IwqdwnI0ZAgvcQkAQUiFLjagNQVNfGTZkdNYUreccYX/ScJgKrAsRMaKmc4TXUzzuxpTGArcCcG4SNJwc4hGjvNTGTq9p/cxhkJpE0KKY8VwRnUXOLB0LnJkcVGRa4A6HhgopyZQocnNNBRvTBAucmRyIm6sAy4CI5fYlUT3iR4RnkTNLxQJnFg8Onn49nDkpWCLEtaTnaCzkojiwyJmlY4Ezi0b9UOpbxJEjdhRaYBTcLL2qEBFD1HNY5MySscCZRYOAkabLQdENYsfnc+rzU9FQUxD5OvGKItdmucZMHQucWTREbohYHTh4Kkr3fW8qsK6lIy5EEKHXkAJjloAFziwaHHbT6AwxnEOaTtFW6fF2RLss1xWsZilY4MyiaeOwiWKmNMVWFQgx24WVjrZoEBDJOYozS8ACZxYNYrC0iESRFlY64mR5fSzXmDGwwJlFs0SBU2UoRrqyJERuLHcu/ZHG1GGBM4umSZHJHIlpytJj+khTsnxj5o4FziwaxG2JzlqpRKxqjFtX2F8WOLMELHBm0ZCebOqs6duaQ5GJoBgEgSPiKokFziwFC5xZNIp0mqDye/q45gCRm6K4kmlKC5xZChY4s2iYmQMBaFL2LjGci3NH1CRwRJ+lIDIsPcbOmDGwwJnFgwA0mYIqVifOJYojPcn6lhJlUrQsz8MEzBKwwJnFQ+qxaYQjgZuLg49pyhJQlOOB3mYpWODM4kEEmqbc1A9XujKxLxRxYYdGnUp5eqousxQscGbxIAJEJU1ACPnuXPrhYlr1kDsBELEh7qUHjhszJhY4s3g0O0fTSsO5VRGWEDilJufS92hMEyxwZhUQmTVNO+Lsu44tQyCG7r9SWrWrwEncSs+IYszYWODMKmiTpqQPCsFoSyzbPySaagvRZtf/RNwQSEduZolY4MxqICprUh2JwDUVwwhigdAM3YdHdMr/tkXi5opJs1QscGZ0cLCaUgtHnTMc8aHTaCFuiNw+h95mei+hfj7EbeixZPx3mwiM77N9CJwxS8YCZ0ZHfUhN7NDUH/+1rwy+i8AhZqyflo147PufMUAI2QdzGednzCFY4MzoEPUgDohCLrrCKSsNd6ho0E/G/9UJZZtxc0LrN+W+LLadCHbI/kFjxsQCZ0YFQUO0EIe6qAmnXELggOgFkauqGuS/2lYU7lv/KcB2uZjErAkLnBkF+qlUlIEhOHVps5ICBxK5EpMUD93nNiUQTPYjESzbn4vAjRkLC5wZBByfRA2HKGFr6hgRIr5/aKFJhCiNqEvVlV2jGwn1Gp0728w+1PFsc0yN6RsLnOkNHByOTv1ThzhAfoMw9uE0iQ7pd5PY8T+IVlP4Deu3VjiW7Ls0KtexZv8aMwYWOFMUoiCirZKtepbJMtqIzlAQBbJuJSPLuUHamOMtOMbsD465jv8Uj51ZPhY4czA4eSKgtNz/EFGL4Bz7it4OBTFn3dZMKnARGidq7JTqPzWmKRY40xqEBuGS8EjQlNorGc2ULi4pDftiisI7JHUCB+wfpX6NGRILnGkEQoMjS6M0XhO9tS2rbwrLx8x0obGzrw9SUZwxQ2KBM1lILclx5aK0EqnHfSCo/F/X6kY45LemHDSCLHBmaCxwZoeqCdMojdY3fU19RWk5lJrsku5EeOVQMVfxjY/OKWOGxAK3YqqiNKUdx6oMZL1Yny6DsBFhbQvCTN/P2oobEHTZFOB46rwyZkgscCuCyAbRQrxw/BI0ng+VdtwH/48jZH3aInHD5NwRuTUJHNut44qxLzjeYx5XDdLv0mAx5hAscAsmClpMO0ZBm1ofVVdxA36LQ4+p1LUJHMdUx1iFHVgU/aHRuTdkitsYsMAtCAQNB4dAzEXQIqxjV3FDyNnWNEpYm8AB28u+oGGDqEWhG1pkOCd1DhozNBa4hRBnjZBTx+mPmZpqA8LUVdyA37Lt6fayXKKXueyHUnDs01TtGEKjhschx9aYrljgFoD6XXAmawUHjuXg/bU7WBV6YENGcYom3f9mxsACtxDU/yRHvzaxqxM4ojf2zdpFjpQlYjNkXxzHZOj/NEZY4BYEToSWMo9rS8nVCRyowpJU7tr2jVA0NaTYsM/5T2PGwAJnFsE+gQOErWuVJik+Gg9TGErRBQm8BA5jP/Ae29QX/J8LTMxYWODMIkDccNZ9wLJx1NHmVPKuoQMyBCc+72tbEFH+Y1/Dw5i+sMCZRaD0W2nUb0X0RuSmqsA5OG3WNyfOGMLWZ+QGErh9EzEb0xcWOLMI+upfyjloUnu8P/VCHglMNLal9D6qQpEjx8aYMbDAmUUgZ16yHF3LTPvcVHJfIjJhfYmyiKhKR4WsN2LMcolEhx7kr0aHBc6MhQXOLIZSoiMQuKp+Pf7r0D4/RTiI0Jz69JpigTNjY4EziwFxw6GWggioannq29oHIqm5QFMRY32XXGGoVO5QKVFjUixwZjGQ7ivtUKtETJWIORAyleAjbKxXLj3IMhC/paJGgAXOjIUFziwG9Y2VTInlhElCGtOhRHu8j2ghbPv6vLSuS55xRo2Auv1gTJ9Y4MyiQFxKF2tEEDL+A8dNZIIpFYdDp18tLUrJof63pTp/pXcxY8bCAmcWBeJ2aPFHHernU/qR5/xn2zFliCKCuFQQfu0bY8bCAmcmDf1ZipSwfdGRKvf6iIwUqclw3qxTFxBIlrdU4gB5Y8bCAmcmhQo01H+TM8SBSConLppppKvwVBFTbocIGyg9WXodp4LSuFiTdK0xfWGBM5NB4pQajhJRkcXP0iINBJL3+xh7hSCViAwR7yWnJz3+zUwFC5yZDGkKkCgtHTtGRICoqf8rlwLj/SmX3xPBpdu1FGgEsP85Po7ezNhY4MxkQLiI1iRw0YjcJGoyXuciKqIjvm+GBXFTanKpAm7mhQXOTAZFZ1UiJ6vqfxNKZZrhUFqSRofFzUwFC5wZDRwh6TpSk2l0JuN9xCqKHs/r+sIscMPB8VNBECLntKSZEhY4MxhEXThBIrCqKA1h4jtEcqmzRBD1vTpHaoHrFxoXNEo4hti+WVuMGQsLnOkFHB6te5xfVXSGc0TsKBSpSzkKFaGwvDokoKYfOFYci7SC1ZipYYEzRSC6QqgQl6oxbERVCB7C17bFL3FDuPalwdQfZIxZNxY40wlFaEpVRSHDELk20VkViBnLYZn8T5MCBgucMQYscKYRUdByERppw67RWRWImf6L6K9pAYMFzhgDFjhzAoSF/hUVhNQJWq4YpAREffwPUVvb+Qz12ybRnjFmuVjgVg7ioarDXKoR430+R/AQjz4ELUWFDF2jQUSZ9ZYIs7w6weN/+I5siG00xvSLBW7lIFoSNgkC75FqnLOjZ70l3lGsc4YYSuRlbL8xZt5Y4MwWHLrLvo0xS8ICZ4wxZpFY4IwxxiwSC5wxxphFYoEzxhizSCxwxhhjFokFzhhjzCKxwBljjFkkFjhjjDELZLP5X5aom3TFIeAZAAAAAElFTkSuQmCC)\n"
      ],
      "metadata": {
        "id": "rGo4kNaL7L70"
      }
    },
    {
      "cell_type": "code",
      "source": [
        "print(m1)"
      ],
      "metadata": {
        "id": "JJOHBzYb8aKy",
        "colab": {
          "base_uri": "https://localhost:8080/"
        },
        "outputId": "2eeb5ac4-0301-434a-b32c-53de5c5e684d"
      },
      "execution_count": 88,
      "outputs": [
        {
          "output_type": "stream",
          "name": "stdout",
          "text": [
            "[[0 1 2]\n",
            " [3 4 5]\n",
            " [6 7 8]]\n"
          ]
        }
      ]
    },
    {
      "cell_type": "code",
      "source": [
        "#access the diagonal elements...\n",
        "print(m1[ [0, 1, 2] , [0, 1, 2]  ])"
      ],
      "metadata": {
        "colab": {
          "base_uri": "https://localhost:8080/"
        },
        "id": "rfbKY6Ksp7GV",
        "outputId": "0dfb4aac-910d-4718-a5b8-068119dc199d"
      },
      "execution_count": 89,
      "outputs": [
        {
          "output_type": "stream",
          "name": "stdout",
          "text": [
            "[0 4 8]\n"
          ]
        }
      ]
    },
    {
      "cell_type": "code",
      "source": [
        "print(m1[ [2, 1, 2] , [1, 0, 1]])"
      ],
      "metadata": {
        "colab": {
          "base_uri": "https://localhost:8080/"
        },
        "id": "WPg927yoq-ke",
        "outputId": "31e86dd9-8d59-4700-e67c-0a18a93acf7b"
      },
      "execution_count": 90,
      "outputs": [
        {
          "output_type": "stream",
          "name": "stdout",
          "text": [
            "[7 3 7]\n"
          ]
        }
      ]
    },
    {
      "cell_type": "code",
      "source": [
        "print(m1[ [2, 1, 2] , [1, 0, 2]])"
      ],
      "metadata": {
        "colab": {
          "base_uri": "https://localhost:8080/"
        },
        "id": "wNTrPR3CrVg4",
        "outputId": "bf3d896a-0485-41a4-bd9d-f5425972cbf2"
      },
      "execution_count": 91,
      "outputs": [
        {
          "output_type": "stream",
          "name": "stdout",
          "text": [
            "[7 3 8]\n"
          ]
        }
      ]
    },
    {
      "cell_type": "markdown",
      "source": [
        "### **Slicing**"
      ],
      "metadata": {
        "id": "03UGvMio8zeo"
      }
    },
    {
      "cell_type": "code",
      "source": [
        "a = np.arange(12).reshape(3,4)\n",
        "print(a)"
      ],
      "metadata": {
        "colab": {
          "base_uri": "https://localhost:8080/"
        },
        "id": "stzeVk-FrauU",
        "outputId": "caf8ba0e-704c-48da-9412-58a645a2752d"
      },
      "execution_count": 92,
      "outputs": [
        {
          "output_type": "stream",
          "name": "stdout",
          "text": [
            "[[ 0  1  2  3]\n",
            " [ 4  5  6  7]\n",
            " [ 8  9 10 11]]\n"
          ]
        }
      ]
    },
    {
      "cell_type": "code",
      "source": [
        "print(a[0:2])"
      ],
      "metadata": {
        "colab": {
          "base_uri": "https://localhost:8080/"
        },
        "id": "TJtNYmSGt20S",
        "outputId": "569f3952-d357-4d98-b676-ffcca840be80"
      },
      "execution_count": 93,
      "outputs": [
        {
          "output_type": "stream",
          "name": "stdout",
          "text": [
            "[[0 1 2 3]\n",
            " [4 5 6 7]]\n"
          ]
        }
      ]
    },
    {
      "cell_type": "code",
      "source": [
        "print(a[:, 0:2 ])"
      ],
      "metadata": {
        "colab": {
          "base_uri": "https://localhost:8080/"
        },
        "id": "RKlkZsf1uG-m",
        "outputId": "80d12c31-b246-4f52-a76c-e9834dd712ab"
      },
      "execution_count": 94,
      "outputs": [
        {
          "output_type": "stream",
          "name": "stdout",
          "text": [
            "[[0 1]\n",
            " [4 5]\n",
            " [8 9]]\n"
          ]
        }
      ]
    },
    {
      "cell_type": "code",
      "source": [
        "print(a[:, 1:3])"
      ],
      "metadata": {
        "colab": {
          "base_uri": "https://localhost:8080/"
        },
        "id": "q7ZqgPsEuSZt",
        "outputId": "ced406be-32b0-43f9-e0b5-d2d9af698db7"
      },
      "execution_count": 95,
      "outputs": [
        {
          "output_type": "stream",
          "name": "stdout",
          "text": [
            "[[ 1  2]\n",
            " [ 5  6]\n",
            " [ 9 10]]\n"
          ]
        }
      ]
    },
    {
      "cell_type": "code",
      "source": [
        "print(a)"
      ],
      "metadata": {
        "colab": {
          "base_uri": "https://localhost:8080/"
        },
        "id": "dWTBOvj6uvto",
        "outputId": "526f39f9-55d5-48a6-ac29-7beb0ca0c2cb"
      },
      "execution_count": 96,
      "outputs": [
        {
          "output_type": "stream",
          "name": "stdout",
          "text": [
            "[[ 0  1  2  3]\n",
            " [ 4  5  6  7]\n",
            " [ 8  9 10 11]]\n"
          ]
        }
      ]
    },
    {
      "cell_type": "code",
      "source": [
        "print(a[0:2, 1:3])"
      ],
      "metadata": {
        "colab": {
          "base_uri": "https://localhost:8080/"
        },
        "id": "lAW5RQLGumYO",
        "outputId": "25d73e89-8d66-4186-bdd9-b54f8146ebc0"
      },
      "execution_count": 97,
      "outputs": [
        {
          "output_type": "stream",
          "name": "stdout",
          "text": [
            "[[1 2]\n",
            " [5 6]]\n"
          ]
        }
      ]
    },
    {
      "cell_type": "markdown",
      "source": [
        "### **Boolean Mask (i.e. Masking)**"
      ],
      "metadata": {
        "id": "EqHrdlNp9E5c"
      }
    },
    {
      "cell_type": "code",
      "source": [
        "print(a)"
      ],
      "metadata": {
        "colab": {
          "base_uri": "https://localhost:8080/"
        },
        "id": "jM-Ermn_u5Mz",
        "outputId": "6894003e-bbd7-453a-90b3-31d43859ea10"
      },
      "execution_count": 98,
      "outputs": [
        {
          "output_type": "stream",
          "name": "stdout",
          "text": [
            "[[ 0  1  2  3]\n",
            " [ 4  5  6  7]\n",
            " [ 8  9 10 11]]\n"
          ]
        }
      ]
    },
    {
      "cell_type": "code",
      "source": [
        "print(a < 6)   #boolean mask"
      ],
      "metadata": {
        "colab": {
          "base_uri": "https://localhost:8080/"
        },
        "id": "QvUQRfwEvAmd",
        "outputId": "b83f1fae-0dae-4fa0-e6b6-dc5344bd3269"
      },
      "execution_count": 99,
      "outputs": [
        {
          "output_type": "stream",
          "name": "stdout",
          "text": [
            "[[ True  True  True  True]\n",
            " [ True  True False False]\n",
            " [False False False False]]\n"
          ]
        }
      ]
    },
    {
      "cell_type": "code",
      "source": [
        "print(a[a < 6])    #extracting the index value based on the boolean mask condition given..."
      ],
      "metadata": {
        "colab": {
          "base_uri": "https://localhost:8080/"
        },
        "id": "eq7Azse9vOq9",
        "outputId": "6e161f21-f8c7-4190-b55e-ee204b8da315"
      },
      "execution_count": 100,
      "outputs": [
        {
          "output_type": "stream",
          "name": "stdout",
          "text": [
            "[0 1 2 3 4 5]\n"
          ]
        }
      ]
    },
    {
      "cell_type": "markdown",
      "source": [
        "### **Array Mathematics - \"axis\" feature is used**"
      ],
      "metadata": {
        "id": "6fUEn0Uf9jBd"
      }
    },
    {
      "cell_type": "code",
      "source": [
        "a = np.arange(3)    #1D-array\n",
        "print(a)"
      ],
      "metadata": {
        "colab": {
          "base_uri": "https://localhost:8080/"
        },
        "id": "4dA2SC1VvW8r",
        "outputId": "dc90a2dd-b246-4143-84d3-c36c9d8127c2"
      },
      "execution_count": 101,
      "outputs": [
        {
          "output_type": "stream",
          "name": "stdout",
          "text": [
            "[0 1 2]\n"
          ]
        }
      ]
    },
    {
      "cell_type": "code",
      "source": [
        "a.sum()"
      ],
      "metadata": {
        "colab": {
          "base_uri": "https://localhost:8080/"
        },
        "id": "PxjGxhGAvnjN",
        "outputId": "ffef6609-47e1-4496-b9e1-62a38f270f92"
      },
      "execution_count": 102,
      "outputs": [
        {
          "output_type": "execute_result",
          "data": {
            "text/plain": [
              "3"
            ]
          },
          "metadata": {},
          "execution_count": 102
        }
      ]
    },
    {
      "cell_type": "code",
      "source": [
        "a.mean()"
      ],
      "metadata": {
        "colab": {
          "base_uri": "https://localhost:8080/"
        },
        "id": "2suA4ifyvvH1",
        "outputId": "e2d6d873-8a51-4c7a-e9f6-f07a2e5174f5"
      },
      "execution_count": 103,
      "outputs": [
        {
          "output_type": "execute_result",
          "data": {
            "text/plain": [
              "1.0"
            ]
          },
          "metadata": {},
          "execution_count": 103
        }
      ]
    },
    {
      "cell_type": "code",
      "source": [
        "a.min()"
      ],
      "metadata": {
        "colab": {
          "base_uri": "https://localhost:8080/"
        },
        "id": "F3flg59nv2gn",
        "outputId": "7b95903f-05aa-4d91-a2c5-2afa2ca6ab3b"
      },
      "execution_count": 104,
      "outputs": [
        {
          "output_type": "execute_result",
          "data": {
            "text/plain": [
              "0"
            ]
          },
          "metadata": {},
          "execution_count": 104
        }
      ]
    },
    {
      "cell_type": "code",
      "source": [
        "a.max()"
      ],
      "metadata": {
        "colab": {
          "base_uri": "https://localhost:8080/"
        },
        "id": "wk5tqyAvv6ie",
        "outputId": "c637c505-39f8-49a0-e243-ad964f8a3087"
      },
      "execution_count": 105,
      "outputs": [
        {
          "output_type": "execute_result",
          "data": {
            "text/plain": [
              "2"
            ]
          },
          "metadata": {},
          "execution_count": 105
        }
      ]
    },
    {
      "cell_type": "code",
      "source": [
        "a = np.arange(12).reshape(3,4)    #2D-array"
      ],
      "metadata": {
        "id": "Jc7u0d9Fv7oh"
      },
      "execution_count": 106,
      "outputs": []
    },
    {
      "cell_type": "code",
      "source": [
        "print(a)"
      ],
      "metadata": {
        "colab": {
          "base_uri": "https://localhost:8080/"
        },
        "id": "MPpZKAJpwBuQ",
        "outputId": "57ac60dd-0325-487a-c091-fec7e408d076"
      },
      "execution_count": 107,
      "outputs": [
        {
          "output_type": "stream",
          "name": "stdout",
          "text": [
            "[[ 0  1  2  3]\n",
            " [ 4  5  6  7]\n",
            " [ 8  9 10 11]]\n"
          ]
        }
      ]
    },
    {
      "cell_type": "code",
      "source": [
        "np.sum(a)    #NOTE: Industry standard to use np.<math> functions to use istead of direct just math functions as before codes..."
      ],
      "metadata": {
        "colab": {
          "base_uri": "https://localhost:8080/"
        },
        "id": "l7pvWxUGwCRj",
        "outputId": "00b7b5f7-09b1-4fbf-9578-a17771a26f0a"
      },
      "execution_count": 108,
      "outputs": [
        {
          "output_type": "execute_result",
          "data": {
            "text/plain": [
              "66"
            ]
          },
          "metadata": {},
          "execution_count": 108
        }
      ]
    },
    {
      "cell_type": "markdown",
      "source": [
        "**Example o/p of column wise sum & row wise sum**\n",
        "\n",
        "![Capture.PNG](data:image/png;base64,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)"
      ],
      "metadata": {
        "id": "vsbksvbw_3lC"
      }
    },
    {
      "cell_type": "code",
      "source": [
        "print(np.sum(a, axis = 0))     #column wise sum"
      ],
      "metadata": {
        "colab": {
          "base_uri": "https://localhost:8080/"
        },
        "id": "2Ck10-XwwICa",
        "outputId": "cd45c3ac-466e-41bb-9117-68dbc29fc03d"
      },
      "execution_count": 109,
      "outputs": [
        {
          "output_type": "stream",
          "name": "stdout",
          "text": [
            "[12 15 18 21]\n"
          ]
        }
      ]
    },
    {
      "cell_type": "code",
      "source": [
        "print(np.sum(a, axis = 1))     #row wise sum"
      ],
      "metadata": {
        "colab": {
          "base_uri": "https://localhost:8080/"
        },
        "id": "ZRB3-eu6w8k7",
        "outputId": "abf5dbb0-a123-453b-f3d2-dfba06412ed1"
      },
      "execution_count": 110,
      "outputs": [
        {
          "output_type": "stream",
          "name": "stdout",
          "text": [
            "[ 6 22 38]\n"
          ]
        }
      ]
    },
    {
      "cell_type": "code",
      "source": [
        "#axis = 0 - perform this operation column wise\n",
        "#axis = 1 - perform this operation row wise"
      ],
      "metadata": {
        "id": "_ptX5EnZxRWX"
      },
      "execution_count": 111,
      "outputs": []
    },
    {
      "cell_type": "markdown",
      "source": [
        "### **Masking and Boolean Indexing**\n",
        "\n",
        "* Using **np.where()** to select elements based on conditions (i.e. similar to **If-Else** functon)\n",
        "* Using **np.all()** to check if all elements in a boolean array are True\n",
        "* Using **np.any()** to check if any elements in a boolean array are True\n",
        "\n",
        "**Example data's to check the np.any() and np.all() functions that is done internally**\n",
        "\n",
        "![Capture.PNG](data:image/png;base64,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)"
      ],
      "metadata": {
        "id": "gSSLvr2QDEQn"
      }
    },
    {
      "cell_type": "code",
      "source": [
        "a = np.array([1,2,3,4])\n",
        "b = np.array([4,3,2,1])"
      ],
      "metadata": {
        "id": "ooHJR05Axhak"
      },
      "execution_count": 112,
      "outputs": []
    },
    {
      "cell_type": "code",
      "source": [
        "a.ndim"
      ],
      "metadata": {
        "colab": {
          "base_uri": "https://localhost:8080/"
        },
        "id": "tJ94r_t4xp7p",
        "outputId": "8b04a718-f788-4b76-fd8b-aa4b281e004f"
      },
      "execution_count": 113,
      "outputs": [
        {
          "output_type": "execute_result",
          "data": {
            "text/plain": [
              "1"
            ]
          },
          "metadata": {},
          "execution_count": 113
        }
      ]
    },
    {
      "cell_type": "code",
      "source": [
        "print(a)"
      ],
      "metadata": {
        "colab": {
          "base_uri": "https://localhost:8080/"
        },
        "id": "i1-7QJnHxrd6",
        "outputId": "a935edce-3b4e-454e-fd6e-1efcb7ff9c3b"
      },
      "execution_count": 114,
      "outputs": [
        {
          "output_type": "stream",
          "name": "stdout",
          "text": [
            "[1 2 3 4]\n"
          ]
        }
      ]
    },
    {
      "cell_type": "code",
      "source": [
        "print(b)"
      ],
      "metadata": {
        "colab": {
          "base_uri": "https://localhost:8080/"
        },
        "id": "aZdfGIe5xthw",
        "outputId": "7ed2812d-d503-4da6-d89e-dd9f76baf9dd"
      },
      "execution_count": 115,
      "outputs": [
        {
          "output_type": "stream",
          "name": "stdout",
          "text": [
            "[4 3 2 1]\n"
          ]
        }
      ]
    },
    {
      "cell_type": "code",
      "source": [
        "np.any(a<b)  #to check if any elements in a boolean array are True (i.e. Element wise comparison)"
      ],
      "metadata": {
        "colab": {
          "base_uri": "https://localhost:8080/"
        },
        "id": "0Q4O9DmbxuXt",
        "outputId": "40c48cc4-3090-4b4b-a7ed-90cbf3df73e3"
      },
      "execution_count": 116,
      "outputs": [
        {
          "output_type": "execute_result",
          "data": {
            "text/plain": [
              "True"
            ]
          },
          "metadata": {},
          "execution_count": 116
        }
      ]
    },
    {
      "cell_type": "code",
      "source": [
        "print(a < b)"
      ],
      "metadata": {
        "colab": {
          "base_uri": "https://localhost:8080/"
        },
        "id": "nGtLJZ5Gx_km",
        "outputId": "03a5acb8-432f-4d3b-ece5-0ceb0150aaba"
      },
      "execution_count": 117,
      "outputs": [
        {
          "output_type": "stream",
          "name": "stdout",
          "text": [
            "[ True  True False False]\n"
          ]
        }
      ]
    },
    {
      "cell_type": "code",
      "source": [
        "a = np.array([4,5,6,7])\n",
        "b = np.array([4,3,2,1])"
      ],
      "metadata": {
        "id": "fo3B8AiRyuVD"
      },
      "execution_count": 118,
      "outputs": []
    },
    {
      "cell_type": "code",
      "source": [
        "a<b"
      ],
      "metadata": {
        "colab": {
          "base_uri": "https://localhost:8080/"
        },
        "id": "hADWxUvvyu6S",
        "outputId": "716c9c12-ebf7-4c2b-9f1e-5eb99f1e7061"
      },
      "execution_count": 119,
      "outputs": [
        {
          "output_type": "execute_result",
          "data": {
            "text/plain": [
              "array([False, False, False, False])"
            ]
          },
          "metadata": {},
          "execution_count": 119
        }
      ]
    },
    {
      "cell_type": "code",
      "source": [
        "a = np.array([4,5,6,7])\n",
        "b = np.array([4,3,2,1])\n",
        "np.any(a<b)"
      ],
      "metadata": {
        "colab": {
          "base_uri": "https://localhost:8080/"
        },
        "id": "LwyNC6XnyPKP",
        "outputId": "ddda0697-2013-47f9-af60-f22e7ef88eba"
      },
      "execution_count": 120,
      "outputs": [
        {
          "output_type": "execute_result",
          "data": {
            "text/plain": [
              "False"
            ]
          },
          "metadata": {},
          "execution_count": 120
        }
      ]
    },
    {
      "cell_type": "code",
      "source": [
        "np.all(a<b)      #to check if all elements in a boolean array are True"
      ],
      "metadata": {
        "colab": {
          "base_uri": "https://localhost:8080/"
        },
        "id": "TqV3WyBAywZ4",
        "outputId": "06e803c8-af15-4dfa-a923-d6cc4e33431a"
      },
      "execution_count": 121,
      "outputs": [
        {
          "output_type": "execute_result",
          "data": {
            "text/plain": [
              "False"
            ]
          },
          "metadata": {},
          "execution_count": 121
        }
      ]
    },
    {
      "cell_type": "code",
      "source": [
        "np.all(a >= b)"
      ],
      "metadata": {
        "colab": {
          "base_uri": "https://localhost:8080/"
        },
        "id": "RO09jhzty9QE",
        "outputId": "e4e8b89a-191e-4c2f-8cfe-ed868cf1cc3b"
      },
      "execution_count": 122,
      "outputs": [
        {
          "output_type": "execute_result",
          "data": {
            "text/plain": [
              "True"
            ]
          },
          "metadata": {},
          "execution_count": 122
        }
      ]
    },
    {
      "cell_type": "code",
      "source": [
        "a = np.array([-3,4,27,34,-2, 0, -45,-11,4, 0 ])"
      ],
      "metadata": {
        "id": "TJ6jW2bBzB-j"
      },
      "execution_count": 123,
      "outputs": []
    },
    {
      "cell_type": "code",
      "source": [
        "print(a)"
      ],
      "metadata": {
        "colab": {
          "base_uri": "https://localhost:8080/"
        },
        "id": "dj1Aqk-bzLLf",
        "outputId": "9b8def67-325f-4690-8dba-08dc9bf87e1c"
      },
      "execution_count": 124,
      "outputs": [
        {
          "output_type": "stream",
          "name": "stdout",
          "text": [
            "[ -3   4  27  34  -2   0 -45 -11   4   0]\n"
          ]
        }
      ]
    },
    {
      "cell_type": "code",
      "source": [
        "print(np.where(a >= 0, \"pos\", \"neg\"))     #to select elements based on conditions (i.e. similar to If-Else functon)"
      ],
      "metadata": {
        "colab": {
          "base_uri": "https://localhost:8080/"
        },
        "id": "yTVJByaszMdo",
        "outputId": "36b126d9-28c5-407b-b7b9-38c033a5f4df"
      },
      "execution_count": 125,
      "outputs": [
        {
          "output_type": "stream",
          "name": "stdout",
          "text": [
            "['neg' 'pos' 'pos' 'pos' 'neg' 'pos' 'neg' 'neg' 'pos' 'pos']\n"
          ]
        }
      ]
    },
    {
      "cell_type": "code",
      "source": [],
      "metadata": {
        "id": "iPX0QYgyzcEp"
      },
      "execution_count": 125,
      "outputs": []
    },
    {
      "cell_type": "code",
      "source": [],
      "metadata": {
        "id": "4z5IC4BPLXCn"
      },
      "execution_count": 125,
      "outputs": []
    },
    {
      "cell_type": "markdown",
      "source": [
        "### **doubts**"
      ],
      "metadata": {
        "id": "6yVBOVLwRZQp"
      }
    },
    {
      "cell_type": "code",
      "source": [
        "a = np.arange(9).reshape(3,3)"
      ],
      "metadata": {
        "id": "Wekq2Zi_7Rpo"
      },
      "execution_count": 127,
      "outputs": []
    },
    {
      "cell_type": "code",
      "source": [
        "print(a)"
      ],
      "metadata": {
        "colab": {
          "base_uri": "https://localhost:8080/"
        },
        "id": "jwpHlhbw7VTx",
        "outputId": "ad8d0e6e-1705-4bc3-a1d6-446350438a19"
      },
      "execution_count": 128,
      "outputs": [
        {
          "output_type": "stream",
          "name": "stdout",
          "text": [
            "[[0 1 2]\n",
            " [3 4 5]\n",
            " [6 7 8]]\n"
          ]
        }
      ]
    },
    {
      "cell_type": "code",
      "source": [
        "print(a[:, 1])"
      ],
      "metadata": {
        "colab": {
          "base_uri": "https://localhost:8080/"
        },
        "id": "9LmY_UUG7WBi",
        "outputId": "3af388aa-6bc0-4b52-8e0b-4bf734503ac8"
      },
      "execution_count": 129,
      "outputs": [
        {
          "output_type": "stream",
          "name": "stdout",
          "text": [
            "[1 4 7]\n"
          ]
        }
      ]
    },
    {
      "cell_type": "code",
      "source": [
        "print(a[:, 1:2])"
      ],
      "metadata": {
        "colab": {
          "base_uri": "https://localhost:8080/"
        },
        "id": "50NpgmjV7cL_",
        "outputId": "ffce172f-08e3-4ed1-b8d7-d9503e2b3103"
      },
      "execution_count": 130,
      "outputs": [
        {
          "output_type": "stream",
          "name": "stdout",
          "text": [
            "[[1]\n",
            " [4]\n",
            " [7]]\n"
          ]
        }
      ]
    },
    {
      "cell_type": "code",
      "source": [
        "a[:, 1:2].ndim"
      ],
      "metadata": {
        "colab": {
          "base_uri": "https://localhost:8080/"
        },
        "id": "A92zZuve7e1_",
        "outputId": "03610f10-19f0-4023-cca9-259b85539857"
      },
      "execution_count": 131,
      "outputs": [
        {
          "output_type": "execute_result",
          "data": {
            "text/plain": [
              "2"
            ]
          },
          "metadata": {},
          "execution_count": 131
        }
      ]
    }
  ]
}