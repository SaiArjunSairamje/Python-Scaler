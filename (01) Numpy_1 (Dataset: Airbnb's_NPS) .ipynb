{
  "nbformat": 4,
  "nbformat_minor": 0,
  "metadata": {
    "colab": {
      "provenance": [],
      "include_colab_link": true
    },
    "kernelspec": {
      "name": "python3",
      "display_name": "Python 3"
    },
    "language_info": {
      "name": "python"
    }
  },
  "cells": [
    {
      "cell_type": "markdown",
      "metadata": {
        "id": "view-in-github",
        "colab_type": "text"
      },
      "source": [
        "<a href=\"https://colab.research.google.com/github/SaiArjunSairamje/Python_Libraries/blob/main/(01)%20Numpy_1%20(Dataset%3A%20Airbnb's_NPS)%20.ipynb\" target=\"_parent\"><img src=\"https://colab.research.google.com/assets/colab-badge.svg\" alt=\"Open In Colab\"/></a>"
      ]
    },
    {
      "cell_type": "markdown",
      "source": [
        "# **Personal Note**\n",
        "\n",
        "**NumPy Syllabus for Data Analyst/Scientist:**\n",
        "***\n",
        "\n",
        "**(1) Introduction to NumPy**\n",
        "\n",
        "*   **numpy.array()**: Create a NumPy array from a Python list or tuple.\n",
        "*   **numpy.arange()**: Generate an array with evenly spaced values within a specified range.\n",
        "*   **numpy.linspace()**: Generate an array with evenly spaced values over a specified interval.\n",
        "*   **numpy.zeros()**: Create arrays filled with zeros of a specified shape.\n",
        "*   **numpy.ones()**: Create arrays filled with ones of a specified shape.\n",
        "*   **numpy.eye()**: Generate an identity matrix of a given size.\n",
        "*   **numpy.random.rand()**: Generate arrays with random numbers from a uniform distribution.\n",
        "*   **numpy.random.randn()**: Generate arrays with random numbers from a standard normal distribution.\n",
        "\n",
        "**(2) NumPy Arrays and Operations**\n",
        "\n",
        "*   **numpy.array()**: Create a NumPy array from a Python list or tuple.\n",
        "*   **numpy.arange()**: Generate an array with evenly spaced values within a specified range.\n",
        "*   **numpy.linspace()**: Generate an array with evenly spaced values over a specified interval.\n",
        "*   **numpy.zeros()**: Create arrays filled with zeros of a specified shape.\n",
        "*   **numpy.ones()**: Create arrays filled with ones of a specified shape.\n",
        "\n",
        "**Attributes and Methods:**\n",
        "\n",
        "*   **ndim**: Get the number of array dimensions.\n",
        "*   **shape**: Get the dimensions of the array.\n",
        "*   **dtype**: Get the data type of elements in the array.\n",
        "\n",
        "**(3) Broadcasting and Vectorization**\n",
        "\n",
        "*   **numpy.add()**: Element-wise addition of two arrays.\n",
        "*   **numpy.subtract()**: Element-wise subtraction of two arrays.\n",
        "*   **numpy.multiply()**: Element-wise multiplication of two arrays.\n",
        "*   **numpy.divide()**: Element-wise division of two arrays.\n",
        "\n",
        "**(4) Array Mathematics and Statistics**\n",
        "\n",
        "*   **numpy.sum()**: Compute the sum of array elements.\n",
        "*   **numpy.mean()**: Compute the arithmetic mean of array elements.\n",
        "*   **numpy.median()**: Compute the median of array elements.\n",
        "*   **numpy.var()**: Compute the variance of array elements.\n",
        "*   **numpy.std()**: Compute the standard deviation of array elements.\n",
        "*   **numpy.min()**: Find the minimum value in an array.\n",
        "*   **numpy.max()**: Find the maximum value in an array.\n",
        "*   **numpy.dot()**: Compute the dot product of two arrays.\n",
        "*   **numpy.matmul()**: Compute the matrix multiplication of two arrays.\n",
        "*   **numpy.linalg.inv()**: Compute the inverse of a square matrix.\n",
        "*   **numpy.linalg.det()**: Compute the determinant of a square matrix."
      ],
      "metadata": {
        "id": "Mdj5vw6ev-WE"
      }
    },
    {
      "cell_type": "code",
      "execution_count": null,
      "metadata": {
        "id": "szc-7G1dbFKd"
      },
      "outputs": [],
      "source": [
        "a = [1, 2, 3, 4]"
      ]
    },
    {
      "cell_type": "code",
      "source": [
        "type(a)"
      ],
      "metadata": {
        "colab": {
          "base_uri": "https://localhost:8080/"
        },
        "id": "kUoxXpR4f1-0",
        "outputId": "828294a8-cc95-4e86-d64a-02f23a0b435e"
      },
      "execution_count": null,
      "outputs": [
        {
          "output_type": "execute_result",
          "data": {
            "text/plain": [
              "list"
            ]
          },
          "metadata": {},
          "execution_count": 2
        }
      ]
    },
    {
      "cell_type": "code",
      "source": [
        "for i in a:\n",
        "  print(i**2)"
      ],
      "metadata": {
        "colab": {
          "base_uri": "https://localhost:8080/"
        },
        "id": "_o2p4BIVf448",
        "outputId": "a34daaf8-aff0-4124-9e2e-b79d7570dea0"
      },
      "execution_count": null,
      "outputs": [
        {
          "output_type": "stream",
          "name": "stdout",
          "text": [
            "1\n",
            "4\n",
            "9\n",
            "16\n"
          ]
        }
      ]
    },
    {
      "cell_type": "code",
      "source": [
        "b = [i**2 for i in a] #list comprehension"
      ],
      "metadata": {
        "id": "sWgB2m_thPL0"
      },
      "execution_count": null,
      "outputs": []
    },
    {
      "cell_type": "code",
      "source": [
        "print(b)"
      ],
      "metadata": {
        "colab": {
          "base_uri": "https://localhost:8080/"
        },
        "id": "5kR_6HNihbmx",
        "outputId": "a25b1f0b-ff2a-4031-ee67-fbe562d6c72c"
      },
      "execution_count": null,
      "outputs": [
        {
          "output_type": "stream",
          "name": "stdout",
          "text": [
            "[1, 4, 9, 16]\n"
          ]
        }
      ]
    },
    {
      "cell_type": "code",
      "source": [
        "import numpy as np"
      ],
      "metadata": {
        "id": "G3bQQbJ1hjmy"
      },
      "execution_count": null,
      "outputs": []
    },
    {
      "cell_type": "code",
      "source": [
        "a"
      ],
      "metadata": {
        "colab": {
          "base_uri": "https://localhost:8080/"
        },
        "id": "vh6TSU5PiPGN",
        "outputId": "9c866857-2254-4a28-c1b2-9579b8daf9c6"
      },
      "execution_count": null,
      "outputs": [
        {
          "output_type": "execute_result",
          "data": {
            "text/plain": [
              "[1, 2, 3, 4]"
            ]
          },
          "metadata": {},
          "execution_count": 8
        }
      ]
    },
    {
      "cell_type": "code",
      "source": [
        "type(a)"
      ],
      "metadata": {
        "colab": {
          "base_uri": "https://localhost:8080/"
        },
        "id": "HIxklmwaiTqn",
        "outputId": "c32b1c4e-a8fc-44d4-f9da-abb93bd0c806"
      },
      "execution_count": null,
      "outputs": [
        {
          "output_type": "execute_result",
          "data": {
            "text/plain": [
              "list"
            ]
          },
          "metadata": {},
          "execution_count": 9
        }
      ]
    },
    {
      "cell_type": "code",
      "source": [
        "b = np.array(a)"
      ],
      "metadata": {
        "id": "7T8An1pLiUf7"
      },
      "execution_count": null,
      "outputs": []
    },
    {
      "cell_type": "code",
      "source": [
        "print(b)"
      ],
      "metadata": {
        "colab": {
          "base_uri": "https://localhost:8080/"
        },
        "id": "gkBG3i_kicoV",
        "outputId": "977ef7e6-b158-484f-ca7b-fe73c0236574"
      },
      "execution_count": null,
      "outputs": [
        {
          "output_type": "stream",
          "name": "stdout",
          "text": [
            "[1 2 3 4]\n"
          ]
        }
      ]
    },
    {
      "cell_type": "code",
      "source": [
        "type(b)"
      ],
      "metadata": {
        "colab": {
          "base_uri": "https://localhost:8080/"
        },
        "id": "-x9KuQKiidzu",
        "outputId": "2072e68c-2fa9-4647-d303-505b4280f98b"
      },
      "execution_count": null,
      "outputs": [
        {
          "output_type": "execute_result",
          "data": {
            "text/plain": [
              "numpy.ndarray"
            ]
          },
          "metadata": {},
          "execution_count": 12
        }
      ]
    },
    {
      "cell_type": "code",
      "source": [
        "type(a)"
      ],
      "metadata": {
        "colab": {
          "base_uri": "https://localhost:8080/"
        },
        "id": "Rze4GkR8igGV",
        "outputId": "8b7f144b-e042-4acd-f9a2-199a250a72a4"
      },
      "execution_count": null,
      "outputs": [
        {
          "output_type": "execute_result",
          "data": {
            "text/plain": [
              "list"
            ]
          },
          "metadata": {},
          "execution_count": 13
        }
      ]
    },
    {
      "cell_type": "code",
      "source": [
        "list1 = [4, 4.5, \"AJ\"]"
      ],
      "metadata": {
        "id": "kgkJx8R_ilZe"
      },
      "execution_count": null,
      "outputs": []
    },
    {
      "cell_type": "code",
      "source": [
        "a = range(10000000)"
      ],
      "metadata": {
        "id": "jzus2CL4i7wk"
      },
      "execution_count": null,
      "outputs": []
    },
    {
      "cell_type": "code",
      "source": [
        "%timeit [i**2 for i in a]"
      ],
      "metadata": {
        "colab": {
          "base_uri": "https://localhost:8080/"
        },
        "id": "n9XxNWRAj1gF",
        "outputId": "1eee5b1f-0a7e-4f57-b92d-ce5861c056d1"
      },
      "execution_count": null,
      "outputs": [
        {
          "output_type": "stream",
          "name": "stdout",
          "text": [
            "3.49 s ± 421 ms per loop (mean ± std. dev. of 7 runs, 1 loop each)\n"
          ]
        }
      ]
    },
    {
      "cell_type": "code",
      "source": [
        "# numpy.array(): Create a NumPy array from a Python list or tuple.\n",
        "\n",
        "n1 = np.array(a)"
      ],
      "metadata": {
        "id": "8-MsSAEvkKuX"
      },
      "execution_count": null,
      "outputs": []
    },
    {
      "cell_type": "code",
      "source": [
        "type(n1)"
      ],
      "metadata": {
        "colab": {
          "base_uri": "https://localhost:8080/"
        },
        "id": "nKDzSgTUkl9r",
        "outputId": "f686dc3a-e72c-4a39-c850-9fe109fca38a"
      },
      "execution_count": null,
      "outputs": [
        {
          "output_type": "execute_result",
          "data": {
            "text/plain": [
              "numpy.ndarray"
            ]
          },
          "metadata": {},
          "execution_count": 19
        }
      ]
    },
    {
      "cell_type": "code",
      "source": [
        "#vectorization --> coming in upcoming lectures"
      ],
      "metadata": {
        "id": "RGpvz__eknvU"
      },
      "execution_count": null,
      "outputs": []
    },
    {
      "cell_type": "code",
      "source": [
        "%timeit n1**2"
      ],
      "metadata": {
        "colab": {
          "base_uri": "https://localhost:8080/"
        },
        "id": "gtiH33_Ok1JP",
        "outputId": "0f0ea52e-884d-4089-db22-12b6ab61e9c1"
      },
      "execution_count": null,
      "outputs": [
        {
          "output_type": "stream",
          "name": "stdout",
          "text": [
            "27.3 ms ± 343 µs per loop (mean ± std. dev. of 7 runs, 10 loops each)\n"
          ]
        }
      ]
    },
    {
      "cell_type": "code",
      "source": [
        "type(n1)"
      ],
      "metadata": {
        "colab": {
          "base_uri": "https://localhost:8080/"
        },
        "id": "uP1saZb9lC09",
        "outputId": "61e33a9c-25cc-4ab9-99fe-7f28fbac9ba5"
      },
      "execution_count": null,
      "outputs": [
        {
          "output_type": "execute_result",
          "data": {
            "text/plain": [
              "numpy.ndarray"
            ]
          },
          "metadata": {},
          "execution_count": 22
        }
      ]
    },
    {
      "cell_type": "code",
      "source": [
        "print(n1)"
      ],
      "metadata": {
        "colab": {
          "base_uri": "https://localhost:8080/"
        },
        "id": "WywQ2SQPmNCd",
        "outputId": "ccff069b-468b-43cb-c4e0-5a1f3c2fb6d2"
      },
      "execution_count": null,
      "outputs": [
        {
          "output_type": "stream",
          "name": "stdout",
          "text": [
            "[      0       1       2 ... 9999997 9999998 9999999]\n"
          ]
        }
      ]
    },
    {
      "cell_type": "code",
      "source": [
        "n1.ndim"
      ],
      "metadata": {
        "colab": {
          "base_uri": "https://localhost:8080/"
        },
        "id": "caheKWVSmH8C",
        "outputId": "21090825-9473-4fba-8296-b8e94ba662fe"
      },
      "execution_count": null,
      "outputs": [
        {
          "output_type": "execute_result",
          "data": {
            "text/plain": [
              "1"
            ]
          },
          "metadata": {},
          "execution_count": 25
        }
      ]
    },
    {
      "cell_type": "code",
      "source": [
        "n1.shape"
      ],
      "metadata": {
        "colab": {
          "base_uri": "https://localhost:8080/"
        },
        "id": "34MOWPvqmTQl",
        "outputId": "1758af15-21b9-4caa-ffdc-039732749362"
      },
      "execution_count": null,
      "outputs": [
        {
          "output_type": "execute_result",
          "data": {
            "text/plain": [
              "(10000000,)"
            ]
          },
          "metadata": {},
          "execution_count": 26
        }
      ]
    },
    {
      "cell_type": "code",
      "source": [
        "a = [ [1,2,3], [4,5,6], [7,8,9] ]"
      ],
      "metadata": {
        "id": "zjhs-Cw_md9t"
      },
      "execution_count": null,
      "outputs": []
    },
    {
      "cell_type": "code",
      "source": [
        "type(a)"
      ],
      "metadata": {
        "colab": {
          "base_uri": "https://localhost:8080/"
        },
        "id": "hswau9D1m_ok",
        "outputId": "31939bb0-48ca-4b24-95c4-e6e34449b06a"
      },
      "execution_count": null,
      "outputs": [
        {
          "output_type": "execute_result",
          "data": {
            "text/plain": [
              "list"
            ]
          },
          "metadata": {},
          "execution_count": 28
        }
      ]
    },
    {
      "cell_type": "code",
      "source": [
        "b = np.array(a)"
      ],
      "metadata": {
        "id": "8gGpSzPhnCPz"
      },
      "execution_count": null,
      "outputs": []
    },
    {
      "cell_type": "code",
      "source": [
        "type(b)"
      ],
      "metadata": {
        "colab": {
          "base_uri": "https://localhost:8080/"
        },
        "id": "sE2bel3OnFUt",
        "outputId": "3c2914a6-08cf-4d93-fc90-60b78123f7ec"
      },
      "execution_count": null,
      "outputs": [
        {
          "output_type": "execute_result",
          "data": {
            "text/plain": [
              "numpy.ndarray"
            ]
          },
          "metadata": {},
          "execution_count": 30
        }
      ]
    },
    {
      "cell_type": "code",
      "source": [
        "b.ndim"
      ],
      "metadata": {
        "colab": {
          "base_uri": "https://localhost:8080/"
        },
        "id": "LOsaNl6DnGr7",
        "outputId": "7bab1e51-7707-44b0-9f5e-c31cbf7c5ffa"
      },
      "execution_count": null,
      "outputs": [
        {
          "output_type": "execute_result",
          "data": {
            "text/plain": [
              "2"
            ]
          },
          "metadata": {},
          "execution_count": 31
        }
      ]
    },
    {
      "cell_type": "code",
      "source": [
        "b.shape"
      ],
      "metadata": {
        "colab": {
          "base_uri": "https://localhost:8080/"
        },
        "id": "9CLBSGGxnQPa",
        "outputId": "9bc87290-05eb-4169-aa42-6ace7222a613"
      },
      "execution_count": null,
      "outputs": [
        {
          "output_type": "execute_result",
          "data": {
            "text/plain": [
              "(3, 3)"
            ]
          },
          "metadata": {},
          "execution_count": 32
        }
      ]
    },
    {
      "cell_type": "code",
      "source": [
        "np.arange(1,5)"
      ],
      "metadata": {
        "colab": {
          "base_uri": "https://localhost:8080/"
        },
        "id": "_tsfShZknhN3",
        "outputId": "b668f7f7-306b-4522-ba4d-a6fd6abefc0a"
      },
      "execution_count": null,
      "outputs": [
        {
          "output_type": "execute_result",
          "data": {
            "text/plain": [
              "array([1, 2, 3, 4])"
            ]
          },
          "metadata": {},
          "execution_count": 33
        }
      ]
    },
    {
      "cell_type": "code",
      "source": [
        "np.arange(1,5, 0.5)"
      ],
      "metadata": {
        "colab": {
          "base_uri": "https://localhost:8080/"
        },
        "id": "fHlQkYt3oDIx",
        "outputId": "46c2fee6-b5ab-4638-b8cf-3d234766d5ec"
      },
      "execution_count": null,
      "outputs": [
        {
          "output_type": "execute_result",
          "data": {
            "text/plain": [
              "array([1. , 1.5, 2. , 2.5, 3. , 3.5, 4. , 4.5])"
            ]
          },
          "metadata": {},
          "execution_count": 34
        }
      ]
    },
    {
      "cell_type": "code",
      "source": [],
      "metadata": {
        "colab": {
          "base_uri": "https://localhost:8080/",
          "height": 292
        },
        "id": "1Ya3NTCZoP4a",
        "outputId": "46cb99b5-39cc-41ef-8879-3a274b9cfccd"
      },
      "execution_count": null,
      "outputs": [
        {
          "output_type": "error",
          "ename": "AttributeError",
          "evalue": "ignored",
          "traceback": [
            "\u001b[0;31m---------------------------------------------------------------------------\u001b[0m",
            "\u001b[0;31mAttributeError\u001b[0m                            Traceback (most recent call last)",
            "\u001b[0;32m<ipython-input-35-de6a0d9b5b94>\u001b[0m in \u001b[0;36m<cell line: 1>\u001b[0;34m()\u001b[0m\n\u001b[0;32m----> 1\u001b[0;31m \u001b[0mnp\u001b[0m\u001b[0;34m.\u001b[0m\u001b[0mrange\u001b[0m\u001b[0;34m(\u001b[0m\u001b[0;34m)\u001b[0m\u001b[0;34m\u001b[0m\u001b[0;34m\u001b[0m\u001b[0m\n\u001b[0m",
            "\u001b[0;32m/usr/local/lib/python3.10/dist-packages/numpy/__init__.py\u001b[0m in \u001b[0;36m__getattr__\u001b[0;34m(attr)\u001b[0m\n\u001b[1;32m    313\u001b[0m             \u001b[0;32mreturn\u001b[0m \u001b[0mTester\u001b[0m\u001b[0;34m\u001b[0m\u001b[0;34m\u001b[0m\u001b[0m\n\u001b[1;32m    314\u001b[0m \u001b[0;34m\u001b[0m\u001b[0m\n\u001b[0;32m--> 315\u001b[0;31m         raise AttributeError(\"module {!r} has no attribute \"\n\u001b[0m\u001b[1;32m    316\u001b[0m                              \"{!r}\".format(__name__, attr))\n\u001b[1;32m    317\u001b[0m \u001b[0;34m\u001b[0m\u001b[0m\n",
            "\u001b[0;31mAttributeError\u001b[0m: module 'numpy' has no attribute 'range'"
          ]
        }
      ]
    },
    {
      "cell_type": "code",
      "source": [
        "b = np.array([4,5,7,6])"
      ],
      "metadata": {
        "id": "boiGADSZq3So"
      },
      "execution_count": null,
      "outputs": []
    },
    {
      "cell_type": "code",
      "source": [
        "print(b)"
      ],
      "metadata": {
        "colab": {
          "base_uri": "https://localhost:8080/"
        },
        "id": "Kdr-ZDcDrDt_",
        "outputId": "7769ae75-953c-44d5-d9d4-b4213e546bdc"
      },
      "execution_count": null,
      "outputs": [
        {
          "output_type": "stream",
          "name": "stdout",
          "text": [
            "[4 5 7 6]\n"
          ]
        }
      ]
    },
    {
      "cell_type": "code",
      "source": [
        "type(b)"
      ],
      "metadata": {
        "colab": {
          "base_uri": "https://localhost:8080/"
        },
        "id": "WvqGqKoKrEi3",
        "outputId": "f6d2d7c1-9e21-4933-e0b3-c92d5f7dacb4"
      },
      "execution_count": null,
      "outputs": [
        {
          "output_type": "execute_result",
          "data": {
            "text/plain": [
              "numpy.ndarray"
            ]
          },
          "metadata": {},
          "execution_count": 38
        }
      ]
    },
    {
      "cell_type": "code",
      "source": [
        "b = np.array([1, 2, 3, 4.0])\n",
        "print(b)"
      ],
      "metadata": {
        "colab": {
          "base_uri": "https://localhost:8080/"
        },
        "id": "Ab8IURZKrGLs",
        "outputId": "371c7680-a845-482e-9795-f05840dff517"
      },
      "execution_count": null,
      "outputs": [
        {
          "output_type": "stream",
          "name": "stdout",
          "text": [
            "[1. 2. 3. 4.]\n"
          ]
        }
      ]
    },
    {
      "cell_type": "code",
      "source": [
        "b = np.array([1,2,3,\"AJ\"])\n",
        "print(b)"
      ],
      "metadata": {
        "colab": {
          "base_uri": "https://localhost:8080/"
        },
        "id": "Ap-qEvLyrS45",
        "outputId": "126035fd-c9b6-4e26-d3c6-77dcabb5ad4b"
      },
      "execution_count": null,
      "outputs": [
        {
          "output_type": "stream",
          "name": "stdout",
          "text": [
            "['1' '2' '3' 'AJ']\n"
          ]
        }
      ]
    },
    {
      "cell_type": "code",
      "source": [
        "np.array([1,2,3,4], dtype = \"float\")"
      ],
      "metadata": {
        "colab": {
          "base_uri": "https://localhost:8080/"
        },
        "id": "2JP6qvPKr76m",
        "outputId": "3d0b10b7-4b98-4012-e9dc-cd31e1b150d4"
      },
      "execution_count": null,
      "outputs": [
        {
          "output_type": "execute_result",
          "data": {
            "text/plain": [
              "array([1., 2., 3., 4.])"
            ]
          },
          "metadata": {},
          "execution_count": 41
        }
      ]
    },
    {
      "cell_type": "code",
      "source": [
        "np.array([1,2,3,4])"
      ],
      "metadata": {
        "colab": {
          "base_uri": "https://localhost:8080/"
        },
        "id": "3hqL0_zEsWII",
        "outputId": "4b6a9418-5079-4b84-b6db-76febe30adc1"
      },
      "execution_count": null,
      "outputs": [
        {
          "output_type": "execute_result",
          "data": {
            "text/plain": [
              "array([1, 2, 3, 4])"
            ]
          },
          "metadata": {},
          "execution_count": 42
        }
      ]
    },
    {
      "cell_type": "code",
      "source": [
        "np.array([\"AJ\", \"Naveen\", \"Sai\", \"Vinod\"], dtype = \"float\")"
      ],
      "metadata": {
        "colab": {
          "base_uri": "https://localhost:8080/",
          "height": 168
        },
        "id": "xfqRjEnusZkz",
        "outputId": "00b9b467-f444-4008-f7d5-6a700ed4e7d7"
      },
      "execution_count": null,
      "outputs": [
        {
          "output_type": "error",
          "ename": "ValueError",
          "evalue": "ignored",
          "traceback": [
            "\u001b[0;31m---------------------------------------------------------------------------\u001b[0m",
            "\u001b[0;31mValueError\u001b[0m                                Traceback (most recent call last)",
            "\u001b[0;32m<ipython-input-43-fa7fb1445ba1>\u001b[0m in \u001b[0;36m<cell line: 1>\u001b[0;34m()\u001b[0m\n\u001b[0;32m----> 1\u001b[0;31m \u001b[0mnp\u001b[0m\u001b[0;34m.\u001b[0m\u001b[0marray\u001b[0m\u001b[0;34m(\u001b[0m\u001b[0;34m[\u001b[0m\u001b[0;34m\"AJ\"\u001b[0m\u001b[0;34m,\u001b[0m \u001b[0;34m\"Naveen\"\u001b[0m\u001b[0;34m,\u001b[0m \u001b[0;34m\"Sai\"\u001b[0m\u001b[0;34m,\u001b[0m \u001b[0;34m\"Vinod\"\u001b[0m\u001b[0;34m]\u001b[0m\u001b[0;34m,\u001b[0m \u001b[0mdtype\u001b[0m \u001b[0;34m=\u001b[0m \u001b[0;34m\"float\"\u001b[0m\u001b[0;34m)\u001b[0m\u001b[0;34m\u001b[0m\u001b[0;34m\u001b[0m\u001b[0m\n\u001b[0m",
            "\u001b[0;31mValueError\u001b[0m: could not convert string to float: 'AJ'"
          ]
        }
      ]
    },
    {
      "cell_type": "code",
      "source": [
        "a = np.array([1,2,3,4.0])"
      ],
      "metadata": {
        "id": "3r8_Z9XWslWi"
      },
      "execution_count": null,
      "outputs": []
    },
    {
      "cell_type": "code",
      "source": [
        "print(a)"
      ],
      "metadata": {
        "colab": {
          "base_uri": "https://localhost:8080/"
        },
        "id": "LzUpqhn6s_Rj",
        "outputId": "fe6042f8-fb2c-48db-86a2-854ad14426d4"
      },
      "execution_count": null,
      "outputs": [
        {
          "output_type": "stream",
          "name": "stdout",
          "text": [
            "[1. 2. 3. 4.]\n"
          ]
        }
      ]
    },
    {
      "cell_type": "code",
      "source": [
        "a.dtype"
      ],
      "metadata": {
        "colab": {
          "base_uri": "https://localhost:8080/"
        },
        "id": "vMd--xUOs_8f",
        "outputId": "09557f85-8a6f-4cc4-8444-986b07bb961e"
      },
      "execution_count": null,
      "outputs": [
        {
          "output_type": "execute_result",
          "data": {
            "text/plain": [
              "dtype('float64')"
            ]
          },
          "metadata": {},
          "execution_count": 46
        }
      ]
    },
    {
      "cell_type": "code",
      "source": [
        "a = np.arange(12)"
      ],
      "metadata": {
        "id": "2-b4lwkvtCMX"
      },
      "execution_count": null,
      "outputs": []
    },
    {
      "cell_type": "code",
      "source": [
        "print(a)"
      ],
      "metadata": {
        "colab": {
          "base_uri": "https://localhost:8080/"
        },
        "id": "ZWpXMv-vtXPP",
        "outputId": "2588abbd-9440-4c37-c351-404c0390b988"
      },
      "execution_count": null,
      "outputs": [
        {
          "output_type": "stream",
          "name": "stdout",
          "text": [
            "[ 0  1  2  3  4  5  6  7  8  9 10 11]\n"
          ]
        }
      ]
    },
    {
      "cell_type": "code",
      "source": [
        "type(a)"
      ],
      "metadata": {
        "colab": {
          "base_uri": "https://localhost:8080/"
        },
        "id": "83Fozo-FtYBA",
        "outputId": "44247fba-32ba-467a-da45-a90002972a05"
      },
      "execution_count": null,
      "outputs": [
        {
          "output_type": "execute_result",
          "data": {
            "text/plain": [
              "numpy.ndarray"
            ]
          },
          "metadata": {},
          "execution_count": 49
        }
      ]
    },
    {
      "cell_type": "code",
      "source": [
        "a[0]"
      ],
      "metadata": {
        "colab": {
          "base_uri": "https://localhost:8080/"
        },
        "id": "VstUCDjhtbV-",
        "outputId": "f86ebdfc-0bf0-478b-83c2-c3b836f743a5"
      },
      "execution_count": null,
      "outputs": [
        {
          "output_type": "execute_result",
          "data": {
            "text/plain": [
              "0"
            ]
          },
          "metadata": {},
          "execution_count": 50
        }
      ]
    },
    {
      "cell_type": "code",
      "source": [
        "a[3]"
      ],
      "metadata": {
        "colab": {
          "base_uri": "https://localhost:8080/"
        },
        "id": "VSU2fF9btjGL",
        "outputId": "509f9664-efff-4233-d184-783cd84efc93"
      },
      "execution_count": null,
      "outputs": [
        {
          "output_type": "execute_result",
          "data": {
            "text/plain": [
              "3"
            ]
          },
          "metadata": {},
          "execution_count": 51
        }
      ]
    },
    {
      "cell_type": "code",
      "source": [
        "a[-1]"
      ],
      "metadata": {
        "colab": {
          "base_uri": "https://localhost:8080/"
        },
        "id": "t9gmaeJltrKy",
        "outputId": "b208685b-a01f-4f31-f30c-23116d6908fc"
      },
      "execution_count": null,
      "outputs": [
        {
          "output_type": "execute_result",
          "data": {
            "text/plain": [
              "11"
            ]
          },
          "metadata": {},
          "execution_count": 52
        }
      ]
    },
    {
      "cell_type": "code",
      "source": [
        "a[:5]"
      ],
      "metadata": {
        "colab": {
          "base_uri": "https://localhost:8080/"
        },
        "id": "DOuICOD2t2pv",
        "outputId": "df1a6a47-b4a2-4639-ca24-c681397404c2"
      },
      "execution_count": null,
      "outputs": [
        {
          "output_type": "execute_result",
          "data": {
            "text/plain": [
              "array([0, 1, 2, 3, 4])"
            ]
          },
          "metadata": {},
          "execution_count": 53
        }
      ]
    },
    {
      "cell_type": "code",
      "source": [
        "a"
      ],
      "metadata": {
        "colab": {
          "base_uri": "https://localhost:8080/"
        },
        "id": "PKePYlrBuDmO",
        "outputId": "d3f6c4d0-0bd3-4d1b-bfa8-7a339b782494"
      },
      "execution_count": null,
      "outputs": [
        {
          "output_type": "execute_result",
          "data": {
            "text/plain": [
              "array([ 0,  1,  2,  3,  4,  5,  6,  7,  8,  9, 10, 11])"
            ]
          },
          "metadata": {},
          "execution_count": 54
        }
      ]
    },
    {
      "cell_type": "code",
      "source": [
        "print(a[-5:-1])"
      ],
      "metadata": {
        "colab": {
          "base_uri": "https://localhost:8080/"
        },
        "id": "0-PR4orlt-iL",
        "outputId": "0bbe1f1a-2d55-4b36-884f-22fb7ef9653a"
      },
      "execution_count": null,
      "outputs": [
        {
          "output_type": "stream",
          "name": "stdout",
          "text": [
            "[6 7 8 9]\n"
          ]
        }
      ]
    },
    {
      "cell_type": "code",
      "source": [
        "a = np.arange(1,11)"
      ],
      "metadata": {
        "id": "ieRoVB0LuTT8"
      },
      "execution_count": null,
      "outputs": []
    },
    {
      "cell_type": "code",
      "source": [
        "print(a)"
      ],
      "metadata": {
        "colab": {
          "base_uri": "https://localhost:8080/"
        },
        "id": "ICuuX8ZVuxtA",
        "outputId": "e6fc3194-a087-47f6-de91-9eb6f6566c43"
      },
      "execution_count": null,
      "outputs": [
        {
          "output_type": "stream",
          "name": "stdout",
          "text": [
            "[ 1  2  3  4  5  6  7  8  9 10]\n"
          ]
        }
      ]
    },
    {
      "cell_type": "code",
      "source": [
        "b = a < 6"
      ],
      "metadata": {
        "id": "FmUzn0Jeuyr3"
      },
      "execution_count": null,
      "outputs": []
    },
    {
      "cell_type": "code",
      "source": [
        "print(b)"
      ],
      "metadata": {
        "colab": {
          "base_uri": "https://localhost:8080/"
        },
        "id": "B5wiTpkvvKvj",
        "outputId": "cc8e500e-6c74-448e-bc90-8573229fff47"
      },
      "execution_count": null,
      "outputs": [
        {
          "output_type": "stream",
          "name": "stdout",
          "text": [
            "[ True  True  True  True  True False False False False False]\n"
          ]
        }
      ]
    },
    {
      "cell_type": "code",
      "source": [
        "#masking\n",
        "print(a[a < 6])"
      ],
      "metadata": {
        "colab": {
          "base_uri": "https://localhost:8080/"
        },
        "id": "cf6tgViGvflR",
        "outputId": "7ef404b1-15df-4c38-d8cd-d85deb8a9d5f"
      },
      "execution_count": null,
      "outputs": [
        {
          "output_type": "stream",
          "name": "stdout",
          "text": [
            "[1 2 3 4 5]\n"
          ]
        }
      ]
    },
    {
      "cell_type": "code",
      "source": [
        "a[[ True , True , True,  True , True, False ,False, False ,False, False]]"
      ],
      "metadata": {
        "colab": {
          "base_uri": "https://localhost:8080/"
        },
        "id": "rPCH6j9LwG6c",
        "outputId": "9f4d67fa-3cb6-4951-f30b-8a509bc8564b"
      },
      "execution_count": null,
      "outputs": [
        {
          "output_type": "execute_result",
          "data": {
            "text/plain": [
              "array([1, 2, 3, 4, 5])"
            ]
          },
          "metadata": {},
          "execution_count": 65
        }
      ]
    },
    {
      "cell_type": "code",
      "source": [
        "print(a[a>4])"
      ],
      "metadata": {
        "colab": {
          "base_uri": "https://localhost:8080/"
        },
        "id": "eOBw3RGzwXmU",
        "outputId": "b104460b-698a-4acb-b8d0-2ed5619c2d7d"
      },
      "execution_count": null,
      "outputs": [
        {
          "output_type": "stream",
          "name": "stdout",
          "text": [
            "[ 5  6  7  8  9 10]\n"
          ]
        }
      ]
    },
    {
      "cell_type": "code",
      "source": [
        "print(a[ a%2 == 0])"
      ],
      "metadata": {
        "colab": {
          "base_uri": "https://localhost:8080/"
        },
        "id": "IF_Y6MYAwofM",
        "outputId": "d36ab119-cd70-4ff1-8dc6-27535f88401b"
      },
      "execution_count": null,
      "outputs": [
        {
          "output_type": "stream",
          "name": "stdout",
          "text": [
            "[ 2  4  6  8 10]\n"
          ]
        }
      ]
    },
    {
      "cell_type": "code",
      "source": [
        "#multi indexing in numpy"
      ],
      "metadata": {
        "id": "tlOi0I0Fw1K9"
      },
      "execution_count": null,
      "outputs": []
    },
    {
      "cell_type": "code",
      "source": [
        "print(a)"
      ],
      "metadata": {
        "colab": {
          "base_uri": "https://localhost:8080/"
        },
        "id": "Gxn0rXE_xMPW",
        "outputId": "50ccbce0-7fdb-4536-b485-97b213fa2f5f"
      },
      "execution_count": null,
      "outputs": [
        {
          "output_type": "stream",
          "name": "stdout",
          "text": [
            "[ 1  2  3  4  5  6  7  8  9 10]\n"
          ]
        }
      ]
    },
    {
      "cell_type": "code",
      "source": [
        "a[6]"
      ],
      "metadata": {
        "colab": {
          "base_uri": "https://localhost:8080/"
        },
        "id": "etTrfS9pxGQJ",
        "outputId": "c085c0f5-bc43-457b-f5ec-2e7339e267f9"
      },
      "execution_count": null,
      "outputs": [
        {
          "output_type": "execute_result",
          "data": {
            "text/plain": [
              "7"
            ]
          },
          "metadata": {},
          "execution_count": 72
        }
      ]
    },
    {
      "cell_type": "code",
      "source": [
        "a[8]"
      ],
      "metadata": {
        "colab": {
          "base_uri": "https://localhost:8080/"
        },
        "id": "dEHWN_7axOiO",
        "outputId": "549fd993-7636-4c15-f299-40f05d44a6a9"
      },
      "execution_count": null,
      "outputs": [
        {
          "output_type": "execute_result",
          "data": {
            "text/plain": [
              "9"
            ]
          },
          "metadata": {},
          "execution_count": 73
        }
      ]
    },
    {
      "cell_type": "code",
      "source": [
        "print(a[[6,8]])"
      ],
      "metadata": {
        "colab": {
          "base_uri": "https://localhost:8080/"
        },
        "id": "YIA9vj27xTip",
        "outputId": "fcd033d4-1d71-45ac-fa3a-f79e28d41dd8"
      },
      "execution_count": null,
      "outputs": [
        {
          "output_type": "stream",
          "name": "stdout",
          "text": [
            "[7 9]\n"
          ]
        }
      ]
    },
    {
      "cell_type": "code",
      "source": [
        "print(a[[2,6,5]])"
      ],
      "metadata": {
        "colab": {
          "base_uri": "https://localhost:8080/"
        },
        "id": "LfobaA0JxaRT",
        "outputId": "199fdd03-4dd7-48d4-baa8-258ce3f21ce0"
      },
      "execution_count": null,
      "outputs": [
        {
          "output_type": "stream",
          "name": "stdout",
          "text": [
            "[3 7 6]\n"
          ]
        }
      ]
    },
    {
      "cell_type": "code",
      "source": [
        "b = a[[2,6,5]]"
      ],
      "metadata": {
        "id": "gSh-t_w8xrbI"
      },
      "execution_count": null,
      "outputs": []
    },
    {
      "cell_type": "code",
      "source": [
        "type(b)"
      ],
      "metadata": {
        "colab": {
          "base_uri": "https://localhost:8080/"
        },
        "id": "ol_VT-cYx1Ua",
        "outputId": "b46abe5e-aac8-475f-cbc6-3cac1017ec35"
      },
      "execution_count": null,
      "outputs": [
        {
          "output_type": "execute_result",
          "data": {
            "text/plain": [
              "numpy.ndarray"
            ]
          },
          "metadata": {},
          "execution_count": 78
        }
      ]
    },
    {
      "cell_type": "code",
      "source": [
        "#Solving the NPS problem"
      ],
      "metadata": {
        "id": "JtkMjxsvx4nN"
      },
      "execution_count": null,
      "outputs": []
    },
    {
      "cell_type": "code",
      "source": [
        "score = np.loadtxt(\"survey.txt\", dtype = \"int\")"
      ],
      "metadata": {
        "id": "o5WlagFcyVRJ"
      },
      "execution_count": null,
      "outputs": []
    },
    {
      "cell_type": "code",
      "source": [
        "type(score)"
      ],
      "metadata": {
        "colab": {
          "base_uri": "https://localhost:8080/"
        },
        "id": "BWW5LwmMzFMg",
        "outputId": "34ed7270-825c-420a-a81a-938e5cdee352"
      },
      "execution_count": null,
      "outputs": [
        {
          "output_type": "execute_result",
          "data": {
            "text/plain": [
              "numpy.ndarray"
            ]
          },
          "metadata": {},
          "execution_count": 81
        }
      ]
    },
    {
      "cell_type": "code",
      "source": [
        "score[2]"
      ],
      "metadata": {
        "colab": {
          "base_uri": "https://localhost:8080/"
        },
        "id": "8miv4nLOzGgi",
        "outputId": "cf0354db-0393-4d18-d2c0-3167fc81b2b3"
      },
      "execution_count": null,
      "outputs": [
        {
          "output_type": "execute_result",
          "data": {
            "text/plain": [
              "5"
            ]
          },
          "metadata": {},
          "execution_count": 82
        }
      ]
    },
    {
      "cell_type": "code",
      "source": [
        "score[:5]"
      ],
      "metadata": {
        "colab": {
          "base_uri": "https://localhost:8080/"
        },
        "id": "UcaqLa_DzNUU",
        "outputId": "0d1f124c-ec0d-4601-9dc5-0eab55f0bc4f"
      },
      "execution_count": null,
      "outputs": [
        {
          "output_type": "execute_result",
          "data": {
            "text/plain": [
              "array([ 7, 10,  5,  9,  9])"
            ]
          },
          "metadata": {},
          "execution_count": 84
        }
      ]
    },
    {
      "cell_type": "code",
      "source": [
        "score[-1]"
      ],
      "metadata": {
        "colab": {
          "base_uri": "https://localhost:8080/"
        },
        "id": "SuqZYmAjzQi-",
        "outputId": "482567a0-21ca-423b-d205-efac42ccc9af"
      },
      "execution_count": null,
      "outputs": [
        {
          "output_type": "execute_result",
          "data": {
            "text/plain": [
              "10"
            ]
          },
          "metadata": {},
          "execution_count": 85
        }
      ]
    },
    {
      "cell_type": "code",
      "source": [
        "score.shape"
      ],
      "metadata": {
        "colab": {
          "base_uri": "https://localhost:8080/"
        },
        "id": "I5IB4wZ2zZWs",
        "outputId": "b9a96d44-2195-4649-cd37-e0673186901a"
      },
      "execution_count": null,
      "outputs": [
        {
          "output_type": "execute_result",
          "data": {
            "text/plain": [
              "(1167,)"
            ]
          },
          "metadata": {},
          "execution_count": 86
        }
      ]
    },
    {
      "cell_type": "code",
      "source": [
        "score.ndim"
      ],
      "metadata": {
        "colab": {
          "base_uri": "https://localhost:8080/"
        },
        "id": "U59w0d-Rze_W",
        "outputId": "9df2bb0e-a6bf-4a68-9f3f-be95bbd4c49b"
      },
      "execution_count": null,
      "outputs": [
        {
          "output_type": "execute_result",
          "data": {
            "text/plain": [
              "1"
            ]
          },
          "metadata": {},
          "execution_count": 87
        }
      ]
    },
    {
      "cell_type": "code",
      "source": [
        "detractors = score[ score < 7]"
      ],
      "metadata": {
        "id": "ZfYpAqgfzjcP"
      },
      "execution_count": null,
      "outputs": []
    },
    {
      "cell_type": "code",
      "source": [
        "print(detractors)"
      ],
      "metadata": {
        "colab": {
          "base_uri": "https://localhost:8080/"
        },
        "id": "UC5d7aQJz-c1",
        "outputId": "6f5f2a50-e9d6-4bb7-f52c-d38fa6f80572"
      },
      "execution_count": null,
      "outputs": [
        {
          "output_type": "stream",
          "name": "stdout",
          "text": [
            "[5 4 4 5 1 5 5 1 4 5 4 4 4 5 1 4 1 4 1 5 5 1 1 4 1 5 4 1 1 4 1 5 1 4 4 1 1\n",
            " 1 1 1 1 1 4 1 1 5 5 5 4 4 1 4 1 4 1 5 1 1 5 4 4 4 4 1 4 5 4 4 1 1 5 5 1 5\n",
            " 1 5 5 4 5 4 1 1 1 1 4 1 4 4 5 4 1 1 1 1 5 4 5 5 4 1 5 1 4 4 1 1 1 4 4 5 5\n",
            " 4 5 5 5 1 4 1 5 5 1 5 1 1 5 5 4 4 1 4 4 4 1 1 4 4 4 5 5 1 1 4 1 4 1 4 1 4\n",
            " 1 4 1 5 4 4 5 1 4 5 5 5 1 5 4 1 1 5 5 5 4 5 4 4 1 4 4 4 4 5 1 5 5 1 4 4 5\n",
            " 1 1 4 5 5 5 1 4 5 5 4 1 5 5 5 1 1 5 5 1 1 1 4 5 5 4 4 4 5 1 4 1 4 5 4 5 5\n",
            " 1 5 1 5 5 1 4 5 5 4 1 5 1 4 1 4 1 1 1 1 1 1 4 1 5 4 5 1 5 1 5 4 4 4 4 5 5\n",
            " 1 4 1 5 5 1 4 1 1 4 4 4 4 1 4 1 1 4 1 5 4 1 1 5 4 5 4 4 4 1 5 5 1 4 5 4 4\n",
            " 4 1 4 1 4 4 4 5 1 1 1 4 5 5 1 5 4 5 5 4 1 1 5 5 5 1 4 5 4 5 5 5 1 4 1 5]\n"
          ]
        }
      ]
    },
    {
      "cell_type": "code",
      "source": [
        "detractors.shape"
      ],
      "metadata": {
        "colab": {
          "base_uri": "https://localhost:8080/"
        },
        "id": "t2dgHc6r0AEv",
        "outputId": "afb18e39-78e9-4842-b5ed-67a7fb205a5b"
      },
      "execution_count": null,
      "outputs": [
        {
          "output_type": "execute_result",
          "data": {
            "text/plain": [
              "(332,)"
            ]
          },
          "metadata": {},
          "execution_count": 90
        }
      ]
    },
    {
      "cell_type": "code",
      "source": [
        "num_detractors = len(detractors)"
      ],
      "metadata": {
        "id": "upIaNqIT0MNz"
      },
      "execution_count": null,
      "outputs": []
    },
    {
      "cell_type": "code",
      "source": [
        "print(num_detractors)"
      ],
      "metadata": {
        "colab": {
          "base_uri": "https://localhost:8080/"
        },
        "id": "KWj1ZJuK0Svo",
        "outputId": "0ac63129-e29b-4100-e808-4215c79f8143"
      },
      "execution_count": null,
      "outputs": [
        {
          "output_type": "stream",
          "name": "stdout",
          "text": [
            "332\n"
          ]
        }
      ]
    },
    {
      "cell_type": "code",
      "source": [
        "score.min()"
      ],
      "metadata": {
        "colab": {
          "base_uri": "https://localhost:8080/"
        },
        "id": "y3TB_6sl0doY",
        "outputId": "dc031c96-d6fe-41ab-cb5f-78dd6b237a36"
      },
      "execution_count": null,
      "outputs": [
        {
          "output_type": "execute_result",
          "data": {
            "text/plain": [
              "1"
            ]
          },
          "metadata": {},
          "execution_count": 93
        }
      ]
    },
    {
      "cell_type": "code",
      "source": [
        "score.max()"
      ],
      "metadata": {
        "colab": {
          "base_uri": "https://localhost:8080/"
        },
        "id": "lI5dh2vM0h4_",
        "outputId": "d8523704-5b27-47f3-a86a-c520ac3b2e6a"
      },
      "execution_count": null,
      "outputs": [
        {
          "output_type": "execute_result",
          "data": {
            "text/plain": [
              "10"
            ]
          },
          "metadata": {},
          "execution_count": 95
        }
      ]
    },
    {
      "cell_type": "code",
      "source": [
        "promoters = score[ score > 8]"
      ],
      "metadata": {
        "id": "lkJTZjJY0U_M"
      },
      "execution_count": null,
      "outputs": []
    },
    {
      "cell_type": "code",
      "source": [
        "num_promoters = len(promoters)"
      ],
      "metadata": {
        "id": "Kt5jDRUH0yd4"
      },
      "execution_count": null,
      "outputs": []
    },
    {
      "cell_type": "code",
      "source": [
        "print(num_promoters)"
      ],
      "metadata": {
        "colab": {
          "base_uri": "https://localhost:8080/"
        },
        "id": "DmAxReXN03vy",
        "outputId": "2eb17e15-6c5b-47a2-eadf-06bb5e8bc2af"
      },
      "execution_count": null,
      "outputs": [
        {
          "output_type": "stream",
          "name": "stdout",
          "text": [
            "609\n"
          ]
        }
      ]
    },
    {
      "cell_type": "code",
      "source": [
        "total_users = len(score)\n",
        "print(total_users)"
      ],
      "metadata": {
        "colab": {
          "base_uri": "https://localhost:8080/"
        },
        "id": "uQzbZyZA05IQ",
        "outputId": "83928d75-ac5d-4c1f-a0bb-e1afb45d6b45"
      },
      "execution_count": null,
      "outputs": [
        {
          "output_type": "stream",
          "name": "stdout",
          "text": [
            "1167\n"
          ]
        }
      ]
    },
    {
      "cell_type": "code",
      "source": [
        "percent_promoters = num_promoters/total_users\n",
        "\n",
        "percent_detractors = num_detractors/total_users"
      ],
      "metadata": {
        "id": "swRwtcOz1JGR"
      },
      "execution_count": null,
      "outputs": []
    },
    {
      "cell_type": "code",
      "source": [
        "nps = (percent_promoters - percent_detractors)*100"
      ],
      "metadata": {
        "id": "b0mH6vbs1-zo"
      },
      "execution_count": null,
      "outputs": []
    },
    {
      "cell_type": "code",
      "source": [
        "print(nps)"
      ],
      "metadata": {
        "colab": {
          "base_uri": "https://localhost:8080/"
        },
        "id": "XASKH5r-2C-U",
        "outputId": "2309cd4c-04ed-4168-8082-f0c82fcc200c"
      },
      "execution_count": null,
      "outputs": [
        {
          "output_type": "stream",
          "name": "stdout",
          "text": [
            "23.73607540702657\n"
          ]
        }
      ]
    },
    {
      "cell_type": "code",
      "source": [
        "#HW - to try to have the answer only till 2 decimal places"
      ],
      "metadata": {
        "id": "F8h46yq32D0D"
      },
      "execution_count": null,
      "outputs": []
    },
    {
      "cell_type": "code",
      "source": [],
      "metadata": {
        "id": "y8Tq2VZS2TKd"
      },
      "execution_count": null,
      "outputs": []
    }
  ]
}