{
  "nbformat": 4,
  "nbformat_minor": 0,
  "metadata": {
    "colab": {
      "provenance": [],
      "toc_visible": true,
      "include_colab_link": true
    },
    "kernelspec": {
      "name": "python3",
      "display_name": "Python 3"
    },
    "language_info": {
      "name": "python"
    }
  },
  "cells": [
    {
      "cell_type": "markdown",
      "metadata": {
        "id": "view-in-github",
        "colab_type": "text"
      },
      "source": [
        "<a href=\"https://colab.research.google.com/github/SaiArjunSairamje/Python_Libraries/blob/main/01.%20Numpy_1%20(Dataset-1D%3A%20Airbnb's_NPS)%20.ipynb\" target=\"_parent\"><img src=\"https://colab.research.google.com/assets/colab-badge.svg\" alt=\"Open In Colab\"/></a>"
      ]
    },
    {
      "cell_type": "markdown",
      "source": [
        "# **(1) Importing the Libraries and Dataset \"Airbnb's NPS\"**\n",
        "\n",
        "***"
      ],
      "metadata": {
        "id": "qGJk16Dgyjw_"
      }
    },
    {
      "cell_type": "markdown",
      "source": [
        "### **Basic Python codes...**"
      ],
      "metadata": {
        "id": "1kC-fNiOz0E7"
      }
    },
    {
      "cell_type": "code",
      "execution_count": null,
      "metadata": {
        "id": "szc-7G1dbFKd"
      },
      "outputs": [],
      "source": [
        "#List in Python\n",
        "a = [1, 2, 3, 4]"
      ]
    },
    {
      "cell_type": "code",
      "source": [
        "type(a)"
      ],
      "metadata": {
        "colab": {
          "base_uri": "https://localhost:8080/"
        },
        "id": "kUoxXpR4f1-0",
        "outputId": "bca78b51-40f4-4c9c-d5a0-9b235049bb6f"
      },
      "execution_count": null,
      "outputs": [
        {
          "output_type": "execute_result",
          "data": {
            "text/plain": [
              "list"
            ]
          },
          "metadata": {},
          "execution_count": 2
        }
      ]
    },
    {
      "cell_type": "code",
      "source": [
        "#Loops\n",
        "for i in a:\n",
        "  print(i**2)"
      ],
      "metadata": {
        "colab": {
          "base_uri": "https://localhost:8080/"
        },
        "id": "_o2p4BIVf448",
        "outputId": "4deabf1a-2b1a-4bb0-994a-50e8794d1128"
      },
      "execution_count": null,
      "outputs": [
        {
          "output_type": "stream",
          "name": "stdout",
          "text": [
            "1\n",
            "4\n",
            "9\n",
            "16\n"
          ]
        }
      ]
    },
    {
      "cell_type": "code",
      "source": [
        "#List comprehension\n",
        "b = [i**2 for i in a]"
      ],
      "metadata": {
        "id": "sWgB2m_thPL0"
      },
      "execution_count": null,
      "outputs": []
    },
    {
      "cell_type": "code",
      "source": [
        "print(b)"
      ],
      "metadata": {
        "colab": {
          "base_uri": "https://localhost:8080/"
        },
        "id": "5kR_6HNihbmx",
        "outputId": "176004ee-d27a-4047-af24-4cfb3d7c7667"
      },
      "execution_count": null,
      "outputs": [
        {
          "output_type": "stream",
          "name": "stdout",
          "text": [
            "[1, 4, 9, 16]\n"
          ]
        }
      ]
    },
    {
      "cell_type": "markdown",
      "source": [
        "### **Using Python Libraries codes...**"
      ],
      "metadata": {
        "id": "2hhcgfmD0JCi"
      }
    },
    {
      "cell_type": "code",
      "source": [
        "import numpy as np"
      ],
      "metadata": {
        "id": "G3bQQbJ1hjmy"
      },
      "execution_count": null,
      "outputs": []
    },
    {
      "cell_type": "code",
      "source": [
        "a"
      ],
      "metadata": {
        "colab": {
          "base_uri": "https://localhost:8080/"
        },
        "id": "vh6TSU5PiPGN",
        "outputId": "25567bbc-c572-41e9-8521-9ccc34f51b3e"
      },
      "execution_count": null,
      "outputs": [
        {
          "output_type": "execute_result",
          "data": {
            "text/plain": [
              "[1, 2, 3, 4]"
            ]
          },
          "metadata": {},
          "execution_count": 7
        }
      ]
    },
    {
      "cell_type": "code",
      "source": [
        "type(a)"
      ],
      "metadata": {
        "colab": {
          "base_uri": "https://localhost:8080/"
        },
        "id": "HIxklmwaiTqn",
        "outputId": "53801985-c8bb-4bbd-a4ef-de2476636622"
      },
      "execution_count": null,
      "outputs": [
        {
          "output_type": "execute_result",
          "data": {
            "text/plain": [
              "list"
            ]
          },
          "metadata": {},
          "execution_count": 8
        }
      ]
    },
    {
      "cell_type": "markdown",
      "source": [
        "# **(2) Initializing Arrays & Properties of Arrays**\n",
        "***\n",
        "**Initializing array:**\n",
        "\n",
        "* **.array()** - Creating a NumPy array from Python lists or tuples.   \n",
        "* **.arange(**) - Generating an array of evenly spaced values within a specified range.   \n",
        "*  **.linspace()** - Creating an array with a specified number of evenly spaced values within a given range.  \n",
        "* **.zeros() / .ones(**) - Creating arrays filled with zeros or ones with specified shape.\n",
        "\n",
        "**Properties of Arrays:**\n",
        "\n",
        "* **.ndim** - Finding the number of dimensions (axes) of an array.\n",
        "* **.shape** - Determining the shape (size along each dimension) of an array.\n",
        "* **.dtype** - Identifying the data type of elements in an array."
      ],
      "metadata": {
        "id": "OMRgwK8IXueH"
      }
    },
    {
      "cell_type": "markdown",
      "source": [
        "### **Creating a NumPy array from Python list**"
      ],
      "metadata": {
        "id": "HDnSmjhkfZkb"
      }
    },
    {
      "cell_type": "code",
      "source": [
        "b = np.array(a)"
      ],
      "metadata": {
        "id": "7T8An1pLiUf7"
      },
      "execution_count": null,
      "outputs": []
    },
    {
      "cell_type": "code",
      "source": [
        "print(b)"
      ],
      "metadata": {
        "colab": {
          "base_uri": "https://localhost:8080/"
        },
        "id": "gkBG3i_kicoV",
        "outputId": "b67e8f15-d98e-4458-a45b-a3f376fa1191"
      },
      "execution_count": null,
      "outputs": [
        {
          "output_type": "stream",
          "name": "stdout",
          "text": [
            "[1 2 3 4]\n"
          ]
        }
      ]
    },
    {
      "cell_type": "code",
      "source": [
        "type(b)"
      ],
      "metadata": {
        "colab": {
          "base_uri": "https://localhost:8080/"
        },
        "id": "-x9KuQKiidzu",
        "outputId": "e494deca-b03c-402e-fc29-cf1cb11cf756"
      },
      "execution_count": null,
      "outputs": [
        {
          "output_type": "execute_result",
          "data": {
            "text/plain": [
              "numpy.ndarray"
            ]
          },
          "metadata": {},
          "execution_count": 11
        }
      ]
    },
    {
      "cell_type": "code",
      "source": [
        "type(a)"
      ],
      "metadata": {
        "colab": {
          "base_uri": "https://localhost:8080/"
        },
        "id": "Rze4GkR8igGV",
        "outputId": "3453f8c7-9483-48e7-fd76-0ddc9fcb6ca2"
      },
      "execution_count": null,
      "outputs": [
        {
          "output_type": "execute_result",
          "data": {
            "text/plain": [
              "list"
            ]
          },
          "metadata": {},
          "execution_count": 12
        }
      ]
    },
    {
      "cell_type": "markdown",
      "source": [
        "### **Difference b/w \"NumPy Array\" and \"List\"**\n",
        "\n",
        "**\"NumPy Array\"** and **\"List**\" are both data structures in Python used to store collections of elements, but they have distinct characteristics and are designed for different purposes. Here are the key differences between them:\n",
        "\n",
        "> **NumPy Array**\n",
        "\n",
        "* **Homogeneous:** All elements must be the same data type.\n",
        "* **Faster Execution speed**\n",
        "* Efficient for **numerical computations**.\n",
        "* Supports extensive **mathematical operation**s.\n",
        "* **Memory-efficient** for large datasets.\n",
        "\n",
        "> **List**\n",
        "\n",
        "* **Heterogeneous**: Elements can be different data types.\n",
        "* **Slower Execution speed**\n",
        "* **Not** as efficient for **numerical operations**.\n",
        "* **General-purpose** container.\n",
        "* May be **less memory-efficient** for **numerical data**.\n"
      ],
      "metadata": {
        "id": "Pp6GhLj11Ywp"
      }
    },
    {
      "cell_type": "code",
      "source": [
        "# Lists are Heterogeneous in Python\n",
        "list1 = [4, 4.5, \"AJ\"]"
      ],
      "metadata": {
        "id": "kgkJx8R_ilZe"
      },
      "execution_count": null,
      "outputs": []
    },
    {
      "cell_type": "code",
      "source": [
        "a = range(10000000)"
      ],
      "metadata": {
        "id": "jzus2CL4i7wk"
      },
      "execution_count": null,
      "outputs": []
    },
    {
      "cell_type": "code",
      "source": [
        "%timeit [i**2 for i in a]     #Execution speed - Python list (took 4.66 seconds for squaring elements)"
      ],
      "metadata": {
        "colab": {
          "base_uri": "https://localhost:8080/"
        },
        "id": "n9XxNWRAj1gF",
        "outputId": "b42bd3d2-b1ff-4214-f487-d988423d2d6c"
      },
      "execution_count": null,
      "outputs": [
        {
          "output_type": "stream",
          "name": "stdout",
          "text": [
            "4.31 s ± 1.15 s per loop (mean ± std. dev. of 7 runs, 1 loop each)\n"
          ]
        }
      ]
    },
    {
      "cell_type": "code",
      "source": [
        "#numpy.array(): Create a NumPy array from a Python list or tuple\n",
        "n1 = np.array(a)"
      ],
      "metadata": {
        "id": "8-MsSAEvkKuX"
      },
      "execution_count": null,
      "outputs": []
    },
    {
      "cell_type": "code",
      "source": [
        "type(n1)"
      ],
      "metadata": {
        "colab": {
          "base_uri": "https://localhost:8080/"
        },
        "id": "nKDzSgTUkl9r",
        "outputId": "40577c71-5ba0-4e66-c317-8ccafacea27a"
      },
      "execution_count": null,
      "outputs": [
        {
          "output_type": "execute_result",
          "data": {
            "text/plain": [
              "numpy.ndarray"
            ]
          },
          "metadata": {},
          "execution_count": 17
        }
      ]
    },
    {
      "cell_type": "code",
      "source": [
        "#Element wise operation & Vectorization --> coming in upcoming lectures"
      ],
      "metadata": {
        "id": "RGpvz__eknvU"
      },
      "execution_count": null,
      "outputs": []
    },
    {
      "cell_type": "code",
      "source": [
        "%timeit n1**2     #Faster Execution speed - Numpy array (took 34.4 ms)"
      ],
      "metadata": {
        "colab": {
          "base_uri": "https://localhost:8080/"
        },
        "id": "gtiH33_Ok1JP",
        "outputId": "ae6b551e-7775-44de-b622-aafbc4e54be5"
      },
      "execution_count": null,
      "outputs": [
        {
          "output_type": "stream",
          "name": "stdout",
          "text": [
            "26.1 ms ± 339 µs per loop (mean ± std. dev. of 7 runs, 10 loops each)\n"
          ]
        }
      ]
    },
    {
      "cell_type": "code",
      "source": [
        "type(n1)"
      ],
      "metadata": {
        "colab": {
          "base_uri": "https://localhost:8080/"
        },
        "id": "uP1saZb9lC09",
        "outputId": "26ccdce5-75a2-474c-f1b9-2939fb5fd572"
      },
      "execution_count": null,
      "outputs": [
        {
          "output_type": "execute_result",
          "data": {
            "text/plain": [
              "numpy.ndarray"
            ]
          },
          "metadata": {},
          "execution_count": 20
        }
      ]
    },
    {
      "cell_type": "code",
      "source": [
        "print(n1)"
      ],
      "metadata": {
        "colab": {
          "base_uri": "https://localhost:8080/"
        },
        "id": "WywQ2SQPmNCd",
        "outputId": "0aff70c9-7f17-4942-dc9f-de05123ec2db"
      },
      "execution_count": null,
      "outputs": [
        {
          "output_type": "stream",
          "name": "stdout",
          "text": [
            "[      0       1       2 ... 9999997 9999998 9999999]\n"
          ]
        }
      ]
    },
    {
      "cell_type": "code",
      "source": [
        "n1.ndim"
      ],
      "metadata": {
        "colab": {
          "base_uri": "https://localhost:8080/"
        },
        "id": "caheKWVSmH8C",
        "outputId": "15c5fd03-f55c-47b9-a9f1-5b70d7aeebe7"
      },
      "execution_count": null,
      "outputs": [
        {
          "output_type": "execute_result",
          "data": {
            "text/plain": [
              "1"
            ]
          },
          "metadata": {},
          "execution_count": 22
        }
      ]
    },
    {
      "cell_type": "code",
      "source": [
        "n1.shape"
      ],
      "metadata": {
        "colab": {
          "base_uri": "https://localhost:8080/"
        },
        "id": "34MOWPvqmTQl",
        "outputId": "3f8945df-88ed-46e8-92bc-dfb52e8176f7"
      },
      "execution_count": null,
      "outputs": [
        {
          "output_type": "execute_result",
          "data": {
            "text/plain": [
              "(10000000,)"
            ]
          },
          "metadata": {},
          "execution_count": 23
        }
      ]
    },
    {
      "cell_type": "markdown",
      "source": [
        "### **Creating a 2-D Array**"
      ],
      "metadata": {
        "id": "fhnTA6-5iHYQ"
      }
    },
    {
      "cell_type": "code",
      "source": [
        "# Creating a 2-D List\n",
        "a = [ [1,2,3], [4,5,6], [7,8,9] ]"
      ],
      "metadata": {
        "id": "zjhs-Cw_md9t"
      },
      "execution_count": null,
      "outputs": []
    },
    {
      "cell_type": "code",
      "source": [
        "type(a)"
      ],
      "metadata": {
        "colab": {
          "base_uri": "https://localhost:8080/"
        },
        "id": "hswau9D1m_ok",
        "outputId": "886c57d1-dcc4-430d-d04d-f98e30a1731b"
      },
      "execution_count": null,
      "outputs": [
        {
          "output_type": "execute_result",
          "data": {
            "text/plain": [
              "list"
            ]
          },
          "metadata": {},
          "execution_count": 25
        }
      ]
    },
    {
      "cell_type": "code",
      "source": [
        "# Convert List to NumPy Array\n",
        "b = np.array(a)"
      ],
      "metadata": {
        "id": "8gGpSzPhnCPz"
      },
      "execution_count": null,
      "outputs": []
    },
    {
      "cell_type": "code",
      "source": [
        "type(b)"
      ],
      "metadata": {
        "colab": {
          "base_uri": "https://localhost:8080/"
        },
        "id": "sE2bel3OnFUt",
        "outputId": "840ca20d-bb8c-47af-8e29-f7442c6b4b17"
      },
      "execution_count": null,
      "outputs": [
        {
          "output_type": "execute_result",
          "data": {
            "text/plain": [
              "numpy.ndarray"
            ]
          },
          "metadata": {},
          "execution_count": 27
        }
      ]
    },
    {
      "cell_type": "code",
      "source": [
        "b.ndim"
      ],
      "metadata": {
        "colab": {
          "base_uri": "https://localhost:8080/"
        },
        "id": "LOsaNl6DnGr7",
        "outputId": "22b23c5f-547e-41c9-8c33-2eda8d53037f"
      },
      "execution_count": null,
      "outputs": [
        {
          "output_type": "execute_result",
          "data": {
            "text/plain": [
              "2"
            ]
          },
          "metadata": {},
          "execution_count": 28
        }
      ]
    },
    {
      "cell_type": "code",
      "source": [
        "b.shape"
      ],
      "metadata": {
        "colab": {
          "base_uri": "https://localhost:8080/"
        },
        "id": "9CLBSGGxnQPa",
        "outputId": "4233bf0d-5813-4d73-c8ac-d8c7d9c53483"
      },
      "execution_count": null,
      "outputs": [
        {
          "output_type": "execute_result",
          "data": {
            "text/plain": [
              "(3, 3)"
            ]
          },
          "metadata": {},
          "execution_count": 29
        }
      ]
    },
    {
      "cell_type": "markdown",
      "source": [
        "### **Initializing NumPy array range (i.e. arange()). Similar to python range()**"
      ],
      "metadata": {
        "id": "IDzdrcFKs3MO"
      }
    },
    {
      "cell_type": "code",
      "source": [
        "np.arange(1, 5)"
      ],
      "metadata": {
        "colab": {
          "base_uri": "https://localhost:8080/"
        },
        "id": "_tsfShZknhN3",
        "outputId": "e88afeae-4ca9-4bac-c298-d5ff731b85ae"
      },
      "execution_count": null,
      "outputs": [
        {
          "output_type": "execute_result",
          "data": {
            "text/plain": [
              "array([1, 2, 3, 4])"
            ]
          },
          "metadata": {},
          "execution_count": 30
        }
      ]
    },
    {
      "cell_type": "markdown",
      "source": [
        "### **Difference b/w range() in Python and arange() in NumPy**"
      ],
      "metadata": {
        "id": "cCJZl7pj9-xF"
      }
    },
    {
      "cell_type": "code",
      "source": [
        "np.arange(1, 5, 0.5)"
      ],
      "metadata": {
        "colab": {
          "base_uri": "https://localhost:8080/"
        },
        "id": "fHlQkYt3oDIx",
        "outputId": "4718712c-d07a-4cb9-aecb-555aecb4ea73"
      },
      "execution_count": null,
      "outputs": [
        {
          "output_type": "execute_result",
          "data": {
            "text/plain": [
              "array([1. , 1.5, 2. , 2.5, 3. , 3.5, 4. , 4.5])"
            ]
          },
          "metadata": {},
          "execution_count": 31
        }
      ]
    },
    {
      "cell_type": "code",
      "source": [
        "# there is nothing called np.range() and hence this code will throw an error message\n",
        "np.range()"
      ],
      "metadata": {
        "colab": {
          "base_uri": "https://localhost:8080/",
          "height": 331
        },
        "id": "1Ya3NTCZoP4a",
        "outputId": "b6c5326c-3d8f-48c5-db6e-6055d71cd7b8"
      },
      "execution_count": null,
      "outputs": [
        {
          "output_type": "error",
          "ename": "AttributeError",
          "evalue": "ignored",
          "traceback": [
            "\u001b[0;31m---------------------------------------------------------------------------\u001b[0m",
            "\u001b[0;31mAttributeError\u001b[0m                            Traceback (most recent call last)",
            "\u001b[0;32m<ipython-input-32-5543b8a99f0f>\u001b[0m in \u001b[0;36m<cell line: 2>\u001b[0;34m()\u001b[0m\n\u001b[1;32m      1\u001b[0m \u001b[0;31m# there is nothing called np.range() and hence this code will throw an error message\u001b[0m\u001b[0;34m\u001b[0m\u001b[0;34m\u001b[0m\u001b[0m\n\u001b[0;32m----> 2\u001b[0;31m \u001b[0mnp\u001b[0m\u001b[0;34m.\u001b[0m\u001b[0mrange\u001b[0m\u001b[0;34m(\u001b[0m\u001b[0;34m)\u001b[0m\u001b[0;34m\u001b[0m\u001b[0;34m\u001b[0m\u001b[0m\n\u001b[0m",
            "\u001b[0;32m/usr/local/lib/python3.10/dist-packages/numpy/__init__.py\u001b[0m in \u001b[0;36m__getattr__\u001b[0;34m(attr)\u001b[0m\n\u001b[1;32m    309\u001b[0m             \u001b[0;32mreturn\u001b[0m \u001b[0mTester\u001b[0m\u001b[0;34m\u001b[0m\u001b[0;34m\u001b[0m\u001b[0m\n\u001b[1;32m    310\u001b[0m \u001b[0;34m\u001b[0m\u001b[0m\n\u001b[0;32m--> 311\u001b[0;31m         raise AttributeError(\"module {!r} has no attribute \"\n\u001b[0m\u001b[1;32m    312\u001b[0m                              \"{!r}\".format(__name__, attr))\n\u001b[1;32m    313\u001b[0m \u001b[0;34m\u001b[0m\u001b[0m\n",
            "\u001b[0;31mAttributeError\u001b[0m: module 'numpy' has no attribute 'range'"
          ]
        }
      ]
    },
    {
      "cell_type": "code",
      "source": [
        "# will this provide a numpy array???\n",
        "b = np.array([4,5,7,6])"
      ],
      "metadata": {
        "id": "boiGADSZq3So"
      },
      "execution_count": null,
      "outputs": []
    },
    {
      "cell_type": "code",
      "source": [
        "print(b)"
      ],
      "metadata": {
        "colab": {
          "base_uri": "https://localhost:8080/"
        },
        "id": "Kdr-ZDcDrDt_",
        "outputId": "4508b0c1-592d-414b-9b5c-d48472aee6ff"
      },
      "execution_count": null,
      "outputs": [
        {
          "output_type": "stream",
          "name": "stdout",
          "text": [
            "[4 5 7 6]\n"
          ]
        }
      ]
    },
    {
      "cell_type": "code",
      "source": [
        "type(b)"
      ],
      "metadata": {
        "colab": {
          "base_uri": "https://localhost:8080/"
        },
        "id": "WvqGqKoKrEi3",
        "outputId": "85a3186c-fbd4-4852-fde2-d7a6df155053"
      },
      "execution_count": null,
      "outputs": [
        {
          "output_type": "execute_result",
          "data": {
            "text/plain": [
              "numpy.ndarray"
            ]
          },
          "metadata": {},
          "execution_count": 35
        }
      ]
    },
    {
      "cell_type": "code",
      "source": [
        "# will this provide a numpy array???\n",
        "b = np.array([1, 2, 3, 4.0])\n",
        "print(b)"
      ],
      "metadata": {
        "colab": {
          "base_uri": "https://localhost:8080/"
        },
        "id": "Ab8IURZKrGLs",
        "outputId": "e4bafefc-60aa-46e1-bffb-f1c604d2745b"
      },
      "execution_count": null,
      "outputs": [
        {
          "output_type": "stream",
          "name": "stdout",
          "text": [
            "[1. 2. 3. 4.]\n"
          ]
        }
      ]
    },
    {
      "cell_type": "code",
      "source": [
        "b = np.array([1,2,3,\"AJ\"])\n",
        "print(b)"
      ],
      "metadata": {
        "colab": {
          "base_uri": "https://localhost:8080/"
        },
        "id": "Ap-qEvLyrS45",
        "outputId": "427dd660-a519-4e1d-8e93-a418b44fc45d"
      },
      "execution_count": null,
      "outputs": [
        {
          "output_type": "stream",
          "name": "stdout",
          "text": [
            "['1' '2' '3' 'AJ']\n"
          ]
        }
      ]
    },
    {
      "cell_type": "markdown",
      "source": [
        "### **Creating an array of float data type**"
      ],
      "metadata": {
        "id": "MtyWdWlRsBai"
      }
    },
    {
      "cell_type": "code",
      "source": [
        "# what if we want to change the datatype as per our needs???\n",
        "np.array([1,2,3,4], dtype = \"float\")"
      ],
      "metadata": {
        "colab": {
          "base_uri": "https://localhost:8080/"
        },
        "id": "2JP6qvPKr76m",
        "outputId": "ccc18a28-d229-4d37-b975-c2b49d2e14ff"
      },
      "execution_count": null,
      "outputs": [
        {
          "output_type": "execute_result",
          "data": {
            "text/plain": [
              "array([1., 2., 3., 4.])"
            ]
          },
          "metadata": {},
          "execution_count": 38
        }
      ]
    },
    {
      "cell_type": "code",
      "source": [
        "np.array([1,2,3,4])"
      ],
      "metadata": {
        "colab": {
          "base_uri": "https://localhost:8080/"
        },
        "id": "3hqL0_zEsWII",
        "outputId": "46e41fc0-8b40-4bf9-9da0-014702050cc2"
      },
      "execution_count": null,
      "outputs": [
        {
          "output_type": "execute_result",
          "data": {
            "text/plain": [
              "array([1, 2, 3, 4])"
            ]
          },
          "metadata": {},
          "execution_count": 39
        }
      ]
    },
    {
      "cell_type": "code",
      "source": [
        "np.array([\"AJ\", \"Naveen\", \"Sai\", \"Vinod\"], dtype = \"float\")     #this will throw error message"
      ],
      "metadata": {
        "colab": {
          "base_uri": "https://localhost:8080/",
          "height": 193
        },
        "id": "xfqRjEnusZkz",
        "outputId": "18af6c85-c33b-480a-ff12-2360d6d12c07"
      },
      "execution_count": null,
      "outputs": [
        {
          "output_type": "error",
          "ename": "ValueError",
          "evalue": "ignored",
          "traceback": [
            "\u001b[0;31m---------------------------------------------------------------------------\u001b[0m",
            "\u001b[0;31mValueError\u001b[0m                                Traceback (most recent call last)",
            "\u001b[0;32m<ipython-input-40-93dc1bb09742>\u001b[0m in \u001b[0;36m<cell line: 1>\u001b[0;34m()\u001b[0m\n\u001b[0;32m----> 1\u001b[0;31m \u001b[0mnp\u001b[0m\u001b[0;34m.\u001b[0m\u001b[0marray\u001b[0m\u001b[0;34m(\u001b[0m\u001b[0;34m[\u001b[0m\u001b[0;34m\"AJ\"\u001b[0m\u001b[0;34m,\u001b[0m \u001b[0;34m\"Naveen\"\u001b[0m\u001b[0;34m,\u001b[0m \u001b[0;34m\"Sai\"\u001b[0m\u001b[0;34m,\u001b[0m \u001b[0;34m\"Vinod\"\u001b[0m\u001b[0;34m]\u001b[0m\u001b[0;34m,\u001b[0m \u001b[0mdtype\u001b[0m \u001b[0;34m=\u001b[0m \u001b[0;34m\"float\"\u001b[0m\u001b[0;34m)\u001b[0m     \u001b[0;31m#this will throw error message\u001b[0m\u001b[0;34m\u001b[0m\u001b[0;34m\u001b[0m\u001b[0m\n\u001b[0m",
            "\u001b[0;31mValueError\u001b[0m: could not convert string to float: 'AJ'"
          ]
        }
      ]
    },
    {
      "cell_type": "code",
      "source": [
        "a = np.array([1,2,3,4.0])"
      ],
      "metadata": {
        "id": "3r8_Z9XWslWi"
      },
      "execution_count": null,
      "outputs": []
    },
    {
      "cell_type": "code",
      "source": [
        "print(a)"
      ],
      "metadata": {
        "colab": {
          "base_uri": "https://localhost:8080/"
        },
        "id": "LzUpqhn6s_Rj",
        "outputId": "220602a0-2a8d-4980-afb1-a5e19e0a99f8"
      },
      "execution_count": null,
      "outputs": [
        {
          "output_type": "stream",
          "name": "stdout",
          "text": [
            "[1. 2. 3. 4.]\n"
          ]
        }
      ]
    },
    {
      "cell_type": "code",
      "source": [
        "a.dtype"
      ],
      "metadata": {
        "colab": {
          "base_uri": "https://localhost:8080/"
        },
        "id": "vMd--xUOs_8f",
        "outputId": "81c4e039-b507-46b2-8a45-e98abe4a165a"
      },
      "execution_count": null,
      "outputs": [
        {
          "output_type": "execute_result",
          "data": {
            "text/plain": [
              "dtype('float64')"
            ]
          },
          "metadata": {},
          "execution_count": 44
        }
      ]
    },
    {
      "cell_type": "code",
      "source": [
        "# Initializing numpy array range. Similar to python range().\n",
        "a = np.arange(12)"
      ],
      "metadata": {
        "id": "2-b4lwkvtCMX"
      },
      "execution_count": null,
      "outputs": []
    },
    {
      "cell_type": "code",
      "source": [
        "print(a)"
      ],
      "metadata": {
        "colab": {
          "base_uri": "https://localhost:8080/"
        },
        "id": "ZWpXMv-vtXPP",
        "outputId": "a31b1b9a-ae07-4b4e-936a-82b26f2f1239"
      },
      "execution_count": null,
      "outputs": [
        {
          "output_type": "stream",
          "name": "stdout",
          "text": [
            "[ 0  1  2  3  4  5  6  7  8  9 10 11]\n"
          ]
        }
      ]
    },
    {
      "cell_type": "code",
      "source": [
        "type(a)"
      ],
      "metadata": {
        "colab": {
          "base_uri": "https://localhost:8080/"
        },
        "id": "83Fozo-FtYBA",
        "outputId": "d9ee7816-0750-418c-f717-62a03b7bb181"
      },
      "execution_count": null,
      "outputs": [
        {
          "output_type": "execute_result",
          "data": {
            "text/plain": [
              "numpy.ndarray"
            ]
          },
          "metadata": {},
          "execution_count": 47
        }
      ]
    },
    {
      "cell_type": "markdown",
      "source": [
        "# **(3) Accessing Elements**\n",
        "***\n",
        "\n",
        "**Accessing Elements:**\n",
        "\n",
        "* **Indexing** - Accessing individual elements of an array using index values.\n",
        "* **Slicing** - Extracting subarrays (slices) from larger arrays.\n",
        "* **Masking / Fancy Indexing** - Using boolean masks or index arrays for advanced array indexing.\n",
        "* **Multi-Indexing** - Accessing elements using multiple indices, especially in multi-dimensional arrays."
      ],
      "metadata": {
        "id": "C9p-vRnSuikS"
      }
    },
    {
      "cell_type": "markdown",
      "source": [
        "### **Indexing**\n",
        "\n",
        "* **Indexing**\n",
        "* **Negative Indexing**"
      ],
      "metadata": {
        "id": "DwtYT4x_ut22"
      }
    },
    {
      "cell_type": "code",
      "source": [
        "print(a)"
      ],
      "metadata": {
        "id": "eEQwfMU_c8ZC",
        "outputId": "894750a9-8387-4fa6-b1b0-09e021f3ed8d",
        "colab": {
          "base_uri": "https://localhost:8080/"
        }
      },
      "execution_count": null,
      "outputs": [
        {
          "output_type": "stream",
          "name": "stdout",
          "text": [
            "[ 0  1  2  3  4  5  6  7  8  9 10 11]\n"
          ]
        }
      ]
    },
    {
      "cell_type": "code",
      "source": [
        "# How to find the first element of the array???\n",
        "a[0]      #Indexing"
      ],
      "metadata": {
        "colab": {
          "base_uri": "https://localhost:8080/"
        },
        "id": "VstUCDjhtbV-",
        "outputId": "2b99c6b0-3106-49c3-94f1-805c63a1c5ff"
      },
      "execution_count": null,
      "outputs": [
        {
          "output_type": "execute_result",
          "data": {
            "text/plain": [
              "0"
            ]
          },
          "metadata": {},
          "execution_count": 49
        }
      ]
    },
    {
      "cell_type": "code",
      "source": [
        "a[3]"
      ],
      "metadata": {
        "colab": {
          "base_uri": "https://localhost:8080/"
        },
        "id": "VSU2fF9btjGL",
        "outputId": "254432a3-061a-4b3d-be46-6b0062803d9c"
      },
      "execution_count": null,
      "outputs": [
        {
          "output_type": "execute_result",
          "data": {
            "text/plain": [
              "3"
            ]
          },
          "metadata": {},
          "execution_count": 50
        }
      ]
    },
    {
      "cell_type": "code",
      "source": [
        "a[-1]     #Negative Indexing"
      ],
      "metadata": {
        "colab": {
          "base_uri": "https://localhost:8080/"
        },
        "id": "t9gmaeJltrKy",
        "outputId": "dc7ccf5b-8727-468d-96f9-109791db19b1"
      },
      "execution_count": null,
      "outputs": [
        {
          "output_type": "execute_result",
          "data": {
            "text/plain": [
              "11"
            ]
          },
          "metadata": {},
          "execution_count": 51
        }
      ]
    },
    {
      "cell_type": "markdown",
      "source": [
        "### **Slicing**\n",
        "\n",
        "* **Slicing**\n",
        "* **Negative Slicing**"
      ],
      "metadata": {
        "id": "oAczIoPdunEc"
      }
    },
    {
      "cell_type": "code",
      "source": [
        "a"
      ],
      "metadata": {
        "colab": {
          "base_uri": "https://localhost:8080/"
        },
        "id": "PKePYlrBuDmO",
        "outputId": "5f059fb7-10f3-4146-d1db-73283636150a"
      },
      "execution_count": null,
      "outputs": [
        {
          "output_type": "execute_result",
          "data": {
            "text/plain": [
              "array([ 0,  1,  2,  3,  4,  5,  6,  7,  8,  9, 10, 11])"
            ]
          },
          "metadata": {},
          "execution_count": 52
        }
      ]
    },
    {
      "cell_type": "code",
      "source": [
        "a[:5]     #Slicing"
      ],
      "metadata": {
        "colab": {
          "base_uri": "https://localhost:8080/"
        },
        "id": "DOuICOD2t2pv",
        "outputId": "f34c8160-4d2d-4eda-f112-d683c16f3154"
      },
      "execution_count": null,
      "outputs": [
        {
          "output_type": "execute_result",
          "data": {
            "text/plain": [
              "array([0, 1, 2, 3, 4])"
            ]
          },
          "metadata": {},
          "execution_count": 53
        }
      ]
    },
    {
      "cell_type": "code",
      "source": [
        "print(a[-5:-1])     #Negative Slicing"
      ],
      "metadata": {
        "colab": {
          "base_uri": "https://localhost:8080/"
        },
        "id": "0-PR4orlt-iL",
        "outputId": "fccb158a-c293-43d8-c108-4b4a8347c14a"
      },
      "execution_count": null,
      "outputs": [
        {
          "output_type": "stream",
          "name": "stdout",
          "text": [
            "[ 7  8  9 10]\n"
          ]
        }
      ]
    },
    {
      "cell_type": "code",
      "source": [
        "a = np.arange(1,11)"
      ],
      "metadata": {
        "id": "ieRoVB0LuTT8"
      },
      "execution_count": null,
      "outputs": []
    },
    {
      "cell_type": "code",
      "source": [
        "print(a)"
      ],
      "metadata": {
        "colab": {
          "base_uri": "https://localhost:8080/"
        },
        "id": "ICuuX8ZVuxtA",
        "outputId": "f7b44bff-4282-4926-a077-8781b5c62965"
      },
      "execution_count": null,
      "outputs": [
        {
          "output_type": "stream",
          "name": "stdout",
          "text": [
            "[ 1  2  3  4  5  6  7  8  9 10]\n"
          ]
        }
      ]
    },
    {
      "cell_type": "markdown",
      "source": [
        "### **Masking & sample Vectarization**\n",
        "\n",
        "This is a part of the concept of **\"Vectarization\"** and this is just for an intro as we will learn in depth later...\n"
      ],
      "metadata": {
        "id": "OgpVzx_Pdw_P"
      }
    },
    {
      "cell_type": "code",
      "source": [
        "# What will be the datatype of the o/p ???\n",
        "a < 6     #Masking"
      ],
      "metadata": {
        "id": "FmUzn0Jeuyr3",
        "colab": {
          "base_uri": "https://localhost:8080/"
        },
        "outputId": "569d6f49-694e-4784-d66a-a6aaf564ecf1"
      },
      "execution_count": null,
      "outputs": [
        {
          "output_type": "execute_result",
          "data": {
            "text/plain": [
              "array([ True,  True,  True,  True,  True, False, False, False, False,\n",
              "       False])"
            ]
          },
          "metadata": {},
          "execution_count": 57
        }
      ]
    },
    {
      "cell_type": "code",
      "source": [
        "b = a < 6"
      ],
      "metadata": {
        "id": "2X3xrSQhhf-Q"
      },
      "execution_count": null,
      "outputs": []
    },
    {
      "cell_type": "code",
      "source": [
        "print(b)      #o/p is NumPy Array of Boolean values"
      ],
      "metadata": {
        "colab": {
          "base_uri": "https://localhost:8080/"
        },
        "id": "B5wiTpkvvKvj",
        "outputId": "8d4b3a52-e8fc-412a-c393-11ae41e9cc00"
      },
      "execution_count": null,
      "outputs": [
        {
          "output_type": "stream",
          "name": "stdout",
          "text": [
            "[ True  True  True  True  True False False False False False]\n"
          ]
        }
      ]
    },
    {
      "cell_type": "code",
      "source": [
        "print(a[a < 6])     #uses the Boolean Mask created by a < 6 to perform a Vectorized Operation of selecting elements from the array \"a\" based on the mask."
      ],
      "metadata": {
        "colab": {
          "base_uri": "https://localhost:8080/"
        },
        "id": "cf6tgViGvflR",
        "outputId": "bb2b96d3-3156-47f7-b32a-98cfad2938af"
      },
      "execution_count": null,
      "outputs": [
        {
          "output_type": "stream",
          "name": "stdout",
          "text": [
            "[1 2 3 4 5]\n"
          ]
        }
      ]
    },
    {
      "cell_type": "code",
      "source": [
        "a[[ True , True , True,  True , True, False ,False, False ,False, False]]  #this is what is happening internally for the above code..."
      ],
      "metadata": {
        "colab": {
          "base_uri": "https://localhost:8080/"
        },
        "id": "rPCH6j9LwG6c",
        "outputId": "848b3c96-7dc2-43c6-cb9e-e98fc68b5af2"
      },
      "execution_count": null,
      "outputs": [
        {
          "output_type": "execute_result",
          "data": {
            "text/plain": [
              "array([1, 2, 3, 4, 5])"
            ]
          },
          "metadata": {},
          "execution_count": 61
        }
      ]
    },
    {
      "cell_type": "markdown",
      "source": [
        "### **Personal Note**"
      ],
      "metadata": {
        "id": "f_vUg4P7grn1"
      }
    },
    {
      "cell_type": "code",
      "source": [
        "'''\n",
        "Personal Note:\n",
        "To clarify the relationship between Vectorization & Boolean Mask concepts in the context of a[a < 6]:\n",
        "\n",
        "* \"a < 6' - creates a boolean mask.\n",
        "* \"a[a < 6]\" - uses the boolean mask created by a < 6 to perform a vectorized operation of selecting elements from the array a based on the mask.\n",
        "'''"
      ],
      "metadata": {
        "id": "VYntAK6UfQ1x",
        "outputId": "6ca4251d-a195-442d-a985-4921ef8c3473",
        "colab": {
          "base_uri": "https://localhost:8080/",
          "height": 87
        }
      },
      "execution_count": null,
      "outputs": [
        {
          "output_type": "execute_result",
          "data": {
            "text/plain": [
              "'\\nPersonal Note:\\nTo clarify the relationship between Vectorization & Boolean Mask concepts in the context of a[a < 6]:\\n\\n* \"a < 6\\' - creates a boolean mask.\\n* \"a[a < 6]\" - uses the boolean mask created by a < 6 to perform a vectorized operation of selecting elements from the array a based on the mask.\\n'"
            ],
            "application/vnd.google.colaboratory.intrinsic+json": {
              "type": "string"
            }
          },
          "metadata": {},
          "execution_count": 62
        }
      ]
    },
    {
      "cell_type": "code",
      "source": [
        "# write a code to have all the numpy array list value greater than 4...\n",
        "print(a[a>4])"
      ],
      "metadata": {
        "colab": {
          "base_uri": "https://localhost:8080/"
        },
        "id": "eOBw3RGzwXmU",
        "outputId": "0a3b7ef4-ec72-494f-b84c-ac76c2e3ee7a"
      },
      "execution_count": null,
      "outputs": [
        {
          "output_type": "stream",
          "name": "stdout",
          "text": [
            "[ 5  6  7  8  9 10]\n"
          ]
        }
      ]
    },
    {
      "cell_type": "code",
      "source": [
        "# give me all the even number in the numpy array...\n",
        "print(a[a%2 == 0])"
      ],
      "metadata": {
        "colab": {
          "base_uri": "https://localhost:8080/"
        },
        "id": "IF_Y6MYAwofM",
        "outputId": "e0925ade-16ed-431a-84c3-124c18d1f2f1"
      },
      "execution_count": null,
      "outputs": [
        {
          "output_type": "stream",
          "name": "stdout",
          "text": [
            "[ 2  4  6  8 10]\n"
          ]
        }
      ]
    },
    {
      "cell_type": "markdown",
      "source": [
        "### **Multi-Indexing**"
      ],
      "metadata": {
        "id": "6Hasv0WShA3F"
      }
    },
    {
      "cell_type": "code",
      "source": [
        "print(a)"
      ],
      "metadata": {
        "colab": {
          "base_uri": "https://localhost:8080/"
        },
        "id": "Gxn0rXE_xMPW",
        "outputId": "19961be7-e0a8-4844-8731-5d1ee0a58420"
      },
      "execution_count": null,
      "outputs": [
        {
          "output_type": "stream",
          "name": "stdout",
          "text": [
            "[ 1  2  3  4  5  6  7  8  9 10]\n"
          ]
        }
      ]
    },
    {
      "cell_type": "code",
      "source": [
        "a[6]"
      ],
      "metadata": {
        "colab": {
          "base_uri": "https://localhost:8080/"
        },
        "id": "etTrfS9pxGQJ",
        "outputId": "3159195c-b5a1-43e5-81c7-8f40e3a5789d"
      },
      "execution_count": null,
      "outputs": [
        {
          "output_type": "execute_result",
          "data": {
            "text/plain": [
              "7"
            ]
          },
          "metadata": {},
          "execution_count": 66
        }
      ]
    },
    {
      "cell_type": "code",
      "source": [
        "a[8]"
      ],
      "metadata": {
        "colab": {
          "base_uri": "https://localhost:8080/"
        },
        "id": "dEHWN_7axOiO",
        "outputId": "05461cd2-b90d-408a-e34b-4140894d598a"
      },
      "execution_count": null,
      "outputs": [
        {
          "output_type": "execute_result",
          "data": {
            "text/plain": [
              "9"
            ]
          },
          "metadata": {},
          "execution_count": 67
        }
      ]
    },
    {
      "cell_type": "code",
      "source": [
        "print(a[[6,8]])     #multi indexing"
      ],
      "metadata": {
        "colab": {
          "base_uri": "https://localhost:8080/"
        },
        "id": "YIA9vj27xTip",
        "outputId": "39c9e39a-0690-4328-adab-f672c0fd86c6"
      },
      "execution_count": null,
      "outputs": [
        {
          "output_type": "stream",
          "name": "stdout",
          "text": [
            "[7 9]\n"
          ]
        }
      ]
    },
    {
      "cell_type": "code",
      "source": [
        "print(a[[2,6,5]])"
      ],
      "metadata": {
        "colab": {
          "base_uri": "https://localhost:8080/"
        },
        "id": "LfobaA0JxaRT",
        "outputId": "cdafb2c0-5656-46ad-a462-2cd2bd2bc412"
      },
      "execution_count": null,
      "outputs": [
        {
          "output_type": "stream",
          "name": "stdout",
          "text": [
            "[3 7 6]\n"
          ]
        }
      ]
    },
    {
      "cell_type": "code",
      "source": [
        "b = a[[2,6,5]]"
      ],
      "metadata": {
        "id": "gSh-t_w8xrbI"
      },
      "execution_count": null,
      "outputs": []
    },
    {
      "cell_type": "code",
      "source": [
        "type(b)"
      ],
      "metadata": {
        "colab": {
          "base_uri": "https://localhost:8080/"
        },
        "id": "ol_VT-cYx1Ua",
        "outputId": "65eb2a39-fe91-4432-cb3b-9164272df677"
      },
      "execution_count": null,
      "outputs": [
        {
          "output_type": "execute_result",
          "data": {
            "text/plain": [
              "numpy.ndarray"
            ]
          },
          "metadata": {},
          "execution_count": 71
        }
      ]
    },
    {
      "cell_type": "markdown",
      "source": [
        "# **(4) Solving the NPS problem**\n",
        "***\n",
        "\n",
        "**Expected o/p of the NPS calculation**\n",
        "\n",
        "![Capture.PNG](data:image/png;base64,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)"
      ],
      "metadata": {
        "id": "pMqTUs2-kBOJ"
      }
    },
    {
      "cell_type": "code",
      "source": [
        "# NOTE: need to upload the file in order for this code to work...\n",
        "score = np.loadtxt(\"survey.txt\", dtype = \"int\")"
      ],
      "metadata": {
        "id": "o5WlagFcyVRJ"
      },
      "execution_count": null,
      "outputs": []
    },
    {
      "cell_type": "code",
      "source": [
        "print(score)"
      ],
      "metadata": {
        "colab": {
          "base_uri": "https://localhost:8080/"
        },
        "id": "-Od4FLZYmaoS",
        "outputId": "a0159551-72b1-4ee3-fe58-22bb56370930"
      },
      "execution_count": null,
      "outputs": [
        {
          "output_type": "stream",
          "name": "stdout",
          "text": [
            "[ 7 10  5 ...  5  9 10]\n"
          ]
        }
      ]
    },
    {
      "cell_type": "code",
      "source": [
        "type(score)"
      ],
      "metadata": {
        "colab": {
          "base_uri": "https://localhost:8080/"
        },
        "id": "BWW5LwmMzFMg",
        "outputId": "ba076ca1-2820-4601-ddd2-86b8c9008c7a"
      },
      "execution_count": null,
      "outputs": [
        {
          "output_type": "execute_result",
          "data": {
            "text/plain": [
              "numpy.ndarray"
            ]
          },
          "metadata": {},
          "execution_count": 75
        }
      ]
    },
    {
      "cell_type": "code",
      "source": [
        "# What is the 3rd rating in my data???\n",
        "score[2]      #Indexing"
      ],
      "metadata": {
        "colab": {
          "base_uri": "https://localhost:8080/"
        },
        "id": "8miv4nLOzGgi",
        "outputId": "32864117-a5d4-44ac-a432-89136c5f7eee"
      },
      "execution_count": null,
      "outputs": [
        {
          "output_type": "execute_result",
          "data": {
            "text/plain": [
              "5"
            ]
          },
          "metadata": {},
          "execution_count": 76
        }
      ]
    },
    {
      "cell_type": "code",
      "source": [
        "# What is the first 5 rating???\n",
        "score[:5]     #Slicing"
      ],
      "metadata": {
        "colab": {
          "base_uri": "https://localhost:8080/"
        },
        "id": "UcaqLa_DzNUU",
        "outputId": "cc294cc2-bde1-4859-e382-4f7c360189e2"
      },
      "execution_count": null,
      "outputs": [
        {
          "output_type": "execute_result",
          "data": {
            "text/plain": [
              "array([ 7, 10,  5,  9,  9])"
            ]
          },
          "metadata": {},
          "execution_count": 77
        }
      ]
    },
    {
      "cell_type": "code",
      "source": [
        "# What is the last rating???\n",
        "score[-1]     #Negative Indexing"
      ],
      "metadata": {
        "colab": {
          "base_uri": "https://localhost:8080/"
        },
        "id": "SuqZYmAjzQi-",
        "outputId": "89e5ea5d-1f6d-40c3-c969-8df57b5cad6a"
      },
      "execution_count": null,
      "outputs": [
        {
          "output_type": "execute_result",
          "data": {
            "text/plain": [
              "10"
            ]
          },
          "metadata": {},
          "execution_count": 78
        }
      ]
    },
    {
      "cell_type": "code",
      "source": [
        "# How many rating do I have in my dataset???\n",
        "score.shape     #Properties of arrays"
      ],
      "metadata": {
        "colab": {
          "base_uri": "https://localhost:8080/"
        },
        "id": "I5IB4wZ2zZWs",
        "outputId": "65a4c159-d45b-43d1-8d8f-f145779dba85"
      },
      "execution_count": null,
      "outputs": [
        {
          "output_type": "execute_result",
          "data": {
            "text/plain": [
              "(1167,)"
            ]
          },
          "metadata": {},
          "execution_count": 79
        }
      ]
    },
    {
      "cell_type": "code",
      "source": [
        "# What dimention does my data belongs to???\n",
        "score.ndim      #Properties of arrays"
      ],
      "metadata": {
        "colab": {
          "base_uri": "https://localhost:8080/"
        },
        "id": "U59w0d-Rze_W",
        "outputId": "f258626c-2ba8-4f0f-f34a-ffa9ec65a42e"
      },
      "execution_count": null,
      "outputs": [
        {
          "output_type": "execute_result",
          "data": {
            "text/plain": [
              "1"
            ]
          },
          "metadata": {},
          "execution_count": 80
        }
      ]
    },
    {
      "cell_type": "code",
      "source": [
        "# How to find the list of all the Detractors rating???\n",
        "detractors = score[score < 7]     #Vectorizing based on Boolen Masking of 'score < 7\""
      ],
      "metadata": {
        "id": "ZfYpAqgfzjcP"
      },
      "execution_count": null,
      "outputs": []
    },
    {
      "cell_type": "code",
      "source": [
        "print(detractors)"
      ],
      "metadata": {
        "colab": {
          "base_uri": "https://localhost:8080/"
        },
        "id": "UC5d7aQJz-c1",
        "outputId": "421a8ea2-2f55-4f19-fb47-e85e3b174279"
      },
      "execution_count": null,
      "outputs": [
        {
          "output_type": "stream",
          "name": "stdout",
          "text": [
            "[5 4 4 5 1 5 5 1 4 5 4 4 4 5 1 4 1 4 1 5 5 1 1 4 1 5 4 1 1 4 1 5 1 4 4 1 1\n",
            " 1 1 1 1 1 4 1 1 5 5 5 4 4 1 4 1 4 1 5 1 1 5 4 4 4 4 1 4 5 4 4 1 1 5 5 1 5\n",
            " 1 5 5 4 5 4 1 1 1 1 4 1 4 4 5 4 1 1 1 1 5 4 5 5 4 1 5 1 4 4 1 1 1 4 4 5 5\n",
            " 4 5 5 5 1 4 1 5 5 1 5 1 1 5 5 4 4 1 4 4 4 1 1 4 4 4 5 5 1 1 4 1 4 1 4 1 4\n",
            " 1 4 1 5 4 4 5 1 4 5 5 5 1 5 4 1 1 5 5 5 4 5 4 4 1 4 4 4 4 5 1 5 5 1 4 4 5\n",
            " 1 1 4 5 5 5 1 4 5 5 4 1 5 5 5 1 1 5 5 1 1 1 4 5 5 4 4 4 5 1 4 1 4 5 4 5 5\n",
            " 1 5 1 5 5 1 4 5 5 4 1 5 1 4 1 4 1 1 1 1 1 1 4 1 5 4 5 1 5 1 5 4 4 4 4 5 5\n",
            " 1 4 1 5 5 1 4 1 1 4 4 4 4 1 4 1 1 4 1 5 4 1 1 5 4 5 4 4 4 1 5 5 1 4 5 4 4\n",
            " 4 1 4 1 4 4 4 5 1 1 1 4 5 5 1 5 4 5 5 4 1 1 5 5 5 1 4 5 4 5 5 5 1 4 1 5]\n"
          ]
        }
      ]
    },
    {
      "cell_type": "code",
      "source": [
        "# How to find the number of Dectractors???\n",
        "# Approach (1)\n",
        "detractors.shape"
      ],
      "metadata": {
        "colab": {
          "base_uri": "https://localhost:8080/"
        },
        "id": "t2dgHc6r0AEv",
        "outputId": "0ee7db22-4a4f-4f23-f165-1e9a26149263"
      },
      "execution_count": null,
      "outputs": [
        {
          "output_type": "execute_result",
          "data": {
            "text/plain": [
              "(332,)"
            ]
          },
          "metadata": {},
          "execution_count": 83
        }
      ]
    },
    {
      "cell_type": "code",
      "source": [
        "# Approach (2)\n",
        "num_detractors = len(detractors)"
      ],
      "metadata": {
        "id": "upIaNqIT0MNz"
      },
      "execution_count": null,
      "outputs": []
    },
    {
      "cell_type": "code",
      "source": [
        "print(num_detractors)"
      ],
      "metadata": {
        "colab": {
          "base_uri": "https://localhost:8080/"
        },
        "id": "KWj1ZJuK0Svo",
        "outputId": "d2ec6033-ed1b-408e-bb85-c461a43cdf29"
      },
      "execution_count": null,
      "outputs": [
        {
          "output_type": "stream",
          "name": "stdout",
          "text": [
            "332\n"
          ]
        }
      ]
    },
    {
      "cell_type": "code",
      "source": [
        "# What is the min rating in our date???\n",
        "score.min()"
      ],
      "metadata": {
        "colab": {
          "base_uri": "https://localhost:8080/"
        },
        "id": "y3TB_6sl0doY",
        "outputId": "df653977-895a-45b3-d622-5ee654bf7c5f"
      },
      "execution_count": null,
      "outputs": [
        {
          "output_type": "execute_result",
          "data": {
            "text/plain": [
              "1"
            ]
          },
          "metadata": {},
          "execution_count": 86
        }
      ]
    },
    {
      "cell_type": "code",
      "source": [
        "# What is the max rating in our data???\n",
        "score.max()"
      ],
      "metadata": {
        "colab": {
          "base_uri": "https://localhost:8080/"
        },
        "id": "lI5dh2vM0h4_",
        "outputId": "5ad17b86-4c78-48f1-a425-9140f375068a"
      },
      "execution_count": null,
      "outputs": [
        {
          "output_type": "execute_result",
          "data": {
            "text/plain": [
              "10"
            ]
          },
          "metadata": {},
          "execution_count": 87
        }
      ]
    },
    {
      "cell_type": "code",
      "source": [
        "# How to find the ratings provided by the Promoters???\n",
        "# Approach (1)\n",
        "promoters = score[score > 8]"
      ],
      "metadata": {
        "id": "lkJTZjJY0U_M"
      },
      "execution_count": null,
      "outputs": []
    },
    {
      "cell_type": "code",
      "source": [
        "# How many Promoters do I have???\n",
        "num_promoters = len(promoters)"
      ],
      "metadata": {
        "id": "Kt5jDRUH0yd4"
      },
      "execution_count": null,
      "outputs": []
    },
    {
      "cell_type": "code",
      "source": [
        "print(num_promoters)"
      ],
      "metadata": {
        "colab": {
          "base_uri": "https://localhost:8080/"
        },
        "id": "DmAxReXN03vy",
        "outputId": "b2ff8f20-d70a-4acf-cb39-b1980f8b269e"
      },
      "execution_count": null,
      "outputs": [
        {
          "output_type": "stream",
          "name": "stdout",
          "text": [
            "609\n"
          ]
        }
      ]
    },
    {
      "cell_type": "markdown",
      "source": [
        "### **How to find the percentage of Promoters and percentage of Dectractors ???**"
      ],
      "metadata": {
        "id": "NWETeSyrovpU"
      }
    },
    {
      "cell_type": "code",
      "source": [
        "total_users = len(score)\n",
        "print(total_users)"
      ],
      "metadata": {
        "colab": {
          "base_uri": "https://localhost:8080/"
        },
        "id": "uQzbZyZA05IQ",
        "outputId": "d2a719ec-d176-4afa-ea7b-17bff90f5cc6"
      },
      "execution_count": null,
      "outputs": [
        {
          "output_type": "stream",
          "name": "stdout",
          "text": [
            "1167\n"
          ]
        }
      ]
    },
    {
      "cell_type": "code",
      "source": [
        "percent_promoters = num_promoters/total_users\n",
        "\n",
        "percent_detractors = num_detractors/total_users"
      ],
      "metadata": {
        "id": "swRwtcOz1JGR"
      },
      "execution_count": null,
      "outputs": []
    },
    {
      "cell_type": "markdown",
      "source": [
        "### **How to calculate the NPS ???**"
      ],
      "metadata": {
        "id": "kozVbJ0opBrT"
      }
    },
    {
      "cell_type": "code",
      "source": [
        "nps = (percent_promoters - percent_detractors)*100"
      ],
      "metadata": {
        "id": "b0mH6vbs1-zo"
      },
      "execution_count": null,
      "outputs": []
    },
    {
      "cell_type": "code",
      "source": [
        "print(nps)"
      ],
      "metadata": {
        "colab": {
          "base_uri": "https://localhost:8080/"
        },
        "id": "XASKH5r-2C-U",
        "outputId": "fa9935ed-9def-4186-fbbe-3c922abd57cf"
      },
      "execution_count": null,
      "outputs": [
        {
          "output_type": "stream",
          "name": "stdout",
          "text": [
            "23.73607540702657\n"
          ]
        }
      ]
    },
    {
      "cell_type": "code",
      "source": [
        "#HW - to try to have the answer only till 2 decimal places"
      ],
      "metadata": {
        "id": "F8h46yq32D0D"
      },
      "execution_count": null,
      "outputs": []
    },
    {
      "cell_type": "code",
      "source": [],
      "metadata": {
        "id": "bveJZHaYkndN"
      },
      "execution_count": null,
      "outputs": []
    },
    {
      "cell_type": "code",
      "source": [],
      "metadata": {
        "id": "PrvqAwJoknYM"
      },
      "execution_count": null,
      "outputs": []
    }
  ]
}