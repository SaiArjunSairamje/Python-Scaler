{
  "nbformat": 4,
  "nbformat_minor": 0,
  "metadata": {
    "colab": {
      "provenance": [],
      "include_colab_link": true
    },
    "kernelspec": {
      "name": "python3",
      "display_name": "Python 3"
    },
    "language_info": {
      "name": "python"
    }
  },
  "cells": [
    {
      "cell_type": "markdown",
      "metadata": {
        "id": "view-in-github",
        "colab_type": "text"
      },
      "source": [
        "<a href=\"https://colab.research.google.com/github/SaiArjunSairamje/Python_Libraries/blob/main/02_2.%20Numpy_2%20(Dataset-2D%3A%20Fitbit_User_Analysis_Cont...)%20.ipynb\" target=\"_parent\"><img src=\"https://colab.research.google.com/assets/colab-badge.svg\" alt=\"Open In Colab\"/></a>"
      ]
    },
    {
      "cell_type": "markdown",
      "source": [
        "# **Importing the Libraries and Dataset \"Fitbit (Cont...)\"**\n",
        "***"
      ],
      "metadata": {
        "id": "h7gEhaWaZnbE"
      }
    },
    {
      "cell_type": "code",
      "source": [
        "import numpy as np"
      ],
      "metadata": {
        "id": "u-6HTwpdyG5X"
      },
      "execution_count": null,
      "outputs": []
    },
    {
      "cell_type": "code",
      "source": [
        "#NOTE: we need to upload the file \"fit.txt\" to run this code...\n",
        "data = np.loadtxt('fit.txt', dtype = 'str')"
      ],
      "metadata": {
        "id": "EfGygtCVzZEk"
      },
      "execution_count": null,
      "outputs": []
    },
    {
      "cell_type": "code",
      "source": [
        "print(data)"
      ],
      "metadata": {
        "colab": {
          "base_uri": "https://localhost:8080/"
        },
        "id": "11rgzB3QzePv",
        "outputId": "ba168143-4306-493d-d0fc-bf389aa5ed1b"
      },
      "execution_count": null,
      "outputs": [
        {
          "output_type": "stream",
          "name": "stdout",
          "text": [
            "[['06-10-2017' '5464' 'Neutral' '181' '5' 'Inactive']\n",
            " ['07-10-2017' '6041' 'Sad' '197' '8' 'Inactive']\n",
            " ['08-10-2017' '25' 'Sad' '0' '5' 'Inactive']\n",
            " ['09-10-2017' '5461' 'Sad' '174' '4' 'Inactive']\n",
            " ['10-10-2017' '6915' 'Neutral' '223' '5' 'Active']\n",
            " ['11-10-2017' '4545' 'Sad' '149' '6' 'Inactive']\n",
            " ['12-10-2017' '4340' 'Sad' '140' '6' 'Inactive']\n",
            " ['13-10-2017' '1230' 'Sad' '38' '7' 'Inactive']\n",
            " ['14-10-2017' '61' 'Sad' '1' '5' 'Inactive']\n",
            " ['15-10-2017' '1258' 'Sad' '40' '6' 'Inactive']\n",
            " ['16-10-2017' '3148' 'Sad' '101' '8' 'Inactive']\n",
            " ['17-10-2017' '4687' 'Sad' '152' '5' 'Inactive']\n",
            " ['18-10-2017' '4732' 'Happy' '150' '6' 'Active']\n",
            " ['19-10-2017' '3519' 'Sad' '113' '7' 'Inactive']\n",
            " ['20-10-2017' '1580' 'Sad' '49' '5' 'Inactive']\n",
            " ['21-10-2017' '2822' 'Sad' '86' '6' 'Inactive']\n",
            " ['22-10-2017' '181' 'Sad' '6' '8' 'Inactive']\n",
            " ['23-10-2017' '3158' 'Neutral' '99' '5' 'Inactive']\n",
            " ['24-10-2017' '4383' 'Neutral' '143' '4' 'Inactive']\n",
            " ['25-10-2017' '3881' 'Neutral' '125' '5' 'Inactive']\n",
            " ['26-10-2017' '4037' 'Neutral' '129' '6' 'Inactive']\n",
            " ['27-10-2017' '202' 'Neutral' '6' '8' 'Inactive']\n",
            " ['28-10-2017' '292' 'Neutral' '9' '5' 'Inactive']\n",
            " ['29-10-2017' '330' 'Happy' '10' '6' 'Inactive']\n",
            " ['30-10-2017' '2209' 'Neutral' '72' '5' 'Inactive']\n",
            " ['31-10-2017' '4550' 'Happy' '150' '8' 'Active']\n",
            " ['01-11-2017' '4435' 'Happy' '141' '5' 'Inactive']\n",
            " ['02-11-2017' '4779' 'Happy' '156' '4' 'Inactive']\n",
            " ['03-11-2017' '1831' 'Happy' '57' '5' 'Inactive']\n",
            " ['04-11-2017' '2255' 'Happy' '72' '4' 'Inactive']\n",
            " ['05-11-2017' '539' 'Happy' '17' '5' 'Active']\n",
            " ['06-11-2017' '5464' 'Happy' '181' '4' 'Inactive']\n",
            " ['07-11-2017' '6041' 'Neutral' '197' '3' 'Inactive']\n",
            " ['08-11-2017' '4068' 'Happy' '131' '2' 'Inactive']\n",
            " ['09-11-2017' '4683' 'Happy' '154' '9' 'Inactive']\n",
            " ['10-11-2017' '4033' 'Happy' '137' '5' 'Inactive']\n",
            " ['11-11-2017' '6314' 'Happy' '193' '6' 'Active']\n",
            " ['12-11-2017' '614' 'Happy' '19' '4' 'Active']\n",
            " ['13-11-2017' '3149' 'Happy' '101' '5' 'Active']\n",
            " ['14-11-2017' '4005' 'Happy' '139' '8' 'Active']\n",
            " ['15-11-2017' '4880' 'Happy' '164' '4' 'Active']\n",
            " ['16-11-2017' '4136' 'Happy' '137' '5' 'Active']\n",
            " ['17-11-2017' '705' 'Happy' '22' '6' 'Active']\n",
            " ['18-11-2017' '570' 'Neutral' '17' '5' 'Active']\n",
            " ['19-11-2017' '269' 'Happy' '9' '6' 'Active']\n",
            " ['20-11-2017' '4275' 'Happy' '145' '5' 'Inactive']\n",
            " ['21-11-2017' '5999' 'Happy' '192' '6' 'Inactive']\n",
            " ['22-11-2017' '4421' 'Happy' '146' '5' 'Inactive']\n",
            " ['23-11-2017' '6930' 'Happy' '234' '6' 'Inactive']\n",
            " ['24-11-2017' '5195' 'Happy' '167' '5' 'Inactive']\n",
            " ['25-11-2017' '546' 'Happy' '16' '6' 'Inactive']\n",
            " ['26-11-2017' '493' 'Happy' '17' '7' 'Active']\n",
            " ['27-11-2017' '995' 'Happy' '32' '6' 'Active']\n",
            " ['28-11-2017' '1163' 'Neutral' '35' '7' 'Active']\n",
            " ['29-11-2017' '6676' 'Sad' '220' '6' 'Active']\n",
            " ['30-11-2017' '3608' 'Happy' '116' '5' 'Active']\n",
            " ['01-12-2017' '774' 'Happy' '23' '6' 'Active']\n",
            " ['02-12-2017' '1421' 'Happy' '44' '7' 'Active']\n",
            " ['03-12-2017' '4064' 'Happy' '131' '8' 'Active']\n",
            " ['04-12-2017' '2725' 'Happy' '86' '8' 'Active']\n",
            " ['05-12-2017' '5934' 'Happy' '194' '7' 'Active']\n",
            " ['06-12-2017' '1867' 'Happy' '60' '8' 'Active']\n",
            " ['07-12-2017' '3721' 'Sad' '121' '5' 'Active']\n",
            " ['08-12-2017' '2374' 'Neutral' '76' '4' 'Inactive']\n",
            " ['09-12-2017' '2909' 'Neutral' '93' '3' 'Active']\n",
            " ['10-12-2017' '1648' 'Sad' '53' '3' 'Active']\n",
            " ['11-12-2017' '799' 'Sad' '25' '4' 'Inactive']\n",
            " ['12-12-2017' '7102' 'Neutral' '227' '5' 'Active']\n",
            " ['13-12-2017' '3941' 'Neutral' '125' '5' 'Active']\n",
            " ['14-12-2017' '7422' 'Happy' '243' '5' 'Active']\n",
            " ['15-12-2017' '437' 'Neutral' '14' '3' 'Active']\n",
            " ['16-12-2017' '1231' 'Neutral' '39' '4' 'Active']\n",
            " ['17-12-2017' '1696' 'Sad' '55' '4' 'Inactive']\n",
            " ['18-12-2017' '4921' 'Neutral' '158' '5' 'Active']\n",
            " ['19-12-2017' '221' 'Sad' '7' '5' 'Active']\n",
            " ['20-12-2017' '6500' 'Neutral' '213' '5' 'Active']\n",
            " ['21-12-2017' '3575' 'Neutral' '116' '5' 'Active']\n",
            " ['22-12-2017' '4061' 'Sad' '129' '5' 'Inactive']\n",
            " ['23-12-2017' '651' 'Sad' '21' '5' 'Inactive']\n",
            " ['24-12-2017' '753' 'Sad' '28' '4' 'Inactive']\n",
            " ['25-12-2017' '518' 'Sad' '16' '3' 'Inactive']\n",
            " ['26-12-2017' '5537' 'Happy' '180' '4' 'Active']\n",
            " ['27-12-2017' '4108' 'Neutral' '138' '5' 'Active']\n",
            " ['28-12-2017' '5376' 'Happy' '176' '5' 'Active']\n",
            " ['29-12-2017' '3066' 'Neutral' '99' '4' 'Active']\n",
            " ['30-12-2017' '177' 'Sad' '5' '5' 'Inactive']\n",
            " ['31-12-2017' '36' 'Sad' '1' '3' 'Inactive']\n",
            " ['01-01-2018' '299' 'Sad' '10' '3' 'Inactive']\n",
            " ['02-01-2018' '1447' 'Neutral' '47' '3' 'Inactive']\n",
            " ['03-01-2018' '2599' 'Neutral' '84' '2' 'Inactive']\n",
            " ['04-01-2018' '702' 'Sad' '23' '3' 'Inactive']\n",
            " ['05-01-2018' '133' 'Sad' '4' '2' 'Inactive']\n",
            " ['06-01-2018' '153' 'Happy' '0' '8' 'Inactive']\n",
            " ['07-01-2018' '500' 'Neutral' '0' '5' 'Active']\n",
            " ['08-01-2018' '2127' 'Neutral' '0' '5' 'Inactive']\n",
            " ['09-01-2018' '2203' 'Happy' '0' '5' 'Active']]\n"
          ]
        }
      ]
    },
    {
      "cell_type": "markdown",
      "source": [
        "**What are the 2 approaches to get the Step-count details ???**\n",
        "\n",
        "> **`Approach (1)`** - to get the Step-count details"
      ],
      "metadata": {
        "id": "0JNy2ThMahTH"
      }
    },
    {
      "cell_type": "code",
      "source": [
        "data_t = data.T"
      ],
      "metadata": {
        "id": "l_8AC_VdzfDX"
      },
      "execution_count": null,
      "outputs": []
    },
    {
      "cell_type": "code",
      "source": [
        "print(data_t)"
      ],
      "metadata": {
        "colab": {
          "base_uri": "https://localhost:8080/"
        },
        "id": "xW2Db7eNzp3A",
        "outputId": "cc0ba0e7-d07d-404a-de66-563be6675591"
      },
      "execution_count": null,
      "outputs": [
        {
          "output_type": "stream",
          "name": "stdout",
          "text": [
            "[['06-10-2017' '07-10-2017' '08-10-2017' '09-10-2017' '10-10-2017'\n",
            "  '11-10-2017' '12-10-2017' '13-10-2017' '14-10-2017' '15-10-2017'\n",
            "  '16-10-2017' '17-10-2017' '18-10-2017' '19-10-2017' '20-10-2017'\n",
            "  '21-10-2017' '22-10-2017' '23-10-2017' '24-10-2017' '25-10-2017'\n",
            "  '26-10-2017' '27-10-2017' '28-10-2017' '29-10-2017' '30-10-2017'\n",
            "  '31-10-2017' '01-11-2017' '02-11-2017' '03-11-2017' '04-11-2017'\n",
            "  '05-11-2017' '06-11-2017' '07-11-2017' '08-11-2017' '09-11-2017'\n",
            "  '10-11-2017' '11-11-2017' '12-11-2017' '13-11-2017' '14-11-2017'\n",
            "  '15-11-2017' '16-11-2017' '17-11-2017' '18-11-2017' '19-11-2017'\n",
            "  '20-11-2017' '21-11-2017' '22-11-2017' '23-11-2017' '24-11-2017'\n",
            "  '25-11-2017' '26-11-2017' '27-11-2017' '28-11-2017' '29-11-2017'\n",
            "  '30-11-2017' '01-12-2017' '02-12-2017' '03-12-2017' '04-12-2017'\n",
            "  '05-12-2017' '06-12-2017' '07-12-2017' '08-12-2017' '09-12-2017'\n",
            "  '10-12-2017' '11-12-2017' '12-12-2017' '13-12-2017' '14-12-2017'\n",
            "  '15-12-2017' '16-12-2017' '17-12-2017' '18-12-2017' '19-12-2017'\n",
            "  '20-12-2017' '21-12-2017' '22-12-2017' '23-12-2017' '24-12-2017'\n",
            "  '25-12-2017' '26-12-2017' '27-12-2017' '28-12-2017' '29-12-2017'\n",
            "  '30-12-2017' '31-12-2017' '01-01-2018' '02-01-2018' '03-01-2018'\n",
            "  '04-01-2018' '05-01-2018' '06-01-2018' '07-01-2018' '08-01-2018'\n",
            "  '09-01-2018']\n",
            " ['5464' '6041' '25' '5461' '6915' '4545' '4340' '1230' '61' '1258'\n",
            "  '3148' '4687' '4732' '3519' '1580' '2822' '181' '3158' '4383' '3881'\n",
            "  '4037' '202' '292' '330' '2209' '4550' '4435' '4779' '1831' '2255'\n",
            "  '539' '5464' '6041' '4068' '4683' '4033' '6314' '614' '3149' '4005'\n",
            "  '4880' '4136' '705' '570' '269' '4275' '5999' '4421' '6930' '5195'\n",
            "  '546' '493' '995' '1163' '6676' '3608' '774' '1421' '4064' '2725'\n",
            "  '5934' '1867' '3721' '2374' '2909' '1648' '799' '7102' '3941' '7422'\n",
            "  '437' '1231' '1696' '4921' '221' '6500' '3575' '4061' '651' '753' '518'\n",
            "  '5537' '4108' '5376' '3066' '177' '36' '299' '1447' '2599' '702' '133'\n",
            "  '153' '500' '2127' '2203']\n",
            " ['Neutral' 'Sad' 'Sad' 'Sad' 'Neutral' 'Sad' 'Sad' 'Sad' 'Sad' 'Sad'\n",
            "  'Sad' 'Sad' 'Happy' 'Sad' 'Sad' 'Sad' 'Sad' 'Neutral' 'Neutral'\n",
            "  'Neutral' 'Neutral' 'Neutral' 'Neutral' 'Happy' 'Neutral' 'Happy'\n",
            "  'Happy' 'Happy' 'Happy' 'Happy' 'Happy' 'Happy' 'Neutral' 'Happy'\n",
            "  'Happy' 'Happy' 'Happy' 'Happy' 'Happy' 'Happy' 'Happy' 'Happy' 'Happy'\n",
            "  'Neutral' 'Happy' 'Happy' 'Happy' 'Happy' 'Happy' 'Happy' 'Happy'\n",
            "  'Happy' 'Happy' 'Neutral' 'Sad' 'Happy' 'Happy' 'Happy' 'Happy' 'Happy'\n",
            "  'Happy' 'Happy' 'Sad' 'Neutral' 'Neutral' 'Sad' 'Sad' 'Neutral'\n",
            "  'Neutral' 'Happy' 'Neutral' 'Neutral' 'Sad' 'Neutral' 'Sad' 'Neutral'\n",
            "  'Neutral' 'Sad' 'Sad' 'Sad' 'Sad' 'Happy' 'Neutral' 'Happy' 'Neutral'\n",
            "  'Sad' 'Sad' 'Sad' 'Neutral' 'Neutral' 'Sad' 'Sad' 'Happy' 'Neutral'\n",
            "  'Neutral' 'Happy']\n",
            " ['181' '197' '0' '174' '223' '149' '140' '38' '1' '40' '101' '152' '150'\n",
            "  '113' '49' '86' '6' '99' '143' '125' '129' '6' '9' '10' '72' '150'\n",
            "  '141' '156' '57' '72' '17' '181' '197' '131' '154' '137' '193' '19'\n",
            "  '101' '139' '164' '137' '22' '17' '9' '145' '192' '146' '234' '167'\n",
            "  '16' '17' '32' '35' '220' '116' '23' '44' '131' '86' '194' '60' '121'\n",
            "  '76' '93' '53' '25' '227' '125' '243' '14' '39' '55' '158' '7' '213'\n",
            "  '116' '129' '21' '28' '16' '180' '138' '176' '99' '5' '1' '10' '47'\n",
            "  '84' '23' '4' '0' '0' '0' '0']\n",
            " ['5' '8' '5' '4' '5' '6' '6' '7' '5' '6' '8' '5' '6' '7' '5' '6' '8' '5'\n",
            "  '4' '5' '6' '8' '5' '6' '5' '8' '5' '4' '5' '4' '5' '4' '3' '2' '9' '5'\n",
            "  '6' '4' '5' '8' '4' '5' '6' '5' '6' '5' '6' '5' '6' '5' '6' '7' '6' '7'\n",
            "  '6' '5' '6' '7' '8' '8' '7' '8' '5' '4' '3' '3' '4' '5' '5' '5' '3' '4'\n",
            "  '4' '5' '5' '5' '5' '5' '5' '4' '3' '4' '5' '5' '4' '5' '3' '3' '3' '2'\n",
            "  '3' '2' '8' '5' '5' '5']\n",
            " ['Inactive' 'Inactive' 'Inactive' 'Inactive' 'Active' 'Inactive'\n",
            "  'Inactive' 'Inactive' 'Inactive' 'Inactive' 'Inactive' 'Inactive'\n",
            "  'Active' 'Inactive' 'Inactive' 'Inactive' 'Inactive' 'Inactive'\n",
            "  'Inactive' 'Inactive' 'Inactive' 'Inactive' 'Inactive' 'Inactive'\n",
            "  'Inactive' 'Active' 'Inactive' 'Inactive' 'Inactive' 'Inactive'\n",
            "  'Active' 'Inactive' 'Inactive' 'Inactive' 'Inactive' 'Inactive'\n",
            "  'Active' 'Active' 'Active' 'Active' 'Active' 'Active' 'Active' 'Active'\n",
            "  'Active' 'Inactive' 'Inactive' 'Inactive' 'Inactive' 'Inactive'\n",
            "  'Inactive' 'Active' 'Active' 'Active' 'Active' 'Active' 'Active'\n",
            "  'Active' 'Active' 'Active' 'Active' 'Active' 'Active' 'Inactive'\n",
            "  'Active' 'Active' 'Inactive' 'Active' 'Active' 'Active' 'Active'\n",
            "  'Active' 'Inactive' 'Active' 'Active' 'Active' 'Active' 'Inactive'\n",
            "  'Inactive' 'Inactive' 'Inactive' 'Active' 'Active' 'Active' 'Active'\n",
            "  'Inactive' 'Inactive' 'Inactive' 'Inactive' 'Inactive' 'Inactive'\n",
            "  'Inactive' 'Inactive' 'Active' 'Inactive' 'Active']]\n"
          ]
        }
      ]
    },
    {
      "cell_type": "code",
      "source": [
        "data_t.shape"
      ],
      "metadata": {
        "colab": {
          "base_uri": "https://localhost:8080/"
        },
        "id": "QI2JX_8ZzrFH",
        "outputId": "53c8d94a-471e-4cc0-99b4-f88daf23d818"
      },
      "execution_count": null,
      "outputs": [
        {
          "output_type": "execute_result",
          "data": {
            "text/plain": [
              "(6, 96)"
            ]
          },
          "metadata": {},
          "execution_count": 7
        }
      ]
    },
    {
      "cell_type": "code",
      "source": [
        "step_count = data_t[1]"
      ],
      "metadata": {
        "id": "20KJXNERzuzP"
      },
      "execution_count": null,
      "outputs": []
    },
    {
      "cell_type": "code",
      "source": [
        "print(step_count)"
      ],
      "metadata": {
        "colab": {
          "base_uri": "https://localhost:8080/"
        },
        "id": "nOzefVmjz5gp",
        "outputId": "bdf0f2a0-b58e-4051-cdab-2ab27dfe5b74"
      },
      "execution_count": null,
      "outputs": [
        {
          "output_type": "stream",
          "name": "stdout",
          "text": [
            "['5464' '6041' '25' '5461' '6915' '4545' '4340' '1230' '61' '1258' '3148'\n",
            " '4687' '4732' '3519' '1580' '2822' '181' '3158' '4383' '3881' '4037'\n",
            " '202' '292' '330' '2209' '4550' '4435' '4779' '1831' '2255' '539' '5464'\n",
            " '6041' '4068' '4683' '4033' '6314' '614' '3149' '4005' '4880' '4136'\n",
            " '705' '570' '269' '4275' '5999' '4421' '6930' '5195' '546' '493' '995'\n",
            " '1163' '6676' '3608' '774' '1421' '4064' '2725' '5934' '1867' '3721'\n",
            " '2374' '2909' '1648' '799' '7102' '3941' '7422' '437' '1231' '1696'\n",
            " '4921' '221' '6500' '3575' '4061' '651' '753' '518' '5537' '4108' '5376'\n",
            " '3066' '177' '36' '299' '1447' '2599' '702' '133' '153' '500' '2127'\n",
            " '2203']\n"
          ]
        }
      ]
    },
    {
      "cell_type": "markdown",
      "source": [
        "> **`Approach (2)`** - to get the Step-count details"
      ],
      "metadata": {
        "id": "Jw8ezMSkawNw"
      }
    },
    {
      "cell_type": "code",
      "source": [
        "step_count = np.array(step_count, dtype = 'int')"
      ],
      "metadata": {
        "id": "PzZK5vDaz7t4"
      },
      "execution_count": null,
      "outputs": []
    },
    {
      "cell_type": "code",
      "source": [
        "print(step_count)"
      ],
      "metadata": {
        "colab": {
          "base_uri": "https://localhost:8080/"
        },
        "id": "DZgNRX9y0Hal",
        "outputId": "5148854d-ffd8-4bc6-b4b1-752c9742afbf"
      },
      "execution_count": null,
      "outputs": [
        {
          "output_type": "stream",
          "name": "stdout",
          "text": [
            "[5464 6041   25 5461 6915 4545 4340 1230   61 1258 3148 4687 4732 3519\n",
            " 1580 2822  181 3158 4383 3881 4037  202  292  330 2209 4550 4435 4779\n",
            " 1831 2255  539 5464 6041 4068 4683 4033 6314  614 3149 4005 4880 4136\n",
            "  705  570  269 4275 5999 4421 6930 5195  546  493  995 1163 6676 3608\n",
            "  774 1421 4064 2725 5934 1867 3721 2374 2909 1648  799 7102 3941 7422\n",
            "  437 1231 1696 4921  221 6500 3575 4061  651  753  518 5537 4108 5376\n",
            " 3066  177   36  299 1447 2599  702  133  153  500 2127 2203]\n"
          ]
        }
      ]
    },
    {
      "cell_type": "markdown",
      "source": [
        "### **Masking and Boolean Indexing - numpy.argmax()**\n",
        "\n",
        "**On which date, you have got the maximum step_count ???**"
      ],
      "metadata": {
        "id": "iI0K_1UNbEA5"
      }
    },
    {
      "cell_type": "code",
      "source": [
        "step_count.argmax()    #row index of maximum stepcount"
      ],
      "metadata": {
        "id": "_5Zx-A-y0WFJ"
      },
      "execution_count": null,
      "outputs": []
    },
    {
      "cell_type": "code",
      "source": [
        "#above code gives the index, but will I get the maximum value???\n",
        "i = step_count.argmax()"
      ],
      "metadata": {
        "id": "9PRsnhCjbc4_"
      },
      "execution_count": null,
      "outputs": []
    },
    {
      "cell_type": "code",
      "source": [
        "step_count[i]"
      ],
      "metadata": {
        "colab": {
          "base_uri": "https://localhost:8080/"
        },
        "id": "qaBsylU_0pFp",
        "outputId": "797f551d-3cad-4e55-9aee-73eac24fbb14"
      },
      "execution_count": null,
      "outputs": [
        {
          "output_type": "execute_result",
          "data": {
            "text/plain": [
              "7422"
            ]
          },
          "metadata": {},
          "execution_count": 15
        }
      ]
    },
    {
      "cell_type": "code",
      "source": [
        "date = data_t[0]"
      ],
      "metadata": {
        "id": "jujRWBpK05EW"
      },
      "execution_count": null,
      "outputs": []
    },
    {
      "cell_type": "code",
      "source": [
        "print(date)"
      ],
      "metadata": {
        "colab": {
          "base_uri": "https://localhost:8080/"
        },
        "id": "lw4kf2Y11aJP",
        "outputId": "5c2b6a11-86b9-4dc9-97ae-a9b916bd4fe8"
      },
      "execution_count": null,
      "outputs": [
        {
          "output_type": "stream",
          "name": "stdout",
          "text": [
            "['06-10-2017' '07-10-2017' '08-10-2017' '09-10-2017' '10-10-2017'\n",
            " '11-10-2017' '12-10-2017' '13-10-2017' '14-10-2017' '15-10-2017'\n",
            " '16-10-2017' '17-10-2017' '18-10-2017' '19-10-2017' '20-10-2017'\n",
            " '21-10-2017' '22-10-2017' '23-10-2017' '24-10-2017' '25-10-2017'\n",
            " '26-10-2017' '27-10-2017' '28-10-2017' '29-10-2017' '30-10-2017'\n",
            " '31-10-2017' '01-11-2017' '02-11-2017' '03-11-2017' '04-11-2017'\n",
            " '05-11-2017' '06-11-2017' '07-11-2017' '08-11-2017' '09-11-2017'\n",
            " '10-11-2017' '11-11-2017' '12-11-2017' '13-11-2017' '14-11-2017'\n",
            " '15-11-2017' '16-11-2017' '17-11-2017' '18-11-2017' '19-11-2017'\n",
            " '20-11-2017' '21-11-2017' '22-11-2017' '23-11-2017' '24-11-2017'\n",
            " '25-11-2017' '26-11-2017' '27-11-2017' '28-11-2017' '29-11-2017'\n",
            " '30-11-2017' '01-12-2017' '02-12-2017' '03-12-2017' '04-12-2017'\n",
            " '05-12-2017' '06-12-2017' '07-12-2017' '08-12-2017' '09-12-2017'\n",
            " '10-12-2017' '11-12-2017' '12-12-2017' '13-12-2017' '14-12-2017'\n",
            " '15-12-2017' '16-12-2017' '17-12-2017' '18-12-2017' '19-12-2017'\n",
            " '20-12-2017' '21-12-2017' '22-12-2017' '23-12-2017' '24-12-2017'\n",
            " '25-12-2017' '26-12-2017' '27-12-2017' '28-12-2017' '29-12-2017'\n",
            " '30-12-2017' '31-12-2017' '01-01-2018' '02-01-2018' '03-01-2018'\n",
            " '04-01-2018' '05-01-2018' '06-01-2018' '07-01-2018' '08-01-2018'\n",
            " '09-01-2018']\n"
          ]
        }
      ]
    },
    {
      "cell_type": "code",
      "source": [
        "#On which date, you have got the maximum step_count\n",
        "date[step_count.argmax()]     #code in single line as per industry standard"
      ],
      "metadata": {
        "colab": {
          "base_uri": "https://localhost:8080/",
          "height": 35
        },
        "id": "gPt9EJo81bUa",
        "outputId": "1ec1745e-10a2-41bd-cb98-184af67e9ed9"
      },
      "execution_count": null,
      "outputs": [
        {
          "output_type": "execute_result",
          "data": {
            "text/plain": [
              "'14-12-2017'"
            ],
            "application/vnd.google.colaboratory.intrinsic+json": {
              "type": "string"
            }
          },
          "metadata": {},
          "execution_count": 18
        }
      ]
    },
    {
      "cell_type": "markdown",
      "source": [
        "**What was the calories burnt on the date when you got the maximum step_count ???**"
      ],
      "metadata": {
        "id": "PgBQKRq7eFrn"
      }
    },
    {
      "cell_type": "code",
      "source": [
        "calories = data_t[3]"
      ],
      "metadata": {
        "id": "io6r2sl31k9V"
      },
      "execution_count": null,
      "outputs": []
    },
    {
      "cell_type": "code",
      "source": [
        "print(calories)"
      ],
      "metadata": {
        "colab": {
          "base_uri": "https://localhost:8080/"
        },
        "id": "3uwHPk5g2OxG",
        "outputId": "9160d51d-b9e2-41c9-832c-b05241bb0cf3"
      },
      "execution_count": null,
      "outputs": [
        {
          "output_type": "stream",
          "name": "stdout",
          "text": [
            "['181' '197' '0' '174' '223' '149' '140' '38' '1' '40' '101' '152' '150'\n",
            " '113' '49' '86' '6' '99' '143' '125' '129' '6' '9' '10' '72' '150' '141'\n",
            " '156' '57' '72' '17' '181' '197' '131' '154' '137' '193' '19' '101' '139'\n",
            " '164' '137' '22' '17' '9' '145' '192' '146' '234' '167' '16' '17' '32'\n",
            " '35' '220' '116' '23' '44' '131' '86' '194' '60' '121' '76' '93' '53'\n",
            " '25' '227' '125' '243' '14' '39' '55' '158' '7' '213' '116' '129' '21'\n",
            " '28' '16' '180' '138' '176' '99' '5' '1' '10' '47' '84' '23' '4' '0' '0'\n",
            " '0' '0']\n"
          ]
        }
      ]
    },
    {
      "cell_type": "code",
      "source": [
        "calories_burnt = calories[step_count.argmax()]   #code in single line as per industry standard"
      ],
      "metadata": {
        "id": "InBC6pZq2QVW"
      },
      "execution_count": null,
      "outputs": []
    },
    {
      "cell_type": "code",
      "source": [
        "print(calories_burnt)"
      ],
      "metadata": {
        "colab": {
          "base_uri": "https://localhost:8080/"
        },
        "id": "HxecUgZk2VnJ",
        "outputId": "a188ecd5-3a71-4928-b027-8c0b61a9bbb2"
      },
      "execution_count": null,
      "outputs": [
        {
          "output_type": "stream",
          "name": "stdout",
          "text": [
            "243\n"
          ]
        }
      ]
    },
    {
      "cell_type": "markdown",
      "source": [
        "### **Unpacking in List** (i.e. similar we had during **\"Python Tuple\"** as well)\n",
        "\n",
        "In the context of **lists**, **unpacking** refers to the process of extracting individual elements from a **list** and assigning them to separate variables.\n",
        "\n",
        "**`NOTE:`** the term **\"unpacking\"** in the context of **lists** refers to a different concept and is not related to **NumPy** directly."
      ],
      "metadata": {
        "id": "pf3tqKrxevEO"
      }
    },
    {
      "cell_type": "code",
      "source": [
        "# Example of unpacking in a list\n",
        "a = [[1,2] , [3,4] , [5,6]]"
      ],
      "metadata": {
        "id": "R7jfq_jd2siR"
      },
      "execution_count": 1,
      "outputs": []
    },
    {
      "cell_type": "code",
      "source": [
        "# Unpacking the list elements into separate variables\n",
        "x, y, z = a"
      ],
      "metadata": {
        "id": "jrpf4mWr213i"
      },
      "execution_count": 2,
      "outputs": []
    },
    {
      "cell_type": "code",
      "source": [
        "# Now x is [1,2], y is [3,4], and z is [5,6]\n",
        "print(x, y, z)"
      ],
      "metadata": {
        "colab": {
          "base_uri": "https://localhost:8080/"
        },
        "id": "KylH_gYFhQME",
        "outputId": "07300d78-c7b3-4cfc-a23f-2d3d85e11b77"
      },
      "execution_count": 3,
      "outputs": [
        {
          "output_type": "stream",
          "name": "stdout",
          "text": [
            "[1, 2] [3, 4] [5, 6]\n"
          ]
        }
      ]
    },
    {
      "cell_type": "code",
      "source": [
        "# Unpacked list elements stored into a separate variables o/p\n",
        "print(x)"
      ],
      "metadata": {
        "colab": {
          "base_uri": "https://localhost:8080/"
        },
        "id": "5xWKe2tn23KC",
        "outputId": "a2b79ff5-d5df-486f-82ca-f5187d045c60"
      },
      "execution_count": null,
      "outputs": [
        {
          "output_type": "stream",
          "name": "stdout",
          "text": [
            "[1, 2]\n"
          ]
        }
      ]
    },
    {
      "cell_type": "code",
      "source": [
        "print(y)"
      ],
      "metadata": {
        "colab": {
          "base_uri": "https://localhost:8080/"
        },
        "id": "_8D5c-J427nB",
        "outputId": "330cf6a7-5ecc-4ea6-ec88-c5a4d6d0ee42"
      },
      "execution_count": null,
      "outputs": [
        {
          "output_type": "stream",
          "name": "stdout",
          "text": [
            "[3, 4]\n"
          ]
        }
      ]
    },
    {
      "cell_type": "code",
      "source": [
        "print(z)"
      ],
      "metadata": {
        "colab": {
          "base_uri": "https://localhost:8080/"
        },
        "id": "H74dHx9t285T",
        "outputId": "5cb5817b-8384-4888-82b2-03136f8cf135"
      },
      "execution_count": null,
      "outputs": [
        {
          "output_type": "stream",
          "name": "stdout",
          "text": [
            "[5, 6]\n"
          ]
        }
      ]
    },
    {
      "cell_type": "code",
      "source": [
        "# Unpacking in a list\n",
        "print(data_t)"
      ],
      "metadata": {
        "id": "LMeucoTmiTxI"
      },
      "execution_count": null,
      "outputs": []
    },
    {
      "cell_type": "code",
      "source": [
        "# Unpacking the list elements into separate variables\n",
        "date, step_count, mood, calories_burned, hours_of_sleep, activity_status = data.T"
      ],
      "metadata": {
        "id": "ZXbJ0Vy_2-VE"
      },
      "execution_count": null,
      "outputs": []
    },
    {
      "cell_type": "code",
      "source": [
        "print(date)"
      ],
      "metadata": {
        "colab": {
          "base_uri": "https://localhost:8080/"
        },
        "id": "BfvwEpsl3SaL",
        "outputId": "ee860261-5808-4952-d5f2-36dbb66b517d"
      },
      "execution_count": null,
      "outputs": [
        {
          "output_type": "stream",
          "name": "stdout",
          "text": [
            "['06-10-2017' '07-10-2017' '08-10-2017' '09-10-2017' '10-10-2017'\n",
            " '11-10-2017' '12-10-2017' '13-10-2017' '14-10-2017' '15-10-2017'\n",
            " '16-10-2017' '17-10-2017' '18-10-2017' '19-10-2017' '20-10-2017'\n",
            " '21-10-2017' '22-10-2017' '23-10-2017' '24-10-2017' '25-10-2017'\n",
            " '26-10-2017' '27-10-2017' '28-10-2017' '29-10-2017' '30-10-2017'\n",
            " '31-10-2017' '01-11-2017' '02-11-2017' '03-11-2017' '04-11-2017'\n",
            " '05-11-2017' '06-11-2017' '07-11-2017' '08-11-2017' '09-11-2017'\n",
            " '10-11-2017' '11-11-2017' '12-11-2017' '13-11-2017' '14-11-2017'\n",
            " '15-11-2017' '16-11-2017' '17-11-2017' '18-11-2017' '19-11-2017'\n",
            " '20-11-2017' '21-11-2017' '22-11-2017' '23-11-2017' '24-11-2017'\n",
            " '25-11-2017' '26-11-2017' '27-11-2017' '28-11-2017' '29-11-2017'\n",
            " '30-11-2017' '01-12-2017' '02-12-2017' '03-12-2017' '04-12-2017'\n",
            " '05-12-2017' '06-12-2017' '07-12-2017' '08-12-2017' '09-12-2017'\n",
            " '10-12-2017' '11-12-2017' '12-12-2017' '13-12-2017' '14-12-2017'\n",
            " '15-12-2017' '16-12-2017' '17-12-2017' '18-12-2017' '19-12-2017'\n",
            " '20-12-2017' '21-12-2017' '22-12-2017' '23-12-2017' '24-12-2017'\n",
            " '25-12-2017' '26-12-2017' '27-12-2017' '28-12-2017' '29-12-2017'\n",
            " '30-12-2017' '31-12-2017' '01-01-2018' '02-01-2018' '03-01-2018'\n",
            " '04-01-2018' '05-01-2018' '06-01-2018' '07-01-2018' '08-01-2018'\n",
            " '09-01-2018']\n"
          ]
        }
      ]
    },
    {
      "cell_type": "code",
      "source": [
        "print(step_count)"
      ],
      "metadata": {
        "colab": {
          "base_uri": "https://localhost:8080/"
        },
        "id": "C6WaC_AN3UJt",
        "outputId": "fbe278f9-8aa4-4d52-9b5b-d150d55cac17"
      },
      "execution_count": null,
      "outputs": [
        {
          "output_type": "stream",
          "name": "stdout",
          "text": [
            "['5464' '6041' '25' '5461' '6915' '4545' '4340' '1230' '61' '1258' '3148'\n",
            " '4687' '4732' '3519' '1580' '2822' '181' '3158' '4383' '3881' '4037'\n",
            " '202' '292' '330' '2209' '4550' '4435' '4779' '1831' '2255' '539' '5464'\n",
            " '6041' '4068' '4683' '4033' '6314' '614' '3149' '4005' '4880' '4136'\n",
            " '705' '570' '269' '4275' '5999' '4421' '6930' '5195' '546' '493' '995'\n",
            " '1163' '6676' '3608' '774' '1421' '4064' '2725' '5934' '1867' '3721'\n",
            " '2374' '2909' '1648' '799' '7102' '3941' '7422' '437' '1231' '1696'\n",
            " '4921' '221' '6500' '3575' '4061' '651' '753' '518' '5537' '4108' '5376'\n",
            " '3066' '177' '36' '299' '1447' '2599' '702' '133' '153' '500' '2127'\n",
            " '2203']\n"
          ]
        }
      ]
    },
    {
      "cell_type": "code",
      "source": [
        "print(mood)"
      ],
      "metadata": {
        "colab": {
          "base_uri": "https://localhost:8080/"
        },
        "id": "QpMDAr5j3Vlc",
        "outputId": "43c61c40-69ab-4a30-df28-f5f99543dde7"
      },
      "execution_count": null,
      "outputs": [
        {
          "output_type": "stream",
          "name": "stdout",
          "text": [
            "['Neutral' 'Sad' 'Sad' 'Sad' 'Neutral' 'Sad' 'Sad' 'Sad' 'Sad' 'Sad' 'Sad'\n",
            " 'Sad' 'Happy' 'Sad' 'Sad' 'Sad' 'Sad' 'Neutral' 'Neutral' 'Neutral'\n",
            " 'Neutral' 'Neutral' 'Neutral' 'Happy' 'Neutral' 'Happy' 'Happy' 'Happy'\n",
            " 'Happy' 'Happy' 'Happy' 'Happy' 'Neutral' 'Happy' 'Happy' 'Happy' 'Happy'\n",
            " 'Happy' 'Happy' 'Happy' 'Happy' 'Happy' 'Happy' 'Neutral' 'Happy' 'Happy'\n",
            " 'Happy' 'Happy' 'Happy' 'Happy' 'Happy' 'Happy' 'Happy' 'Neutral' 'Sad'\n",
            " 'Happy' 'Happy' 'Happy' 'Happy' 'Happy' 'Happy' 'Happy' 'Sad' 'Neutral'\n",
            " 'Neutral' 'Sad' 'Sad' 'Neutral' 'Neutral' 'Happy' 'Neutral' 'Neutral'\n",
            " 'Sad' 'Neutral' 'Sad' 'Neutral' 'Neutral' 'Sad' 'Sad' 'Sad' 'Sad' 'Happy'\n",
            " 'Neutral' 'Happy' 'Neutral' 'Sad' 'Sad' 'Sad' 'Neutral' 'Neutral' 'Sad'\n",
            " 'Sad' 'Happy' 'Neutral' 'Neutral' 'Happy']\n"
          ]
        }
      ]
    },
    {
      "cell_type": "code",
      "source": [
        "#concepts"
      ],
      "metadata": {
        "id": "6YKNVrYO3XUd"
      },
      "execution_count": null,
      "outputs": []
    },
    {
      "cell_type": "code",
      "source": [
        "a = np.arange(1, 13).reshape(3,4)"
      ],
      "metadata": {
        "id": "M9B-3tYp3gwB"
      },
      "execution_count": null,
      "outputs": []
    },
    {
      "cell_type": "code",
      "source": [
        "a.shape"
      ],
      "metadata": {
        "colab": {
          "base_uri": "https://localhost:8080/"
        },
        "id": "B2V08yuC4LnV",
        "outputId": "9cb46c65-8a29-40ea-cbdd-9727c5e7be77"
      },
      "execution_count": null,
      "outputs": [
        {
          "output_type": "execute_result",
          "data": {
            "text/plain": [
              "(3, 4)"
            ]
          },
          "metadata": {},
          "execution_count": 36
        }
      ]
    },
    {
      "cell_type": "code",
      "source": [
        "a.ndim"
      ],
      "metadata": {
        "colab": {
          "base_uri": "https://localhost:8080/"
        },
        "id": "aNvLl-Xy4O2E",
        "outputId": "096abb8b-30c2-4ad7-f121-089a5519094f"
      },
      "execution_count": null,
      "outputs": [
        {
          "output_type": "execute_result",
          "data": {
            "text/plain": [
              "2"
            ]
          },
          "metadata": {},
          "execution_count": 37
        }
      ]
    },
    {
      "cell_type": "code",
      "source": [
        "a.reshape(-1,3)"
      ],
      "metadata": {
        "colab": {
          "base_uri": "https://localhost:8080/"
        },
        "id": "8egsARVj4Ri-",
        "outputId": "56d29ec0-ae39-443f-9a84-4a0b4d745381"
      },
      "execution_count": null,
      "outputs": [
        {
          "output_type": "execute_result",
          "data": {
            "text/plain": [
              "array([[ 1,  2,  3],\n",
              "       [ 4,  5,  6],\n",
              "       [ 7,  8,  9],\n",
              "       [10, 11, 12]])"
            ]
          },
          "metadata": {},
          "execution_count": 38
        }
      ]
    },
    {
      "cell_type": "code",
      "source": [
        "a = np.arange(5)"
      ],
      "metadata": {
        "id": "vXcxeo094X6n"
      },
      "execution_count": null,
      "outputs": []
    },
    {
      "cell_type": "code",
      "source": [
        "print(a)"
      ],
      "metadata": {
        "colab": {
          "base_uri": "https://localhost:8080/"
        },
        "id": "yF_WvuER4e3H",
        "outputId": "69836772-6cbf-4ca9-95d5-e9956c23fc56"
      },
      "execution_count": null,
      "outputs": [
        {
          "output_type": "stream",
          "name": "stdout",
          "text": [
            "[0 1 2 3 4]\n"
          ]
        }
      ]
    },
    {
      "cell_type": "markdown",
      "source": [
        "### **Creating arrays filled with zeros or ones using \"numpy.zeros()\", \"numpy.ones()\"**"
      ],
      "metadata": {
        "id": "HkMP7o7FjWpn"
      }
    },
    {
      "cell_type": "code",
      "source": [
        "b = np.ones(5)"
      ],
      "metadata": {
        "id": "DgDuxKa94f2R"
      },
      "execution_count": null,
      "outputs": []
    },
    {
      "cell_type": "code",
      "source": [
        "print(b)"
      ],
      "metadata": {
        "colab": {
          "base_uri": "https://localhost:8080/"
        },
        "id": "ABPOdKhz4nL7",
        "outputId": "5caf17e0-b7a0-4c93-ab12-2a569cfc9aa7"
      },
      "execution_count": null,
      "outputs": [
        {
          "output_type": "stream",
          "name": "stdout",
          "text": [
            "[1. 1. 1. 1. 1.]\n"
          ]
        }
      ]
    },
    {
      "cell_type": "markdown",
      "source": [
        "### **Element wise operations**\n",
        "\n",
        "**Example o/p os element wise operations**\n",
        "\n",
        "![Capture.PNG](data:image/png;base64,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)"
      ],
      "metadata": {
        "id": "v4fAqzirkX0R"
      }
    },
    {
      "cell_type": "code",
      "source": [
        "print(a*b) #element wise multiplication operations"
      ],
      "metadata": {
        "colab": {
          "base_uri": "https://localhost:8080/"
        },
        "id": "BliRBlH-4n-b",
        "outputId": "d61fcd9c-8ab2-4610-8df0-be4326454eb7"
      },
      "execution_count": null,
      "outputs": [
        {
          "output_type": "stream",
          "name": "stdout",
          "text": [
            "[0. 1. 2. 3. 4.]\n"
          ]
        }
      ]
    },
    {
      "cell_type": "code",
      "source": [
        "#HW - explore a+b, a-b"
      ],
      "metadata": {
        "id": "UJmhB0m745oK"
      },
      "execution_count": null,
      "outputs": []
    },
    {
      "cell_type": "code",
      "source": [],
      "metadata": {
        "id": "GYQmWQdAke13"
      },
      "execution_count": null,
      "outputs": []
    },
    {
      "cell_type": "code",
      "source": [],
      "metadata": {
        "id": "pgCSLbeFkem4"
      },
      "execution_count": null,
      "outputs": []
    },
    {
      "cell_type": "markdown",
      "source": [
        "**What will happen if the number of elements of the 2 data don't match ???**"
      ],
      "metadata": {
        "id": "0rweqgjokofQ"
      }
    },
    {
      "cell_type": "code",
      "source": [
        "a = np.arange(5)"
      ],
      "metadata": {
        "id": "RP0AJlU45Igy"
      },
      "execution_count": null,
      "outputs": []
    },
    {
      "cell_type": "code",
      "source": [
        "b = np.ones(6)"
      ],
      "metadata": {
        "id": "ZhGZSaO45Py7"
      },
      "execution_count": null,
      "outputs": []
    },
    {
      "cell_type": "code",
      "source": [
        "len(a)"
      ],
      "metadata": {
        "colab": {
          "base_uri": "https://localhost:8080/"
        },
        "id": "NTYnPA105RGh",
        "outputId": "4670fc20-1bab-4d21-daa3-3285cce6106d"
      },
      "execution_count": null,
      "outputs": [
        {
          "output_type": "execute_result",
          "data": {
            "text/plain": [
              "5"
            ]
          },
          "metadata": {},
          "execution_count": 47
        }
      ]
    },
    {
      "cell_type": "code",
      "source": [
        "len(b)"
      ],
      "metadata": {
        "colab": {
          "base_uri": "https://localhost:8080/"
        },
        "id": "L3GFB0H25SZO",
        "outputId": "b6efd91d-a589-4230-a851-5372643dfea3"
      },
      "execution_count": null,
      "outputs": [
        {
          "output_type": "execute_result",
          "data": {
            "text/plain": [
              "6"
            ]
          },
          "metadata": {},
          "execution_count": 48
        }
      ]
    },
    {
      "cell_type": "code",
      "source": [
        "print(a*b)  #this will give error message (NOTE: we will we learning \"broadcast\" concept here)"
      ],
      "metadata": {
        "colab": {
          "base_uri": "https://localhost:8080/",
          "height": 169
        },
        "id": "CMkX8byQ5TNy",
        "outputId": "bb449cb8-47bc-4456-df41-47be9109a6cc"
      },
      "execution_count": null,
      "outputs": [
        {
          "output_type": "error",
          "ename": "ValueError",
          "evalue": "ignored",
          "traceback": [
            "\u001b[0;31m---------------------------------------------------------------------------\u001b[0m",
            "\u001b[0;31mValueError\u001b[0m                                Traceback (most recent call last)",
            "\u001b[0;32m<ipython-input-49-f9c8a447c001>\u001b[0m in \u001b[0;36m<cell line: 1>\u001b[0;34m()\u001b[0m\n\u001b[0;32m----> 1\u001b[0;31m \u001b[0mprint\u001b[0m\u001b[0;34m(\u001b[0m\u001b[0ma\u001b[0m\u001b[0;34m*\u001b[0m\u001b[0mb\u001b[0m\u001b[0;34m)\u001b[0m\u001b[0;34m\u001b[0m\u001b[0;34m\u001b[0m\u001b[0m\n\u001b[0m",
            "\u001b[0;31mValueError\u001b[0m: operands could not be broadcast together with shapes (5,) (6,) "
          ]
        }
      ]
    },
    {
      "cell_type": "code",
      "source": [
        "#Terminologies\n",
        "\n",
        "#1D - Vector\n",
        "#2D - Matrix\n",
        "#3D - Tensor"
      ],
      "metadata": {
        "id": "CApGYDuy5UeX"
      },
      "execution_count": null,
      "outputs": []
    },
    {
      "cell_type": "code",
      "source": [
        "a = np.arange(1,13).reshape(3,4)\n",
        "print(a)"
      ],
      "metadata": {
        "colab": {
          "base_uri": "https://localhost:8080/"
        },
        "id": "RR_YrDZh6Aox",
        "outputId": "5253e527-2315-4113-be44-d11454d4bec8"
      },
      "execution_count": null,
      "outputs": [
        {
          "output_type": "stream",
          "name": "stdout",
          "text": [
            "[[ 1  2  3  4]\n",
            " [ 5  6  7  8]\n",
            " [ 9 10 11 12]]\n"
          ]
        }
      ]
    },
    {
      "cell_type": "code",
      "source": [
        "b = np.arange(2,14).reshape(3,4)\n",
        "print(b)"
      ],
      "metadata": {
        "colab": {
          "base_uri": "https://localhost:8080/"
        },
        "id": "kOEBVp9w6LjM",
        "outputId": "1f0e7a69-bf93-415d-9bd8-ae07964c5202"
      },
      "execution_count": null,
      "outputs": [
        {
          "output_type": "stream",
          "name": "stdout",
          "text": [
            "[[ 2  3  4  5]\n",
            " [ 6  7  8  9]\n",
            " [10 11 12 13]]\n"
          ]
        }
      ]
    },
    {
      "cell_type": "code",
      "source": [
        "print(a+b)"
      ],
      "metadata": {
        "colab": {
          "base_uri": "https://localhost:8080/"
        },
        "id": "sdGczApg6TdW",
        "outputId": "01242c4e-f36f-475f-a0e6-9ad1967d10c1"
      },
      "execution_count": null,
      "outputs": [
        {
          "output_type": "stream",
          "name": "stdout",
          "text": [
            "[[ 3  5  7  9]\n",
            " [11 13 15 17]\n",
            " [19 21 23 25]]\n"
          ]
        }
      ]
    },
    {
      "cell_type": "code",
      "source": [
        "print(a*b) #element wise mulitplication"
      ],
      "metadata": {
        "colab": {
          "base_uri": "https://localhost:8080/"
        },
        "id": "RU11N4EI6fEk",
        "outputId": "2226377f-d957-476f-d8ff-861e7e6d2aaf"
      },
      "execution_count": null,
      "outputs": [
        {
          "output_type": "stream",
          "name": "stdout",
          "text": [
            "[[  2   6  12  20]\n",
            " [ 30  42  56  72]\n",
            " [ 90 110 132 156]]\n"
          ]
        }
      ]
    },
    {
      "cell_type": "code",
      "source": [
        "print(a)"
      ],
      "metadata": {
        "colab": {
          "base_uri": "https://localhost:8080/"
        },
        "id": "n6LRf13B8hUu",
        "outputId": "a67ffb47-a0bc-4306-ddff-6d63f2e0571a"
      },
      "execution_count": null,
      "outputs": [
        {
          "output_type": "stream",
          "name": "stdout",
          "text": [
            "[[ 1  2  3  4]\n",
            " [ 5  6  7  8]\n",
            " [ 9 10 11 12]]\n"
          ]
        }
      ]
    },
    {
      "cell_type": "code",
      "source": [
        "b = b.reshape(4,3)\n",
        "print(b)"
      ],
      "metadata": {
        "colab": {
          "base_uri": "https://localhost:8080/"
        },
        "id": "gsDOYydf6kUw",
        "outputId": "20532487-5918-4c25-f34b-f6cacba11c9c"
      },
      "execution_count": null,
      "outputs": [
        {
          "output_type": "stream",
          "name": "stdout",
          "text": [
            "[[ 2  3  4]\n",
            " [ 5  6  7]\n",
            " [ 8  9 10]\n",
            " [11 12 13]]\n"
          ]
        }
      ]
    },
    {
      "cell_type": "code",
      "source": [
        "#Matrix multiplication"
      ],
      "metadata": {
        "id": "HRWuKRG78RXb"
      },
      "execution_count": null,
      "outputs": []
    },
    {
      "cell_type": "code",
      "source": [
        "np.dot(a,b)"
      ],
      "metadata": {
        "colab": {
          "base_uri": "https://localhost:8080/"
        },
        "id": "8TtVv4kY8YuJ",
        "outputId": "a1009963-1778-4fa2-d594-1e1706044ed7"
      },
      "execution_count": null,
      "outputs": [
        {
          "output_type": "execute_result",
          "data": {
            "text/plain": [
              "array([[ 80,  90, 100],\n",
              "       [184, 210, 236],\n",
              "       [288, 330, 372]])"
            ]
          },
          "metadata": {},
          "execution_count": 59
        }
      ]
    },
    {
      "cell_type": "code",
      "source": [
        "a@b"
      ],
      "metadata": {
        "colab": {
          "base_uri": "https://localhost:8080/"
        },
        "id": "Wwa_LT0K8ei0",
        "outputId": "d184598c-c952-4d40-80cf-e7c2d4ef61e1"
      },
      "execution_count": null,
      "outputs": [
        {
          "output_type": "execute_result",
          "data": {
            "text/plain": [
              "array([[ 80,  90, 100],\n",
              "       [184, 210, 236],\n",
              "       [288, 330, 372]])"
            ]
          },
          "metadata": {},
          "execution_count": 61
        }
      ]
    },
    {
      "cell_type": "code",
      "source": [
        "np.matmul(a,b)"
      ],
      "metadata": {
        "colab": {
          "base_uri": "https://localhost:8080/"
        },
        "id": "QRSzlKxl8y0i",
        "outputId": "cf493289-a681-4b3c-974b-9d194d044ab8"
      },
      "execution_count": null,
      "outputs": [
        {
          "output_type": "execute_result",
          "data": {
            "text/plain": [
              "array([[ 80,  90, 100],\n",
              "       [184, 210, 236],\n",
              "       [288, 330, 372]])"
            ]
          },
          "metadata": {},
          "execution_count": 62
        }
      ]
    },
    {
      "cell_type": "code",
      "source": [
        "a = np.arange(1,10)\n",
        "print(a)"
      ],
      "metadata": {
        "colab": {
          "base_uri": "https://localhost:8080/"
        },
        "id": "x6zzkA_e84qe",
        "outputId": "8b35dc6d-78b4-41ff-dc78-0606de2f0d03"
      },
      "execution_count": null,
      "outputs": [
        {
          "output_type": "stream",
          "name": "stdout",
          "text": [
            "[1 2 3 4 5 6 7 8 9]\n"
          ]
        }
      ]
    },
    {
      "cell_type": "code",
      "source": [
        "np.dot(a, 3)"
      ],
      "metadata": {
        "colab": {
          "base_uri": "https://localhost:8080/"
        },
        "id": "sMVh9CGE_i-s",
        "outputId": "370e6c72-c5ac-425f-b652-28c14a0d6e76"
      },
      "execution_count": null,
      "outputs": [
        {
          "output_type": "execute_result",
          "data": {
            "text/plain": [
              "array([ 3,  6,  9, 12, 15, 18, 21, 24, 27])"
            ]
          },
          "metadata": {},
          "execution_count": 64
        }
      ]
    },
    {
      "cell_type": "code",
      "source": [
        "np.matmul(a,3)"
      ],
      "metadata": {
        "colab": {
          "base_uri": "https://localhost:8080/",
          "height": 169
        },
        "id": "OyAcalNE_17q",
        "outputId": "29369fc2-c45b-4fe9-e93b-77d992605af1"
      },
      "execution_count": null,
      "outputs": [
        {
          "output_type": "error",
          "ename": "ValueError",
          "evalue": "ignored",
          "traceback": [
            "\u001b[0;31m---------------------------------------------------------------------------\u001b[0m",
            "\u001b[0;31mValueError\u001b[0m                                Traceback (most recent call last)",
            "\u001b[0;32m<ipython-input-65-89c0586a108b>\u001b[0m in \u001b[0;36m<cell line: 1>\u001b[0;34m()\u001b[0m\n\u001b[0;32m----> 1\u001b[0;31m \u001b[0mnp\u001b[0m\u001b[0;34m.\u001b[0m\u001b[0mmatmul\u001b[0m\u001b[0;34m(\u001b[0m\u001b[0ma\u001b[0m\u001b[0;34m,\u001b[0m\u001b[0;36m3\u001b[0m\u001b[0;34m)\u001b[0m\u001b[0;34m\u001b[0m\u001b[0;34m\u001b[0m\u001b[0m\n\u001b[0m",
            "\u001b[0;31mValueError\u001b[0m: matmul: Input operand 1 does not have enough dimensions (has 0, gufunc core with signature (n?,k),(k,m?)->(n?,m?) requires 1)"
          ]
        }
      ]
    },
    {
      "cell_type": "code",
      "source": [
        "b = np.arange(2,11)\n",
        "print(b)"
      ],
      "metadata": {
        "colab": {
          "base_uri": "https://localhost:8080/"
        },
        "id": "8F3RRTwF_-VC",
        "outputId": "ff457a5b-b3fd-4858-9e09-7f9a3087e6a8"
      },
      "execution_count": null,
      "outputs": [
        {
          "output_type": "stream",
          "name": "stdout",
          "text": [
            "[ 2  3  4  5  6  7  8  9 10]\n"
          ]
        }
      ]
    },
    {
      "cell_type": "code",
      "source": [
        "print(a)"
      ],
      "metadata": {
        "colab": {
          "base_uri": "https://localhost:8080/"
        },
        "id": "TtYdThroAVFn",
        "outputId": "8f268100-ecc4-45a4-b4e2-0d0516809209"
      },
      "execution_count": null,
      "outputs": [
        {
          "output_type": "stream",
          "name": "stdout",
          "text": [
            "[1 2 3 4 5 6 7 8 9]\n"
          ]
        }
      ]
    },
    {
      "cell_type": "code",
      "source": [
        "b.shape"
      ],
      "metadata": {
        "colab": {
          "base_uri": "https://localhost:8080/"
        },
        "id": "pwFnszcvAWMq",
        "outputId": "c8561c59-0f8a-4e6a-a329-b704c6c1b9c5"
      },
      "execution_count": null,
      "outputs": [
        {
          "output_type": "execute_result",
          "data": {
            "text/plain": [
              "(9,)"
            ]
          },
          "metadata": {},
          "execution_count": 68
        }
      ]
    },
    {
      "cell_type": "code",
      "source": [
        "a.shape"
      ],
      "metadata": {
        "colab": {
          "base_uri": "https://localhost:8080/"
        },
        "id": "dBUTm1WqAYcW",
        "outputId": "d390e87e-f57f-448e-d72f-b0c9e5de8317"
      },
      "execution_count": null,
      "outputs": [
        {
          "output_type": "execute_result",
          "data": {
            "text/plain": [
              "(9,)"
            ]
          },
          "metadata": {},
          "execution_count": 69
        }
      ]
    },
    {
      "cell_type": "code",
      "source": [
        "np.dot(a,b)"
      ],
      "metadata": {
        "colab": {
          "base_uri": "https://localhost:8080/"
        },
        "id": "N7eTTvgAAZgd",
        "outputId": "14f54928-db55-49f9-a40e-b60ed3c41802"
      },
      "execution_count": null,
      "outputs": [
        {
          "output_type": "execute_result",
          "data": {
            "text/plain": [
              "330"
            ]
          },
          "metadata": {},
          "execution_count": 70
        }
      ]
    },
    {
      "cell_type": "code",
      "source": [
        "np.matmul(a,b)"
      ],
      "metadata": {
        "colab": {
          "base_uri": "https://localhost:8080/"
        },
        "id": "TAvPaHqpAfBZ",
        "outputId": "1ce53a88-f10f-4f21-eeb4-03f6b6e38dfa"
      },
      "execution_count": null,
      "outputs": [
        {
          "output_type": "execute_result",
          "data": {
            "text/plain": [
              "330"
            ]
          },
          "metadata": {},
          "execution_count": 71
        }
      ]
    },
    {
      "cell_type": "code",
      "source": [
        "print(a*b)"
      ],
      "metadata": {
        "colab": {
          "base_uri": "https://localhost:8080/"
        },
        "id": "e291NsnzAp_B",
        "outputId": "2227545a-4091-42b4-8dc0-a8e47c8d633e"
      },
      "execution_count": null,
      "outputs": [
        {
          "output_type": "stream",
          "name": "stdout",
          "text": [
            "[ 2  6 12 20 30 42 56 72 90]\n"
          ]
        }
      ]
    },
    {
      "cell_type": "code",
      "source": [
        "a = np.arange(1,10)\n",
        "print(a)"
      ],
      "metadata": {
        "colab": {
          "base_uri": "https://localhost:8080/"
        },
        "id": "wSqrbtWcB0oZ",
        "outputId": "c9dac6df-138f-4545-f62f-557a5fbe0549"
      },
      "execution_count": null,
      "outputs": [
        {
          "output_type": "stream",
          "name": "stdout",
          "text": [
            "[1 2 3 4 5 6 7 8 9]\n"
          ]
        }
      ]
    },
    {
      "cell_type": "code",
      "source": [
        "d = np.arange(1,10).reshape(1,-1)\n",
        "print(d)"
      ],
      "metadata": {
        "colab": {
          "base_uri": "https://localhost:8080/"
        },
        "id": "J-oAJWPNBGnD",
        "outputId": "881f3695-5d4a-45bb-b4c1-93966172b269"
      },
      "execution_count": null,
      "outputs": [
        {
          "output_type": "stream",
          "name": "stdout",
          "text": [
            "[[1 2 3 4 5 6 7 8 9]]\n"
          ]
        }
      ]
    },
    {
      "cell_type": "code",
      "source": [
        "np.dot(a,d)"
      ],
      "metadata": {
        "colab": {
          "base_uri": "https://localhost:8080/",
          "height": 204
        },
        "id": "ZqPgU7tmB4x7",
        "outputId": "951b931c-476c-417f-d8f7-4d04c3a12d32"
      },
      "execution_count": null,
      "outputs": [
        {
          "output_type": "error",
          "ename": "ValueError",
          "evalue": "ignored",
          "traceback": [
            "\u001b[0;31m---------------------------------------------------------------------------\u001b[0m",
            "\u001b[0;31mValueError\u001b[0m                                Traceback (most recent call last)",
            "\u001b[0;32m<ipython-input-75-e32520860940>\u001b[0m in \u001b[0;36m<cell line: 1>\u001b[0;34m()\u001b[0m\n\u001b[0;32m----> 1\u001b[0;31m \u001b[0mnp\u001b[0m\u001b[0;34m.\u001b[0m\u001b[0mdot\u001b[0m\u001b[0;34m(\u001b[0m\u001b[0ma\u001b[0m\u001b[0;34m,\u001b[0m\u001b[0md\u001b[0m\u001b[0;34m)\u001b[0m\u001b[0;34m\u001b[0m\u001b[0;34m\u001b[0m\u001b[0m\n\u001b[0m",
            "\u001b[0;32m/usr/local/lib/python3.10/dist-packages/numpy/core/overrides.py\u001b[0m in \u001b[0;36mdot\u001b[0;34m(*args, **kwargs)\u001b[0m\n",
            "\u001b[0;31mValueError\u001b[0m: shapes (9,) and (1,9) not aligned: 9 (dim 0) != 1 (dim 0)"
          ]
        }
      ]
    },
    {
      "cell_type": "code",
      "source": [
        "np.dot(d,a)"
      ],
      "metadata": {
        "colab": {
          "base_uri": "https://localhost:8080/"
        },
        "id": "tY4MleHuCWDd",
        "outputId": "a7ec5802-ff76-4ad6-9471-20b62b7aece8"
      },
      "execution_count": null,
      "outputs": [
        {
          "output_type": "execute_result",
          "data": {
            "text/plain": [
              "array([285])"
            ]
          },
          "metadata": {},
          "execution_count": 76
        }
      ]
    },
    {
      "cell_type": "code",
      "source": [
        "np.matmul(d,a)"
      ],
      "metadata": {
        "colab": {
          "base_uri": "https://localhost:8080/"
        },
        "id": "CoRqyIj6CcUy",
        "outputId": "2ef42ea1-4fba-4491-b30b-b6eb12c36f18"
      },
      "execution_count": null,
      "outputs": [
        {
          "output_type": "execute_result",
          "data": {
            "text/plain": [
              "array([285])"
            ]
          },
          "metadata": {},
          "execution_count": 77
        }
      ]
    },
    {
      "cell_type": "code",
      "source": [
        "a.shape"
      ],
      "metadata": {
        "colab": {
          "base_uri": "https://localhost:8080/"
        },
        "id": "8S4SWLnvCmnp",
        "outputId": "e22161f1-46bb-4cb7-8ab5-176e817c6628"
      },
      "execution_count": null,
      "outputs": [
        {
          "output_type": "execute_result",
          "data": {
            "text/plain": [
              "(9,)"
            ]
          },
          "metadata": {},
          "execution_count": 78
        }
      ]
    },
    {
      "cell_type": "code",
      "source": [
        "d.shape"
      ],
      "metadata": {
        "colab": {
          "base_uri": "https://localhost:8080/"
        },
        "id": "Zur5dfPRC2vH",
        "outputId": "4f610fdd-fa04-45a6-c4a8-e0d3e8dac82a"
      },
      "execution_count": null,
      "outputs": [
        {
          "output_type": "execute_result",
          "data": {
            "text/plain": [
              "(1, 9)"
            ]
          },
          "metadata": {},
          "execution_count": 79
        }
      ]
    },
    {
      "cell_type": "code",
      "source": [
        "#vecotrization"
      ],
      "metadata": {
        "id": "m0Yv9AAaC66Z"
      },
      "execution_count": null,
      "outputs": []
    },
    {
      "cell_type": "code",
      "source": [
        "a = np.arange(1,13)"
      ],
      "metadata": {
        "id": "ndmTC4FGDPpu"
      },
      "execution_count": null,
      "outputs": []
    },
    {
      "cell_type": "code",
      "source": [
        "print(a)"
      ],
      "metadata": {
        "colab": {
          "base_uri": "https://localhost:8080/"
        },
        "id": "DBV3nTG8DXUz",
        "outputId": "095638fa-f754-4ffd-e74c-f844a3b97b1f"
      },
      "execution_count": null,
      "outputs": [
        {
          "output_type": "stream",
          "name": "stdout",
          "text": [
            "[ 1  2  3  4  5  6  7  8  9 10 11 12]\n"
          ]
        }
      ]
    },
    {
      "cell_type": "code",
      "source": [
        "print(a*2)"
      ],
      "metadata": {
        "colab": {
          "base_uri": "https://localhost:8080/"
        },
        "id": "lZM9GwW4DYzc",
        "outputId": "89c88e7d-c4bf-4b46-8662-899ae3f334d7"
      },
      "execution_count": null,
      "outputs": [
        {
          "output_type": "stream",
          "name": "stdout",
          "text": [
            "[ 2  4  6  8 10 12 14 16 18 20 22 24]\n"
          ]
        }
      ]
    },
    {
      "cell_type": "code",
      "source": [
        "def even_odd(x):\n",
        "  if x%2 == 0:\n",
        "    x = x*2\n",
        "  else:\n",
        "    x = x * 3\n",
        "\n",
        "  return x"
      ],
      "metadata": {
        "id": "Lql9SzNyDf6M"
      },
      "execution_count": null,
      "outputs": []
    },
    {
      "cell_type": "code",
      "source": [
        "even_odd(3)"
      ],
      "metadata": {
        "colab": {
          "base_uri": "https://localhost:8080/"
        },
        "id": "qbz9WMjsEWM4",
        "outputId": "c199df8c-eace-4cb2-9f00-d953c7ad01df"
      },
      "execution_count": null,
      "outputs": [
        {
          "output_type": "execute_result",
          "data": {
            "text/plain": [
              "9"
            ]
          },
          "metadata": {},
          "execution_count": 86
        }
      ]
    },
    {
      "cell_type": "code",
      "source": [
        "even_odd(4)"
      ],
      "metadata": {
        "colab": {
          "base_uri": "https://localhost:8080/"
        },
        "id": "Sso_FD7ZEaop",
        "outputId": "de917288-2c33-443d-ee9b-e13620bbb1a6"
      },
      "execution_count": null,
      "outputs": [
        {
          "output_type": "execute_result",
          "data": {
            "text/plain": [
              "8"
            ]
          },
          "metadata": {},
          "execution_count": 87
        }
      ]
    },
    {
      "cell_type": "code",
      "source": [
        "print(even_odd(a))"
      ],
      "metadata": {
        "colab": {
          "base_uri": "https://localhost:8080/",
          "height": 294
        },
        "id": "jPiYBREqFMUz",
        "outputId": "933325d3-96be-4def-c9fc-d4aae182968d"
      },
      "execution_count": null,
      "outputs": [
        {
          "output_type": "error",
          "ename": "ValueError",
          "evalue": "ignored",
          "traceback": [
            "\u001b[0;31m---------------------------------------------------------------------------\u001b[0m",
            "\u001b[0;31mValueError\u001b[0m                                Traceback (most recent call last)",
            "\u001b[0;32m<ipython-input-91-d4874613c4bd>\u001b[0m in \u001b[0;36m<cell line: 1>\u001b[0;34m()\u001b[0m\n\u001b[0;32m----> 1\u001b[0;31m \u001b[0mprint\u001b[0m\u001b[0;34m(\u001b[0m\u001b[0meven_odd\u001b[0m\u001b[0;34m(\u001b[0m\u001b[0ma\u001b[0m\u001b[0;34m)\u001b[0m\u001b[0;34m)\u001b[0m\u001b[0;34m\u001b[0m\u001b[0;34m\u001b[0m\u001b[0m\n\u001b[0m",
            "\u001b[0;32m<ipython-input-85-843dc938d4ee>\u001b[0m in \u001b[0;36meven_odd\u001b[0;34m(x)\u001b[0m\n\u001b[1;32m      1\u001b[0m \u001b[0;32mdef\u001b[0m \u001b[0meven_odd\u001b[0m\u001b[0;34m(\u001b[0m\u001b[0mx\u001b[0m\u001b[0;34m)\u001b[0m\u001b[0;34m:\u001b[0m\u001b[0;34m\u001b[0m\u001b[0;34m\u001b[0m\u001b[0m\n\u001b[0;32m----> 2\u001b[0;31m   \u001b[0;32mif\u001b[0m \u001b[0mx\u001b[0m\u001b[0;34m%\u001b[0m\u001b[0;36m2\u001b[0m \u001b[0;34m==\u001b[0m \u001b[0;36m0\u001b[0m\u001b[0;34m:\u001b[0m\u001b[0;34m\u001b[0m\u001b[0;34m\u001b[0m\u001b[0m\n\u001b[0m\u001b[1;32m      3\u001b[0m     \u001b[0mx\u001b[0m \u001b[0;34m=\u001b[0m \u001b[0mx\u001b[0m\u001b[0;34m*\u001b[0m\u001b[0;36m2\u001b[0m\u001b[0;34m\u001b[0m\u001b[0;34m\u001b[0m\u001b[0m\n\u001b[1;32m      4\u001b[0m   \u001b[0;32melse\u001b[0m\u001b[0;34m:\u001b[0m\u001b[0;34m\u001b[0m\u001b[0;34m\u001b[0m\u001b[0m\n\u001b[1;32m      5\u001b[0m     \u001b[0mx\u001b[0m \u001b[0;34m=\u001b[0m \u001b[0mx\u001b[0m \u001b[0;34m*\u001b[0m \u001b[0;36m3\u001b[0m\u001b[0;34m\u001b[0m\u001b[0;34m\u001b[0m\u001b[0m\n",
            "\u001b[0;31mValueError\u001b[0m: The truth value of an array with more than one element is ambiguous. Use a.any() or a.all()"
          ]
        }
      ]
    },
    {
      "cell_type": "code",
      "source": [
        "pradeep = np.vectorize(even_odd)"
      ],
      "metadata": {
        "id": "SZSZeMyZEc8w"
      },
      "execution_count": null,
      "outputs": []
    },
    {
      "cell_type": "code",
      "source": [
        "print(pradeep(a))"
      ],
      "metadata": {
        "colab": {
          "base_uri": "https://localhost:8080/"
        },
        "id": "riMQRywDFAyZ",
        "outputId": "6a5d19ec-74ca-4a4a-9752-ee798c2e0d5a"
      },
      "execution_count": null,
      "outputs": [
        {
          "output_type": "stream",
          "name": "stdout",
          "text": [
            "[ 3  4  9  8 15 12 21 16 27 20 33 24]\n"
          ]
        }
      ]
    },
    {
      "cell_type": "code",
      "source": [
        "import math"
      ],
      "metadata": {
        "id": "ka5oi22nFE9U"
      },
      "execution_count": null,
      "outputs": []
    },
    {
      "cell_type": "code",
      "source": [
        "func1 = np.vectorize(math.log)"
      ],
      "metadata": {
        "id": "UaMRsDkzFufq"
      },
      "execution_count": null,
      "outputs": []
    },
    {
      "cell_type": "code",
      "source": [
        "print(func1(a))"
      ],
      "metadata": {
        "colab": {
          "base_uri": "https://localhost:8080/"
        },
        "id": "whmN1Yk4F5BN",
        "outputId": "24e7b801-51ce-4ddf-a78a-fa86e76b79ef"
      },
      "execution_count": null,
      "outputs": [
        {
          "output_type": "stream",
          "name": "stdout",
          "text": [
            "[0.         0.69314718 1.09861229 1.38629436 1.60943791 1.79175947\n",
            " 1.94591015 2.07944154 2.19722458 2.30258509 2.39789527 2.48490665]\n"
          ]
        }
      ]
    },
    {
      "cell_type": "code",
      "source": [
        "print(a)"
      ],
      "metadata": {
        "colab": {
          "base_uri": "https://localhost:8080/"
        },
        "id": "zu7oygkqF7s7",
        "outputId": "8e5b8f75-9dc9-4f79-d354-e79e48182111"
      },
      "execution_count": null,
      "outputs": [
        {
          "output_type": "stream",
          "name": "stdout",
          "text": [
            "[ 1  2  3  4  5  6  7  8  9 10 11 12]\n"
          ]
        }
      ]
    },
    {
      "cell_type": "code",
      "source": [
        "#HW - Take a vector and write a code, where every even number is having the opposite sign and odd number\n",
        "# is made twice"
      ],
      "metadata": {
        "id": "H0PMjTKDGDQ1"
      },
      "execution_count": null,
      "outputs": []
    },
    {
      "cell_type": "code",
      "source": [
        "#Broadcasting"
      ],
      "metadata": {
        "id": "HFCe2UjiGTqI"
      },
      "execution_count": null,
      "outputs": []
    },
    {
      "cell_type": "markdown",
      "source": [
        "![image.png](data:image/png;base64,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)"
      ],
      "metadata": {
        "id": "pwpLD3IpG4xa"
      }
    },
    {
      "cell_type": "code",
      "source": [
        "a = np.arange(0,40,10)\n",
        "print(a)"
      ],
      "metadata": {
        "colab": {
          "base_uri": "https://localhost:8080/"
        },
        "id": "J8wbpOSfG5R-",
        "outputId": "322c1483-0e45-4481-96e6-edb659de8c35"
      },
      "execution_count": null,
      "outputs": [
        {
          "output_type": "stream",
          "name": "stdout",
          "text": [
            "[ 0 10 20 30]\n"
          ]
        }
      ]
    },
    {
      "cell_type": "code",
      "source": [
        "b = np.tile(a, (3,1))\n",
        "print(b)"
      ],
      "metadata": {
        "colab": {
          "base_uri": "https://localhost:8080/"
        },
        "id": "URVu883SH-cr",
        "outputId": "44451e2b-1ed5-49b8-f3f7-81541e900bdf"
      },
      "execution_count": null,
      "outputs": [
        {
          "output_type": "stream",
          "name": "stdout",
          "text": [
            "[[ 0 10 20 30]\n",
            " [ 0 10 20 30]\n",
            " [ 0 10 20 30]]\n"
          ]
        }
      ]
    },
    {
      "cell_type": "code",
      "source": [
        "b = np.tile(a, (3,2))\n",
        "print(b)"
      ],
      "metadata": {
        "colab": {
          "base_uri": "https://localhost:8080/"
        },
        "id": "tNF2EROsIMS9",
        "outputId": "dc01dbdd-3729-4331-ef63-7578a3ff1441"
      },
      "execution_count": null,
      "outputs": [
        {
          "output_type": "stream",
          "name": "stdout",
          "text": [
            "[[ 0 10 20 30  0 10 20 30]\n",
            " [ 0 10 20 30  0 10 20 30]\n",
            " [ 0 10 20 30  0 10 20 30]]\n"
          ]
        }
      ]
    },
    {
      "cell_type": "code",
      "source": [
        "b.shape"
      ],
      "metadata": {
        "colab": {
          "base_uri": "https://localhost:8080/"
        },
        "id": "8xB7l_j0Ivwl",
        "outputId": "0f59854b-5121-4bea-f4e2-cd2c6a8b8ea4"
      },
      "execution_count": null,
      "outputs": [
        {
          "output_type": "execute_result",
          "data": {
            "text/plain": [
              "(3, 8)"
            ]
          },
          "metadata": {},
          "execution_count": 105
        }
      ]
    },
    {
      "cell_type": "code",
      "source": [
        "b[0]"
      ],
      "metadata": {
        "colab": {
          "base_uri": "https://localhost:8080/"
        },
        "id": "ItEnoAlrI64R",
        "outputId": "d711862f-6d75-4c54-8545-7bf7bea18d51"
      },
      "execution_count": null,
      "outputs": [
        {
          "output_type": "execute_result",
          "data": {
            "text/plain": [
              "array([ 0, 10, 20, 30,  0, 10, 20, 30])"
            ]
          },
          "metadata": {},
          "execution_count": 106
        }
      ]
    },
    {
      "cell_type": "code",
      "source": [
        "a = np.arange(0,40,10)\n",
        "print(a)"
      ],
      "metadata": {
        "colab": {
          "base_uri": "https://localhost:8080/"
        },
        "id": "zLRRqpHYJB3D",
        "outputId": "edc4086c-3f07-48e8-fab8-aeb3fcc0ee8f"
      },
      "execution_count": null,
      "outputs": [
        {
          "output_type": "stream",
          "name": "stdout",
          "text": [
            "[ 0 10 20 30]\n"
          ]
        }
      ]
    },
    {
      "cell_type": "code",
      "source": [
        "b = np.tile(a, (3,1))\n",
        "print(b)"
      ],
      "metadata": {
        "colab": {
          "base_uri": "https://localhost:8080/"
        },
        "id": "dmc7GLFJJR7S",
        "outputId": "e333e070-3687-40fc-8783-2d8230c6b094"
      },
      "execution_count": null,
      "outputs": [
        {
          "output_type": "stream",
          "name": "stdout",
          "text": [
            "[[ 0 10 20 30]\n",
            " [ 0 10 20 30]\n",
            " [ 0 10 20 30]]\n"
          ]
        }
      ]
    },
    {
      "cell_type": "code",
      "source": [
        "b = b.T"
      ],
      "metadata": {
        "id": "K3yIAQ-yJTJ8"
      },
      "execution_count": null,
      "outputs": []
    },
    {
      "cell_type": "code",
      "source": [
        "print(b)"
      ],
      "metadata": {
        "colab": {
          "base_uri": "https://localhost:8080/"
        },
        "id": "DE07RPbAJXMQ",
        "outputId": "3ee1ef09-9bff-4f5e-86f6-374702f69379"
      },
      "execution_count": null,
      "outputs": [
        {
          "output_type": "stream",
          "name": "stdout",
          "text": [
            "[[ 0  0  0]\n",
            " [10 10 10]\n",
            " [20 20 20]\n",
            " [30 30 30]]\n"
          ]
        }
      ]
    },
    {
      "cell_type": "code",
      "source": [
        "c = np.arange(0,3)\n",
        "print(c)"
      ],
      "metadata": {
        "colab": {
          "base_uri": "https://localhost:8080/"
        },
        "id": "2lW-bh5NJXw-",
        "outputId": "f3aa1c89-9286-4335-d578-a6546f526316"
      },
      "execution_count": null,
      "outputs": [
        {
          "output_type": "stream",
          "name": "stdout",
          "text": [
            "[0 1 2]\n"
          ]
        }
      ]
    },
    {
      "cell_type": "code",
      "source": [
        "c = np.tile(c, (4,1))\n",
        "print(c)"
      ],
      "metadata": {
        "colab": {
          "base_uri": "https://localhost:8080/"
        },
        "id": "YczsqndvJhrT",
        "outputId": "9a0401b5-f827-466c-84ce-4da1b1213aa8"
      },
      "execution_count": null,
      "outputs": [
        {
          "output_type": "stream",
          "name": "stdout",
          "text": [
            "[[0 1 2]\n",
            " [0 1 2]\n",
            " [0 1 2]\n",
            " [0 1 2]]\n"
          ]
        }
      ]
    },
    {
      "cell_type": "code",
      "source": [
        "c.shape"
      ],
      "metadata": {
        "colab": {
          "base_uri": "https://localhost:8080/"
        },
        "id": "fjpE_DS8Jrtm",
        "outputId": "cb80404b-af61-42f0-fbf5-a61888869373"
      },
      "execution_count": null,
      "outputs": [
        {
          "output_type": "execute_result",
          "data": {
            "text/plain": [
              "(4, 3)"
            ]
          },
          "metadata": {},
          "execution_count": 113
        }
      ]
    },
    {
      "cell_type": "code",
      "source": [
        "print(b+c)"
      ],
      "metadata": {
        "colab": {
          "base_uri": "https://localhost:8080/"
        },
        "id": "k5P0skb_Judv",
        "outputId": "87ca2a9d-91d1-4f40-982c-b79054820c5b"
      },
      "execution_count": null,
      "outputs": [
        {
          "output_type": "stream",
          "name": "stdout",
          "text": [
            "[[ 0  1  2]\n",
            " [10 11 12]\n",
            " [20 21 22]\n",
            " [30 31 32]]\n"
          ]
        }
      ]
    },
    {
      "cell_type": "markdown",
      "source": [
        "#case2"
      ],
      "metadata": {
        "id": "ztAIPM_JKE4f"
      }
    },
    {
      "cell_type": "code",
      "source": [
        "a = b"
      ],
      "metadata": {
        "id": "r1ZZUfMqKJ-j"
      },
      "execution_count": null,
      "outputs": []
    },
    {
      "cell_type": "code",
      "source": [
        "print(a)"
      ],
      "metadata": {
        "colab": {
          "base_uri": "https://localhost:8080/"
        },
        "id": "hCYiYwANJ51I",
        "outputId": "e921ee49-edc3-4bcd-b11f-c9b5d693a10c"
      },
      "execution_count": null,
      "outputs": [
        {
          "output_type": "stream",
          "name": "stdout",
          "text": [
            "[[ 0  0  0]\n",
            " [10 10 10]\n",
            " [20 20 20]\n",
            " [30 30 30]]\n"
          ]
        }
      ]
    },
    {
      "cell_type": "code",
      "source": [
        "b = np.arange(0,3)\n",
        "print(b)"
      ],
      "metadata": {
        "colab": {
          "base_uri": "https://localhost:8080/"
        },
        "id": "-FuwcUzsKECk",
        "outputId": "c0a6b54c-16e8-49e9-e73f-eaecd459067f"
      },
      "execution_count": null,
      "outputs": [
        {
          "output_type": "stream",
          "name": "stdout",
          "text": [
            "[0 1 2]\n"
          ]
        }
      ]
    },
    {
      "cell_type": "code",
      "source": [
        "print(a+b)"
      ],
      "metadata": {
        "colab": {
          "base_uri": "https://localhost:8080/"
        },
        "id": "WVI7p7PHKNEP",
        "outputId": "f681dadb-512c-4dbe-eca5-1808adc0d4c3"
      },
      "execution_count": null,
      "outputs": [
        {
          "output_type": "stream",
          "name": "stdout",
          "text": [
            "[[ 0  1  2]\n",
            " [10 11 12]\n",
            " [20 21 22]\n",
            " [30 31 32]]\n"
          ]
        }
      ]
    },
    {
      "cell_type": "markdown",
      "source": [
        "#case3"
      ],
      "metadata": {
        "id": "O75PwSgMKsIJ"
      }
    },
    {
      "cell_type": "code",
      "source": [
        "a = np.arange(0,40,10)\n",
        "print(a)"
      ],
      "metadata": {
        "colab": {
          "base_uri": "https://localhost:8080/"
        },
        "id": "k4kYlztzKRvl",
        "outputId": "46439e58-d309-49a1-d296-42e74c381d44"
      },
      "execution_count": null,
      "outputs": [
        {
          "output_type": "stream",
          "name": "stdout",
          "text": [
            "[ 0 10 20 30]\n"
          ]
        }
      ]
    },
    {
      "cell_type": "code",
      "source": [
        "a = a.reshape(4,1)\n",
        "print(a)"
      ],
      "metadata": {
        "colab": {
          "base_uri": "https://localhost:8080/"
        },
        "id": "ODcTjh5PK-vX",
        "outputId": "355a1c59-2d9b-4345-fef2-fce71e1c1bb7"
      },
      "execution_count": null,
      "outputs": [
        {
          "output_type": "stream",
          "name": "stdout",
          "text": [
            "[[ 0]\n",
            " [10]\n",
            " [20]\n",
            " [30]]\n"
          ]
        }
      ]
    },
    {
      "cell_type": "code",
      "source": [
        "a.shape"
      ],
      "metadata": {
        "colab": {
          "base_uri": "https://localhost:8080/"
        },
        "id": "4DTFeYcQLGys",
        "outputId": "920223c5-3365-4593-a136-eaa473f6d525"
      },
      "execution_count": null,
      "outputs": [
        {
          "output_type": "execute_result",
          "data": {
            "text/plain": [
              "(4, 1)"
            ]
          },
          "metadata": {},
          "execution_count": 125
        }
      ]
    },
    {
      "cell_type": "code",
      "source": [
        "a.ndim"
      ],
      "metadata": {
        "colab": {
          "base_uri": "https://localhost:8080/"
        },
        "id": "0bG1Sj9kLIpH",
        "outputId": "4f8989f8-7faf-40b9-d764-8a1993e418c0"
      },
      "execution_count": null,
      "outputs": [
        {
          "output_type": "execute_result",
          "data": {
            "text/plain": [
              "2"
            ]
          },
          "metadata": {},
          "execution_count": 126
        }
      ]
    },
    {
      "cell_type": "code",
      "source": [
        "b = np.arange(0,3)\n",
        "print(b)"
      ],
      "metadata": {
        "colab": {
          "base_uri": "https://localhost:8080/"
        },
        "id": "cFDKUwrgLKkW",
        "outputId": "e62d22cb-618e-4440-a6af-7c032a2c711e"
      },
      "execution_count": null,
      "outputs": [
        {
          "output_type": "stream",
          "name": "stdout",
          "text": [
            "[0 1 2]\n"
          ]
        }
      ]
    },
    {
      "cell_type": "code",
      "source": [
        "print(a+b)"
      ],
      "metadata": {
        "colab": {
          "base_uri": "https://localhost:8080/"
        },
        "id": "O89g-FirLUAc",
        "outputId": "ab95dd08-c2a7-4f6b-9392-73c55ab62212"
      },
      "execution_count": null,
      "outputs": [
        {
          "output_type": "stream",
          "name": "stdout",
          "text": [
            "[[ 0  1  2]\n",
            " [10 11 12]\n",
            " [20 21 22]\n",
            " [30 31 32]]\n"
          ]
        }
      ]
    },
    {
      "cell_type": "markdown",
      "source": [
        "Let's learn about some **General Broadcasting Rules**\n",
        "\n",
        "    For each dimension ( going from right side)\n",
        "        1. The size of each dimension should be same OR\n",
        "        2. The size of one dimension should be 1"
      ],
      "metadata": {
        "id": "HBkk6DMELik9"
      }
    },
    {
      "cell_type": "code",
      "source": [
        "#doubts"
      ],
      "metadata": {
        "id": "eLrBR9W0NAao"
      },
      "execution_count": null,
      "outputs": []
    },
    {
      "cell_type": "code",
      "source": [],
      "metadata": {
        "id": "uFBjiVybO5R6"
      },
      "execution_count": null,
      "outputs": []
    },
    {
      "cell_type": "code",
      "source": [
        "import numpy as np\n",
        "b = np.arange(2,14).reshape(3,4)\n",
        "print(b)"
      ],
      "metadata": {
        "colab": {
          "base_uri": "https://localhost:8080/"
        },
        "id": "w7bIMaysLWjg",
        "outputId": "e8f655eb-5428-47ef-b192-79f7372dfa12"
      },
      "execution_count": null,
      "outputs": [
        {
          "output_type": "stream",
          "name": "stdout",
          "text": [
            "[[ 2  3  4  5]\n",
            " [ 6  7  8  9]\n",
            " [10 11 12 13]]\n"
          ]
        }
      ]
    },
    {
      "cell_type": "code",
      "source": [
        "a = b.reshape(4,3)\n",
        "print(a)"
      ],
      "metadata": {
        "colab": {
          "base_uri": "https://localhost:8080/"
        },
        "id": "vhiFYaGmOILR",
        "outputId": "8e97f3e8-605d-4baf-9add-bcd814ed62ef"
      },
      "execution_count": null,
      "outputs": [
        {
          "output_type": "stream",
          "name": "stdout",
          "text": [
            "[[ 2  3  4]\n",
            " [ 5  6  7]\n",
            " [ 8  9 10]\n",
            " [11 12 13]]\n"
          ]
        }
      ]
    },
    {
      "cell_type": "code",
      "source": [
        "b.T"
      ],
      "metadata": {
        "colab": {
          "base_uri": "https://localhost:8080/"
        },
        "id": "wfOnN2b_OV1P",
        "outputId": "524cc28d-13c6-42a5-ea82-90be01636655"
      },
      "execution_count": null,
      "outputs": [
        {
          "output_type": "execute_result",
          "data": {
            "text/plain": [
              "array([[ 2,  6, 10],\n",
              "       [ 3,  7, 11],\n",
              "       [ 4,  8, 12],\n",
              "       [ 5,  9, 13]])"
            ]
          },
          "metadata": {},
          "execution_count": 132
        }
      ]
    },
    {
      "cell_type": "code",
      "source": [
        "#unpacking"
      ],
      "metadata": {
        "id": "2L5tm1BdOkEa"
      },
      "execution_count": null,
      "outputs": []
    },
    {
      "cell_type": "code",
      "source": [
        "a = [ [1,2] , [4,5], [2,3]]"
      ],
      "metadata": {
        "id": "lZj6wKdYPSkS"
      },
      "execution_count": null,
      "outputs": []
    },
    {
      "cell_type": "code",
      "source": [
        "x, y, z = a"
      ],
      "metadata": {
        "id": "X2HkvrVJPVPV"
      },
      "execution_count": null,
      "outputs": []
    },
    {
      "cell_type": "code",
      "source": [
        "print(x)"
      ],
      "metadata": {
        "colab": {
          "base_uri": "https://localhost:8080/"
        },
        "id": "_MqL-OeBPZBS",
        "outputId": "e1f0607f-6af6-4b82-db21-68a1deb116dc"
      },
      "execution_count": null,
      "outputs": [
        {
          "output_type": "stream",
          "name": "stdout",
          "text": [
            "[1, 2]\n"
          ]
        }
      ]
    },
    {
      "cell_type": "code",
      "source": [
        "print(y)"
      ],
      "metadata": {
        "colab": {
          "base_uri": "https://localhost:8080/"
        },
        "id": "ThW0XalUPiyU",
        "outputId": "36d77968-95db-4fe4-e206-66f797bee087"
      },
      "execution_count": null,
      "outputs": [
        {
          "output_type": "stream",
          "name": "stdout",
          "text": [
            "[4, 5]\n"
          ]
        }
      ]
    },
    {
      "cell_type": "code",
      "source": [
        "print(z)"
      ],
      "metadata": {
        "colab": {
          "base_uri": "https://localhost:8080/"
        },
        "id": "AGCVROPbPkIm",
        "outputId": "6e810bb5-c003-4e4a-b1d9-bf599fbc7af2"
      },
      "execution_count": null,
      "outputs": [
        {
          "output_type": "stream",
          "name": "stdout",
          "text": [
            "[2, 3]\n"
          ]
        }
      ]
    },
    {
      "cell_type": "code",
      "source": [
        "#hw argmin\n",
        "\n",
        "\n",
        "#HW - try to find the index of the minimum element across each column in a 2D numpy array\n",
        "\n"
      ],
      "metadata": {
        "id": "i-zlC7puPmN9"
      },
      "execution_count": null,
      "outputs": []
    },
    {
      "cell_type": "code",
      "source": [],
      "metadata": {
        "id": "Lycm5-flQA01"
      },
      "execution_count": null,
      "outputs": []
    }
  ]
}