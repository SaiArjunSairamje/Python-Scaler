{
  "nbformat": 4,
  "nbformat_minor": 0,
  "metadata": {
    "colab": {
      "provenance": [],
      "toc_visible": true,
      "include_colab_link": true
    },
    "kernelspec": {
      "name": "python3",
      "display_name": "Python 3"
    },
    "language_info": {
      "name": "python"
    }
  },
  "cells": [
    {
      "cell_type": "markdown",
      "metadata": {
        "id": "view-in-github",
        "colab_type": "text"
      },
      "source": [
        "<a href=\"https://colab.research.google.com/github/SaiArjunSairamje/Python_Libraries/blob/main/04.%20Numpy_4%20(Misc_Topics)%20.ipynb\" target=\"_parent\"><img src=\"https://colab.research.google.com/assets/colab-badge.svg\" alt=\"Open In Colab\"/></a>"
      ]
    },
    {
      "cell_type": "markdown",
      "source": [
        "# **Short revision of previous class**\n",
        "***"
      ],
      "metadata": {
        "id": "bBe06ZEyUPMu"
      }
    },
    {
      "cell_type": "code",
      "source": [
        "import numpy as np"
      ],
      "metadata": {
        "id": "Rz7FlodFi9pP"
      },
      "execution_count": 1,
      "outputs": []
    },
    {
      "cell_type": "code",
      "execution_count": 2,
      "metadata": {
        "id": "hTCTVjOmh1pO"
      },
      "outputs": [],
      "source": [
        "a = np.arange(4)"
      ]
    },
    {
      "cell_type": "code",
      "source": [
        "print(a)"
      ],
      "metadata": {
        "colab": {
          "base_uri": "https://localhost:8080/"
        },
        "id": "byCWaJHXi8UY",
        "outputId": "42942031-63b5-4dcc-f68e-f6d1a326eaa8"
      },
      "execution_count": 3,
      "outputs": [
        {
          "output_type": "stream",
          "name": "stdout",
          "text": [
            "[0 1 2 3]\n"
          ]
        }
      ]
    },
    {
      "cell_type": "code",
      "source": [
        "b = a.reshape(2,2)"
      ],
      "metadata": {
        "id": "9d8bUaBEi_jB"
      },
      "execution_count": 4,
      "outputs": []
    },
    {
      "cell_type": "code",
      "source": [
        "np.shares_memory(a,b)"
      ],
      "metadata": {
        "colab": {
          "base_uri": "https://localhost:8080/"
        },
        "id": "v9ii9b5IjB4e",
        "outputId": "7f86fa52-5c71-4629-d140-bcde81433679"
      },
      "execution_count": 5,
      "outputs": [
        {
          "output_type": "execute_result",
          "data": {
            "text/plain": [
              "True"
            ]
          },
          "metadata": {},
          "execution_count": 5
        }
      ]
    },
    {
      "cell_type": "code",
      "source": [
        "a[0] = 100"
      ],
      "metadata": {
        "id": "bMh85rDZjKpc"
      },
      "execution_count": 6,
      "outputs": []
    },
    {
      "cell_type": "code",
      "source": [
        "print(b)    #shallow copy"
      ],
      "metadata": {
        "colab": {
          "base_uri": "https://localhost:8080/"
        },
        "id": "TppLqRIhjOOV",
        "outputId": "88312859-3cae-4344-ca95-704447e967b5"
      },
      "execution_count": 7,
      "outputs": [
        {
          "output_type": "stream",
          "name": "stdout",
          "text": [
            "[[100   1]\n",
            " [  2   3]]\n"
          ]
        }
      ]
    },
    {
      "cell_type": "code",
      "source": [
        "c = a.copy()    #deep copy"
      ],
      "metadata": {
        "id": "Izie3kTUjPw_"
      },
      "execution_count": 8,
      "outputs": []
    },
    {
      "cell_type": "code",
      "source": [
        "print(a)"
      ],
      "metadata": {
        "colab": {
          "base_uri": "https://localhost:8080/"
        },
        "id": "AyKiHiqdjbCM",
        "outputId": "11fe9090-8069-443c-9e95-a3a93e89e876"
      },
      "execution_count": 9,
      "outputs": [
        {
          "output_type": "stream",
          "name": "stdout",
          "text": [
            "[100   1   2   3]\n"
          ]
        }
      ]
    },
    {
      "cell_type": "code",
      "source": [
        "print(c)"
      ],
      "metadata": {
        "colab": {
          "base_uri": "https://localhost:8080/"
        },
        "id": "qzmEfkx6jbx7",
        "outputId": "368051b4-15d2-4c44-f746-ae79f7acc731"
      },
      "execution_count": 10,
      "outputs": [
        {
          "output_type": "stream",
          "name": "stdout",
          "text": [
            "[100   1   2   3]\n"
          ]
        }
      ]
    },
    {
      "cell_type": "code",
      "source": [
        "a[1] = 101"
      ],
      "metadata": {
        "id": "za0OQih0jciP"
      },
      "execution_count": 11,
      "outputs": []
    },
    {
      "cell_type": "code",
      "source": [
        "print(a)"
      ],
      "metadata": {
        "colab": {
          "base_uri": "https://localhost:8080/"
        },
        "id": "W6Ng7UxnjeRJ",
        "outputId": "fab6d67b-8e8c-4747-fd66-9ceab4a1679f"
      },
      "execution_count": 12,
      "outputs": [
        {
          "output_type": "stream",
          "name": "stdout",
          "text": [
            "[100 101   2   3]\n"
          ]
        }
      ]
    },
    {
      "cell_type": "code",
      "source": [
        "print(c)"
      ],
      "metadata": {
        "colab": {
          "base_uri": "https://localhost:8080/"
        },
        "id": "1IFDLRD5je8g",
        "outputId": "ca4b51af-4d5b-49f3-d7fe-084e6d02dde4"
      },
      "execution_count": 13,
      "outputs": [
        {
          "output_type": "stream",
          "name": "stdout",
          "text": [
            "[100   1   2   3]\n"
          ]
        }
      ]
    },
    {
      "cell_type": "code",
      "source": [
        "np.shares_memory(a,c)"
      ],
      "metadata": {
        "colab": {
          "base_uri": "https://localhost:8080/"
        },
        "id": "FY3sJEJtjjG8",
        "outputId": "9a76466d-896a-44ff-a684-5b0c346abab5"
      },
      "execution_count": 14,
      "outputs": [
        {
          "output_type": "execute_result",
          "data": {
            "text/plain": [
              "False"
            ]
          },
          "metadata": {},
          "execution_count": 14
        }
      ]
    },
    {
      "cell_type": "code",
      "source": [
        "a = np.arange(5)"
      ],
      "metadata": {
        "id": "-ryOCJzEjpvK"
      },
      "execution_count": 15,
      "outputs": []
    },
    {
      "cell_type": "code",
      "source": [
        "print(a)"
      ],
      "metadata": {
        "colab": {
          "base_uri": "https://localhost:8080/"
        },
        "id": "opc5th6sj77M",
        "outputId": "40faf10c-4451-4b1f-b458-38341f0455b4"
      },
      "execution_count": 16,
      "outputs": [
        {
          "output_type": "stream",
          "name": "stdout",
          "text": [
            "[0 1 2 3 4]\n"
          ]
        }
      ]
    },
    {
      "cell_type": "code",
      "source": [
        "b = a + 2   #deep copy automatically"
      ],
      "metadata": {
        "id": "T_mP_soKj-tz"
      },
      "execution_count": 17,
      "outputs": []
    },
    {
      "cell_type": "code",
      "source": [
        "print(b)"
      ],
      "metadata": {
        "colab": {
          "base_uri": "https://localhost:8080/"
        },
        "id": "SlmbCC73kDpl",
        "outputId": "80b01f36-d3d2-438a-9d4a-d0d5010b4c00"
      },
      "execution_count": 18,
      "outputs": [
        {
          "output_type": "stream",
          "name": "stdout",
          "text": [
            "[2 3 4 5 6]\n"
          ]
        }
      ]
    },
    {
      "cell_type": "code",
      "source": [
        "np.shares_memory(a,b)"
      ],
      "metadata": {
        "colab": {
          "base_uri": "https://localhost:8080/"
        },
        "id": "Di9SyaylkEiS",
        "outputId": "906ce0f8-60f3-41f0-d9d0-9f566262e1ab"
      },
      "execution_count": 19,
      "outputs": [
        {
          "output_type": "execute_result",
          "data": {
            "text/plain": [
              "False"
            ]
          },
          "metadata": {},
          "execution_count": 19
        }
      ]
    },
    {
      "cell_type": "code",
      "source": [
        "a[0] = 10"
      ],
      "metadata": {
        "id": "LlGgBUNekKXa"
      },
      "execution_count": 20,
      "outputs": []
    },
    {
      "cell_type": "code",
      "source": [
        "print(a)"
      ],
      "metadata": {
        "colab": {
          "base_uri": "https://localhost:8080/"
        },
        "id": "8fE-1IiBkODQ",
        "outputId": "21fe5b46-725f-4279-a24a-704e2a05b1c6"
      },
      "execution_count": 21,
      "outputs": [
        {
          "output_type": "stream",
          "name": "stdout",
          "text": [
            "[10  1  2  3  4]\n"
          ]
        }
      ]
    },
    {
      "cell_type": "code",
      "source": [
        "print(b)"
      ],
      "metadata": {
        "colab": {
          "base_uri": "https://localhost:8080/"
        },
        "id": "oghp2H7YkO4-",
        "outputId": "26f8b3bc-7800-4ca7-dffe-d16e41ccc5c3"
      },
      "execution_count": 22,
      "outputs": [
        {
          "output_type": "stream",
          "name": "stdout",
          "text": [
            "[2 3 4 5 6]\n"
          ]
        }
      ]
    },
    {
      "cell_type": "code",
      "source": [
        "#shallow copy - same address\n",
        "#deep copy - different address"
      ],
      "metadata": {
        "id": "54u44H2TkQUz"
      },
      "execution_count": 23,
      "outputs": []
    },
    {
      "cell_type": "code",
      "source": [
        "a = np.arange(10)"
      ],
      "metadata": {
        "id": "gkSRsgIJka_B"
      },
      "execution_count": 24,
      "outputs": []
    },
    {
      "cell_type": "code",
      "source": [
        "print(a)"
      ],
      "metadata": {
        "colab": {
          "base_uri": "https://localhost:8080/"
        },
        "id": "eQLB7MCdke-S",
        "outputId": "350ea22c-2cac-4479-dddb-d513ae0b2697"
      },
      "execution_count": 25,
      "outputs": [
        {
          "output_type": "stream",
          "name": "stdout",
          "text": [
            "[0 1 2 3 4 5 6 7 8 9]\n"
          ]
        }
      ]
    },
    {
      "cell_type": "code",
      "source": [
        "b = a[::2]    #stride"
      ],
      "metadata": {
        "id": "6aDNf-T2klke"
      },
      "execution_count": 26,
      "outputs": []
    },
    {
      "cell_type": "code",
      "source": [
        "print(b)"
      ],
      "metadata": {
        "colab": {
          "base_uri": "https://localhost:8080/"
        },
        "id": "nLPkVrV9krYT",
        "outputId": "145843b2-eec7-467e-cd12-46302b35fd9a"
      },
      "execution_count": 27,
      "outputs": [
        {
          "output_type": "stream",
          "name": "stdout",
          "text": [
            "[0 2 4 6 8]\n"
          ]
        }
      ]
    },
    {
      "cell_type": "code",
      "source": [
        "np.shares_memory(a,b)"
      ],
      "metadata": {
        "colab": {
          "base_uri": "https://localhost:8080/"
        },
        "id": "QlkeGbmgktdn",
        "outputId": "77cf0c2e-017c-402f-faa7-b1c0a8472a82"
      },
      "execution_count": 28,
      "outputs": [
        {
          "output_type": "execute_result",
          "data": {
            "text/plain": [
              "True"
            ]
          },
          "metadata": {},
          "execution_count": 28
        }
      ]
    },
    {
      "cell_type": "code",
      "source": [
        "a[0] = 20"
      ],
      "metadata": {
        "id": "rVh8i2Eqk0JX"
      },
      "execution_count": 29,
      "outputs": []
    },
    {
      "cell_type": "code",
      "source": [
        "print(b)"
      ],
      "metadata": {
        "colab": {
          "base_uri": "https://localhost:8080/"
        },
        "id": "32WmQcu0k7Y-",
        "outputId": "54f5a652-6f4f-47dc-b548-a73f0bc1966e"
      },
      "execution_count": 30,
      "outputs": [
        {
          "output_type": "stream",
          "name": "stdout",
          "text": [
            "[20  2  4  6  8]\n"
          ]
        }
      ]
    },
    {
      "cell_type": "code",
      "source": [
        "a[1] = 30"
      ],
      "metadata": {
        "id": "-mJUQQmylAD4"
      },
      "execution_count": 31,
      "outputs": []
    },
    {
      "cell_type": "code",
      "source": [
        "print(a)"
      ],
      "metadata": {
        "colab": {
          "base_uri": "https://localhost:8080/"
        },
        "id": "FK6no0fZlCOq",
        "outputId": "f49b398d-da6a-4b8d-9ffb-2a167f7f6fe4"
      },
      "execution_count": 32,
      "outputs": [
        {
          "output_type": "stream",
          "name": "stdout",
          "text": [
            "[20 30  2  3  4  5  6  7  8  9]\n"
          ]
        }
      ]
    },
    {
      "cell_type": "code",
      "source": [
        "print(b)    #stride"
      ],
      "metadata": {
        "colab": {
          "base_uri": "https://localhost:8080/"
        },
        "id": "VnpbkbQTlH1B",
        "outputId": "bba7be9d-6733-412d-f36e-21d180383b9c"
      },
      "execution_count": 33,
      "outputs": [
        {
          "output_type": "stream",
          "name": "stdout",
          "text": [
            "[20  2  4  6  8]\n"
          ]
        }
      ]
    },
    {
      "cell_type": "code",
      "source": [
        "a = np.arange(5)"
      ],
      "metadata": {
        "id": "qMKhLZXqlJQw"
      },
      "execution_count": 34,
      "outputs": []
    },
    {
      "cell_type": "code",
      "source": [
        "b = a.view()    #shallow copy"
      ],
      "metadata": {
        "id": "e9YkzIJvlWe2"
      },
      "execution_count": 35,
      "outputs": []
    },
    {
      "cell_type": "code",
      "source": [
        "np.shares_memory(a,b)"
      ],
      "metadata": {
        "colab": {
          "base_uri": "https://localhost:8080/"
        },
        "id": "0jRw3bGUlYRw",
        "outputId": "406c0865-1cc1-4ae6-c24e-10ed14c1406a"
      },
      "execution_count": 36,
      "outputs": [
        {
          "output_type": "execute_result",
          "data": {
            "text/plain": [
              "True"
            ]
          },
          "metadata": {},
          "execution_count": 36
        }
      ]
    },
    {
      "cell_type": "markdown",
      "source": [
        "# **Special Cases**\n",
        "***\n",
        "**NumPy** arrays are **homogeneous**, meaning they store elements of the same data type. This allows for **efficient memory usage** and **faster numerical operations**.\n",
        "\n",
        "On the other hand, **Python lists** can hold elements of different data types, making them **slower for numerical computations** due to their **heterogeneous** nature.\n",
        "\n",
        "**NumPy's homogeneous** and **contiguous memory layout** enable vectorized operations, improving performance for scientific computing and large datasets.\n",
        "\n",
        "\n",
        "\n",
        "\n"
      ],
      "metadata": {
        "id": "2iWJyAlfWD0i"
      }
    },
    {
      "cell_type": "code",
      "source": [
        "a = np.array([1,4,2.5,7])"
      ],
      "metadata": {
        "id": "dLrZ134kleTj"
      },
      "execution_count": 37,
      "outputs": []
    },
    {
      "cell_type": "code",
      "source": [
        "a"
      ],
      "metadata": {
        "colab": {
          "base_uri": "https://localhost:8080/"
        },
        "id": "T5hoNYb3mwkx",
        "outputId": "ffab370d-0110-4cf6-9d9b-65a29e372ee8"
      },
      "execution_count": 38,
      "outputs": [
        {
          "output_type": "execute_result",
          "data": {
            "text/plain": [
              "array([1. , 4. , 2.5, 7. ])"
            ]
          },
          "metadata": {},
          "execution_count": 38
        }
      ]
    },
    {
      "cell_type": "code",
      "source": [
        "print(a)"
      ],
      "metadata": {
        "colab": {
          "base_uri": "https://localhost:8080/"
        },
        "id": "VMkCoCNUmB5P",
        "outputId": "f2eff915-10bd-4ede-fdd0-1f2ad4bba4be"
      },
      "execution_count": 39,
      "outputs": [
        {
          "output_type": "stream",
          "name": "stdout",
          "text": [
            "[1.  4.  2.5 7. ]\n"
          ]
        }
      ]
    },
    {
      "cell_type": "code",
      "source": [
        "a = np.array([1, 'a'])"
      ],
      "metadata": {
        "id": "uPKZ0RgymCyG"
      },
      "execution_count": 40,
      "outputs": []
    },
    {
      "cell_type": "code",
      "source": [
        "a"
      ],
      "metadata": {
        "colab": {
          "base_uri": "https://localhost:8080/"
        },
        "id": "cm21mcARmPS7",
        "outputId": "91f6491c-78ed-487b-ed35-ca554e7ab17c"
      },
      "execution_count": 41,
      "outputs": [
        {
          "output_type": "execute_result",
          "data": {
            "text/plain": [
              "array(['1', 'a'], dtype='<U21')"
            ]
          },
          "metadata": {},
          "execution_count": 41
        }
      ]
    },
    {
      "cell_type": "code",
      "source": [
        "#Everything is Object in Python\n",
        "#When each element has diffierent datatypes, Numpy will not throw error message but will send warning message.This wil make every elements as \"Object\" datatype.\n",
        "a = np.array([1, 'm' , [1,2,3]])"
      ],
      "metadata": {
        "colab": {
          "base_uri": "https://localhost:8080/"
        },
        "id": "NkjzKYZKmR4l",
        "outputId": "586ac9e0-b53c-468e-950d-a4d8a3d4070e"
      },
      "execution_count": 42,
      "outputs": [
        {
          "output_type": "stream",
          "name": "stderr",
          "text": [
            "<ipython-input-42-0864525b392d>:3: VisibleDeprecationWarning: Creating an ndarray from ragged nested sequences (which is a list-or-tuple of lists-or-tuples-or ndarrays with different lengths or shapes) is deprecated. If you meant to do this, you must specify 'dtype=object' when creating the ndarray.\n",
            "  a = np.array([1, 'm' , [1,2,3]])\n"
          ]
        }
      ]
    },
    {
      "cell_type": "code",
      "source": [
        "a"
      ],
      "metadata": {
        "colab": {
          "base_uri": "https://localhost:8080/"
        },
        "id": "8vDrLCNumh_n",
        "outputId": "3fb741ef-e393-4dd9-d925-1f3a0feac387"
      },
      "execution_count": 43,
      "outputs": [
        {
          "output_type": "execute_result",
          "data": {
            "text/plain": [
              "array([1, 'm', list([1, 2, 3])], dtype=object)"
            ]
          },
          "metadata": {},
          "execution_count": 43
        }
      ]
    },
    {
      "cell_type": "markdown",
      "source": [
        " **`NOTE:`**      \n",
        " When the variable is stored as an **\"Object\"** as shown above, it will be a **\"Python List\"** and **not** as a **\"NumPy Array\"**. In such cases the \"NumPy\" facilities will not work since it only supports **homogeneous** data."
      ],
      "metadata": {
        "id": "_kK23Y-pZnA_"
      }
    },
    {
      "cell_type": "code",
      "source": [
        "a = np.array([1, 'm', [1,2,3]], dtype = 'object')"
      ],
      "metadata": {
        "id": "wrSGaYgUnSw_"
      },
      "execution_count": 44,
      "outputs": []
    },
    {
      "cell_type": "code",
      "source": [
        "b = a.copy()    #due to the above mentoned reason, this will not work and will still be a \"Shallow copy\" only..."
      ],
      "metadata": {
        "id": "vXDk_JSFmqqP"
      },
      "execution_count": 45,
      "outputs": []
    },
    {
      "cell_type": "code",
      "source": [
        "np.shares_memory(a,b) #hw #this should be True...need to check why it's show's as False..."
      ],
      "metadata": {
        "colab": {
          "base_uri": "https://localhost:8080/"
        },
        "id": "SnYedIllm-eC",
        "outputId": "d2485db0-3e51-495a-8637-c406bd0f0d3f"
      },
      "execution_count": 46,
      "outputs": [
        {
          "output_type": "execute_result",
          "data": {
            "text/plain": [
              "False"
            ]
          },
          "metadata": {},
          "execution_count": 46
        }
      ]
    },
    {
      "cell_type": "code",
      "source": [
        "a[2][0] = 5"
      ],
      "metadata": {
        "id": "3AExkvQPnQf-"
      },
      "execution_count": 47,
      "outputs": []
    },
    {
      "cell_type": "code",
      "source": [
        "print(b)    #shallow copy"
      ],
      "metadata": {
        "colab": {
          "base_uri": "https://localhost:8080/"
        },
        "id": "60auhtFenoce",
        "outputId": "1e782b5a-1ad9-4ac3-9ae5-80c0c23c5c49"
      },
      "execution_count": 48,
      "outputs": [
        {
          "output_type": "stream",
          "name": "stdout",
          "text": [
            "[1 'm' list([5, 2, 3])]\n"
          ]
        }
      ]
    },
    {
      "cell_type": "code",
      "source": [
        "a[2][1] = 100"
      ],
      "metadata": {
        "id": "0T-0BrCAnpVN"
      },
      "execution_count": 49,
      "outputs": []
    },
    {
      "cell_type": "code",
      "source": [
        "print(b)    #shallow copy --> these are special cases wherein even with .copy() being applied, we are still getting the changes of the original data..."
      ],
      "metadata": {
        "colab": {
          "base_uri": "https://localhost:8080/"
        },
        "id": "9Jz-E47Un0Ik",
        "outputId": "9b2c6464-2ee1-4fbc-d85c-aca385c92ff4"
      },
      "execution_count": 50,
      "outputs": [
        {
          "output_type": "stream",
          "name": "stdout",
          "text": [
            "[1 'm' list([5, 100, 3])]\n"
          ]
        }
      ]
    },
    {
      "cell_type": "markdown",
      "source": [
        "### **Deep copy for \"Object\" datatype**\n",
        "\n",
        "**If we still want to make sure that the changes made in original data/variable does `not` affect the new data/variable, there is a special case wherein we need to `import the module copy`.**"
      ],
      "metadata": {
        "id": "pQ9B2vLUbh82"
      }
    },
    {
      "cell_type": "code",
      "source": [
        "import copy"
      ],
      "metadata": {
        "id": "_o2UC8_ln0y1"
      },
      "execution_count": 51,
      "outputs": []
    },
    {
      "cell_type": "code",
      "source": [
        "a = np.array([1, 'm' , [1,2,3]], dtype = 'object')"
      ],
      "metadata": {
        "id": "DcveVcuioB7B"
      },
      "execution_count": 52,
      "outputs": []
    },
    {
      "cell_type": "code",
      "source": [
        "b = copy.deepcopy(a)    #special case for object datatype to have deep copy"
      ],
      "metadata": {
        "id": "t9c712RpoIxa"
      },
      "execution_count": 53,
      "outputs": []
    },
    {
      "cell_type": "code",
      "source": [
        "a[2][0] = 10"
      ],
      "metadata": {
        "id": "F_icB6LWoVAx"
      },
      "execution_count": 54,
      "outputs": []
    },
    {
      "cell_type": "code",
      "source": [
        "print(a)"
      ],
      "metadata": {
        "colab": {
          "base_uri": "https://localhost:8080/"
        },
        "id": "05Vxj7KHoXsj",
        "outputId": "1bb7d043-9dcc-43b3-fb1f-1a7827ff084d"
      },
      "execution_count": 55,
      "outputs": [
        {
          "output_type": "stream",
          "name": "stdout",
          "text": [
            "[1 'm' list([10, 2, 3])]\n"
          ]
        }
      ]
    },
    {
      "cell_type": "code",
      "source": [
        "print(b)"
      ],
      "metadata": {
        "colab": {
          "base_uri": "https://localhost:8080/"
        },
        "id": "Kp-HeX6voYWg",
        "outputId": "d3dbec0d-5c7e-4991-997c-5af832249fbd"
      },
      "execution_count": 56,
      "outputs": [
        {
          "output_type": "stream",
          "name": "stdout",
          "text": [
            "[1 'm' list([1, 2, 3])]\n"
          ]
        }
      ]
    },
    {
      "cell_type": "markdown",
      "source": [
        "# **Misc Topics**\n",
        "***\n",
        "Here are some **miscellaneous topics** related to **NumPy**"
      ],
      "metadata": {
        "id": "lCTIcjOzcc62"
      }
    },
    {
      "cell_type": "markdown",
      "source": [
        "### **Splitting**"
      ],
      "metadata": {
        "id": "snWdFXXTcqBa"
      }
    },
    {
      "cell_type": "code",
      "source": [
        "x = np.arange(9)"
      ],
      "metadata": {
        "id": "2CbJNXkZp5zl"
      },
      "execution_count": 57,
      "outputs": []
    },
    {
      "cell_type": "code",
      "source": [
        "print(x)"
      ],
      "metadata": {
        "colab": {
          "base_uri": "https://localhost:8080/"
        },
        "id": "ZhF-mTePqLHr",
        "outputId": "a57765b2-c45d-4952-b17b-143a1aacc0d2"
      },
      "execution_count": 58,
      "outputs": [
        {
          "output_type": "stream",
          "name": "stdout",
          "text": [
            "[0 1 2 3 4 5 6 7 8]\n"
          ]
        }
      ]
    },
    {
      "cell_type": "code",
      "source": [
        "b = np.split(x , 3)   #Histogram Bins in Tableau"
      ],
      "metadata": {
        "id": "YoqK-M9qqL5Q"
      },
      "execution_count": 59,
      "outputs": []
    },
    {
      "cell_type": "code",
      "source": [
        "print(b)"
      ],
      "metadata": {
        "colab": {
          "base_uri": "https://localhost:8080/"
        },
        "id": "Ab9VXyOIqZ09",
        "outputId": "ab0878e7-268d-4ef5-f24d-1f2b9d35891e"
      },
      "execution_count": 60,
      "outputs": [
        {
          "output_type": "stream",
          "name": "stdout",
          "text": [
            "[array([0, 1, 2]), array([3, 4, 5]), array([6, 7, 8])]\n"
          ]
        }
      ]
    },
    {
      "cell_type": "code",
      "source": [
        "b.ndim    #this will throw error message as the outer part is not a numpy array"
      ],
      "metadata": {
        "colab": {
          "base_uri": "https://localhost:8080/",
          "height": 165
        },
        "id": "07jRKyiDrIZY",
        "outputId": "48adf2ab-164c-4b11-ca68-38dfa5d8b9c7"
      },
      "execution_count": 61,
      "outputs": [
        {
          "output_type": "error",
          "ename": "AttributeError",
          "evalue": "ignored",
          "traceback": [
            "\u001b[0;31m---------------------------------------------------------------------------\u001b[0m",
            "\u001b[0;31mAttributeError\u001b[0m                            Traceback (most recent call last)",
            "\u001b[0;32m<ipython-input-61-becedfa95930>\u001b[0m in \u001b[0;36m<cell line: 1>\u001b[0;34m()\u001b[0m\n\u001b[0;32m----> 1\u001b[0;31m \u001b[0mb\u001b[0m\u001b[0;34m.\u001b[0m\u001b[0mndim\u001b[0m    \u001b[0;31m#this will throw error message as the outer part is not a numpy array\u001b[0m\u001b[0;34m\u001b[0m\u001b[0;34m\u001b[0m\u001b[0m\n\u001b[0m",
            "\u001b[0;31mAttributeError\u001b[0m: 'list' object has no attribute 'ndim'"
          ]
        }
      ]
    },
    {
      "cell_type": "code",
      "source": [
        "type(b)"
      ],
      "metadata": {
        "colab": {
          "base_uri": "https://localhost:8080/"
        },
        "id": "4JRvc-cUqanr",
        "outputId": "00644346-f113-411e-8846-e5aa3160a4cb"
      },
      "execution_count": 62,
      "outputs": [
        {
          "output_type": "execute_result",
          "data": {
            "text/plain": [
              "list"
            ]
          },
          "metadata": {},
          "execution_count": 62
        }
      ]
    },
    {
      "cell_type": "code",
      "source": [
        "b = np.array(np.split(x , 3))   #Outer List to Numpy"
      ],
      "metadata": {
        "id": "R900kkoXqmCO"
      },
      "execution_count": 63,
      "outputs": []
    },
    {
      "cell_type": "code",
      "source": [
        "type(b)"
      ],
      "metadata": {
        "colab": {
          "base_uri": "https://localhost:8080/"
        },
        "id": "4VLxxe19qwQU",
        "outputId": "63109314-5895-43ca-9481-f7cf21f0a505"
      },
      "execution_count": 64,
      "outputs": [
        {
          "output_type": "execute_result",
          "data": {
            "text/plain": [
              "numpy.ndarray"
            ]
          },
          "metadata": {},
          "execution_count": 64
        }
      ]
    },
    {
      "cell_type": "code",
      "source": [
        "b.ndim"
      ],
      "metadata": {
        "colab": {
          "base_uri": "https://localhost:8080/"
        },
        "id": "YywvDaMcqxHF",
        "outputId": "0111175c-6e34-4cc6-aa4b-454ff183fbb3"
      },
      "execution_count": 65,
      "outputs": [
        {
          "output_type": "execute_result",
          "data": {
            "text/plain": [
              "2"
            ]
          },
          "metadata": {},
          "execution_count": 65
        }
      ]
    },
    {
      "cell_type": "code",
      "source": [
        "np.split(x, 2)    #this will throw error message"
      ],
      "metadata": {
        "colab": {
          "base_uri": "https://localhost:8080/",
          "height": 311
        },
        "id": "dTWwsYNWqyS2",
        "outputId": "8704cc1f-c4df-4876-dd14-a0e684ad507e"
      },
      "execution_count": 66,
      "outputs": [
        {
          "output_type": "error",
          "ename": "ValueError",
          "evalue": "ignored",
          "traceback": [
            "\u001b[0;31m---------------------------------------------------------------------------\u001b[0m",
            "\u001b[0;31mValueError\u001b[0m                                Traceback (most recent call last)",
            "\u001b[0;32m<ipython-input-66-fb81f0f3815d>\u001b[0m in \u001b[0;36m<cell line: 1>\u001b[0;34m()\u001b[0m\n\u001b[0;32m----> 1\u001b[0;31m \u001b[0mnp\u001b[0m\u001b[0;34m.\u001b[0m\u001b[0msplit\u001b[0m\u001b[0;34m(\u001b[0m\u001b[0mx\u001b[0m\u001b[0;34m,\u001b[0m \u001b[0;36m2\u001b[0m\u001b[0;34m)\u001b[0m    \u001b[0;31m#this will throw error message\u001b[0m\u001b[0;34m\u001b[0m\u001b[0;34m\u001b[0m\u001b[0m\n\u001b[0m",
            "\u001b[0;32m/usr/local/lib/python3.10/dist-packages/numpy/core/overrides.py\u001b[0m in \u001b[0;36msplit\u001b[0;34m(*args, **kwargs)\u001b[0m\n",
            "\u001b[0;32m/usr/local/lib/python3.10/dist-packages/numpy/lib/shape_base.py\u001b[0m in \u001b[0;36msplit\u001b[0;34m(ary, indices_or_sections, axis)\u001b[0m\n\u001b[1;32m    870\u001b[0m         \u001b[0mN\u001b[0m \u001b[0;34m=\u001b[0m \u001b[0mary\u001b[0m\u001b[0;34m.\u001b[0m\u001b[0mshape\u001b[0m\u001b[0;34m[\u001b[0m\u001b[0maxis\u001b[0m\u001b[0;34m]\u001b[0m\u001b[0;34m\u001b[0m\u001b[0;34m\u001b[0m\u001b[0m\n\u001b[1;32m    871\u001b[0m         \u001b[0;32mif\u001b[0m \u001b[0mN\u001b[0m \u001b[0;34m%\u001b[0m \u001b[0msections\u001b[0m\u001b[0;34m:\u001b[0m\u001b[0;34m\u001b[0m\u001b[0;34m\u001b[0m\u001b[0m\n\u001b[0;32m--> 872\u001b[0;31m             raise ValueError(\n\u001b[0m\u001b[1;32m    873\u001b[0m                 'array split does not result in an equal division') from None\n\u001b[1;32m    874\u001b[0m     \u001b[0;32mreturn\u001b[0m \u001b[0marray_split\u001b[0m\u001b[0;34m(\u001b[0m\u001b[0mary\u001b[0m\u001b[0;34m,\u001b[0m \u001b[0mindices_or_sections\u001b[0m\u001b[0;34m,\u001b[0m \u001b[0maxis\u001b[0m\u001b[0;34m)\u001b[0m\u001b[0;34m\u001b[0m\u001b[0;34m\u001b[0m\u001b[0m\n",
            "\u001b[0;31mValueError\u001b[0m: array split does not result in an equal division"
          ]
        }
      ]
    },
    {
      "cell_type": "code",
      "source": [
        "print(x)"
      ],
      "metadata": {
        "colab": {
          "base_uri": "https://localhost:8080/"
        },
        "id": "uVMRAjlKrUbR",
        "outputId": "8e20aac1-fa86-4ff8-b484-fce992f546fc"
      },
      "execution_count": 68,
      "outputs": [
        {
          "output_type": "stream",
          "name": "stdout",
          "text": [
            "[0 1 2 3 4 5 6 7 8]\n"
          ]
        }
      ]
    },
    {
      "cell_type": "code",
      "source": [
        "np.split(x, [3,5,6])    #split value based on index"
      ],
      "metadata": {
        "colab": {
          "base_uri": "https://localhost:8080/"
        },
        "id": "0fvwAD_prkMf",
        "outputId": "0b8a8419-e1a8-4a19-c9f8-724218db2ed9"
      },
      "execution_count": 69,
      "outputs": [
        {
          "output_type": "execute_result",
          "data": {
            "text/plain": [
              "[array([0, 1, 2]), array([3, 4]), array([5]), array([6, 7, 8])]"
            ]
          },
          "metadata": {},
          "execution_count": 69
        }
      ]
    },
    {
      "cell_type": "code",
      "source": [
        "x = np.arange(5,15)"
      ],
      "metadata": {
        "id": "HS0zmzr3sliq"
      },
      "execution_count": 70,
      "outputs": []
    },
    {
      "cell_type": "code",
      "source": [
        "print(x)"
      ],
      "metadata": {
        "colab": {
          "base_uri": "https://localhost:8080/"
        },
        "id": "F9y2yMLDspeg",
        "outputId": "a873fc36-0983-4e2c-c8e2-122f9d70bbe2"
      },
      "execution_count": 71,
      "outputs": [
        {
          "output_type": "stream",
          "name": "stdout",
          "text": [
            "[ 5  6  7  8  9 10 11 12 13 14]\n"
          ]
        }
      ]
    },
    {
      "cell_type": "code",
      "source": [
        "np.split(x , [2,4,7])"
      ],
      "metadata": {
        "colab": {
          "base_uri": "https://localhost:8080/"
        },
        "id": "ZR8-gzu9sByn",
        "outputId": "7f1e9da4-5e19-415f-b930-90c3423ecda9"
      },
      "execution_count": 72,
      "outputs": [
        {
          "output_type": "execute_result",
          "data": {
            "text/plain": [
              "[array([5, 6]), array([7, 8]), array([ 9, 10, 11]), array([12, 13, 14])]"
            ]
          },
          "metadata": {},
          "execution_count": 72
        }
      ]
    },
    {
      "cell_type": "markdown",
      "source": [
        "#### **Horizontal Split & Vertical Split**\n",
        "\n",
        "**Expected o/p**\n",
        "\n",
        "![Capture.PNG](data:image/png;base64,iVBORw0KGgoAAAANSUhEUgAAAmkAAAGaCAYAAABUn9T4AAAAAXNSR0IArs4c6QAAAARnQU1BAACxjwv8YQUAAAAJcEhZcwAADsMAAA7DAcdvqGQAAJbjSURBVHhe7b0FmBzVurb9H3f9zjnf0e/YVmCz2YYGhxAghIS4JwQCCQnEPcTd3UPc3X0m7u7uPu7+/v2sXqumuqd7JJmZrq5+7ut6L6ZWV/dUdXdYz7z6/wkhhBBCCHEcFGmEEEIIIQ6EIo0QQgghxIFQpBFCCCGEOBCKNEIIIYQQB0KRRgghhBDiQCjSCCGEEEIcCEUaIYQQQogDoUgjhBBCCHEgFGmEEEIIIQ6EIo0QQgghxIFQpBFCCCGEOBCKNEIIIYQQB0KRRgghhBDiQCjSCCGEEEIcCEUaIYQQQogDoUgjhBBCCHEgFGmEEEIIIQ6EIo0QQgghxIFQpBFCCCGEOBCKNEIIIYQQB0KRRgghhBDiQCjSCCGEEEIcCEUaIYQQQogDoUgjhBCHkpebK9kXz+ojQkikQZFGCCEOJfn79hL74o8k68gBvUIIiSQo0gghxKFkbtugRFrKgG56hRASSVCkEUKIQ8m5c0uJNFheXp5eJYREChRphBDiUPKys5RAi3v315KXkqxXCSGRAkUaIYQ4mLiPX2NOGiERCkUaIYQ4mIS6H0nW/l36iBASSVCkEUKIg0lsXkcyd2/XR4SQSIIijRBCHExS2y8lc8cmfUQIiSQo0gghxMEkdf5GMqO36iNCSCRBkUYIIQ4muUcbhjsJiVAo0gghxMEk9+4gmft26iNCSCRBkUYIIQ4mpX9XyTq4Rx8RQiIJijRCCHEwKUN7SdZR9kkjJBKhSCOEEAeTmxCnJg8QQiIPijRCCCGEEAdCkUYIIYQQ4kAo0gghhBBCHAhFGiGEEEKIA6FII4QQQghxIBRphBBCCCEOhCKNEEIIIcSBUKQRQgghhDgQijRCCCGEEAdCkUYIIYQQ4kAo0gghhBBCHAhFGiGEEEKIA6FII4QQQghxIBRphBBCCCEOhCKNEEIIIcSBUKQRQgghhDgQijRCCAkDMvdEScrQXvqIEBIJUKQRQojDyU1OkriPX5OsIwf0CiEkEqBII4QQh5MyqKcktW6ijwghkQJFGiGEOJjsi2cl9sUfSfa5U3qFEBIpUKQRQoiDgQctsWVDfUQIiSQo0gghxKHk5eZK7Ks/l4yNq/QKISSSoEgjhBCHkpeXJ3GVK6jKTkJI5EGRRgghDia5ZztJmz9DHxFCIgmKNEIIcTAZq5ewspOQCIUijRBCHExeWqrEVXxRcu7c0iuEkEiBIo0QQhxO+oKZkrlzmz4ihEQKFGmEEEIIIQ6EIo0QQgghxIFQpBFCCCGEOBCKNEIIIT6gP1tubq5k52RLlscys7MkIztT0rMyJM1jqZnpkpKRpiw5I1WS0lMlMT1FEtKSJT4tqUjDc/BaeH38LkJIYCjSCCFhAYRClRmdZMyuJXrFWUDUQKzcS3wslx/fllP3rsihm+dk19UTsvnCQVl9ZrcsOr5NZh1aL5P3rZRROxfJoO1zpPfmGdJ9wxTpvG6itFs9VlqvGCktlg2TLxYPksYL+0v9eb2l1pyeUu2HrvKJ5/4rTW0n7076Vt6Y0FJeHfuV/G50M3lhRGN5dmgD+engOvI/A2rKf/StJv/Su4r8Q8+P5G+6V5S/6vae/GXX9+Qvur4rf97lHfnTzm/Ln3R6S/6405vyRx3fkD/02O93qCC/1/41+f9CYH/Q4XV1Lbi2v+3+gfzfXpXVPfxoYC15Zmh9dX8vjflSXh/fQt37R9PaS9WZXdT70nBBX2nmea9aLh8ubVaNkS7rJkmfzTNl6I75Mm73Upl+YI3MP7pZVpyKVp/D/hun5dyD63In4ZESixSJxMlQpBFCwoJNFw6oDR1i40nBhgwPTmxqotyOfygXH92U43cuyd7rp2TLxYOy6vQuWXBsi0zzbOwQUf22/KA2/VYe4dTEI5hqzO6uRNJr476WXw5vLP87sKYSFBA//sIjlAaxBeEFMYZrg0grzP662/tBDY/bBd6feV7TiDyY/fdCbEHs2decbrjmf/z+YyVwIXorT++oxHH7NeNk4LbZMnX/all7do/6rlDQkfKGIo0QEnIQ9kKoDN4NbIZHb19QHqiN5/fLspNRMu/oZvmv/tWtjfXblaOUBwoC6ruVo+WrpUOVR6X6rG5KRMHL9NtRnysvDJ73T70+VkLjaQUENnS8Djb1/+z/mfxscF351YgmanN/b/J3ytMF706jBf3UNeHa4CH7ftM0teGPjF4kE/eukBkH1yrvznLPva05s1vd59aLhyTq8lHZfe2E8vYcvnVevlwyWP3elad3yqVHt+RazF25Ff9A7iY8lodJcRKTkqDeNxM+RGgSHr3yAmHPHw+qrbx9L49prq7bAEGTk5ujrgmhUpyL60S481FynPqsr8bckfMPb8jJu5fV/e65dlK2Xzoi68/tU56vhce2yg/a8wgP6pAd86TvlpnK8wgRBfEMjyM+e7zv8LRWnNJGedx+oz///x5QQ/659yfKo4jPz/8zLYn9e9+q0mntBHUfhJQHFGmEuABs3ginYTOHwSOEjQ4bP8TOgRtn5Nidi3Lm/lW1KV54eFNt+gjLXXl8R22W12PvyY3Y+3Iz7r56PTyG887ev6ZCd/A4Hbl9XnmddnjExAa/jXTS3pUyetdiGbx9rvTcOE2F7r5eVlA8YfOEuEE46+97VCrgjXkSg9cIXh94tbApY3OGSMNm/cGUtio0VnduLxUWw8aOjbbXpulq0x9rC4nhvYPHDu8ZhCLuHx63uNREFW4tTyByEMLE/e28clyvOgt4mSBakaeG7xaEkpPBe4qQNL7jJ+5eUt9j/BGA+0DouePa8fL5ooHy6czOUmFcC/U9RcjY//uGcCsh5QFFGiFhDpK3kX8EEfTmhG/k1yObKu8G1rCB+m8w5WHwWCBMBg8WPFk/H1JPiTOIJng6sAnWm9dbeUHgbeq6frL03zpLeZqm7F8lc49sUgLQCCbkduF1Ibwm7FmuPGgQTvDOwFvjRiCUcc8QPuvO7tWrzgKf5WceAW5A3pgbPw94ziDo4Kkz33F4MgkpayjSCAlzECp8fngjFe4KBMJfEHL3E2OU9wweD3gR4BWDhw0hpugrx1SYCYnV8JAh/Iafkae17dJh9RhCcThv3/XT6rmn711VoUl435Asj9AbNjN4nEo7dwevB8EJDxg8eQh1uh0UGCBEh+R3eCudBrxnKDpA+NaA8CyS8t0K/igwxRXwuhJS1lCkEeICkO+EvC23Aq8ZNkbkJUEgIizldpC8jrAa8rGcKNIg7vGZIJfMgIILN38PkVtnRNrMg+v0KiFlB0UaIWEO8qZQaYjQoVtBYjk2RuQPIbcOeWVuBp7Df+1TRYZFzVf5Uqg4dRqofkUhBjxqBuQ7wvPnVuCBxvcQ5tQ8QeIuKNIICcDj2DTZHn1LLl+N1yvOBZ4MbBpIkHcrCL/iHuG9gShFAYCbQUga9wuvIfLRhkctkKyTRyUvI3BIOxSgJQlyHyMJeDXxucCbhua9hJQ1FGmE+LFmw1WpWG2FvPfpcnm/6nI5fzFWP+JMjEiDt8mtoGUF7hE5cGjfgGpRNwMvFZq6IgkfVbffj20vcRVflNzYGH1G6EGBCnqKRRIQpvgeohCGkPKAIo0QG8tWX1LirE3XaOVNa9l+h0Tvua0fdSZI4DdeF7eCyk/cI3psoRDirYmt9CPu5MNp7VUlIchJS5Mz7/1SMtYuU8dOAOFYNLZtu3qMXokMnhvmbYnSYH4fvUJI2UKRRojmwOH7SqDB6n+5URp+tUn9fONWoj7DmaApKDYOp7ZpKA0w8geVhKZqFCKtPJu2lieojoUAQjsSkDZ1jNxq9EmpV8w+DajkxXcOOXORAqqnTTPcSLpvEloo0gjxkJiYITUarbNEmr8dP/VQn+k8EBLDxuHmajOEN9H3zYCGo2jA60bQYgSfJzyjObduSGyFZyT73Cn9qDNAY2Nco5srOf1BqB33DMOUCELKA4o0QjwMHHEwoDizm5M8Gf5g4xi/xznhsNLm/cltfJLUUUG49MQOfeQuENpFTzj0v0tq+6Ukf++87vYQKfjOoYdepIBegUakYRoFIeUBRRqJeA4dfRBQlPnb0lWX9DOcBzYON4dg0Mn+hRGN9ZGoUVaYj+lGMAMUojT7whmJffFHknPTec1h0Q8N3zm0pIgU5hzeaIk0NIYmpDygSCMRDbxjrTtGBRRl/vZhjZXy8JEzBytj48BoJbeCWZyvjftaH3mxd7p3C8izwwzSHhunSnLvjpLYKl+YOokB22ar7xyGvUcKmEtrRFqw6R6ElDYUaSSiOXHqUUBBFsx6D9qvn+kssHG4ucHrv/etquZEuh2T97Rq/3qJff1ZSV+1WD/iLDBvFdeJMUmRAkaR4Z4xzN/JqQ/EXVCkkYim54B9AcVYYYYqUKfRYtkw6bDGvaOS4F2q9kNXfeRe5h/drITA7RVzVagz97EzC1YaLuirKh0jSay0WTVGfTboX0dIeUGRRiKWleuuBBRhdvu45qoCa1+03iq5uc7anFDt2H7NOH3kPiAI6s3rrY/cC/qOYah66sQRqqrTqSKo5uwe8med39ZHkQGmXECk/VufT/UKIWUPRRqJSCCy/MVXSWzHrlv6lZwBBIxbRRqqHLE5Nl00QK+4l3cnfSuvjv1Kkvt1kbhKL+tV5/HJjE7yV93e00eRQZ2536vv4Y8G1tIrhJQ9FGkkYgkkvoprTVpslpwc53g5EAp0q0hLyUhTm+PXy4bqFffyf3tVVh6b1HFDJPaVnzpqDJQdVJ/+XY9K+igygDDF9/AXwxrqFULKHoo0ErGMmngsoAArrjkpNw1jhLqsm6SP3IXpbv/tylF6xZ1gJinuc+iO+ZJ96bzKSUubO00/6izemNBS/vH7j/VRZPDOpNbq83lx9Bd6hZCyhyKNRCynzz4OKL6KaxB5TgFjklB95kbuJjxWm2PHte4tjAB7rp1U92m62Sc0qirxVd+WvOxsdewk0A7ln3pFlkj73ehm6vN52+VzY4mzoEgjEU1sXLokJ2fqI5Hs7FxJSc1S/dAuX42X6o3WBhRosInTT+pnhZ6XxzSXQdvn6CN3cS3mrtocu2+YolfcCUYs4T4vPfLmO2ZsXqu8afiv00DeXKR50jDxAp/PZ7O66RVCyh6KNEIK4dN6a5QgW7jsgty+kySjJx6T2k3XS6fvd0tcvHN6RKEb/6id3oHcbsP0Duu1abpecScYB4Uh8iiUAHk5OZJQu5IktW6ijp3EK2Obyz/0/EgfRQYQpfgeRkIBC3EOFGmEBAEVoO9X9XrNVq2/oledCSrOpuxfpY/cxfXYe2pzdPNEBfDF4kHy8yH19JGXzN07JPbln0huzGO94gyQkxZJ1Z1ohQIBje8h2qQQUl5QpBESBIQ9TWhzy44betWZ/H2PSrL4+DZ95C7uJXpz0ty+OWJm5wdT2uojLxAHCY2rScaGlXrFGaBQ5fc8n0mkNLPFZAV8B2F9Ns/Uq4SUPRRphAQBeWlGpO3ad0evOg/Me8SGueXiQb3iLmJTE9XmiKkKbgbeUHTy9yd90SxJGdJLHzmD6rO6qc8kUsZCmeIVGGZ4ElJeUKQREoRrNxIskXbkuHMHScenJanN49DNc3rFXRgvBqYquBUI7T/u9GbA0V65MY8koZGzutw3WtBPfSYPkmL1irs5c/+qJdJmHVqvVwkpeyjSCAnC2Qsxlkg7fc6ZTUXB1Zg7avMwVYFuIyc3R92fm8dCGU/NsKj5esWX1InD9U/OAF5NXO+Vx871MJcmOy4fVfcLW39un14lpOyhSCMkCEdPPLRE2qUrcXrVeRy+dV5tHmiG6lYwuxMhNrdiPsM5hzfqFWcDjx+u98TdS3rF3Sw6vs0SaW71WBNnQpFGSBD2HrxribQbtxL1qvPYfOGg2jwys7P0ivv48y7vyEfT2usj97Hu7F71GeKzDAfQDgXXu/vaCb3ibsbuXmqJtBuxzpk0QtwPRRohQdi+85Yl0u49SNGrzmPhsa1KxLiZf+79iVQY10IfuY+ZB9cpARAunqnhUQvU9a49u0evuJseG6daIi1SiiWIM6BIIyQIG7Zct0QaJhM4lfF7lsm/9XFWYnlp8+zQBgV6iLmJwdvnKgFwP9G5uY92EJbF9U4/sEavuJvmS4eo+3X7H0PEeVCkERKEFWsvWyLNPjrKaSD09MvhjfWRO3H7QO92q8cqEWCmDTgdE2LHlIRIoNoPXdX9/mf/z/QKIeUDRRohQcAoKCPS0jOcu3l+s3yEvDvpW33kTjAvEcUDaFXhRtAf7W+6V9RHBcm5f1f/5AyO37mkREurFSP1irvBbFzc74ujv9ArhJQPFGmEBGHuonOWSMvKcq44qDWnp9T2mJv5cslgtUnGpTq3gONpQAf//xlQUx/5kpecJEkdnZWPh7AsPo9IGTYODxru99OZnfUKIeUDRRohQfhh/llLpGGOp1N5Z1Jr5U1zM53XTVSbJHrCuZHfjvpcfje6mT7yJevwfkmbOUEfOQN4NP+w4xtBr9lNYPQVGg3j+/f1sqF6lZDygSKNkCBMm33aEmlO5hfDGqq8NDdjEuvRT8yN/Ff/6lJpajt95Evq1DGSdeSAPnIO8C79S+8q+si9xKQkqO8ejHM7SXlDkUZIECZOP6kEWsVqzhZp2CjH7V6qj9zJlP2r1CYZLn3ESspfdn1P6s4tOJ8TXpzEr+tJXk6OXnEOr437Ws2MdXN/PnD6Xv5IqKn7V+tVQsoHijRCgjBuynEl0j6svlKvOA9s4n/U8Q3VK83NLD2xQ22SbrxPVHTi3gINkM++cEZShvXRR84CeZC47uux9/SKO9ly0VvJCrP3hUPIlz3TSFlDkUZIEEZOOKpE2sc1V+kV55GQlqw2j60XD+kVd7Lt0mF1nxP2ONur+SSgGAL31mXdJL2ST+rYwZJ16pg+chbt14xT173rqnumDqRkpCnRidFPmNH5w6H18vc9Kqn7DGY1ZnfXzyak9KFIIyQII8c7X6RhwDU2CrREcDNHb19Q99lvyw96xT1AFODeBm2fo1e85KWnS2Lzuspb6kTG7FqirnvukU16xVnAQ4k/Yu4kPJILD2/KvuunZcWpaJm4d4V8v2mafLV0qFSd2UVeGdtcVdb+Rdd31f08iRFSVlCkERIEI9I+rOHccOf+G6fVJnE7/qFecSfXYu6q+2y7eoxecQ8YBYV78/cSpi9foKwocnJzJD0rQ5LSUyU2NVEeJMXKrfgHqhIW4gQ5VcfuXJSDN8/KnmsnJeryURXCg6do1eldKpS84NgWmXVovUw7sEZdBwTYiOiFMnTHfCUeIY57b56hxiN1XT9ZOq2dID8aWMsSKah6/GLxIGm6aIA0WtBP6s3rrcKhGIoPIfTJjE7y8fQOqjii4pQ28t7k7+Ttia3kzQnfqHFfr479SvUiQx8yVIyi2vU3HvvViCbywojGqlkzCmSeG9ZAnhlaX346uI78eFBtJa5QdPEffaupqRv/1Otj+etu76sUAHNtZW1uzwcloYUijZAgGJFWqfoKveI8kCODjSLNs0m7GRPWbbywv14pXeCtQgJ8fFqS3E14rDyUZ+9fUwIKFaXwwuy8cly2Xzoimy4cUO/7ytM7ZcmJ7TL/6GYlcDAiadLelWoY98joRTJkxzzVkR+Vt903TFHCBiITDWAhapp5RA0EDcSF2fDfn9zGK1xGfiHH3ntefjewrvxkUB0lRP61TxU1deFvu3+gvD5oC4HEffNcWsntTzu/rd5/CMC3PKIRkwU+XzRQhXIhTCHA7Ofj+wDPZ3JGqmM9nMRdUKQREgQj0ipWc65IQ84MNmy3gyTt3+9QQarM6KR+TkxPUd5DCKkDN86onDV4hSCYUAkKLxDaJXRcO15aLh+uxBAar8KLA68NPDP/O7Cm/N9eleWvur2nphnYN+NQW7O6v5Kxnzyn7hliDDMjcZ1/16OS/EPPj9R1Q1z8v36fyX8PqKG8Wj8bXFfNOH1+eCP59cimyiMF7xQ8VRB+6KeH+0fj3MrTOyoPFzxdaIaMylJMPWjiEcEQj2gejHAgxCQKGvAeohdfa4/A/HblKPlu5WglZsz1dlgzXr3XEKLoaYf8OnjcIE7hffM3rPtbN8/5eA6ei9fAa8Hwunh9CCeMzyrK8Fz8Dnz+8ARCNMNDiKITfE8gtPDdKe4fNnjvcI/w4BFS3lCkERIEI9JgTmVY1PywmCcIYYVwHLxU5x/eUKE3bJjIEZp9eIPyWAzcNltt0hACEAsQEPAsvTTmSzVc3QiCJzGIHYicf+79iRJnEGkQa3h9CD+E5vA7IUiw0UMwILwHTxh6tA2PWiCjdi5Sw+wn71upvGYQyMjHwuaPkCE8a2vO7JYN5/apcOKOy0dVUj28cLhf5NWdvHtZCcuLj26qcOSN2PvqM8Q14r3Ae5SamixxH70iWcecXwyCpHq3z7NEaBWfD0QuIeUNRRohQbCLNKeGNuA1QO7Ok4LkagiDh0lxSjBAQCF/ae/1Uyq0h7yl5SejlIdqxsG1SqTAOwEBAy8HQnfwqNSZ+73KO8IMUSRiQwQhZwjeHuQIlTQs9yed3lICAGE+eIbgDTKPwcMD7wrCUcidwnUtOr5N1p3dq/KtUJkHIYT7eZwSr/K1nByagtjDfSG/EGRGbZa4D14Mi3AacsYggJEX51YwUxWfT6A+doSUNRRphATBLtKcNhYKOTFo3YDka4iZjef3KyEFjxTCPMh9QtgKoSyEtyByIJyQaI3kaniVMNbHCJ+SGsKDaMCKHCl4UhBqw4YN7xSEGgQbfjdyyBAmg5iEqBq9a7HyQhlRhTwveJiQ4I4qPOSeQTgGAh4NmNtAKA7vqZmmkNS+uST3aKN+djooBsC130t8rFfcBQS++c63WeW+ohXifCjSCAmCU0UaPCxm4zCG/CL0a0LYDpV1yMFCtR1yibC5wOuFPJ2+W2aq8B1Cd2hFAC/UPI+4Q7gOoTp09I++ckx5deBRg0fq8uPbqloQVYMQUVlBRFRZA48acrDcBj4HfIbIlcqNeSyxL/9EMlYv0Y86G3zHcO1uHdeF3DXzbwyhb0LKG4o0QoLgZE8aQL4TNg9U/0UCaM8AL6DbMP3Gzty/qsRZ7Is/kpw7N/Wjzqbnxmnq2ld7BL4bQf9BI9JQuUtIeUORRkgQ7CItJ8eZ+UFoy4ANxOQzuZnXx7dQ+W1uA5Wo+AxRTJDcp5PEvfebsGnvAOGCa4c30I2YSRcwtFshpLyhSCMkCCPCQKShZxYqD9Hs1e2gEhPtKNwGws8QAaj2TKjzoRqoHi6g7QmuHaF0N4LcSSPSINgIKW8o0ggJgtNFGpqvYvPARhkJoBgB9+u2SkLkOuG+UI0a986vJLlr+LR62H3NG3IPNBzeDWD6Au4P5vbRa8SZUKQREgRfkZarV50Deo5h80AfrkgAhRG439TMdL3iDlCNi/u6/fCWykdLGdBNP+J80O4E1442LG7EfDYwFM8QUt5QpBESBKeLNJPUjOrLSKDB/D7qfjGf0k1g2Dfu696dq16RNqyPfsT5mLmj9ef11ivuApXRuD8Y2t4QUt5QpBESBKeLNLTLwOaBEUmRAPq+4X7RT81NYCQS7uvh7WtekTa8r37E+Zx7cF1dO7ycbsQ++gpTMwgpbyjSCAmCXaRlZTnvf9Dob4bO/OFSCfi0oOcbNksMP3cTmFWJ+4pJipPY156RpE4t9SPOB58Frh35gm6k5uwe6v4iYT4ucSYUaYQEYcykY5ZIS88ITQPXwhgZvUj+o281feR+MLkAG6bbwrsYcYX7ik9Lkvga70tC/cr6EeeDPC1cOwa3u5EPprRV9+fG/nwkPKBIIyQIE6adsERaSkqWXnUO8MA8zdzOcMN40twm0jDQHfeFGapJ330usW/9Mmy8o/cTY9S1vzWxlV5xFxhzhvvDODVCQgFFGiFBmPLDKUukJSRm6FXngBwtzOWMFNDmARvmpUe39Io7+G7laHVfqFpNGdpL5aVhPFQ4gAH2uHY0GnYjvxjWUN0f/ktIKKBIIyQIM+eesURaTGyaXnUOyAPCjM5IwYg0dOZ3E61WjFT3lZGdKenL5yuRlrlvp37U2SBEi2t/ZWxzveIufjSwlro/jCQjJBRQpBEShLmLzlki7cFD55XfvzymuXRYM14fuR+3etLMfWFwffa500qkpU0fpx91NgjR4tp/N7qZXnEX/9bnU3V/Fca501NInA9FGiFBWLjsgiXS7txL1qvOAXkyQ3fM10fux4gZt+WkNV86RN0XWjzkZWdJ7JvPS1KX8MjxSsvKUNf+65FN9Yq7+D89P1T39+6kb/UKIeULRRohQVi2+pIl0m7ccl4D1b/s+p7MOrReH7kft4o00//NFAsktf1S4mtWVD87HXj/cO3PD2+kV9zFn3d5R91fJOV+EmdBkUZIEFauvWyJtGvXE/SqMzAejA3n9ukV9+NWkdZ00QD5Pc99GdIXzZLYl38ieRnOK1bxB3l0+Ex+NaKJXnEXv9+hgrq/T2d21iuElC8UaYQEYdX6K5ZIu+owkXYz7r7aPI7cPq9X3I9bRRqKP/6gw+v6SCTn2mWVl5Z98ZxecS4mJ82NifUY5I97g1WfFT7zVIm7oEgjJAirbSLtyrV4veoMIM6weUCsRQpuFWmYe/lHHd/QR6LCnnEfvyYZm1brFeeCOar4TNyYWG+8hLBac3rqVULKF4o0QoKwZsNVS6RdvuoskYYwJzYPhD0jBbc2s60z93v5405v6iMvSZ2/kbRZk/SRczHNbN92YTNbDFQ3Iq3u3F56lZDyhSKNkCCs2ehckTbn8MaImyfoVpH22axu8lfd3tNHXtJmTlSNbZ2OGQuF8UluI057CWEN5vfRq4SULxRphARhrU2kXboSp1edwYjohfJf/avro8jArSLto2nt5R96fqSPvKCZbVJ75zeIRc86fCZVXDhg/WFSnCXSGi/sr1cJKV8o0ggJwrpN1yyRdvGys0Ra1/WT5bcRNLcTuFWkvTOptfx736r6yAvGQiU0rKKPnIvJjXSjp+l67D1LpH29bKheJaR8oUgjJAjrNueLtAsOE2lfLB4klaa200eRgVtFGkYq/e/AggO8Exp9qn9yLtsvHVGfCT4bt3H2/jVLpGEIPiGhgCKNkCCst4u0S7F61RlUndkl4vJk4M3Ahnkt5q5ecQe/HN5YnhvWQB/lk3PX+WJ05emd6jPpss75RQ4l5dDNc5ZI67Fxql4lpHyhSCMkCBu2XLdE2vmLzhJpaHnQZtUYfRQZwHuIDdNtbUcw3itcB5TPPrxBfSYDts3WK+4h+soxS6QNdOH9kfCAIo2QIGzcmi/SzjlMpP10cB1XboyF0WRhf7Vh3k14rFfcAYoGKk5po4/Ci7G7l6rPZJznv25jvW5zAxu9a7FeJaR8oUgjJAibtt2wRNrZCzF61Rlg8POU/av0UWSApq/YMFF15ybQIw1tOMKRflt+UJ8JPGpuY9nJKEukTd63Uq8SUr5QpBEShM3b80Wak8KdGFeDWY/LPZtIJFF7Tk+1YaLLvVswXe3DtcXDtytHqeuH18ltzD+62RJpPxxar1cJKV8o0ggJwpYdNy2R5qTqzkfJ3v5NO68c1yuRAbxNuO+EtGS9Ev6Yjv2tV4zUK+EFOvHj+g/ePKtX3MPMg+vUvcEWHNuiVwkpXyjSCAnC1qh8keakPmmmNQD+G0mgqz3uOzsnW6+EP6fuXVH3hLBhOPLe5O/U9but4hZM2rtS3RsMoU9CQgFFGiFB2B59yxJpThoLBQ8aNg635WYVxatjv5I/7fy2PnIH2y4dVp9luOY8oX0Irj8pPVWvuAcUCxiRtvbMbsmNi5GsE0ckc9sGNQSfkPKAIo2QIGzf6UyRtuJUtNo43ORRKg7PD29UYHxSuIMwGj7LcM0v/Lc+n6rCBzeIFtxDbkK8ZJ8/Ixlb1smW7l/KpMrPyZZ3fiYP33peYl/5mcTXrChJXVpJXlamfhYhZQtFGiFBiNp12xJpV645R6RN3b9a/q5HJX0UOfz3gBrK3ITx1uy+dkKvFI+cB/ck+/Rxydy/S3l2Mjatloz1KyVj3XLJ2OD5r0dkZO7YJJm7tknWwT1KeOTcuyN5qSmlJqjwOhBo/9rH+eOrQF56uuTcviFZxw5Jxua1kjZ7iqQM6SVJbb+QhDofSuybHiH24o8krtJLkti8ruxqUUNa1n5BKjb5rezfvUHysgP/UYT3AXmimGOK8DWa4OLzvB3/0BXilYQWijRCgmAXaVevJ+jV0IPGmj8eVFsfOYPc5CTJWLVYUob1luSe7SSpXXNJbN1EEls1lsSWDT3WQBK/aSRJnrWkNs3U40mdWkpyr/aSMvh7SR03RNKmj5P0+TPU6+SlFCwO+MfvP5ZfDGuoj0oHbLy5sTGSc+2yEjLZ50577JRknzmhRFD2qWNeO3vS+/jFc5J95aI6P+fGVbXpQ/zkPnqgwmG5iQleIZSZIXm5ufq3BKfb+slKpF14eFOveK7J8zwICrxW7uOHknP1kmQd2icZq5dIysDuEv/pm0pMPLG9+nOPEHlZEmpXksSv60ly746SOnWMZKxZKlmH90vOnVue9yVLX01wkjNS1bXDw2kHwgQVyKhcTc1Ml8T0FFWRCyFzL/GxEi+Yi4nxXrjvM/evysm7l+XwrfOy7/pp1UR268VDqmJ01eldsuTEdlVpiQpLtJ0Zv2eZjIxeJEN2zFO5fL02TJF+i4bL0Mk9ZOyQ1jKjexNZ1Lq6rGvygeyqXkFOfvBrufn6z637j/HYxbeek+hPfieL6r4ho76sKB3bVpH6PWrK64MbygsjvBMgcG92gxf3b7t/IH/V7b0CjwWzr5Zy5id5OijSCAmCU0Ua5gi+PKa5ZyNPU0IiY9MaSV88R9LmTpO02ZMl7YdJkjZjvKR5Nt7UKaOLtsmjJHXSSEmdOFxSxw9Tgil17GBJHT1QUkYNkJSR/SVleF8lwFKG9lKiCmIhuW9nSf6+vSR3bS3xVd7wFQIei3v/dxJf431JbFZTktp+Kck92krKgG7q9VInjvBeI8wjzqxrVdcxQgkef5CPhs78EADpWRkqDwqbP3Lz7iQ8Uhs/vBnnHlxXmz6Gfx+4cUb2XDsp0RcPy76NC+XIxAFyrv3ncrtKBXn4xnMFrrmkFvPSj+XRKz+VBxWekftv/kLuvv1LufPer+TWB7+VGx+9JNcqvyJXPq0gl6u9IRdrvC0Xar0r5+u+L2frfyBnGn4oSz54Rtmx+hXldMOPPPahnGr0kZz4vIocaf6ZHGpZS/a1bSDRXb+QLX2+ka29W8rOTk1lX+s6sq9lTdnXoobsbVlDdrauLdva1JPN7RvIRo9taltPNn1XRza2riWbvqkhm1tUk63NP5XtzSrLjiYfSnTDirKz3ruyp+YbcrTyi3Lh3eflzms/s+7rscfOv/Ws7Pjo1/Jur+qqeTLmi/5n/8/UMPh/7v2Jjxj58y7vKK/aH3R43We9NOyP274q/9LqZXnpi99JnQa/li7VfylTPn5ONr37czld4SfySF+zsbsv/UgOvvlTWV7xGRn9yXPSscYvpa7nea83+538T8uX1OsF+j1lYX/d7X1608hTQZFGSBB27MrPSXNSuHPA4JZy6OPfSaxHINg3J8ve+qXEf/K6JNT9SBK/rK08V8ndvpXk/l29AskjyhDqSV82T4XGMqM2S+aeKBUWyzp20Os5gtfo8gXlxcm5fkVybl7z2HWv5+jOTa/h51se86wjhAShhXAbvE7wJgUDHhZMDUBoCF4T5GNNO7BGhkXNl54bp6neW5guUO2HrvLOpNby21GfK2EQaBMsjn1d5wW5+bLve3Xfs5GfeP0nKt9ofiXvZt7rs+elbc1fSrO6v5Jank29UpPfyGuejf1XzV+Un339kvy3Z4P/V49Y+PtvX5G/aPOK/EG78tvsy8sgYP7Zc4/PfPWiEjWfNP6N/FmbsrlPiCeIrZkfPStzP3xWFlV6VpZ/8KysregRhx4BduKNn8qtVwp+xy9W+KlEv/esLK78goyt+Tvp2vg1afL1W/JBu4ryfPfK8h99qsp/9K2m7P/1+0wZvj//0ruK/FOvj1UjaKQLwCMGcfknnd4qE3GJXobwlBLyNFCkERIEp4k0/EWeNm+6CtfA04FwIrxfCA8iHAbBlJdW/lV28GzBmwXRhWpFJMOP2rlIuno2qGaLB0mVGZ2U5w+eGHgWAm1ohdmfdX7b5/iNCS3l3UnfqpYclad3VMPma8zuLnXmfq+GzkPgYc4nBrJ/s3yE9JjdV4ZM7i49Fw6VnstGSR+P9Vg/RQnC7zdNk16bpkufzTOl75aZKnzWf+ssNXILYeVB2+eosNrQHfOViBwetUBGRC9U4TbcozEcG8PjxnC+MTzf38w9mWP8HmP4vcYGb59rGa4Jj5trwe8fs2uJGs00Yc9ymbh3haoWRe7idI/4Rb8vhAoxFWDukU0qdIjPCG0lVp/ZLRvO7VOfG6qGEW5ETtXR2xfkxN1LKhR5/uEN5aG88viOarVxI/a+ClniNXHt6F8Xk5IgcamJqocdPJwpGWmSlpWhPJ4Q5ZnZWZKVk62KXfB9wXc5++JZyTqwWzL3RqvcucyoLTq/bo1kbF0vmdFbJXPfTsk6ckD94YCB82WZsG/CtLhWhGk/XzTQ+nwQfsU9497xHphQLdrg4HuP9wre29P3rqo1vGd4Pwh5WijSCAmCE0QaNo7cB/ckY90KSfq2qfIk7P3o1zJoag99RtmAzRUbEpqUrvFs5PB0Qbh8t3K0EkPwcCFvB3li8BiYzSyQ4XF4LxAyw2D4T2d2lqaLBqiwLQQRhAVEA3KQkHCNzQ6hS4QysbEDrOG18PvdBAohSjvPrrwwHfnd6i2CwDffYYTQCQkFFGmkzEEiMhKSQ+Hl8Uf9tXzzusrlQmgPf8Xjr/b0lYtUCDB1wjCVd5Xcp5Nc/aKZbH29suyqUFEe1qki8bUrSXy1d1T+VdxHr0pcxRcl7t1fe63SSxJfuYKkjiu9RGEk18dWeEYJM/wueM7gZXhmcN0SNz/FfcO7AfED4bX27B6ZcXCt8hYhvFhrTk95c8I3Skj9TfeK1uYUyCC6kET9zND66jk1Z/eQlsuHS+/NM5TgWnpihwpjwqPwOCVeeSeelqjLR9XvhsfLTSDcBsEbjsBjh88Enj43gqR/852HJ5GQUECRRsocez5J3IevSEK9j1XFHxLOk/t1kZQR/VTCuEoeRxL7xBHeBPaJwwvNbXoS0OPIfj0F7LVnlAhLaPKZXGvcQJa9WUdmvP2F3Bo7wZu/tW+nqvyD0MuNjy3T8EvO/buqgtCeRG/GCBlDIjfE0m9GfS4vjv5ChRWRw4WKu595xBzycVCRVljOjfF04XyEEqvP6qZChQgHjt29VBYd3yY7PCIJoRyENUtDdJUUM+walX1uAaIZ94SZpHZUWC89TR85FxOuddNnYgehevNv5GrMHb1KSPlCkUbKHOSWGBGU8HkNSRnUU5J7d/Ams3uEGoRTUudvJLlHm/zqP4i2OVNVK4LSAt4kiDAk1OP3QAimL5mrrg+J8mjFgHMMTm1mazYOGJKfu2+YIm1WjVHCCoO6YQgnIqcG3gCEFXEOvGZoYQDBA08XRNeDpNiwaIqL/Crcr5tmKCK3CffUym9uJ/6NZO7eoY+cCzynuH63Dh/HvyPz7wyhf0JCAUUaKTfSl86VuHd+pSoFQwF6b0EoIsRZHOyzO50i0pCMjU1j04UDSlAigRybvF1cuhEkzJv7dgtoD4J7sodwc5MSJfblnygvrdPptHaCuv7Fx7fpFXdRf15vdX8w9HcjJBRQpJFyBfleaKAZClEBr5wSadFb9UrhrN141RJpN245o1IL/cCwaaACz9Bj41SZ5VJvhqH9mnHqvtHw1C2gIAP3hNwuA9qhoMlsOIA/DnD9yG90IyiQwf3BUL1KSCigSCPlSl5ykspLwxib8gbCEGFV9P4qDktXXbJE2p17BTvghwKU+2PTQDsEA1oc7L1+Sh+5k3raqwGR6hYgrHFPC4/l/9GAMUVoFhwOmBYVaE/hRtDWBfcHw9QEQkIBRRopd1BVmXX8sD5yLvMWn7dE2sNHoa9MBcglw6aB9hSRxNsTW6kCBzcNlUd/M3yWG8/v1ysiCQ2qSMba8EjErzu3l7r+XVdLNnc0XEAzZSPS0JKGkFBAkUZIEKbPPm2JtJhYZ1TbrTgVrcRKKCosQwkqT9Et3k2giS4EwP4bp9VxXk6OarmSdeqYOnY66HeH60dLFzeCJsxGpEXavzfiHCjSCAnC2MnHLZGWmFR2rTZKAjrIo6VGpIHebb8c3lgfuQP0p4MAMI1S0dYFOZPhUDQAKk5po64f3fbdyEfT2qv7+/0OFfQKIeUPRRohQeg37IAl0nJycvVqaEE15/8MqKmPIgNT0Vppaju94g4aLein7stUDmIsEqqfw6VS9/XxLXxEptvA2DHcH2Z7EhIqKNIICULHnruUQKtca5VeCT1d1k1SjWsjCTQSxWaJ3m9u4hMdTsOcSJA2c4IkNK6mfg4H0DQZ1+/WRq9GhKLRMyGhgiKNkCA0/26bEmm1mzinvUXzpUPk/clt9FFkgKHf2CwhUN0E5pj+Ucc3LM8Zmjkn92irfg4Hnh3aQH0ubqq4tfPCiMbq/iLNc02cBUUaIUGo3XS9Emmff+OcLvdoC+A/RsjtoA8XNssR0Qv1ijvAgHrMQDVgEkbq1DH6yPlgODw+l0fJcXrFXfzvwJrq/n49sqleIaT8oUgjJAgf11ylRFqrDs4Z0YNh3Bj/FEmYfmJua9j7b30+VUIA5GVnS+yrP5eMjc4JrRfFP/f+RH0ubu0hhjAn7u/dSd/qFULKH4o0QgKQnZ2rBBqs0/e79Wro+dWIJq4L+xUFPGjYLN3W2f4vu75neWlybt1QlZ3ZYdJ+A6DiFp+LG3uIoUE07g2GGZ6EhAqKtAgGQmTmvDPSpku0TJ11StLS3dMo9GlByw0j0noPym82GmqQHzNo+xx9FBl0Wz9ZbZbITXMLaMqLe3prYit1jObOEGlowxEu/GHHN9Q95OY6o/K5NDHD72EYu0ZIqKBIixDSM7IlJye/tD8tLVu+7RxlCRHYwBHuHO/yJNx7kGK9L0NGO2c6AkIw9lmPkcBXS4eqzfLSo1t6JfzBxAjcExrCAszsVD3S4mLUsdPJzM5S14/CBzey+9oJS6RN2R8+IWjiPijSIoAHD1NVfhVyq4y3bPi4I5YIwbr5OS7e2w4g0rl8Nd56T8ZNdcbYG1QB/kGH12X+0c16JTKoObuH2izdNArLeGoazO+jjtNXLFQiLS/LGU2Ti8KITIRs3cjcI5sskbbl4kG9Skj5Q5EWAUTtuq3EBqoVR44/qtZ6Ddyv1iZOPympaVnywWcr1PH+Q/fU45HOidOPLJE2Y+4ZvRpaUjLS1Kax7uxevRIZoFgCXd/dFFYzg/JbLBumjtNmjJfY159VP4cDN+Puq+v/+x6V9Iq76LN5piXSrjx2Zx84Eh5QpEUAG7ddV2LjxKlH0q2vN/kawuzshRjPxucNgVZrsFads27zNXUc6ew7eM8SaQuXXdCroeVuwmO1aSAUE0kguf7vXCYGMK8Tn2WHNePVceq4IRJX6WX1cziAKQO4/n/pXUWvuIuGC/qq+8MfB1kuGupPwg+KtAjACA6IsmCgqz7O2bjVnSNeSsrWqJuWSFu9/opeDS1n719TGwe8MJEE2lT8Z//P9JE72HbpsPose2+eoY5ThvWR+Brvq5/DgUM3z6nrd9vnYvjFsIbq/jDYn5BQQpEWAVy/majExvTZgavjUOX5flWvIDl+yp3dw0vKmo1XLZG2adsNvRpaTOd9hJoiCRRLPD+8kT5yB6vP7Faf5fCoBeo4pX/XsBoJFXX5qLr+nwyqo1fcA8Z0wYOG+4NHjZBQQpEWASDhvMGXG6VGo3UB22wcPfHQEiQJie7refQkLF9z2XpPtu90RlXhhnP71MaRkJasV9wPvrto9YA5im5iwbEt6rOctHelOk7u21kSm4eP4DFTIOBxcht7r59S9wYbs2uJXiUkNFCkRQgr1npFR+deuyUzM0evehkw/KB67LvOUXqFLFp+0RJpO/fe1quhZeGxrWrjcGNfqmCkZWWoe/54ege94g7MFIWZB9ep45SB3SXxq3rq53Bg0fFt6vrdOOwfwgz3BoNgIySUUKRFCCgQGDjCK8Y69Ngll67EqTDnhi3eogLY3gN39dlk7qJz+e/LQWe8L5P3rXRty4NgxKQkqM0SbTjcxIyDa9V9zTm8UR2nDOkliS3qq5/DAXP9GBLvNhot6KfuDSFPhD4JCSUUaWFCVlaunD77WDZvvyHLVl+SVeuvyKkzj/WjxQOirHu/vZb4sBtacSC0RLzMnHvGem8OHnFGDhjyl9xaTReMe4neitb683rrFXeABqm4L4Q9QcrwvpLYsoH6ORwYt3upuv73Jn+nV9yDGazuxlAuCT8o0hxOZlaOEgymRYbdmrXy/g++JMCjFr3ntnTpvVtqN1kvX7XZJivXXbFacRQHiLlHj1OVNy4jwzd06ham/HDKep+Rs+cEem2aLj8eVFsfRQbXY++pDbPpogF6xR1M2LNc3deSE9vVceqoAR6RFj6iYPD2uer6K0/vqFfcwa34B+q+YK1XjNSrhIQOirSnAELl0NEHPuOWShv06LILM4iqxSsuyplzMWrUU3mDNh6Nv95kXU+VOqtl/pLzJRJ54QCmDJh7PFlCj2VZ0X7NODVgPZK48PCm2jAxGspNjN61WN3XytM71TH6pCW2aqx+Dge+3zRNXX+N2d31ijswuYL2z4aQUEKR9hQgtwubeP0vN6oKwMLChXgM45lKOnYJPc4+qrnSEgwwtNQIBYmJGVKt/hqfazHmlIavpcXICUetezt73hnzFCFU3FblWBSmM38rl3k1huyYp+5r04UD6jh10khJ/CZ82ozgDwZcvxlr5Rbqzeut7gv5aHEuGkNGwheKtKcAuWHYxCdMO6GEVO9B+yU5ueDsvQuX43y8T226RpdIrCEfDV678xdjlRkxiHYae/bflWFjjkjHnruUiCpL7G0p/K1y7VXqOt3C0DGHrXvD5+cEsIFUmtpOH0UGR29fUJtm29Vj9Io7MGOHoq8cU8fp82dIQtPq6udwAOOscP3NFg/SK+EPqqb/oedH6r5eHfuVXiUktFCkPQUIc6JtRc/+++Te/RRp6xFf33TYoRL0DRAujVtsVpt98++2yaiJx6RWk/UybOwRfUbJeBybZnnw7PZJ7dXyOCZNn1U2tGi3vcDvNYZmuDk57hFpg0flizTk3jmBz2Z1k6ozu+ijyODAjTNq0+y0doJecQfd1k9W93Xw5ll1nLFhZVhNHDAVkN8sH6FXwp/Dt86re4JBRBPiBCjSnpKHj1KV6EK4D/3H4G2yizSEQbHRw5Nm1jF6qV23kuU7wGNmRIPdPq23RmbNP1vmXjQI0kC/31i/Yd6wjVsYPOqQdW+Xr8br1dDyyYxOrssBKgrMKcWm2X3DFL3iDky48OTdy+o4c/+usJrdie8hrh/34Rb6bfnBEmlGPBMSaijSSoGLl+OUJ+vwsQd6JR+EIrHRo8WFAeGz9t2LL9LuP0ixBIMxTA+AMExJzdJnlQ0QZ7v23lEeQv9rMDZy/FHXVXkOHJEv0q5eT9CroeWDKW2lztzv9VFkYMYPmRmXbgE5drivi49uquPsc6cltsIz6udwoOKUNur6e2ycqlfCn9fGfa3uCWPIcnLdWbVOwg+KtFICPcxqN11foF3Dl99uVRv9gcP39IrIPY/oQkf74gIPnREMPQfsU564sq7sTEnJUlMKGn2Vn0tnt4rVlkv/YQcd42UqbcwUBtg1h4i0dya1dl2idlFsuXhQbZwDts3WK+4ALUVwX3cSvLNyc+7fldgXfyR5meExlu3lMc3V9aMAwg2gSMDM64y0P4SIs6FIKwWQd4beYwhttmy33SeBvkHzjWqjP3cxVq84GwgS5M1VrrXKEil2Q3gVhRLw7rkZuyftyjVnCFFUdjZe2F8fRQbr9bzSYVHz9Yo7QH4h7st0tM9LT1ciLTfWGZXERfHzIfXU9Y/fs0yvhDeL9Zgr2Nwjm/QqIaGHIq2EwKu1LfqmCgGa3mAQNdjMK1VfUWAKQBNdNHDkeMFQqFNArlzU7tuq8MEIE39DRerWqJuubV7rjwlTwy5ccobAfmVsc/l80UB9FBmsOr1LbZzoK+Ym3p30rfxRxzd82vbEvvELybl5XR85m3/tU0V9LugrFm6gijMjO1NSMtIkPi1JHiXHSZUZnSyRVmtOT1W9igkfmy8clIdJzigcIpEJRVoJwP9Qu/XdY23eCAeCz7/ZYq2hFYadfkMPWOtlXX1ZUtDWY/aCs6rwwVy/3T5rsFYmzzwpN28n6WdEDkZ4wxDKdgIvjv5CvlwyWB9FBktP7FAbJzr0uwkMJv+nXh/rIy/xVd6Q7LP5uatO5i+6vqs+l2Uno/RKPvj/ZFZOtiRnpMrjlHi5Hf9Qrjy+I2fuX1UtVTC0fPulI7Lh3D5ZcSpajcb6wSP2Ju1dqcQ4phkgB7Hr+smq9QoqSNEjEO0+4EnGiLDaHiFVfVY3+XRmZzV8H/maSAdA6wy8t88Na6Cmc/xH32rqff6b7hXlTzu/bYU0n8RwrYSUNxRpJWDjNu8w8kEjD6lN3BQDtLIl1aMVhT1fDEUCyN8yj8Oz1mvgfhk/9YTq1A+vXFpa+U0OgPcPBQ7fD9znc112g6CEZw0jqSIV+8SBYyedMRbq1yObytfL3NV5vyiwgWODnLp/tV5xBz8aWEt+MqiOPvKS0KiqZB3co49EJa8jHBqbmih3Ex7L1Riv0Dly+7wSOuixhpw9hITRHR8jphYe2yrzjm5Wg9vh5cIgdLx3EEAITY7ZtURGRi9S4WOIIeT69d0yU3punCad102UdqvHqnFIEEXw2iIHEoKo2g9d5aNp7ZUHEB5du3j5z/6fyT/3/kT+rkcl+bOnFEKhthdGNJa6c3sFfAyWmV22hVqE+EORVkzw1yFmZWLTvnUnSXWkR+sLAG+T2dBh/sn0p8/F+Ag5f4MnKz6hbBOG0Spk3uLz0jBIIQCuYcbcM6rfG/Gd3emUAeu/HN7YVX2pisPswxvU5ghPi9NAyAyhMoinE3cvyZ5rJ9UEAXiXcN3w/iGxHgII4qf50iGqITG8P2bTh3f0+eGNlGBbVflX0vDL1+Wvur2nQqHmHLfYn3R6S/662/uqYSzCpf89oIa672eHNlDf7d+O+lwVJFQY10LemthK3p/cRj70CEPMB0X7GRjCksbwPsLQOxCGn7GO8yEo0fgZVagYAg8vG14TFZzwtOF3YpD6v/X51OcaIX4BvHyoXLU/BktM5/8fSfkSsSINQqrP4AOqqWywJqyYS3ngsHeDhtDCho1WFAB9y27c8o4NQb6Z2dBhUbtuq3U7EHm3PeIOxQUYmG5vlgrD65U2yB/D7+v0/W6f32UMnrQe/ffK3gN3XdWItjSAADfvE/IPnQA2lkgb+gxPEDZHeIdKg+ycbFXJdzPuvpy9f001y9168ZDyREFYjdu9VPpvnaWa58JrCa8Kwmko2oCY+q/+1eXve1QqExE1sOovpFXtF5SYQXju//aqrH7fzwbXVR4eeLDe9ggNCBeIEni4Gi7oq8KAyKH6duUoJQY7rh0vXdZNUg1zITQwmB/eMtzXwG2zlQcNnrQR0Qtl1M5Fyrs2ce8K5XGDGMZ7jUT65R6xuebMbtl4fr/y2CFECe+dEc6w6QfWqF5v5x5cl0uPbqmB+Ahv3k+MUe8z8r7wnttz75wGxBzuBSFchGntmJxIGMKvhJQ3ESnSVq674iNWYP7gfyrmMXScH61zlOYtOa/PyAe9xOo222Cdv2tfwU0dr4GqT4ghtOnApAJzftOWm0ut3xmuG4nuuN5P6662fofd4E1bsPSCml5AAoMh9ub92rz9hl4NLdis26xy13ikYGBjh9cCuUnYICE29t84rYQChMMij4iAgEMOE8QHRAm8jMhZQuUkPCjIT/rFsIbKYwPvDcSP2XCfxv7QI9AQ2vt//T6TZ4bWV94whAHhxUG+FDxmEEsYQj50x3zlUYOwgeiBpw3Xj9dB+PpazF25l/hYCZqkxbMkeUA3/Q44l+N3LlnvxeXHBf8gDSfw/0sIYtwLvjOBQMg5JsUZbXhI5BFxIg0tJlCFaRctsEANS9GPDI+hUa0578y5wCXyazZctc7ZsKVghRbyvOp8vsHntT6ssVJVEcbGlWzoeiAwC3TpqktWSNbfMBh9zKRj6vqd/FetU1izMf/zXLX+il4NLchjCpcO7/BIwJuCAek7Lh9VnhmIFYzb+W7laCWmEJ56Y0JLFerCvSEE9rfdP5A/7vSmJQJKw37PYwgh/kvvKiqZ/FcjmijPGDxSNWf3ULlX8FBiqgHCk8jfmn90sxJT8Bwdu3NRJb4jtIkQ59MCjxOuC54vO1mH90tiy4b6yLmYBsOwB0nh0VooGBCZ5l7oKSNOJOJEGoagY+P1zyPbvT9wSMt+DizQAHUAD5k5BxWgKB7AAHRDkud58MKhASyKBiDk0DD2aYDYQhgWjVc/+Kyg8MQaihQQSnXT8PPyAO1GzPtYksbDZQk8QqGeYQkPF0KFGNeEsBgSz+E5Qr4QwnEQWxBaZuMrriHhHJ3eUY2HPCUIKdMBHgaRhbAexBQS3CH24KVCmA5J8qi8Q0hu3/XTKvyGPDG0TkC4zWl/lOAacU/+8yFzHz+U+E/f1EfOBaFh87mYPm/hCjyy5l5QeEGI04gokYbk/IrVvGIGXf/NJgwL1jl/y44bPufV/3KjCn+lpvkKLOSb2c9DoQAS8csCiL91m66pge3232msdaco5QlKTHr6v/ojFeTpmfezrD7HkgIBg7BeWQJBg/DbrqsnVH4SwozIe4LHC1V8f9DhdWtT8zd4rJCvBW8VBBsSuJss7K+8f8iFQs4TQn7wrME7hVAfwnyFjeCBEMNrIy/KLaw9u0fdk38jWLz3ce/9RvKynP3vFt8LXD+qOMPdK4/8PfP9DffQLXEnESXSELbCptuhh7eXmb0/mGlM6w/EmznHbghVIiF/yOjD0qX3bvmo5kq1hg0dBQc4Z/+h/FFQpQEqL9H2w7y+3XAvKEi4fTdZn02ehpNnHlvvLcLETgDhQCSDlwZo4omkebRpgPBDHhcS4/+8yzvWpmU35GHBkwexhrYMCA0hLLju7F4V0kQ/rLKYdwhxh9+P5H63YEQO2ov4k9C0uuTcvKaPnAnyAHH9qNQMd1D1iXuBpxZNbglxGhEl0noP9oY6TY6RvWHptRuBE0MRpjTnoD8a+of1HXLAJ7cMvdHadImWsxe8+WrwYAV7vZKCv1RPnHqkZnaa32c3CEUUKmBqACk98PmZ9xghaicAkYa8KQO+G2gYitAemoSiWhHVdelZ3nYu2HQQmkTXdGysqFZEGwL0tMLGZDd4RVBJiOpBhBURxoSIQLI+PGuh2sBQlYjrQ26YWzDeQXwu/iT37SxZ+30bYjsNU8yB9hXhDipocS8oMiHEiUSUSKv3hbcCE3lcwN4La9KMwJ2+4WEz59y9l++lQo4XQpzwtCUmln6PM4yf2rTtRsCQJiYBTJ11Su7YroeULqh8Ne9351679Wr5gdwvtDWApwphMeRhYTOBIV8L4URUFKI9BIQVvGCFhSKNoSIRfaNaLh+u2i/g9S8+ulmg9YBTQI8xXDd6kLkFhH9xT6iS9Cc3MUHyHN4wFRXGuH5UG4czyFc0/y4Q0ifEiUSMSEMiv9l0jagaMf6otYbqRwgjf7BmzikPkDc3Z9E5qdFonfV7jSHXDAntga6TlC7oMWfe95btvb3xyhNUQJoNxN8w8gZiCyGaQI9jDA7aQvx736rWWoc148MyyRthVVw/QrNuAeFi3BM8lOFI00UD1PX/bnQzvRKeYHqD+feBPwYIcSIRI9LQcR8bLgoHTLJru+47rY0YNnOe70aAsUhd+3hndR4/9Uivlg2Yj4kpBshrs1/TxzVXyUiPmAxW2EDKDtOqpfHXm/RK+YGGoAiLod8WNkXMKTQbCgZAY4YnhFe/LT/IzIPrVM4WPGKBhBjWkD9mwqDhhEnsxigktwBPJoos4C0NRzAiCp8JPLjhDHrumX9TbpsNS9xDxIg0zMc0wgeeNIQrTQL+idOP1EaM3LIlKy+pSQJoW4GeY8hHKivPFcQi5kJ277vXujZjaDi7bPWloC0/SNmDsDI+i+oN1+qV0IL8GXtOWiRgQmsYu+QW4AlFc91wBeIMnwma94Yz9vYb+JkQJxJROWkt221Xm+63naOsCQKNPGIIYgnCrb3Ns/ZpvTVKJAWr+nwaIBC37LgpX7UpmG+Ga9h7EGOawru03Q00aL5RfSboN2e8r6EkEkVaqxUj1SaKogi3AIGGSQXhCnIi8ZlgukI4M3b3Ukukual6mLiLiBJpaGHhP2B8l99cRvRPu3ItvkxmWaJSdOGyC1Lb1voDhrDa0DGHGdJ0GHYRbW9MHCqQaxZpIu2rpUPVJopQrhtAgQZCneEcKkTDYnwmCLmHM/YB6oGKOAhxAhEl0kBCYobq9j974Tk147I8QFXouCnHVX6ZXZwhjDZ7wdlSGQtFSp+2XaOtz+pxTOjnnEaiSGu0oJ/aRNFKxA2gWAD3g+Ho4YopSMGs1HAGkzKMSLsV/0CvEuIsIk6klSeYk4kxVMh1s4uzL7/dKhu3XWeVpsPp3i8/V/D6zUS9Gjr+8fvIE2mYrYlNFHMz3QAa/+J+0AIlXEG4FvcQ7sP+TQEELNzHWxH3QpFWyiCXDCFUtMuwCzMYNv2jJx46Ir+JFM3AEQetz+702dC3S4hEkYY+cNhE0dPKDZjh5Ai1hSt/2dXb+gWVt+EMhuzjPv6k01t6hRDnQZFWSqB6dOXay1ayubHKtVepgepsPBt+IERtPkfM8gw18GCU1liocMFUErplZM/SEzvU/YyMXqRXwo8/7vSmugf0sAtnTAHE3/WopFcIcR4UaU8JOtNPn31aqtZb4yPOINZQHZqS4uzu4SQ4s+aftT5P5DGGmkgUaS+N+VKJArcwed9KJQxmH96gV8IPeJ5wD+HuSfvp4DrqPv6ldxW9QojzoEh7Qq5dT1DD1dGewS7OMLwdXhe20Ah/lq+5bH2ui5Zf1KuhAyIt3L0XJeUXwxrK33SvqI/CHzMwfvWZ8h81Vlr8Wee31T1gKkY48x99q6n7+O8BNfQKIc6DIq0EIJfsyPEHapajXZhhSgCmAkC4EfewZccN6zPGnNdQgwHrmPsYSWDouxsGeRuQUwhhsO3SYb0SfvxF13fVPYRz8QP4+x6V1H2E+wxS4m4o0oqBt/nsDVWVaRdndZttUH3PymLAOgk9+w/dsz7rYWOP6NXQgf5U4b4xlpT/0/NDV22ibVd7JyjsvnZCr4Qff93tfXUPzRYP0ivhyZ9qj+ALIxrrFUKcB0VaISQmBW4+i5Dm7v13yqThLXEOaKFiPvOeA/bp1dDx/PBG0mRhf30UGfxRxzfCfpC3na+XeZvzHr4VvrNIUWWMe6gXxhMHUIiCe4C9PKa5XiXEeVCk+YFcshOnHsmI8Ud9ms9WrrVKxkw65oh+WaR8wNB78/l/1zlKr4aOCuNaqN5OkUJGdqbaRN+Z1FqvhD+mOe/pe1f1Svhhmtl+OrOzXgk/YlISLJGGgfeEOBWKNA/INdu17470GXxAajRaZ23MsM+/2SIr1l5mlWYEEhefbn0PmrbcrFdDB7rUo9oxUkAD23AXA/7gM8Q9XXgYvmOu/ndgTXUP709uo1fCD8yCNSItnKc/EPdDkebhxq1EH2EG69hzl5w9H8PGsxFMdnau9X34rMFavRo6UDQAL0akcDXmjtpEw32Qt53PZnVT93T58W29En48O7SBuodXxoZvmNA0FYZFWp4nCS8o0jTwmqAA4NHjVFm78arUbrpe9UAjkc0ntVcrkYbRXrm5oRXso3Yukj/o8LqkZ2VExBgbM0IJMxbdQpUZndQ9XYsJfXPkJwXeXNzDM0Pr65XwY/HxbZZIC+fpD8T9UKQFIdQbMnEG9ZptsLxpKCQJJaZb/fQDa2Ts7qV61b3sv3Fa3W+4z4i08+G09uqewnlgPMKcuIdwbgKLfz+4B1g4T38g7ocijZBC+KrNNkuk3bqTpFdDgxEt6LWFpqhuB73EcL9umrJQaWo7dU83YsNXpFXXIVtMHgjXdBB4z3APsHCe/kDcD0UaIYXQpfceS6Sh6jeU3I5/qDYVtOLAfxce26ofcSdrzuxW99l/6yy9Ev5Unt5R3VM456Q1XTRA3QMsXMPuphUKLJynPxD3Q5FGSCEMG3PEEmnbo2/p1dCQnZMtv9+hgrW5IHE7y7PmViBCcZ8johfqlfCn6swu6p5QXRiufLN8hPUdfJAUq1fDC1NlC4u+ckyvEuI8KNIIKYTpc05bIm3xitDP78SIJLO5YFg3vE1uBbl3uM9Je1fqlfCnxuzu6p6O3Qn9d+lJ6bBmvPUdvPL4jl4NLypO8ebVhftnQdwPRRohhbBybf6Q9YnTT+rV0AHvmdlcEDJr7OIJBCa5e9ah9Xol/Gm4oK+6pz3XQv9delJ6bpxmfQeP37mkV8OL34763LqHcBWaJDKgSCOkEHbuvW2JtP7DDurV0IGeYWZzQdJ2qxUj9SPuY8iOeeo+3ZR799VSby7UpgsH9Er4MWj7HOs7uOtqeM4gNQ15YWiaTIhToUgjpBBOn31sibS2XaP1augwVWl/1e09veJeem+eoe51xanQv++lhRmwjnYq4croXYstgbPhXOhn2j4JGNxv7gF9BwlxKhRphBTC3XvJlkhr8OVGvRo6hkctUBvLX3R9V6+4ly7rJql7XR+mQiAQaJ+Ce5p5cJ1eCT+m7F9lCRw0hQ1H/rb7B9Y9wCONQg4U5hDiNCjSCCmEzKwcS6Rh6kBWVq5+JDTYN0i3893K0eo+0S/NLZgQLqZHhCtzDm+0voMzDoZ+XNqT8Hc9KqnrxwSPabpAZfD2ufpRQpwDRRohRVDn8/ypAzdvh7ah7ZaLB60N0u2YVg87Lh/VK+HPxL0r1D312jRdr4jkxjySzP279JHzMZMvYAh9hiN/r0Xan3Z+WxrM76N+Ru80QpwGRRohRdCmS7Ql0vYeDO3Mxa0XD1kbpNsxIs1NnrS5Rzape7KPukqdOEJShvbSR84HeWjmOzggDCdfoAGvuf4/7/KOPDfMOzC+2eJB+gxCnANFGiFFMHTMYUukzVtyXq+GhnVn96oNBblNbseItM0XQl9VW1os0oO9Wywbpo7zcnMlvsobknXskDoOB9D8FfcAC8eRXfFpSdb1/1HHN1TIEz+jPQohToMijZAiWLb6kiXSeg3cr1dDA0bYYEPBZu92jEgL1wrCQJhQ4eeLBqrjrKMHJK5yBSXWwoXDt86re4B9u3KUXg0fMKXDXL/dMJOUEKdBkUZIERw7+dASafW+CO0wZniVsKFM3b9ar7iXdqvHqntddjJKr4Q/C45tUfdkRFpy/66SOtr7c7hw5v5VS9ig71s4Yq7fbmhwS4jToEgjpAgSEjMskQbDcajYfe2E2lCGRc3XK+7l+03ezvYYD+UWMD0B9/TlksGSl5Mjce//TrJPH9ePhgfnH96whI0Rm+GGuX67oS0HIU6DIo2QYmCv8Dxy/IFeLX+O3r6gNpSuYZgLVFIgRHGvbhKk8IDinlBJmH3qmMRVejmsQp3g0qNblrBptKCfXg0vzPX7GxvbEqdBkUZIMejZf58l0hYuu6BXy5+HSXFqM4mE/Bn04MK9tl8zTq+EP+P3LFP31HL5cEmdNFJSBoTf53gt5q4laurODZ+qVDvm+v0tLjVRn0GIM6BII6QYzFl0zhJpfYeEdu7iP/T8SP5nQE195F5M/t1nLhKkI6MXqXvCzNWEBlUkc3f4jYe6GXffEjU1Z/fQq+EFCjj+X7/PpPL0jta9wC48vKnPIMQZUKQRUgwOHL5nibQGzUM7Huqtia3UhpKQlqxX3AlG9eA+fzPqc9UN/tyD6/qR8AX3gXvqNqe/xL7xC8lLT9ePhA93Ex5boubTmZ31anhixnQZQ4sbQpwERRohxSAuPt0SabDEpEz9SPmDRqjYUNw00zIQ9xNj1H3+V//q8othDeX0vav6kfCl75aZ6p5m924uSe2a69Xw4nFKvCVqPprWXq+GJ2YChLFwnaBA3AtFGiHFxF48cPhY6IoHTENbhMzcjOkMj67wf9zpTUnJSNOPhC89Nk5V97Sn/nuS9sMkvRpeJKanWKLmvcnf6dXwZPulI9a9wDqtnaAfIcQZUKQRUkzQyNaItFBOHoBYgWhBTk1Obo5edR+5ubnW5ok8PDfQed1E+eO2r8qtl38kWYfCM7SWkZ1pfS6vj2+hV8MTeGfNvcDs47oIcQIUaYQUkwVLL1gireeA0IYaa83pqTaVlad36hV3AjGK+/zP/p/plfBmzuGN8vxXL0rsiz+S3PhYvRpe2MXzs0Mb6FWRvLw81cIiKT1VVUkiLIqQ9e34h3I99p5cjbmjDNWhMKzdiL2vDMeXH9+Wi49uqtxDNMw9de+KHLtzUQ7ePCt7rp2UqMtHZcvFgyrMv+r0LllxKlrZ8pNRquExDAUBsCUntitbfHybMkzoWHhsqzI0FJ5/dLP6LKYdWGPdCwzD1glxEhRphBQTI9BgdZuFdvIANi1sKm9MaKlX3Mm/962q7tMtjUbh+Twyc6TEvvMrvRIYCJ40j+CJ9YidOwmP5MrjO0q4HLl9Xn32GDqPsDcECgQH2pVM2LNcVY8O3DZbem+eoeZqdlgzXo1uwogt9GZDE100oG28sL8SJPXm9ZbaHsFfY3Z3qTqzi6p2/HBae3l/cht5e2Ir5Sl7dexX8uLoL+TXI5vK88Mbyc+H1PMRNn/V7T1LTIe7oTUKIU6CIo2QYvJp3dU+Qi0zK3ShRmziGGODjQXeBrdSYVwLawN1GpgBCW8RBBSaDO+4fFR5eOYe2SRT9q+SUTsXyQCPYEIFYdvVY9QIJQzxnti2hpx/93l5c8I3SvygKOJHA2vJv/apIn/Xo5L8aee3rXumlZ/9c+9PVHsRQpwERRohxWTQyEM+Iu3WnST9SGhA6AabS7h2fS8OLZYNszbR0gQiF2E5eKkQXjtw44zqy4YQGaYCDN0xX3mi4FmBtwlVjK+Mba68SP/Su4r82VMIqU41fil73vppwMeexP6k01vy193eV3l7/9bnU/nvATXkJ4PqyDND68svhzdWLUwgBnH9r437Wnlf4SV7d9K3UnFKG+U5+3h6B6kyo5PypqEvHTxrCKmjWS3uv77H4HmDyMT3zf77MWMVuXYoiuizeaYSpsbg1YMN2j5HHaO6FeO+IFzxHDQqRh4YRCx+hucPyftd1k1SUzXsr4nPBMJ33O6lMmnvSpm8z2v4GVWaMHgTYWgaDMO5sLEeG7NriTJUcA6PWmBdI9qi4HNPzkjV3w5CnANFGiHFZMXayz4i7eCR0P7VnZ2TrTbkP+jweli0p4AwQtHDg6RYlYeEGZDwAu67flpV2SHXaPWZ3SqEhzwi5A5BREAIQBRhQ8YGjA0XmzXGRUEAYOPvuXGa2tix0SO013TRABXG+8QjPCBGXh7TXOVP/UffavI33SvK79lERmkYvF//+P3H8r8Da6qQ4EtjvlT97CpNbSfVfuiqhA7CjLi2ja1qytlqFaT/1lnqHnA/EIazD29QuVPIM9x04YBEXzmmxOOJu5dUk1XkcN1LfKxCoBAU8OThPQ0F9nsnhJQdFGmEFJOz52N8RNqaDaEXRms8ogYbJfKGMrOz9Grpg2RxtF5AOOjk3cuy88pxJaggLOCdgLcD3hCII3hi3pnUWn43upn8bHBd5d2Bp+f3O1Tw2dydYLgmhBjRiw1eJ+RgIS8LniN40eDNgRcIXhrkfq09u0d2XT2hhBOS3WNSEkr8vqeOGyIJtSvpo/DE/h4SQsoOijRCiklGRo6PSJu76Jx+JLTAY4TNEh4chI4QpkMoqePa8cqzBPH03crR0nrFSNVbzW7w7CCZHCEsvA46yMPzhPAYQnvwPCFpv6wEFjxa6IP2f3p+qHKyIJaQnwVx99ywBvLCCG+4Dp4wCCiIP3in4CGDGMQ1IwQHLxVyvnBPuG8kziM8Bs/bD4fWK8/cxvP7ldcOkwwQ5oQ3KhSeqLTZUyTuvd/oo/AE0y7wXYNHlBBSdlCkEVIC7CJt8syTejW0oArQP0+oLOwPO76hvE7oz4Z8Jwg5CDoIO+QroXoQAgletRHRC1UID3lzqEKE5w3J9Zce3VIhu/i0JNVvK1ThuvIC95dz7bLkpeXnO2VsXa9acOSluHusFyHk6aFII6QEVGuw1hJpU344pVedAbxDqC5EWG6ex1BliHAkPElo0YCeUKg69LeZB9ep56C/FEKYaO+AXCi0fICnBBWMEFSk5KTNnaYEGYapG7LPnVZr2efP6BVCCAkMRRohJWD7zluWSIvec1uvEhKYpO8+V4JMNa99cE+t5WVlSmyFZyR98Rx1TAghwaBII6QE5ObmyYYt12Xz9huuD9WRp8cINJh9DFRii/qS1KWVPiKEkMBQpBFCSBmQl5PjI9LSl87Vj4ikL5gpce/8SvKys/UKIYQUhCKNEEJKEeNhzblz00ekxVWuoNZB7qMHai3r2CG9QgghBaFII4SQUiLn/l2Jr1lR4j95XTL3RPmINJidpHbNJWVQD31ECCEFoUgjhJBSIm3OVEuQJXf71kegwex5jFlHDnhDnpkZeoUQQnyhSCOEkFIidfKoAsLMbrkJ8fpMb1g0oVFVyYzaolcIIcQXijRCCCklMtYtDyjOjPn3RsvctkFS+nfVR4QQ4gtFGiGElBIQYYHEmbHMHZv0mV7y0tMlvtYH+ogQQnyhSCOEkFIiLzsroDgzlr58vj4zHxQakPDk5JnHMnXWKUnPYCsVUjZQpBFCSCkSSJwZS5sxXp/lJTcpUeI+eFEfkXBi2epL1vQR2IHDHDZPSh+KNEIIKUUCiTNjyX75Z1mnjkliy4b6iIQTdoFmrE2XaNm597ZkZ+fqswh5OijSCCGkFAkkzoz5C7K0mROVkfAjkEgzVrvJepk1/6w8fJSqzybkyaBII4SQUiSQODMWX7uSPss7Niq+6tuSfeqYXiHhRPSe2wEFmr917LlLNm69zrw18kRQpBFCSCkS/9k7AQUaLO7DV/RZIhmb1khCnQ85qD9MSUjMCCjKglnTlpslNS1LP5uQ4kGRRgghpUhSm2YBBZqy159V5+Tl5kpC7UqSsWapOibhSZ3PNwQUZMFs/6F7+pmEFA+KNEIIKUVShvQKLNC0gYyt6yW+cgXJy8pUxyT8yMnJlar11gQUY8Hs2o0E/WxCigdFGiGElCJosxFInBlDL7X46u9K+uLZ+hnEySAcHZ+QIWfOxciaDVdl1MRj0qrDDvm45qqAQiyQVay2XBavuKhfkZDiQ5FGCCGlSPrKRQHFmbGMdSsk7r3fSF56mn4GgRBKS8uWx7FpcutOkly4FCvHTj6UvQfuyvboW7J+8zVZufayLFx2QWYvOCtTfjgl46Ycl2Fjj8jgUYeUDRqZbwNHwA5K/2EHpd/QA9J3yAHpPXi/9Bq4X74fuE969N8r3fvula599hSwLr33SLtuO+XrttulcYvNUrlW8cVYMDt09IG+U0JKBkUaIYSUIhmbVgcUZ8aSe7SVpE4t9dnOBwIqIyNHeZMePEyVm7eT5PLVeDl7PkYJKTRx3bX3jmyLvukVU+uuKK/RnEXnZPqc0zJx+kkZPfGYElIQSKh2bNl+h0qkr910vXxSe3VAYeMWw3tDyJNCkUYIIaVI5vaNAcWZMRQLpE0bq88uO9BQNTEpU+4/SJGr1xPk9NnHSlBt33lL1m68KouWX5QZc88ojxQEVM8B+6Rdd68HqdFXm6Rm43VSufbTe5HcavW+2CCf1i1cYH5ab43+NAh5MijSCAlzkpIz5cPqK6XP4AMqbyYlhWX+oSQzemtAcWYMwglhvXv3U+T6zUS5cDlOTp15LIePPVDhvR27bqm+WqvXX5Glqy7J/CXnVWNUzIgcP/WEjJxw1COqDqsQXre+3tBcy3bb5fNvtki9ZhukWoO18mGNlQFFgxsN+V4Vq63Q//Xa+1UDn1sSw2uiMKDx15ukS+/dyhu4fM1lOXriocTFp6vPGqHZQM81Zs4j5EmhSCMkzBkx/mjADQLeEHhGEGLqN+yADBl9WG3w4zwbPUJQyOtBOOoHjwBAaApiAN4VCIMVay+rsBXygPAzNifMKoThcdiSlV5DaMtueA3kDhlbsPSCeu15sMXnZa7nd8HwO2cv9NiCs0qE4DpmzjsjM+d6DV4eXN/02aeVQMH1wibPPCmTZpyUCdNOKC8QNk+8B0PHHFYeoQHDDyoBg/yjnv33KSHTuddu6dBjlxI033WOUonfLTzC5qs22+SL1ltV6A3vV4PmG6XBlxulvsfgKanrET1os4CwHLrI1/JYjUbrlFVvuFY+8wiiavXXqM0cXhN4Vr7/ZGBAcWYs0GcVKQYBhfcK72/z77apMUrIDcNnhoR8fL74juA7t2nbDdm1747K54IX8NKVOBVqRRd/9ChLS8+W3NzCe8whVItzcnLylGcxMytHMjNz1HPRswx/0PhbsuePHpxXnP51OD/QfcLwfSTkaaFIIyTMQa5QoE2CFhrr+EH/gOLMWKDnOMkQ4oQYbdJisxKyELYQUkjCHz7uiBL50zzCGQIbohxiHp4/eADhCTxyPF9U3biVqPLY8B2FMCqO8AknIP4CvYew2Dh60cjTQ5FGiEuABwCJ3PBkYTNFTlGgzYNWttbhgwEBxZmxQM95UkMbCHjzEOaENxD5ZPBOwXPYe9B+5T0dO/m48kbCkwmP6MZt11UyO8TUuYuxSkg9epwqKalZRXqmiC8IUQf6XCBQCSkNKNIIiQDQeBO5a/BqoKHmxctxKn8Nou7gkfuye/8d5QnZvP2GSipHuClQ+NKELq3wpQ5hBgxj+oUy7eFMhDLt4Ux4ZuwhTXtYE6FZGPKx4MVBiBPCA//Fmnkc5+N5eB28Hl4bvwO/E78b14JrwjXienEPuB/cF+6xsPs19xcwROt3L6v7zQkozozhdREuhgdq3aZr6j3He4/PAIn9yHmCJwptKJDwjxDfvQcpKo8NYT6E6YobjiNlC0K0/gIN3xNCSguKNEIIKUWy9u8KKM6MEfeAPwr8RRohpQlFGiGElCJZB/cEFGfGiHuAZ/PbzlGqIAIFOomeY0JKE4o0QggpRbIO7QsozowR94ECAkLKAoo0QggpRbIO7Q0ozowRQkhxoUgjhJBSpNBw52vP6LMIIaRoKNIIIaQUKaxwIL7qW/osQggpGoo0QggpRTILEWnhNFidEBJ6KNIIIaQUydy3M6BAg6VOHKHPIoSQoqFII4SQUiRzT1RAgQajSCOElASKNEIIKUUyd28PKNBgqeOH6bMIIaRoKNIIIaQUyYzaHFCgwVLHDtZnEUJI0VCkEUJIKZKxeW1AgQZLHT1QnxUaMPeTEBI+UKQRQkgpkrFuRUCBBksdN0SfVf5s2XFDzZb8/JstajD+vfsp+pHwIS0tWw3X79hzlxpu/+Bhqn6EEHdCkUYIIaVI+rJ5AQUaLHVC6HLSTpx6pETayPFHpeFXm9TPTVpslpSU8PGuzZh7xhpkbmzJykuSl8exTMSdUKQRQkgpguKAQAINljpltD4rNEybfVqatdoiiUmZcuVavGzcel1ycnL1o77AS3X0xENJS8/WK6Hni9ZbC4g0GO6LEDdCkUYIIaUIGtYGEmiwtPkz9FmhITc3T4aNPSIt2m2XxzFperUgO/felveregXQxzVXyeIVFx0xRLx2k/WWMBs08pBcuhInQ8cclnmLz+szCHEXFGmEEFKKxNf6IKBAg2WsW67PKj/gCYM4MyA02GvgfiV07OuG2Lh0JczweI/+e+XLb73eK+SChZpaNpH2TYcdepUQ90KRRgghpUggcWYs68gBfVZwsrNzZfvOW7Jw2QWVRxZISBWH8xdjpWX7HUrQzFl0Tq+KjJt6whI6KCbwZ+Y8b95X605RStDh98/1PB9r0Xtu67OK5uLlOOnaZ498P3CfrFx7WWJig3vuikvTlputa/+07mrmohHXQ5FGCCGliF2Upc2cILFvPq9+jvvgRclLK7oaEeE7I0RgX7XZJu2775QPa6yUfkMPFEu0XbgUKx9WX6meA6/YcY/YA/CSmTAmrE2XaLVux+R9IV/NzsgJR+W7zlH6qGj6Dzto/R5YxWrLZfi4I08lrNp0jfZ5zbj4dP0IIe6EIo0QQkqRuIovWiIN5KWmSMaWdZJz56Y6LoyHj1KViKpce5WcPhcjew/eVULKLkxu303WZ+eDc1GxeeL0I0lMzJB6zTaocyHwps/JT6qHeLO/FsKHdlDpaR67fSdJr3q5/yBFFi2/qI+KBteO18HvX7f5mgwZfVi1zghWqFAc+g45YF0f7OSZx/oRQtwJRRohhJQimds2SFyllyWpTTO9UnwgZiA+uvfbq1dECS+7MFmz8ap+JJ8OPXZZj/ce5M03g42ZdMzHc4VqTfMYDIn4dpCIj/WPaq584jCrHdPTrLSwh2pheL8IcTMUaYQQUsrkZWZIXkpBj1dRGBEyc+4ZvSJy4PA9H2ECw5odiCH/c/oNO1AgtHjwyH2fc+p/uVE/4uXWnSS1jlDp03i8DJevxqvig9Ji2epLPtePHmmEuBmKNEIIcQjd++5V4gOFA4bTZx/7CBO0m0A49M69fBE4cfpJn3OQhxYo9wutNeznNW6xWT/iBcKsRqN16jGEKTMzc/QjzsDfq1iS8Csh4QhFGiGEOITWHaOU+Dhy/IFeEbn3IMUSJXU+36DEFzxK8HoZEFI058D888kM+w/5euW69d2jH8lnz35vLhkMgg1eujUbrsqxkw/lrkcYlka/NFSwPo5NU562w8ceyPWbifqRwrHnzMFWrruiHyHEnVCkEUKIQ2j8tXdcExL8DcgNM6IEifP+QLSZx42hCjPQpIBrNxJ8zrMXFdhBWLSuLj7wtwZfblTCsThA3NmfW73hWqlWf43PGuzbElSN1vsi/7o2bSvYQoQQN0GRRgghDsGEGu2eMFRrGlGydFXBHCy75wuVoB98tkL93LZrdIHeZAhfmnNhZ8/H6EcKAm/XuYuxql8bRknZnxeov1og/GdtQqBhwHvPAftk6qxTsmHLdTl15rEkJ2fqZxSNaa4LQ/iWEDdDkUYIIQ4BOWIQHwgDGpAcb0TJwBGHrFwztMSYMM232jEtLVsVFSDxH8fIXUO+2u79d5QYMtWjxnbsys99swNhiBYaqA5FcYH9Oag8LUmuGuaEQoSVRrUoMCFhGFtwELdDkUaIy8nKylU5P/sO3pMVay+rYdToWdWl9x5p132nahCKcFOrDjvUTEd0moenA81Lf5h/Vlatv6I8Ftjk4eHJzHJWMrmb6Nl/nxIf6PoPkIP1WYO1ag1hRvwXPdAafbVJtcmwi7Rd++6o5wD0TWuiBV9hVrnWKvWdiNp9W6rW84Yhkffmf97XbberilN7GDZU2PPvkkrggSMkHKFII8RFwMuCZqdbo26qdg4QXpWqe8NfpWUIp0HMjZp4TNZvvqa8PqXlJYl04Bkyn1en73dbnrUBww+qzxZjolA0ELXrttVtHwn9gXLLUKkJDxo8aeijBjE+eNRh2bX3jty4lag+Q/vnagxNcSHiMVQdBQzwhDkJTEJAw194FQlxOxRphIQ5GRk5KsQ12iOaAnlBysPg7Rk08pCaF0meDng8TW4aDH3GyqIVBnLOIPYg4uYtOe84MVYYeD9M2Le0uXk7SQlUzB1F2Lj5d9tk2JgjStgSUt5QpBEShjx6nCprN15V+UEIe9kFU6ht4IiD8uBh0TMqSXDgBbtyLb5UhpK7GbQDSUnNUu084EGGVxd95Q4dva/Cv/Aor9t0TXkfIURRyABROnL8UeWJQ3gZXsZvOuxQBQ2Bvs/GINYIKW8o0ggJMekZ2aqKDpsJksRRwYdNBYZw1eOYNOU5wEifKT+c8qluK65VqbNaWrbbrlo4TJ55Ur02ksbhgUOfKgzgxuaG60DuGTY4iMC5i86psCm612Mza9pys8+A7mAGD8T02afVvRESDITJ4cFDzzd8//B9RzgT/w6QA4cebRD96OeGXElUmaKQAZ7b8v7jBEKOkPKGIo2QEIDKvNkLz6mNp2K1gjljxRFCwaxiteXSsv0OGTfluGzZcVNtgKWZMwbhdfZCjKxef0WGjT1SaII6Es7h9SPuB+FHeLXw3b54OU6Jf/whgMKTOX5iH39o1Gy8Tn1XA31vnGbIv0QYlJDyhiKNkHICVZbIAUJCuPmfPwZcQ+hs23RB7qzfKlenz5XFveZKg8+9FX3FNVTmIbkc44RCkVuETvRINg90bdiM7S0liLPB9zQ+IUNV8kKMo7HttuibsnLtZfWHBSpKB486pEZY4Y8MeFeRQxfoj43yMoi9T2qvVteBZre4pq/abFNVyxCF8MT1HrxfhThHjD+q/oCBV3rW/LOqDxwqXFEEgypXFG/g3iE4CQk1FGmElDHwMCAZHG0TsKHAS/b9wH0qfJl99ZIkfN9BHrz5a4l98UeWXX35Ben7fjd5r8qyAhuS3bDZIDxZGsOwSwN0tEeiu/91ItyKuYuk9MH3C+Fw9DZ7+ChVJbgjbI3vF8KHaDwLb9aCpRdUCHrM5OOqyAOfU7tuO5WYQUUnpgGY/mrlaZ96/sDAvw1UIkNMQUghzIn8MSTwo7cbxBM8c2fOxahcPcwtRR4a+q+hAIIQt0KR5gBy7t6W3Af39BFxE9g4kQeGzQjiDKLKJNWjKvNqtU98xJm/bX79E/moykL1fHgJkJ+DUThoNIqQJrwG2LicBEQD8utM53tjEABsPloQvF/4nly9nqAS3pHsDq8V8gGR5I7Kwl4D96v+YPBcIVQIUVWryXolfp0QMsQ1VGuwVho036hyH+Et7jf0gAoTQhhiEDqmC2A6AnLPICTRQsQpf1wQ4lQo0kIMPCmxr/xUbcgpA7pJXg4bhboFbEQIZ2ITw8ZqD/lhHA9yuRa81VB99rdfelZWvVFDVrxZWx6+6P0+GLtYq5ZcvvioQF4ZKttQZPBxzVUq2dppYDM2DVKNYSyQfTB4JAIvF9qlQHAhCT4U3iu74fdDYEHwIzEfHi0IQoQHh487ogpN5i0+r4aZQ0BiSDs+W3hNkW+IKQcQmoSQ0ociLcSkr1josyGnjhmkHyHhDASa6XWFzv2mzxW8Z9j07JtktU/myPtVllrHA9otlXsfVPD5XiR/3z7oRoiwFjZZ5Ao5zTOB98F/UDe8QJHaKR5Cu7CqRAjuL1pvtSY/YCJE5167VauV3oP2K+8UwoHI/4OAgtiDdxYeN+RYoant7AVnVZgQIc6N266r5H2E21HBi4kB+EwQFsVngPwzQohzoUgLMRnrVvhsxrGv/lxy7t/Vj5JwxC7QsIEacYX8GZTx+2/MsNpN16skZlTGAXwH4iv7CrW0+TPUY4G453ke+jjBA1KSYdXlAZKwISLt94v+VJHqfcFYrmBJ9hBXhBBioEgLMVmnjlmbcFyllyWh/ieSc/WSfpSEG/fup1gCbeiYw1aIEsnNbbpEF9iU0UAzes/tgB6wnOtXJO7tF/KF2ss/kayjB/SjBUlLz1YhKrym05rJokrQP6yH3LpIRuWiJWUqYQ5hf+lKHJPgCSE+UKSFmLyMDIl97RlrI0aOGglPEMpEpRwECIoFkDNmQAjKLlCQ/4MeZvZzApG5e0e+SPNY3AcvSu7jh/rRgkAUIlEboS+ngea49vcA3rWExAz9KCGEEH8o0sqBnHt3JDNqi2TujZasg3uUNyQv1RvWAkkdv7Y2YRQPkPAEuWcQH+jRBK+WAR4T5GEZcYJQX0pK8XswpU4Y5iPUkru21o+EF3gfUJ1q3gcYBn4TQggJTFiKtOxL5yVt+jhJ7v6dSqhOnThcJeDnPnqgzyhbcmMeSfr8GZK+8AcVkiqK+Cpv+GyysPQFM/WjIhmb1uQ/9tozQdtxZJ87JUmdWkrmtg16hTgFjFGC6KhUfYVqpWAHoUcjSpAIHsx7hsre7PNnVO5Z+uLZqjWLWs/OlsQvavl8fzL3RKnHwg1UAqKi0bwfMKe1ECGEEKcQViINmxg8TfbNysde/okktWuu8rzKCpUn9P7vfH5vYssGknXyqD6jIGlzplrnpgzppZLC83Lzc0/yUpIl9vVnrXMSmnymH/Fu0FkHdktyt2+tx7GBE+eAfk9oLQHBESjxG0OyjSBZvuayXvUF4iyh7kfez/iNX0jcO7+S2ArPSMbqJepx5CmaVi0wCP+8tPAct4Tu9eb9gKHYgRBCSEHCSqSlDP7e2qSKMoi13If39TNLj5SB3QP+PljKyP5BK9YQ3kxfMlcytq7XK/lAfPq/FjxtKYN6SlzFF621xBb1JfvsSf0s4hTQCgFiAy0TAnnJ8J3AaBqcgzYI/mRsWKmqeiHMMtYtl7z0dCXOlbh/6ceSuXu7Oi917GCf70i4tmtB3hwqUe1CDVMTCCGE+BI2Ii378gWfDSr29eckvsb7ynvms24zteltWqNfoXSA18z6HW8+rzZX++9MnThCn1l8UieN9HkNuyXU+VDSpo6R7CsXgwpAEjpQkWeEBnpQBQPCBF3l/UlftVhiPJ/zzXdflazrV/VqPqmezx7fs5yb15TQj7O35fB89xH6D0cOHX3gI9Lad9+pHyGEEGIIG5GWMqy3tTkltW9uhXpQHZl9+rgk92ofVLAh0To30TdP6EnBa5nXhacrN+axr4fvpR8XWn0XiKwjB/JDXTbL2LxWn0GcCESzaavRf9hBvVp8lAfN8zmfeeUlqV55VsC2GQiLJ33bVOWkweOKfET7dwQe43DE7l00diKAl5EQQiKZsBFpiZ/X8G5MHhEUrNlrzs3rPrlbdktoWEVykxL1mU+OPeSEjdOQMqiHtZ6+eI5ezQdJ4FmH9/vkovkDr4h5DVi4VvFFChj6DHGBYgE0ky0JCFujSORxheekyUcT1OscPBI4PI+CGIS9kbcGcZPYvK7P9yS7DHMwy5ILl/O9kDAM+yaEEJJP2Ii0uA9fURtS/Cevq+O89DTJjY+V3OSCcwAzd2ySuPd+67ORwRI8Qg/PexqQH2S95is/U0n/IOfaZWs9vmZFycvK7/qOSjzj5UtoVFXyAlyzIantF/mv77GcGwVDYCT0oPmsqVKcNKNkeYL4zsZXfVt9vqcmzbNEypKVwXvk2b9P8LzavyNJrZvoR8KPfsO8w+eNoektIYQQL2Ej0pCbhQ0psVlNSR01QFW+mU0q7qNXrdYUJm8LbTKweZlzjCX3aPtUuV3IC4I4M6+XGb1VPyKS2KqxtZ7YvI7VSiPR7zrQMiQYWSeO+Jyb3LezfoQ4iZ17vV40zGEMlGtWGCo0j8+2TyfZvd/bugM2YHjxQ6YFvGlhmpt283aSdf8wzKckhBDiJWxEGjxKSMqPr/WB2pQg2pBUnTZ7smprAQ8V1hGCNBWQedlZktThK5/NDJY2b7p6/ElJ/Kqe9Vro02ZQ7TkqvWw9Fl/1LeU18883i6/+rn5GYCDwrPNf+Wm59X8jxcfkog0be0SvFA8zBgyeYXjU7CKtXrPi97/LOrQ3/zviseSe7fQj4Uefwb7etNt3vd5pQgiJdMJGpAFUOWJDUiHDAGFLdPJPaFrdu2n17yp5mRnKfEQP7KUfS9bxJ+90jpwz67Vef85nekDOnZs+jUeVgNTXZLdgDWsBJhPYz0XTXOIcrt1IsAQF8qqKCzy4CLmrz3T5fLW2fectH4GSmZmj1otC5aaZPE3YKz+T3LjwDBVevhrv8x6MmRSeOXaEEFLahI1Iyz532rsZeQQWEqiDgc0rc/tGiXv31yrcaXLX4qu9k7+heSz+0zcLzQ0rjNzYGJ9K0ox1K9Q6Xg/FCag8xeubx/27xcOyjh1SzwmE2swbV7POxWZMnMPkmSeVmPjy2/xQd3HI2LJOfZ74LsLLC9Zs8M6zfL+qV6DcuVd8L1Lmrm3WdwRmn2IRbnTts8cSaR/XXKUGjxNCSKQTNiItqUsrtREl9+6oVwoHg8rRUwoNZAHCpbFv/dJnU0NO0JOS1KaZ9ToIf6pkbkwNqPCMZB3aJxlrllqPo9jB/GzMnssWiKz9u3zOR0UrPHgpQ3vpM0gogIBGWBJiItB0gWCgVYwR7hmbVutVkYXLLqjXqtl4nVStt0aOnSx++xa05Ii39U1DWB3XV9rcvpMkA0ccks69dsuBw6XfIBqgma0RaSV9bwkhxK2EhUhDEQA8aNiICvNA+QOPlr3lhfFk2C1zX/Cyf4xjQmuNxK/rqSHoqZNHqaaiABWk9tdJaFDF+hmhVvRKM8fxtStZPxsrav6mCmfZwrTJvTuokBYEIQkdtzyCxQiJG7eK39IFIWt8jkpI2b6T02afVq/V6KtN0vjrTaqtR0lImzHe+o7A4HEuTS5ejlPi0dwzrKwqML/rHGX9DkwkIISQSCcsRBoGTmMDgmessD5jxcF/rJMKewaYgQhPl/08y958XrXhQEsE+8gmu6G4AcR9/Jr3uMobBfLSEKqyA9HmH8ZF3pz9ObDSnqBASsbKdVeUiKjVZH2xvVbK42W8aJ4/FOyMmnjMEiUf1lgp5y8Gn1oQCBSV2EPvpelpzcrKlc+/2WIJJ2PwqC1bfUlGe64d7wdyyvzfC7QomTj9pBw5Xvyil61RvjM9IYgJISSSCQuRlvhlbe8GNLyvXnlykKNmKkSNBRrllNz9O+txhFqT+3WRhEafWmtoeZA6bqh1bDf0wAJWYvcrP1MzGe3nJHX+Rp0DcE0IlaK1iD+Yz2iek/hNo6cWqeTp6Nl/nxIQCP8VF+RI4vND5a/JRTOYysa2XaNVnzQIo5KC9jPmO4JRaPaeak+DEaTB7LMGa1UjX/yMEPDsBWctsTZo5CHrvOKKrbT0bKlca5X1vLmLzulHCCEkMnG8SEN1JjqzYwMqKkQYCHgx/Mm+cMan11ns2y+oMKppTAvsEwTMgGsIJOSxYQ2CUYVhbf3a7AaSvvvcOsZYKvvjMIRTAbxjOM5YtVgd28GmB68bRkQF8viR8gOfhQn9bdhyXa8WDcLl+HwRLvfHjEbq0X+vXik5mX75i8iPfFowKL520/WWYBoy+rCMnHDUOobdvZcs6RnZsv/QPeVV69J7jzVg3hRXwL5qU/zQJX6PeV6zVlv0KiGERCaOF2lZJ49am0/OnVt6tXighxr6jAVqHps6ZbTPxmbMeALU2B69Bg+aWYeYU2sNqqhjiDVznt3gzUjq2MI6RmsO++PK3viF8sahEhXHJZ35ScqXmNg0S0AgV6s4YFSZ+bwxGswfhDnxeoNHFd8z5w+8c+Y7BEsdN0Q/8uScOP3IulcYepfNW3zeZw1CLBinz8X4nJuZVbzWIiicsD+vJHl/hBDiNhwv0tLmTFUbDzYhI5SKA86Fh8xsXPA22IHXLO7931mPG7P/DjSjNeumwMCINwg3oAoEPGLLnGcsbfYUnwkEJnE8mKUM6KZejziXoyfyBURaWrZeLRwTEoc3LRB1PvdWio6bclyvPBloqmy+Swn1P9GrT86Yycete23TNVqtIQ/NrCEvrUqd1ZKS6hu+NSAn7dO6q63z123yFtwURW5unsr3K+nzCCHEjThepJmJAcjHKgkqTKo3LRjygfwHrKfrggS72UOK9nWzyWJIujpuUV8dg7QfJvmcq+yVn/ocY8qA+hl93k4dU949CD0klKeOH1ZqeUSk7Fi59rISDhBWxQGC37TIQEuWQKAnGF5z5tzgvf+KA1IBrO+b5ztmD92XFFx3jUbrLKGE3DRg7h+GYoG6zTYU6k3DiCdzfuXaq/Rq0WA8lnleSSc6EEKIm3C8SDM9xlJHD9QrxQMjd6xNC0n5nucjh8wOeleZCkxj6Ytm6Ufzf7ex7CsXVW4YfkYxgcFfEBZmaKVBwhPkXUE4dOzp65UNhn3ofqBpANnZuZYYWbT86fqCqe+7rcoTY6OelHv3U6zrgp09771203gX9uBhqgppoiL1+s3AIUm7qIMF87r5Y/89JW0YTAghbsLRIg25NqY/WklHI6mpAHrDggXL94IXy36emakIUjDI3fZYyoh+al4ofk6dNFKdA1QjW9t5wSzu7Rckp5BxUMTZIOwH4VDc0CQmAOBzR2+0QCQlZ1piBMLkaTFV0DA0Pn5S7PNEYSa0u3Zjvnh6HOMdy4ZmvEj2D8TV6/njs2C79t3RjxQORm2Z53zw2QolZgkhJBJxtEhDorXZdPz7SxWFjyfNY8GafKpKT9t5sJT+Xb2PXTrvsw4BZyo2TaUpPCRWPzSMnrJXjfoZWjGQ8AUtJyAcVq33hv+KwnxXIO4D8fBRqiVGtuy4qVefHPsfFWjd8qQsXZWfe2YP7a6xibSExAy1htBosHmjyC+rVj+/Ee7wccULXWZk5FhjsmDBPHWEEOJ2HC3Ssk8ftzadkoZv0HrDPBeWuXuHfsQXVWBgO88UC5hCAbt3wm45t25I7sP71qSB+OrvqUHrCIn6z+qMq/RSkWOgiLNBdaIRDXsP3tWrwUEoXY0J83z+wT57VC6a19yzv+jXLArMkDXfueSurfVqyZkw7YR1Xa07RelV3zBkalrxQpc9B3j7ysHQ0qO42Jvo7thVsqpuQghxC44WaZl7o61NJ/vcKb1afOxVl+kBepAZzDnqvKVzJaHOh1bOWaBRUrGvP6eqPOFZwzEaiGZfzG+8iX5q8JqhoCB92Tw14J2EN49t7TeQi1UU+KNCfVde+nGBghXDhUux1muWpDN/MOyeX0y4eFLQqNdcF5r3Guw5Zqje9OfwsQfKW9Z78H7pN+yAT0NbYyZMWhR4vnnOHDa1JYREKI4WaRhEbTYdDEg3wGOFbv4QU1kH9+jVgqCi0zw/bfo4vVoQc446b/4M9fqmOk55RAK02DBekrgPXlSbY3kBDyHu+Uka+5In58q1eEs0FKd3F3qV4fuR0KiqXikIEvLNax4/5VvU8iSoHM5Xf+79Xnr+gHhSRo7Pb1rbpbe34TLA0HOsYSqAHUxJiI1L9wlRBjM0A+439IBq3tu++07V6LbhV5tk7wFfT+KkGfnNcMdPPaFXCSEksggfkXbtsl71rZpDq4tggsU+/ilYXhCwt8tIXzJXr+aTMvh763G7IRQaqEFpWQBPHSpULe/d2y9wRFQ5Yu+RFhefrleDg0H4+JwK+96dPvvYes2TZx7r1afDavXi+X48KZi5aa7r28754c4f5p9Va/Y8tYNH7qv2GqaVyJMa8t3soCDBPFaSEVyEEOImnB3u3L3DEkRZJ3yTjhOb17UeQ0gpY2PBPkxmHA+ssNYXia2b5L+Wx/wnG2Qd9a3eRP6ZGrJua3xbFuTGPJa0udNUdaD99yMhPecmm3yWJ9F7bluioahqQ3wvzASA9JWL9GpB7F39ixNCLQ5WPuTrz+mVgmB0E8KrU3445RFAB1VfMgiwRF0MYJ8sAC+XYdiYI2qtXTdvviaAJ8yci9dByBM939DfrO+QA2pUlHnc2Iq1l9Uw9QOH78u1GwkBW3Ns3HrdOh+vQQghkYijRVrW8cOWMMH8SjuBZmH6e9SSu31rPZbU9ku9WpCkb5v6vE5C/co+Asy/CCGxZUP9SOmTl52t7lU18fVriItB2sGqVEnZglmdEAxoCVEUKCgxnxm+w8FAiNMIEdOLrCTgOwqx07L9DtW77d6DFM/3/Avv73715/osX1BR2qrDDuv32g09yfCaUbvzBSlCmMnJ3kbLnb7frdZGjD+qjoE5D9bIJujsdO+71zoHA+WLA+aBmufg/gghJBJxtEjLvnzB2uwy1i3Xq/nkPnpgPW42JvtwaftczcRmNfVqQexhUWP28CqwD1yHlTZotJs2dYwVzrTslZ9Jcu+OBa6HlC9mJBJGHRWFfeB5YUUjp87khzsR+iwpmARgng9D7lZSx6+t740/duEDQ24Zcs6Gjjksn9T2jnC6cy9Z4hMyfM4zlaem4hKhSIP9PFgg7EPTIRCLw7mL+UUVDZqzdQ0hJDJxtEjLuX/X2uwwwikQBTxqb78g2RfPqsfSZk6w1oM1FFXTAmyd2k2fM7yunSzbxgvLSy9elVphwGuRdeqYJPdoY/1eY8g5w9xHeGVI6Jm98JwSDLWbFN1GAhXC6nN84xc+Hll/MFrJCJGSVncih61itXxxBIN4MqF7hFv9wRgn+/l2r5bxriH8aD+GQWSlpWdLpeor1LG9XYg5B4bpA4HA6ChzTtOWm/Vq4cAraJ7zab01epUQQiILR4s0e0NazLoMBkKE5jy1QVV8UVWDmuHssITG1fTZviAh3/5cGHql+ZOXnu5zjt1jV1LwWhmrl0hCQ2+PNbuhIS461Rdn9mLug3vlVrgQ6Zhqw2AhPTso8FCfZc2KeiUwt+8mW0KkOL3XDOkZ2cq7hOfV/3KjNPAYvGKYYIBq0kC/Gw1ize+CQVDhvybMilAnjjHuCZhKTnVu9ZWyfI23/QaeZ++RhvCvdV4QkbZgaX4RQL0vileVjCkH5jkw5NERQkik4WiRBi8EPGPYdJCPVRgQagn1P7HEDqYAJPftbB2j2i4QGRtWWucYw1og7OeYqQQlAQUJqWMHS9x7v/F5LVhSm2aqL1xhFZt4PzAhAa9hmu7C0maM12eQsmLMJO/cToT8igKNZPG52IfwBwJtK4wIQe5XcSs8Z8w9o55TsdoKFRZEV//Bo7y5b+Z74f99t/8uGBrE1mu2QRUPGC8ZQp5GDEHwVanjDYHaDf3L7NhFGixQ/zRMaDCPF+f9A7gm++sW5pEkhBC34miRBky1WiDvlj8IQaJ/mhEvdkNFZCCM18MYms8GI9U2didlWG+9Wjiqse2+napwwf57lL35vMqbw/SCwoBHEd41eEcKvIbH4j97R59JygozXL04IsPkhSW2bKBXAoNxSnYhAkNlZWGCBB4meM1w7sx5Z9S5EGvzl3ieB49yhWfU707u/p1+hhd7M14Y8tPQnBZhVuMl8xdg6zdf83kODKLQDqo/7Y+jVQnuy34Pm7ffsB5v2W67Xi0c+1zTYB46QghxO44XaSmDelpiJDchTq8GB7lkCU0+s55jLLlnO31GPthI0E7DnJN99ZJ+JDA59+5YjW3Tl8/Xq4FBQ1zkJtlf31j8p2+qHDszyD0YOZ7rUT3aAjXTtVnKsD76GaSsGKVFWnFyqpLaN1efC/roFYURInZbtPyifrQgm7Z5BQ/6kiHsaMZVYfanPXSfNm+6foYXf5Fm8sqwbuZrnvcTYPj30bpjlM/zEPY13jYUGPg3sEUlJxrWokLUgMHq5nFUoRYH9KIzz8HrEUJIJOJ4kZaxarG18WTu9G3DEYw8j/jxn5+Jxrj+QASZx4uzoYKc61ck69hBfVQQCDkMt8aoKPvvV7+jeV3JjNqsWnoEQ3nedm1TbT78n+9jqPrs0Ua9J/CgkLJl5ARvF/7GLYoh0jp/oz6jhHof65XgGCECg5ip1WS9+hkeqUCMm3JcPT54lLfBq/E4HTv50OffCgpS7PjneEXtuq0GoJu2Guhx5g9CjiZXzW4deuxSRQ/T55wu8JgxjLwyoB+aWcf1F4e79/Lz9VDwQAghkYjjRRpEkdl4EG4sLvBkpU4aqTbK1PHDAuZ6IZfLvHZRnrHCgMcB/bAw7xONdc1rKnv5J8qLl33+jD47MHlpqUE9b3bDqCuMuEKjW1J+jJ3sFUfI4yqKlAHdvJ9VMUYzGSECu34zUe7dT5FqDdaqrv4pKQWbvKLNBs41OWgJid52GXhecq/23u/Jqz9XVct28B21/y70VzNtRVB84N9QFqIO7TnwOKpI7U1r/a1b3z1y4tQjdc04NtdmsPddQ25fcbDPNcXvJoSQSMTxIg2bC6o1sfnEV3mj1EYhqVBnjfe9m9orPytWKNWfvKxMVWSQ0OhT7+vY7a1fqny3nAf39NmBQYUmWm2YDvXBDJWg+F34naT8MV4jJNMXBT5P9bm98tMiv69tu0ZbYsRUeKKAAAn5KBDwx95bDaFXjHBCi4tNa8/J4wrPqd/7qGVT5SXzxzwPhrAlqjbxs3/7DzS8tXvQNm67rtYhxJq18vZKM4YcPXi9gJnh6Y9pBAw7e6F4TXsPHc33vsHbRwghkYjjRRrA/EMjVpCEXxpknzlhvSaq8UoCGpSiB1uBxrMeQ1UpRjkVlW8Gz1pyj7ZqI/d/DbsldWyhwqsQlSR0LFnp9TrBAo0xsoMh/ebzy7lzU68GZvvOW9br2j1QyEur3nCtyjnzBx4wI7CM9Xu/q/U7O33QX7UKgdiygx5v9ufA/OdioqAAnjw8Bg8aigfsYCQWJiVAuCGvragRWcA+C7S4rTTsjXrRp40QQiKRsBBp9skDqJwrDZRA0q+JRrXFAV3/UwZ2tyro7Iawasb6wj1dKix6YLckftOowPPtBq8a8tqK2uBJ+bHvYH63fv8Ee3+QD2Y+y/RVi/VqYPwrPA1YR0+xYG05IMAwAxMesT6D9srZd95Wv+/Sy7+RilWWqNdat8lXYLXrvtPnd6HthhFyaB6LyQPmMTSQLWmD3WCYnLSajdfplaIZNPKQdS2r11/Rq4QQElmEhUgDVsXmyz956i782VcuWptoQu1KRSfye0Rckt8QdmNo7ZF1cE+hni4k9mdsXisJDQo2r7UbZoYi+bs0phmQ0uX2nSRLNKClRGHkZWepAef4TDE/tijM68LsoAFtYcAr9ehxqpwdNcX6Do1+9zv1Oki2NwPTDab4wRgGpa/bfE1VZKKNh1n/uu12leMWSuAJNNeDIgVCCIlEwkakpa9cZG1EgdpplASEEM1rZUYF7ntltdAI1JvstWdUcjiqQwsDYit9iec1bI1nC9grP1UbedaJIwxpOhiE9YyQmTrrlF4NTmKrxurzjXv/d0XmpZnQHsKYxQHh1h79vUPLa1WeIbdf8grC06+8LJ/VXSGzF5xVlZn+2KcIBDI0s5276Jzy4oUSiEtzTegJF6hBLiGERAJhI9JQ/YjCASNuMrc/2dDl7HOnrNeAd85fGKmpAKMGqNmZ5jxjcR+8KGnTxkpuXOHJz3hcDUt/77cFXsOYCmlOGMbZnGEEEvUhHIrT6ytt5kTrs0aIuzS5cStR5Yt9UGWJ7KjwofodMR6LnrImoDgzIIfMiB+7YcTUvCXnVd8zJ3DwSH7RAEK0hBASqYSNSAPY7CyR886v1AD2koCZmQlNq+dvnof2eddzc1VemuoU799Cw2N4TsaapZKXUfgmlnPzurf5boCcNWOYDgAPHUQnCS+GjzuihAOS9jE/szBybl6zPvNgI8mehof3E+Vuq6+s34EcxqKAuDPiB4ZjeK2c5sGdNju//xqqagkhJFIJK5EGMI7J2vy+qKWEV3FAQn9Sh/xNLWVkf9V2A53ZIZzMumVv/VJ1+0cX96LIOnnUJ4QayLBRq8azpdRChJQ/mHdpxANaRBSF6punP//M3Tv06tODHEeMfbK+W62bFOiLFggzncCYE0FYGQUG5hqDNfUlhJBIIOxEGrxZdm8Y5iMW5ZVCL7LE5nWs58DUJvdagCrNxtW8yftFvKZVqRlkVqgyNRWgrQqxkvAH4UAjHiZMO6FXg4M2K+a7gNA3PK1PC4pc7JXJmGJRkkITc/2w0gQCEKOcbt5OkjPnYlQ1LAoslq66pHLk0MsN808xKQFjnsw1oKLUTvSe/Ma3KB4I1O+NEEIihbATaSD30QOfHmXxtStJ5p4oH6+aElHHD6uk/KJ6kcV99KqkjhtSZCGAAS0WEr+uF/C1YPGVK6g+arkxj/QziFswnfcxWLw4YcLUsYPzvxdV35Ls08UbixSI7ItnJbFZTev18MdKXoq3kWxxMQIIFqhnGSpK7z9IUU1n0VwXjWgXLrugWn2gjxsqQdGAF+8DRBS8Xh/V9O3ZVlIz4P1s1WGHtQ6BRwghkUxYijSAMCQax5oNS9lrz0jC5zUkof4nEvvm876P+VuFZ5Q3De01CmvBYSf70nlJavtl4NfzGMJOmdFbOUvTxcyaf9YSEafPFj2aC+04kr5t6vM9gSesuPmUEC4QZ8m9O/rkS+K7ixm1xQUeKf8h6/Bq9Rt6QIkuzCTFNAX746VtmKKAEVQt2m1Xg9sxScDeB+7wsQfWuag0xVxSQgiJZMJWpAHMr8S0APsGWBxLX75AcpMS9asUTc7tG56NtU3A14p9/VlJGd63VEJZxPnYB38XtxM+8iFT+udPBFDm+YMCPfbSZk9RffbQsBnfs5y7tyXr2CHVGDllaC+fimZlb/1StaMJ5MVLTMqUcxdj1RSD+UvOy4jxR1UlKqo37X3QStPQIgMzO+FZ69xrtwwccVBNGFiw9IJs3HpdTTDAHE6MiyosdIlcNIyYMq8baCQWIYREGmEt0gw5N66qjQv903w2NJsldf5GnVcSkOuTOnGEGlhd4DXffsHbQiO2eLMIiXtAE1gICYT5Ag1BDwREVWbUZtU8ucB3qTj2xi9UBWfGw0dqEPvu/XdUGHLYmCPybecoa5TT01q1+mvUfE6IO3T9Ry4Z+qtt2XFDFUtcuhKnphNAEJZm/zJ7D7fPPPeC1yeEkEjHFSLNTtaRA9bGBtGWdfRAiSsq1Ya6Y5PEf/K670bpMSSAp80YXyJPHHEXSIg3gmJVCUcWIbSesWm1JLZsqLyw/t8vu8VUeFYuN20iG7qOl949tyiP2PtVfUVVSQwCzH6MuZ1Ru2+rRH/koYWqiS1GU31cc5V1XRCEhBBCXCjSnpbcxw+9/dL8Nkx0jsfgdEwiIJENGsaa/C3kWBU2ZBzJ+RA/gcKTCIMmHj0ul2cukIMDJ8rmdsNkQdO+0qfmCKn38VRrBmdxDSKsZfsdKs8MUxEw8xJzM+F5S0vz5knaQ4rXbiSotVCC9we5aeaa4KUM9F4RQkgkQpGmwcaQsW65apLrI9AQZpoyukRJ2sT92BuuwrOWnJypcsHQUgJJ8fB6YUi5Ocff6jXbILWarA/4WGGGUCBeH0n/cxadk+3Rt9TA9+KGB+3zO+/cK1llaGmDf3P+Q9/bekQa3kdCCCEUaQrlPfOv2nzpx2p6AIoTCPEHifCYPABh8Wnd0q2KrFR9hcoL6z1ov0qgR/gPBQGlUe2Iwenm9wRqwVGebIu+6XPfdoP4JISQSCeiRZrynm1eK3Hv/cZHoKEHGtptEFIY46aeCCgwims1Gq1T7S/g3cJwdYQmIaJCLZ5KC/z7QpgV+W6o8MRMTghOFDyg5xpacgR6X2AoiCCEkEgnYkUahqDbx/bAUCiQuW0Dc2JIsXj0OFUqBREaSPCHCENrCjSAHTv5uKpg3LX3jly8HBeWPcCysnIlJjZN5bKdOP1Idu27I+s2XVPtNrzNbg9Jl9575Ou226Vusw3yYY0nb3KL94kQQiKdiBRpqNyM++DFfIFW4RlJnTqmRON1CAEQJ0ZY4GeIGHiPnC70cX2paVly+26yasoLUYRK1R/mn5Uxk45Jv2EHVEI/Gs+iOALNZe0iqqwMv2fd5mv6KgkhJLKJKJGGger+TWmTOrVUDUQJeRJQMGB6lCFH7fad0BaYoGEs8uXgrcNYpzUbrirhhZBqzwH71NgliK6nHeVUWoYqWXgbBww/qLxynDJACCH5RIxIy9y9Q+IqvWSJM8xRxEgoQp6WtRuvWqKjTdfoMhsKnp6RrTxfx089kq1RN1VuF/Lieg/eryo+EWIsq8kCxTVUtGKuKcQgwrzIPcMEgjkLz0mLttt9zi1pjzlCCIk0XC/SEMJM7t3Bx3uGSQEMbZLSAqIMBQBPIz4QIr15O0mOnngom7bdkHmLz8uoiceU0Pny260FGtGWtVXVYqtlu+0q7Nl/2EEZM/m4zJx3RhU5oO3IvoP35PS5GLlxK1Hi4tOD9otDLht6t9lff41H2BJCCCkcV4s0DDpPqPexj0DDvERCShuEOU2iPKoWMSzcoIabx6QpQYO2ExBgw8cdkS69d6tWG6XdwsPfKlbzFjF80XqrtO++U+WbjZtyXPVZQzh0597batA5xFZCYkapVpfC+9e1zx6f66EHjRBCiofrRVrcR69aAi1l1ADJfXhfP0pI0WA+JVpHLF11SWYvOKs6+Y+fekJGjj8qfQYfkDZdoqXRV5vUoHG7EEHYEUn3jb/epPqe2R8rLcPvxO9GiBWeKlwXQqDwch06+kCuXk+Q+ISMMgu/FgXmmuL9sV8zRCEhhJDi4fpwZ25CvGpWS8iTMN02WaC8DFMFEOLs3Gu3yunCdIPlay6rOZvweCEvzYx5cirXPAKxcYvN1j1BtO7YxQa1hBBSEiKmcICQJwGVkXYB9aSGUGiDLzeqBP/vB+5T+WazF55TFY3I7UKzV/RdK2wOaLiAnDp79SiGpx86Sg82IYSUFIo0QgoBoUK0skAe2WiPsIJna9DIQ2pGJ45RuQhPF0Khi5ZfVKILsydbd4qyREqTFpvl3oPQzsksD+DdGzb2iHXfMAjTC5fj9BmEEEJKAkUaIWVARkaOyhUzYgXVkhj75FYQhsVQebtA6zVwv+ojRwgh5MmgSCOkjIBA8U+cx8B0FCO4BVRvTpjmO8MU1a1o08HxaoQQ8nRQpBFShiDHzD46CvZd5yh5+ChVnxG+oIIU1av2e8P0gCvX4vUZhBBCngaKNELKAQwjt/dDQ3Na5LqFI2i6262vb+8zVG8iLw+NawkhhJQOFGmElBP3H6So6k67uEEBQmJSeORt4ToR2vQfPQXv2eWr9J4RQkhpQ5FGSDmC8Kd/7zVMA4jadduxOVypaVmqchVzOf2ve/3ma6U6oYAQQkg+FGmEhABUQ6I1h130IIR47UaCPiP03LufolqMVKnjO7bqw+orZfqc05KSmqXPJIQQUhZQpBESIjIzc2TW/LOqGtIugtDsFtMF0tLLf6pAUnKmbI26Kd377fW5Jtj7Vb3h2QcPw7/ogRBCwgGKNEJCDAabY/C5vyhCp/6+Qw7IynVX5NSZxxIXn17qIdHMrBzVbHbl2svSseeuAvlmsMq1V8mYycdVwQAhhJDygyKNEAcA8XX0xEMllOCx8hdKxhB6/Lrtduk37IBK4kdFJXqSYRTTnv135cSpRyqJH0UKSPR/HJOmRODZCzGqZca26JtqCDsGxON1/L14dmvacrMSiAxrEkJIaKBII8RhwGO2ZuNV5V0rTLCVhWGc1YKlF1RuHJvREkJIaKFII8TBYB4mvGCoopw665QatfRF660+A8yf1Op8vkF69N+rhsijjxvEISGEEOdAkUZIGAIvF+aDxsR6w5lnzsWo2aDbo2/J6vVXZP6S80rUIRy6dNUl2bDluuzce1uFVK/fTORMTUIICQMo0gghhBBCHAhFGiGEEEKIA6FII4QQQghxIBRphBBCCCEOhCKNEEIIIcSBUKQRQgghhDgQijRCCCGEEAdCkUYIIYQQ4kAo0gghhBBCHAhFGiGEEEKI4xD5/wFSqIZXSp2gNwAAAABJRU5ErkJggg==)"
      ],
      "metadata": {
        "id": "RVQtzBHks-6G"
      }
    },
    {
      "cell_type": "code",
      "source": [
        "x = np.arange(16).reshape(4,4)"
      ],
      "metadata": {
        "id": "k04lmrWjtIrQ"
      },
      "execution_count": 73,
      "outputs": []
    },
    {
      "cell_type": "code",
      "source": [
        "print(x)"
      ],
      "metadata": {
        "colab": {
          "base_uri": "https://localhost:8080/"
        },
        "id": "q_WsXjAXwVI1",
        "outputId": "912f8ad6-9544-48fe-ec7e-22507afe6efe"
      },
      "execution_count": 74,
      "outputs": [
        {
          "output_type": "stream",
          "name": "stdout",
          "text": [
            "[[ 0  1  2  3]\n",
            " [ 4  5  6  7]\n",
            " [ 8  9 10 11]\n",
            " [12 13 14 15]]\n"
          ]
        }
      ]
    },
    {
      "cell_type": "code",
      "source": [
        "np.hsplit(x,2)  #split across horizontal axis"
      ],
      "metadata": {
        "colab": {
          "base_uri": "https://localhost:8080/"
        },
        "id": "Muy8TeN1wWm4",
        "outputId": "c927cb6e-e948-4489-d15f-b74bea4e5cb2"
      },
      "execution_count": 75,
      "outputs": [
        {
          "output_type": "execute_result",
          "data": {
            "text/plain": [
              "[array([[ 0,  1],\n",
              "        [ 4,  5],\n",
              "        [ 8,  9],\n",
              "        [12, 13]]),\n",
              " array([[ 2,  3],\n",
              "        [ 6,  7],\n",
              "        [10, 11],\n",
              "        [14, 15]])]"
            ]
          },
          "metadata": {},
          "execution_count": 75
        }
      ]
    },
    {
      "cell_type": "code",
      "source": [
        "np.hsplit(x, [1,2])"
      ],
      "metadata": {
        "colab": {
          "base_uri": "https://localhost:8080/"
        },
        "id": "bwPr3fNqwwkV",
        "outputId": "eac7461d-d4ad-4e7f-f0b8-b25678cc3851"
      },
      "execution_count": 76,
      "outputs": [
        {
          "output_type": "execute_result",
          "data": {
            "text/plain": [
              "[array([[ 0],\n",
              "        [ 4],\n",
              "        [ 8],\n",
              "        [12]]),\n",
              " array([[ 1],\n",
              "        [ 5],\n",
              "        [ 9],\n",
              "        [13]]),\n",
              " array([[ 2,  3],\n",
              "        [ 6,  7],\n",
              "        [10, 11],\n",
              "        [14, 15]])]"
            ]
          },
          "metadata": {},
          "execution_count": 76
        }
      ]
    },
    {
      "cell_type": "code",
      "source": [
        "print(x)"
      ],
      "metadata": {
        "colab": {
          "base_uri": "https://localhost:8080/"
        },
        "id": "jB8tuTt5w8r1",
        "outputId": "552978aa-158b-4322-998c-340781f00bc3"
      },
      "execution_count": 77,
      "outputs": [
        {
          "output_type": "stream",
          "name": "stdout",
          "text": [
            "[[ 0  1  2  3]\n",
            " [ 4  5  6  7]\n",
            " [ 8  9 10 11]\n",
            " [12 13 14 15]]\n"
          ]
        }
      ]
    },
    {
      "cell_type": "code",
      "source": [
        "np.vsplit(x, 2)   #split across vertical axis"
      ],
      "metadata": {
        "colab": {
          "base_uri": "https://localhost:8080/"
        },
        "id": "Z8jER1S8xKJo",
        "outputId": "0fc5d6ed-f964-4cb4-8087-db7c17ba1d5d"
      },
      "execution_count": 78,
      "outputs": [
        {
          "output_type": "execute_result",
          "data": {
            "text/plain": [
              "[array([[0, 1, 2, 3],\n",
              "        [4, 5, 6, 7]]),\n",
              " array([[ 8,  9, 10, 11],\n",
              "        [12, 13, 14, 15]])]"
            ]
          },
          "metadata": {},
          "execution_count": 78
        }
      ]
    },
    {
      "cell_type": "code",
      "source": [
        "np.vsplit(x, [3])"
      ],
      "metadata": {
        "colab": {
          "base_uri": "https://localhost:8080/"
        },
        "id": "VEviRT2xxQzu",
        "outputId": "3d4258e4-0eb3-4a3b-f4de-de97d6d81b48"
      },
      "execution_count": 79,
      "outputs": [
        {
          "output_type": "execute_result",
          "data": {
            "text/plain": [
              "[array([[ 0,  1,  2,  3],\n",
              "        [ 4,  5,  6,  7],\n",
              "        [ 8,  9, 10, 11]]),\n",
              " array([[12, 13, 14, 15]])]"
            ]
          },
          "metadata": {},
          "execution_count": 79
        }
      ]
    },
    {
      "cell_type": "markdown",
      "source": [
        "#### **Horizontal Stack & Vertical Stack**\n",
        "\n",
        "**Expected o/p**\n",
        "\n",
        "![Capture.PNG](data:image/png;base64,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)"
      ],
      "metadata": {
        "id": "jTYxgDb5vNvJ"
      }
    },
    {
      "cell_type": "code",
      "source": [
        "data = np.arange(5)"
      ],
      "metadata": {
        "id": "u1WKsWblxrSS"
      },
      "execution_count": 80,
      "outputs": []
    },
    {
      "cell_type": "code",
      "source": [
        "print(data)"
      ],
      "metadata": {
        "colab": {
          "base_uri": "https://localhost:8080/"
        },
        "id": "_EnZi-ePx7b5",
        "outputId": "6a3321e4-a6ae-4b98-e92b-6bdeda730665"
      },
      "execution_count": 81,
      "outputs": [
        {
          "output_type": "stream",
          "name": "stdout",
          "text": [
            "[0 1 2 3 4]\n"
          ]
        }
      ]
    },
    {
      "cell_type": "code",
      "source": [
        "np.vstack((data, data, data))   #Vertical stack"
      ],
      "metadata": {
        "colab": {
          "base_uri": "https://localhost:8080/"
        },
        "id": "MZfjiIZ7x7_v",
        "outputId": "2bfe532d-9401-429e-d71f-46e1f84250f4"
      },
      "execution_count": 82,
      "outputs": [
        {
          "output_type": "execute_result",
          "data": {
            "text/plain": [
              "array([[0, 1, 2, 3, 4],\n",
              "       [0, 1, 2, 3, 4],\n",
              "       [0, 1, 2, 3, 4]])"
            ]
          },
          "metadata": {},
          "execution_count": 82
        }
      ]
    },
    {
      "cell_type": "code",
      "source": [
        "d1 = np.arange(5)\n",
        "\n",
        "d2 = np.arange(6,11)"
      ],
      "metadata": {
        "id": "Nh2wkfgWyHUX"
      },
      "execution_count": 83,
      "outputs": []
    },
    {
      "cell_type": "code",
      "source": [
        "np.vstack((d1, d2))"
      ],
      "metadata": {
        "colab": {
          "base_uri": "https://localhost:8080/"
        },
        "id": "mxE51aYuyRst",
        "outputId": "6e987c54-5722-4e5b-e508-2313aa2464ec"
      },
      "execution_count": 84,
      "outputs": [
        {
          "output_type": "execute_result",
          "data": {
            "text/plain": [
              "array([[ 0,  1,  2,  3,  4],\n",
              "       [ 6,  7,  8,  9, 10]])"
            ]
          },
          "metadata": {},
          "execution_count": 84
        }
      ]
    },
    {
      "cell_type": "code",
      "source": [
        "d1 = np.arange(5).reshape(5,1)"
      ],
      "metadata": {
        "id": "g3zitYhRyV5p"
      },
      "execution_count": 85,
      "outputs": []
    },
    {
      "cell_type": "code",
      "source": [
        "print(d1)"
      ],
      "metadata": {
        "colab": {
          "base_uri": "https://localhost:8080/"
        },
        "id": "rqxjURRLyvXC",
        "outputId": "1006e999-9050-4387-e419-cb0aa3ec511b"
      },
      "execution_count": 86,
      "outputs": [
        {
          "output_type": "stream",
          "name": "stdout",
          "text": [
            "[[0]\n",
            " [1]\n",
            " [2]\n",
            " [3]\n",
            " [4]]\n"
          ]
        }
      ]
    },
    {
      "cell_type": "code",
      "source": [
        "d2 = np.arange(6,11).reshape(5,1)"
      ],
      "metadata": {
        "id": "QyIfHPpOywaA"
      },
      "execution_count": 87,
      "outputs": []
    },
    {
      "cell_type": "code",
      "source": [
        "print(d2)"
      ],
      "metadata": {
        "colab": {
          "base_uri": "https://localhost:8080/"
        },
        "id": "f74-jUUZy3DX",
        "outputId": "7b4f0a84-6d86-4b4c-a15e-1cc14e6a8201"
      },
      "execution_count": 88,
      "outputs": [
        {
          "output_type": "stream",
          "name": "stdout",
          "text": [
            "[[ 6]\n",
            " [ 7]\n",
            " [ 8]\n",
            " [ 9]\n",
            " [10]]\n"
          ]
        }
      ]
    },
    {
      "cell_type": "code",
      "source": [
        "np.hstack((d1, d2))   #Horizontal stack"
      ],
      "metadata": {
        "colab": {
          "base_uri": "https://localhost:8080/"
        },
        "id": "yshqnfEGy5lp",
        "outputId": "62cea357-7ff2-40d6-86da-480a3c291180"
      },
      "execution_count": 89,
      "outputs": [
        {
          "output_type": "execute_result",
          "data": {
            "text/plain": [
              "array([[ 0,  6],\n",
              "       [ 1,  7],\n",
              "       [ 2,  8],\n",
              "       [ 3,  9],\n",
              "       [ 4, 10]])"
            ]
          },
          "metadata": {},
          "execution_count": 89
        }
      ]
    },
    {
      "cell_type": "code",
      "source": [
        "np.hstack((d1, d2, d1, d2))"
      ],
      "metadata": {
        "colab": {
          "base_uri": "https://localhost:8080/"
        },
        "id": "8bsMR_P1zAXK",
        "outputId": "feb56310-e904-448d-d9e9-2fcad96f7b9d"
      },
      "execution_count": 90,
      "outputs": [
        {
          "output_type": "execute_result",
          "data": {
            "text/plain": [
              "array([[ 0,  6,  0,  6],\n",
              "       [ 1,  7,  1,  7],\n",
              "       [ 2,  8,  2,  8],\n",
              "       [ 3,  9,  3,  9],\n",
              "       [ 4, 10,  4, 10]])"
            ]
          },
          "metadata": {},
          "execution_count": 90
        }
      ]
    },
    {
      "cell_type": "markdown",
      "source": [
        "#### **Concatenate with axis (i.e. alternative to vstack & hstack)**"
      ],
      "metadata": {
        "id": "QbLcaY-7yp3d"
      }
    },
    {
      "cell_type": "code",
      "source": [
        "z = np.array([[2,4]])"
      ],
      "metadata": {
        "id": "49BGiT_wzq_N"
      },
      "execution_count": 91,
      "outputs": []
    },
    {
      "cell_type": "code",
      "source": [
        "z.ndim"
      ],
      "metadata": {
        "colab": {
          "base_uri": "https://localhost:8080/"
        },
        "id": "jz4WZudFzuMA",
        "outputId": "fd7216e3-4d35-4081-f94c-8f110b0d404c"
      },
      "execution_count": 92,
      "outputs": [
        {
          "output_type": "execute_result",
          "data": {
            "text/plain": [
              "2"
            ]
          },
          "metadata": {},
          "execution_count": 92
        }
      ]
    },
    {
      "cell_type": "code",
      "source": [
        "z.shape"
      ],
      "metadata": {
        "colab": {
          "base_uri": "https://localhost:8080/"
        },
        "id": "hAQ5kb1ezzmj",
        "outputId": "fd387d3e-fa99-4611-e345-a844187bbe1c"
      },
      "execution_count": 93,
      "outputs": [
        {
          "output_type": "execute_result",
          "data": {
            "text/plain": [
              "(1, 2)"
            ]
          },
          "metadata": {},
          "execution_count": 93
        }
      ]
    },
    {
      "cell_type": "code",
      "source": [
        "z1 = np.concatenate([z,z] , axis = 0)   #Vertical concatenate\n",
        "print(z1)"
      ],
      "metadata": {
        "colab": {
          "base_uri": "https://localhost:8080/"
        },
        "id": "RY7d9KDvz4Dm",
        "outputId": "0071c40b-c1e9-49f7-8f79-275a976923ec"
      },
      "execution_count": 94,
      "outputs": [
        {
          "output_type": "stream",
          "name": "stdout",
          "text": [
            "[[2 4]\n",
            " [2 4]]\n"
          ]
        }
      ]
    },
    {
      "cell_type": "code",
      "source": [
        "z1.shape"
      ],
      "metadata": {
        "colab": {
          "base_uri": "https://localhost:8080/"
        },
        "id": "96lgOr5GzOgO",
        "outputId": "12ec35f2-31f4-43d3-8df7-486332651876"
      },
      "execution_count": 95,
      "outputs": [
        {
          "output_type": "execute_result",
          "data": {
            "text/plain": [
              "(2, 2)"
            ]
          },
          "metadata": {},
          "execution_count": 95
        }
      ]
    },
    {
      "cell_type": "code",
      "source": [
        "z1 = np.concatenate([z,z] , axis = 1)   #Horizontal concatenate\n",
        "print(z1)"
      ],
      "metadata": {
        "colab": {
          "base_uri": "https://localhost:8080/"
        },
        "id": "wUhHeSKv0GJw",
        "outputId": "f78a6279-826c-40df-fd90-3b88557a50c9"
      },
      "execution_count": 96,
      "outputs": [
        {
          "output_type": "stream",
          "name": "stdout",
          "text": [
            "[[2 4 2 4]]\n"
          ]
        }
      ]
    },
    {
      "cell_type": "code",
      "source": [
        "z1.shape"
      ],
      "metadata": {
        "colab": {
          "base_uri": "https://localhost:8080/"
        },
        "id": "JtU5rC1G0QIk",
        "outputId": "d5ba7dc0-b632-47a6-eca9-4598cfb59871"
      },
      "execution_count": 97,
      "outputs": [
        {
          "output_type": "execute_result",
          "data": {
            "text/plain": [
              "(1, 4)"
            ]
          },
          "metadata": {},
          "execution_count": 97
        }
      ]
    },
    {
      "cell_type": "markdown",
      "source": [
        "**Concept revision**"
      ],
      "metadata": {
        "id": "5R0XoNtpz0Bv"
      }
    },
    {
      "cell_type": "code",
      "source": [
        "a = np.arange(6)    #1D Numpy array\n",
        "print(a)"
      ],
      "metadata": {
        "colab": {
          "base_uri": "https://localhost:8080/"
        },
        "id": "11OPue7U0S3T",
        "outputId": "90e1fe93-15a9-4773-fc41-4fb793b977f9"
      },
      "execution_count": 98,
      "outputs": [
        {
          "output_type": "stream",
          "name": "stdout",
          "text": [
            "[0 1 2 3 4 5]\n"
          ]
        }
      ]
    },
    {
      "cell_type": "code",
      "source": [
        "a.shape"
      ],
      "metadata": {
        "colab": {
          "base_uri": "https://localhost:8080/"
        },
        "id": "J4ricIKZ042H",
        "outputId": "18218203-a418-4efe-e6bb-003ded3896dd"
      },
      "execution_count": 99,
      "outputs": [
        {
          "output_type": "execute_result",
          "data": {
            "text/plain": [
              "(6,)"
            ]
          },
          "metadata": {},
          "execution_count": 99
        }
      ]
    },
    {
      "cell_type": "code",
      "source": [
        "arr = a.reshape(1,-1)     #2D Numpy array  #reshape() - used often\n",
        "print(arr)"
      ],
      "metadata": {
        "colab": {
          "base_uri": "https://localhost:8080/"
        },
        "id": "ldd0jI_R09bn",
        "outputId": "e5c2f822-8d26-438d-fbea-856af403c3c7"
      },
      "execution_count": 100,
      "outputs": [
        {
          "output_type": "stream",
          "name": "stdout",
          "text": [
            "[[0 1 2 3 4 5]]\n"
          ]
        }
      ]
    },
    {
      "cell_type": "code",
      "source": [
        "arr.shape"
      ],
      "metadata": {
        "colab": {
          "base_uri": "https://localhost:8080/"
        },
        "id": "uFs77jhq1Jca",
        "outputId": "5768f2b7-29d0-44b3-8185-fb820b8bce1c"
      },
      "execution_count": 101,
      "outputs": [
        {
          "output_type": "execute_result",
          "data": {
            "text/plain": [
              "(1, 6)"
            ]
          },
          "metadata": {},
          "execution_count": 101
        }
      ]
    },
    {
      "cell_type": "markdown",
      "source": [
        "#### **Expand Dim (i.e. alternative to reshape)**\n",
        "\n",
        "**Expand Dimension** is an alternative to **reshape()**\n",
        "\n",
        "**Expected o/p**\n",
        "\n",
        "![Capture.PNG](data:image/png;base64,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)"
      ],
      "metadata": {
        "id": "KgGdT6ny0TOq"
      }
    },
    {
      "cell_type": "code",
      "source": [
        "a = np.arange(6)"
      ],
      "metadata": {
        "id": "Fwq0HJJ021et"
      },
      "execution_count": 102,
      "outputs": []
    },
    {
      "cell_type": "code",
      "source": [
        "print(a)"
      ],
      "metadata": {
        "colab": {
          "base_uri": "https://localhost:8080/"
        },
        "id": "rLdRxgFB24tf",
        "outputId": "b068b149-93c2-4ae5-f65f-e60c265fe321"
      },
      "execution_count": 103,
      "outputs": [
        {
          "output_type": "stream",
          "name": "stdout",
          "text": [
            "[0 1 2 3 4 5]\n"
          ]
        }
      ]
    },
    {
      "cell_type": "code",
      "source": [
        "a.shape"
      ],
      "metadata": {
        "colab": {
          "base_uri": "https://localhost:8080/"
        },
        "id": "Znf6SQT326C6",
        "outputId": "fee7bfff-9593-4efc-9f55-f32fd7ac4524"
      },
      "execution_count": 104,
      "outputs": [
        {
          "output_type": "execute_result",
          "data": {
            "text/plain": [
              "(6,)"
            ]
          },
          "metadata": {},
          "execution_count": 104
        }
      ]
    },
    {
      "cell_type": "code",
      "source": [
        "a1 = np.expand_dims(a, axis = 0)    #Vertical Expand dimenson - used less     #this is adding one more dimension\n",
        "print(a1)"
      ],
      "metadata": {
        "colab": {
          "base_uri": "https://localhost:8080/"
        },
        "id": "Mxp9lFuV1Lki",
        "outputId": "3140c803-db1c-468b-da56-bf9900052d40"
      },
      "execution_count": 105,
      "outputs": [
        {
          "output_type": "stream",
          "name": "stdout",
          "text": [
            "[[0 1 2 3 4 5]]\n"
          ]
        }
      ]
    },
    {
      "cell_type": "code",
      "source": [
        "a1.shape"
      ],
      "metadata": {
        "colab": {
          "base_uri": "https://localhost:8080/"
        },
        "id": "n0YncqNB3FY8",
        "outputId": "b7ef1069-f818-459b-cde1-63061797f0e9"
      },
      "execution_count": 106,
      "outputs": [
        {
          "output_type": "execute_result",
          "data": {
            "text/plain": [
              "(1, 6)"
            ]
          },
          "metadata": {},
          "execution_count": 106
        }
      ]
    },
    {
      "cell_type": "code",
      "source": [
        "a = np.arange(5)"
      ],
      "metadata": {
        "id": "jAw2LdXG3jKa"
      },
      "execution_count": 107,
      "outputs": []
    },
    {
      "cell_type": "code",
      "source": [
        "print(a)"
      ],
      "metadata": {
        "colab": {
          "base_uri": "https://localhost:8080/"
        },
        "id": "1hU4ETRZ3z1z",
        "outputId": "0ef3326b-1acc-4d47-8c3d-ea35c8ff1c95"
      },
      "execution_count": 108,
      "outputs": [
        {
          "output_type": "stream",
          "name": "stdout",
          "text": [
            "[0 1 2 3 4]\n"
          ]
        }
      ]
    },
    {
      "cell_type": "code",
      "source": [
        "a.shape"
      ],
      "metadata": {
        "colab": {
          "base_uri": "https://localhost:8080/"
        },
        "id": "fHfjJzsr31Kb",
        "outputId": "200e2646-6c0d-4a31-c47b-b478719a38e8"
      },
      "execution_count": 109,
      "outputs": [
        {
          "output_type": "execute_result",
          "data": {
            "text/plain": [
              "(5,)"
            ]
          },
          "metadata": {},
          "execution_count": 109
        }
      ]
    },
    {
      "cell_type": "code",
      "source": [
        "a2 = np.expand_dims(a, axis = 1)    #Horizontal Expand dimenson    #this is adding one more dimension"
      ],
      "metadata": {
        "id": "pLNh8dpH3tI0"
      },
      "execution_count": 110,
      "outputs": []
    },
    {
      "cell_type": "code",
      "source": [
        "a2.shape"
      ],
      "metadata": {
        "colab": {
          "base_uri": "https://localhost:8080/"
        },
        "id": "b04oq0d34Bni",
        "outputId": "8c9d15b5-cd51-45da-b8b1-2d2b055c325f"
      },
      "execution_count": 111,
      "outputs": [
        {
          "output_type": "execute_result",
          "data": {
            "text/plain": [
              "(5, 1)"
            ]
          },
          "metadata": {},
          "execution_count": 111
        }
      ]
    },
    {
      "cell_type": "code",
      "source": [
        "print(a2)"
      ],
      "metadata": {
        "colab": {
          "base_uri": "https://localhost:8080/"
        },
        "id": "Eezm7qYt4Cz7",
        "outputId": "e606a01d-f25d-427f-ce3c-1abc6f8d375c"
      },
      "execution_count": 112,
      "outputs": [
        {
          "output_type": "stream",
          "name": "stdout",
          "text": [
            "[[0]\n",
            " [1]\n",
            " [2]\n",
            " [3]\n",
            " [4]]\n"
          ]
        }
      ]
    },
    {
      "cell_type": "code",
      "source": [
        "a3 = a.reshape(-1, 1)   #same as Horizontal Expand dimenson\n",
        "print(a3)"
      ],
      "metadata": {
        "colab": {
          "base_uri": "https://localhost:8080/"
        },
        "id": "nkFKmh3J4ICl",
        "outputId": "fbb18db5-7082-4ab6-8e06-1d8b5df1e50f"
      },
      "execution_count": 113,
      "outputs": [
        {
          "output_type": "stream",
          "name": "stdout",
          "text": [
            "[[0]\n",
            " [1]\n",
            " [2]\n",
            " [3]\n",
            " [4]]\n"
          ]
        }
      ]
    },
    {
      "cell_type": "code",
      "source": [
        "a4 = a.reshape(1, -1)   #same as Vertical Expand dimenson\n",
        "print(a4)"
      ],
      "metadata": {
        "colab": {
          "base_uri": "https://localhost:8080/"
        },
        "id": "IAGpUJfM26WP",
        "outputId": "2e93ce07-aa1d-4005-99bd-31583ed4ef8f"
      },
      "execution_count": 114,
      "outputs": [
        {
          "output_type": "stream",
          "name": "stdout",
          "text": [
            "[[0 1 2 3 4]]\n"
          ]
        }
      ]
    },
    {
      "cell_type": "markdown",
      "source": [
        "#### **newaxis (i.e. alternative to reshape & expand)**"
      ],
      "metadata": {
        "id": "iLJD8bvs3lBh"
      }
    },
    {
      "cell_type": "code",
      "source": [
        "a = np.arange(6)"
      ],
      "metadata": {
        "id": "FNW_mMeW4WTj"
      },
      "execution_count": 115,
      "outputs": []
    },
    {
      "cell_type": "code",
      "source": [
        "print(a)"
      ],
      "metadata": {
        "colab": {
          "base_uri": "https://localhost:8080/"
        },
        "id": "INc6jlJ84ocr",
        "outputId": "2d75a9e6-2be9-4a7c-c61c-b8a0bd817d87"
      },
      "execution_count": 116,
      "outputs": [
        {
          "output_type": "stream",
          "name": "stdout",
          "text": [
            "[0 1 2 3 4 5]\n"
          ]
        }
      ]
    },
    {
      "cell_type": "code",
      "source": [
        "a[np.newaxis, :]    #same as expand_dims(a, axis = 0) --> used less"
      ],
      "metadata": {
        "colab": {
          "base_uri": "https://localhost:8080/"
        },
        "id": "_K83ltFV4o4s",
        "outputId": "8bbc24c1-1a84-45a6-ec08-2024aed06b0f"
      },
      "execution_count": 117,
      "outputs": [
        {
          "output_type": "execute_result",
          "data": {
            "text/plain": [
              "array([[0, 1, 2, 3, 4, 5]])"
            ]
          },
          "metadata": {},
          "execution_count": 117
        }
      ]
    },
    {
      "cell_type": "code",
      "source": [
        "a[:, np.newaxis]    #same as expand_dims(a, axis = 1)"
      ],
      "metadata": {
        "colab": {
          "base_uri": "https://localhost:8080/"
        },
        "id": "mcISuf_s5BKs",
        "outputId": "574cd3df-0a45-4056-af2a-b7894a7b8e5e"
      },
      "execution_count": 118,
      "outputs": [
        {
          "output_type": "execute_result",
          "data": {
            "text/plain": [
              "array([[0],\n",
              "       [1],\n",
              "       [2],\n",
              "       [3],\n",
              "       [4],\n",
              "       [5]])"
            ]
          },
          "metadata": {},
          "execution_count": 118
        }
      ]
    },
    {
      "cell_type": "markdown",
      "source": [
        "#### **Squeeze Dim**\n",
        "\n",
        "**`NOTE:`** You will be using all of these topics in **\"Deep Learning\"** concepts..."
      ],
      "metadata": {
        "id": "GtYqhnbd4ipY"
      }
    },
    {
      "cell_type": "code",
      "source": [
        "a = np.arange(9).reshape(1,1,9)   #3D Numpy array  #that is, reshape(row, column, depth)"
      ],
      "metadata": {
        "id": "CDTI_1J85TFx"
      },
      "execution_count": 119,
      "outputs": []
    },
    {
      "cell_type": "code",
      "source": [
        "print(a)"
      ],
      "metadata": {
        "colab": {
          "base_uri": "https://localhost:8080/"
        },
        "id": "UU0Vw54Y5fgX",
        "outputId": "267383c0-23f6-49b1-aecf-440fb24e55d0"
      },
      "execution_count": 120,
      "outputs": [
        {
          "output_type": "stream",
          "name": "stdout",
          "text": [
            "[[[0 1 2 3 4 5 6 7 8]]]\n"
          ]
        }
      ]
    },
    {
      "cell_type": "code",
      "source": [
        "a.shape"
      ],
      "metadata": {
        "colab": {
          "base_uri": "https://localhost:8080/"
        },
        "id": "ao7ol7HG5g6I",
        "outputId": "d2d376ab-3103-48b8-b5de-63546998874a"
      },
      "execution_count": 121,
      "outputs": [
        {
          "output_type": "execute_result",
          "data": {
            "text/plain": [
              "(1, 1, 9)"
            ]
          },
          "metadata": {},
          "execution_count": 121
        }
      ]
    },
    {
      "cell_type": "code",
      "source": [
        "a.ndim"
      ],
      "metadata": {
        "colab": {
          "base_uri": "https://localhost:8080/"
        },
        "id": "e0SfVmCW5lCA",
        "outputId": "97faf5c3-bb3d-4583-fe97-2029cb903eac"
      },
      "execution_count": 122,
      "outputs": [
        {
          "output_type": "execute_result",
          "data": {
            "text/plain": [
              "3"
            ]
          },
          "metadata": {},
          "execution_count": 122
        }
      ]
    },
    {
      "cell_type": "code",
      "source": [
        "a2 = np.squeeze(a)      #Squeeze dimenson - it removes unnecessary axis"
      ],
      "metadata": {
        "id": "BONXxIFx5ls6"
      },
      "execution_count": 123,
      "outputs": []
    },
    {
      "cell_type": "code",
      "source": [
        "print(a2)"
      ],
      "metadata": {
        "colab": {
          "base_uri": "https://localhost:8080/"
        },
        "id": "7hq-hs6D59JV",
        "outputId": "8f74da15-26cd-47d5-b977-eea5464918e7"
      },
      "execution_count": 124,
      "outputs": [
        {
          "output_type": "stream",
          "name": "stdout",
          "text": [
            "[0 1 2 3 4 5 6 7 8]\n"
          ]
        }
      ]
    },
    {
      "cell_type": "code",
      "source": [
        "a2.shape"
      ],
      "metadata": {
        "colab": {
          "base_uri": "https://localhost:8080/"
        },
        "id": "RbIVSfVM5-Nz",
        "outputId": "bee6a879-219a-4441-db87-2c2ec463061b"
      },
      "execution_count": 125,
      "outputs": [
        {
          "output_type": "execute_result",
          "data": {
            "text/plain": [
              "(9,)"
            ]
          },
          "metadata": {},
          "execution_count": 125
        }
      ]
    },
    {
      "cell_type": "markdown",
      "source": [
        "**How to remove specific axis ???**"
      ],
      "metadata": {
        "id": "vRx6geUc5vew"
      }
    },
    {
      "cell_type": "code",
      "source": [
        "print(a)"
      ],
      "metadata": {
        "colab": {
          "base_uri": "https://localhost:8080/"
        },
        "id": "RKHHvU5k6KA1",
        "outputId": "74576cfc-d8f6-4cf3-ef11-0bb83af67125"
      },
      "execution_count": 126,
      "outputs": [
        {
          "output_type": "stream",
          "name": "stdout",
          "text": [
            "[[[0 1 2 3 4 5 6 7 8]]]\n"
          ]
        }
      ]
    },
    {
      "cell_type": "code",
      "source": [
        "a.shape"
      ],
      "metadata": {
        "colab": {
          "base_uri": "https://localhost:8080/"
        },
        "id": "RJggeClf6V2-",
        "outputId": "b7e239e6-cf06-4b89-d2b7-48febdf23fb0"
      },
      "execution_count": 127,
      "outputs": [
        {
          "output_type": "execute_result",
          "data": {
            "text/plain": [
              "(1, 1, 9)"
            ]
          },
          "metadata": {},
          "execution_count": 127
        }
      ]
    },
    {
      "cell_type": "code",
      "source": [
        "a3 = np.squeeze(a, axis = 1)"
      ],
      "metadata": {
        "id": "h6vBI8W66WuH"
      },
      "execution_count": 128,
      "outputs": []
    },
    {
      "cell_type": "code",
      "source": [
        "a3.shape"
      ],
      "metadata": {
        "colab": {
          "base_uri": "https://localhost:8080/"
        },
        "id": "5CasPmaD6bum",
        "outputId": "8c8678f1-ecfe-4ff9-965f-0991b151c4b7"
      },
      "execution_count": 129,
      "outputs": [
        {
          "output_type": "execute_result",
          "data": {
            "text/plain": [
              "(1, 9)"
            ]
          },
          "metadata": {},
          "execution_count": 129
        }
      ]
    },
    {
      "cell_type": "code",
      "source": [
        "print(a3)"
      ],
      "metadata": {
        "colab": {
          "base_uri": "https://localhost:8080/"
        },
        "id": "kKdVc5w86BxD",
        "outputId": "8b05a6d6-59af-4fc1-a32f-7459ec4a92ba"
      },
      "execution_count": 130,
      "outputs": [
        {
          "output_type": "stream",
          "name": "stdout",
          "text": [
            "[[0 1 2 3 4 5 6 7 8]]\n"
          ]
        }
      ]
    },
    {
      "cell_type": "code",
      "source": [
        "a4 = np.squeeze(a3, axis = 0)\n",
        "print(a4)"
      ],
      "metadata": {
        "colab": {
          "base_uri": "https://localhost:8080/"
        },
        "id": "vc5iiPbR6iPR",
        "outputId": "f75ab872-77aa-4d5d-895d-68e7e51e7c9b"
      },
      "execution_count": 131,
      "outputs": [
        {
          "output_type": "stream",
          "name": "stdout",
          "text": [
            "[0 1 2 3 4 5 6 7 8]\n"
          ]
        }
      ]
    },
    {
      "cell_type": "code",
      "source": [
        "a4.shape"
      ],
      "metadata": {
        "id": "p29M5mti6sXY",
        "outputId": "08cf1ede-532a-4e04-b662-693e0b1e7448",
        "colab": {
          "base_uri": "https://localhost:8080/"
        }
      },
      "execution_count": 132,
      "outputs": [
        {
          "output_type": "execute_result",
          "data": {
            "text/plain": [
              "(9,)"
            ]
          },
          "metadata": {},
          "execution_count": 132
        }
      ]
    },
    {
      "cell_type": "code",
      "source": [
        "a5 = np.squeeze(a, axis = 2)    #this will throw error message"
      ],
      "metadata": {
        "id": "Q7zGvzYH6ucq",
        "colab": {
          "base_uri": "https://localhost:8080/",
          "height": 311
        },
        "outputId": "6fb15784-53b3-43df-c836-293d5920a596"
      },
      "execution_count": 133,
      "outputs": [
        {
          "output_type": "error",
          "ename": "ValueError",
          "evalue": "ignored",
          "traceback": [
            "\u001b[0;31m---------------------------------------------------------------------------\u001b[0m",
            "\u001b[0;31mValueError\u001b[0m                                Traceback (most recent call last)",
            "\u001b[0;32m<ipython-input-133-1a7a48cc25cf>\u001b[0m in \u001b[0;36m<cell line: 1>\u001b[0;34m()\u001b[0m\n\u001b[0;32m----> 1\u001b[0;31m \u001b[0ma5\u001b[0m \u001b[0;34m=\u001b[0m \u001b[0mnp\u001b[0m\u001b[0;34m.\u001b[0m\u001b[0msqueeze\u001b[0m\u001b[0;34m(\u001b[0m\u001b[0ma\u001b[0m\u001b[0;34m,\u001b[0m \u001b[0maxis\u001b[0m \u001b[0;34m=\u001b[0m \u001b[0;36m2\u001b[0m\u001b[0;34m)\u001b[0m    \u001b[0;31m#this will throw error message\u001b[0m\u001b[0;34m\u001b[0m\u001b[0;34m\u001b[0m\u001b[0m\n\u001b[0m",
            "\u001b[0;32m/usr/local/lib/python3.10/dist-packages/numpy/core/overrides.py\u001b[0m in \u001b[0;36msqueeze\u001b[0;34m(*args, **kwargs)\u001b[0m\n",
            "\u001b[0;32m/usr/local/lib/python3.10/dist-packages/numpy/core/fromnumeric.py\u001b[0m in \u001b[0;36msqueeze\u001b[0;34m(a, axis)\u001b[0m\n\u001b[1;32m   1543\u001b[0m         \u001b[0;32mreturn\u001b[0m \u001b[0msqueeze\u001b[0m\u001b[0;34m(\u001b[0m\u001b[0;34m)\u001b[0m\u001b[0;34m\u001b[0m\u001b[0;34m\u001b[0m\u001b[0m\n\u001b[1;32m   1544\u001b[0m     \u001b[0;32melse\u001b[0m\u001b[0;34m:\u001b[0m\u001b[0;34m\u001b[0m\u001b[0;34m\u001b[0m\u001b[0m\n\u001b[0;32m-> 1545\u001b[0;31m         \u001b[0;32mreturn\u001b[0m \u001b[0msqueeze\u001b[0m\u001b[0;34m(\u001b[0m\u001b[0maxis\u001b[0m\u001b[0;34m=\u001b[0m\u001b[0maxis\u001b[0m\u001b[0;34m)\u001b[0m\u001b[0;34m\u001b[0m\u001b[0;34m\u001b[0m\u001b[0m\n\u001b[0m\u001b[1;32m   1546\u001b[0m \u001b[0;34m\u001b[0m\u001b[0m\n\u001b[1;32m   1547\u001b[0m \u001b[0;34m\u001b[0m\u001b[0m\n",
            "\u001b[0;31mValueError\u001b[0m: cannot select an axis to squeeze out which has size not equal to one"
          ]
        }
      ]
    }
  ]
}