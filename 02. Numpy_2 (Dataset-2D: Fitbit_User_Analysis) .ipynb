{
  "nbformat": 4,
  "nbformat_minor": 0,
  "metadata": {
    "colab": {
      "provenance": [],
      "toc_visible": true,
      "include_colab_link": true
    },
    "kernelspec": {
      "name": "python3",
      "display_name": "Python 3"
    },
    "language_info": {
      "name": "python"
    }
  },
  "cells": [
    {
      "cell_type": "markdown",
      "metadata": {
        "id": "view-in-github",
        "colab_type": "text"
      },
      "source": [
        "<a href=\"https://colab.research.google.com/github/SaiArjunSairamje/Python_Libraries/blob/main/02.%20Numpy_2%20(Dataset-2D%3A%20Fitbit_User_Analysis)%20.ipynb\" target=\"_parent\"><img src=\"https://colab.research.google.com/assets/colab-badge.svg\" alt=\"Open In Colab\"/></a>"
      ]
    },
    {
      "cell_type": "markdown",
      "source": [
        "# **(1) Importing the Libraries and Dataset \"Fitbit\"**\n",
        "***"
      ],
      "metadata": {
        "id": "MyxUcspYUTaR"
      }
    },
    {
      "cell_type": "code",
      "execution_count": null,
      "metadata": {
        "id": "odx6UcXd_F45",
        "colab": {
          "base_uri": "https://localhost:8080/"
        },
        "outputId": "d4108f88-575b-475f-fb44-31b921b5891c"
      },
      "outputs": [
        {
          "output_type": "stream",
          "name": "stdout",
          "text": [
            "Welcome to the session\n"
          ]
        }
      ],
      "source": [
        "print(\"Welcome to the session\")"
      ]
    },
    {
      "cell_type": "code",
      "source": [
        "import numpy as np"
      ],
      "metadata": {
        "id": "pjB9nDHaDPgW"
      },
      "execution_count": null,
      "outputs": []
    },
    {
      "cell_type": "code",
      "source": [
        "data = np.loadtxt('fit.txt', dtype = 'str')"
      ],
      "metadata": {
        "id": "EEQfjJKA_9YJ"
      },
      "execution_count": null,
      "outputs": []
    },
    {
      "cell_type": "code",
      "source": [
        "data.ndim"
      ],
      "metadata": {
        "colab": {
          "base_uri": "https://localhost:8080/"
        },
        "id": "ZYZ__CwXDLl-",
        "outputId": "792ab43c-11ce-4b1f-fbd2-d8c93e8876ee"
      },
      "execution_count": null,
      "outputs": [
        {
          "output_type": "execute_result",
          "data": {
            "text/plain": [
              "2"
            ]
          },
          "metadata": {},
          "execution_count": 4
        }
      ]
    },
    {
      "cell_type": "code",
      "source": [
        "data.shape"
      ],
      "metadata": {
        "colab": {
          "base_uri": "https://localhost:8080/"
        },
        "id": "ElzT6bUWDT14",
        "outputId": "9d86ac17-44f1-42db-d557-686308f480d9"
      },
      "execution_count": null,
      "outputs": [
        {
          "output_type": "execute_result",
          "data": {
            "text/plain": [
              "(96, 6)"
            ]
          },
          "metadata": {},
          "execution_count": 5
        }
      ]
    },
    {
      "cell_type": "code",
      "source": [
        "print(data)     #2D list"
      ],
      "metadata": {
        "colab": {
          "base_uri": "https://localhost:8080/"
        },
        "id": "uWA9SRwIDk6v",
        "outputId": "7d76d9ac-a9cc-4675-dbb1-b54d9c3e4efc"
      },
      "execution_count": null,
      "outputs": [
        {
          "output_type": "stream",
          "name": "stdout",
          "text": [
            "[['06-10-2017' '5464' 'Neutral' '181' '5' 'Inactive']\n",
            " ['07-10-2017' '6041' 'Sad' '197' '8' 'Inactive']\n",
            " ['08-10-2017' '25' 'Sad' '0' '5' 'Inactive']\n",
            " ['09-10-2017' '5461' 'Sad' '174' '4' 'Inactive']\n",
            " ['10-10-2017' '6915' 'Neutral' '223' '5' 'Active']\n",
            " ['11-10-2017' '4545' 'Sad' '149' '6' 'Inactive']\n",
            " ['12-10-2017' '4340' 'Sad' '140' '6' 'Inactive']\n",
            " ['13-10-2017' '1230' 'Sad' '38' '7' 'Inactive']\n",
            " ['14-10-2017' '61' 'Sad' '1' '5' 'Inactive']\n",
            " ['15-10-2017' '1258' 'Sad' '40' '6' 'Inactive']\n",
            " ['16-10-2017' '3148' 'Sad' '101' '8' 'Inactive']\n",
            " ['17-10-2017' '4687' 'Sad' '152' '5' 'Inactive']\n",
            " ['18-10-2017' '4732' 'Happy' '150' '6' 'Active']\n",
            " ['19-10-2017' '3519' 'Sad' '113' '7' 'Inactive']\n",
            " ['20-10-2017' '1580' 'Sad' '49' '5' 'Inactive']\n",
            " ['21-10-2017' '2822' 'Sad' '86' '6' 'Inactive']\n",
            " ['22-10-2017' '181' 'Sad' '6' '8' 'Inactive']\n",
            " ['23-10-2017' '3158' 'Neutral' '99' '5' 'Inactive']\n",
            " ['24-10-2017' '4383' 'Neutral' '143' '4' 'Inactive']\n",
            " ['25-10-2017' '3881' 'Neutral' '125' '5' 'Inactive']\n",
            " ['26-10-2017' '4037' 'Neutral' '129' '6' 'Inactive']\n",
            " ['27-10-2017' '202' 'Neutral' '6' '8' 'Inactive']\n",
            " ['28-10-2017' '292' 'Neutral' '9' '5' 'Inactive']\n",
            " ['29-10-2017' '330' 'Happy' '10' '6' 'Inactive']\n",
            " ['30-10-2017' '2209' 'Neutral' '72' '5' 'Inactive']\n",
            " ['31-10-2017' '4550' 'Happy' '150' '8' 'Active']\n",
            " ['01-11-2017' '4435' 'Happy' '141' '5' 'Inactive']\n",
            " ['02-11-2017' '4779' 'Happy' '156' '4' 'Inactive']\n",
            " ['03-11-2017' '1831' 'Happy' '57' '5' 'Inactive']\n",
            " ['04-11-2017' '2255' 'Happy' '72' '4' 'Inactive']\n",
            " ['05-11-2017' '539' 'Happy' '17' '5' 'Active']\n",
            " ['06-11-2017' '5464' 'Happy' '181' '4' 'Inactive']\n",
            " ['07-11-2017' '6041' 'Neutral' '197' '3' 'Inactive']\n",
            " ['08-11-2017' '4068' 'Happy' '131' '2' 'Inactive']\n",
            " ['09-11-2017' '4683' 'Happy' '154' '9' 'Inactive']\n",
            " ['10-11-2017' '4033' 'Happy' '137' '5' 'Inactive']\n",
            " ['11-11-2017' '6314' 'Happy' '193' '6' 'Active']\n",
            " ['12-11-2017' '614' 'Happy' '19' '4' 'Active']\n",
            " ['13-11-2017' '3149' 'Happy' '101' '5' 'Active']\n",
            " ['14-11-2017' '4005' 'Happy' '139' '8' 'Active']\n",
            " ['15-11-2017' '4880' 'Happy' '164' '4' 'Active']\n",
            " ['16-11-2017' '4136' 'Happy' '137' '5' 'Active']\n",
            " ['17-11-2017' '705' 'Happy' '22' '6' 'Active']\n",
            " ['18-11-2017' '570' 'Neutral' '17' '5' 'Active']\n",
            " ['19-11-2017' '269' 'Happy' '9' '6' 'Active']\n",
            " ['20-11-2017' '4275' 'Happy' '145' '5' 'Inactive']\n",
            " ['21-11-2017' '5999' 'Happy' '192' '6' 'Inactive']\n",
            " ['22-11-2017' '4421' 'Happy' '146' '5' 'Inactive']\n",
            " ['23-11-2017' '6930' 'Happy' '234' '6' 'Inactive']\n",
            " ['24-11-2017' '5195' 'Happy' '167' '5' 'Inactive']\n",
            " ['25-11-2017' '546' 'Happy' '16' '6' 'Inactive']\n",
            " ['26-11-2017' '493' 'Happy' '17' '7' 'Active']\n",
            " ['27-11-2017' '995' 'Happy' '32' '6' 'Active']\n",
            " ['28-11-2017' '1163' 'Neutral' '35' '7' 'Active']\n",
            " ['29-11-2017' '6676' 'Sad' '220' '6' 'Active']\n",
            " ['30-11-2017' '3608' 'Happy' '116' '5' 'Active']\n",
            " ['01-12-2017' '774' 'Happy' '23' '6' 'Active']\n",
            " ['02-12-2017' '1421' 'Happy' '44' '7' 'Active']\n",
            " ['03-12-2017' '4064' 'Happy' '131' '8' 'Active']\n",
            " ['04-12-2017' '2725' 'Happy' '86' '8' 'Active']\n",
            " ['05-12-2017' '5934' 'Happy' '194' '7' 'Active']\n",
            " ['06-12-2017' '1867' 'Happy' '60' '8' 'Active']\n",
            " ['07-12-2017' '3721' 'Sad' '121' '5' 'Active']\n",
            " ['08-12-2017' '2374' 'Neutral' '76' '4' 'Inactive']\n",
            " ['09-12-2017' '2909' 'Neutral' '93' '3' 'Active']\n",
            " ['10-12-2017' '1648' 'Sad' '53' '3' 'Active']\n",
            " ['11-12-2017' '799' 'Sad' '25' '4' 'Inactive']\n",
            " ['12-12-2017' '7102' 'Neutral' '227' '5' 'Active']\n",
            " ['13-12-2017' '3941' 'Neutral' '125' '5' 'Active']\n",
            " ['14-12-2017' '7422' 'Happy' '243' '5' 'Active']\n",
            " ['15-12-2017' '437' 'Neutral' '14' '3' 'Active']\n",
            " ['16-12-2017' '1231' 'Neutral' '39' '4' 'Active']\n",
            " ['17-12-2017' '1696' 'Sad' '55' '4' 'Inactive']\n",
            " ['18-12-2017' '4921' 'Neutral' '158' '5' 'Active']\n",
            " ['19-12-2017' '221' 'Sad' '7' '5' 'Active']\n",
            " ['20-12-2017' '6500' 'Neutral' '213' '5' 'Active']\n",
            " ['21-12-2017' '3575' 'Neutral' '116' '5' 'Active']\n",
            " ['22-12-2017' '4061' 'Sad' '129' '5' 'Inactive']\n",
            " ['23-12-2017' '651' 'Sad' '21' '5' 'Inactive']\n",
            " ['24-12-2017' '753' 'Sad' '28' '4' 'Inactive']\n",
            " ['25-12-2017' '518' 'Sad' '16' '3' 'Inactive']\n",
            " ['26-12-2017' '5537' 'Happy' '180' '4' 'Active']\n",
            " ['27-12-2017' '4108' 'Neutral' '138' '5' 'Active']\n",
            " ['28-12-2017' '5376' 'Happy' '176' '5' 'Active']\n",
            " ['29-12-2017' '3066' 'Neutral' '99' '4' 'Active']\n",
            " ['30-12-2017' '177' 'Sad' '5' '5' 'Inactive']\n",
            " ['31-12-2017' '36' 'Sad' '1' '3' 'Inactive']\n",
            " ['01-01-2018' '299' 'Sad' '10' '3' 'Inactive']\n",
            " ['02-01-2018' '1447' 'Neutral' '47' '3' 'Inactive']\n",
            " ['03-01-2018' '2599' 'Neutral' '84' '2' 'Inactive']\n",
            " ['04-01-2018' '702' 'Sad' '23' '3' 'Inactive']\n",
            " ['05-01-2018' '133' 'Sad' '4' '2' 'Inactive']\n",
            " ['06-01-2018' '153' 'Happy' '0' '8' 'Inactive']\n",
            " ['07-01-2018' '500' 'Neutral' '0' '5' 'Active']\n",
            " ['08-01-2018' '2127' 'Neutral' '0' '5' 'Inactive']\n",
            " ['09-01-2018' '2203' 'Happy' '0' '5' 'Active']]\n"
          ]
        }
      ]
    },
    {
      "cell_type": "markdown",
      "source": [
        "# **(2) Reshaping**\n",
        "***"
      ],
      "metadata": {
        "id": "V2n_QirVoQEB"
      }
    },
    {
      "cell_type": "markdown",
      "source": [
        "### **Basics of 2D Numpy array**"
      ],
      "metadata": {
        "id": "_SSmPBO4U8y2"
      }
    },
    {
      "cell_type": "code",
      "source": [
        "b = np.array(range(16))     #1D list"
      ],
      "metadata": {
        "id": "BST7wGyJEML2"
      },
      "execution_count": null,
      "outputs": []
    },
    {
      "cell_type": "code",
      "source": [
        "print(b)"
      ],
      "metadata": {
        "colab": {
          "base_uri": "https://localhost:8080/"
        },
        "id": "WdOYuCDKEQbR",
        "outputId": "275a632c-b0d2-454a-8e9f-f9445ad97f7c"
      },
      "execution_count": null,
      "outputs": [
        {
          "output_type": "stream",
          "name": "stdout",
          "text": [
            "[ 0  1  2  3  4  5  6  7  8  9 10 11 12 13 14 15]\n"
          ]
        }
      ]
    },
    {
      "cell_type": "code",
      "source": [
        "type(b)"
      ],
      "metadata": {
        "colab": {
          "base_uri": "https://localhost:8080/"
        },
        "id": "I2ByWrBtERoW",
        "outputId": "9fd6666c-b99b-44f0-d3a8-879e06c707c6"
      },
      "execution_count": null,
      "outputs": [
        {
          "output_type": "execute_result",
          "data": {
            "text/plain": [
              "numpy.ndarray"
            ]
          },
          "metadata": {},
          "execution_count": 9
        }
      ]
    },
    {
      "cell_type": "code",
      "source": [
        "b.shape"
      ],
      "metadata": {
        "colab": {
          "base_uri": "https://localhost:8080/"
        },
        "id": "0BOCwXnfEZyT",
        "outputId": "2147d48b-3cf6-4045-f96a-238aa2f0f894"
      },
      "execution_count": null,
      "outputs": [
        {
          "output_type": "execute_result",
          "data": {
            "text/plain": [
              "(16,)"
            ]
          },
          "metadata": {},
          "execution_count": 10
        }
      ]
    },
    {
      "cell_type": "code",
      "source": [
        "b.ndim"
      ],
      "metadata": {
        "colab": {
          "base_uri": "https://localhost:8080/"
        },
        "id": "tal4XCoSEbQi",
        "outputId": "fcc17cb6-91cd-4b4d-a5fe-5a7e804c687d"
      },
      "execution_count": null,
      "outputs": [
        {
          "output_type": "execute_result",
          "data": {
            "text/plain": [
              "1"
            ]
          },
          "metadata": {},
          "execution_count": 11
        }
      ]
    },
    {
      "cell_type": "markdown",
      "source": [
        "### **Convert this 1D array to 2D array...**"
      ],
      "metadata": {
        "id": "Qi4AVgbxWP0_"
      }
    },
    {
      "cell_type": "code",
      "source": [
        "b.reshape(4,4)"
      ],
      "metadata": {
        "colab": {
          "base_uri": "https://localhost:8080/"
        },
        "id": "NkNxi-BjEdyv",
        "outputId": "4d10c55a-2793-46be-b15d-716703dac417"
      },
      "execution_count": null,
      "outputs": [
        {
          "output_type": "execute_result",
          "data": {
            "text/plain": [
              "array([[ 0,  1,  2,  3],\n",
              "       [ 4,  5,  6,  7],\n",
              "       [ 8,  9, 10, 11],\n",
              "       [12, 13, 14, 15]])"
            ]
          },
          "metadata": {},
          "execution_count": 12
        }
      ]
    },
    {
      "cell_type": "code",
      "source": [
        "b.reshape(5,3)      #this will throw an error message"
      ],
      "metadata": {
        "colab": {
          "base_uri": "https://localhost:8080/",
          "height": 165
        },
        "id": "eIOpfiHZEsSl",
        "outputId": "ca6cfbf9-ce64-48a7-89b6-335092713daa"
      },
      "execution_count": null,
      "outputs": [
        {
          "output_type": "error",
          "ename": "ValueError",
          "evalue": "ignored",
          "traceback": [
            "\u001b[0;31m---------------------------------------------------------------------------\u001b[0m",
            "\u001b[0;31mValueError\u001b[0m                                Traceback (most recent call last)",
            "\u001b[0;32m<ipython-input-13-def5cf8d2cef>\u001b[0m in \u001b[0;36m<cell line: 1>\u001b[0;34m()\u001b[0m\n\u001b[0;32m----> 1\u001b[0;31m \u001b[0mb\u001b[0m\u001b[0;34m.\u001b[0m\u001b[0mreshape\u001b[0m\u001b[0;34m(\u001b[0m\u001b[0;36m5\u001b[0m\u001b[0;34m,\u001b[0m\u001b[0;36m3\u001b[0m\u001b[0;34m)\u001b[0m  \u001b[0;31m#this will throw an error message\u001b[0m\u001b[0;34m\u001b[0m\u001b[0;34m\u001b[0m\u001b[0m\n\u001b[0m",
            "\u001b[0;31mValueError\u001b[0m: cannot reshape array of size 16 into shape (5,3)"
          ]
        }
      ]
    },
    {
      "cell_type": "code",
      "source": [
        "b.reshape(3,4)      #this will throw an error message"
      ],
      "metadata": {
        "colab": {
          "base_uri": "https://localhost:8080/",
          "height": 165
        },
        "id": "RJWaKHynFAse",
        "outputId": "ed52df46-1e53-47ef-e3b4-2b25f22a2e1e"
      },
      "execution_count": null,
      "outputs": [
        {
          "output_type": "error",
          "ename": "ValueError",
          "evalue": "ignored",
          "traceback": [
            "\u001b[0;31m---------------------------------------------------------------------------\u001b[0m",
            "\u001b[0;31mValueError\u001b[0m                                Traceback (most recent call last)",
            "\u001b[0;32m<ipython-input-14-52d2255186a2>\u001b[0m in \u001b[0;36m<cell line: 1>\u001b[0;34m()\u001b[0m\n\u001b[0;32m----> 1\u001b[0;31m \u001b[0mb\u001b[0m\u001b[0;34m.\u001b[0m\u001b[0mreshape\u001b[0m\u001b[0;34m(\u001b[0m\u001b[0;36m3\u001b[0m\u001b[0;34m,\u001b[0m\u001b[0;36m4\u001b[0m\u001b[0;34m)\u001b[0m\u001b[0;34m\u001b[0m\u001b[0;34m\u001b[0m\u001b[0m\n\u001b[0m",
            "\u001b[0;31mValueError\u001b[0m: cannot reshape array of size 16 into shape (3,4)"
          ]
        }
      ]
    },
    {
      "cell_type": "code",
      "source": [
        "b.reshape(5,4)      #this will throw an error message"
      ],
      "metadata": {
        "colab": {
          "base_uri": "https://localhost:8080/",
          "height": 165
        },
        "id": "38pw12-NFSzG",
        "outputId": "dddc2144-90ab-41ab-c26d-36d85b994a1c"
      },
      "execution_count": null,
      "outputs": [
        {
          "output_type": "error",
          "ename": "ValueError",
          "evalue": "ignored",
          "traceback": [
            "\u001b[0;31m---------------------------------------------------------------------------\u001b[0m",
            "\u001b[0;31mValueError\u001b[0m                                Traceback (most recent call last)",
            "\u001b[0;32m<ipython-input-15-197523a5d346>\u001b[0m in \u001b[0;36m<cell line: 1>\u001b[0;34m()\u001b[0m\n\u001b[0;32m----> 1\u001b[0;31m \u001b[0mb\u001b[0m\u001b[0;34m.\u001b[0m\u001b[0mreshape\u001b[0m\u001b[0;34m(\u001b[0m\u001b[0;36m5\u001b[0m\u001b[0;34m,\u001b[0m\u001b[0;36m4\u001b[0m\u001b[0;34m)\u001b[0m   \u001b[0;31m#this will throw an error message\u001b[0m\u001b[0;34m\u001b[0m\u001b[0;34m\u001b[0m\u001b[0m\n\u001b[0m",
            "\u001b[0;31mValueError\u001b[0m: cannot reshape array of size 16 into shape (5,4)"
          ]
        }
      ]
    },
    {
      "cell_type": "markdown",
      "source": [
        "### **Have a fixed Row numbers but adjust the Columns accordingly...**"
      ],
      "metadata": {
        "id": "7p4CiSrfWWQ1"
      }
    },
    {
      "cell_type": "code",
      "source": [
        "print(b)"
      ],
      "metadata": {
        "colab": {
          "base_uri": "https://localhost:8080/"
        },
        "id": "74LUjoEQFo9E",
        "outputId": "cddb52bf-c51b-477d-ecd3-9d46e500b4d1"
      },
      "execution_count": null,
      "outputs": [
        {
          "output_type": "stream",
          "name": "stdout",
          "text": [
            "[ 0  1  2  3  4  5  6  7  8  9 10 11 12 13 14 15]\n"
          ]
        }
      ]
    },
    {
      "cell_type": "code",
      "source": [
        "c = b.reshape(8,-1)"
      ],
      "metadata": {
        "id": "zcNE9bp8FLFL"
      },
      "execution_count": null,
      "outputs": []
    },
    {
      "cell_type": "code",
      "source": [
        "print(c)"
      ],
      "metadata": {
        "colab": {
          "base_uri": "https://localhost:8080/"
        },
        "id": "Glx0rINAGC5U",
        "outputId": "25ec2e13-5d5e-4834-bc03-0e350de547ae"
      },
      "execution_count": null,
      "outputs": [
        {
          "output_type": "stream",
          "name": "stdout",
          "text": [
            "[[ 0  1]\n",
            " [ 2  3]\n",
            " [ 4  5]\n",
            " [ 6  7]\n",
            " [ 8  9]\n",
            " [10 11]\n",
            " [12 13]\n",
            " [14 15]]\n"
          ]
        }
      ]
    },
    {
      "cell_type": "code",
      "source": [
        "b.reshape(4,-1)"
      ],
      "metadata": {
        "colab": {
          "base_uri": "https://localhost:8080/"
        },
        "id": "QBx0qdoCGFpA",
        "outputId": "a27ea339-266d-44cf-ed11-c74bf8db52f8"
      },
      "execution_count": null,
      "outputs": [
        {
          "output_type": "execute_result",
          "data": {
            "text/plain": [
              "array([[ 0,  1,  2,  3],\n",
              "       [ 4,  5,  6,  7],\n",
              "       [ 8,  9, 10, 11],\n",
              "       [12, 13, 14, 15]])"
            ]
          },
          "metadata": {},
          "execution_count": 33
        }
      ]
    },
    {
      "cell_type": "code",
      "source": [
        "b.reshape(5,-1)     #this will throw an error message"
      ],
      "metadata": {
        "colab": {
          "base_uri": "https://localhost:8080/",
          "height": 165
        },
        "id": "rs7GtoJBGRNB",
        "outputId": "eeed2024-483a-43f3-eff7-9acb9433bf6d"
      },
      "execution_count": null,
      "outputs": [
        {
          "output_type": "error",
          "ename": "ValueError",
          "evalue": "ignored",
          "traceback": [
            "\u001b[0;31m---------------------------------------------------------------------------\u001b[0m",
            "\u001b[0;31mValueError\u001b[0m                                Traceback (most recent call last)",
            "\u001b[0;32m<ipython-input-34-5485ed9340f2>\u001b[0m in \u001b[0;36m<cell line: 1>\u001b[0;34m()\u001b[0m\n\u001b[0;32m----> 1\u001b[0;31m \u001b[0mb\u001b[0m\u001b[0;34m.\u001b[0m\u001b[0mreshape\u001b[0m\u001b[0;34m(\u001b[0m\u001b[0;36m5\u001b[0m\u001b[0;34m,\u001b[0m\u001b[0;34m-\u001b[0m\u001b[0;36m1\u001b[0m\u001b[0;34m)\u001b[0m   \u001b[0;31m#this will throw an error message\u001b[0m\u001b[0;34m\u001b[0m\u001b[0;34m\u001b[0m\u001b[0m\n\u001b[0m",
            "\u001b[0;31mValueError\u001b[0m: cannot reshape array of size 16 into shape (5,newaxis)"
          ]
        }
      ]
    },
    {
      "cell_type": "code",
      "source": [
        "b.reshape(8,2)"
      ],
      "metadata": {
        "colab": {
          "base_uri": "https://localhost:8080/"
        },
        "id": "fFIWpaKqGmHl",
        "outputId": "c4ff8bcc-55b6-4e76-e4d0-fd6343a3e1a6"
      },
      "execution_count": null,
      "outputs": [
        {
          "output_type": "execute_result",
          "data": {
            "text/plain": [
              "array([[ 0,  1],\n",
              "       [ 2,  3],\n",
              "       [ 4,  5],\n",
              "       [ 6,  7],\n",
              "       [ 8,  9],\n",
              "       [10, 11],\n",
              "       [12, 13],\n",
              "       [14, 15]])"
            ]
          },
          "metadata": {},
          "execution_count": 35
        }
      ]
    },
    {
      "cell_type": "code",
      "source": [
        "b.reshape(8,-1)"
      ],
      "metadata": {
        "colab": {
          "base_uri": "https://localhost:8080/"
        },
        "id": "Xt-l9jftG4dC",
        "outputId": "3a84dd3b-90c5-4e8b-953a-8336edd84e9a"
      },
      "execution_count": null,
      "outputs": [
        {
          "output_type": "execute_result",
          "data": {
            "text/plain": [
              "array([[ 0,  1],\n",
              "       [ 2,  3],\n",
              "       [ 4,  5],\n",
              "       [ 6,  7],\n",
              "       [ 8,  9],\n",
              "       [10, 11],\n",
              "       [12, 13],\n",
              "       [14, 15]])"
            ]
          },
          "metadata": {},
          "execution_count": 36
        }
      ]
    },
    {
      "cell_type": "code",
      "source": [
        "b.reshape(8,-2)"
      ],
      "metadata": {
        "colab": {
          "base_uri": "https://localhost:8080/"
        },
        "id": "r61EpKMHG7Ni",
        "outputId": "eadc76cb-0532-495c-dcf2-e2bcfe13f3ba"
      },
      "execution_count": null,
      "outputs": [
        {
          "output_type": "execute_result",
          "data": {
            "text/plain": [
              "array([[ 0,  1],\n",
              "       [ 2,  3],\n",
              "       [ 4,  5],\n",
              "       [ 6,  7],\n",
              "       [ 8,  9],\n",
              "       [10, 11],\n",
              "       [12, 13],\n",
              "       [14, 15]])"
            ]
          },
          "metadata": {},
          "execution_count": 37
        }
      ]
    },
    {
      "cell_type": "code",
      "source": [
        "b.reshape(8,-3)"
      ],
      "metadata": {
        "colab": {
          "base_uri": "https://localhost:8080/"
        },
        "id": "VDIqQwFrHJzV",
        "outputId": "94ee9a36-8349-4731-b17e-94c1daf90a31"
      },
      "execution_count": null,
      "outputs": [
        {
          "output_type": "execute_result",
          "data": {
            "text/plain": [
              "array([[ 0,  1],\n",
              "       [ 2,  3],\n",
              "       [ 4,  5],\n",
              "       [ 6,  7],\n",
              "       [ 8,  9],\n",
              "       [10, 11],\n",
              "       [12, 13],\n",
              "       [14, 15]])"
            ]
          },
          "metadata": {},
          "execution_count": 38
        }
      ]
    },
    {
      "cell_type": "markdown",
      "source": [
        "### **Have a fixed Column numbers but adjust the Rows accordingly...**"
      ],
      "metadata": {
        "id": "I8speSfbXYhP"
      }
    },
    {
      "cell_type": "code",
      "source": [
        "print(b)"
      ],
      "metadata": {
        "colab": {
          "base_uri": "https://localhost:8080/"
        },
        "id": "XGLsLX16HN2_",
        "outputId": "3c29a427-76e1-485f-b1a5-45c916511774"
      },
      "execution_count": null,
      "outputs": [
        {
          "output_type": "stream",
          "name": "stdout",
          "text": [
            "[ 0  1  2  3  4  5  6  7  8  9 10 11 12 13 14 15]\n"
          ]
        }
      ]
    },
    {
      "cell_type": "code",
      "source": [
        "b.reshape(-1,8)"
      ],
      "metadata": {
        "colab": {
          "base_uri": "https://localhost:8080/"
        },
        "id": "cJ3MP-3EHdDE",
        "outputId": "083a4f66-2af5-4531-e936-a24019123b71"
      },
      "execution_count": null,
      "outputs": [
        {
          "output_type": "execute_result",
          "data": {
            "text/plain": [
              "array([[ 0,  1,  2,  3,  4,  5,  6,  7],\n",
              "       [ 8,  9, 10, 11, 12, 13, 14, 15]])"
            ]
          },
          "metadata": {},
          "execution_count": 40
        }
      ]
    },
    {
      "cell_type": "code",
      "source": [
        "b.reshape(-1,4)"
      ],
      "metadata": {
        "colab": {
          "base_uri": "https://localhost:8080/"
        },
        "id": "R7qM-tlIHgHA",
        "outputId": "297fff9b-c58a-4dd3-b883-035a355d7663"
      },
      "execution_count": null,
      "outputs": [
        {
          "output_type": "execute_result",
          "data": {
            "text/plain": [
              "array([[ 0,  1,  2,  3],\n",
              "       [ 4,  5,  6,  7],\n",
              "       [ 8,  9, 10, 11],\n",
              "       [12, 13, 14, 15]])"
            ]
          },
          "metadata": {},
          "execution_count": 41
        }
      ]
    },
    {
      "cell_type": "code",
      "source": [
        "a = b.reshape(8,2)"
      ],
      "metadata": {
        "id": "6b7VjTWVHxlZ"
      },
      "execution_count": null,
      "outputs": []
    },
    {
      "cell_type": "code",
      "source": [
        "b"
      ],
      "metadata": {
        "colab": {
          "base_uri": "https://localhost:8080/"
        },
        "id": "R-Up1cbuH7DZ",
        "outputId": "4ecfc5bf-34e2-4195-b974-a0c1a154658d"
      },
      "execution_count": null,
      "outputs": [
        {
          "output_type": "execute_result",
          "data": {
            "text/plain": [
              "array([ 0,  1,  2,  3,  4,  5,  6,  7,  8,  9, 10, 11, 12, 13, 14, 15])"
            ]
          },
          "metadata": {},
          "execution_count": 43
        }
      ]
    },
    {
      "cell_type": "code",
      "source": [
        "print(a)"
      ],
      "metadata": {
        "colab": {
          "base_uri": "https://localhost:8080/"
        },
        "id": "BwvObvPzH4Vu",
        "outputId": "98549a19-9d59-48ae-b870-9bfbf873501b"
      },
      "execution_count": null,
      "outputs": [
        {
          "output_type": "stream",
          "name": "stdout",
          "text": [
            "[[ 0  1]\n",
            " [ 2  3]\n",
            " [ 4  5]\n",
            " [ 6  7]\n",
            " [ 8  9]\n",
            " [10 11]\n",
            " [12 13]\n",
            " [14 15]]\n"
          ]
        }
      ]
    },
    {
      "cell_type": "code",
      "source": [
        "len(a)      #length of rows"
      ],
      "metadata": {
        "colab": {
          "base_uri": "https://localhost:8080/"
        },
        "id": "UW2OkAmvH5PF",
        "outputId": "af5a88cf-6bce-4031-cc3f-d010fdde714b"
      },
      "execution_count": null,
      "outputs": [
        {
          "output_type": "execute_result",
          "data": {
            "text/plain": [
              "8"
            ]
          },
          "metadata": {},
          "execution_count": 45
        }
      ]
    },
    {
      "cell_type": "markdown",
      "source": [
        "### **Indexing**"
      ],
      "metadata": {
        "id": "nHbH8qEJZgoQ"
      }
    },
    {
      "cell_type": "code",
      "source": [
        "print(a[0])     #Indexing"
      ],
      "metadata": {
        "colab": {
          "base_uri": "https://localhost:8080/"
        },
        "id": "KJAlvHKRID_L",
        "outputId": "5d21843c-b21d-4896-8d65-8650c7c72675"
      },
      "execution_count": null,
      "outputs": [
        {
          "output_type": "stream",
          "name": "stdout",
          "text": [
            "[0 1]\n"
          ]
        }
      ]
    },
    {
      "cell_type": "code",
      "source": [
        "print(a[5])"
      ],
      "metadata": {
        "colab": {
          "base_uri": "https://localhost:8080/"
        },
        "id": "Uw6g_rjLIxxD",
        "outputId": "3e4621d1-761b-4ab0-c9ff-109083f15d20"
      },
      "execution_count": null,
      "outputs": [
        {
          "output_type": "stream",
          "name": "stdout",
          "text": [
            "[10 11]\n"
          ]
        }
      ]
    },
    {
      "cell_type": "code",
      "source": [
        "print(a[8])     #this will throw error message"
      ],
      "metadata": {
        "colab": {
          "base_uri": "https://localhost:8080/",
          "height": 165
        },
        "id": "Bt6PWUHBI2ti",
        "outputId": "53dbed95-cfaa-4ed4-bf68-f4cbbf904733"
      },
      "execution_count": null,
      "outputs": [
        {
          "output_type": "error",
          "ename": "IndexError",
          "evalue": "ignored",
          "traceback": [
            "\u001b[0;31m---------------------------------------------------------------------------\u001b[0m",
            "\u001b[0;31mIndexError\u001b[0m                                Traceback (most recent call last)",
            "\u001b[0;32m<ipython-input-48-e8d541a84a00>\u001b[0m in \u001b[0;36m<cell line: 1>\u001b[0;34m()\u001b[0m\n\u001b[0;32m----> 1\u001b[0;31m \u001b[0mprint\u001b[0m\u001b[0;34m(\u001b[0m\u001b[0ma\u001b[0m\u001b[0;34m[\u001b[0m\u001b[0;36m8\u001b[0m\u001b[0;34m]\u001b[0m\u001b[0;34m)\u001b[0m  \u001b[0;31m#this will throw error message\u001b[0m\u001b[0;34m\u001b[0m\u001b[0;34m\u001b[0m\u001b[0m\n\u001b[0m",
            "\u001b[0;31mIndexError\u001b[0m: index 8 is out of bounds for axis 0 with size 8"
          ]
        }
      ]
    },
    {
      "cell_type": "code",
      "source": [
        "b"
      ],
      "metadata": {
        "colab": {
          "base_uri": "https://localhost:8080/"
        },
        "id": "F9BYRDXpI9F9",
        "outputId": "2bef4f38-9f4a-44f3-830e-74312bf95376"
      },
      "execution_count": null,
      "outputs": [
        {
          "output_type": "execute_result",
          "data": {
            "text/plain": [
              "array([ 0,  1,  2,  3,  4,  5,  6,  7,  8,  9, 10, 11, 12, 13, 14, 15])"
            ]
          },
          "metadata": {},
          "execution_count": 49
        }
      ]
    },
    {
      "cell_type": "code",
      "source": [
        "c = b.reshape(4,4)"
      ],
      "metadata": {
        "id": "RO7LnlPUJB0S"
      },
      "execution_count": null,
      "outputs": []
    },
    {
      "cell_type": "code",
      "source": [
        "c.shape"
      ],
      "metadata": {
        "colab": {
          "base_uri": "https://localhost:8080/"
        },
        "id": "J6rlHGNSJEDh",
        "outputId": "a0db386e-2634-410d-8830-a0129f2e307a"
      },
      "execution_count": null,
      "outputs": [
        {
          "output_type": "execute_result",
          "data": {
            "text/plain": [
              "(4, 4)"
            ]
          },
          "metadata": {},
          "execution_count": 51
        }
      ]
    },
    {
      "cell_type": "markdown",
      "source": [
        "### **Multi-Indexing of single cell**\n",
        "\n",
        "**How to access specific element in a 2D list ???**"
      ],
      "metadata": {
        "id": "Q5X1kbtpZOub"
      }
    },
    {
      "cell_type": "code",
      "source": [
        "print(c)"
      ],
      "metadata": {
        "colab": {
          "base_uri": "https://localhost:8080/"
        },
        "id": "n7EmeVc3JFcQ",
        "outputId": "39b3b290-8e8d-4dda-c0d2-96590eccbb60"
      },
      "execution_count": null,
      "outputs": [
        {
          "output_type": "stream",
          "name": "stdout",
          "text": [
            "[[ 0  1  2  3]\n",
            " [ 4  5  6  7]\n",
            " [ 8  9 10 11]\n",
            " [12 13 14 15]]\n"
          ]
        }
      ]
    },
    {
      "cell_type": "code",
      "source": [
        "# How to access element \"11\" in the above 2D list???\n",
        "# Approach (1)\n",
        "print(c[2][3])"
      ],
      "metadata": {
        "colab": {
          "base_uri": "https://localhost:8080/"
        },
        "id": "vtF7BwE5JICT",
        "outputId": "42caa692-5df6-4630-d083-28498b62795c"
      },
      "execution_count": null,
      "outputs": [
        {
          "output_type": "stream",
          "name": "stdout",
          "text": [
            "11\n"
          ]
        }
      ]
    },
    {
      "cell_type": "code",
      "source": [
        "# Approach (2)\n",
        "c[2,3]      #NOTE: later on we will be using \"Slicing\" using this approach"
      ],
      "metadata": {
        "colab": {
          "base_uri": "https://localhost:8080/"
        },
        "id": "s07SvLF4JVE9",
        "outputId": "06fd75c3-9247-4246-f58b-43239235a25f"
      },
      "execution_count": null,
      "outputs": [
        {
          "output_type": "execute_result",
          "data": {
            "text/plain": [
              "11"
            ]
          },
          "metadata": {},
          "execution_count": 54
        }
      ]
    },
    {
      "cell_type": "code",
      "source": [
        "c[1,2]"
      ],
      "metadata": {
        "colab": {
          "base_uri": "https://localhost:8080/"
        },
        "id": "XDfF2boYJcTn",
        "outputId": "c9516635-d067-4adf-daec-4ef03be7f738"
      },
      "execution_count": null,
      "outputs": [
        {
          "output_type": "execute_result",
          "data": {
            "text/plain": [
              "6"
            ]
          },
          "metadata": {},
          "execution_count": 55
        }
      ]
    },
    {
      "cell_type": "code",
      "source": [
        "print(b)"
      ],
      "metadata": {
        "colab": {
          "base_uri": "https://localhost:8080/"
        },
        "id": "19kcQHj9JqrI",
        "outputId": "114ca55a-29a5-4f66-ecb3-f23785b88114"
      },
      "execution_count": null,
      "outputs": [
        {
          "output_type": "stream",
          "name": "stdout",
          "text": [
            "[ 0  1  2  3  4  5  6  7  8  9 10 11 12 13 14 15]\n"
          ]
        }
      ]
    },
    {
      "cell_type": "code",
      "source": [
        "print(b[[4,7]])     #multi-indexing & not a slicing"
      ],
      "metadata": {
        "colab": {
          "base_uri": "https://localhost:8080/"
        },
        "id": "xfYcImDLKCHx",
        "outputId": "91e25419-5494-475f-d9dc-1be27cbdbd02"
      },
      "execution_count": null,
      "outputs": [
        {
          "output_type": "stream",
          "name": "stdout",
          "text": [
            "[4 7]\n"
          ]
        }
      ]
    },
    {
      "cell_type": "markdown",
      "source": [
        "### **Generate a range of numpy array and then reshape it...**"
      ],
      "metadata": {
        "id": "n3eIS2ZfaIx9"
      }
    },
    {
      "cell_type": "code",
      "source": [
        "a = np.arange(12).reshape(3,4)"
      ],
      "metadata": {
        "id": "2pzEvBo7KInS"
      },
      "execution_count": null,
      "outputs": []
    },
    {
      "cell_type": "code",
      "source": [
        "print(a)"
      ],
      "metadata": {
        "colab": {
          "base_uri": "https://localhost:8080/"
        },
        "id": "W5j50MeUKkDx",
        "outputId": "565a5f97-89af-48af-c3a0-f58faad4dd9d"
      },
      "execution_count": null,
      "outputs": [
        {
          "output_type": "stream",
          "name": "stdout",
          "text": [
            "[[ 0  1  2  3]\n",
            " [ 4  5  6  7]\n",
            " [ 8  9 10 11]]\n"
          ]
        }
      ]
    },
    {
      "cell_type": "code",
      "source": [
        "a.shape"
      ],
      "metadata": {
        "colab": {
          "base_uri": "https://localhost:8080/"
        },
        "id": "V4Zj3qlVKlBW",
        "outputId": "f39e209d-885b-4dd5-8ab5-39fdc7fa38bd"
      },
      "execution_count": null,
      "outputs": [
        {
          "output_type": "execute_result",
          "data": {
            "text/plain": [
              "(3, 4)"
            ]
          },
          "metadata": {},
          "execution_count": 60
        }
      ]
    },
    {
      "cell_type": "markdown",
      "source": [
        "### **Transpose of a Matrix**"
      ],
      "metadata": {
        "id": "htop0As5aha-"
      }
    },
    {
      "cell_type": "code",
      "source": [
        "b"
      ],
      "metadata": {
        "id": "SHEjQnwVs-so"
      },
      "execution_count": null,
      "outputs": []
    },
    {
      "cell_type": "code",
      "source": [
        "b = a.T"
      ],
      "metadata": {
        "id": "odS9GRwyKrnN"
      },
      "execution_count": null,
      "outputs": []
    },
    {
      "cell_type": "code",
      "source": [
        "print(b)"
      ],
      "metadata": {
        "colab": {
          "base_uri": "https://localhost:8080/"
        },
        "id": "mupBr8VNLX57",
        "outputId": "b251aa56-19af-44a1-da5b-54c7acad78d9"
      },
      "execution_count": null,
      "outputs": [
        {
          "output_type": "stream",
          "name": "stdout",
          "text": [
            "[[ 0  4  8]\n",
            " [ 1  5  9]\n",
            " [ 2  6 10]\n",
            " [ 3  7 11]]\n"
          ]
        }
      ]
    },
    {
      "cell_type": "code",
      "source": [
        "# Will this work???\n",
        "m1 = np.arange(1,10).reshape(3,3)"
      ],
      "metadata": {
        "id": "JP1RUG_bLZIK"
      },
      "execution_count": null,
      "outputs": []
    },
    {
      "cell_type": "code",
      "source": [
        "print(m1)"
      ],
      "metadata": {
        "colab": {
          "base_uri": "https://localhost:8080/"
        },
        "id": "hKQNNPyiLyiQ",
        "outputId": "766a9843-7f2e-4692-fefb-2f1c8d2e12d3"
      },
      "execution_count": null,
      "outputs": [
        {
          "output_type": "stream",
          "name": "stdout",
          "text": [
            "[[1 2 3]\n",
            " [4 5 6]\n",
            " [7 8 9]]\n"
          ]
        }
      ]
    },
    {
      "cell_type": "markdown",
      "source": [
        "### **Multi-Indexing of multiple cells**\n",
        "**Expected o/p**\n",
        "\n",
        "![Capture.PNG](data:image/png;base64,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)"
      ],
      "metadata": {
        "id": "h2CNmotqbGoO"
      }
    },
    {
      "cell_type": "code",
      "source": [
        "print(m1[ [0, 1, 2] , [0, 1, 2] ])"
      ],
      "metadata": {
        "colab": {
          "base_uri": "https://localhost:8080/"
        },
        "id": "8CbN9oahLzdn",
        "outputId": "418bc3d7-e6af-44b2-c576-d9bc1197e113"
      },
      "execution_count": null,
      "outputs": [
        {
          "output_type": "stream",
          "name": "stdout",
          "text": [
            "[1 5 9]\n"
          ]
        }
      ]
    },
    {
      "cell_type": "code",
      "source": [
        "print(m1[ [0, 1], [1, 2] ])"
      ],
      "metadata": {
        "colab": {
          "base_uri": "https://localhost:8080/"
        },
        "id": "Be6akgaOMoNL",
        "outputId": "b049b1fb-510b-41e7-b6fb-21ae76876b88"
      },
      "execution_count": null,
      "outputs": [
        {
          "output_type": "stream",
          "name": "stdout",
          "text": [
            "[2 6]\n"
          ]
        }
      ]
    },
    {
      "cell_type": "code",
      "source": [
        "type(m1)"
      ],
      "metadata": {
        "colab": {
          "base_uri": "https://localhost:8080/"
        },
        "id": "uhFBdV9BM_Nb",
        "outputId": "105be6ae-e8ef-4f54-8115-e36cf2df4e9c"
      },
      "execution_count": null,
      "outputs": [
        {
          "output_type": "execute_result",
          "data": {
            "text/plain": [
              "numpy.ndarray"
            ]
          },
          "metadata": {},
          "execution_count": 67
        }
      ]
    },
    {
      "cell_type": "code",
      "source": [
        "m1.shape"
      ],
      "metadata": {
        "colab": {
          "base_uri": "https://localhost:8080/"
        },
        "id": "GZp1VYg3NPYG",
        "outputId": "048d9a42-5b5d-4fe8-9009-35c34a3d7c03"
      },
      "execution_count": null,
      "outputs": [
        {
          "output_type": "execute_result",
          "data": {
            "text/plain": [
              "(3, 3)"
            ]
          },
          "metadata": {},
          "execution_count": 68
        }
      ]
    },
    {
      "cell_type": "code",
      "source": [
        "m1.ndim"
      ],
      "metadata": {
        "colab": {
          "base_uri": "https://localhost:8080/"
        },
        "id": "PMtcM__4NQuP",
        "outputId": "72299ade-e379-493c-eccd-49f09fc2d249"
      },
      "execution_count": null,
      "outputs": [
        {
          "output_type": "execute_result",
          "data": {
            "text/plain": [
              "2"
            ]
          },
          "metadata": {},
          "execution_count": 69
        }
      ]
    },
    {
      "cell_type": "code",
      "source": [
        "print(m1[ [0, 1, 2], [1, 0, 2]])"
      ],
      "metadata": {
        "colab": {
          "base_uri": "https://localhost:8080/"
        },
        "id": "DXC2QC7tNR4S",
        "outputId": "8681a21a-6d59-41c1-9317-25b4d2517c0f"
      },
      "execution_count": null,
      "outputs": [
        {
          "output_type": "stream",
          "name": "stdout",
          "text": [
            "[2 4 9]\n"
          ]
        }
      ]
    },
    {
      "cell_type": "markdown",
      "source": [
        "### **Slicing over 2D Matrix**"
      ],
      "metadata": {
        "id": "7scPRzocdRcS"
      }
    },
    {
      "cell_type": "code",
      "source": [
        "print(m1)"
      ],
      "metadata": {
        "colab": {
          "base_uri": "https://localhost:8080/"
        },
        "id": "yOXWQUxlOjDb",
        "outputId": "5b746077-62e2-482f-db83-1ed65a0082e1"
      },
      "execution_count": null,
      "outputs": [
        {
          "output_type": "stream",
          "name": "stdout",
          "text": [
            "[[1 2 3]\n",
            " [4 5 6]\n",
            " [7 8 9]]\n"
          ]
        }
      ]
    },
    {
      "cell_type": "code",
      "source": [
        "m1[0:2]     #Slicing over rows"
      ],
      "metadata": {
        "colab": {
          "base_uri": "https://localhost:8080/"
        },
        "id": "p5VXUX3TOrtf",
        "outputId": "85807a32-f212-4128-d81e-164eaa53cdfd"
      },
      "execution_count": null,
      "outputs": [
        {
          "output_type": "execute_result",
          "data": {
            "text/plain": [
              "array([[1, 2, 3],\n",
              "       [4, 5, 6]])"
            ]
          },
          "metadata": {},
          "execution_count": 72
        }
      ]
    },
    {
      "cell_type": "code",
      "source": [
        "m1[0:2 , 0:2]     #Slicing over rows and columns"
      ],
      "metadata": {
        "colab": {
          "base_uri": "https://localhost:8080/"
        },
        "id": "lNrZnCIzOxgK",
        "outputId": "7132e672-08ba-41fa-d9f3-0777e3f91eb3"
      },
      "execution_count": null,
      "outputs": [
        {
          "output_type": "execute_result",
          "data": {
            "text/plain": [
              "array([[1, 2],\n",
              "       [4, 5]])"
            ]
          },
          "metadata": {},
          "execution_count": 73
        }
      ]
    },
    {
      "cell_type": "code",
      "source": [
        "m1[1:2]"
      ],
      "metadata": {
        "colab": {
          "base_uri": "https://localhost:8080/"
        },
        "id": "ReX84HVxPShK",
        "outputId": "c6df9a3b-2f4a-4a3b-fa0a-ed9c9a80aba6"
      },
      "execution_count": null,
      "outputs": [
        {
          "output_type": "execute_result",
          "data": {
            "text/plain": [
              "array([[4, 5, 6]])"
            ]
          },
          "metadata": {},
          "execution_count": 74
        }
      ]
    },
    {
      "cell_type": "code",
      "source": [
        "m1[1:2, 0:2]      #Slicing over 2D list"
      ],
      "metadata": {
        "colab": {
          "base_uri": "https://localhost:8080/"
        },
        "id": "U75F4vTrPh0q",
        "outputId": "5088f9a2-1831-487f-83bb-c019ad3d9b08"
      },
      "execution_count": null,
      "outputs": [
        {
          "output_type": "execute_result",
          "data": {
            "text/plain": [
              "array([[4, 5]])"
            ]
          },
          "metadata": {},
          "execution_count": 75
        }
      ]
    },
    {
      "cell_type": "markdown",
      "source": [
        "### **Masking**"
      ],
      "metadata": {
        "id": "99vTOiiNgLuV"
      }
    },
    {
      "cell_type": "code",
      "source": [
        "m1 = np.arange(12).reshape(3,4)"
      ],
      "metadata": {
        "id": "zSppVXkwPoSI"
      },
      "execution_count": null,
      "outputs": []
    },
    {
      "cell_type": "code",
      "source": [
        "m1.ndim"
      ],
      "metadata": {
        "colab": {
          "base_uri": "https://localhost:8080/"
        },
        "id": "ER4tZjV5Tydw",
        "outputId": "702d7e99-6c16-45e9-bf15-33ab4779b993"
      },
      "execution_count": null,
      "outputs": [
        {
          "output_type": "execute_result",
          "data": {
            "text/plain": [
              "2"
            ]
          },
          "metadata": {},
          "execution_count": 77
        }
      ]
    },
    {
      "cell_type": "code",
      "source": [
        "m1.shape"
      ],
      "metadata": {
        "colab": {
          "base_uri": "https://localhost:8080/"
        },
        "id": "qtIGO-eGT4TQ",
        "outputId": "01079930-4663-4ac7-a068-bde924aca5c1"
      },
      "execution_count": null,
      "outputs": [
        {
          "output_type": "execute_result",
          "data": {
            "text/plain": [
              "(3, 4)"
            ]
          },
          "metadata": {},
          "execution_count": 78
        }
      ]
    },
    {
      "cell_type": "code",
      "source": [
        "print(m1)"
      ],
      "metadata": {
        "colab": {
          "base_uri": "https://localhost:8080/"
        },
        "id": "BeQEepDpT6DD",
        "outputId": "f687593f-69c8-400c-df62-af8227e9b920"
      },
      "execution_count": null,
      "outputs": [
        {
          "output_type": "stream",
          "name": "stdout",
          "text": [
            "[[ 0  1  2  3]\n",
            " [ 4  5  6  7]\n",
            " [ 8  9 10 11]]\n"
          ]
        }
      ]
    },
    {
      "cell_type": "code",
      "source": [
        "m1 < 7      #gives you a boolean mask (i.e. Masking)"
      ],
      "metadata": {
        "colab": {
          "base_uri": "https://localhost:8080/"
        },
        "id": "0GVV0TwxUJoI",
        "outputId": "3f6f34ed-201a-441a-c0db-27892c5a3eec"
      },
      "execution_count": null,
      "outputs": [
        {
          "output_type": "execute_result",
          "data": {
            "text/plain": [
              "array([[ True,  True,  True,  True],\n",
              "       [ True,  True,  True, False],\n",
              "       [False, False, False, False]])"
            ]
          },
          "metadata": {},
          "execution_count": 80
        }
      ]
    },
    {
      "cell_type": "code",
      "source": [
        "m1[m1 < 7]      #gives you the actual values from 'm1' that satisfy the condition defined by the mask (i.e. Vectorization)"
      ],
      "metadata": {
        "colab": {
          "base_uri": "https://localhost:8080/"
        },
        "id": "N2wSNF2gT86e",
        "outputId": "50d80a88-3cca-4d69-f549-1bbeb340004a"
      },
      "execution_count": null,
      "outputs": [
        {
          "output_type": "execute_result",
          "data": {
            "text/plain": [
              "array([0, 1, 2, 3, 4, 5, 6])"
            ]
          },
          "metadata": {},
          "execution_count": 81
        }
      ]
    },
    {
      "cell_type": "markdown",
      "source": [
        "# **(3) Array Mathematics (`NOTE:` this is were \"axis\" comes into the picture)**\n",
        "***\n",
        "\n",
        "![Capture.PNG](data:image/png;base64,iVBORw0KGgoAAAANSUhEUgAAAlwAAADKCAYAAABwvJ7HAAAAAXNSR0IArs4c6QAAAARnQU1BAACxjwv8YQUAAAAJcEhZcwAADsMAAA7DAcdvqGQAAHzgSURBVHhe7Z0FfBxHsv+P3r177+79jyF3uUtyYXJsJ46TmJkxcRw74KAh55iZIcaYY0lmlpkZxSxZzMzMjP79u2pnV2yQtdLKrm/SH3lrZmd7emanf1tdXf0TCIIgCIIgCEZFBJcgCIIgCIKREcElCIIgCIJgZERwCYIgCIIgGBkRXIIgCIIgCEZGBJcgCIIgCIKREcElCIIgCIJgZERwCYIgCIIgGBkRXIIgCIIgCEZGBJcgCIIgCIKREcElCIIgCIJgZERwCYIgCIIgGBkRXIIgCIIgCEZGBJcgCIIgCIKREcElCIIgCIJgZERwCYIgCIIgGBkRXIIgCIIgCEZGBJcgCIIgCIKREcElCIIgCIJgZERwCSZNUWkxfKKD4BUVwCUsKRp37txBbkEePDUblajUeN4/NSfdYKOSmJWKO+q/+IzkKvZAZOXn8P6hSVEGu7ey5xcVoLyiHEHx4QY7fX5JWSlKy8vgFxtisNM+FRUVKCophmekv8EenhzNx87MzzbYqMSkJbA9Jbt6HdNyMthO56C30bllF+Si4k4FQhOr1DE6kD+PPjcgLgwhCZFqnzv8fkEQBMF0EcElmDQRyTHoOHcg2s3oxWWCxUwWXJ6hPmg9vbvBPsNyEe9/wOYE2k7vodl7YttNS95/+dmthn3fntkH1v5OvP/X5tMM9ndm9oVfTDAKigsxfPUXBvt78wYq8ZSDjNxMdFk0zGAf8sMolCkRFpMShxenvGuwf719Bh/7/O0baFOljqtPb2X73ltHDTYqJ5wusn3B4dUGG73PJtAFpWVl+HjLRIO99axeiEtLQrESor1WjMK7s/vBTwlCQRAEwbQRwSWYNOSZmr5vKeYeWol5h1Zh1w2dgIpIjMbsg9+zjYqlw2ne3ybAGXMOrmAbvcdKCSva/4zbNcO+8y1XwT82lPffdv1QFftq9kKRB2ndOQuDfdGxH5CvRFhuYR6WnthgsK+7YMGCKy07HdMOLDHYd948zMd2j/A11IXKOffrbLfydzTYqDiHerL9qON5g22OOreA+DA+/pYreyv3V6IsIy9LCbFSfLRpAtpM7QanIDd+vyAIgmC6iOASTJby8nJc87Xj4ToSTUJ1vj+1Ga9P7gzHQFfNIgiCIJgqIrgEk6WguAgvT+qAb7fPQnlFhWYV9ATGh+Gmrz3SczI1iyAIgmCqiOASTBYWXJM7KsE1WwRXHZDXjwLmxfsnCIJg+tQruOgh3pIe5FJf49Ic9b2X4CopKcGuXbuwdu3ax7LM3rwE3+6aj6UbV9S5XcqjW+zs7Ezm+SHPMuMi9TUuTVnfegVXTn4RgqNStVemT0Z2ASLjM1rMhU5My0VsUpb2yvSJTshEama+9qppKCktwfyDK3HA6jinQaiJv78/fvazn+EnP/nJY1n+0fMFvDGlC/7fM3+oc7uUR7e0bt0axcXF2jeheSkqLoVvaBJaShdbqOobEJ7cYvqKnDzVF0e2nL44NTMPUaq/aCkkpeciLjlbe2Vc6hVc5eUVKCwq1V6ZPmVl5VzflvIlKi4tU4KiTHtl+hSXUH3LtVdNg/6XR33X9Pbt2yy4Xn/9dSxduhRLlix5JMuiRYu4k/3DH/6AhQsXGuxD53yC1lO64tsFk6vt/ziVBQsWcLv84he/wKxZs+rc51EqM2bM4HvhtddeQ2FhofZNaF5oWDu/sKTFCK7yCq2+LaSvKFN9cUEL6otLVV9MIrylQH0x9W9NgcRwCSYLJRrdZ30cN30d6nw46gXX6NGjNcujSWlpKZ/n888/z8Ooelaf2Yq3pveEc5C7Znn8IC9Pu3bt8Ktf/QqpqS3HC9BQEhISTE5wCYJwf4jgEkwWwyzFbXXHcD3ugis8KQaOwR7IzGsad7gpIoJLEISWggguwWS5V9D84y64hErB9ctf/hJRUVGa9dFFBJcgtFxEcAkmi3i4dNQnuA7YncLnW6fA9zFe2qeq4AoN1a0e8CgjgksQWi4iuASThRaM3nRpF864XhXBVYfgWnl6y2O/tI8ILkEQWgoiuIQWiwguEVwiuARBaCmI4BJMFlqg2ezKPlzyuMlTz2vyuAuutWfN8e7MvnAJ9tAsjx8iuARBaCmI4BJMFgma11Gf4ErPzURUSqxqp8e346X26NixowguQRBMHhFcgskigktHfYKLvH6Ugb+lJHA0BmVlZRg4cKAILkEQTB4RXILJQoLrhe/exfhtM0Vw1SG4fry8B32XjIRHqLdmefwQwSUIQktBBJdgspSqzvSEy2XYB7ubTKb5O0r4lSTEoiQpock8SxI0Xz96wUVL+3h5eWlW43BHfVZ5fj6K42NR4OOO7GvnkHHiINIP7UTKtvVI2rAciWsWIn7xVCR8Pxt5rg58vzQmIrgEoeUigkswWUjQ0JBZxZ2KOtdpaw7BVeDnifChHRExvDMKw0M0q3ExNcFVUVaKggAfpB3YhsQfFiN1148sQppjaLOq4PLwaPzJA3ROxbFRSD+2F3HzJiLqswHq+ndAWK/WCOvdRpW2tUsf3V+6T4oiw7QjNQ4iuASh5SKCSzBZSspKMOPAcuy+ddRkhhTT92/TOtU3kX5kt2Y1LvUJrtWnt6JdE6+lWJqWgoRlMxDar52hHehv5Og+SphEans1HcYWXGV5uYgcM6jyXB+ghPZ4FbnONtqRGgcRXILQchHBJZgshkzzJhQ0z4JL61DTj+7VrMalPsFFsxMz87M5fUZTQJ6eqC+HqnPXvDhVxAW9Tly3RNuz6TC24KpQ7Z24chYiRnRBaM83ENqrtVa0f/d9E+FDOyFsQPsa7fEmIkb2QnFCnHakxkEElyC0XERwCSaLKc5STN9nYehQM88d16zGpT7BlVOYh5TsNBSXVtqMRXFsNKK+fl+dt05okdgIH6hERv9KT1fE6D4oL2paEWBswUXcUe1flpGOorCg2iUyFFk3LiJ88HuG+yKU2mPQu8i1vd7ow6wiuASh5SKCSzBZSHC9NKkDJpiQ4Mo4ulfXobLgOqZZjUt9gmvjxZ3otmA43EI9NYtxKM3KZM8WnTcJrZjvPkPGaUsURYUjacsqQ3uE9W2Fspwc7V1NAwmuIUOGGFVw1QeJqTwPZ0R82MMgOqktwj/ohlxHa6PEtIngEoSWiwguwWQpLS/DVR873I7058D5mjSL4Dp50GQElz5o3tgxXMXxMSwiIj/uh8zzR1BRVMR2EhQp2zdWCq4B7VCW27SCi/j888+bXHDRuWdfP4/wIR3VuVeKLfIC0oQCYyGCSxBaLiK4BJOFOjWepViHd4sQwdU0sxTpOpQkxHHAfFWvzZ3ycsTNnWBoj8jPh6KiCYY3a9LUgovOMf34fl3cll5sqhK/6DuUpCZXa6PGRgSXILRcRHAJJkthSTE+3DwBa8+Z1ym6mltwZV2/oFmNS32Ca8uVPeixdATcw5on8Wl5QT4iPupuEBwJy2ZqW5oWElw///nP4eLiolmMR0VRIZK3rNTFrmnnTaIrZsZY5Lo6cI429gAaSXSJ4BKElosILsFkMcWgeRZcvdpwR5tje1OzGpf6BFcJ5cMqLlRtU65ZmpaCQF+Edn+V24Jiu7KunNa2NC16weXk5KRZjAN5rijJad0pIjTbkA6IHjcCuY5WjZ70lBDBJQgtFxFczUCB+pVcqMSEcHdMUXBlXTnL4oI61+YWXOm5WYhJS0BhSdPfSyQ+UizWG4RG+NB3UZqRrm1tWppKcFWo+zHqq+E6YXW3ogmy1H1mkmleEAQDIriamPiMJAxb9zWm7F+K8vLm8Uy0FAqUkGgzvQcm7VpgMoIr+9r5SsHlYK1ZjUt9gmvtOQu8PbsvXIKbdnYeQfFclAZCLzISVs41ikfnfmgywVVWhtiZYysnCai/5O0M7fm6Kq10par3a+C7yPd01d7dOIjgEoSWiwiuOqAhGv/YENz0sUdqTkajBsFGp8Zj3O558IkONGpwrSlC5/sg50xxW34xwYhMqXvZmGYRXNcvcAJM6lDzvZpG6DR30HxNSFglm601CE8KHjfmzLx70VSCi6BUGPELv0Xs9K+QsGgiUndsRNa1s8ixuoysy6fYA6YXXfQ3bubXjSpERXAJQstFBJcGdeiUtfuc2zVM3bcEb83shdZTuqLX0g/hGemv7VVJZl429tocxzUfO46lqQtKZZCel1UtxoY+p+IBRMejBGVEP2CrOiUlOh9EeNVHcwiuXCcrXrKFBZf3bc1qXO4luJpyaR8i18kWYQPf0YktVZLWL8ad8jJta9PTlIKLIAFFMzTruodJeIb1r8w6Hz68M0oz0rStD09iYqIILkFooTz2gqtMPTgdgt0xae8ivDd3AFpP7Yo3pnTBa5M78V8qn5tNqTVLzs7fBZ0XDUObad0x7/BqFJdVdoQEZQGfd2QN3pnTHwuPr9esjzeUEb338pFoP6sPpihR6xbmfdcs6RSb1Ov7UVh0dJ3JDCnm2F1Xgut1kxBce6yP4ZPN38E3OkizGBcSGAVBvkpEdGXvDZWoL4egLDtT26N5+PLLL5tUcN2NsswMhH9QOXOTMs4XRYZrWx8e8XAJQsvlsRZc5GnaeHk32s3sjTemdUW/lZ9g2t7FGLR6DA8n9l8+igVXp3mDkJSVqr1LBwm1jLwsfGE+VYm0bth187DhF292QS7Gb5/N7x2y6jMsVYKByCvMx3wlztaetahTQDzq6ATXRwZR225GL3y25Tuc97jBHsOa6NZSNK2geUp2qR9KozQATUF9gosSw1KbNsW9RF6dfJ/biBjd1yC2Ikb25JmKjeGtfBi++uorkxFcBUF+1TxcYYPfQ1FM4y3qLYJLEFouj7XgikyKwdsz+2DAslG44HETeUUFPPyXV5TPncgx5wtopYRB+xm9ERYfob2rOnYBLnhzeg+8O7sfQhIjkatE1eQ9i1hQfLp5ItJyMgxZ0uPTk9Bj4XC8PL0r0qt4BcpUx+ka5sV5lWjIjab6P4roPVwkuAxFtdMb6u/AFZ9it9VRFrb69jLFWYrVguabeZZiXEYSZ+HPzs/VLMahQn1+xpnDCB/WSZ23JrY+7od837pj2Oi7w8NuTSTESHBR+1y9elWzNA8VxcWIXzpNtY8ubQgVWvanMdeXFMElCC2Xx1pwOQS6oe20bjh4q+6M4TEpcXhlWheOk7npbadZq1NaVobvds1ngTV643hM27uE/91n2UiekViT8Ttm47kpHZGSqfOYkbiaZ7kKr03pjFaTO+N19fei5y3e9rCQeCRP3N2gTjEjL5vTCxi7hCZFoduS96sLriqFxO3bc/ph5ckt8FJCgtrm7Zm9MW33IpMRXFmXTze54KL1AusSXCtObVH3SxejBs2X5+Ugce3CShGhxFb0t6NQFBmG0sx0FIWHIN/LDTnW1zj7euqerUjauJxn8yWuWYSSxATtSMZDL7jOnz+vWZoWiuei2K3Y2eOr5+hS/05YOrVRhacILkFouTzWguuKpzWLKUur45qlEnpIbrtxiEUACajv9iys98EZkRyDHouGc5A9lc4LhiIwLrTW/hRcP2Tlp3hjZi8eQqPtP17ew8cf8+Mk7Lh5GItObKhTqBEkOmi4MjY9EX6xIfCJDkJYYhSCEsKrxZjR0OVxxwsYqQRgvzVj4Kg6ZBIvd9R/NUnLzcBb8wfirVl9mqD0rlNo1SqqDd+c0RPjd87FNSV0c9Q519X2zSG4qmaab24Pl7FnKRbHRiF6wkeG86XC3q3RfRExvCPCB7+LsAFvI6zvW7qiFxr6ovaN+noYygsKtCMaB2MILvLQZV07z9e4ODYapSlJKMvOQnl+HmfYL01NRmGwv7ofDiF26hcI60/nX0VsURnYHvk+jTuTVQSXILRcHmvBdd3LljusQ7dqC66U7HQlot5Hm2ndWAS0md4diZnJ2tbqkBigWDASTuSh2nn9YJ0CITk7DV0XDMHA5R+z+MotzEPnxUMxYdssHoqk93CpQxilqPeOMZ/KS7m8N6c/xz9RaT+zD96c3QdFJcX83rCkKIzYMJbPSy9g3lZiZ9SmbxEYH1arXvlFBfh62wyM3DDO6OXD9WNZSBmE1V1KvxWjsd/6OMKTonVisY72FMFlPMFF7R0/b0J1AdGAEtr5WRTHRWlHNQ7GEFzlxUUIH6QEZd92CBvUAeHvd0Xk6N6I+rQ/IlWh11VnatYs5BFMNlvD3q/GRASXILRcZEhRCSrzy3s0i4581cGP2z4Lr07qiMXHfsCXW6ewmFpyrO7ZciTO+i3/iGc2Uumr/h2XnqhtrSQqKQbvzuqLhYdW8WvycrWf1xf7bx7l13cjJSsNU/YswiDykE3vhue+ewdPTWyPrkoUUioL6iCj0xLUZ+sC/TvOH4xVJzfjiP1Z3PJ1wCtTOmHwqs9Y5FWFxB2dEwVgG7tQjFyvZTViuLRCdX5u0nv4ymwqrnlZsyePYrg6zhuEWfuXm8yQoikJLkv7Mzw5IyA2RLM0HuThiZ38cS0h8aAlfMh7Rp/FaJQhRfV9KgwJQPT4kZzctK5zq6+E9noDSeuXNmrslh4RXILQcnmsBVdgdDAHvK86tUWzqA41LwtT9y5Gqymd8e222SwSfKICdMNhSpzZBVbPHE1CYs6hFXhFCa115yyUKFvP4mHEum+QmlN9qRPbABe8oY5xzFHXMVCM1cTd89Fx7kAsPLIWt/wdkZWfw9tqQkOGV33t4BHph+D4CM4NRglB9Z4xylo/edcCHgLtufgDHmokO5Xcgjy8NK2zEpfd4RjctDmbqlJX0Pzrqt0oHcfcQys52Sy1J9WZMMWg+bT92wxxOs0tuPTXV99ejYo6ZoGfFyLHDFYCgrKov8HCgzw3uuzq6nWP13gtxdBuL6m/L6t2ac1en/DhXRA+sheix43kNjJK/apgrBguqjcNIaZZ7kTER31qZ5KvUnTt8gaix45A9o2LRstLJoJLEFouj7XgoizyJHY+XPsVzxLcc+soBqz4hAXTOIuZSM/V/TInsXPS9TI6zO3PYuamrz2LJYKCu2lob/z2WZw3irxj35/YxOJm1PrxOON2hYUUcdL5El6b1hX+caH8mqB4rXHbZuKtGT3RSgkQEiSUYoJmLlaFkob2/n4k2qr93p43QO03igUhCTwSXuTlaEfJWpWgu+RpXa2Tcwhyx6tTOuGt6T3hFeGnWZsefVoIal9KpdFr8QhsvbIXMWnxdQb3m6LgSt680tDJZl1qmsWa6xNc3tGB6v66WitlSWNB91BZbg7yfW8j8+IJpFvuQvqhHRwcn3X1HHIcrJDjaI08dwcU+LqjMNAXxVHhKElK0MU7FRYYXWwRM2fONIrg0kPePlrKKNfZFqk71iN+8VTETPkCMf/5BDFTv0T88plI3b0F+d5uKM+rO96wsRDBJQgtl8dacNFw2g8XtrM4Is9T26nd0W3BUGy8uJMTl1aFHqI+MUGYemCpEmUfIzZNN/tqyckNHENFsUb6By3FZ510uczDfzQkdtjhDNs3XdqNPitHGxYbpv2pFJUWcxLQ709txrtz+rMYuepVe50+/5hgfLtrLjopkdhhdn8MXjUG84+vQ1JmCs54XMOrNJy55EN1/GLtHVSXEow1n84ip+vCYXXmu2oqSHANWPkJhq/5EqdU+9BQ7N06JxJc1B4z9i4xGcGVtGGZwcOVbXNdsxqX5gqabynMnj3bqIKrGvSdVffinbIyVUp1f+nevMt93JiI4BKElstjLbgIEiQ2/i7Yb3sKN3zsOEXC3USATiCVGHJFbb26m4PSP9zyLQ/dVYX2yyrI5QSr9L5PzSfD/PJebStw0O40guLDeRstAUSxVv20GKzdNw9re1WHPpeGHck7R14vPVe8bThFwKDlHxvsFGy+4sxWDuSnocbtNw7d9dyMTVlFOXv36lsKqSZUVxKnlMW/rlo3h+DKtb2O0D5tedisNN04nqWa3EtwNfXSPqYGCa6f/vSnOHLkiGZ5dJGlfQSh5fLYCy6COnYu2usHgbxTdkFucI/wrdMLo4eO76g6xpwqomzTxZ14Z04/9F76IXvC2NOmhFH3Re8joZ7UEPVBSVW7zB+sOuCuGLrmc8w4vJKD5KlDJrE1y3IVz2RsSdBQLsWiJWSm1CkUm0Nw0ayzwuAAHjarq07GQDxcd0cvuHbt2qVZHl3EwyUILRcRXM1IflEhdt20xEfrxirRNRIDV3yCJUd+4Iz1Dwp1/mddr6DHkg/Y00VeLZoxSYJu9emtHPzf0qAhxTdn9sbUPaaT+LQ5qE9wXfa0xoqTmxCuROnjjAguQRBaAiK4mhkSSuQlyyrIQa62pFBDoffSUOMVX1vsUELuoMMZhKrOWD/82dRUlN9Bons2EpyyuNC/K8ruoKyoHIlulfZUX93SNMW5pYjXbFTifdM5aP6bFbMQ65hhsOfEUl4uwPWaF178r7YY33caElyyUJihEyNpgXmGfROcs/i4dyruINk7p5q9rLhC1acCSbcr7cmeObxvWXE54h21fVVJUXWk9i3JLatmzwzXCdm8hKJqdac6EplhBQYbbac60nGq1pHsJfkUC3QHKd65Bju1EbUVCa4X1Hl2fWogou1SkaTVsbSwnM9Dv396kM57WpBeYrDTsQ11TCoy7Ev2vCRd7jbaXrXuhRmqvaiO/pV1ofalcyeSvaq0o7JXlFegrKSi2jVN8lB1VMcoVfWvWUeyUztU/cycGF170d+qdqozkRmWb7BRMbRjQB4WjVmNl3/5FrbPP8TtSNeUrqN+X6pXeWkFypWd6qu30zUlW3FO9fsuNTAXJaUlyE0pNNiopIfnID8/H+kRlcem96VHZSMnJxspgZX7UkmNzUBmZiaSfDIr93fORERIFMLDwxFhm4gI62RdsUmCv28A3Jw9EHAl2lD8rofDwdEBNy9a4fbpYNza7YwXftEG3Vv1Z8FF19BwbFWy9e2o7r+q55SfovNuZ1RtR3Vd9N8ZQRCMjwguwWiUFpRj13MOMP+jDZfdrzugNL8cWdEF2PmMvcF+oocuG3eifxbMfm0N8z+pouynRnqw4BoxcIZhX/M/WMN5QYTqbAHnlRHY+o9bMPu72v/PNgg5m8LHufiRb+X+f7VBnGMmd7iWHVw0uzUsfm/DnVBRdin2v+Bk2P/gWy68b156EX78jZXBfmKgB3fwJM62/k5XP/M/2ODWt4H8mT5mcTBTddPv77QqnO3Ws0LUa7Jbw+y31gg5lcJi6dIXfoZ9t/4/K6SF5ipxUobDb7ga7DuftkdmTD5Kikrx4x9vqXNV9fmTDfZ3dERJcSkc7bzV+Wmfqdrs7AhPFmchVxNVe+jsZupzL33thfT0dLjsCIEZ113V5ffWuPW9NyIjI3Fhgoeh7mS/ucUdvj6+ONi58hpZPKnshx3g5OyEna+rfbVrZPGUaoPrt3Du2AVse063Lx1/+7NWuHTxMg6aHzXUhe3truLA/gMwn3aQP4vtqh3NBp/CVrOt2DziMO+nt6//cD9Wr12NjT3UcfgYurJw9FrMmj0LG189C7Mn1Pk8aQWzv1nj2w+nYuzn47H5mSuGfbc8cR0f9B3F5ce/3DTYV/3jBHp27Y1h7UfrbOrz6O+iJ3ejTds2GPjSaG4/3f7W+PqvC/DMM89g1BOT+TXb1fUY8JvP8Jv/+w2+++0PBpvFH23x2i/exc9+8nNM+c0m7RiqLn+8gX/+/Hn84if/hbV/Pgczdf2o3pv/ch2/+env8Ouf/j/8+MRNvqepLPzDfvZo/esXL2LL36/DTN0DdK6r37Jk8Rd4NMnQjnQN7eeH8X3nsSFGu9a6zw08pcsLeO2bAM2mtv3FBlHW1VPXCIJgPERwCUaDvETXxgfg2oQAXP82ANZzg1FeXIH81GLcmhbENiouq3ULg2fG5hv2peJsHoZ+qz/FtLk/VLOHnklmweWyLwhjf78MU59aj3UdjuL4xouwtbXFllGHsajVDi6LW+/AwY3Hce7sOcxrvwVTn1mvK/9aj6P7T+Dw/qP47slVGPvHZaosx+QXVsPykCU2r9uKb36js9G2KW+shIWFBRZ/txJjf6u3q/3fW4alS5diyoCFGPsHnY3KNx1mYNz4sRj71myDjbaP6T4Bn376KT5/cXql/bfLMbTbCAzoPwhj/jpH2XTH//qPi9D5re54751O6jy1fVX58s8L8exzT6NN/y6Y/M5WTPjnarYP+904/PGPf8Qrv3/TcAwqvX43Er/97W/x5m+7GGzjVHnz/7rh17/+Nbr8v6GVdlXHl/+3HX71q//BkN+q+mv2r/+wBH/+5d/xi1/8Ah//bobB/s0fluK/f/Hf+O1//QFf/WGxwf7p72fjf37xv/jbf/2L99HXZ/D/+wq/+Nkv8O9fvsZ10O/f8X8G8bBg2191Ndhoe5tfdcHPfv4zdPm/YRj7F2XXytP//RL+67/+CyP/+B3G/+V7tf8y9XcF/vqrf+K3v/o9vvnbYnz3jzVcJjyxHH/+n7/hL//7d3Wt12DKP9dx+fyJOfh///tbPP1/L2LGU5tV2cTlkyem4f/+7//w6h/aYc7TWzHv3+Zchjz5Of70pz+h5xMfYOELO7Dkld1Y+soe9Pv3SPzzn//EmBdmY+mre7CyrSVWv2mJri/3x4vPv4RJb6zAqjcPYcObJ1U5jo4vd8crL76m9jmIjW+eglmn89jR7xL69xiAfj0GYme/K9jV7xr2DrqB3SMvYuRHIzHho0k4NtIBB4dY4xt1z098cwkKCgrYY3ZN+17Q38DjOmEVcS1NvfY3fGfiXXUpbrx3xxlstH/kzTT+PtKPCUEQjIsILsEo0DBT6NlkBB5JZOFFD3T9Q13/76rFYK+obqdUEjSrsaadcHR05E765z//OX79v7/Gf//3f1eWX/7KUCj+6Wc/0+1Xtfzkpz9h78H9FPqcuoru2HWXmp+nLyQU6iq//OUvldD5Va3yP//zP4Y6/OY3vzGUp3q9hFaTu+CJ1/6F3/3ud9XK73//+zrLX/7yF7z88su1yquvvooOHTqgY8eOtcqgQYMwZMiQWmXYsGH44IMP6izffPMNxo0bV62MHz8eixcvNpQlS5YY/r1+/XoWtFTMzc0N/96xYwf27duHvfv2Ys++PYZCtlOnTuH0mdMY8/ln3D5jx43F6dOncfPmTVhZW8Gai7Xhr4ODA7y9vVTxrvLXGz4+PggKCjKUwKBA3d/AQERERiA6OrpWodmCaWlptQp5EkkI1VWKiorqLMXFxRybV7OUlpSivKyckxrzX1XiYuP4XPUxXFW/E1W/G/djp6HnPW0ccHLgbZSVNO4SRIIg1EYEl2AUSGQdfMcFu19wRGl+w7JuU6B8cEIE4tKTDB1GVdzc3FjY/PnPf0afPn1qlVGjRrE3qWYZO3Yspk2bVqvMmDEDCxcuxKJFi/iv/t9U1q5dy6JAXzZs2MBl+/bt3Pnv37+/Wjl48CAuXrxYZ7l16xasrKxqFRKQNBGgZvH09GSx9fTTTyM4OJiHAanM2fs9z0q97m7FsUJVS3Y2xRXl1Cq5ubl1igEqdXX6VGi2aNWO+mGKMdi0aRO3jwTNPxgkuCyetYFlF1cRXILQBNQruPIKSxCVYNw10BqTnPwiJKbqAnVbAmmZ+UjJqJ63y5Shts3Muf8HPAuud5XgeqnhgotmKT43uQOvF3i3WYokrMgLQMKAvQGqRCdmIlfdEzU7/KYs9wvtGxmficLiuvOT1TdL0Sn0NnZbHUF8Het2GpuQ6DQUlxhn+ZoHZePGjSxCtmypXKKrKpxeJCad/7YEKiruqPZNrfOeN0XBVVJazu37IPd8c0L3LX3fWkp981VfHN2C+uKs3EIkpORor0yftKwCpKr+uCmoV3DRTZme1TSVqA96QNa15EtdFKnOKidP18G2BPILirm+LQWqa0HR/c9o0nm4nLH7RQeeOdYQHmZpH/rSm4oguBd0z9J3raS07vrWJ7iak9TMPJSVmYZXRC+4yAtZF5R4mB6oLeXZQPVMTs9l4VWTxhRchVklODLAFRe+8HkowVVWVtGi2rdU3bcZ2U2z7FRjYAp98YNA/UR2C+rbSNDmqf64KTDZIUVKZXDY7gwWnFjXYn6ZPk7Qw4o6MrpOdT24ytWvXpc1kXBaHo5yJb4aAguuSR3w7bZZkoerDsF11dsGK05tQURStGZ5PKEhxbsJrkeJxhRc9L0tL6ng0lLEhyC0ZExScOUW5mP9he14c0YvXutQBJfpERgfjgl7FuDL7TNxzcdWCaLG93ZQfrLxO+fC7Op+EVx1CC5Z2keHCK6GQfnKUoNzkRGZz5NSBEEwLiYluO6o/2LTEzF64wS8MbUrZh/4njtdU4PWKMwvMr5Lmo5vH+yBxac2ISqt6ZaSuR+s/Z3wwbpv0GHeQLw5vSf225yoVj9KKBlwKBE+O+PUL+iGiTE6Hgk5Etx1nbsILlnah7jXkOKjRGPHcG1/2RZHerpJ0LwgNAEmJbhIbA1ZNQatp3XD2rPmJrn2HwmAxUfWYt7hVUYXQGFJUeg0fzCvrzh53yKTElw0lFioro9npD8v3v3enP4IitclXSQ4hqs9zVJseAwXBb9f9rLmdSpp+LImj7vg+v7UZrw6uROcAh9vwSUeroYhsxQFoWkxGcGVlZ+DjzdNUOKiKzZf2sW5l0yRtOx0dJ4/BN/tnl9LAJHnK1SJpMYSRouPr+c1EVtP7YqRG8aitNz0gsDpTFec2MR1XHZsg+HcG2uW4guT3sP47RLDVZfguh3lj6MuF5CclapZTIM76lqV5+WiokpdjcmBAwdEcDUAEVyC0LSYhOAqU0Ji4eE17MlZcXIzvzZVAuJC8eaMnpiyd0EtYbXh3Da8M7sfolJiNUvDIfHWbcFQFjJUhqweY5IeP8I/JgRvqTZ5Y2Z3JGXqOn/DLMXnm2eW4qNEfYKL7j99aQroc0rTUpHraIXCID8Ux0WjJDkRxTGRKAwJQL6XOzLOHUPc/IkI6/8WYr77BBWq7sbG0tKyWQUXtQufv7e70UVmYwquwqxSnOjngSvf+KGsVASXIBgbkxBc592v8zDipz9OMllRocc+2BUvTX4PE3fNrdXR7bc6hvYz+yBACZCHxT86CO2m9zQIrt5LR3LcmClCnrcP1o9lwXzI7hTbKIYr8EQi/A7F8yyohtAiBBfdA0YWPPUJriOO53lSQWBsqGYxLkXRkYgc1Qthfd9C2ID2CB/8HsKHdkT4oHeVwHobYf3aIazPm5WlXxuUZmZo7zYeesG1Zs0azdK05Ht7qPNX567aIGX7+lrPhcakMQUX1ZPWDaXgeWPWWRAEHc0uuGhGYv/lo9F53iCEP+D0dlr2JTAutF6PGD9Q6uioH4Yr3tZ4cdK7mLJ3Ya2HVFFJEbZfO4jM3CzN0jDouJb2Z9BKCZjWU5TgUn+7LRym2sp0E6VuvLhT1bczpuxa0GizSun6zji4HLutjja54KJrUBwfg4yT+1GSEFdnh1RRVIisq2eRts8MZVnGExb3DJpvghguOv/kLSuqC6p6S1tEftwXGacP19lujY1ecK1atUqzNB0V6h6Nm/sfw7lHftbfqF69xhRcNIwYbZ2OeJcsVJSL4BIEY9Osgou+4vttT+KVyR25w35QjjiexctTOsE59LZmqQ4FW689Z9aoD/3DDmfxmqrvwqNr6zwuzbR8WOi4cw+vYo/Re3MHoNXkzug4uz+y8003e69DkBvPLO2yYCh74uiXs/OqCDguCufhxYZALUntWV+bGlVwKYEXPfEThPZug8hP+qEsr3bbZ5w5wtvDVIlfOoPfYwzuJbiaIi3EnbJSxEz61CAsQge0R9RXwxH97WjEzZuIhOWzkbRuKdIObEeeqz3K8tWPgyYQW0RzCq7sGxeqefZiJn+GO/eZrLkhNGoMV1oJLJ60hmVHieEShKagWQVXaVkZRq8biy7zhyAhI1mz3h8kSixuHmKvysbz2zVrJcVlJRizeRKWnt5sEEY0s84uyBWblbg77XoF+cUPPkS34dIuvD65EzZf2V2n4GoMyEM0YtM3LLR6Lx/Fwos8gDkFudoepkeiun4d5wzAU9+1R3yabsFqXkvxITLNl6pOfuetw7jmbdvksxQpNim0T2tdR6rERVFEjWE7VZ/4eeOU4GrL+0R+9T6LEmNwN8HVqqk8XKoO0eM/NAiL6P98gvLCAiUuylho3tES4PJ3wkjfi/poLsFVlpuDqC+HK8GtuweopB1SPxyNeP4SNN+yoeHbkgL1nWni74hgGjSr4IpLS+AcTpN2zGvQ0F9SVhrHOU3eMV+zVOIdHYjnJ3eAU4jO+0UiZp/1cbSd0RNtp3VXQq0rJu1dhLOuVxEYH1atQ6chStcwb9j5OyM1JwMxqp5hydF8zLE75yjB1RkLj/2Aq0oIWAc4wz3ChxdYbqzknzRD8505/fHqlE4YuXkCx3ANWPExCkqMs1wCfflv+dojLDFKszw4hapuA1eM5jQFl7ysGm2WImeab4YYrpwb5xHaSxNcg9qjNL36TEASGVFfDjZ0tFETRrP4MAb1Ca7o1Hh1n3rxDF9jc0f9OKrq4Yr8YijKC0xjuZHmElxp+7bqPJxam4QP7YSSxDhtq3FobMFl/qw1LDu7iOBS0FJHdgtCkRFqnPuakss6LAvDgTedOdms8PjRrILrqpcND8/ttD6iWR4M6oS7LxyGEWu+qhZsTwJi8YkNnBsqK0+3oLV9oCvemtELA77/GJdvW2Hwys84BQXFSL0zpx/Oul3j/Wh24MpTW1jwvD2zDzouGII2M3qgzfTuaK2EGgexa+/TBbR3Y3t7dYxF6jPp/VUhoecVFYD157fD4tpBpOXcexHSnII8PvZ78wfho/Xj+bM+2fyfRhN0NclXde6izvOrrVNR1sDPoLYbs3US13vrzYONJ7iaKWg+x+qSEly6zjTq84HqYVm9XSrKyxE2sL2hs01YPovbwBjUJ7jIY0vtYqzPrQqJydiZYw3nGzmqN3t4TIEmF1yqvWlmZviQTob2IC9XisVaow0r62lMwVWcU4qrn/vDbnYoL8VlTOgeLc7VPDuNfLvSMWliTmlhOSrKNC9rA4hzzIT5EzbwNH/4WeZ1UVpUjsOdXWH+TxuEXHmwER3h0aBZBZeF1WG8MqkDrPydNMuDM8ZiGsc5JWvpCIiMvCz0XzYKX2z+jpNnUkzRoNWfofWM7pyckzwCnRYPY1G17ep+vDu7H9rN7I3Lnlb4avssdF40DI7BHvjabBpGbBiHcarDpzJKiZ72s/rwEN+Q1Z/jgw1j0WfVp3hn3kDOl0XDmwfsTmq10HWIx50u4C11bAqAf2duf9j4OWpb68cvJpiFS/flI/HRmq/582YeWN7gB8m9oBgpSu0QmhCpWR4cqtucI6u43qvP/Miu87DzKQg+k8zxXA2hOQVX+sEt3JHSkGHSD/M0ayXFifEI7VM5lJS0eoG2pfEpKyurU3DttTmBj3+cBN/oIM1iPEhwxi+abDjfyI/7odxEBNfx48ebVHCRty9u3njDcDKJLZokUJaTre1hPBpTcDH0SDHOY6UaFeUVODfMC9bTQpDso34EN9JSQhTs77c3HgfecsbOl+xwZpAXgo4lItYhk7dROENR5v0N9Rdll8J5dQSyoxuhXeugpLAM+950YsEV5ZSmWYXHiWYVXGfdrivB9R6u+dpplgfnx2v78NLkDrAOqBRt7Dmj2K6LO1gI2Pg5cXBxu9l9YRPggu9PbmYBNPPQCu7I91gdRSslFCiXVI8lI+AbE8TvKygp5JlyZUq0UaGhvqHLP0Hb6T0QHBfOMUYlantabibmWuqC3Kdbfq/VAnAK9eQs7G2nd8fuW0eQkpNep5eKhuMc1b5+cSHsEbP3c2bhMmr9eHRbOJyPu+na/cWMUZ3IQ0b7UroGl3AvFqAPA507icd7sfrCj+yNm63EYWNA52J2ZR8uuN+oc+aj0QSXaruE7+dwZ0permyrq9qGSvL9vAzig4oxBVe9MVyntqCNau+mWNqHPDfxi6cazjfys4Gc3NQUOHHiRJMKrlwnW11qDK0tQlXJvnb2vr6fD0tjCi7yuAQfT0LElVT+gWRMSHAd7+MOs39YY/uLdjg7XH1/1A8yimd6GHz2xcHiGVuY/d0aZn9T5UlrFjQWz9jAdl4ojvV1x962jnBZElErlpS8YkkeOchPrT46YqzLmJdchF0vOnD9ol1EcD2ONKvgikmNR7uZvTBPiZWGDpdRDMsb07pi2YkNmgWYuHchXp/aBW7hPvx6+SklsNTrzzZNRFv1eSSuBq38VH1+Am/PK8rH+2u+ZJHz5bbp9Wa5zynMQw8lgEi4pWVV/8KsPrOVhdH846v5NQm5Tzf9hwPflx7fUO/5xaTF4yuzaWg1TScIL9y+CWsve67LyB/GsveNYsau+Nhq76gbelCQ527Wwe/Rb/ko3PC1h1OwB16e1gWjNk5QorB62gKqD8Wukdij94YnRyMxM0XbqoNi2Y46nseXP07BfMvVKLhHHrA1l7ax4Jq2ayGvn2g7PxRWU4MbPEvxXhhLcFWQB2PmeF2HOqgD55+qSY71dUOHSyVRCTRjdbj3mqXYVIIrYflMw/lGfTkMZUpwlWakoSgiGIVBvijNTDdaG9wNveBatMj4y1+RV48SuurbgWK44uZ8a7T4vZo0agwXzVL8l02TzFLUCS4PFhtUSBhZqL8kiLy3x3JdHtTrlRlegF0v2MNcnYPtglAEHEzAjpfsdJ/xpBJd6q/1rGAceNcZ5k9Y4/IYPx5GJfKSinDpc19sf9oWZ5T4IzLD83H5az+keFf33NJQJW0jD9jDQPXd/i9brl+yn2l4h4WmpVkFF3ktaF1CGs67dPtWgx6WNFw4YPlo9FnyIccikTeHZj32XDaSxQTx7Z4FeGN2LxZWDiEeuK7ESFWvT2RKLIsd8nq9Ob0Hx3vVBc3Eo0zyPRd/wOJLD9V7+u5FHDB+weMm23yjAzmZa7eFQ2sJGT3JSrQNXfM5CzX6bEqrMHr9OFxyv8GCa8DKz9B2Wg+0m9ELKTUEXlXo80kYDVr1GR+H3jvz0PcIT4xCx3mD2DZt7+JqQtI20AWvTu+GE66X+P39VoyqNXR3wYPq0Q3dF72PL7ZO4Xi4u7H+yg6dl0+1hS6Gy5lnKTY0hovqu+niLpxzu96kHi7KrxU1diR3qBEf9akzx1b60T2VQ0qqJC6fbbTOvj7BtUqJfJp00iRpIdS5Ja6Zbzjf8OFdEb9oCsI/6IbQnq8hrGcr1VY9kXnhJIuzpkQvuKZOnWq0a6An6/LparMSKeFpgb+uw24KGjtovqlmKdYUXFWLmRJDFEhuvzQMuUoI3Y/wouvsuCKcPWZXvvQzJFe+9I1v5XGVqAu7moJ4p0wWVuZq31uTgvgzjvV0Z68YrYZhN1c3AznyahrvQ4HzejIjCnB6mCcs/maDy1/4PZQnMMUzF+Z/03ngsqJMM4m1YFyaVXARlPh0zJZJaKOEzobzO5Cem/nAD8115y1YrNBMu+teNiwSlh+v9HjNslyJd+cPrDeLvdmNA3hDiaPlRzewWPl066Q6PVLBcWEsyEb9MLbaEFthcREGf/8p+i/7iJOeUv03X93DQmf+obqHOUgoUkA8HW+2qt9Jx0t4bVpXvL9yDKy87bgefZaNUsfojAnbZmnvqg0JEfNrB3j/rguG8gxM+jfFU9HMSys/JxaJb0ztgvUXtrONPFejN07g4c6A2FAWph3m9OeFw4tKdW1E599vzWdKiH3M4rSuGKqarL2sE1zkbawMmqe0EA17mDfXLEUWXF9/wB1q9DcfsMeLRATlV9KXlO0bDIKLhh1Ttq3T3t341Ce40tW9FpOWaPhhYWxStv1QKTTqKeTxyTzTNAlP9egF17Rp04z6ueV0X3zzfpVzbYtksx/4fmgqHlRwkUfHaXU4rGYG45Yq+r9Urk8KgPlTNtj5sh1uTg8y2GvuV/XfVV/TX32pa1vVv7dmBGHXa7rhtPoKCaTt/7Blz1O8cybKitR3rZ7LSStZ0BClxdM2SPSsjJ1zXhNhGFYkL1fQxSQWcD574ljYkUdvXytHFmqnht1m0akn+GQS72M7X7dSCA13Hidhpo53tLs7Ao8n3vX+om00MSA3oQglebVTP8TZZ2LrX3V1M5bXXzBtml1wEVn52Vhz1oy9MV0XD8c6JQxcQj2RlJmC7IJczql1txs9JDESb8/ui5Ebx+ObbTPRSgkXer+e6162HHdF3icSSjWPtfTsFnRfMByJWanouuQDtJ3VC3HpidrWSmwDXdFGCZpZ+5dpFh3xGUksalac3sLHpjLv8Gq8MqkjL1tUE6rD5ku7WSRSTjASN6mZaXhpWhcWXHY+jiyayHtBsWgn3WvHEOmhTPs0+3Liznlc58+3fKeL+bqyh7fTZ51wuqiO142Hb6/72PFSMLQe5DiLGSy+yPP3nqr/sNWfK8GlewCRkPt6x0z0WPrhfacdWHNxKw8pmt88pBNc7ynB9epDCq5mCJqn9fBipnzBnWrEyF5I3rwcMZM+Q+RnA3Tl0/4IH9KhUnD1bo18T2ft3Y1PfYKLxDF5WptqUXNaK7HW8j11lPDhXVAU2TTLDRFNJbhyrK/wtTac59AOKImPRXFsFNKP7EaK+Wrk+3sZtQ4PKriirdKV8NAESAsq+15zgu+eeA58r4uywnIOQKdSlFXpuadhRYrlomOQeCLhRtDEnctf+hmOf7C9M/KS1Y/LKof3NI9hQeS2XpceJ8oqjQXplXH+dQooPfT5CS5ZsJ8biv2q3jTMue8VJ4RdSKl2/KiraTBTx9/7huMDD58KjwYmIbgI6lAjU+Ow4/pBfLh+LN6c0w8d5w9mD8uIjeM41qk+SBx8f3wjC40207rhEyU6KNhdD3VMS46t51mJU/YvwdLTG+EfG6htBbbftER7JdiiUuIwY99SjovxivDTtlZy0uUSXpr8Ls7VEEC0JFHbuf04FxdBX8zV58zw0qQOuOptw7aqpOVk8IzF0ZsnIq9Ql48lJjnO4OFyD/VmwUWFhkvJC1gXJNSm7VuC3stG8jHpK7zurAXPmLykDW0SFPS+SQk7HuJcNJzzj72ujm0fpBs6pfbrPG8wxm6t3mH5xQQpIdkXsw+uuOcal/S+Fec24VUlMq8pUUcPymSvHCTdzq73oXkvSHBRG5KHrykFF51L4poFuo6VRBULqyrDSDVK5JjBqFB1NRb1CS7ybA5Y8Qlua7GKxoY8fam7NiO0n867w6VPG3X+gxA2+D3DUBvZk9bMa7KhxaYQXHTc2Fnjqw0nJm1YhswLxxChBKZuxYG2CB/WiYPqjcWDCi4aaqOOP/BYYrOWgCMJ2N/O2SB4ahUlCkkgWaofae5bo3jIjUVJPZeTBNd+JbaOdXHn4Uo9kVdTsVUTXDuft0dhhu77Qtcv4EQCx3vRtguf+lR7H+G0LAJb/2KN6Bvp/JoC8s3U66grdw9w99wWgx3/ssPOZ+xh8YQNLP5ug/2tnBChBFbV+kdcTOXjnRvhbbT7VDBtTEZw6aHbkGJ3KOGof1woHENvwy82hGes3Y2krFSMWPcNeix+H64hld4tPfR+Sj+x7vw2bL68GxHJles2UgxXp4VDWHTQEF+XxcP582sSnhKDLZd2KyFQ/UFHgoXisap+iW5H+rFXrd+yj2DpeI7FXEZuFs8gPKxevza5E+yCdbE3JJxWnv6RBeNXFtPZa0EeMwqW33ur/hxllPiy3ew+OO18mT+bhik//OEb9jKtubCt2rOKzn/NGTP+DCoTd8w1xHTRe99f9zX+o2xVoeHHK1427EFbr9rtbjMV6RjTDi7D85M71huz9qCQ9+24ErkOqp2aOtN8gZ8Hwga+jdAer6vyKsKGd0bEJwMQMaoPwt/vVq3jpbX0jIkpBM3rIRFFMUvk0ck8e1S1kxdnnM9xsEJolZl7tMh1eVHTDHXq00IYU3BRzjFKbKo/PxJYBf7eiPpqiLo/XkH4yN6GeyJq7AecOsIYNGYMV2lBGVxXRcJnZxwP0RmTu8VwUUD7qeG34X8wQRfUfh+XkDxWhzq44Ggn92ppZ3jYTputeOlLX8OPvaLsEux/ywnbnrGFxZM2HL9FszOrcuOrQBZpuYm6dk0NysX2Z+1w4WMfHt6sD6pzik8uz3ZMC8pDphKLxTm1PWJhZ1Ow9c/WcFgabrT7VDBtTE5wNRS6gSmWJTNfl+i0LshK22pup9dRqXEwv34AFjcOIighos5j1PXe+qD9Lt6+iU82TkDX+UPwztyBeG/BEHy8dTIWH1uHwSs+Ya8RCbvVSghxAlUllCbvX8LiYtah73k4jVJmkLeurpiy827X8N6cfhxjRZ+36+ZhTsJKXqlJexayEKwKfd7nZlPYc7bo8BrDUBS9d/yeeVigbDWhbQdtT/GQrftdPClUv5Hrx2LoqjEs5GhIkR54Z0d48SwfY2BMwUXnXZIUj1xXBxSGBqIsI529WOX5eSwyQru/rnW+bZG6fZP2LuNgSoJLD7UPFT1l2ZmI+Li/QZCEK4FKMxibgkuXLhldcBXHxeqEN4uttoiZNFp15mW8BBQNKdLfsN5v6Lb3eAGlWfdOcNwQGj1o/t82sOzcDLMUlcja8aIdrk8I4GHP8uIHS+BL3q8b0wKw42U7Fjh64q0z2YtEnqwoW/oRrNvXYXkYf67v/njYzgvh4Pjj/d15qFDPlS/8cLSPu0FcUX18dsVh21O2uP6tP6fReBhCTiaz4PLdH6cOrhmFx4pHRnCZIvSFpeFM8r5FJMfwkCPFpJld24cOSoDNPvA9Oi4exgJo0IpPOY7qk03/QW5hHmbsX8avOyuRNvSHr3DGQ5cJvyp7rh1C/+9Hs8A55nievWIUGE9iasDaz2p5BUnc9Vo6AoNXfoq3ZvbiHFf6oddDdqex7tw2/ndN6PifbvwWk/ct0iy1ockOlPV/xYmNXM+qQfOlDYzhorpN3bcEO28criUeCWMKrruRY3/LkIWe/mZerEx2awzqE1wb1LUmMe9WJV6xOaDrnetkw2tO6gVXxIiuKMurnMlrTK5evWp0wZXve1tda01Q9W6DNMud1T6rQl2jsF4v67Z3fxHFCcZZ4qfRBVdTz1J80gb72znBZXkEUv1zH2rWX9i5VBZuVtODkJ9awvFaJwfe5oB4SnVBWecJyn+1+xUH3JgUyOlqSGSd/8ibY728d8QariOljbj6XfVQEvKQ+R1M4NmFXttqZ6Cn9yZ5ZiPgWAK8dsTA90Acgk8nIeRcMkIuJFcLjg+0TGLRF+9uHDEumD4iuJoBSpQ6y3IFRmyegOkHluGk8yVk5GVjgvlMTgExQAmidrP6wDHInZO40kLbVdNQ6LnofgPtZ/fBV9tmcAzajhuHWKSQvdO8wTyEqYceDLtuWKL7sg+Rmp3OaST6rfwYV72teTsNk2bn105kSe8j79WCQ6vw/uovNWtt3EIpH1p3w2QFg+B6sWUu7XM30o/tMwiL0J6tkO/lom0xDvUJLprMkJCZbJhZ2tjQtefZmfRXK9XQbAUBPoj4qJdqj8oYrtipn/F7mwK94Jo4cWKdwrwxyKUhU4rTouvetx3ybldPHUPiMqy3zgNGKTLIK2oMWrLgujbWHz574zhYvda91ADI43Sin07E7XnJkT1RNAtx2zM2ONDO2fAZwceTsU3tkx1b6QmjPFyHOrlwUtSMEF2MrO2MEJ7lWBPyeB3p44qjfd1reetpKPbCRz4w/4c2PKo+x+KvNtj7iiMuf+7H6zPqIcG14zlbZEbLOoqPKyK4mgl9B0b/6SEvGC3hM2XPInhG+N3zoURDqAdtTmLLxV0cuK+Pc6KOmCYduATrFu4m6Fg7b1rCJypAs5DnirLo1y+G6D2WjqfQf9WnaD29Ow+51gXtN//4ek6wqh+mLFWCi4Jkdz5rXyvD8/1iqoIrafNKXcdKZXB7lCTrEugai/oEF4lwih2sOkGkMaHzip3+ORIW/AeJy6cj48R+nqlYHB+HwvBg5DpaI3nTMoQP7lDZHqpQ5vWs6xe0oxgfveAaNWqU0QRXnrcHDIuZD3gHRTHVk+HmuTpWnn+PV1AU2/CF4O9GY8dw3baI4dgpY8dw0TOioUt83Q0STvaLw3B+lA9sF4Qg2jYdfofiYf53a3hsjmZR6b01FudH1g6HyIkvgs2cEMRpMxkppUPEpRRE3UhDbmIRB+aTLTuuAKc/8sTO1vbIT60dl0jPt+zoAqQG5HEMV6H6zNKCch7KrArFcB3q6MxeM+HxRASXCcEPpYpyXkCa/n0/0H5cqgg3er3zhiUue9zSLDqoM7rf4xK0b2JWCpzDPBEUH15v+gGaadlj+Uhccq+cGVmhHjY004iyK9O/GwJ53Z6Z+BbGWkw3GcFFOZfiFk4xdK6Rn/Q2enB4fYJr/YUd7Ml0DakU1o1JaWoyosd+oPPs9KZZiepv/7cRPuhd3fBh37cM2wxig7xbM8dyIH1T0RSCqzg5SZ2f5uHq3x75Prc5MJ6GEovjYw1pRKiED+9ktPNvTMFFjwx6HPAjoWFfUZOAhA0NTeqfhRQP5r07Fhe+9OGM7jpBVHdb0XurPhP9DmrrMqofigfec8b+t52w83ld9vpDXVxQlHv3yVt3I1cJvNDzjTOhSGiZiOB6RClVnUFT5WdyD/PGxJ3zq83epIcYPejulr/mXpD4tAp0hG+sbm3LmjSH4CJxFTVuhKFzpRmKtLCzMWm2oHnV5qXJCYie9Bl7rUhM6c+7rkLiixLGFsfHaAdoGppCcNHwKKWF0LVBW4S/3wWx079BzLSvEDGih054Ujuo7Qmr5jf4nr8XjSm46LtptzAEbuuijOJ9ak6o/e+UVxdT9wPtT0OeFCx//jNvHOzugoPdnHHhCx+k+NY/IUsQ7gcRXMJDQ8Iur8Y6ixTDdWaYF451d+ehi4ZADzdKRVFXSgiiOQQXzVykYUS9yEix+EHbYjyaTXBpUOb9HKvLiF84mVNi8NAaCwwlPpTACO3ZGuFDOyN5y/cozUhnodaUNIXgIihwnvONade+rhLxYXcURYVr72h8Gj+GyxqWnV2MHsPVEiHvV1lRBQ8t1hweFISGIIJLMApVg+YbGsNFweDDNozFyjNmJjOkWBTirwSGLiUEeTvyvY2fkqE+wbX16l70/X5UkyQ+ZY+BugZludnIu+2CjBMHkLr9B6TtN+McXCUpSc3267+pBBedX76nK6InjOTA+Wpiq187xHz3MQqC/Y3aDi01aF4QBBFcgpGomhbioYLmJ5lW0DzF7KTs2IiID7uyd6vCSAHrValPcJEgJc8irSTQ5JCoqFqaEScnpyYRXASJKcrFlufmiLQD25CydTWniMj3dmdPoLFFpwguQWi5iOASjAIJriMd3XDgNedHLi0EBc5Tp9tUixbXJ7golUhMWgIvnv444+rqip/+9KdNIriq0QyCszEFF31Hadmf6FvpnLZBEOqDfkjQzMuWPMOSlrnKiizgyVw8i7QJv7d6RHAJRoFu5sLMEhRklDQ4/oEE17OTO2CciQmupqY+wUULvr81szecgnRLRD2u6AXXsGHDUN4c3r4mpDEFlyDcL5Tc1bKrC25vj2nK3xeNisPSMFj8wwbbnrTFkV5uiLHOaHLRJYJLMAoksmjhWBq2aGhaCJqlGJoUifiMuuODHnfB1ZxL+5gSesHVvXt3EVwPQHF2KS5+4QurmcEoK22Z7VYzrYPQ+FCC2VODbvP6lDfmBLbY9k7xzsXtH2I4we2uV+yx42k7RFyuvp6msTFpwcVekpIiOKgOxSnYo8nSHAgPDw1XnOjtAcu3XRs8pEjXn9Z/1C+yXRMRXDrB5SweLhFcDaAlx3DREj3BJ5JwZYwfbm+KrjdxK6W7MNZaro8LkbfSOIM/LZnkuq56wt+WCIl0Sm5L3i7LDq48EtNUmKzgos42MjkGH2+ZiDbTuqG1KmfdrmlbBVOnUWYpKrHVa9XHWHh8vQwp1iG4dlkfwwcbx8E3yjjLyLQURHA1jJYquIpySnnRa/MnrTkh6bZ/2yI1IEfbWgk5YuxnheL0AM8Gp6Zp6bAHsIEjDAS99+wHXuzdMvu7NcLPNH/iVhLRgUcTkeLV8LxodF5XxvvxIuZBSrg3FSYruDyj/NFj8QfoOHcQDtqexI5rB3E7wlfbKpg6lbMUGy64TDVovqmpT3DRw0ZfHmdEcDWMgrQS7kgPdWg5ebgoTEEvAHa+YAfbhSHY28oRSd7Z2h6V0BqJO1+xw7Z/2SKryjqKjws0EeLqOH9Yzwpp8KSIZJ8cmD+hWyfS7C82SA9t/nUg/fclYOufrWA/P+yhnn1R19N4CagLn/g02TPUJAVXQFwoei75AF0WDIFHuK4xpGNpWZDgogfjyQG3eUZIQ7hfwTVixAhkZ2c/siU9PZ0FxbPPPou0tDSDPTQhEk7h3khMTa62/+NWrKysWIR07twZmZmZde7zqJSQkJBGE1w0ayveMRNJnjktYvYZPVMuf+bHQ1u7X7FHrH0G1zs/pbhOQRFtlY5t/7bBdhJccY+f4KLYq0MdXbDjeTsUNWDYjLxAVnOCdItykyfxH7Yozm/40kaNRX5yMV9bEt8PIwloYfFdzzlg1wsOTfaDw+QEF63L9+EP3+C9uQM4dkswDiReKT4uMTMFKdnpvBRQY0LHp6VDHmZpHxJc76j7YMa+pXcVXL/+9a/x9NNPP9KFOtlf/OIX1WzPDW6NFyd3wnPvvFzN/riVv//979w+v/rVr+rc/iiVf/7zn3yur7/++kMLLvpe0vAMxT+Z+o9Zmnjj8kMEi62dz9oh+ma6tqV+SDDsa++I7c/YIS/98UudQrFJlAdx+7O2vKD2g0Lv3/OqI3sTSXAdeMuJ16l8VKD1N0/2vw0LdW6pAbma1biYlOCiL/0eq6N4Y2pXWNqe1qxCY0PiyvzKPgz74Uu8PqM73pzdF1+bT0dAbIi2x8NDD7vsmEJkRhQ0+NcziaykrDRk5GfX2SEkJiaiVatWeOqppx758uSTT3KpantxaFu8MaULnmv/UjX741j+8Y9/sBipa9ujWKZNm/bQOceKskpxoq8HrnztZ/JDisneObB40oZjbjzNKTXBvZ8pJCb3vOnAAq0gq1izGgd63pmalzAvsYhTIOxSoqso+8E9UyGnkrH1b9bq/fYw/5cNTg7x0LY8OtwYF8DnFmWbplmMi0kJrryifHReOAwfbRzPAdOCccjOz8WIDWPRe/lH+GjTBHRZPBytp3TFO3P6wS82WNvr4SilGK72ztj9vMNDzVJMzclAdkFunQ9YslHMTpkSkI9jWXFqM183R3+XOrdLeXRLYyR4bSlB8ySczn3sDXMluC6P8UVZ0f3VNSe+EDtetsPe1x1RlGu8oTCKUb36pR/Of+htUuk10gLy8OOfrGBJMXr32WZ6Ksru4MIYH5gpwXVpnC/Mn7LBjakNm5xD1y83vqiWIOW0QWn353kjQXs/IvtBcVwVzt47/2MJmsW4mJTgsvZz4l/sp10ua5b7g9IG0NBYQy5IUlYqEjKStVemCZ1XoqpnSk56o910JGhpWRhqOxpS/HTLd2il2n6s+fQ6h+8elKqzFBsquGjIs8OCwZh1YHmj1OlR47jTBXy3ax6CYkM1iyDcPy1FcCW6Z/Owz44X7JARfv9B26mhudj2nC0OdnFucBzpvaBhKavpQZxi4OZ3gSwuTIWwiyksmE72vV1njNvdyI4pwM4X7LH9JVs4rArjGYqeO6O1rfcHDQNTYPqpAbc55u7mRNU+WvoOih88PcQTB992RkZIHtv0UB9XtZ+jsJTzH/rAc+v9eTYfBM89MSy4PCwe7NwaiskILmrIlad/ROvp3ZGc/WDuPbsgF3ScPxAH7E8jX4mImheFXlHn7R0dCN+YIP51SPtcvH2LZ0IOWv0ZCoofLh7CmFBdv1BCaMLOuY3yy7YuXEI98daMnmg1tSv8GmFosXKWYsM9XPcKmn/coftCXwThQSHvAuVXOtzVhAWXurWt5wVz7BYJGvJ03C8J3lmw+LcNjg1xQ1pQHrKiVd/wAO8n2LNyl/eQgHBaFQHfffEsIu4FfVX1x2zM7y55pMhjlBNfhMyofGRE5sNhjRJKT1rj7PteyE0sYi8XeZnu5zP99sTzcCJ57S6O8YH5v6wR65Chbb039Dk+u+Ow7WlbQ/qOrX+yRoqvLlaK2opmB9J1PT/S2+CBSw/Mw/WxAbg1OQglWiqPnLgibH/aDlfH+hvajURYgmsWQo4nI+JKKtKVaCvOKX3g9vTa95gKLlqA9wvzqei3+lOUlD6Y+5c8NVuv7MXbs/pgxA9fw0cJq6oNT8NkozdO4ADsBUfXori0BEHxYbwsymuTO2POoRWIy0jCCfdrdXq76FiU9fxu0PYEdYyyepKzUtLWB70Z9ND7Zqs6dvt+hNGmvVObvL/mC/Ywrru4vcF11UOC6+JnPjijvuwluWWoKL3DD4U7mluZvjhs0wo/1Oh/tZ32I1t+QSFe0havLitTDwvtGHwc2l+h39dwHFVvKvr99O+h06FiOIbBru2vvZ9KtTrq9yW79pnV6k7H0Nup7no77c/H1upY4zOJqja9vWZd9G54Q12099BneUT64YjzRSSkpxiOU2cdaX/1ulZdyH6vulTZl/5NGOqo30Z1pP/1n6nZ67zWdOya56Rto9eEwaY/Tj11IRt9bk0710VfR81WrR31dio166Idy1AXtd1wDM1OH6t/rS9cF9q/yjHob626a9uJanYq9dSR24v+19u199Sqo7bNYNc+S7+tZl3oO5oRkY/c5CLDe0wN6nQPdnJmYZjkWzv1w90IvZDC8TnkxaMZdtufsYX/gXhug7qgNqCZa1To37E2Gbj+XQCujPdH8LHk2oJKuyY1Dxd6PhkOy8LguiYKTsvDYTM/BNZzg3VlTjCuqWNem6hExYwg2M4LQZJH3fmkyoor+DrdD4GnErH7DQdse8oWZn+0UUWJnL/qhI75E9bY8awde/rOf+KNqOt3Hymhbec+8mavlveOWB6S3fWCPXtE7wd6v/+hBFg8rZvdaChP2nB76r1cJLKOdHHjuDxfdV1o2PHge878mgSe1+5YPlZWWAHM1LlcGx/A7Z2uxPPRnm442tUNZz/ywuEOrtjxDzsceNsJnhaxfF/fL65bIrluPntjNYtxqVdwFZeUISO76abSlpaVou/qj/HVthn3FDd1kV9YjOuezui1ZATaz+mPk04X+WLd8LVHp/mDMUoJrtDEKD42BY1/u3Mei4vvdi9Q4isc/Vd8zOKr97KPEJtWfTz3ovsNjPlxMtJy6lf4NLzz2owe2Hptn2aphIYtP1w/DvttTqBCu9Fz8ouQk1d95gx54WLS6x5LTs/NxIpzmzh+w1gsOLGO2+TjDeNrZXfPVnUtKLp/IUxtz9PO3TJxvLcHjvfxwLHe7nDfGMXbQs4k41gvdxzvq7apv/6WCWz32hbL+5H9SG83fPDNFMy3XMUPLToGlRMDPAyzSi6O9dEdg47f3Z2nQhflleLcaG/D/pdH+vGXPDuu0LDvcfUZtyYFqc6qAsm+OTjWU30m2z3gtimKjx18Mon30x/H71A82922RBn2pXOItdXdF3bzQg37HlV1yU8v5piOy1/7Gdrg9DBPFGaXcMDyqQGehv3Pq1+RRapzyVa/wo/319mo2M7ReRujbdIr667+um+IwspTmzFw6ETs6WLHdqpLiHrYE+6rqY66djzWwx1xLpncvre+CzIc4+SQ28jU8hNd+EK1o/aZZ0eQSC7lX8ynR6g6ap97YZQuRUuKTw4HW+v3t18Uxp1+nENmZTuquvjsi+Nj++2PxzGqC9lVOwSf0yUapHbWH+N4Pw++DsTN6YGGfY/2cENuQhEnrqRfxPr9z1Ayy6Iy5KcV4/RQVUetfW9MCUSZuu/S1P1B522wzyHP9h3E2GVUtqMqXuoBTVAd9fvS/RejXVOnNeGGfencUoNy+aF/a3qVdux7m0UL1ZGGPvR2ugcL1XWmWCK6Z/XHoV/qBP3aZ7tWH5e1Eap9gfCzqaou2rVT7eatdTz+uxN03w06jqpLtKNupp7TalVH/Tmpv0l+2fzdu/adv+EzaWkWCqKmTvz8x7rvBh2LZmmRAHsYytR3Kzk9j+vY2ND3nPJoHezsYhCk94v/nniY/13X2Vs8Y4Ptz9li18v2SAvPRUpGZX3pLwWVOyqRtOvf9tipyrlR3rB4wpZjwEjskWi5NS2Is9ZTPWjB74uf+uD0YM9ay8O4bIjAnjYO2P6irfpcVZ7SiQ0WQFT+osrfVCHPjyqHulQ/N6oLrft3tJsbTqjvRdDFJKRnVR9KpaFMetbpmzxTCeeb6rtN391jA9xxuLsSIarudO773nbEkZ6uODFYPWdGesNlRSS/vz7yUoqw+3VVf9Xu/icSOFfVGXWe99v+sY4ZLPB2vqLa8nU73Pg2EMe6uXNddj1vz/ehnvArKSzM9r/jhDMfePI+LusjceUrPxxq78LnmOSeja1/tsb1iToPJyW9dVwcrhOk6t4tU9ckRz3bXX+IxPZ/28JjY/R934vWs4NZlAeeT9QsxqVewVVQWIK45Af7RfEwkODqveIDTNmzqEHDZiReElNzERgXhgErRqPtjF7YeHEn3p7dF8PXflVtmDI0KQpvKHHUdfH7LKIWHldCY2o3zNi/DK2ndsUm9T49hSXFGLj6cw5OtvNz4iBuW39nFJdWD+qPTY3Hs5PexZBVn1ZbgighMwUTts9mIfPBpgkGD1imErOp6ktflRPOF9Fr2Uhk5GZxfSNT46q1RcWdChZCFzxuYP6RNbC4dgCxSqA11oPuwu2beGlSB3SbNwTZ+dUzNyen57LoelBiVUdPX7JdL6ov3wt2sJsTyvUlFzzNHmL7c3a4rY3POy+PwM7ndXYqvldikFuYj8tf+hlsu1+zR5KX7t48MtDNYN/xlB3HahTmlHAyR7arX2bH3/FgwUVudn1dyH7hfR/1EFGi0CULO55Rn6lstM12oS4milziFMeg399jq87tbLMwRGdThc4h8oru3ro6xt9wDHKl56oHFw3VUCeo339fGyfkZxbzcM7elx0M9oPdXFCQV8LxDLtf1dmoXP7cj48ddimFZwvp7dSOtLTP+wOmY9tz6kGmbFQXEq6E7eRQQ913Pm2HKCXY6GF1bpi34Rh7WzsgPVJ3Dx7p42qwH3xH3d85pZzfiKbV6+1HOrrxMciVv/tFre7qM659HcAP48hradiprgHZd6p2dtusE64eG6KrX9PDOuFqq0S03kYdYbxbFtvPjfIy2MkrQbNdaQjBspOqo3ZOB152Vp1fGQudfW846eyqnP3Qix/EtNiuvi5UTn3mycPSEVdTq7Wjy3LdUiUe66IMx6a6hl/SdaI3ZwQa9qV7JMknm9vg/Ggfg33v8w7ISShEca6q49uV7WjZSV1TJVqzogr4ntXbT/bz5GMnqI5k9yuV94D1jGD1HQAC9iZWfmdUXWg5FfpueKykdtTsqi7hN3RZv2/NrKwjnVucRyZP3z81/LbBvq+VI3dKZYUVOKTqpbdTfR9WcJWUliEizjgLAYddSOGhrZvjHzxg23tXLHtpaNjqmuqkrRaozlV16N7HYhGVoPsBQvet76547H/FSW2zZqGxr7UTv+eK+u5lhOUhXAmqPcpOnhf39dFwXh2JbSTilFAgMbW/vVM17xe1Z15SEQ9zxavvSqx9JueNiriYyiVcFcflYTzcyZ+jxAX9GCAoi/65D73VZ9nwM4zEnsXztri02J9/pBH0Q+jiaF8cbu+KeKdMJdxz+DtI4tn/YALXhUYVzn3pxcHucepHLz0XKb6M6kb3L3mBou3S4f5jFBwWh6kfUZVpEehHMg8193OF9Xxdm/lZ6r6z94KeGQfbOXMoSaxjpmq/fG5jm7m64+x8zp5/QOmhepxUPzo4k71qC0rUSt/f/NRi/pFJdaVccSS4dD9I7uD4EPXD8nQdI1FqX/ocy3fvT5zT/vQjjq57pPNjNkuRPDeD1n2BLxro4apKSGIk+i8fxeKp8/zBCFIirCqWtqc4QHz3rSPIKcjFgGWj8OnGb1kcvTqtC8bvma/tqY6lxFnbGT1ZMHlG+LEgbKXEmXWQi7aHDqfQ23h1ckcMWvGxElyVniCPCB90XjiE60IxanTDUMC6xa3DCFX11EP2CRYz0WnuQFzztEbXhcPQdlYv+MQEaXvo9tlje0Idqxu6Lx2B3t+PQs/FHyAps/YCnLQv2a972+G8x01k1RBQdUFDsSQaKY6rZps1FHIbU6I6fSnO0Q2tlqgHQFU7zfRRZn5Q6G25SYUIjY1mDyE9ZKrurw9OJeFS1U5fInp4FaRW2ikHDX0mvafqvkWZujF//oJXsVMdidL8GnVUnT5Bv0Cr2un9RGFGFXtSse7hpo5frY4pJfwwoG30cNLbDXVUD0vDvqpQHYm62pEEV9uJvWDj4Gqw69eNq6uOdPxqdVSfb2jHKu1F/+Z2rFlHmlGkrlFddeR2rFFH/QoDJESq2u9WR4Laoqqdfo1Tfequo6qLalO9ne6TOttR66xq1VG7pjXrSPsR9L6qdjpu7XbUrqkq9dZRv68q+pxINetouO9qfje0Olb9blAxtGONOvK1pvaq675T9vyqdVT70PmYKoHHErmzpeG5B8VrVwwLLkonkaDEPA27kTfDzUz33KXzDlYd9zbyYCkxsPUvquNVPxrIq0az+84N9+Y2o/1CzybrjkXeKrUv/SgJv5KK06M82XtGAfr3A90LvnvjORkped/oBxWJC4I+x1WJOTpfp+8jcOO7APYunejloX5M2eOKEiN0zenHJ+fGUoXqQcKZxAoFyNO5FmWX8H7H+rtj+6u26n6o3p/mqet+Qf1gsFBCQ+dls4HTkghtq+oH9sbB7AlrXB7nx8JpjxLr+jreDbq3yPNLExxCziWr89HZ6bysZuoSqB7vpxuFqErkzTTeZqbOu64VA+LsMmGmrk3AEd2PSTf14+hwZ1dkqh/QNe9d+i6kkRf6Pm5pqse+Vk6cOoOEblNgMoKLPDkzDixHv9WfqF9MD56krSrkLRtrMZ1FzkfrxnJ8UlXm7F+Od2b1RXJWGvxjgvHWjF7Ydv0AYtIS0GpaV/xnzwJtT/CQ5GtKSLWf04/TE/RfMpLXdXQL99H20LHh0k4WZWO3z9AslSw5vJbr4hHqza/32Z1kwUdDhOrrzP95RQUoYdcDH/7wNU45X0Lb6T3U53bCFW8bfg9BQeT9VozGZ5smIr+oEOFKDA5f91WtuDOaOLD05Ea8O6sffy6VL36cfM9UG8EJEer8u7GXyztc51lpTuh8qT7f7ZzH3gmhOte8bbHy1Ba+DwThUYQ6bhJCrisf/B733KETXEd66SYFxLllwPxpG7hv1x2LvFD7Wjtifxvybtng0Nsu/COBBMmPf7TCqV40u0/Xc9OPjyM93FicUJoF2oe4NtGfRVys670Dykm0XPtGtz/FRQWfSVLHr3yu0fa9bzry0B8NU1I8lqdFDNch8HAidvzLDtaLgtn7dXLwbeyg/Fiq3lScf4jA9XEBHOuU7JuLotwS7HvdCYe7uGpH10F5ESmBKXm/yWt14VMfbFXv8T9QGcpi9V0Qt9u+No4svByX3N8SOrQMEAmja98GsLDUQ97m3a85sKcy9EJtzxTNPiSxSCLy1gTd0H9VYm0zeQg27raujUko0bAijZi4/RDF17EhUIA+ia3jfd1rfaaxMBnBRRy2P4vXp3VRwuf+3Jf1QWsuvqlEVPvZfdkb5BRcmbCNbpxvzWbi/R++5H9f8rTCc5PexVVfG7iGerI4WaE6MT27rh1U4qgzFh1fh+TMVLw3pz/6LPmQM+LroaD94as/x+uTO+OgXfWErTQEOGbLJHRZOAT5xQUs/sZs+g9eUSLuiqc170NDkF9snYJXlcDaftOShd3bM/ug1fRuCIyv9DQlZiajw9yB2HphF9edComoql8Gmm05Ze9iFn/dFgzFihOb0H3hcHSdOwipSmDejYjkWLw1sxcLLs+w6oKyOdDPUhy86jNk5GWzKKfrddzlEk6ocs7jJrcdtf9pt6tsp3JdiWTyktLwr35f+usQrL5YdyoQl55o2JcKzVwlaEmp484XdXYlekOSdC5shxAPwzGoJGfrgk6v+9kbbPT5BSVFKCotxvnbNw32C563UFxWgpyCPJxyrazjVa5jBQ9p621UXMN1w03hyVE4pq+LKr6xujq6R/rya6rPAXWvRSQ3/lRpQTAVUvxyOIbrzDCvap34vaCvBA2XkXCwXaqLgyTPFXmoPPfF8Ovb5jGweNpW7RfNooUCuskzmOCSBVqr7/p4XcwQfb8osz15bkhw0dAd2QmKN6T3hl2pf1Fnen+CcxbHI9KwJImc7OjCWt9bimeiWLHQM8mwWxYCy26V+bMogJ/jwFT99yqRGGWdpgSXHZ+fw7JwbhurKUEsnmgokxK97n7VAVc/18ULElmRBTjcyZXFT9StdBYuFz/xYeFCcYZ6yINGni8SQPva3p93i9rDdnEItj1vy8OIehsNpe5/UwlaVXfyxpXXyFNG2ewPvOvMIvNgR2eOsyNvZFVirDM47UbVoUjy4N02j8beVx15LU27uaHIDH2wWagU1kJCz3ltpXfP2JiU4KK4pXeVoFl96sd6Z/vdD7MOr1TCrRtOu1zBC0pMrT5vZri5SQB9smECZqt9CL3guhFgjwPWx1lwXVAdI0Fi5gslltpN7wmfyADc8nVg79Yn68bzdoKOe8TxHF5Xoqz34hFIVZ1xVQqUGOiy9AOM361L6eAe7oM31fFeU58TqQQOvf+s+3UWhhTwT21w09uO6zGwRrqKTCU6ui8ejhl7ltTr8SHvGHnG6P19ln8EfyUiOs8bjH5KJObcY1gxLCkabVXdTEVwUfzcq1M7q2vZFUEJEShTIqrvso9YmFJ5d95A5CkRG5+RjLdm9zHYB68ewxMQ3MK98aq6Lnr75F0L+BpcVUJXb6Oy8cI2/rwdVw7glUkd2faKKrtsLPn6TNq30LAvLaXjGKIeuMo+ZP3XBjvFDNKQdKZq4y6Lhhns3Ra9z2IxPFG17YyeBvtQJfhJLNKPg5c1G5UZh3Te1SOOp/Did+8a7GsvWrB9wYkfDDaq40UlOgXhUYWGvGnSCcXZ2MwN4UklNBTLw6M03KcN+dWEbI5KiJCHRj/ln4bHtz9lB29L3USJUyNu42h/d0RcT2XRRJMP6FCuGyP5fQEndYHUNKR7uIcr9rRy4KFAmvGoT1lAMw1ZcF2uW3BRHYNOJHHsHQkgn51xtYbU9NjNDwXF7tFQu+3yEJwY5MHnSkPNHluiuU4ksqJupsFzu857RznUyCtHn8NpFv5izUmnCzKKsetFB55cQ9A+Z0d6cUwkTRwhgUYTRkgAnvnI0xBaQFwb668bslTnFahNZroXVM8zIz15+JNjK5U4clwZjh1P2XKbUbzb5c99ax3LT4keOmfygtGwLXnvTilBqx9GJyiGjob+aoopOlZmeAFs54Ri98v2fBy6R1J9606UXRXaTsKX1tpMuF1d4BkTkxJc1Ai7rY6yd2rb9YPsLXhQaAZin6Uf4ttts5FbkIdnp3bCdMvlhgtAswTH/TgN0zTBFRgbqj6vJ/bbnsRH68eh07xBPERH+5td2cdDf13mD0FseiKGrdWlTRj1w1juuAkSUB3Ve8i7dUKbGVmVvMI8vLtoKMyvH+CYquE/fIXW6hgdZw9Aam4GB/lTvBYJNhJLdNwlR9exYFp3xrza8ejfK878yOLsmON5Qx30UAc+1nwGv7fNtO78lyYGUJ1Xn1WiU/13Nyj/1guTO7Lg8omo/GXUXNC1Ou95E2Y3DiItN5O9U5b2p/HjjQNcdlsfZe8RBdXvsjqMLcq2VZUjqm1oWJmuI72mfekvDc9SG5Kw1NkOsp3i7wiPcF/8eH2/7j3qevlFq1+8av/rPtZqf92+9L7YjES2n3S9yDYq228d5nqQSKc4O719n7qvCouLWHRtu3nYYD/mcp5FMyXs1dePipWfPdclSF0LfV2ouGl1tAtyNtjofCleURAeZSjm7fp/AlXnqDrvp+1wvJs7Ln7qywHW1yb48xI0NaHvp/umKPZgUEwSQbFMFLTtcySOBce+zo48+STVP5fFRfCFJCVuSnGkmxt2vGiHvGSdRyXgcALHF5FwOq4EhcVfbTinF6EfUox2qL22I4kQJyU6KAD9xEAPpAXTzEhtYw2ovhfH+HLaBvq334F4XgORznX/a048pLbrVXvOOUXCgzx+5DVyXKcbAaEhU1rZ40R/D95ekF2iRIgDgo7pZgRHXk/jeDBPMxqirOBJSjRkSR6zW7OrxwlfIcFFAezf+htSuNwLep/d96E8ced4dw+e1MEia4wfEpWgOdjOhWdvVj1/qgcFuJNIojpTsV0Qwu3pvErtqwms9OB8juWrD/psEnh0HPKQ0ezKGJu7r7WZrq4FxbudHqjEprpOTYVJCS6ChoJ2qo6p4/xB7OHZdGk3TjldwgGbE5hzdDV7jO5Gel4WB8pvu7yPf/3TkNQe6+PaVh0/XtyFvitGwy8mGDQkM2TlZ+zZoTUcaeYfeZV23LBEm+nd0V0Jlrdn9sb4bbOUiOnGub7az+rL2fB33zqK9+YOZEGz9Nh6ziVWExpC/GD9N5i6bwl7Xoat/hwdZvdHpzkDcdnTitNQ0Ptp1iEJJhIKg9Z+yp604IRwPgYd95oSCyQmKfj9sx8nsUg8pepAIkRPlurUuy4ahq7zh2LS3kU8s7KtEl7jt8/iYcp74R7mhee+e4fFWtWA/uaEvkz6UvN1Q0p9x2gsO/9Xl72OUt8xGmIXhEcZiqGioSrKC0WpUqxnBsN+bijHIWXF1N0nULJT+6VhKEjT/XAnkUVLjfkei+OJCXvaOcBpWQQP21FKkLOjvGC/OIw9SQ4LwwwdPs0APNLLDekh+djziiPP+tVPCLnwlQ+nf8itI47IbVMki4ebU4M4Zcjdvqv0WedHeePSx778mlKbkAfq1pQgUOoQEo7k1aJjkDfr4JvO7IVy3qTrI2i4kFIx+GkzgCk1DmVxJ6FFkNDa+bQSbNdTOZkpzaKmWbFHu7jDx0wnSGkmt8sqqrMSdy/Y48Bbzpzq5X4fMeSZc1kTCSt1XLf1UTwcTHWl4x7r6s4CkDxa+ri1qFtp2N/WCdmxlaM4xbml7AmzUOdmvyCUZyaSUL7nc05tpjYMOpnIQ7+UJLc+2Gv6pR8slOAkb989/BCNiskJLoI8N1Epcdh98wjG75iNL82msmA5ZHcaJWV3D6in905RYoNyb1EM15cW03kmYlVSc9Lx8eaJLJw6zhvIAqOtElftlZiaf2I9Rm36Dw//fH9yE8KVIKP1BtvM7YsfL+/GTV97vMfv6aYEWhe0m9Ub689vqzb0VxW6Uaz8HDFkzRcc4BydGo9hSuCR94kyu5MoorQR+veT4Oqz8kN8f2ITi0+CRFv3JR/wzEG6NzKUqPx000R0mDsA7uG6QHwiJTtNnbcSqis/QXpuFucPsw9y1cV53cddddD+NF6f3Ald5g5Wwq7pUoIIgiDcF9SxcqEfG7rX9aLtq4cE156XHBHjoEthcWaUJw51cOYhupCzydj+gi4rOuUs089qJWix7O1KoFBqCPL8OC6loUfd7NNTH9zGufe9+HVNbk7WxXdRUP6l0X5wVuKOPFS0VFFGaD6nC6F8cYkeWfx+l1URPCswzjGTY5sox1zo2RTse92Rl8HR14n2pTxUh992Ze8cQWsBkhepIF0nLmkfEleUn4tI9szGHiV4djxnh+M9PXgbDdtRqhdKU0GzVW2UiKX6XhrjywKOZnWSaKrj1OqF9qXPrvoeek3nREOeAaqeJMKo7Uj4eSkBTdurQl5G8gwe6+GB21ujDQKtJjSz0GFeGHx2xcN5cYS6Dt7Y85oDx/wFHq/bI0YfFXaOYuWUKFNilurRlJik4NJDF4I8OCQ8al6Uu0GChHJaXfGy5kDmuqAAdgqiPu16Bdd9bOEc6olVShBNV8Ju+fGNapubwWNF8UCUeJSGgGiYi7LUk3fL0v4MB7XfK40F1Z2OQX/pvxs+9hi9YTxGrx+PHdcPIaewMh8XZZLfZ32UA7710PvmHVqFURsm4Jz7dVgHOGOX+nzygo1TglQPzU4cumoMx4g5Bns8UJsRc46s4uFO8sI1ZDhXEATBVCEPSPiFVEM6jRS/XJ7FZ/4XG1j8zYZnAV6fGMApXapC3iwP82hYzQ3m2Xz6dRkLskp4JQ296KkJLbNzZZwftj9ly7MHKeaKhiYpAJyGLHe9ZIedT9nj/Ghd+glKaUJxRSTuKFkpJ0990paHTfWzIvWQl4bqpX/GU+6seIdMdZL8shZ07lkRBZxsl86f3kZC5uwgL5wZ6oVDHV3YQ+a6PtJwfo0J932qDvr60l9e0LoewUPby4p06U3qgzxfJMhOD76NM8M9cWW8H5zWRiDOPrPe42aG5+NAOydYdna978z5jYlJC67moP7L23jQzUTirVyJSf0NeC9IgE3ZvRBtZvTAi5Pe0wKnO+LbXXO1PXScUkKTvGc0m3HbjYOcRT+/sIALib76INE4Yu3X2vDm6vuulyAIQkuF8q/Fu+gSk9J6g3fr4GvCz/EqweZ1QcejfILh51PgbREHz80xuL0pBp4/xiLocBLnjKLhUj20lA/NkvTdHs/rBNJi3STGjII6bJJbNq596w+HJWE8BNskHWBjourLQo7FnGarhzwlpI/2csPeNxyR5lc96XhTIYKrBUHDjbQ8kW2AMywdznEMWFpu9fwvNLtzr9UxDvSnQPw3pndH6zl98Pb8QVh0Yl29Qio+PRGd5+qC/896XNOsgiAIQqNBj199MQGoP9CJFROpkJHIpeW1+nngwJtOLGib63xFcD2C0DBsVGocTjpf4kW9j9if5Rl4uUXV1+OqCg1Vvj6lC96a3Y/TTwiCIAhCS4bEZKJHNo50cuO1KSlmrjnFpQgugW/Az8wm83Di9L2LNasgCIIgtExIbFEm+l3P2cN6VjDHyDW3Z1EE12POHfWfW6g33preA21U8YjQTUsWBEEQhJYKBdW7bo5Ein+OyQybiuB6zKHZiB9tnKB5tyiDfePPUBEEQRCEpsbUYtNEcD3G0M143PE8XpvcmZcVikzWrTEmCIIgCELjIoLrMYaW8mk3py9Gb/4PLzEkCIIgCIJxEMH1GEOzFmlxa1rQ29Rcr4IgCA8CL2rdxJnD64Oep5kRBZznSxD0iOASBEEQWiwksmi5lmM93XH2fS/kpzb/Khm0LM+eVx14mRx9ZntBEMElCIIgtEgqKu7gtlk0tj1li23P2GDrn60Q45iubW0+KGu7xROqTv+yRWpg3Uv/CI8fIrgEQRCElscdIOhUEiz+ZYNdr9gjxjoD/ocSUJTV9Gvk1STJIxvmT9rg4ue+nJLgUYaGTzNC8jkNg3B3RHAJgiAILY6syALs/Lc9tj1tg9DzySYVh0prM5o/aY2bkwI1y6MLefN2PmsP3z3xmkWoDxFcgiAIQouChhKvT/KH2d+tcWtaECrKTSNYXk/wiSSY/cMazmsjNMujC3kWt/7ZGj574jRL40EiWl8eBURwCYIgCC2KtKBcWDxpg/1tnJCf0vxB8jW5bRENs79aw+/oo+/1ibyVBrO/WCPGNkOzNB5RN9Jx5VM/hF9K1SwtGxFcgiAIQouhovwOrv0nAGZ/s4b37riH9n5QjFVBejGKcig9jmZ8CKg+9qtCYfakNSKuN0woFGaVoLzUtLx29ZHsm4Pzo324/Robar+jPd14UkTYpZQW7+kSwSUIgiC0GLJiCrCrlT32d3B66E6+tKAcTivCsfslBxxs74IkzxxtS92UlVRwuRsk4C6P94XFszZI8a+coUj2sqLye4qG/Kxi7H3ZEd7bY1lcFucqIWjCgfd0PpQDzRjQsYuyS3F2uBcs33VFSX7LzmsmgksQBEFoMfgfTMDWv1qzUHoYjweJGMeV4Tyb8PxIbxzp4Qr3rdHa1urQ5yR75+DMME+cHeKFvKRilOSVobysolYd6Lgn+npg5yv2yEko1KxAgms2TvT2QE5ipY3e724WhVi7dMNxcpILeIjOYXEYvHfE4mBbZ/jsi+MkqnEOmchPLn6o865JYUYJQs4m31PMUL4zEqiN+dn3S9CZRI7Xi7jRsocWRXAJgiAILYYb/wmE+V9tkBGRp1kaRrxLJrb93QYXP/FlzxOVitK6xUR6YB57wXa9YA+Lp21woK0T9r7iiNP9PRHvlKXtpYOEycGOztiv9qnqgXPZEsler6SAbM0CpPjl4Mc/WuHsUC+DFyvWPgNbf2cN5zUR2PGsHcz/acNJVI/2cIP536yxv7UTsuMrRdvD4rk1hoPeI67cXczQRIAr3/gZJiiQ7moq7UUzIakdrGYGNdlnGgMRXIIgCELLQHW2R3q54mAH54eKcaL3Hh/sgb1tHZAZma9Z66ZUCbGTw25j18t2iLZOx/52zjgz0gsBJxNwepgnjnRz5XrpIU/R7lcccHqAZ7XZkzYLQ7DzNTvkVBFLHuuieTaj6/oog+cocH8ix6cd6evK3rejfdx5H/LwXPzEB+bq37bzQhttmNF+aRh/XuT1NM1SG6rbzUlBON7X3TB8mOSfjUujfJETpzsf2ic7phBua6Nw7Qt/OC2JQHpInuG8HgbyJpLgOjXw9j2HdE0ZEVyCIAhCi6AkvxwH3nPChTE+mqVhkDfH7M/WcF4ZcU9BEHomhYf4XNdFIto2HRaq40/y1sV6BR5JxA4lxIpzKofjCjNLse3vtrg+IbCaKDo3xgv7OzlVE4pXvvXjesR7ZmoWwGlpOAfcm//TmpcruqWEDgmuva0deIjy4sc+ONTepdHimeyWhGLH83YcG6enoqx6KoayknIc6+eOk0M8DPUPvZrM3rnchCJ+nR6ax1697f+wxd6XHGGh/u5p5YBkr8q4OGqbwMOJsJ4YjFvjgxB8JIk9i/eirLCcBdfB9s5KALfcOC4RXIIgCEKLgGKIDnRw5lmADYW8Thc/82WRQR6Zu1GhxMXZkV6cyZ5mMlpND8Lhjm4czE6QGNv2tC3yEnWig8hX+/34eyu4rIzULEowKFFh2ccVpwbd1iw6z9mxgW7Y/ZYD/5sgkXP1W38WXCSyfHbH4fq4AH59fWqA2g747o+Dxb9tkB1dKZAehvOf+eBwL1dDHeg8L3/lh6gblR6vgrRi7FaC78YsJSI1IeZnGQ+zP1mjIKWY2/T65ADsa+OIBNcsFGSUIM4+A3vfcITjYoq1g6pvIc84NH/CGjuVSLX4uw176zwtYvh4d0Pv4dr/lhOKCxp/NmRTIYJLEARBaBGQ0Dnc0xW35gRplgcnTwmEna/b49wnXhxvdTfIo7SzlT1uzQripWss33aBzewQbasSHQfjsf0lWyVSKpcTyksvwpbfWCHoTJJmAcdy7XvTCbcmV9ab1lgksXZT2fQihobLjvV3Z3Gxp60DcpOKcP59H2xVIoWWMSLiXTM5Fozimh4a9bEHezrj+oQAzQB4KQFkpj7PcVW4ZgGibdLZ5rO9Mrmp165YbH/SFoXq3EsLy3DgHWe4/hBpOBcWWbGF3N4kmI738oD5v6x5KaYYuwz2iJn/zQbnP/a+5/BoVkRBpeDKF8ElCIIgCEbHcVk4dr9szx6eqsNe90u8RyYP47msqvRA1UeMfToHqgcfTmLP1c5n7OGzL1bbCp7VuLO1XbW0CLkphdj8v1b8OXootcHe1o6wnaF55lS17ReF8WzLoONJhvMoVsJkz9sO7NG6OUWXQf/UIE8WJulBulizVL9cneAKfHjBRfWi2ZTeFjohRfU40c8DW9U5h55ONtisJgfD/AkbZIZXxru5rYzCrucdUJxdxsOM50d54+z7XnzMmpD4pDgx28WhsPirDTx+jGbBRjFqF5TgopUD7kaccwYLLssOlZ64logILkEQBKHFQEHalp1dcbijK5JuZz9w8HiUbRq2/kGJqEOVHqj6CL+ZArM/WiPmVgayYwuw40k7XiCbICFyeYIvDnV24dd6smLy+fjkwdJTWlCGQ12dYTNN5x1LC8jFrtftse1ftshU++vJCM3nGDESJzG26TwUue8NJw7Cp2E9IsUnB9ues0VW1MMPKWbFq7r+zhqJqh0JSmJq8W9b/vxYa13m+MyIAiVwHXD6Q0/c0YZSCbcVUdjziiOnqyBS1Tntfd0RRzu7I/B4Inu+qI1ITF353I+vV2FWKY71dYfFUzYw/5cNr4MZdOLe1yHgeAILrouf+xiGc1siIrgEQRCEFgV5Wk4O8MAOJQ6spwUjySv7vmctxjplYOvvrRF6MkWz1E+Mnc7DFXM9HYXZJdj9nAO8dupijmiYcP+bzrg1sfrwZp4SRjtesENulbgu4upEf1h2dIHv9ngWHzTr8FAPl2resfjbmdj6J2sceM+ZPUUUGL/tBRsceNsZJYU6YRNplYa9rRw5TuphSY/Jw/Z/2nIsGwkj6+nB2KbadJuypXjnsmC6+pU/D33GOKRr79LhvioKR7q5qfpXxp9lRuTj8ue+sPiLDfa2cYT9jDAWhqcHeeLatxSDdoeHGV03R8JhVRhiHTPuKaBIUNNQLAkupyrDnC0REVyCIAhCi4I6bvL+hF9LxblPvLHrKXslSpxwU4kfzy0x1Ya+akJJS8m7ZD0j+J7eMRI1+99Rx50UgNLCcljPCuYZguTN8dsfD4t/2CBKCaCqUN1ofceax86JLsSFj32wr5UTLn3jizPDPXFjWqC2VUfwmSTOiWU7N4SPQ54xCtg/N8qbBSXZ7BeH4vJoyof18J6eDCW4dv7bXrVJEZ/Ttidt4bwpHDuftUd6cB4HtJsrYeiwNKzW+QSeTsT5Ed487FkViouj4U77ZaHY+bwd9rVzgtWcIPbUUdZ8gs5DX+4Fic5D7VxYoEYrAdySEcElCIIgtEiowyYPUVZ4AcIupMBpUTiufRMAvz31LxpNwsFhSRjPUgw9l8JCimx1CRg6fsjxJGx/2hYnh9zGrelB2P6MLXY8bafEiQ3OfOCJsuL786wRtG9RVimLp+tjAxB2vrqXjZKx7vyXPRLUX4I+P80/l2f4ERlh+djzmgMnR20MCjNLsOdlBzguD+cUFJc+8+VZipadXHCkuxu2/YPSWwRw0HtN8lOLeUZiTdFEr+k8s6MKcXGMD8yftkHI+WRYdnCB1bQgPv8HIcEli72Mu19wqDM+rCUhgksQBEF4ZKAOv6YIqAl5jm5NCeShv5O9PXB9YiBuTQ1CcR1rM5IYo4SnFz70wd63HLHrDXsc6ugC+wWhyNFyUDUEimeqOQxKoo/yWtUXRB5yKgku6yLvGWT+IIRfSMXVL/3hvT3OIIZSfHPhvjGKRSzNzrwX1NyhF5NhOz+EvYCnB3qyl4xmNlKMW0FaCWfrP9bDnWcr0lJCNT1mdUHX0UYdk1JkUEqO+3mPKSOCSxAEQXjsoADw1KBc+B2Ih9ePsYiySr9rHBh19mVFFSjNLzcM7zU19yMmm4t450ycG+7Nw38H33LBcSWubGaGIDOscniXPGVBxxOVKAtBiRK994LE557XHTjIPtGrckmklooILkEQBOHxhfSLvggNhoQgxW9RzBUJKxal5JGq0a4sGu/HU6V2cVgWxl4ySjfR0r1bhAguQRAEQRBMCloSaMdzdtj+vC17zx4FRHAJgiAIgmAykIfsRH8P9m5RXFhLzr1VFRFcgiAIgiCYBDQhwHFJOC8YfryfOwqzHj7fmKlQr+AqK6tAQWHLOdHSsnIUFpe2mGH4ktJyFJe0nFXPi1TbUp1bCgVFpSgrbxn1pZgGqm95jXw2pkxeQbF6MLaM+lL75qtnmakGG9eE6pmbX9xi6ksdJN0PLQW6b/MKWs79UKaeC3T/thRKSsu4v2gIFKflb5nAaTjOfeiFvGTjfw8epr4PSr2CKzu3ECFRqdor0ycjuwCR8Zkt5kuUmJqL+JQc7ZXpE5OYibTM+pMJmhphMWnIzNHlrjF16J4NjEhpUQ9Vv9Ak9ZBqGT8YylUH6xuayB1XS4AEjFdQQosR4PTDke6HlvLspR/mAeEpLaa+2XlFCIluOX1xelY+ohIaFnNFeb32vuwI1/WRdeb+MgZJ6dQXN80MSBlSFARBEASh2SGRlRNb2GLE8IMigksQBEEQBMHIiOASBEEQBEEwMiK4BEEQBEEQjIwILkEQBEEQBCMjgksQBEEQBMHIiOASBEEQBEEwMiK4BEEQBEEQjIwILkEQBEEQBCMjgksQBEEQBMHIiOASBEEQBEEwMiK4BEEQBEEQjIwILkEQBEEQBCMjgksQBEEQBMHIiOASBEEQBEEwMiK4BEEQBEEQjIwILkEQBEEQBCMjgksQBEEQBMHIiOASBEEQBEEwMiK4BEEQBEEQjIwILkEQBEEQBCMjgksQBEEQBMHIiOASBEEQBEEwMiK4BEEQBEEQjIwILkEQBEEQBCMjgksQBEEQBMHIiOASBEEQBEEwMiK4BEEQBEEQjIwILkEQBEEQBCMjgksQBEEQBMHIiOASBEEQBEEwMiK4BEEQBEEQjIwILkEQBEEQBCMjgksQBEEQBMHIiOASBEEQBEEwMiK4BEEQBEEQjIwILkEQBEEQBCMjgksQBEEQBMHIiOASBEEQBEEwMiK4BEEQBEEQjIwILkEQBEEQBCMjgksQBEEQBMGoAP8fGFeL6rh67BEAAAAASUVORK5CYII=)\n",
        "\n"
      ],
      "metadata": {
        "id": "VYHSD5shg3Vl"
      }
    },
    {
      "cell_type": "markdown",
      "source": [
        "![Capture.PNG](data:image/png;base64,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)"
      ],
      "metadata": {
        "id": "gEolm96dxUA_"
      }
    },
    {
      "cell_type": "code",
      "source": [
        "m1"
      ],
      "metadata": {
        "colab": {
          "base_uri": "https://localhost:8080/"
        },
        "id": "IzrHYvBOUMqo",
        "outputId": "a9701788-48d3-49d7-bbd5-088f8a55ac1b"
      },
      "execution_count": null,
      "outputs": [
        {
          "output_type": "execute_result",
          "data": {
            "text/plain": [
              "array([[ 0,  1,  2,  3],\n",
              "       [ 4,  5,  6,  7],\n",
              "       [ 8,  9, 10, 11]])"
            ]
          },
          "metadata": {},
          "execution_count": 82
        }
      ]
    },
    {
      "cell_type": "code",
      "source": [
        "np.sum(m1)      #sum of all the elements"
      ],
      "metadata": {
        "colab": {
          "base_uri": "https://localhost:8080/"
        },
        "id": "Qi_zZCQaVFsf",
        "outputId": "631b27ad-f493-411d-8439-02eb9f8c8d37"
      },
      "execution_count": null,
      "outputs": [
        {
          "output_type": "execute_result",
          "data": {
            "text/plain": [
              "66"
            ]
          },
          "metadata": {},
          "execution_count": 83
        }
      ]
    },
    {
      "cell_type": "markdown",
      "source": [
        "### **Give me the column wise sum of the NumPy array**"
      ],
      "metadata": {
        "id": "liX-yq3UhgPd"
      }
    },
    {
      "cell_type": "code",
      "source": [
        "# this is were \"axis\" comes into the picture...\n",
        "np.sum(m1, axis = 0)"
      ],
      "metadata": {
        "colab": {
          "base_uri": "https://localhost:8080/"
        },
        "id": "O9qgv5f2VPQl",
        "outputId": "c613cd19-ee78-4f64-b407-2dfa6816181b"
      },
      "execution_count": null,
      "outputs": [
        {
          "output_type": "execute_result",
          "data": {
            "text/plain": [
              "array([12, 15, 18, 21])"
            ]
          },
          "metadata": {},
          "execution_count": 84
        }
      ]
    },
    {
      "cell_type": "markdown",
      "source": [
        "### **Give me the row wise sum of the NumPy array**"
      ],
      "metadata": {
        "id": "hzeFlmBahmDp"
      }
    },
    {
      "cell_type": "code",
      "source": [
        "np.sum(m1, axis = 1)"
      ],
      "metadata": {
        "colab": {
          "base_uri": "https://localhost:8080/"
        },
        "id": "kW0FmfOPVyAM",
        "outputId": "67e18879-8b2c-4556-9ed7-000164ed2824"
      },
      "execution_count": null,
      "outputs": [
        {
          "output_type": "execute_result",
          "data": {
            "text/plain": [
              "array([ 6, 22, 38])"
            ]
          },
          "metadata": {},
          "execution_count": 85
        }
      ]
    },
    {
      "cell_type": "markdown",
      "source": [
        "# **(4) Fitbit Dataset (Homework)**\n",
        "***"
      ],
      "metadata": {
        "id": "De02F9HRjvxX"
      }
    },
    {
      "cell_type": "code",
      "source": [
        "#HW: In the dataset provided, find the average number of steps, for the mood:\n",
        "# Happy\n",
        "# Sad\n",
        "# Neutral"
      ],
      "metadata": {
        "id": "ZPxZXYvYWAr-"
      },
      "execution_count": null,
      "outputs": []
    },
    {
      "cell_type": "code",
      "source": [
        "print(data)     #2nd column is the step-size"
      ],
      "metadata": {
        "colab": {
          "base_uri": "https://localhost:8080/"
        },
        "id": "4JqodjYDiB-S",
        "outputId": "70ce8fe0-2c86-4198-ee8a-0261f2e0451f"
      },
      "execution_count": null,
      "outputs": [
        {
          "output_type": "stream",
          "name": "stdout",
          "text": [
            "[['06-10-2017' '5464' 'Neutral' '181' '5' 'Inactive']\n",
            " ['07-10-2017' '6041' 'Sad' '197' '8' 'Inactive']\n",
            " ['08-10-2017' '25' 'Sad' '0' '5' 'Inactive']\n",
            " ['09-10-2017' '5461' 'Sad' '174' '4' 'Inactive']\n",
            " ['10-10-2017' '6915' 'Neutral' '223' '5' 'Active']\n",
            " ['11-10-2017' '4545' 'Sad' '149' '6' 'Inactive']\n",
            " ['12-10-2017' '4340' 'Sad' '140' '6' 'Inactive']\n",
            " ['13-10-2017' '1230' 'Sad' '38' '7' 'Inactive']\n",
            " ['14-10-2017' '61' 'Sad' '1' '5' 'Inactive']\n",
            " ['15-10-2017' '1258' 'Sad' '40' '6' 'Inactive']\n",
            " ['16-10-2017' '3148' 'Sad' '101' '8' 'Inactive']\n",
            " ['17-10-2017' '4687' 'Sad' '152' '5' 'Inactive']\n",
            " ['18-10-2017' '4732' 'Happy' '150' '6' 'Active']\n",
            " ['19-10-2017' '3519' 'Sad' '113' '7' 'Inactive']\n",
            " ['20-10-2017' '1580' 'Sad' '49' '5' 'Inactive']\n",
            " ['21-10-2017' '2822' 'Sad' '86' '6' 'Inactive']\n",
            " ['22-10-2017' '181' 'Sad' '6' '8' 'Inactive']\n",
            " ['23-10-2017' '3158' 'Neutral' '99' '5' 'Inactive']\n",
            " ['24-10-2017' '4383' 'Neutral' '143' '4' 'Inactive']\n",
            " ['25-10-2017' '3881' 'Neutral' '125' '5' 'Inactive']\n",
            " ['26-10-2017' '4037' 'Neutral' '129' '6' 'Inactive']\n",
            " ['27-10-2017' '202' 'Neutral' '6' '8' 'Inactive']\n",
            " ['28-10-2017' '292' 'Neutral' '9' '5' 'Inactive']\n",
            " ['29-10-2017' '330' 'Happy' '10' '6' 'Inactive']\n",
            " ['30-10-2017' '2209' 'Neutral' '72' '5' 'Inactive']\n",
            " ['31-10-2017' '4550' 'Happy' '150' '8' 'Active']\n",
            " ['01-11-2017' '4435' 'Happy' '141' '5' 'Inactive']\n",
            " ['02-11-2017' '4779' 'Happy' '156' '4' 'Inactive']\n",
            " ['03-11-2017' '1831' 'Happy' '57' '5' 'Inactive']\n",
            " ['04-11-2017' '2255' 'Happy' '72' '4' 'Inactive']\n",
            " ['05-11-2017' '539' 'Happy' '17' '5' 'Active']\n",
            " ['06-11-2017' '5464' 'Happy' '181' '4' 'Inactive']\n",
            " ['07-11-2017' '6041' 'Neutral' '197' '3' 'Inactive']\n",
            " ['08-11-2017' '4068' 'Happy' '131' '2' 'Inactive']\n",
            " ['09-11-2017' '4683' 'Happy' '154' '9' 'Inactive']\n",
            " ['10-11-2017' '4033' 'Happy' '137' '5' 'Inactive']\n",
            " ['11-11-2017' '6314' 'Happy' '193' '6' 'Active']\n",
            " ['12-11-2017' '614' 'Happy' '19' '4' 'Active']\n",
            " ['13-11-2017' '3149' 'Happy' '101' '5' 'Active']\n",
            " ['14-11-2017' '4005' 'Happy' '139' '8' 'Active']\n",
            " ['15-11-2017' '4880' 'Happy' '164' '4' 'Active']\n",
            " ['16-11-2017' '4136' 'Happy' '137' '5' 'Active']\n",
            " ['17-11-2017' '705' 'Happy' '22' '6' 'Active']\n",
            " ['18-11-2017' '570' 'Neutral' '17' '5' 'Active']\n",
            " ['19-11-2017' '269' 'Happy' '9' '6' 'Active']\n",
            " ['20-11-2017' '4275' 'Happy' '145' '5' 'Inactive']\n",
            " ['21-11-2017' '5999' 'Happy' '192' '6' 'Inactive']\n",
            " ['22-11-2017' '4421' 'Happy' '146' '5' 'Inactive']\n",
            " ['23-11-2017' '6930' 'Happy' '234' '6' 'Inactive']\n",
            " ['24-11-2017' '5195' 'Happy' '167' '5' 'Inactive']\n",
            " ['25-11-2017' '546' 'Happy' '16' '6' 'Inactive']\n",
            " ['26-11-2017' '493' 'Happy' '17' '7' 'Active']\n",
            " ['27-11-2017' '995' 'Happy' '32' '6' 'Active']\n",
            " ['28-11-2017' '1163' 'Neutral' '35' '7' 'Active']\n",
            " ['29-11-2017' '6676' 'Sad' '220' '6' 'Active']\n",
            " ['30-11-2017' '3608' 'Happy' '116' '5' 'Active']\n",
            " ['01-12-2017' '774' 'Happy' '23' '6' 'Active']\n",
            " ['02-12-2017' '1421' 'Happy' '44' '7' 'Active']\n",
            " ['03-12-2017' '4064' 'Happy' '131' '8' 'Active']\n",
            " ['04-12-2017' '2725' 'Happy' '86' '8' 'Active']\n",
            " ['05-12-2017' '5934' 'Happy' '194' '7' 'Active']\n",
            " ['06-12-2017' '1867' 'Happy' '60' '8' 'Active']\n",
            " ['07-12-2017' '3721' 'Sad' '121' '5' 'Active']\n",
            " ['08-12-2017' '2374' 'Neutral' '76' '4' 'Inactive']\n",
            " ['09-12-2017' '2909' 'Neutral' '93' '3' 'Active']\n",
            " ['10-12-2017' '1648' 'Sad' '53' '3' 'Active']\n",
            " ['11-12-2017' '799' 'Sad' '25' '4' 'Inactive']\n",
            " ['12-12-2017' '7102' 'Neutral' '227' '5' 'Active']\n",
            " ['13-12-2017' '3941' 'Neutral' '125' '5' 'Active']\n",
            " ['14-12-2017' '7422' 'Happy' '243' '5' 'Active']\n",
            " ['15-12-2017' '437' 'Neutral' '14' '3' 'Active']\n",
            " ['16-12-2017' '1231' 'Neutral' '39' '4' 'Active']\n",
            " ['17-12-2017' '1696' 'Sad' '55' '4' 'Inactive']\n",
            " ['18-12-2017' '4921' 'Neutral' '158' '5' 'Active']\n",
            " ['19-12-2017' '221' 'Sad' '7' '5' 'Active']\n",
            " ['20-12-2017' '6500' 'Neutral' '213' '5' 'Active']\n",
            " ['21-12-2017' '3575' 'Neutral' '116' '5' 'Active']\n",
            " ['22-12-2017' '4061' 'Sad' '129' '5' 'Inactive']\n",
            " ['23-12-2017' '651' 'Sad' '21' '5' 'Inactive']\n",
            " ['24-12-2017' '753' 'Sad' '28' '4' 'Inactive']\n",
            " ['25-12-2017' '518' 'Sad' '16' '3' 'Inactive']\n",
            " ['26-12-2017' '5537' 'Happy' '180' '4' 'Active']\n",
            " ['27-12-2017' '4108' 'Neutral' '138' '5' 'Active']\n",
            " ['28-12-2017' '5376' 'Happy' '176' '5' 'Active']\n",
            " ['29-12-2017' '3066' 'Neutral' '99' '4' 'Active']\n",
            " ['30-12-2017' '177' 'Sad' '5' '5' 'Inactive']\n",
            " ['31-12-2017' '36' 'Sad' '1' '3' 'Inactive']\n",
            " ['01-01-2018' '299' 'Sad' '10' '3' 'Inactive']\n",
            " ['02-01-2018' '1447' 'Neutral' '47' '3' 'Inactive']\n",
            " ['03-01-2018' '2599' 'Neutral' '84' '2' 'Inactive']\n",
            " ['04-01-2018' '702' 'Sad' '23' '3' 'Inactive']\n",
            " ['05-01-2018' '133' 'Sad' '4' '2' 'Inactive']\n",
            " ['06-01-2018' '153' 'Happy' '0' '8' 'Inactive']\n",
            " ['07-01-2018' '500' 'Neutral' '0' '5' 'Active']\n",
            " ['08-01-2018' '2127' 'Neutral' '0' '5' 'Inactive']\n",
            " ['09-01-2018' '2203' 'Happy' '0' '5' 'Active']]\n"
          ]
        }
      ]
    },
    {
      "cell_type": "code",
      "source": [],
      "metadata": {
        "id": "GRe-bbsCxp-Z"
      },
      "execution_count": null,
      "outputs": []
    },
    {
      "cell_type": "code",
      "source": [],
      "metadata": {
        "id": "aYExkm1ixp6w"
      },
      "execution_count": null,
      "outputs": []
    }
  ]
}