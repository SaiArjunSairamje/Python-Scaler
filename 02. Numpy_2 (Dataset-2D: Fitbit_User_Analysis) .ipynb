{
  "nbformat": 4,
  "nbformat_minor": 0,
  "metadata": {
    "colab": {
      "provenance": [],
      "include_colab_link": true
    },
    "kernelspec": {
      "name": "python3",
      "display_name": "Python 3"
    },
    "language_info": {
      "name": "python"
    }
  },
  "cells": [
    {
      "cell_type": "markdown",
      "metadata": {
        "id": "view-in-github",
        "colab_type": "text"
      },
      "source": [
        "<a href=\"https://colab.research.google.com/github/SaiArjunSairamje/Python_Libraries/blob/main/02.%20Numpy_2%20(Dataset-2D%3A%20Fitbit_User_Analysis)%20.ipynb\" target=\"_parent\"><img src=\"https://colab.research.google.com/assets/colab-badge.svg\" alt=\"Open In Colab\"/></a>"
      ]
    },
    {
      "cell_type": "markdown",
      "source": [
        "# **Importing the Libraries and Dataset \"Fitbit\"**\n",
        "***"
      ],
      "metadata": {
        "id": "MyxUcspYUTaR"
      }
    },
    {
      "cell_type": "code",
      "execution_count": 1,
      "metadata": {
        "id": "odx6UcXd_F45",
        "colab": {
          "base_uri": "https://localhost:8080/"
        },
        "outputId": "d4108f88-575b-475f-fb44-31b921b5891c"
      },
      "outputs": [
        {
          "output_type": "stream",
          "name": "stdout",
          "text": [
            "Welcome to the session\n"
          ]
        }
      ],
      "source": [
        "print(\"Welcome to the session\")"
      ]
    },
    {
      "cell_type": "code",
      "source": [
        "import numpy as np"
      ],
      "metadata": {
        "id": "pjB9nDHaDPgW"
      },
      "execution_count": 2,
      "outputs": []
    },
    {
      "cell_type": "code",
      "source": [
        "data = np.loadtxt('fit.txt', dtype = 'str')"
      ],
      "metadata": {
        "id": "EEQfjJKA_9YJ"
      },
      "execution_count": 3,
      "outputs": []
    },
    {
      "cell_type": "code",
      "source": [
        "data.ndim"
      ],
      "metadata": {
        "colab": {
          "base_uri": "https://localhost:8080/"
        },
        "id": "ZYZ__CwXDLl-",
        "outputId": "792ab43c-11ce-4b1f-fbd2-d8c93e8876ee"
      },
      "execution_count": 4,
      "outputs": [
        {
          "output_type": "execute_result",
          "data": {
            "text/plain": [
              "2"
            ]
          },
          "metadata": {},
          "execution_count": 4
        }
      ]
    },
    {
      "cell_type": "code",
      "source": [
        "data.shape"
      ],
      "metadata": {
        "colab": {
          "base_uri": "https://localhost:8080/"
        },
        "id": "ElzT6bUWDT14",
        "outputId": "9d86ac17-44f1-42db-d557-686308f480d9"
      },
      "execution_count": 5,
      "outputs": [
        {
          "output_type": "execute_result",
          "data": {
            "text/plain": [
              "(96, 6)"
            ]
          },
          "metadata": {},
          "execution_count": 5
        }
      ]
    },
    {
      "cell_type": "code",
      "source": [
        "print(data)  #2D list"
      ],
      "metadata": {
        "colab": {
          "base_uri": "https://localhost:8080/"
        },
        "id": "uWA9SRwIDk6v",
        "outputId": "7d76d9ac-a9cc-4675-dbb1-b54d9c3e4efc"
      },
      "execution_count": 6,
      "outputs": [
        {
          "output_type": "stream",
          "name": "stdout",
          "text": [
            "[['06-10-2017' '5464' 'Neutral' '181' '5' 'Inactive']\n",
            " ['07-10-2017' '6041' 'Sad' '197' '8' 'Inactive']\n",
            " ['08-10-2017' '25' 'Sad' '0' '5' 'Inactive']\n",
            " ['09-10-2017' '5461' 'Sad' '174' '4' 'Inactive']\n",
            " ['10-10-2017' '6915' 'Neutral' '223' '5' 'Active']\n",
            " ['11-10-2017' '4545' 'Sad' '149' '6' 'Inactive']\n",
            " ['12-10-2017' '4340' 'Sad' '140' '6' 'Inactive']\n",
            " ['13-10-2017' '1230' 'Sad' '38' '7' 'Inactive']\n",
            " ['14-10-2017' '61' 'Sad' '1' '5' 'Inactive']\n",
            " ['15-10-2017' '1258' 'Sad' '40' '6' 'Inactive']\n",
            " ['16-10-2017' '3148' 'Sad' '101' '8' 'Inactive']\n",
            " ['17-10-2017' '4687' 'Sad' '152' '5' 'Inactive']\n",
            " ['18-10-2017' '4732' 'Happy' '150' '6' 'Active']\n",
            " ['19-10-2017' '3519' 'Sad' '113' '7' 'Inactive']\n",
            " ['20-10-2017' '1580' 'Sad' '49' '5' 'Inactive']\n",
            " ['21-10-2017' '2822' 'Sad' '86' '6' 'Inactive']\n",
            " ['22-10-2017' '181' 'Sad' '6' '8' 'Inactive']\n",
            " ['23-10-2017' '3158' 'Neutral' '99' '5' 'Inactive']\n",
            " ['24-10-2017' '4383' 'Neutral' '143' '4' 'Inactive']\n",
            " ['25-10-2017' '3881' 'Neutral' '125' '5' 'Inactive']\n",
            " ['26-10-2017' '4037' 'Neutral' '129' '6' 'Inactive']\n",
            " ['27-10-2017' '202' 'Neutral' '6' '8' 'Inactive']\n",
            " ['28-10-2017' '292' 'Neutral' '9' '5' 'Inactive']\n",
            " ['29-10-2017' '330' 'Happy' '10' '6' 'Inactive']\n",
            " ['30-10-2017' '2209' 'Neutral' '72' '5' 'Inactive']\n",
            " ['31-10-2017' '4550' 'Happy' '150' '8' 'Active']\n",
            " ['01-11-2017' '4435' 'Happy' '141' '5' 'Inactive']\n",
            " ['02-11-2017' '4779' 'Happy' '156' '4' 'Inactive']\n",
            " ['03-11-2017' '1831' 'Happy' '57' '5' 'Inactive']\n",
            " ['04-11-2017' '2255' 'Happy' '72' '4' 'Inactive']\n",
            " ['05-11-2017' '539' 'Happy' '17' '5' 'Active']\n",
            " ['06-11-2017' '5464' 'Happy' '181' '4' 'Inactive']\n",
            " ['07-11-2017' '6041' 'Neutral' '197' '3' 'Inactive']\n",
            " ['08-11-2017' '4068' 'Happy' '131' '2' 'Inactive']\n",
            " ['09-11-2017' '4683' 'Happy' '154' '9' 'Inactive']\n",
            " ['10-11-2017' '4033' 'Happy' '137' '5' 'Inactive']\n",
            " ['11-11-2017' '6314' 'Happy' '193' '6' 'Active']\n",
            " ['12-11-2017' '614' 'Happy' '19' '4' 'Active']\n",
            " ['13-11-2017' '3149' 'Happy' '101' '5' 'Active']\n",
            " ['14-11-2017' '4005' 'Happy' '139' '8' 'Active']\n",
            " ['15-11-2017' '4880' 'Happy' '164' '4' 'Active']\n",
            " ['16-11-2017' '4136' 'Happy' '137' '5' 'Active']\n",
            " ['17-11-2017' '705' 'Happy' '22' '6' 'Active']\n",
            " ['18-11-2017' '570' 'Neutral' '17' '5' 'Active']\n",
            " ['19-11-2017' '269' 'Happy' '9' '6' 'Active']\n",
            " ['20-11-2017' '4275' 'Happy' '145' '5' 'Inactive']\n",
            " ['21-11-2017' '5999' 'Happy' '192' '6' 'Inactive']\n",
            " ['22-11-2017' '4421' 'Happy' '146' '5' 'Inactive']\n",
            " ['23-11-2017' '6930' 'Happy' '234' '6' 'Inactive']\n",
            " ['24-11-2017' '5195' 'Happy' '167' '5' 'Inactive']\n",
            " ['25-11-2017' '546' 'Happy' '16' '6' 'Inactive']\n",
            " ['26-11-2017' '493' 'Happy' '17' '7' 'Active']\n",
            " ['27-11-2017' '995' 'Happy' '32' '6' 'Active']\n",
            " ['28-11-2017' '1163' 'Neutral' '35' '7' 'Active']\n",
            " ['29-11-2017' '6676' 'Sad' '220' '6' 'Active']\n",
            " ['30-11-2017' '3608' 'Happy' '116' '5' 'Active']\n",
            " ['01-12-2017' '774' 'Happy' '23' '6' 'Active']\n",
            " ['02-12-2017' '1421' 'Happy' '44' '7' 'Active']\n",
            " ['03-12-2017' '4064' 'Happy' '131' '8' 'Active']\n",
            " ['04-12-2017' '2725' 'Happy' '86' '8' 'Active']\n",
            " ['05-12-2017' '5934' 'Happy' '194' '7' 'Active']\n",
            " ['06-12-2017' '1867' 'Happy' '60' '8' 'Active']\n",
            " ['07-12-2017' '3721' 'Sad' '121' '5' 'Active']\n",
            " ['08-12-2017' '2374' 'Neutral' '76' '4' 'Inactive']\n",
            " ['09-12-2017' '2909' 'Neutral' '93' '3' 'Active']\n",
            " ['10-12-2017' '1648' 'Sad' '53' '3' 'Active']\n",
            " ['11-12-2017' '799' 'Sad' '25' '4' 'Inactive']\n",
            " ['12-12-2017' '7102' 'Neutral' '227' '5' 'Active']\n",
            " ['13-12-2017' '3941' 'Neutral' '125' '5' 'Active']\n",
            " ['14-12-2017' '7422' 'Happy' '243' '5' 'Active']\n",
            " ['15-12-2017' '437' 'Neutral' '14' '3' 'Active']\n",
            " ['16-12-2017' '1231' 'Neutral' '39' '4' 'Active']\n",
            " ['17-12-2017' '1696' 'Sad' '55' '4' 'Inactive']\n",
            " ['18-12-2017' '4921' 'Neutral' '158' '5' 'Active']\n",
            " ['19-12-2017' '221' 'Sad' '7' '5' 'Active']\n",
            " ['20-12-2017' '6500' 'Neutral' '213' '5' 'Active']\n",
            " ['21-12-2017' '3575' 'Neutral' '116' '5' 'Active']\n",
            " ['22-12-2017' '4061' 'Sad' '129' '5' 'Inactive']\n",
            " ['23-12-2017' '651' 'Sad' '21' '5' 'Inactive']\n",
            " ['24-12-2017' '753' 'Sad' '28' '4' 'Inactive']\n",
            " ['25-12-2017' '518' 'Sad' '16' '3' 'Inactive']\n",
            " ['26-12-2017' '5537' 'Happy' '180' '4' 'Active']\n",
            " ['27-12-2017' '4108' 'Neutral' '138' '5' 'Active']\n",
            " ['28-12-2017' '5376' 'Happy' '176' '5' 'Active']\n",
            " ['29-12-2017' '3066' 'Neutral' '99' '4' 'Active']\n",
            " ['30-12-2017' '177' 'Sad' '5' '5' 'Inactive']\n",
            " ['31-12-2017' '36' 'Sad' '1' '3' 'Inactive']\n",
            " ['01-01-2018' '299' 'Sad' '10' '3' 'Inactive']\n",
            " ['02-01-2018' '1447' 'Neutral' '47' '3' 'Inactive']\n",
            " ['03-01-2018' '2599' 'Neutral' '84' '2' 'Inactive']\n",
            " ['04-01-2018' '702' 'Sad' '23' '3' 'Inactive']\n",
            " ['05-01-2018' '133' 'Sad' '4' '2' 'Inactive']\n",
            " ['06-01-2018' '153' 'Happy' '0' '8' 'Inactive']\n",
            " ['07-01-2018' '500' 'Neutral' '0' '5' 'Active']\n",
            " ['08-01-2018' '2127' 'Neutral' '0' '5' 'Inactive']\n",
            " ['09-01-2018' '2203' 'Happy' '0' '5' 'Active']]\n"
          ]
        }
      ]
    },
    {
      "cell_type": "markdown",
      "source": [
        "# **Basics of 2D numpy array**\n",
        "***"
      ],
      "metadata": {
        "id": "_SSmPBO4U8y2"
      }
    },
    {
      "cell_type": "code",
      "source": [
        "b = np.array(range(16))  #1D list"
      ],
      "metadata": {
        "id": "BST7wGyJEML2"
      },
      "execution_count": 7,
      "outputs": []
    },
    {
      "cell_type": "code",
      "source": [
        "print(b)"
      ],
      "metadata": {
        "colab": {
          "base_uri": "https://localhost:8080/"
        },
        "id": "WdOYuCDKEQbR",
        "outputId": "275a632c-b0d2-454a-8e9f-f9445ad97f7c"
      },
      "execution_count": 8,
      "outputs": [
        {
          "output_type": "stream",
          "name": "stdout",
          "text": [
            "[ 0  1  2  3  4  5  6  7  8  9 10 11 12 13 14 15]\n"
          ]
        }
      ]
    },
    {
      "cell_type": "code",
      "source": [
        "type(b)"
      ],
      "metadata": {
        "colab": {
          "base_uri": "https://localhost:8080/"
        },
        "id": "I2ByWrBtERoW",
        "outputId": "9fd6666c-b99b-44f0-d3a8-879e06c707c6"
      },
      "execution_count": 9,
      "outputs": [
        {
          "output_type": "execute_result",
          "data": {
            "text/plain": [
              "numpy.ndarray"
            ]
          },
          "metadata": {},
          "execution_count": 9
        }
      ]
    },
    {
      "cell_type": "code",
      "source": [
        "b.shape"
      ],
      "metadata": {
        "colab": {
          "base_uri": "https://localhost:8080/"
        },
        "id": "0BOCwXnfEZyT",
        "outputId": "2147d48b-3cf6-4045-f96a-238aa2f0f894"
      },
      "execution_count": 10,
      "outputs": [
        {
          "output_type": "execute_result",
          "data": {
            "text/plain": [
              "(16,)"
            ]
          },
          "metadata": {},
          "execution_count": 10
        }
      ]
    },
    {
      "cell_type": "code",
      "source": [
        "b.ndim"
      ],
      "metadata": {
        "colab": {
          "base_uri": "https://localhost:8080/"
        },
        "id": "tal4XCoSEbQi",
        "outputId": "fcc17cb6-91cd-4b4d-a5fe-5a7e804c687d"
      },
      "execution_count": 11,
      "outputs": [
        {
          "output_type": "execute_result",
          "data": {
            "text/plain": [
              "1"
            ]
          },
          "metadata": {},
          "execution_count": 11
        }
      ]
    },
    {
      "cell_type": "markdown",
      "source": [
        "### **Convert this 1D array to 2D array...**"
      ],
      "metadata": {
        "id": "Qi4AVgbxWP0_"
      }
    },
    {
      "cell_type": "code",
      "source": [
        "b.reshape(4,4)"
      ],
      "metadata": {
        "colab": {
          "base_uri": "https://localhost:8080/"
        },
        "id": "NkNxi-BjEdyv",
        "outputId": "4d10c55a-2793-46be-b15d-716703dac417"
      },
      "execution_count": 12,
      "outputs": [
        {
          "output_type": "execute_result",
          "data": {
            "text/plain": [
              "array([[ 0,  1,  2,  3],\n",
              "       [ 4,  5,  6,  7],\n",
              "       [ 8,  9, 10, 11],\n",
              "       [12, 13, 14, 15]])"
            ]
          },
          "metadata": {},
          "execution_count": 12
        }
      ]
    },
    {
      "cell_type": "code",
      "source": [
        "b.reshape(5,3)  #this will throw an error message"
      ],
      "metadata": {
        "colab": {
          "base_uri": "https://localhost:8080/",
          "height": 165
        },
        "id": "eIOpfiHZEsSl",
        "outputId": "ca6cfbf9-ce64-48a7-89b6-335092713daa"
      },
      "execution_count": 13,
      "outputs": [
        {
          "output_type": "error",
          "ename": "ValueError",
          "evalue": "ignored",
          "traceback": [
            "\u001b[0;31m---------------------------------------------------------------------------\u001b[0m",
            "\u001b[0;31mValueError\u001b[0m                                Traceback (most recent call last)",
            "\u001b[0;32m<ipython-input-13-def5cf8d2cef>\u001b[0m in \u001b[0;36m<cell line: 1>\u001b[0;34m()\u001b[0m\n\u001b[0;32m----> 1\u001b[0;31m \u001b[0mb\u001b[0m\u001b[0;34m.\u001b[0m\u001b[0mreshape\u001b[0m\u001b[0;34m(\u001b[0m\u001b[0;36m5\u001b[0m\u001b[0;34m,\u001b[0m\u001b[0;36m3\u001b[0m\u001b[0;34m)\u001b[0m  \u001b[0;31m#this will throw an error message\u001b[0m\u001b[0;34m\u001b[0m\u001b[0;34m\u001b[0m\u001b[0m\n\u001b[0m",
            "\u001b[0;31mValueError\u001b[0m: cannot reshape array of size 16 into shape (5,3)"
          ]
        }
      ]
    },
    {
      "cell_type": "code",
      "source": [
        "b.reshape(3,4)    #this will throw an error message"
      ],
      "metadata": {
        "colab": {
          "base_uri": "https://localhost:8080/",
          "height": 165
        },
        "id": "RJWaKHynFAse",
        "outputId": "ed52df46-1e53-47ef-e3b4-2b25f22a2e1e"
      },
      "execution_count": 14,
      "outputs": [
        {
          "output_type": "error",
          "ename": "ValueError",
          "evalue": "ignored",
          "traceback": [
            "\u001b[0;31m---------------------------------------------------------------------------\u001b[0m",
            "\u001b[0;31mValueError\u001b[0m                                Traceback (most recent call last)",
            "\u001b[0;32m<ipython-input-14-52d2255186a2>\u001b[0m in \u001b[0;36m<cell line: 1>\u001b[0;34m()\u001b[0m\n\u001b[0;32m----> 1\u001b[0;31m \u001b[0mb\u001b[0m\u001b[0;34m.\u001b[0m\u001b[0mreshape\u001b[0m\u001b[0;34m(\u001b[0m\u001b[0;36m3\u001b[0m\u001b[0;34m,\u001b[0m\u001b[0;36m4\u001b[0m\u001b[0;34m)\u001b[0m\u001b[0;34m\u001b[0m\u001b[0;34m\u001b[0m\u001b[0m\n\u001b[0m",
            "\u001b[0;31mValueError\u001b[0m: cannot reshape array of size 16 into shape (3,4)"
          ]
        }
      ]
    },
    {
      "cell_type": "code",
      "source": [
        "b.reshape(5,4)     #this will throw an error message"
      ],
      "metadata": {
        "colab": {
          "base_uri": "https://localhost:8080/",
          "height": 165
        },
        "id": "38pw12-NFSzG",
        "outputId": "dddc2144-90ab-41ab-c26d-36d85b994a1c"
      },
      "execution_count": 15,
      "outputs": [
        {
          "output_type": "error",
          "ename": "ValueError",
          "evalue": "ignored",
          "traceback": [
            "\u001b[0;31m---------------------------------------------------------------------------\u001b[0m",
            "\u001b[0;31mValueError\u001b[0m                                Traceback (most recent call last)",
            "\u001b[0;32m<ipython-input-15-197523a5d346>\u001b[0m in \u001b[0;36m<cell line: 1>\u001b[0;34m()\u001b[0m\n\u001b[0;32m----> 1\u001b[0;31m \u001b[0mb\u001b[0m\u001b[0;34m.\u001b[0m\u001b[0mreshape\u001b[0m\u001b[0;34m(\u001b[0m\u001b[0;36m5\u001b[0m\u001b[0;34m,\u001b[0m\u001b[0;36m4\u001b[0m\u001b[0;34m)\u001b[0m   \u001b[0;31m#this will throw an error message\u001b[0m\u001b[0;34m\u001b[0m\u001b[0;34m\u001b[0m\u001b[0m\n\u001b[0m",
            "\u001b[0;31mValueError\u001b[0m: cannot reshape array of size 16 into shape (5,4)"
          ]
        }
      ]
    },
    {
      "cell_type": "markdown",
      "source": [
        "### **Have a fixed Row numbers but adjust the Columns accordingly...**"
      ],
      "metadata": {
        "id": "7p4CiSrfWWQ1"
      }
    },
    {
      "cell_type": "code",
      "source": [
        "c = b.reshape(8,-1)"
      ],
      "metadata": {
        "id": "zcNE9bp8FLFL"
      },
      "execution_count": 30,
      "outputs": []
    },
    {
      "cell_type": "code",
      "source": [
        "print(b)"
      ],
      "metadata": {
        "colab": {
          "base_uri": "https://localhost:8080/"
        },
        "id": "74LUjoEQFo9E",
        "outputId": "cddb52bf-c51b-477d-ecd3-9d46e500b4d1"
      },
      "execution_count": 31,
      "outputs": [
        {
          "output_type": "stream",
          "name": "stdout",
          "text": [
            "[ 0  1  2  3  4  5  6  7  8  9 10 11 12 13 14 15]\n"
          ]
        }
      ]
    },
    {
      "cell_type": "code",
      "source": [
        "print(c)"
      ],
      "metadata": {
        "colab": {
          "base_uri": "https://localhost:8080/"
        },
        "id": "Glx0rINAGC5U",
        "outputId": "25ec2e13-5d5e-4834-bc03-0e350de547ae"
      },
      "execution_count": 32,
      "outputs": [
        {
          "output_type": "stream",
          "name": "stdout",
          "text": [
            "[[ 0  1]\n",
            " [ 2  3]\n",
            " [ 4  5]\n",
            " [ 6  7]\n",
            " [ 8  9]\n",
            " [10 11]\n",
            " [12 13]\n",
            " [14 15]]\n"
          ]
        }
      ]
    },
    {
      "cell_type": "code",
      "source": [
        "b.reshape(4,-1)"
      ],
      "metadata": {
        "colab": {
          "base_uri": "https://localhost:8080/"
        },
        "id": "QBx0qdoCGFpA",
        "outputId": "a27ea339-266d-44cf-ed11-c74bf8db52f8"
      },
      "execution_count": 33,
      "outputs": [
        {
          "output_type": "execute_result",
          "data": {
            "text/plain": [
              "array([[ 0,  1,  2,  3],\n",
              "       [ 4,  5,  6,  7],\n",
              "       [ 8,  9, 10, 11],\n",
              "       [12, 13, 14, 15]])"
            ]
          },
          "metadata": {},
          "execution_count": 33
        }
      ]
    },
    {
      "cell_type": "code",
      "source": [
        "b.reshape(5,-1)   #this will throw an error message"
      ],
      "metadata": {
        "colab": {
          "base_uri": "https://localhost:8080/",
          "height": 165
        },
        "id": "rs7GtoJBGRNB",
        "outputId": "eeed2024-483a-43f3-eff7-9acb9433bf6d"
      },
      "execution_count": 34,
      "outputs": [
        {
          "output_type": "error",
          "ename": "ValueError",
          "evalue": "ignored",
          "traceback": [
            "\u001b[0;31m---------------------------------------------------------------------------\u001b[0m",
            "\u001b[0;31mValueError\u001b[0m                                Traceback (most recent call last)",
            "\u001b[0;32m<ipython-input-34-5485ed9340f2>\u001b[0m in \u001b[0;36m<cell line: 1>\u001b[0;34m()\u001b[0m\n\u001b[0;32m----> 1\u001b[0;31m \u001b[0mb\u001b[0m\u001b[0;34m.\u001b[0m\u001b[0mreshape\u001b[0m\u001b[0;34m(\u001b[0m\u001b[0;36m5\u001b[0m\u001b[0;34m,\u001b[0m\u001b[0;34m-\u001b[0m\u001b[0;36m1\u001b[0m\u001b[0;34m)\u001b[0m   \u001b[0;31m#this will throw an error message\u001b[0m\u001b[0;34m\u001b[0m\u001b[0;34m\u001b[0m\u001b[0m\n\u001b[0m",
            "\u001b[0;31mValueError\u001b[0m: cannot reshape array of size 16 into shape (5,newaxis)"
          ]
        }
      ]
    },
    {
      "cell_type": "code",
      "source": [
        "b.reshape(8,2)"
      ],
      "metadata": {
        "colab": {
          "base_uri": "https://localhost:8080/"
        },
        "id": "fFIWpaKqGmHl",
        "outputId": "c4ff8bcc-55b6-4e76-e4d0-fd6343a3e1a6"
      },
      "execution_count": 35,
      "outputs": [
        {
          "output_type": "execute_result",
          "data": {
            "text/plain": [
              "array([[ 0,  1],\n",
              "       [ 2,  3],\n",
              "       [ 4,  5],\n",
              "       [ 6,  7],\n",
              "       [ 8,  9],\n",
              "       [10, 11],\n",
              "       [12, 13],\n",
              "       [14, 15]])"
            ]
          },
          "metadata": {},
          "execution_count": 35
        }
      ]
    },
    {
      "cell_type": "code",
      "source": [
        "b.reshape(8,-1)"
      ],
      "metadata": {
        "colab": {
          "base_uri": "https://localhost:8080/"
        },
        "id": "Xt-l9jftG4dC",
        "outputId": "3a84dd3b-90c5-4e8b-953a-8336edd84e9a"
      },
      "execution_count": 36,
      "outputs": [
        {
          "output_type": "execute_result",
          "data": {
            "text/plain": [
              "array([[ 0,  1],\n",
              "       [ 2,  3],\n",
              "       [ 4,  5],\n",
              "       [ 6,  7],\n",
              "       [ 8,  9],\n",
              "       [10, 11],\n",
              "       [12, 13],\n",
              "       [14, 15]])"
            ]
          },
          "metadata": {},
          "execution_count": 36
        }
      ]
    },
    {
      "cell_type": "code",
      "source": [
        "b.reshape(8,-2)"
      ],
      "metadata": {
        "colab": {
          "base_uri": "https://localhost:8080/"
        },
        "id": "r61EpKMHG7Ni",
        "outputId": "eadc76cb-0532-495c-dcf2-e2bcfe13f3ba"
      },
      "execution_count": 37,
      "outputs": [
        {
          "output_type": "execute_result",
          "data": {
            "text/plain": [
              "array([[ 0,  1],\n",
              "       [ 2,  3],\n",
              "       [ 4,  5],\n",
              "       [ 6,  7],\n",
              "       [ 8,  9],\n",
              "       [10, 11],\n",
              "       [12, 13],\n",
              "       [14, 15]])"
            ]
          },
          "metadata": {},
          "execution_count": 37
        }
      ]
    },
    {
      "cell_type": "code",
      "source": [
        "b.reshape(8,-3)"
      ],
      "metadata": {
        "colab": {
          "base_uri": "https://localhost:8080/"
        },
        "id": "VDIqQwFrHJzV",
        "outputId": "94ee9a36-8349-4731-b17e-94c1daf90a31"
      },
      "execution_count": 38,
      "outputs": [
        {
          "output_type": "execute_result",
          "data": {
            "text/plain": [
              "array([[ 0,  1],\n",
              "       [ 2,  3],\n",
              "       [ 4,  5],\n",
              "       [ 6,  7],\n",
              "       [ 8,  9],\n",
              "       [10, 11],\n",
              "       [12, 13],\n",
              "       [14, 15]])"
            ]
          },
          "metadata": {},
          "execution_count": 38
        }
      ]
    },
    {
      "cell_type": "code",
      "source": [
        "print(b)"
      ],
      "metadata": {
        "colab": {
          "base_uri": "https://localhost:8080/"
        },
        "id": "XGLsLX16HN2_",
        "outputId": "3c29a427-76e1-485f-b1a5-45c916511774"
      },
      "execution_count": 39,
      "outputs": [
        {
          "output_type": "stream",
          "name": "stdout",
          "text": [
            "[ 0  1  2  3  4  5  6  7  8  9 10 11 12 13 14 15]\n"
          ]
        }
      ]
    },
    {
      "cell_type": "markdown",
      "source": [
        "### **Have a fixed Column numbers but adjust the Rows accordingly...**"
      ],
      "metadata": {
        "id": "I8speSfbXYhP"
      }
    },
    {
      "cell_type": "code",
      "source": [
        "b.reshape(-1,8)"
      ],
      "metadata": {
        "colab": {
          "base_uri": "https://localhost:8080/"
        },
        "id": "cJ3MP-3EHdDE",
        "outputId": "083a4f66-2af5-4531-e936-a24019123b71"
      },
      "execution_count": 40,
      "outputs": [
        {
          "output_type": "execute_result",
          "data": {
            "text/plain": [
              "array([[ 0,  1,  2,  3,  4,  5,  6,  7],\n",
              "       [ 8,  9, 10, 11, 12, 13, 14, 15]])"
            ]
          },
          "metadata": {},
          "execution_count": 40
        }
      ]
    },
    {
      "cell_type": "code",
      "source": [
        "b.reshape(-1,4)"
      ],
      "metadata": {
        "colab": {
          "base_uri": "https://localhost:8080/"
        },
        "id": "R7qM-tlIHgHA",
        "outputId": "297fff9b-c58a-4dd3-b883-035a355d7663"
      },
      "execution_count": 41,
      "outputs": [
        {
          "output_type": "execute_result",
          "data": {
            "text/plain": [
              "array([[ 0,  1,  2,  3],\n",
              "       [ 4,  5,  6,  7],\n",
              "       [ 8,  9, 10, 11],\n",
              "       [12, 13, 14, 15]])"
            ]
          },
          "metadata": {},
          "execution_count": 41
        }
      ]
    },
    {
      "cell_type": "code",
      "source": [
        "a = b.reshape(8,2)"
      ],
      "metadata": {
        "id": "6b7VjTWVHxlZ"
      },
      "execution_count": 42,
      "outputs": []
    },
    {
      "cell_type": "code",
      "source": [
        "b"
      ],
      "metadata": {
        "colab": {
          "base_uri": "https://localhost:8080/"
        },
        "id": "R-Up1cbuH7DZ",
        "outputId": "4ecfc5bf-34e2-4195-b974-a0c1a154658d"
      },
      "execution_count": 43,
      "outputs": [
        {
          "output_type": "execute_result",
          "data": {
            "text/plain": [
              "array([ 0,  1,  2,  3,  4,  5,  6,  7,  8,  9, 10, 11, 12, 13, 14, 15])"
            ]
          },
          "metadata": {},
          "execution_count": 43
        }
      ]
    },
    {
      "cell_type": "code",
      "source": [
        "print(a)"
      ],
      "metadata": {
        "colab": {
          "base_uri": "https://localhost:8080/"
        },
        "id": "BwvObvPzH4Vu",
        "outputId": "98549a19-9d59-48ae-b870-9bfbf873501b"
      },
      "execution_count": 44,
      "outputs": [
        {
          "output_type": "stream",
          "name": "stdout",
          "text": [
            "[[ 0  1]\n",
            " [ 2  3]\n",
            " [ 4  5]\n",
            " [ 6  7]\n",
            " [ 8  9]\n",
            " [10 11]\n",
            " [12 13]\n",
            " [14 15]]\n"
          ]
        }
      ]
    },
    {
      "cell_type": "code",
      "source": [
        "len(a)  #length of rows"
      ],
      "metadata": {
        "colab": {
          "base_uri": "https://localhost:8080/"
        },
        "id": "UW2OkAmvH5PF",
        "outputId": "af5a88cf-6bce-4031-cc3f-d010fdde714b"
      },
      "execution_count": 45,
      "outputs": [
        {
          "output_type": "execute_result",
          "data": {
            "text/plain": [
              "8"
            ]
          },
          "metadata": {},
          "execution_count": 45
        }
      ]
    },
    {
      "cell_type": "markdown",
      "source": [
        "### **Indexing**"
      ],
      "metadata": {
        "id": "nHbH8qEJZgoQ"
      }
    },
    {
      "cell_type": "code",
      "source": [
        "print(a[0])   #Indexing"
      ],
      "metadata": {
        "colab": {
          "base_uri": "https://localhost:8080/"
        },
        "id": "KJAlvHKRID_L",
        "outputId": "5d21843c-b21d-4896-8d65-8650c7c72675"
      },
      "execution_count": 46,
      "outputs": [
        {
          "output_type": "stream",
          "name": "stdout",
          "text": [
            "[0 1]\n"
          ]
        }
      ]
    },
    {
      "cell_type": "code",
      "source": [
        "print(a[5])"
      ],
      "metadata": {
        "colab": {
          "base_uri": "https://localhost:8080/"
        },
        "id": "Uw6g_rjLIxxD",
        "outputId": "3e4621d1-761b-4ab0-c9ff-109083f15d20"
      },
      "execution_count": 47,
      "outputs": [
        {
          "output_type": "stream",
          "name": "stdout",
          "text": [
            "[10 11]\n"
          ]
        }
      ]
    },
    {
      "cell_type": "code",
      "source": [
        "print(a[8])  #this will throw error message"
      ],
      "metadata": {
        "colab": {
          "base_uri": "https://localhost:8080/",
          "height": 165
        },
        "id": "Bt6PWUHBI2ti",
        "outputId": "53dbed95-cfaa-4ed4-bf68-f4cbbf904733"
      },
      "execution_count": 48,
      "outputs": [
        {
          "output_type": "error",
          "ename": "IndexError",
          "evalue": "ignored",
          "traceback": [
            "\u001b[0;31m---------------------------------------------------------------------------\u001b[0m",
            "\u001b[0;31mIndexError\u001b[0m                                Traceback (most recent call last)",
            "\u001b[0;32m<ipython-input-48-e8d541a84a00>\u001b[0m in \u001b[0;36m<cell line: 1>\u001b[0;34m()\u001b[0m\n\u001b[0;32m----> 1\u001b[0;31m \u001b[0mprint\u001b[0m\u001b[0;34m(\u001b[0m\u001b[0ma\u001b[0m\u001b[0;34m[\u001b[0m\u001b[0;36m8\u001b[0m\u001b[0;34m]\u001b[0m\u001b[0;34m)\u001b[0m  \u001b[0;31m#this will throw error message\u001b[0m\u001b[0;34m\u001b[0m\u001b[0;34m\u001b[0m\u001b[0m\n\u001b[0m",
            "\u001b[0;31mIndexError\u001b[0m: index 8 is out of bounds for axis 0 with size 8"
          ]
        }
      ]
    },
    {
      "cell_type": "code",
      "source": [
        "b"
      ],
      "metadata": {
        "colab": {
          "base_uri": "https://localhost:8080/"
        },
        "id": "F9BYRDXpI9F9",
        "outputId": "2bef4f38-9f4a-44f3-830e-74312bf95376"
      },
      "execution_count": 49,
      "outputs": [
        {
          "output_type": "execute_result",
          "data": {
            "text/plain": [
              "array([ 0,  1,  2,  3,  4,  5,  6,  7,  8,  9, 10, 11, 12, 13, 14, 15])"
            ]
          },
          "metadata": {},
          "execution_count": 49
        }
      ]
    },
    {
      "cell_type": "code",
      "source": [
        "c = b.reshape(4,4)"
      ],
      "metadata": {
        "id": "RO7LnlPUJB0S"
      },
      "execution_count": 50,
      "outputs": []
    },
    {
      "cell_type": "code",
      "source": [
        "c.shape"
      ],
      "metadata": {
        "colab": {
          "base_uri": "https://localhost:8080/"
        },
        "id": "J6rlHGNSJEDh",
        "outputId": "a0db386e-2634-410d-8830-a0129f2e307a"
      },
      "execution_count": 51,
      "outputs": [
        {
          "output_type": "execute_result",
          "data": {
            "text/plain": [
              "(4, 4)"
            ]
          },
          "metadata": {},
          "execution_count": 51
        }
      ]
    },
    {
      "cell_type": "markdown",
      "source": [
        "### **How to access specific element in a 2D list ???**"
      ],
      "metadata": {
        "id": "Q5X1kbtpZOub"
      }
    },
    {
      "cell_type": "code",
      "source": [
        "print(c)"
      ],
      "metadata": {
        "colab": {
          "base_uri": "https://localhost:8080/"
        },
        "id": "n7EmeVc3JFcQ",
        "outputId": "39b3b290-8e8d-4dda-c0d2-96590eccbb60"
      },
      "execution_count": 52,
      "outputs": [
        {
          "output_type": "stream",
          "name": "stdout",
          "text": [
            "[[ 0  1  2  3]\n",
            " [ 4  5  6  7]\n",
            " [ 8  9 10 11]\n",
            " [12 13 14 15]]\n"
          ]
        }
      ]
    },
    {
      "cell_type": "code",
      "source": [
        "#How to access element \"11\" in the above 2D list???\n",
        "#Approach (1)\n",
        "print(c[2][3])"
      ],
      "metadata": {
        "colab": {
          "base_uri": "https://localhost:8080/"
        },
        "id": "vtF7BwE5JICT",
        "outputId": "42caa692-5df6-4630-d083-28498b62795c"
      },
      "execution_count": 53,
      "outputs": [
        {
          "output_type": "stream",
          "name": "stdout",
          "text": [
            "11\n"
          ]
        }
      ]
    },
    {
      "cell_type": "code",
      "source": [
        "#Approach (2)\n",
        "c[2,3]   #NOTE: later on we will be using \"Slicing\" using this approach"
      ],
      "metadata": {
        "colab": {
          "base_uri": "https://localhost:8080/"
        },
        "id": "s07SvLF4JVE9",
        "outputId": "06fd75c3-9247-4246-f58b-43239235a25f"
      },
      "execution_count": 54,
      "outputs": [
        {
          "output_type": "execute_result",
          "data": {
            "text/plain": [
              "11"
            ]
          },
          "metadata": {},
          "execution_count": 54
        }
      ]
    },
    {
      "cell_type": "code",
      "source": [
        "c[1,2]"
      ],
      "metadata": {
        "colab": {
          "base_uri": "https://localhost:8080/"
        },
        "id": "XDfF2boYJcTn",
        "outputId": "c9516635-d067-4adf-daec-4ef03be7f738"
      },
      "execution_count": 55,
      "outputs": [
        {
          "output_type": "execute_result",
          "data": {
            "text/plain": [
              "6"
            ]
          },
          "metadata": {},
          "execution_count": 55
        }
      ]
    },
    {
      "cell_type": "code",
      "source": [
        "print(b)"
      ],
      "metadata": {
        "colab": {
          "base_uri": "https://localhost:8080/"
        },
        "id": "19kcQHj9JqrI",
        "outputId": "114ca55a-29a5-4f66-ecb3-f23785b88114"
      },
      "execution_count": 56,
      "outputs": [
        {
          "output_type": "stream",
          "name": "stdout",
          "text": [
            "[ 0  1  2  3  4  5  6  7  8  9 10 11 12 13 14 15]\n"
          ]
        }
      ]
    },
    {
      "cell_type": "code",
      "source": [
        "print(b[[4,7]])  #multi indexing & not a slicing"
      ],
      "metadata": {
        "colab": {
          "base_uri": "https://localhost:8080/"
        },
        "id": "xfYcImDLKCHx",
        "outputId": "91e25419-5494-475f-d9dc-1be27cbdbd02"
      },
      "execution_count": 57,
      "outputs": [
        {
          "output_type": "stream",
          "name": "stdout",
          "text": [
            "[4 7]\n"
          ]
        }
      ]
    },
    {
      "cell_type": "markdown",
      "source": [
        "### **Generate a range of numpy array and then reshape it...**"
      ],
      "metadata": {
        "id": "n3eIS2ZfaIx9"
      }
    },
    {
      "cell_type": "code",
      "source": [
        "a = np.arange(12).reshape(3,4)"
      ],
      "metadata": {
        "id": "2pzEvBo7KInS"
      },
      "execution_count": 58,
      "outputs": []
    },
    {
      "cell_type": "code",
      "source": [
        "print(a)"
      ],
      "metadata": {
        "colab": {
          "base_uri": "https://localhost:8080/"
        },
        "id": "W5j50MeUKkDx",
        "outputId": "565a5f97-89af-48af-c3a0-f58faad4dd9d"
      },
      "execution_count": 59,
      "outputs": [
        {
          "output_type": "stream",
          "name": "stdout",
          "text": [
            "[[ 0  1  2  3]\n",
            " [ 4  5  6  7]\n",
            " [ 8  9 10 11]]\n"
          ]
        }
      ]
    },
    {
      "cell_type": "code",
      "source": [
        "a.shape"
      ],
      "metadata": {
        "colab": {
          "base_uri": "https://localhost:8080/"
        },
        "id": "V4Zj3qlVKlBW",
        "outputId": "f39e209d-885b-4dd5-8ab5-39fdc7fa38bd"
      },
      "execution_count": 60,
      "outputs": [
        {
          "output_type": "execute_result",
          "data": {
            "text/plain": [
              "(3, 4)"
            ]
          },
          "metadata": {},
          "execution_count": 60
        }
      ]
    },
    {
      "cell_type": "markdown",
      "source": [
        "### **Transpose of a Matrix**"
      ],
      "metadata": {
        "id": "htop0As5aha-"
      }
    },
    {
      "cell_type": "code",
      "source": [
        "b = a.T"
      ],
      "metadata": {
        "id": "odS9GRwyKrnN"
      },
      "execution_count": 61,
      "outputs": []
    },
    {
      "cell_type": "code",
      "source": [
        "print(b)"
      ],
      "metadata": {
        "colab": {
          "base_uri": "https://localhost:8080/"
        },
        "id": "mupBr8VNLX57",
        "outputId": "b251aa56-19af-44a1-da5b-54c7acad78d9"
      },
      "execution_count": 62,
      "outputs": [
        {
          "output_type": "stream",
          "name": "stdout",
          "text": [
            "[[ 0  4  8]\n",
            " [ 1  5  9]\n",
            " [ 2  6 10]\n",
            " [ 3  7 11]]\n"
          ]
        }
      ]
    },
    {
      "cell_type": "code",
      "source": [
        "#Will this work???\n",
        "m1 = np.arange(1,10).reshape(3,3)"
      ],
      "metadata": {
        "id": "JP1RUG_bLZIK"
      },
      "execution_count": 63,
      "outputs": []
    },
    {
      "cell_type": "code",
      "source": [
        "print(m1)"
      ],
      "metadata": {
        "colab": {
          "base_uri": "https://localhost:8080/"
        },
        "id": "hKQNNPyiLyiQ",
        "outputId": "766a9843-7f2e-4692-fefb-2f1c8d2e12d3"
      },
      "execution_count": 64,
      "outputs": [
        {
          "output_type": "stream",
          "name": "stdout",
          "text": [
            "[[1 2 3]\n",
            " [4 5 6]\n",
            " [7 8 9]]\n"
          ]
        }
      ]
    },
    {
      "cell_type": "markdown",
      "source": [
        "### **Multiple Indexing**\n",
        "**Expected o/p**\n",
        "\n",
        "![Capture.PNG](data:image/png;base64,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)"
      ],
      "metadata": {
        "id": "h2CNmotqbGoO"
      }
    },
    {
      "cell_type": "code",
      "source": [
        "print(m1[ [0, 1, 2] , [0, 1, 2] ])"
      ],
      "metadata": {
        "colab": {
          "base_uri": "https://localhost:8080/"
        },
        "id": "8CbN9oahLzdn",
        "outputId": "418bc3d7-e6af-44b2-c576-d9bc1197e113"
      },
      "execution_count": 65,
      "outputs": [
        {
          "output_type": "stream",
          "name": "stdout",
          "text": [
            "[1 5 9]\n"
          ]
        }
      ]
    },
    {
      "cell_type": "code",
      "source": [
        "print(m1[ [0, 1], [1, 2] ])"
      ],
      "metadata": {
        "colab": {
          "base_uri": "https://localhost:8080/"
        },
        "id": "Be6akgaOMoNL",
        "outputId": "b049b1fb-510b-41e7-b6fb-21ae76876b88"
      },
      "execution_count": 66,
      "outputs": [
        {
          "output_type": "stream",
          "name": "stdout",
          "text": [
            "[2 6]\n"
          ]
        }
      ]
    },
    {
      "cell_type": "code",
      "source": [
        "type(m1)"
      ],
      "metadata": {
        "colab": {
          "base_uri": "https://localhost:8080/"
        },
        "id": "uhFBdV9BM_Nb",
        "outputId": "105be6ae-e8ef-4f54-8115-e36cf2df4e9c"
      },
      "execution_count": 67,
      "outputs": [
        {
          "output_type": "execute_result",
          "data": {
            "text/plain": [
              "numpy.ndarray"
            ]
          },
          "metadata": {},
          "execution_count": 67
        }
      ]
    },
    {
      "cell_type": "code",
      "source": [
        "m1.shape"
      ],
      "metadata": {
        "colab": {
          "base_uri": "https://localhost:8080/"
        },
        "id": "GZp1VYg3NPYG",
        "outputId": "048d9a42-5b5d-4fe8-9009-35c34a3d7c03"
      },
      "execution_count": 68,
      "outputs": [
        {
          "output_type": "execute_result",
          "data": {
            "text/plain": [
              "(3, 3)"
            ]
          },
          "metadata": {},
          "execution_count": 68
        }
      ]
    },
    {
      "cell_type": "code",
      "source": [
        "m1.ndim"
      ],
      "metadata": {
        "colab": {
          "base_uri": "https://localhost:8080/"
        },
        "id": "PMtcM__4NQuP",
        "outputId": "72299ade-e379-493c-eccd-49f09fc2d249"
      },
      "execution_count": 69,
      "outputs": [
        {
          "output_type": "execute_result",
          "data": {
            "text/plain": [
              "2"
            ]
          },
          "metadata": {},
          "execution_count": 69
        }
      ]
    },
    {
      "cell_type": "code",
      "source": [
        "print(m1[ [0, 1, 2], [1, 0, 2]])"
      ],
      "metadata": {
        "colab": {
          "base_uri": "https://localhost:8080/"
        },
        "id": "DXC2QC7tNR4S",
        "outputId": "8681a21a-6d59-41c1-9317-25b4d2517c0f"
      },
      "execution_count": 70,
      "outputs": [
        {
          "output_type": "stream",
          "name": "stdout",
          "text": [
            "[2 4 9]\n"
          ]
        }
      ]
    },
    {
      "cell_type": "markdown",
      "source": [
        "### **Slicing**"
      ],
      "metadata": {
        "id": "7scPRzocdRcS"
      }
    },
    {
      "cell_type": "code",
      "source": [
        "print(m1)"
      ],
      "metadata": {
        "colab": {
          "base_uri": "https://localhost:8080/"
        },
        "id": "yOXWQUxlOjDb",
        "outputId": "5b746077-62e2-482f-db83-1ed65a0082e1"
      },
      "execution_count": 71,
      "outputs": [
        {
          "output_type": "stream",
          "name": "stdout",
          "text": [
            "[[1 2 3]\n",
            " [4 5 6]\n",
            " [7 8 9]]\n"
          ]
        }
      ]
    },
    {
      "cell_type": "code",
      "source": [
        "m1[0:2]  #Slicing over rows"
      ],
      "metadata": {
        "colab": {
          "base_uri": "https://localhost:8080/"
        },
        "id": "p5VXUX3TOrtf",
        "outputId": "85807a32-f212-4128-d81e-164eaa53cdfd"
      },
      "execution_count": 72,
      "outputs": [
        {
          "output_type": "execute_result",
          "data": {
            "text/plain": [
              "array([[1, 2, 3],\n",
              "       [4, 5, 6]])"
            ]
          },
          "metadata": {},
          "execution_count": 72
        }
      ]
    },
    {
      "cell_type": "code",
      "source": [
        "m1[0:2 , 0:2]   #Slicing over rows and columns"
      ],
      "metadata": {
        "colab": {
          "base_uri": "https://localhost:8080/"
        },
        "id": "lNrZnCIzOxgK",
        "outputId": "7132e672-08ba-41fa-d9f3-0777e3f91eb3"
      },
      "execution_count": 73,
      "outputs": [
        {
          "output_type": "execute_result",
          "data": {
            "text/plain": [
              "array([[1, 2],\n",
              "       [4, 5]])"
            ]
          },
          "metadata": {},
          "execution_count": 73
        }
      ]
    },
    {
      "cell_type": "code",
      "source": [
        "m1[1:2]"
      ],
      "metadata": {
        "colab": {
          "base_uri": "https://localhost:8080/"
        },
        "id": "ReX84HVxPShK",
        "outputId": "c6df9a3b-2f4a-4a3b-fa0a-ed9c9a80aba6"
      },
      "execution_count": 74,
      "outputs": [
        {
          "output_type": "execute_result",
          "data": {
            "text/plain": [
              "array([[4, 5, 6]])"
            ]
          },
          "metadata": {},
          "execution_count": 74
        }
      ]
    },
    {
      "cell_type": "code",
      "source": [
        "m1[1:2, 0:2]  #Slicing over 2D list"
      ],
      "metadata": {
        "colab": {
          "base_uri": "https://localhost:8080/"
        },
        "id": "U75F4vTrPh0q",
        "outputId": "5088f9a2-1831-487f-83bb-c019ad3d9b08"
      },
      "execution_count": 75,
      "outputs": [
        {
          "output_type": "execute_result",
          "data": {
            "text/plain": [
              "array([[4, 5]])"
            ]
          },
          "metadata": {},
          "execution_count": 75
        }
      ]
    },
    {
      "cell_type": "markdown",
      "source": [
        "### **Masking**"
      ],
      "metadata": {
        "id": "99vTOiiNgLuV"
      }
    },
    {
      "cell_type": "code",
      "source": [
        "m1 = np.arange(12).reshape(3,4)"
      ],
      "metadata": {
        "id": "zSppVXkwPoSI"
      },
      "execution_count": 76,
      "outputs": []
    },
    {
      "cell_type": "code",
      "source": [
        "m1.ndim"
      ],
      "metadata": {
        "colab": {
          "base_uri": "https://localhost:8080/"
        },
        "id": "ER4tZjV5Tydw",
        "outputId": "702d7e99-6c16-45e9-bf15-33ab4779b993"
      },
      "execution_count": 77,
      "outputs": [
        {
          "output_type": "execute_result",
          "data": {
            "text/plain": [
              "2"
            ]
          },
          "metadata": {},
          "execution_count": 77
        }
      ]
    },
    {
      "cell_type": "code",
      "source": [
        "m1.shape"
      ],
      "metadata": {
        "colab": {
          "base_uri": "https://localhost:8080/"
        },
        "id": "qtIGO-eGT4TQ",
        "outputId": "01079930-4663-4ac7-a068-bde924aca5c1"
      },
      "execution_count": 78,
      "outputs": [
        {
          "output_type": "execute_result",
          "data": {
            "text/plain": [
              "(3, 4)"
            ]
          },
          "metadata": {},
          "execution_count": 78
        }
      ]
    },
    {
      "cell_type": "code",
      "source": [
        "print(m1)"
      ],
      "metadata": {
        "colab": {
          "base_uri": "https://localhost:8080/"
        },
        "id": "BeQEepDpT6DD",
        "outputId": "f687593f-69c8-400c-df62-af8227e9b920"
      },
      "execution_count": 79,
      "outputs": [
        {
          "output_type": "stream",
          "name": "stdout",
          "text": [
            "[[ 0  1  2  3]\n",
            " [ 4  5  6  7]\n",
            " [ 8  9 10 11]]\n"
          ]
        }
      ]
    },
    {
      "cell_type": "code",
      "source": [
        "m1 < 7   #gives you a boolean mask (i.e. Masking)"
      ],
      "metadata": {
        "colab": {
          "base_uri": "https://localhost:8080/"
        },
        "id": "0GVV0TwxUJoI",
        "outputId": "3f6f34ed-201a-441a-c0db-27892c5a3eec"
      },
      "execution_count": 80,
      "outputs": [
        {
          "output_type": "execute_result",
          "data": {
            "text/plain": [
              "array([[ True,  True,  True,  True],\n",
              "       [ True,  True,  True, False],\n",
              "       [False, False, False, False]])"
            ]
          },
          "metadata": {},
          "execution_count": 80
        }
      ]
    },
    {
      "cell_type": "code",
      "source": [
        "m1[m1 < 7]   #gives you the actual values from 'm1' that satisfy the condition defined by the mask"
      ],
      "metadata": {
        "colab": {
          "base_uri": "https://localhost:8080/"
        },
        "id": "N2wSNF2gT86e",
        "outputId": "50d80a88-3cca-4d69-f549-1bbeb340004a"
      },
      "execution_count": 81,
      "outputs": [
        {
          "output_type": "execute_result",
          "data": {
            "text/plain": [
              "array([0, 1, 2, 3, 4, 5, 6])"
            ]
          },
          "metadata": {},
          "execution_count": 81
        }
      ]
    },
    {
      "cell_type": "markdown",
      "source": [
        "### **Array Mathematics - this is were \"axis\" comes into the picture**"
      ],
      "metadata": {
        "id": "VYHSD5shg3Vl"
      }
    },
    {
      "cell_type": "code",
      "source": [
        "m1"
      ],
      "metadata": {
        "colab": {
          "base_uri": "https://localhost:8080/"
        },
        "id": "IzrHYvBOUMqo",
        "outputId": "a9701788-48d3-49d7-bbd5-088f8a55ac1b"
      },
      "execution_count": 82,
      "outputs": [
        {
          "output_type": "execute_result",
          "data": {
            "text/plain": [
              "array([[ 0,  1,  2,  3],\n",
              "       [ 4,  5,  6,  7],\n",
              "       [ 8,  9, 10, 11]])"
            ]
          },
          "metadata": {},
          "execution_count": 82
        }
      ]
    },
    {
      "cell_type": "code",
      "source": [
        "np.sum(m1)  #sum of all the elements"
      ],
      "metadata": {
        "colab": {
          "base_uri": "https://localhost:8080/"
        },
        "id": "Qi_zZCQaVFsf",
        "outputId": "631b27ad-f493-411d-8439-02eb9f8c8d37"
      },
      "execution_count": 83,
      "outputs": [
        {
          "output_type": "execute_result",
          "data": {
            "text/plain": [
              "66"
            ]
          },
          "metadata": {},
          "execution_count": 83
        }
      ]
    },
    {
      "cell_type": "markdown",
      "source": [
        "**Give me the column wise sum of the NumPy array**"
      ],
      "metadata": {
        "id": "liX-yq3UhgPd"
      }
    },
    {
      "cell_type": "code",
      "source": [
        "#this is were \"axis\" comes into the picture...\n",
        "np.sum(m1, axis = 0)"
      ],
      "metadata": {
        "colab": {
          "base_uri": "https://localhost:8080/"
        },
        "id": "O9qgv5f2VPQl",
        "outputId": "c613cd19-ee78-4f64-b407-2dfa6816181b"
      },
      "execution_count": 84,
      "outputs": [
        {
          "output_type": "execute_result",
          "data": {
            "text/plain": [
              "array([12, 15, 18, 21])"
            ]
          },
          "metadata": {},
          "execution_count": 84
        }
      ]
    },
    {
      "cell_type": "markdown",
      "source": [
        "**Give me the row wise sum of the NumPy array**"
      ],
      "metadata": {
        "id": "hzeFlmBahmDp"
      }
    },
    {
      "cell_type": "code",
      "source": [
        "np.sum(m1, axis = 1)"
      ],
      "metadata": {
        "colab": {
          "base_uri": "https://localhost:8080/"
        },
        "id": "kW0FmfOPVyAM",
        "outputId": "67e18879-8b2c-4556-9ed7-000164ed2824"
      },
      "execution_count": 85,
      "outputs": [
        {
          "output_type": "execute_result",
          "data": {
            "text/plain": [
              "array([ 6, 22, 38])"
            ]
          },
          "metadata": {},
          "execution_count": 85
        }
      ]
    },
    {
      "cell_type": "markdown",
      "source": [
        "# **Fitbit Dataset (Homework)**\n",
        "***"
      ],
      "metadata": {
        "id": "De02F9HRjvxX"
      }
    },
    {
      "cell_type": "code",
      "source": [
        "#HW: In the dataset provided, find the average number of steps, for the mood:\n",
        "# Happy\n",
        "# Sad\n",
        "# Neutral"
      ],
      "metadata": {
        "id": "ZPxZXYvYWAr-"
      },
      "execution_count": 86,
      "outputs": []
    },
    {
      "cell_type": "code",
      "source": [
        "print(data)  #2nd column is the step-size"
      ],
      "metadata": {
        "colab": {
          "base_uri": "https://localhost:8080/"
        },
        "id": "4JqodjYDiB-S",
        "outputId": "70ce8fe0-2c86-4198-ee8a-0261f2e0451f"
      },
      "execution_count": 87,
      "outputs": [
        {
          "output_type": "stream",
          "name": "stdout",
          "text": [
            "[['06-10-2017' '5464' 'Neutral' '181' '5' 'Inactive']\n",
            " ['07-10-2017' '6041' 'Sad' '197' '8' 'Inactive']\n",
            " ['08-10-2017' '25' 'Sad' '0' '5' 'Inactive']\n",
            " ['09-10-2017' '5461' 'Sad' '174' '4' 'Inactive']\n",
            " ['10-10-2017' '6915' 'Neutral' '223' '5' 'Active']\n",
            " ['11-10-2017' '4545' 'Sad' '149' '6' 'Inactive']\n",
            " ['12-10-2017' '4340' 'Sad' '140' '6' 'Inactive']\n",
            " ['13-10-2017' '1230' 'Sad' '38' '7' 'Inactive']\n",
            " ['14-10-2017' '61' 'Sad' '1' '5' 'Inactive']\n",
            " ['15-10-2017' '1258' 'Sad' '40' '6' 'Inactive']\n",
            " ['16-10-2017' '3148' 'Sad' '101' '8' 'Inactive']\n",
            " ['17-10-2017' '4687' 'Sad' '152' '5' 'Inactive']\n",
            " ['18-10-2017' '4732' 'Happy' '150' '6' 'Active']\n",
            " ['19-10-2017' '3519' 'Sad' '113' '7' 'Inactive']\n",
            " ['20-10-2017' '1580' 'Sad' '49' '5' 'Inactive']\n",
            " ['21-10-2017' '2822' 'Sad' '86' '6' 'Inactive']\n",
            " ['22-10-2017' '181' 'Sad' '6' '8' 'Inactive']\n",
            " ['23-10-2017' '3158' 'Neutral' '99' '5' 'Inactive']\n",
            " ['24-10-2017' '4383' 'Neutral' '143' '4' 'Inactive']\n",
            " ['25-10-2017' '3881' 'Neutral' '125' '5' 'Inactive']\n",
            " ['26-10-2017' '4037' 'Neutral' '129' '6' 'Inactive']\n",
            " ['27-10-2017' '202' 'Neutral' '6' '8' 'Inactive']\n",
            " ['28-10-2017' '292' 'Neutral' '9' '5' 'Inactive']\n",
            " ['29-10-2017' '330' 'Happy' '10' '6' 'Inactive']\n",
            " ['30-10-2017' '2209' 'Neutral' '72' '5' 'Inactive']\n",
            " ['31-10-2017' '4550' 'Happy' '150' '8' 'Active']\n",
            " ['01-11-2017' '4435' 'Happy' '141' '5' 'Inactive']\n",
            " ['02-11-2017' '4779' 'Happy' '156' '4' 'Inactive']\n",
            " ['03-11-2017' '1831' 'Happy' '57' '5' 'Inactive']\n",
            " ['04-11-2017' '2255' 'Happy' '72' '4' 'Inactive']\n",
            " ['05-11-2017' '539' 'Happy' '17' '5' 'Active']\n",
            " ['06-11-2017' '5464' 'Happy' '181' '4' 'Inactive']\n",
            " ['07-11-2017' '6041' 'Neutral' '197' '3' 'Inactive']\n",
            " ['08-11-2017' '4068' 'Happy' '131' '2' 'Inactive']\n",
            " ['09-11-2017' '4683' 'Happy' '154' '9' 'Inactive']\n",
            " ['10-11-2017' '4033' 'Happy' '137' '5' 'Inactive']\n",
            " ['11-11-2017' '6314' 'Happy' '193' '6' 'Active']\n",
            " ['12-11-2017' '614' 'Happy' '19' '4' 'Active']\n",
            " ['13-11-2017' '3149' 'Happy' '101' '5' 'Active']\n",
            " ['14-11-2017' '4005' 'Happy' '139' '8' 'Active']\n",
            " ['15-11-2017' '4880' 'Happy' '164' '4' 'Active']\n",
            " ['16-11-2017' '4136' 'Happy' '137' '5' 'Active']\n",
            " ['17-11-2017' '705' 'Happy' '22' '6' 'Active']\n",
            " ['18-11-2017' '570' 'Neutral' '17' '5' 'Active']\n",
            " ['19-11-2017' '269' 'Happy' '9' '6' 'Active']\n",
            " ['20-11-2017' '4275' 'Happy' '145' '5' 'Inactive']\n",
            " ['21-11-2017' '5999' 'Happy' '192' '6' 'Inactive']\n",
            " ['22-11-2017' '4421' 'Happy' '146' '5' 'Inactive']\n",
            " ['23-11-2017' '6930' 'Happy' '234' '6' 'Inactive']\n",
            " ['24-11-2017' '5195' 'Happy' '167' '5' 'Inactive']\n",
            " ['25-11-2017' '546' 'Happy' '16' '6' 'Inactive']\n",
            " ['26-11-2017' '493' 'Happy' '17' '7' 'Active']\n",
            " ['27-11-2017' '995' 'Happy' '32' '6' 'Active']\n",
            " ['28-11-2017' '1163' 'Neutral' '35' '7' 'Active']\n",
            " ['29-11-2017' '6676' 'Sad' '220' '6' 'Active']\n",
            " ['30-11-2017' '3608' 'Happy' '116' '5' 'Active']\n",
            " ['01-12-2017' '774' 'Happy' '23' '6' 'Active']\n",
            " ['02-12-2017' '1421' 'Happy' '44' '7' 'Active']\n",
            " ['03-12-2017' '4064' 'Happy' '131' '8' 'Active']\n",
            " ['04-12-2017' '2725' 'Happy' '86' '8' 'Active']\n",
            " ['05-12-2017' '5934' 'Happy' '194' '7' 'Active']\n",
            " ['06-12-2017' '1867' 'Happy' '60' '8' 'Active']\n",
            " ['07-12-2017' '3721' 'Sad' '121' '5' 'Active']\n",
            " ['08-12-2017' '2374' 'Neutral' '76' '4' 'Inactive']\n",
            " ['09-12-2017' '2909' 'Neutral' '93' '3' 'Active']\n",
            " ['10-12-2017' '1648' 'Sad' '53' '3' 'Active']\n",
            " ['11-12-2017' '799' 'Sad' '25' '4' 'Inactive']\n",
            " ['12-12-2017' '7102' 'Neutral' '227' '5' 'Active']\n",
            " ['13-12-2017' '3941' 'Neutral' '125' '5' 'Active']\n",
            " ['14-12-2017' '7422' 'Happy' '243' '5' 'Active']\n",
            " ['15-12-2017' '437' 'Neutral' '14' '3' 'Active']\n",
            " ['16-12-2017' '1231' 'Neutral' '39' '4' 'Active']\n",
            " ['17-12-2017' '1696' 'Sad' '55' '4' 'Inactive']\n",
            " ['18-12-2017' '4921' 'Neutral' '158' '5' 'Active']\n",
            " ['19-12-2017' '221' 'Sad' '7' '5' 'Active']\n",
            " ['20-12-2017' '6500' 'Neutral' '213' '5' 'Active']\n",
            " ['21-12-2017' '3575' 'Neutral' '116' '5' 'Active']\n",
            " ['22-12-2017' '4061' 'Sad' '129' '5' 'Inactive']\n",
            " ['23-12-2017' '651' 'Sad' '21' '5' 'Inactive']\n",
            " ['24-12-2017' '753' 'Sad' '28' '4' 'Inactive']\n",
            " ['25-12-2017' '518' 'Sad' '16' '3' 'Inactive']\n",
            " ['26-12-2017' '5537' 'Happy' '180' '4' 'Active']\n",
            " ['27-12-2017' '4108' 'Neutral' '138' '5' 'Active']\n",
            " ['28-12-2017' '5376' 'Happy' '176' '5' 'Active']\n",
            " ['29-12-2017' '3066' 'Neutral' '99' '4' 'Active']\n",
            " ['30-12-2017' '177' 'Sad' '5' '5' 'Inactive']\n",
            " ['31-12-2017' '36' 'Sad' '1' '3' 'Inactive']\n",
            " ['01-01-2018' '299' 'Sad' '10' '3' 'Inactive']\n",
            " ['02-01-2018' '1447' 'Neutral' '47' '3' 'Inactive']\n",
            " ['03-01-2018' '2599' 'Neutral' '84' '2' 'Inactive']\n",
            " ['04-01-2018' '702' 'Sad' '23' '3' 'Inactive']\n",
            " ['05-01-2018' '133' 'Sad' '4' '2' 'Inactive']\n",
            " ['06-01-2018' '153' 'Happy' '0' '8' 'Inactive']\n",
            " ['07-01-2018' '500' 'Neutral' '0' '5' 'Active']\n",
            " ['08-01-2018' '2127' 'Neutral' '0' '5' 'Inactive']\n",
            " ['09-01-2018' '2203' 'Happy' '0' '5' 'Active']]\n"
          ]
        }
      ]
    }
  ]
}