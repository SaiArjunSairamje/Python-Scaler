{
  "nbformat": 4,
  "nbformat_minor": 0,
  "metadata": {
    "colab": {
      "provenance": [],
      "authorship_tag": "ABX9TyOIRpEjsowY1WD/ZeLsLBRf",
      "include_colab_link": true
    },
    "kernelspec": {
      "name": "python3",
      "display_name": "Python 3"
    },
    "language_info": {
      "name": "python"
    }
  },
  "cells": [
    {
      "cell_type": "markdown",
      "metadata": {
        "id": "view-in-github",
        "colab_type": "text"
      },
      "source": [
        "<a href=\"https://colab.research.google.com/github/SaiArjunSairamje/Python_Libraries/blob/main/06.%20Personal_Note%20(NumPy)%20.ipynb\" target=\"_parent\"><img src=\"https://colab.research.google.com/assets/colab-badge.svg\" alt=\"Open In Colab\"/></a>"
      ]
    },
    {
      "cell_type": "markdown",
      "source": [
        "-----------------------------\n",
        "# **NumPy Syllabus for Data Analyst/Scientist:**\n",
        "-----------------------------\n",
        "**Table of content:**          \n",
        "> **1. Introduction to NumPy**       \n",
        "> **2. Array Data Types**        \n",
        "> **3. Array Indexing and Slicing**      \n",
        "> **4. Array Shape and Dimensionality**      \n",
        "> **5. Element-wise Operations**      \n",
        "> **6. Array Mathematics and Statistics**      \n",
        "> **7. Array Manipulation**      \n",
        "> **8. File I/O with NumPy**      \n",
        "> **9. Masking and Boolean Indexing**      \n",
        "> **10. Random Number Generation**            \n",
        "> **11. Advanced NumPy Techniques**      \n",
        "> **12. NumPy with Pandas**      \n",
        "> **13. NumPy Best Practices**\n",
        "\n"
      ],
      "metadata": {
        "id": "exqX1S_Wvb-d"
      }
    },
    {
      "cell_type": "markdown",
      "source": [
        "**Syllabus:**         \n",
        ">**1. Introduction to NumPy**\n",
        "   - Creating NumPy arrays with **numpy.array()**\n",
        "   - Generating arrays with **numpy.arange()**, **numpy.linspace()**\n",
        "   - Creating arrays filled with zeros or ones using **numpy.zeros()**, **numpy.ones()**\n",
        "   - Generating identity matrices with **numpy.eye()**\n",
        "   - Creating arrays with random values using **numpy.random.rand()** and **numpy.random.randn()**\n",
        "\n",
        "> **2. Array Data Types**\n",
        "   - Understanding NumPy data types (**dtype** attribute)\n",
        "   - Converting data types using **numpy.astype()**\n",
        "\n",
        "> **3. Array Indexing and Slicing**\n",
        "   - Indexing and accessing elements in 1D and 2D arrays\n",
        "   - Slicing arrays using ':' and advanced indexing techniques\n",
        "   - Modifying elements and slices\n",
        "\n",
        "> **4. Array Shape and Dimensionality**\n",
        "   - Understanding array dimensions using **numpy.ndim**\n",
        "   - Determining array shape using **numpy.shape**\n",
        "   - Reshaping arrays with **numpy.reshape()** and **numpy.ravel()**\n",
        "   - Transposing arrays with **numpy.transpose()**\n",
        "\n",
        "> **5. Element-wise Operations**\n",
        "   - Performing basic arithmetic operations **(+, -, *, /)** on arrays\n",
        "   - Broadcasting arrays for element-wise operations\n",
        "\n",
        "> **6. Array Mathematics and Statistics**\n",
        "   - Computing basic statistics with **numpy.sum()**, **numpy.mean()**, **numpy.median()**, **numpy.var()**, **numpy.std()**\n",
        "   - Finding minimum and maximum values with **numpy.min()** and **numpy.max()**\n",
        "   - Performing dot product and matrix multiplication with **numpy.dot()** and **numpy.matmul()**\n",
        "   - Computing the inverse and determinant of matrices using **numpy.linalg.inv()** and **numpy.linalg.det()**\n",
        "\n",
        "> **7. Array Manipulation**\n",
        "   - Stacking arrays vertically and horizontally with **numpy.vstack()** and **numpy.hstack()**\n",
        "   - Splitting arrays with **numpy.split()**\n",
        "   - Combining arrays using **numpy.concatenate()**\n",
        "\n",
        "> **8. File I/O with NumPy**\n",
        "   - Loading data from binary files with **numpy.load()**\n",
        "   - Saving arrays to binary files with **numpy.save()**\n",
        "   - Loading data from text files with **numpy.loadtxt()**\n",
        "   - Saving arrays to text files with **numpy.savetxt()**\n",
        "\n",
        "> **9. Masking and Boolean Indexing**\n",
        "   - Creating boolean masks for filtering data\n",
        "   - Using **numpy.where()** to select elements based on conditions\n",
        "   - Applying boolean indexing to modify array elements\n",
        "   - Using **numpy.all()** to check if all elements in a boolean array are True  \n",
        "   - Using **numpy.any()** to check if any elements in a boolean array are True\n",
        "\n",
        "> **10. Random Number Generation**        \n",
        "*   Seeding random number generation for reproducibility with **numpy.random.seed()**    \n",
        "*   Generating random integers with **numpy.random.randint()**       \n",
        "*   Generating random numbers from uniform distribution with **numpy.random.uniform()**       \n",
        "*   Generating random numbers from normal distribution with **numpy.random.normal()**\n",
        "\n",
        "> **11. Advanced NumPy Techniques**\n",
        "*   Understanding broadcasting for array operations\n",
        "*   Utilizing **numpy.broadcast()** for broadcasting arrays\n",
        "*   Constructing open mesh arrays with **numpy.ix_()**\n",
        "*   Efficiently joining arrays with **numpy.concatenate()**\n",
        "\n",
        "> **12. NumPy with Pandas**\n",
        "*   Converting Pandas DataFrames to NumPy arrays with **pandas.DataFrame.to_numpy()**\n",
        "*   Converting Pandas Series to NumPy arrays with **pandas.Series.to_numpy()**\n",
        "*   Finding unique elements in arrays with **numpy.unique()**\n",
        "\n",
        "> **13. NumPy Best Practices**\n",
        "*   Memory optimization techniques with NumPy arrays\n",
        "*   Vectorization for improved performance\n",
        "*   Efficient array operations for large datasets\n"
      ],
      "metadata": {
        "id": "4_jAHSg3UvZ3"
      }
    },
    {
      "cell_type": "markdown",
      "source": [
        "# **1. Introduction to NumPy**\n",
        "*****\n",
        "   - Creating NumPy arrays with **numpy.array()**\n",
        "   - Generating arrays with **numpy.arange()**, **numpy.linspace()**\n",
        "   - Creating arrays filled with zeros or ones using **numpy.zeros()**, **numpy.ones()**\n",
        "   - Generating identity matrices with **numpy.eye()**\n",
        "   - Creating arrays with random values using **numpy.random.rand()** and **numpy.random.randn()**"
      ],
      "metadata": {
        "id": "waR0kdVNO-dP"
      }
    },
    {
      "cell_type": "markdown",
      "source": [
        "### Creating NumPy arrays with **numpy.array()**"
      ],
      "metadata": {
        "id": "k20QMVKPQiqE"
      }
    },
    {
      "cell_type": "code",
      "source": [
        "import numpy as np"
      ],
      "metadata": {
        "id": "0ECMyJbSQ1Mk"
      },
      "execution_count": 2,
      "outputs": []
    },
    {
      "cell_type": "code",
      "source": [
        "data_list = [1, 2, 3, 4, 5]"
      ],
      "metadata": {
        "id": "Z4_9QYB6Q4ZR"
      },
      "execution_count": 3,
      "outputs": []
    },
    {
      "cell_type": "code",
      "source": [
        "numpy_array = np.array(data_list)"
      ],
      "metadata": {
        "id": "2YOqgNj7Q4Pm"
      },
      "execution_count": 4,
      "outputs": []
    },
    {
      "cell_type": "code",
      "source": [
        "type(numpy_array)"
      ],
      "metadata": {
        "colab": {
          "base_uri": "https://localhost:8080/"
        },
        "id": "1Me66Ek9R0DK",
        "outputId": "e77f293f-2a46-44b6-cda8-93d95e441ff2"
      },
      "execution_count": 6,
      "outputs": [
        {
          "output_type": "execute_result",
          "data": {
            "text/plain": [
              "numpy.ndarray"
            ]
          },
          "metadata": {},
          "execution_count": 6
        }
      ]
    },
    {
      "cell_type": "code",
      "source": [
        "print(numpy_array)"
      ],
      "metadata": {
        "colab": {
          "base_uri": "https://localhost:8080/"
        },
        "id": "JeuWCZj8RBo5",
        "outputId": "d47d61a1-7f65-45b5-846c-74ae0e2167fe"
      },
      "execution_count": 5,
      "outputs": [
        {
          "output_type": "stream",
          "name": "stdout",
          "text": [
            "[1 2 3 4 5]\n"
          ]
        }
      ]
    },
    {
      "cell_type": "markdown",
      "source": [
        " ###  Generating arrays with **numpy.arange()**, **numpy.linspace()**"
      ],
      "metadata": {
        "id": "cv1Sq5isRIJc"
      }
    },
    {
      "cell_type": "code",
      "source": [
        "     numpy_array = np.arange(10)\n",
        "     print(numpy_array)\n",
        "\n",
        "   - Creating arrays filled with zeros or ones using **numpy.zeros()**, **numpy.ones()**\n",
        "     Example:\n",
        "     numpy_array_zeros = np.zeros((2, 3))\n",
        "     print(numpy_array_zeros)\n",
        "     numpy_array_ones = np.ones((3, 2))\n",
        "     print(numpy_array_ones)\n",
        "\n",
        "   - Generating identity matrices with **numpy.eye()**\n",
        "     Example:\n",
        "     identity_matrix = np.eye(3)\n",
        "     print(identity_matrix)\n",
        "\n",
        "   - Creating arrays with random values using **numpy.random.rand()** and **numpy.random.randn()**\n",
        "     Example:\n",
        "     random_uniform_array = np.random.rand(3, 3)\n",
        "     print(random_uniform_array)\n",
        "     random_normal_array = np.random.randn(3, 3)\n",
        "     print(random_normal_array)"
      ],
      "metadata": {
        "colab": {
          "base_uri": "https://localhost:8080/",
          "height": 130
        },
        "id": "dxevWodRPQmd",
        "outputId": "72de6128-0d31-473b-c264-e05abbca5498"
      },
      "execution_count": 1,
      "outputs": [
        {
          "output_type": "error",
          "ename": "SyntaxError",
          "evalue": "ignored",
          "traceback": [
            "\u001b[0;36m  File \u001b[0;32m\"<ipython-input-1-6a37969e02ff>\"\u001b[0;36m, line \u001b[0;32m1\u001b[0m\n\u001b[0;31m    (1) Introduction to NumPy\u001b[0m\n\u001b[0m        ^\u001b[0m\n\u001b[0;31mSyntaxError\u001b[0m\u001b[0;31m:\u001b[0m invalid syntax\n"
          ]
        }
      ]
    },
    {
      "cell_type": "markdown",
      "source": [
        "**2. Array Data Types**\n",
        "   - Understanding NumPy data types (**dtype** attribute)\n",
        "   - Converting data types using **numpy.astype()**\n",
        "\n",
        "**3. Array Indexing and Slicing**\n",
        "   - Indexing and accessing elements in 1D and 2D arrays\n",
        "   - Slicing arrays using ':' and advanced indexing techniques\n",
        "   - Modifying elements and slices\n",
        "\n",
        "**4. Array Shape and Dimensionality**\n",
        "   - Understanding array dimensions using **numpy.ndim**\n",
        "   - Determining array shape using **numpy.shape**\n",
        "   - Reshaping arrays with **numpy.reshape()** and **numpy.ravel()**\n",
        "   - Transposing arrays with **numpy.transpose()**\n",
        "\n",
        "**5. Element-wise Operations**\n",
        "   - Performing basic arithmetic operations (+, -, *, /) on arrays\n",
        "   - Broadcasting arrays for element-wise operations\n",
        "\n",
        "**6. Array Mathematics and Statistics**\n",
        "   - Computing basic statistics with **numpy.sum()**, **numpy.mean()**, **numpy.median()**, **numpy.var()**, **numpy.std()**\n",
        "   - Finding minimum and maximum values with **numpy.min()** and **numpy.max()**\n",
        "   - Performing dot product and matrix multiplication with **numpy.dot()** and **numpy.matmul()**\n",
        "   - Computing the inverse and determinant of matrices using **numpy.linalg.inv()** and **numpy.linalg.det()**\n",
        "\n",
        "**7. Array Manipulation**\n",
        "   - Stacking arrays vertically and horizontally with **numpy.vstack()** and **numpy.hstack()**\n",
        "   - Splitting arrays with **numpy.split()**\n",
        "   - Combining arrays using **numpy.concatenate()**\n",
        "\n",
        "**8. File I/O with NumPy**\n",
        "   - Loading data from binary files with **numpy.load()**\n",
        "   - Saving arrays to binary files with **numpy.save()**\n",
        "   - Loading data from text files with **numpy.loadtxt()**\n",
        "   - Saving arrays to text files with **numpy.savetxt()**\n",
        "\n",
        "**9. Masking and Boolean Indexing**\n",
        "   - Creating boolean masks for filtering data\n",
        "   - Using **numpy.where()** to select elements based on conditions\n",
        "   - Applying boolean indexing to modify array elements\n",
        "\n",
        "**10. Random Number Generation**        \n",
        "*   Seeding random number generation for reproducibility with **numpy.random.seed()**    \n",
        "*   Generating random integers with **numpy.random.randint()**       \n",
        "*   Generating random numbers from uniform distribution with **numpy.random.uniform()**       \n",
        "*   Generating random numbers from normal distribution with **numpy.random.normal()**\n",
        "\n",
        "**11. Advanced NumPy Techniques**\n",
        "    \n",
        "*   Understanding broadcasting for array operations\n",
        "*   Utilizing **numpy.broadcast()** for broadcasting arrays\n",
        "*   Constructing open mesh arrays with **numpy.ix_()**\n",
        "*   Efficiently joining arrays with **numpy.concatenate()**\n",
        "\n",
        "**12. NumPy with Pandas**\n",
        "*   Converting Pandas DataFrames to NumPy arrays with **pandas.DataFrame.to_numpy()**\n",
        "*   Converting Pandas Series to NumPy arrays with **pandas.Series.to_numpy()**\n",
        "*   Finding unique elements in arrays with **numpy.unique()**\n",
        "\n",
        "**13. NumPy Best Practices**\n",
        "*   Memory optimization techniques with NumPy arrays\n",
        "*   Vectorization for improved performance\n",
        "*   Efficient array operations for large datasets"
      ],
      "metadata": {
        "id": "bSZwdgwiO46-"
      }
    },
    {
      "cell_type": "code",
      "execution_count": 1,
      "metadata": {
        "colab": {
          "base_uri": "https://localhost:8080/",
          "height": 130
        },
        "id": "1GCbgrYUvRsn",
        "outputId": "9c25da36-3c36-4fc1-d98d-44c88dee0bb6"
      },
      "outputs": [
        {
          "output_type": "error",
          "ename": "SyntaxError",
          "evalue": "ignored",
          "traceback": [
            "\u001b[0;36m  File \u001b[0;32m\"<ipython-input-1-2f5782c663f3>\"\u001b[0;36m, line \u001b[0;32m51\u001b[0m\n\u001b[0;31m    - Indexing and accessing elements in 1D and 2D arrays\u001b[0m\n\u001b[0m                                         ^\u001b[0m\n\u001b[0;31mSyntaxError\u001b[0m\u001b[0;31m:\u001b[0m invalid decimal literal\n"
          ]
        }
      ],
      "source": [
        "NumPy Syllabus for Data Analyst/Scientist:\n",
        "***\n",
        "\n",
        "\n",
        "\n",
        "(2) Array Data Types\n",
        "\n",
        "   - Understanding NumPy data types (**dtype** attribute)\n",
        "     Example:\n",
        "     arr = np.array([1, 2, 3])\n",
        "     print(arr.dtype)\n",
        "\n",
        "   - Converting data types using **numpy.astype()**\n",
        "     Example:\n",
        "     arr = np.array([1, 2, 3], dtype=float)\n",
        "     print(arr)\n",
        "\n",
        "(3) Array Indexing and Slicing\n",
        "\n",
        "   - Indexing and accessing elements in 1D and 2D arrays\n",
        "     Example:\n",
        "     arr = np.array([1, 2, 3, 4, 5])\n",
        "     print(arr[0]) # Accessing the first element\n",
        "     print(arr[-1]) # Accessing the last element\n",
        "\n",
        "   - Slicing arrays using ':' and advanced indexing techniques\n",
        "     Example:\n",
        "     arr = np.array([1, 2, 3, 4, 5])\n",
        "     print(arr[1:4]) # Slicing elements from index 1 to 3\n",
        "\n",
        "   - Modifying elements and slices\n",
        "     Example:\n",
        "     arr = np.array([1, 2, 3, 4, 5])\n",
        "     arr[0] = 10 # Modifying the first element\n",
        "     print(arr)\n",
        "\n",
        "     arr_2d = np.array([[1, 2, 3], [4, 5, 6], [7, 8, 9]])\n",
        "     arr_2d[1, 1:] = [10, 11] # Modifying elements in the second row starting from the second column\n",
        "     print(arr_2d)\n",
        "\n",
        "(4) Array Shape and Dimensionality\n",
        "\n",
        "   - Understanding array dimensions using **numpy.ndim**\n",
        "     Example:\n",
        "     arr = np.array([[1, 2, 3], [4, 5, 6]])\n",
        "     print(arr.ndim)\n",
        "\n",
        "   - Determining array shape using **numpy.shape**\n",
        "     Example:\n",
        "     arr = np.array([[1, 2, 3], [4, 5, 6]])\n",
        "     print(arr.shape)\n",
        "\n",
        "   - Reshaping arrays with **numpy.reshape()** and **numpy.ravel()**\n",
        "     Example:\n",
        "     arr = np.array([1, 2, 3, 4, 5, 6])\n",
        "     reshaped_array = np.reshape(arr, (2, 3))\n",
        "     print(reshaped_array)\n",
        "\n",
        "   - Transposing arrays with **numpy.transpose()**\n",
        "     Example:\n",
        "     arr = np.array([[1, 2, 3], [4, 5, 6]])\n",
        "     transposed_array = np.transpose(arr)\n",
        "     print(transposed_array)\n",
        "\n",
        "(5) Element-wise Operations\n",
        "\n",
        "   - Performing basic arithmetic operations (+, -, *, /) on arrays\n",
        "     Example:\n",
        "     arr1 = np.array([1, 2, 3])\n",
        "     arr2 = np.array([4, 5, 6])\n",
        "     result = arr1 + arr2\n",
        "     print(result)\n",
        "\n",
        "   - Broadcasting arrays for element-wise operations\n",
        "     Example:\n",
        "     arr1 = np.array([1, 2, 3])\n",
        "     scalar = 2\n",
        "     result = arr1 * scalar\n",
        "     print(result)\n",
        "\n",
        "(6) Array Mathematics and Statistics\n",
        "\n",
        "   - Computing basic statistics with **numpy.sum()**, **numpy.mean()**, **numpy.median()**, **numpy.var()**, **numpy.std()**\n",
        "     Example:\n",
        "     arr = np.array([1, 2, 3, 4, 5])\n",
        "     sum_result = np.sum(arr)\n",
        "     mean_result = np.mean(arr)\n",
        "     median_result = np.median(arr)\n",
        "     variance_result = np.var(arr)\n",
        "     std_deviation_result = np.std(arr)\n",
        "     print(sum_result, mean_result, median_result, variance_result, std_deviation_result)\n",
        "\n",
        "   - Finding minimum and maximum values with **numpy.min()** and **numpy.max()**\n",
        "     Example:\n",
        "     arr = np.array([3, 1, 5, 2, 4])\n",
        "     min_result = np.min(arr)\n",
        "     max_result = np.max(arr)\n",
        "     print(min_result, max_result)\n",
        "\n",
        "   - Performing dot product and matrix multiplication with **numpy.dot()** and **numpy.matmul()**\n",
        "     Example:\n",
        "     arr1 = np.array([1, 2, 3])\n",
        "     arr2 = np.array([4, 5, 6])\n",
        "     dot_result = np.dot(arr1, arr2)\n",
        "     matmul_result = np.matmul(arr1, arr2)\n",
        "     print(dot_result, matmul_result)\n",
        "\n",
        "   - Computing the inverse and determinant of matrices using **numpy.linalg.inv()** and **numpy.linalg.det()**\n",
        "     Example:\n",
        "     arr = np.array([[1, 2], [3, 4]])\n",
        "     inverse_result = np.linalg.inv(arr)\n",
        "     determinant_result = np.linalg.det(arr)\n",
        "     print(inverse_result, determinant_result)\n",
        "\n",
        "(7) Array Manipulation\n",
        "\n",
        "   - Stacking arrays vertically and horizontally with **numpy.vstack()** and **numpy.hstack()**\n",
        "     Example:\n",
        "     arr1 = np.array([1, 2, 3])\n",
        "     arr2 = np.array([4, 5, 6])\n",
        "     stacked_vertical = np.vstack((arr1, arr2))\n",
        "     stacked_horizontal = np.hstack((arr1, arr2))\n",
        "     print(stacked_vertical)\n",
        "     print(stacked_horizontal)\n",
        "\n",
        "   - Splitting arrays with **numpy.split()**\n",
        "     Example:\n",
        "     arr = np.array([1, 2, 3, 4, 5, 6])\n",
        "     split_arrays = np.split(arr, 3)\n",
        "     print(split_arrays)\n",
        "\n",
        "   - Combining arrays using **numpy.concatenate()**\n",
        "     Example:\n",
        "     arr1 = np.array([1, 2, 3])\n",
        "     arr2 = np.array([4, 5, 6])\n",
        "     concatenated_array = np.concatenate((arr1, arr2))\n",
        "     print(concatenated_array)\n",
        "\n",
        "(8) File I/O with NumPy\n",
        "\n",
        "   - Loading data from binary files with **numpy.load()**\n",
        "     Example:\n",
        "     loaded_data = np.load('data.npy')\n",
        "     print(loaded_data)\n",
        "\n",
        "   - Saving arrays to binary files with **numpy.save()**\n",
        "     Example:\n",
        "     data_to_save = np.array([1, 2, 3, 4, 5])\n",
        "     np.save('saved_data.npy', data_to_save)\n",
        "\n",
        "   - Loading data from text files with **numpy.loadtxt()**\n",
        "     Example:\n",
        "     loaded_data = np.loadtxt('data.txt', delimiter=',')\n",
        "     print(loaded_data)\n",
        "\n",
        "   - Saving arrays to text files with **numpy.savetxt()**\n",
        "     Example:\n",
        "     data_to_save = np.array([[1, 2], [3, 4], [5, 6]])\n",
        "     np.savetxt('saved_data.txt', data_to_save, delimiter=',')\n",
        "\n",
        "(9) Masking and Boolean Indexing\n",
        "\n",
        "   - Creating boolean masks for filtering data\n",
        "     Example:\n",
        "     arr = np.array([1, 2, 3, 4, 5])\n",
        "     mask = arr > 2\n",
        "     print(mask)\n",
        "\n",
        "   - Using **numpy.where()** to select elements based on conditions\n",
        "     Example:\n",
        "     arr = np.array([1, 2, 3, 4, 5])\n",
        "     condition = arr > 2\n",
        "     result = np.where(condition)\n",
        "     print(result)\n",
        "\n",
        "   - Applying boolean indexing to modify array elements\n",
        "     Example:\n",
        "     arr = np.array([1, 2, 3, 4, 5])\n",
        "     condition = arr > 2\n",
        "     arr[condition] = 0\n",
        "     print(arr)\n",
        "\n",
        "(10) Random Number Generation\n",
        "\n",
        "   - Seeding random number generation for reproducibility with **numpy.random.seed()**\n",
        "     Example:\n",
        "     np.random.seed(42)\n",
        "\n",
        "   - Generating random integers with **numpy.random.randint()**\n",
        "     Example:\n",
        "     random_int = np.random.randint(1, 10, size=5)\n",
        "     print(random_int)\n",
        "\n",
        "   - Generating random numbers from uniform distribution with **numpy.random.uniform()**\n",
        "     Example:\n",
        "     random_uniform = np.random.uniform(0, 1, size=5)\n",
        "     print(random_uniform)\n",
        "\n",
        "   - Generating random numbers from normal distribution with **numpy.random.normal()**\n",
        "     Example:\n",
        "     random_normal = np.random.normal(0, 1, size=5)\n",
        "     print(random_normal)\n",
        "\n",
        "(11) Advanced NumPy Techniques\n",
        "\n",
        "   - Understanding broadcasting for array operations\n",
        "     Example:\n",
        "     arr1 = np.array([[1], [2], [3]])\n",
        "     arr2 = np.array([4, 5, 6])\n",
        "     broadcast_result = np.broadcast(arr1, arr2)\n",
        "     print(broadcast_result)\n",
        "\n",
        "   - Utilizing **numpy.broadcast()** for broadcasting arrays\n",
        "     Example:\n",
        "     arr1 = np.array([[1], [2], [3]])\n",
        "     arr2 = np.array([4, 5, 6])\n",
        "     broadcast_result = np.broadcast(arr1, arr2)\n",
        "     print(broadcast_result)\n",
        "\n",
        "   - Constructing open mesh arrays with **numpy.ix_()**\n",
        "     Example:\n",
        "     arr1 = np.array([1, 2, 3])\n",
        "     arr2 = np.array([4, 5, 6])\n",
        "     mesh_result = np.ix_(arr1, arr2)\n",
        "     print(mesh_result)\n",
        "\n",
        "   - Efficiently joining arrays with **numpy.concatenate()**\n",
        "     Example:\n",
        "     arr1 = np.array([1, 2, 3])\n",
        "     arr2 = np.array([4, 5, 6])\n",
        "     concatenated_array = np.concatenate((arr1, arr2))\n",
        "     print(concatenated_array)\n",
        "\n",
        "(12) NumPy with Pandas\n",
        "\n",
        "   - Converting Pandas DataFrames to NumPy arrays with **pandas.DataFrame.to_numpy()**\n",
        "     Example:\n",
        "     import pandas as pd\n",
        "     data = {'Name': ['Alice', 'Bob', 'Charlie'], 'Age': [25, 30, 35]}\n",
        "     df = pd.DataFrame(data)\n",
        "     numpy_array = df.to_numpy()\n",
        "     print(numpy_array)\n",
        "\n",
        "   - Converting Pandas Series to NumPy arrays with **pandas.Series.to_numpy()**\n",
        "     Example:\n",
        "     import pandas as pd\n",
        "     data = [1, 2, 3, 4, 5]\n",
        "     series = pd.Series(data)\n",
        "     numpy_array = series.to_numpy()\n",
        "     print(numpy_array)\n",
        "\n",
        "   - Finding unique elements in arrays with **numpy.unique()**\n",
        "     Example:\n",
        "     arr = np.array([1, 2, 2, 3, 3, 3, 4, 4, 4, 4])\n",
        "     unique_elements = np.unique(arr)\n",
        "     print(unique_elements)\n",
        "\n",
        "(13) NumPy Best Practices\n",
        "\n",
        "   - Memory optimization techniques with NumPy arrays\n",
        "   - Vectorization for improved performance\n",
        "   - Efficient array operations for large datasets\n",
        "\n",
        "***\n"
      ]
    },
    {
      "cell_type": "code",
      "source": [],
      "metadata": {
        "id": "V-9ckK61vYKs"
      },
      "execution_count": null,
      "outputs": []
    }
  ]
}